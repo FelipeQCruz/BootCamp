{
 "cells": [
  {
   "cell_type": "markdown",
   "id": "0743ef23",
   "metadata": {},
   "source": [
    "# Aula 3: Storytelling e Visualização de dados"
   ]
  },
  {
   "cell_type": "markdown",
   "id": "bc20d3ba",
   "metadata": {},
   "source": [
    "## Objetivos"
   ]
  },
  {
   "cell_type": "markdown",
   "id": "efbf6e50",
   "metadata": {},
   "source": [
    "1. Aprender a estratégia para criar aprensentações eficientes.\n",
    "1. Perceber o poder do Power BI (e ferramentas similares) no tratamento de dados e criação de visualizações!"
   ]
  },
  {
   "cell_type": "code",
   "execution_count": null,
   "id": "fba7db7f",
   "metadata": {},
   "outputs": [],
   "source": []
  },
  {
   "cell_type": "markdown",
   "id": "b815275b",
   "metadata": {},
   "source": [
    "# O que é Data Storytelling?"
   ]
  },
  {
   "cell_type": "markdown",
   "id": "bad59034",
   "metadata": {},
   "source": [
    "*Data Storytelling é um conjunto de técnicas que orientam uma apresentação de informações e insights de dados para um determinado público.É a forma de contar a história dos seus dados. E essa história auxilia em manter a atenção e compreensão dos dados pelo público.*\n",
    "\n",
    "![img](https://miro.medium.com/max/2400/1*o-DWXnHOulsRH8yotQB8UQ.png)\n",
    "\n",
    "Na construção do **Data Storytelling** é importante além de contar história, saber analisar dados, dessa forma essa metodologia nasce de uma demanda da área de **Data Science**.\n",
    "\n",
    "## Como criar seu próprio Storytelling\n",
    "\n",
    "Perguntas que precisamos responder para guiar uma apresentação:\n",
    "\n",
    "+ **PÚBLICO-ALVO**\n",
    "\n",
    "*Quem têm interesse em visualizar melhor esses dados. Qual perfil. Qual cargo?*\n",
    "\n",
    "+ **ANÁLISE DOS DADOS**\n",
    "\n",
    "*Que informações podem ser extraídas desses dados. Os dados possuem credibilidade?*\n",
    "\n",
    "+ **INSIGHTS**\n",
    "\n",
    "*Como essas informações podem ajudar o público-alvo?*\n",
    "\n",
    "![img](https://miro.medium.com/max/2400/1*4iYMqdBL-8-f_-T8FUpBdg.png)\n",
    "\n",
    "Essas respostas nos ajudam a construir uma história que irá manter a atenção do público-alvo. \n",
    "\n",
    "## Desenvolvendo Storytelling \n",
    "\n",
    "Para o desenvolvimento dessa história podemos utilizar o conceito adaptado da *Jornada do Herói (Joseph Campbell, 1990)*:\n",
    "\n",
    "**1. Introdução:** o contexto geral das informações.\n",
    "\n",
    "**2. Conflito:** qual o problema e o objetivo que queremos alcançar.\n",
    "\n",
    "**3. Recusa do chamado:** o que está nos dificultando seguir em frente *(falta de dados, o problema parece muito grande, a meta parece muito distante)*.\n",
    "\n",
    "**4. Ajuda necessária:** Do que preciso. Quais dados nos ajudam a seguir em frente. Quem mais pode nos ajudar.\n",
    "\n",
    "**5. Superação:** Que informações posso apresentar para poder seguirmos em frente *(que outras informações facilitam atingir as metas)*.\n",
    "\n",
    "**6. Grande virada:** Alcançando os objetivos (1º insight).\n",
    "\n",
    "**7. Conclusão da trama:** o que precisa ser feito (2º insight).\n",
    "\n",
    "![img](https://miro.medium.com/max/2400/1*KjXtA9LEgdt7dBXHtOTwZQ.png)\n",
    "\n",
    "O processo de desenvolvimento de uma apresentação requer ajustes da história de acordo com o público-alvo e seus objetivos. Treinar e ensaiar, apresentando para outras pessoas também ajuda. E algo que é muito importante é a credibilidade das fontes de dados, que são um dos pontos essenciais para manter a atenção do seu público.\n",
    "\n",
    "## Storytelling conhecidos\n",
    "\n",
    "- [FiveThirtyEight.com](https://fivethirtyeight.com/)\n",
    "\n",
    "*FiveThirtyEight, às vezes representado como 538, é um site americano que se concentra em análises de pesquisas de opinião, política, economia e blogs de esportes.*\n",
    "\n",
    "![img](https://i2.wp.com/s3.amazonaws.com/s3.nmpoliticalreport.com/wp-content/uploads/2016/08/10210552/538-logo-fivethirtyeight.png?fit=642%2C401&ssl=1)\n",
    "\n",
    "- O heatmap da [Strava](https://www.strava.com/)\n",
    "\n",
    "*O Heatmap global mostra o \"calor\" gerado por atividades públicas e agregadas nos últimos dois anos. Visite strava.com/heatmap para ver o heatmap da sua área. O heatmap não é atualizado em tempo real, ele é uma fotografia de dados históricos.*\n",
    "\n",
    "![img](https://miro.medium.com/max/2400/1*k7lGAxkKyFp1Y2ncVuBhng.png)\n",
    "\n",
    "- [R2D3](http://www.r2d3.us/uma-introducao-visual-ao-aprendizado-de-maquina-1/)\n",
    "\n",
    "*O site ensina Machine Learning utilizando elementos visuais que, inclusive, possui versão traduzida para Português. Embora seja um tutorial, a história está lá sendo contada.*\n",
    "\n",
    "![img](https://miro.medium.com/max/2400/1*UhTsi8nKPlnjYZPaAxxXug.png)\n",
    "\n",
    "## Ferramentas para Storytelling\n",
    "\n",
    "+ **Jupyter Notebook**\n",
    "\n",
    "+ **RStudio**\n",
    "\n",
    "+ **Markdown**\n",
    "\n",
    "+ **Shorthand**\n",
    "\n",
    "+ **Datawrapper**\n",
    "\n",
    "\n",
    "### Informações Adicionais\n",
    "[Storytelling com dados da Cole Nussbaumer](https://www.amazon.com.br/Storytelling-com-Dados-Visualiza%C3%A7%C3%A3o-Profissionais/dp/8550804681/ref=asc_df_8550804681/?tag=googleshopp00-20&linkCode=df0&hvadid=379805395634&hvpos=&hvnetw=g&hvrand=11870350594378386849&hvpone=&hvptwo=&hvqmt=&hvdev=c&hvdvcmdl=&hvlocint=&hvlocphy=1001750&hvtargid=pla-812777209198&psc=1)\n",
    "\n",
    "[Blog da Cole Nussbaumer](https://www.storytellingwithdata.com/blog)"
   ]
  },
  {
   "cell_type": "code",
   "execution_count": null,
   "id": "1040e29b",
   "metadata": {},
   "outputs": [],
   "source": []
  },
  {
   "cell_type": "markdown",
   "id": "3b3e787c",
   "metadata": {},
   "source": [
    "# Visualização de dados"
   ]
  },
  {
   "cell_type": "markdown",
   "id": "379b0db6",
   "metadata": {},
   "source": [
    "**Para pensar:** Descreva em poucas palavras o que o Power BI (ou ferramnetas similares como o Tableau) faz."
   ]
  },
  {
   "cell_type": "markdown",
   "id": "29098c22",
   "metadata": {},
   "source": [
    "> Facilitador gráfico para construção de queries complexas!"
   ]
  },
  {
   "cell_type": "markdown",
   "id": "a5461964",
   "metadata": {},
   "source": [
    "## Roteiro"
   ]
  },
  {
   "cell_type": "markdown",
   "id": "90792c93",
   "metadata": {},
   "source": [
    "- ~[Instalar](https://powerbi.microsoft.com/pt-br/downloads/) Power BI~\n",
    "- Conectar aos dados\n",
    "        - csv / folder\n",
    "        - Database\n",
    "- Explorar dados\n",
    "        - Modelos\n",
    "\n",
    "- Criar 'visuals' (gráficos e/ou tabelas)\n",
    "        - importar templates\n",
    "- Modelagem\n",
    "        - Nova coluna\n",
    "        - Nova métrica\n",
    "- Filtros\n",
    "- Passeio por um exemplo real (e maluco)\n",
    "- Integração com Jupyter"
   ]
  },
  {
   "cell_type": "code",
   "execution_count": null,
   "id": "d3170f25",
   "metadata": {},
   "outputs": [],
   "source": []
  },
  {
   "cell_type": "markdown",
   "id": "8d0ac5ff",
   "metadata": {
    "heading_collapsed": true
   },
   "source": [
    "# Execício"
   ]
  },
  {
   "cell_type": "markdown",
   "id": "31fa239d",
   "metadata": {
    "hidden": true
   },
   "source": [
    "> 1. Crie uma query que dê o total de itens vendidos, bem como a soma dos valores unitários agrupados pelo nome do vendedor. \n",
    "> 2. Crie um filtro de período. \n",
    "> 3. Reproduza os resultados em Power BI. "
   ]
  },
  {
   "cell_type": "markdown",
   "id": "6e2e610e",
   "metadata": {
    "hidden": true
   },
   "source": [
    "### Resposta"
   ]
  },
  {
   "cell_type": "markdown",
   "id": "07fb0fa8",
   "metadata": {
    "hidden": true
   },
   "source": [
    "> "
   ]
  },
  {
   "cell_type": "code",
   "execution_count": null,
   "id": "713b953a",
   "metadata": {
    "hidden": true
   },
   "outputs": [],
   "source": []
  },
  {
   "cell_type": "markdown",
   "id": "7348a827",
   "metadata": {
    "heading_collapsed": true
   },
   "source": [
    "# Integração com jupyter notebook"
   ]
  },
  {
   "cell_type": "markdown",
   "id": "aba677b1",
   "metadata": {
    "hidden": true
   },
   "source": [
    "Para começar:\n",
    "- ~pip install jupyter_contrib_nbextensions (também libera outras featues legais)~\n",
    "- ~!jupyter contrib nbextensions install~\n",
    "- pip install powerbiclient"
   ]
  },
  {
   "cell_type": "code",
   "execution_count": 1,
   "id": "be399ecd",
   "metadata": {
    "ExecuteTime": {
     "end_time": "2021-08-17T19:36:10.914862Z",
     "start_time": "2021-08-17T19:36:06.707605Z"
    }
   },
   "outputs": [
    {
     "name": "stdout",
     "output_type": "stream",
     "text": [
      "Requirement already satisfied: powerbiclient in c:\\programdata\\anaconda3\\lib\\site-packages (1.0.0)\n",
      "Requirement already satisfied: requests>=2.25.1 in c:\\programdata\\anaconda3\\lib\\site-packages (from powerbiclient) (2.25.1)\n",
      "Requirement already satisfied: ipywidgets>=7.0.0 in c:\\programdata\\anaconda3\\lib\\site-packages (from powerbiclient) (7.6.3)\n",
      "Requirement already satisfied: msal>=1.8.0 in c:\\programdata\\anaconda3\\lib\\site-packages (from powerbiclient) (1.13.0)\n",
      "Requirement already satisfied: jupyter-ui-poll>=0.1.2 in c:\\programdata\\anaconda3\\lib\\site-packages (from powerbiclient) (0.1.2)\n",
      "Requirement already satisfied: jupyterlab-widgets>=1.0.0 in c:\\programdata\\anaconda3\\lib\\site-packages (from ipywidgets>=7.0.0->powerbiclient) (1.0.0)\n",
      "Requirement already satisfied: widgetsnbextension~=3.5.0 in c:\\programdata\\anaconda3\\lib\\site-packages (from ipywidgets>=7.0.0->powerbiclient) (3.5.1)\n",
      "Requirement already satisfied: ipykernel>=4.5.1 in c:\\programdata\\anaconda3\\lib\\site-packages (from ipywidgets>=7.0.0->powerbiclient) (5.3.4)\n",
      "Requirement already satisfied: ipython>=4.0.0 in c:\\programdata\\anaconda3\\lib\\site-packages (from ipywidgets>=7.0.0->powerbiclient) (7.22.0)\n",
      "Requirement already satisfied: traitlets>=4.3.1 in c:\\programdata\\anaconda3\\lib\\site-packages (from ipywidgets>=7.0.0->powerbiclient) (5.0.5)\n",
      "Requirement already satisfied: nbformat>=4.2.0 in c:\\programdata\\anaconda3\\lib\\site-packages (from ipywidgets>=7.0.0->powerbiclient) (5.1.3)\n",
      "Requirement already satisfied: tornado>=4.2 in c:\\programdata\\anaconda3\\lib\\site-packages (from ipykernel>=4.5.1->ipywidgets>=7.0.0->powerbiclient) (6.1)\n",
      "Requirement already satisfied: jupyter-client in c:\\programdata\\anaconda3\\lib\\site-packages (from ipykernel>=4.5.1->ipywidgets>=7.0.0->powerbiclient) (6.1.12)\n",
      "Requirement already satisfied: colorama in c:\\programdata\\anaconda3\\lib\\site-packages (from ipython>=4.0.0->ipywidgets>=7.0.0->powerbiclient) (0.4.4)\n",
      "Requirement already satisfied: setuptools>=18.5 in c:\\programdata\\anaconda3\\lib\\site-packages (from ipython>=4.0.0->ipywidgets>=7.0.0->powerbiclient) (52.0.0.post20210125)\n",
      "Requirement already satisfied: jedi>=0.16 in c:\\programdata\\anaconda3\\lib\\site-packages (from ipython>=4.0.0->ipywidgets>=7.0.0->powerbiclient) (0.17.2)\n",
      "Requirement already satisfied: prompt-toolkit!=3.0.0,!=3.0.1,<3.1.0,>=2.0.0 in c:\\programdata\\anaconda3\\lib\\site-packages (from ipython>=4.0.0->ipywidgets>=7.0.0->powerbiclient) (3.0.17)\n",
      "Requirement already satisfied: backcall in c:\\programdata\\anaconda3\\lib\\site-packages (from ipython>=4.0.0->ipywidgets>=7.0.0->powerbiclient) (0.2.0)\n",
      "Requirement already satisfied: pickleshare in c:\\programdata\\anaconda3\\lib\\site-packages (from ipython>=4.0.0->ipywidgets>=7.0.0->powerbiclient) (0.7.5)\n",
      "Requirement already satisfied: decorator in c:\\programdata\\anaconda3\\lib\\site-packages (from ipython>=4.0.0->ipywidgets>=7.0.0->powerbiclient) (5.0.6)\n",
      "Requirement already satisfied: pygments in c:\\programdata\\anaconda3\\lib\\site-packages (from ipython>=4.0.0->ipywidgets>=7.0.0->powerbiclient) (2.8.1)\n",
      "Requirement already satisfied: parso<0.8.0,>=0.7.0 in c:\\programdata\\anaconda3\\lib\\site-packages (from jedi>=0.16->ipython>=4.0.0->ipywidgets>=7.0.0->powerbiclient) (0.7.0)\n",
      "Requirement already satisfied: PyJWT[crypto]<3,>=1.0.0 in c:\\programdata\\anaconda3\\lib\\site-packages (from msal>=1.8.0->powerbiclient) (2.1.0)\n",
      "Requirement already satisfied: cryptography<4,>=0.6 in c:\\programdata\\anaconda3\\lib\\site-packages (from msal>=1.8.0->powerbiclient) (3.4.7)\n",
      "Requirement already satisfied: cffi>=1.12 in c:\\programdata\\anaconda3\\lib\\site-packages (from cryptography<4,>=0.6->msal>=1.8.0->powerbiclient) (1.14.5)\n",
      "Requirement already satisfied: pycparser in c:\\programdata\\anaconda3\\lib\\site-packages (from cffi>=1.12->cryptography<4,>=0.6->msal>=1.8.0->powerbiclient) (2.20)\n",
      "Requirement already satisfied: jupyter-core in c:\\programdata\\anaconda3\\lib\\site-packages (from nbformat>=4.2.0->ipywidgets>=7.0.0->powerbiclient) (4.7.1)\n",
      "Requirement already satisfied: ipython-genutils in c:\\programdata\\anaconda3\\lib\\site-packages (from nbformat>=4.2.0->ipywidgets>=7.0.0->powerbiclient) (0.2.0)\n",
      "Requirement already satisfied: jsonschema!=2.5.0,>=2.4 in c:\\programdata\\anaconda3\\lib\\site-packages (from nbformat>=4.2.0->ipywidgets>=7.0.0->powerbiclient) (3.2.0)\n",
      "Requirement already satisfied: six>=1.11.0 in c:\\programdata\\anaconda3\\lib\\site-packages (from jsonschema!=2.5.0,>=2.4->nbformat>=4.2.0->ipywidgets>=7.0.0->powerbiclient) (1.15.0)\n",
      "Requirement already satisfied: pyrsistent>=0.14.0 in c:\\programdata\\anaconda3\\lib\\site-packages (from jsonschema!=2.5.0,>=2.4->nbformat>=4.2.0->ipywidgets>=7.0.0->powerbiclient) (0.17.3)\n",
      "Requirement already satisfied: attrs>=17.4.0 in c:\\programdata\\anaconda3\\lib\\site-packages (from jsonschema!=2.5.0,>=2.4->nbformat>=4.2.0->ipywidgets>=7.0.0->powerbiclient) (20.3.0)\n",
      "Requirement already satisfied: wcwidth in c:\\programdata\\anaconda3\\lib\\site-packages (from prompt-toolkit!=3.0.0,!=3.0.1,<3.1.0,>=2.0.0->ipython>=4.0.0->ipywidgets>=7.0.0->powerbiclient) (0.2.5)\n",
      "Requirement already satisfied: chardet<5,>=3.0.2 in c:\\programdata\\anaconda3\\lib\\site-packages (from requests>=2.25.1->powerbiclient) (4.0.0)\n",
      "Requirement already satisfied: certifi>=2017.4.17 in c:\\programdata\\anaconda3\\lib\\site-packages (from requests>=2.25.1->powerbiclient) (2020.12.5)\n",
      "Requirement already satisfied: idna<3,>=2.5 in c:\\programdata\\anaconda3\\lib\\site-packages (from requests>=2.25.1->powerbiclient) (2.10)\n",
      "Requirement already satisfied: urllib3<1.27,>=1.21.1 in c:\\programdata\\anaconda3\\lib\\site-packages (from requests>=2.25.1->powerbiclient) (1.26.4)\n",
      "Requirement already satisfied: notebook>=4.4.1 in c:\\programdata\\anaconda3\\lib\\site-packages (from widgetsnbextension~=3.5.0->ipywidgets>=7.0.0->powerbiclient) (6.3.0)\n",
      "Requirement already satisfied: pyzmq>=17 in c:\\programdata\\anaconda3\\lib\\site-packages (from notebook>=4.4.1->widgetsnbextension~=3.5.0->ipywidgets>=7.0.0->powerbiclient) (20.0.0)\n",
      "Requirement already satisfied: terminado>=0.8.3 in c:\\programdata\\anaconda3\\lib\\site-packages (from notebook>=4.4.1->widgetsnbextension~=3.5.0->ipywidgets>=7.0.0->powerbiclient) (0.9.4)\n",
      "Requirement already satisfied: jinja2 in c:\\programdata\\anaconda3\\lib\\site-packages (from notebook>=4.4.1->widgetsnbextension~=3.5.0->ipywidgets>=7.0.0->powerbiclient) (2.11.3)\n",
      "Requirement already satisfied: argon2-cffi in c:\\programdata\\anaconda3\\lib\\site-packages (from notebook>=4.4.1->widgetsnbextension~=3.5.0->ipywidgets>=7.0.0->powerbiclient) (20.1.0)\n",
      "Requirement already satisfied: prometheus-client in c:\\programdata\\anaconda3\\lib\\site-packages (from notebook>=4.4.1->widgetsnbextension~=3.5.0->ipywidgets>=7.0.0->powerbiclient) (0.10.1)\n",
      "Requirement already satisfied: Send2Trash>=1.5.0 in c:\\programdata\\anaconda3\\lib\\site-packages (from notebook>=4.4.1->widgetsnbextension~=3.5.0->ipywidgets>=7.0.0->powerbiclient) (1.5.0)\n",
      "Requirement already satisfied: nbconvert in c:\\programdata\\anaconda3\\lib\\site-packages (from notebook>=4.4.1->widgetsnbextension~=3.5.0->ipywidgets>=7.0.0->powerbiclient) (6.0.7)\n",
      "Requirement already satisfied: python-dateutil>=2.1 in c:\\programdata\\anaconda3\\lib\\site-packages (from jupyter-client->ipykernel>=4.5.1->ipywidgets>=7.0.0->powerbiclient) (2.8.1)\n",
      "Requirement already satisfied: pywin32>=1.0 in c:\\programdata\\anaconda3\\lib\\site-packages (from jupyter-core->nbformat>=4.2.0->ipywidgets>=7.0.0->powerbiclient) (227)\n",
      "Requirement already satisfied: pywinpty>=0.5 in c:\\programdata\\anaconda3\\lib\\site-packages (from terminado>=0.8.3->notebook>=4.4.1->widgetsnbextension~=3.5.0->ipywidgets>=7.0.0->powerbiclient) (0.5.7)\n",
      "Requirement already satisfied: MarkupSafe>=0.23 in c:\\programdata\\anaconda3\\lib\\site-packages (from jinja2->notebook>=4.4.1->widgetsnbextension~=3.5.0->ipywidgets>=7.0.0->powerbiclient) (1.1.1)\n",
      "Requirement already satisfied: nbclient<0.6.0,>=0.5.0 in c:\\programdata\\anaconda3\\lib\\site-packages (from nbconvert->notebook>=4.4.1->widgetsnbextension~=3.5.0->ipywidgets>=7.0.0->powerbiclient) (0.5.3)\n",
      "Requirement already satisfied: jupyterlab-pygments in c:\\programdata\\anaconda3\\lib\\site-packages (from nbconvert->notebook>=4.4.1->widgetsnbextension~=3.5.0->ipywidgets>=7.0.0->powerbiclient) (0.1.2)\n",
      "Requirement already satisfied: bleach in c:\\programdata\\anaconda3\\lib\\site-packages (from nbconvert->notebook>=4.4.1->widgetsnbextension~=3.5.0->ipywidgets>=7.0.0->powerbiclient) (3.3.0)\n",
      "Requirement already satisfied: defusedxml in c:\\programdata\\anaconda3\\lib\\site-packages (from nbconvert->notebook>=4.4.1->widgetsnbextension~=3.5.0->ipywidgets>=7.0.0->powerbiclient) (0.7.1)\n",
      "Requirement already satisfied: mistune<2,>=0.8.1 in c:\\programdata\\anaconda3\\lib\\site-packages (from nbconvert->notebook>=4.4.1->widgetsnbextension~=3.5.0->ipywidgets>=7.0.0->powerbiclient) (0.8.4)\n",
      "Requirement already satisfied: testpath in c:\\programdata\\anaconda3\\lib\\site-packages (from nbconvert->notebook>=4.4.1->widgetsnbextension~=3.5.0->ipywidgets>=7.0.0->powerbiclient) (0.4.4)\n",
      "Requirement already satisfied: pandocfilters>=1.4.1 in c:\\programdata\\anaconda3\\lib\\site-packages (from nbconvert->notebook>=4.4.1->widgetsnbextension~=3.5.0->ipywidgets>=7.0.0->powerbiclient) (1.4.3)\n",
      "Requirement already satisfied: entrypoints>=0.2.2 in c:\\programdata\\anaconda3\\lib\\site-packages (from nbconvert->notebook>=4.4.1->widgetsnbextension~=3.5.0->ipywidgets>=7.0.0->powerbiclient) (0.3)\n",
      "Requirement already satisfied: nest-asyncio in c:\\programdata\\anaconda3\\lib\\site-packages (from nbclient<0.6.0,>=0.5.0->nbconvert->notebook>=4.4.1->widgetsnbextension~=3.5.0->ipywidgets>=7.0.0->powerbiclient) (1.5.1)\n",
      "Requirement already satisfied: async-generator in c:\\programdata\\anaconda3\\lib\\site-packages (from nbclient<0.6.0,>=0.5.0->nbconvert->notebook>=4.4.1->widgetsnbextension~=3.5.0->ipywidgets>=7.0.0->powerbiclient) (1.10)\n",
      "Requirement already satisfied: packaging in c:\\programdata\\anaconda3\\lib\\site-packages (from bleach->nbconvert->notebook>=4.4.1->widgetsnbextension~=3.5.0->ipywidgets>=7.0.0->powerbiclient) (20.9)\n",
      "Requirement already satisfied: webencodings in c:\\programdata\\anaconda3\\lib\\site-packages (from bleach->nbconvert->notebook>=4.4.1->widgetsnbextension~=3.5.0->ipywidgets>=7.0.0->powerbiclient) (0.5.1)\n",
      "Requirement already satisfied: pyparsing>=2.0.2 in c:\\programdata\\anaconda3\\lib\\site-packages (from packaging->bleach->nbconvert->notebook>=4.4.1->widgetsnbextension~=3.5.0->ipywidgets>=7.0.0->powerbiclient) (2.4.7)\n",
      "Note: you may need to restart the kernel to use updated packages.\n"
     ]
    },
    {
     "name": "stderr",
     "output_type": "stream",
     "text": [
      "WARNING: Ignoring invalid distribution -p (c:\\programdata\\anaconda3\\lib\\site-packages)\n",
      "WARNING: Ignoring invalid distribution -1p (c:\\programdata\\anaconda3\\lib\\site-packages)\n",
      "WARNING: Ignoring invalid distribution -p (c:\\programdata\\anaconda3\\lib\\site-packages)\n",
      "WARNING: Ignoring invalid distribution -0p (c:\\programdata\\anaconda3\\lib\\site-packages)\n",
      "WARNING: Ignoring invalid distribution -ip (c:\\programdata\\anaconda3\\lib\\site-packages)\n",
      "WARNING: Ignoring invalid distribution - (c:\\programdata\\anaconda3\\lib\\site-packages)\n",
      "WARNING: Ignoring invalid distribution -p (c:\\programdata\\anaconda3\\lib\\site-packages)\n",
      "WARNING: Ignoring invalid distribution -1p (c:\\programdata\\anaconda3\\lib\\site-packages)\n",
      "WARNING: Ignoring invalid distribution -p (c:\\programdata\\anaconda3\\lib\\site-packages)\n",
      "WARNING: Ignoring invalid distribution -0p (c:\\programdata\\anaconda3\\lib\\site-packages)\n",
      "WARNING: Ignoring invalid distribution -ip (c:\\programdata\\anaconda3\\lib\\site-packages)\n",
      "WARNING: Ignoring invalid distribution - (c:\\programdata\\anaconda3\\lib\\site-packages)\n",
      "WARNING: Ignoring invalid distribution -p (c:\\programdata\\anaconda3\\lib\\site-packages)\n",
      "WARNING: Ignoring invalid distribution -1p (c:\\programdata\\anaconda3\\lib\\site-packages)\n",
      "WARNING: Ignoring invalid distribution -p (c:\\programdata\\anaconda3\\lib\\site-packages)\n",
      "WARNING: Ignoring invalid distribution -0p (c:\\programdata\\anaconda3\\lib\\site-packages)\n",
      "WARNING: Ignoring invalid distribution -ip (c:\\programdata\\anaconda3\\lib\\site-packages)\n",
      "WARNING: Ignoring invalid distribution - (c:\\programdata\\anaconda3\\lib\\site-packages)\n",
      "WARNING: Ignoring invalid distribution -p (c:\\programdata\\anaconda3\\lib\\site-packages)\n",
      "WARNING: Ignoring invalid distribution -1p (c:\\programdata\\anaconda3\\lib\\site-packages)\n",
      "WARNING: Ignoring invalid distribution -p (c:\\programdata\\anaconda3\\lib\\site-packages)\n",
      "WARNING: Ignoring invalid distribution -0p (c:\\programdata\\anaconda3\\lib\\site-packages)\n",
      "WARNING: Ignoring invalid distribution -ip (c:\\programdata\\anaconda3\\lib\\site-packages)\n",
      "WARNING: Ignoring invalid distribution - (c:\\programdata\\anaconda3\\lib\\site-packages)\n",
      "WARNING: Ignoring invalid distribution -p (c:\\programdata\\anaconda3\\lib\\site-packages)\n",
      "WARNING: Ignoring invalid distribution -1p (c:\\programdata\\anaconda3\\lib\\site-packages)\n",
      "WARNING: Ignoring invalid distribution -p (c:\\programdata\\anaconda3\\lib\\site-packages)\n",
      "WARNING: Ignoring invalid distribution -0p (c:\\programdata\\anaconda3\\lib\\site-packages)\n",
      "WARNING: Ignoring invalid distribution -ip (c:\\programdata\\anaconda3\\lib\\site-packages)\n",
      "WARNING: Ignoring invalid distribution - (c:\\programdata\\anaconda3\\lib\\site-packages)\n",
      "WARNING: Ignoring invalid distribution -p (c:\\programdata\\anaconda3\\lib\\site-packages)\n",
      "WARNING: Ignoring invalid distribution -1p (c:\\programdata\\anaconda3\\lib\\site-packages)\n",
      "WARNING: Ignoring invalid distribution -p (c:\\programdata\\anaconda3\\lib\\site-packages)\n",
      "WARNING: Ignoring invalid distribution -0p (c:\\programdata\\anaconda3\\lib\\site-packages)\n",
      "WARNING: Ignoring invalid distribution -ip (c:\\programdata\\anaconda3\\lib\\site-packages)\n",
      "WARNING: Ignoring invalid distribution - (c:\\programdata\\anaconda3\\lib\\site-packages)\n",
      "WARNING: You are using pip version 21.2.3; however, version 21.2.4 is available.\n",
      "You should consider upgrading via the 'C:\\ProgramData\\Anaconda3\\python.exe -m pip install --upgrade pip' command.\n"
     ]
    }
   ],
   "source": [
    "pip install powerbiclient"
   ]
  },
  {
   "cell_type": "markdown",
   "id": "46216f39",
   "metadata": {
    "hidden": true
   },
   "source": [
    "## Conectando ao Power BI"
   ]
  },
  {
   "cell_type": "code",
   "execution_count": 2,
   "id": "aef19be0",
   "metadata": {
    "ExecuteTime": {
     "end_time": "2021-08-17T19:36:11.530764Z",
     "start_time": "2021-08-17T19:36:10.917854Z"
    },
    "hidden": true
   },
   "outputs": [],
   "source": [
    "from powerbiclient import Report, models"
   ]
  },
  {
   "cell_type": "code",
   "execution_count": 3,
   "id": "0bde91e2",
   "metadata": {
    "ExecuteTime": {
     "end_time": "2021-08-17T19:36:12.274298Z",
     "start_time": "2021-08-17T19:36:11.532759Z"
    },
    "hidden": true
   },
   "outputs": [],
   "source": [
    "import requests\n",
    "res = requests.get('https://playgroundbe-bck-1.azurewebsites.net/Reports/SampleReport')\n",
    "\n",
    "access_token = res.json()['EmbedToken']['Token']\n",
    "embed_url = res.json()['EmbedUrl']"
   ]
  },
  {
   "cell_type": "code",
   "execution_count": 4,
   "id": "936792a0",
   "metadata": {
    "ExecuteTime": {
     "end_time": "2021-08-17T19:36:12.306212Z",
     "start_time": "2021-08-17T19:36:12.276293Z"
    },
    "hidden": true
   },
   "outputs": [
    {
     "data": {
      "application/vnd.jupyter.widget-view+json": {
       "model_id": "0e1357fdb08d4cdf8ce00d21cea216fa",
       "version_major": 2,
       "version_minor": 0
      },
      "text/plain": [
       "Report()"
      ]
     },
     "metadata": {},
     "output_type": "display_data"
    }
   ],
   "source": [
    "report=Report(access_token=access_token,embed_url=embed_url, token_type=models.TokenType.EMBED.value)\n",
    "report"
   ]
  },
  {
   "cell_type": "markdown",
   "id": "3a48006b",
   "metadata": {
    "hidden": true
   },
   "source": [
    "## Veja [aqui](https://www.analyticsvidhya.com/blog/2021/06/embed-powerbi-report-in-jupyter-notebook-using-powerbiclient/) como acessar Reports que você publicou!"
   ]
  },
  {
   "cell_type": "markdown",
   "id": "0f683c9c",
   "metadata": {
    "heading_collapsed": true
   },
   "source": [
    "# Exercícios"
   ]
  },
  {
   "cell_type": "markdown",
   "id": "84098135",
   "metadata": {
    "hidden": true
   },
   "source": [
    "Enviar para o email filipe.furlan@letscode.com.br até **2021/08/24** um arquivo do power bi (`785_decision_firstname_lastname_aula03.pbix`) com a resolução dos exercicios abaixo.\n",
    "\n",
    "Cada aba do arquivo deve conter a resolução de um exercício com todos seus subitens."
   ]
  },
  {
   "cell_type": "markdown",
   "id": "fa8f7756",
   "metadata": {
    "hidden": true
   },
   "source": [
    "1. Da tabela territories:\n",
    "    1. Quantos territórios temos ao todo?\n",
    "1. Selecione da tabela empolyees:\n",
    "    1. Quantos empregados reportam para cada chefe?\n",
    "    1. Quantos empregados em cada cidade?\n",
    "1. Selecione da tabela order_details:\n",
    "    1. Quantas unidades forem vendidas por ordem?\n",
    "    1. Qual o valor total de cada ordem?\n",
    "    1. Qual o produto mais vendido?\n",
    "    1. Selecione ordens que tenham menos de três produtos.\n",
    "1. Selecione da tabels orders:\n",
    "    1. Qual cliente realizou mais ordens?\n",
    "    1. Qual cliente realizou menos ordens?\n",
    "    1. Quantas ordems foram feitas por mês?\n",
    "    1. Qual o tempo médio de envio por cliente?\n",
    "    1. Faça uma lista ordenada dos países que receberam mais ordens.\n",
    "    1. Qual o tempo máximo de envio por cidade?\n",
    "    1. Quanto cada cliente gastou em frete?\n",
    "    1. Qual o custo total de cada tipo de frete?\n",
    "    1. Quanto cada cliente gastou em casa tipo de frete?\n",
    "1. Selecione da tabela suppliers:\n",
    "    1. Uma lista com os países que mais tem fornecedores.\n",
    "1. Selecione da tabela products:\n",
    "    1. Uma lista com o número de produtos por fornecedore.\n",
    "    1. Oderne a lista acima em ordem decrescente.\n",
    "    1. Uma lista com o número de produtos por fornecedors por categoria.\n",
    "    1. Quantos produtos foram descontinuados.\n",
    "    1. Fornecedores com estoque baixo (soma de unidades < 20).\n",
    "    1. A média do valor total de cada categória.\n",
    "    1. O valor do produto mais barato, mais caro e a média dos valores unitários por fornecedor e categoria. \n",
    "1. Uma lista dos 10 clientes que realizaram o maior número de pedidos, bem como o número de pedidos de cada, ordenados em ordem decrescente de nº de pedidos. \n",
    "1. Uma tabela com o valor médio das vendas em cada mês, ordenando do mês com mais vendas ao mês com menos vendas.\n",
    "1. Qual a média dos valores por pedido de cada vendedor?\n",
    "1. Quantos vendedores tiveram menos de 300 pedidos e média superior a 700 por pedido?\n",
    "1. Criar uma tabela com: `classe|numero_de_pedidos|valor_total|media_de_valores`  \n",
    "    Dica: Classificar as ordens de acordo com o preço total (incluindo frete) em:\n",
    "\n",
    "    - Gold: valor_total >= 5.000\n",
    "    - Silver: 1.000 <= valor_total < 5.000\n",
    "    - Bronze: valor_total < 1000\n",
    "1. Quantas ordens de compra há para cada categoria de produto?"
   ]
  },
  {
   "cell_type": "code",
   "execution_count": null,
   "id": "b4c05f8d",
   "metadata": {
    "hidden": true
   },
   "outputs": [],
   "source": []
  }
 ],
 "metadata": {
  "kernelspec": {
   "display_name": "Python 3",
   "language": "python",
   "name": "python3"
  },
  "language_info": {
   "codemirror_mode": {
    "name": "ipython",
    "version": 3
   },
   "file_extension": ".py",
   "mimetype": "text/x-python",
   "name": "python",
   "nbconvert_exporter": "python",
   "pygments_lexer": "ipython3",
   "version": "3.8.8"
  },
  "toc": {
   "base_numbering": 1,
   "nav_menu": {},
   "number_sections": true,
   "sideBar": true,
   "skip_h1_title": false,
   "title_cell": "Table of Contents",
   "title_sidebar": "Contents",
   "toc_cell": false,
   "toc_position": {
    "height": "calc(100% - 180px)",
    "left": "10px",
    "top": "150px",
    "width": "257px"
   },
   "toc_section_display": true,
   "toc_window_display": true
  },
  "varInspector": {
   "cols": {
    "lenName": 16,
    "lenType": 16,
    "lenVar": 40
   },
   "kernels_config": {
    "python": {
     "delete_cmd_postfix": "",
     "delete_cmd_prefix": "del ",
     "library": "var_list.py",
     "varRefreshCmd": "print(var_dic_list())"
    },
    "r": {
     "delete_cmd_postfix": ") ",
     "delete_cmd_prefix": "rm(",
     "library": "var_list.r",
     "varRefreshCmd": "cat(var_dic_list()) "
    }
   },
   "types_to_exclude": [
    "module",
    "function",
    "builtin_function_or_method",
    "instance",
    "_Feature"
   ],
   "window_display": false
  }
 },
 "nbformat": 4,
 "nbformat_minor": 5
}
