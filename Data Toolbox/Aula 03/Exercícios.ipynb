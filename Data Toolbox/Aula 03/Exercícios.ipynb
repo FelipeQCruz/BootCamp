{
 "cells": [
  {
   "cell_type": "markdown",
   "id": "844ce6ef",
   "metadata": {},
   "source": [
    "Crie uma Series com os índices registrados pelo TIOBE Index para as top 10 linguagens de programação. Os índices da Series devem ser os nomes das linguagens, e os valores devem ser as taxas de popularidade de cada respectiva linguagem de programação. Em seguida, utilize os métodos da Series para:\n",
    "\n",
    "Exibir os cinco primeiros valores da Series\n",
    "Exibir os cinco últimos valores da Series"
   ]
  },
  {
   "cell_type": "code",
   "execution_count": 42,
   "id": "7d7a6998",
   "metadata": {
    "ExecuteTime": {
     "end_time": "2021-08-01T18:41:33.589490Z",
     "start_time": "2021-08-01T18:41:33.570312Z"
    }
   },
   "outputs": [
    {
     "name": "stdout",
     "output_type": "stream",
     "text": [
      "C                    0.1162\n",
      "Java                 0.1117\n",
      "Python               0.1095\n",
      "C++                  0.0801\n",
      "C#                   0.0483\n",
      "Visual Basic         0.0450\n",
      "JavaScript           0.0271\n",
      "PHP                  0.0258\n",
      "Assembly language    0.0240\n",
      "SQL                  0.0153\n",
      "dtype: float64\n",
      "\n",
      "Primeiros 5 valores: \n",
      "C         0.1162\n",
      "Java      0.1117\n",
      "Python    0.1095\n",
      "C++       0.0801\n",
      "C#        0.0483\n",
      "dtype: float64\n",
      "\n",
      "Últimos 5 valores: \n",
      "Visual Basic         0.0450\n",
      "JavaScript           0.0271\n",
      "PHP                  0.0258\n",
      "Assembly language    0.0240\n",
      "SQL                  0.0153\n",
      "dtype: float64\n",
      "\n"
     ]
    }
   ],
   "source": [
    "import pandas as pd\n",
    "\n",
    "top10 = pd.Series(data=[0.1162, 0.1117, 0.1095, 0.0801, 0.0483, 0.045, 0.0271, 0.0258, 0.024, 0.0153], \n",
    "                   index=['C', 'Java', 'Python', 'C++', 'C#', 'Visual Basic', 'JavaScript', 'PHP', 'Assembly language', 'SQL'])\n",
    "\n",
    "print(f'{top10}\\n')\n",
    "print(f'Primeiros 5 valores: \\n{top10.head(5)}\\n')\n",
    "print(f'Últimos 5 valores: \\n{top10.tail(5)}\\n')\n",
    "\n"
   ]
  },
  {
   "cell_type": "markdown",
   "id": "5608bccd",
   "metadata": {},
   "source": [
    "Crie uma Series com os 11 primeiros termos da sequência de Fibonacci. Utilize letras (em ordem alfabética) como os índices da Series. Em seguida, obtenha apenas aqueles elementos que forem superiores a 10 e inferiores a 50.\n",
    "\n",
    "Sequência de Fibonacci: 0, 1, 1, 2, 3, 5, 8, 13, 21, 34, 55..."
   ]
  },
  {
   "cell_type": "code",
   "execution_count": 9,
   "id": "7eb3482f",
   "metadata": {
    "ExecuteTime": {
     "end_time": "2021-08-01T17:54:12.677239Z",
     "start_time": "2021-08-01T17:54:12.655767Z"
    }
   },
   "outputs": [
    {
     "name": "stdout",
     "output_type": "stream",
     "text": [
      "A     0\n",
      "B     1\n",
      "C     1\n",
      "D     2\n",
      "E     3\n",
      "F     5\n",
      "G     8\n",
      "H    13\n",
      "I    21\n",
      "J    34\n",
      "K    55\n",
      "dtype: int64\n",
      "\n",
      "Superiores a 10, inferiores a 50: \n",
      "H    13\n",
      "I    21\n",
      "J    34\n",
      "dtype: int64\n",
      "\n"
     ]
    }
   ],
   "source": [
    "import pandas as pd\n",
    "\n",
    "fibonacci = pd.Series(data=[0, 1, 1, 2, 3, 5, 8, 13, 21, 34, 55], \n",
    "                   index=['A', 'B', 'C', 'D', 'E', 'F', 'G', 'H', 'I', 'J', 'K'])\n",
    "\n",
    "print(f'{fibonacci}\\n')\n",
    "print(f'Superiores a 10, inferiores a 50: \\n{fibonacci[(fibonacci > 10) & (fibonacci < 50)]}\\n')"
   ]
  },
  {
   "cell_type": "markdown",
   "id": "6144fe71",
   "metadata": {},
   "source": [
    "Crie um programa para calcular a média e o desvio padrão de uma series. Observe o exemplo abaixo:\n",
    "\n",
    "Series\n",
    "\n",
    "0 1\n",
    "1 2\n",
    "2 3\n",
    "3 4\n",
    "4 5\n",
    "5 6\n",
    "6 7\n",
    "7 8\n",
    "8 9\n",
    "9 5\n",
    "10 3\n",
    "dtype: int64\n",
    "Saída\n",
    "\n",
    "Média: 4.818181818181818\n",
    "Desvio Padrão: 2.522624895547565"
   ]
  },
  {
   "cell_type": "code",
   "execution_count": 16,
   "id": "1ab3b3df",
   "metadata": {
    "ExecuteTime": {
     "end_time": "2021-08-01T18:20:22.932099Z",
     "start_time": "2021-08-01T18:20:22.925120Z"
    }
   },
   "outputs": [
    {
     "name": "stdout",
     "output_type": "stream",
     "text": [
      "0     1\n",
      "1     2\n",
      "2     3\n",
      "3     4\n",
      "4     5\n",
      "5     6\n",
      "6     7\n",
      "7     8\n",
      "8     9\n",
      "9     5\n",
      "10    3\n",
      "dtype: int64\n",
      "\n",
      "Média: \n",
      "4.818181818181818\n",
      "\n",
      "Desvio padrão: \n",
      "2.522624895547565\n",
      "\n"
     ]
    }
   ],
   "source": [
    "import pandas as pd\n",
    "\n",
    "serie = pd.Series(data=[1, 2, 3, 4, 5, 6, 7, 8, 9, 5, 3])\n",
    "\n",
    "print(f'{serie}\\n')\n",
    "print(f'Média: \\n{serie.mean()}\\n')\n",
    "print(f'Desvio padrão: \\n{serie.std()}\\n')"
   ]
  },
  {
   "cell_type": "markdown",
   "id": "eb2a896d",
   "metadata": {},
   "source": [
    "Crie um array com 20 números aleatórios inteiros entre 1 e 5. Em seguida, calcule a frequência (percentual) de cada valor específico da Series."
   ]
  },
  {
   "cell_type": "code",
   "execution_count": 29,
   "id": "ceff89fc",
   "metadata": {
    "ExecuteTime": {
     "end_time": "2021-08-01T18:28:07.178999Z",
     "start_time": "2021-08-01T18:28:07.164039Z"
    }
   },
   "outputs": [
    {
     "name": "stdout",
     "output_type": "stream",
     "text": [
      "Array: \n",
      "<IntegerArray>\n",
      "[4, 4, 1, 2, 1, 1, 1, 0, 0, 4, 3, 1, 0, 4, 4, 0, 2, 1, 1, 1]\n",
      "Length: 20, dtype: Int32\n",
      "\n",
      "Frequência (%): \n",
      "1    40.0\n",
      "4    25.0\n",
      "0    20.0\n",
      "2    10.0\n",
      "3     5.0\n",
      "dtype: Float64\n",
      "\n"
     ]
    }
   ],
   "source": [
    "import numpy as np\n",
    "\n",
    "q4 = np.random.randint(0, 5, 20)\n",
    "\n",
    "q4 = pd.array(q4)\n",
    "\n",
    "print(f'Array: \\n{q4}\\n')\n",
    "\n",
    "freq = q4.value_counts() / len(q4) * 100\n",
    "\n",
    "print(f'Frequência (%): \\n{freq}\\n')"
   ]
  },
  {
   "cell_type": "markdown",
   "id": "813ca8b4",
   "metadata": {},
   "source": [
    "Crie um programa para mostrar qual é o valor mais frequente de uma series e, em seguida, substitua todos os demais valores dela por \"Outro valor\"."
   ]
  },
  {
   "cell_type": "code",
   "execution_count": 10,
   "id": "8768744e",
   "metadata": {
    "ExecuteTime": {
     "end_time": "2021-08-01T19:41:03.932299Z",
     "start_time": "2021-08-01T19:41:03.915376Z"
    }
   },
   "outputs": [
    {
     "name": "stdout",
     "output_type": "stream",
     "text": [
      "Série: \n",
      "0     0\n",
      "1     4\n",
      "2     2\n",
      "3     2\n",
      "4     2\n",
      "5     4\n",
      "6     2\n",
      "7     0\n",
      "8     2\n",
      "9     0\n",
      "10    3\n",
      "11    2\n",
      "12    1\n",
      "13    0\n",
      "14    1\n",
      "15    0\n",
      "16    3\n",
      "17    0\n",
      "18    2\n",
      "19    1\n",
      "dtype: int32\n",
      "\n",
      "Frequência: \n",
      "2    7\n",
      "0    6\n",
      "1    3\n",
      "3    2\n",
      "4    2\n",
      "dtype: int64\n",
      "\n",
      "Maior frequência: \n",
      "2\n",
      "\n",
      "Nova serie: \n",
      "0     Outro valor\n",
      "1     Outro valor\n",
      "2               2\n",
      "3               2\n",
      "4               2\n",
      "5     Outro valor\n",
      "6               2\n",
      "7     Outro valor\n",
      "8               2\n",
      "9     Outro valor\n",
      "10    Outro valor\n",
      "11              2\n",
      "12    Outro valor\n",
      "13    Outro valor\n",
      "14    Outro valor\n",
      "15    Outro valor\n",
      "16    Outro valor\n",
      "17    Outro valor\n",
      "18              2\n",
      "19    Outro valor\n",
      "dtype: object\n",
      "\n"
     ]
    }
   ],
   "source": [
    "import pandas as pd\n",
    "import numpy as np\n",
    "\n",
    "q5 = np.random.randint(0, 5, 20)\n",
    "\n",
    "q5 = pd.Series(q5)\n",
    "\n",
    "print(f'Série: \\n{q5}\\n')\n",
    "\n",
    "freq = q5.value_counts()\n",
    "\n",
    "print(f'Frequência: \\n{freq}\\n')\n",
    "\n",
    "maisFreq = freq.idxmax()\n",
    "\n",
    "print(f'Maior frequência: \\n{maisFreq}\\n')\n",
    "\n",
    "q5.loc[(q5 != maisFreq)] = 'Outro valor'\n",
    "\n",
    "print(f'Nova serie: \\n{q5}\\n')"
   ]
  },
  {
   "cell_type": "markdown",
   "id": "70a7aa92",
   "metadata": {},
   "source": [
    "Crie um array com números entre 1 e 10, com passo 1. Em seguida, embaralhe esses números utilizando o método shuffle do Numpy. Crie uma lista com o fatorial desses números, nessa nova ordem (após o embaralhamento). Por fim, crie uma Series cujo os valores são os fatoriais (embaralhados) e os índices são os números associados ao fatorial.\n",
    "\n",
    "Exemplo de saída\n",
    "\n",
    "3           6\n",
    "5         120\n",
    "1           1\n",
    "9      362880\n",
    "4          24\n",
    "7        5040\n",
    "10    3628800\n",
    "2           2\n",
    "6         720\n",
    "8       40320\n",
    "dtype: int64"
   ]
  },
  {
   "cell_type": "code",
   "execution_count": 34,
   "id": "e24b7119",
   "metadata": {
    "ExecuteTime": {
     "end_time": "2021-08-01T19:55:49.991460Z",
     "start_time": "2021-08-01T19:55:49.977497Z"
    }
   },
   "outputs": [
    {
     "name": "stdout",
     "output_type": "stream",
     "text": [
      "[ 2  9  5 10  3  7  8  6  1  4]\n",
      "2           2\n",
      "9      362880\n",
      "5         120\n",
      "10    3628800\n",
      "3           6\n",
      "7        5040\n",
      "8       40320\n",
      "6         720\n",
      "1           1\n",
      "4          24\n",
      "dtype: int64\n"
     ]
    }
   ],
   "source": [
    "q6 = np.arange(1, 11)\n",
    "np.random.shuffle(q6)\n",
    "print(q6)\n",
    "\n",
    "def fatorial (n):\n",
    "    f = n\n",
    "    i = n\n",
    "    while i > 1:\n",
    "        i = i - 1\n",
    "        f = f*i\n",
    "    return f\n",
    "\n",
    "lista = [fatorial(q6[0]), fatorial(q6[1]), fatorial(q6[2]), fatorial(q6[3]), fatorial(q6[4]), fatorial(q6[5]), fatorial(q6[6]), fatorial(q6[7]), fatorial(q6[8]), fatorial(q6[9])]\n",
    "\n",
    "q6 = pd.Series(data=lista, \n",
    "                   index=q6)\n",
    "\n",
    "print(q6)"
   ]
  }
 ],
 "metadata": {
  "kernelspec": {
   "display_name": "Python 3",
   "language": "python",
   "name": "python3"
  },
  "language_info": {
   "codemirror_mode": {
    "name": "ipython",
    "version": 3
   },
   "file_extension": ".py",
   "mimetype": "text/x-python",
   "name": "python",
   "nbconvert_exporter": "python",
   "pygments_lexer": "ipython3",
   "version": "3.8.8"
  },
  "toc": {
   "base_numbering": 1,
   "nav_menu": {},
   "number_sections": true,
   "sideBar": true,
   "skip_h1_title": true,
   "title_cell": "Table of Contents",
   "title_sidebar": "Contents",
   "toc_cell": false,
   "toc_position": {
    "height": "calc(100% - 180px)",
    "left": "10px",
    "top": "150px",
    "width": "165px"
   },
   "toc_section_display": true,
   "toc_window_display": true
  }
 },
 "nbformat": 4,
 "nbformat_minor": 5
}
