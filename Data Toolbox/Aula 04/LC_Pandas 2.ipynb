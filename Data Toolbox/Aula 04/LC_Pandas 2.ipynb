{
 "cells": [
  {
   "cell_type": "code",
   "execution_count": 1,
   "id": "69cb7981",
   "metadata": {
    "ExecuteTime": {
     "end_time": "2021-08-08T03:57:36.747455Z",
     "start_time": "2021-08-08T03:57:36.230010Z"
    }
   },
   "outputs": [],
   "source": [
    "import numpy as np\n",
    "import pandas as pd"
   ]
  },
  {
   "cell_type": "markdown",
   "id": "b20011ee",
   "metadata": {},
   "source": [
    "O arquivo avocado.csv consiste em um dataset que contém dados sobre vendas de abacates (avocado, em inglês) em diversas regiões dos Estados Unidos. Essa dataset contém as seguintes colunas:\n",
    "\n",
    "Date - a data da observação\n",
    "AveragePrice - o preço médio de um único abacate\n",
    "year - o ano\n",
    "region - a cidade ou região da observação\n",
    "Total Volume - volume total de abacates vendidos\n",
    "Além das informações acima, contidas no arquivo avocado.csv, o tipo do abacate (convencional ou orgânico) também seria uma informação importante para a sua análise. Suponhamos que você conseguiu essas informações para cada uma das observações do arquivo avocado.csv, na mesma ordem, e salvou-as no arquivo avocado_type.csv. Portanto, tudo o que você precisa é juntar esses dois arquivos em um mesmo DataFrame. E, em seguida, salve-o em um arquivo csv.\n",
    "\n",
    "PS. Caso queira criar uma Series com os dados aleatórios para o tipo de abacate, utilize o código abaixo:\n",
    "\n",
    "tipos = pd.Series(np.random.randint(0, 2, df_avocado.shape[0]))\n",
    "tipos = tipos.map({0: 'convencional', 1:'orgânico'})\n",
    "Clique aqui para fazer o download do dataset avocado.csv.\n",
    "\n",
    "Clique aqui para fazer o download do dataset avocado_type.csv."
   ]
  },
  {
   "cell_type": "code",
   "execution_count": 2,
   "id": "0e979411",
   "metadata": {
    "ExecuteTime": {
     "end_time": "2021-08-08T03:57:36.795282Z",
     "start_time": "2021-08-08T03:57:36.749406Z"
    }
   },
   "outputs": [],
   "source": [
    "df = pd.read_csv('avocado.csv', sep=',')\n",
    "dfType = pd.read_csv('avocado_type.csv', sep=',')"
   ]
  },
  {
   "cell_type": "code",
   "execution_count": 3,
   "id": "eff2eec9",
   "metadata": {
    "ExecuteTime": {
     "end_time": "2021-08-08T03:57:37.449123Z",
     "start_time": "2021-08-08T03:57:36.798275Z"
    }
   },
   "outputs": [],
   "source": [
    "df2 = pd.merge(df, dfType, on=None, left_index=True, right_index=True)\n",
    "df2.to_csv('Questão 01.csv', sep=';')"
   ]
  },
  {
   "cell_type": "markdown",
   "id": "aaa1fe78",
   "metadata": {},
   "source": [
    "Carregue o arquivo csv que você salvou na questão anterior e, em seguida, obtenha o que é solicitado nos itens elencados abaixo:\n",
    "\n",
    "(a) A quantidade de abacates do tipo convecional e do tipo orgânico.\n",
    "(b) A quantidade de registros (linhas) de abacates vendidos para cada região.\n",
    "(c) Para que todos os labels das colunas fiquem padronizados, renomeie aqueles que estão iniciando em letra minúscula para que iniciem em letra maiúscula.\n",
    "(d) Uma vez que você já possui uma coluna com a data, remova a coluna que apresenta o ano."
   ]
  },
  {
   "cell_type": "code",
   "execution_count": 4,
   "id": "5f557202",
   "metadata": {
    "ExecuteTime": {
     "end_time": "2021-08-08T03:57:38.111458Z",
     "start_time": "2021-08-08T03:57:37.451054Z"
    }
   },
   "outputs": [
    {
     "data": {
      "text/html": [
       "<div>\n",
       "<style scoped>\n",
       "    .dataframe tbody tr th:only-of-type {\n",
       "        vertical-align: middle;\n",
       "    }\n",
       "\n",
       "    .dataframe tbody tr th {\n",
       "        vertical-align: top;\n",
       "    }\n",
       "\n",
       "    .dataframe thead th {\n",
       "        text-align: right;\n",
       "    }\n",
       "</style>\n",
       "<table border=\"1\" class=\"dataframe\">\n",
       "  <thead>\n",
       "    <tr style=\"text-align: right;\">\n",
       "      <th></th>\n",
       "      <th>Unnamed: 0</th>\n",
       "      <th>Date</th>\n",
       "      <th>AveragePrice</th>\n",
       "      <th>Total Volume</th>\n",
       "      <th>year</th>\n",
       "      <th>region</th>\n",
       "      <th>type</th>\n",
       "    </tr>\n",
       "  </thead>\n",
       "  <tbody>\n",
       "    <tr>\n",
       "      <th>0</th>\n",
       "      <td>0</td>\n",
       "      <td>2015-12-27</td>\n",
       "      <td>1.33</td>\n",
       "      <td>64236.62</td>\n",
       "      <td>2015</td>\n",
       "      <td>Albany</td>\n",
       "      <td>conventional</td>\n",
       "    </tr>\n",
       "    <tr>\n",
       "      <th>1</th>\n",
       "      <td>1</td>\n",
       "      <td>2015-12-20</td>\n",
       "      <td>1.35</td>\n",
       "      <td>54876.98</td>\n",
       "      <td>2015</td>\n",
       "      <td>Albany</td>\n",
       "      <td>conventional</td>\n",
       "    </tr>\n",
       "    <tr>\n",
       "      <th>2</th>\n",
       "      <td>2</td>\n",
       "      <td>2015-12-13</td>\n",
       "      <td>0.93</td>\n",
       "      <td>118220.22</td>\n",
       "      <td>2015</td>\n",
       "      <td>Albany</td>\n",
       "      <td>conventional</td>\n",
       "    </tr>\n",
       "    <tr>\n",
       "      <th>3</th>\n",
       "      <td>3</td>\n",
       "      <td>2015-12-06</td>\n",
       "      <td>1.08</td>\n",
       "      <td>78992.15</td>\n",
       "      <td>2015</td>\n",
       "      <td>Albany</td>\n",
       "      <td>conventional</td>\n",
       "    </tr>\n",
       "    <tr>\n",
       "      <th>4</th>\n",
       "      <td>4</td>\n",
       "      <td>2015-11-29</td>\n",
       "      <td>1.28</td>\n",
       "      <td>51039.60</td>\n",
       "      <td>2015</td>\n",
       "      <td>Albany</td>\n",
       "      <td>conventional</td>\n",
       "    </tr>\n",
       "  </tbody>\n",
       "</table>\n",
       "</div>"
      ],
      "text/plain": [
       "   Unnamed: 0        Date  AveragePrice  Total Volume  year  region  \\\n",
       "0           0  2015-12-27          1.33      64236.62  2015  Albany   \n",
       "1           1  2015-12-20          1.35      54876.98  2015  Albany   \n",
       "2           2  2015-12-13          0.93     118220.22  2015  Albany   \n",
       "3           3  2015-12-06          1.08      78992.15  2015  Albany   \n",
       "4           4  2015-11-29          1.28      51039.60  2015  Albany   \n",
       "\n",
       "           type  \n",
       "0  conventional  \n",
       "1  conventional  \n",
       "2  conventional  \n",
       "3  conventional  \n",
       "4  conventional  "
      ]
     },
     "execution_count": 4,
     "metadata": {},
     "output_type": "execute_result"
    }
   ],
   "source": [
    "df = pd.read_csv('Questão 01.csv', sep=';')\n",
    "\n",
    "df.head()"
   ]
  },
  {
   "cell_type": "code",
   "execution_count": 5,
   "id": "00d9ba30",
   "metadata": {
    "ExecuteTime": {
     "end_time": "2021-08-08T03:57:38.563899Z",
     "start_time": "2021-08-08T03:57:38.111458Z"
    }
   },
   "outputs": [
    {
     "name": "stdout",
     "output_type": "stream",
     "text": [
      "a) \n",
      "              Total Volume\n",
      "type                      \n",
      "conventional  1.508722e+10\n",
      "organic       4.361817e+08\n",
      "b) \n",
      "                     Quantidade de registros\n",
      "region                                      \n",
      "Albany                                   338\n",
      "Atlanta                                  338\n",
      "BaltimoreWashington                      338\n",
      "Boise                                    338\n",
      "Boston                                   338\n",
      "BuffaloRochester                         338\n",
      "California                               338\n",
      "Charlotte                                338\n",
      "Chicago                                  338\n",
      "CincinnatiDayton                         338\n",
      "Columbus                                 338\n",
      "DallasFtWorth                            338\n",
      "Denver                                   338\n",
      "Detroit                                  338\n",
      "GrandRapids                              338\n",
      "GreatLakes                               338\n",
      "HarrisburgScranton                       338\n",
      "HartfordSpringfield                      338\n",
      "Houston                                  338\n",
      "Indianapolis                             338\n",
      "Jacksonville                             338\n",
      "LasVegas                                 338\n",
      "LosAngeles                               338\n",
      "Louisville                               338\n",
      "MiamiFtLauderdale                        338\n",
      "Midsouth                                 338\n",
      "Nashville                                338\n",
      "NewOrleansMobile                         338\n",
      "NewYork                                  338\n",
      "Northeast                                338\n",
      "NorthernNewEngland                       338\n",
      "Orlando                                  338\n",
      "Philadelphia                             338\n",
      "PhoenixTucson                            338\n",
      "Pittsburgh                               338\n",
      "Plains                                   338\n",
      "Portland                                 338\n",
      "RaleighGreensboro                        338\n",
      "RichmondNorfolk                          338\n",
      "Roanoke                                  338\n",
      "Sacramento                               338\n",
      "SanDiego                                 338\n",
      "SanFrancisco                             338\n",
      "Seattle                                  338\n",
      "SouthCarolina                            338\n",
      "SouthCentral                             338\n",
      "Southeast                                338\n",
      "Spokane                                  338\n",
      "StLouis                                  338\n",
      "Syracuse                                 338\n",
      "Tampa                                    338\n",
      "TotalUS                                  338\n",
      "West                                     338\n",
      "WestTexNewMexico                         335\n",
      "c) \n",
      "       Unnamed: 0        Date  AveragePrice  Total Volume  Year  \\\n",
      "0               0  2015-12-27          1.33      64236.62  2015   \n",
      "1               1  2015-12-20          1.35      54876.98  2015   \n",
      "2               2  2015-12-13          0.93     118220.22  2015   \n",
      "3               3  2015-12-06          1.08      78992.15  2015   \n",
      "4               4  2015-11-29          1.28      51039.60  2015   \n",
      "...           ...         ...           ...           ...   ...   \n",
      "18244       18244  2018-02-04          1.63      17074.83  2018   \n",
      "18245       18245  2018-01-28          1.71      13888.04  2018   \n",
      "18246       18246  2018-01-21          1.87      13766.76  2018   \n",
      "18247       18247  2018-01-14          1.93      16205.22  2018   \n",
      "18248       18248  2018-01-07          1.62      17489.58  2018   \n",
      "\n",
      "                 Region          Type  \n",
      "0                Albany  conventional  \n",
      "1                Albany  conventional  \n",
      "2                Albany  conventional  \n",
      "3                Albany  conventional  \n",
      "4                Albany  conventional  \n",
      "...                 ...           ...  \n",
      "18244  WestTexNewMexico       organic  \n",
      "18245  WestTexNewMexico       organic  \n",
      "18246  WestTexNewMexico       organic  \n",
      "18247  WestTexNewMexico       organic  \n",
      "18248  WestTexNewMexico       organic  \n",
      "\n",
      "[18249 rows x 7 columns]\n",
      "d) \n",
      "       Unnamed: 0        Date  AveragePrice  Total Volume            region  \\\n",
      "0               0  2015-12-27          1.33      64236.62            Albany   \n",
      "1               1  2015-12-20          1.35      54876.98            Albany   \n",
      "2               2  2015-12-13          0.93     118220.22            Albany   \n",
      "3               3  2015-12-06          1.08      78992.15            Albany   \n",
      "4               4  2015-11-29          1.28      51039.60            Albany   \n",
      "...           ...         ...           ...           ...               ...   \n",
      "18244       18244  2018-02-04          1.63      17074.83  WestTexNewMexico   \n",
      "18245       18245  2018-01-28          1.71      13888.04  WestTexNewMexico   \n",
      "18246       18246  2018-01-21          1.87      13766.76  WestTexNewMexico   \n",
      "18247       18247  2018-01-14          1.93      16205.22  WestTexNewMexico   \n",
      "18248       18248  2018-01-07          1.62      17489.58  WestTexNewMexico   \n",
      "\n",
      "               type  \n",
      "0      conventional  \n",
      "1      conventional  \n",
      "2      conventional  \n",
      "3      conventional  \n",
      "4      conventional  \n",
      "...             ...  \n",
      "18244       organic  \n",
      "18245       organic  \n",
      "18246       organic  \n",
      "18247       organic  \n",
      "18248       organic  \n",
      "\n",
      "[18249 rows x 6 columns]\n"
     ]
    }
   ],
   "source": [
    "#a\n",
    "dfa = df.query('type == \"conventional\" or type == \"organic\"')\n",
    "dfa = df.groupby('type').sum()[['Total Volume']]\n",
    "print(f'a) \\n{dfa}')\n",
    "\n",
    "#b\n",
    "dfb = df.groupby('region').count()\n",
    "dfb = dfb.drop(columns=['Date', 'AveragePrice', 'Total Volume', 'year', 'type'])\n",
    "dfb = dfb.rename(columns={\"Unnamed: 0\": \"Quantidade de registros\"})\n",
    "print(f'b) \\n{dfb}')\n",
    "\n",
    "#c\n",
    "dfc = df.rename(columns={'year': 'Year', 'region':'Region', 'type':'Type'})\n",
    "print(f'c) \\n{dfc}')\n",
    "\n",
    "#d\n",
    "dfd = df.drop(columns=['year'])\n",
    "print(f'd) \\n{dfd}')\n"
   ]
  },
  {
   "cell_type": "markdown",
   "id": "05bc0544",
   "metadata": {},
   "source": [
    "Carregue, em um objeto DataFrame, o mesmo dataset que você salvou na questão Q1, agrupe os dados do DF pelo tipo do abacate e, em seguida, obtenha:\n",
    "\n",
    "(a) A volume total de abacates vendidos para cada tipo.\n",
    "(b) O preço médio dos abacates vendidos para cada tipo."
   ]
  },
  {
   "cell_type": "code",
   "execution_count": 6,
   "id": "5e2e4dfd",
   "metadata": {
    "ExecuteTime": {
     "end_time": "2021-08-08T03:57:39.254600Z",
     "start_time": "2021-08-08T03:57:38.565893Z"
    }
   },
   "outputs": [
    {
     "name": "stdout",
     "output_type": "stream",
     "text": [
      "a) \n",
      "              Total vendido\n",
      "type                       \n",
      "conventional   1.508722e+10\n",
      "organic        4.361817e+08\n",
      "b) \n",
      "               Preço Médio\n",
      "type                      \n",
      "conventional  1.653213e+06\n",
      "organic       4.781121e+04\n"
     ]
    }
   ],
   "source": [
    "#a\n",
    "dfa = df.groupby('type').sum()[['Total Volume']]\n",
    "dfa = dfa.rename(columns={'Total Volume': 'Total vendido'})\n",
    "print(f'a) \\n{dfa}')\n",
    "\n",
    "#b\n",
    "dfa = df.groupby('type').mean()[['Total Volume']]\n",
    "dfa = dfa.rename(columns={'Total Volume': 'Preço Médio'})\n",
    "print(f'b) \\n{dfa}')"
   ]
  },
  {
   "cell_type": "markdown",
   "id": "a3f88da7",
   "metadata": {},
   "source": [
    "O arquivo googleplaystore.csv é um dataset que contém diversas informações sobre aplicativos disponíveis para download na Google Play Store. Você deve utilizar esse dataset para fazer o mesmo que foi solicitado na questão anterior. Ou seja, carregue-o em um objeto DataFrame e verifique os dados contidos nas colunas desse DF. Logo após, verifique se existem dados duplicados e/ou ausentes nesse dataset.\n",
    "\n",
    "Caso existam dados duplicados, remova-os. Caso existam dados ausentes, você pode removê-los ou pensar em alguma maneira de preenchê-los.\n",
    "\n",
    "Clique aqui para fazer o download do dataset."
   ]
  },
  {
   "cell_type": "code",
   "execution_count": 21,
   "id": "56b395b4",
   "metadata": {
    "ExecuteTime": {
     "end_time": "2021-08-08T04:04:26.403855Z",
     "start_time": "2021-08-08T04:04:26.323127Z"
    }
   },
   "outputs": [
    {
     "name": "stdout",
     "output_type": "stream",
     "text": [
      "Tamanho original: 140933 linhas\n",
      "Tamanho final: 115518 linhas\n"
     ]
    }
   ],
   "source": [
    "df = pd.read_csv('googleplaystore.csv', sep=',')\n",
    "print(f'Tamanho original: {df.size} linhas')\n",
    "df = df.dropna()\n",
    "df = df.drop_duplicates()\n",
    "print(f'Tamanho final: {df.size} linhas')"
   ]
  },
  {
   "cell_type": "code",
   "execution_count": 38,
   "id": "684ffd17",
   "metadata": {
    "ExecuteTime": {
     "end_time": "2021-08-08T04:14:10.071166Z",
     "start_time": "2021-08-08T04:14:10.018204Z"
    }
   },
   "outputs": [
    {
     "name": "stdout",
     "output_type": "stream",
     "text": [
      "           city  area  rooms  bathroom  parking spaces floor     animal  \\\n",
      "0     São Paulo    70      2         1               1     7      acept   \n",
      "1     São Paulo   320      4         4               0    20      acept   \n",
      "2  Porto Alegre    80      1         1               1     6      acept   \n",
      "3  Porto Alegre    51      2         1               0     2      acept   \n",
      "4     São Paulo    25      1         1               0     1  not acept   \n",
      "\n",
      "       furniture  hoa (R$)  rent amount (R$)  property tax (R$)  \\\n",
      "0      furnished      2065              3300                211   \n",
      "1  not furnished      1200              4960               1750   \n",
      "2  not furnished      1000              2800                  0   \n",
      "3  not furnished       270              1112                 22   \n",
      "4  not furnished         0               800                 25   \n",
      "\n",
      "   fire insurance (R$)  total (R$)  \n",
      "0                   42        5618  \n",
      "1                   63        7973  \n",
      "2                   41        3841  \n",
      "3                   17        1421  \n",
      "4                   11         836  \n",
      "\n",
      "Duplicados: 358\n",
      "\n",
      "Nulos:\n",
      "city                   0\n",
      "area                   0\n",
      "rooms                  0\n",
      "bathroom               0\n",
      "parking spaces         0\n",
      "floor                  0\n",
      "animal                 0\n",
      "furniture              0\n",
      "hoa (R$)               0\n",
      "rent amount (R$)       0\n",
      "property tax (R$)      0\n",
      "fire insurance (R$)    0\n",
      "total (R$)             0\n",
      "dtype: int64\n",
      "\n",
      "Tamanho original: 138996 linhas\n",
      "\n",
      "Após remover as linhas duplicadas: 134342 linhas\n"
     ]
    }
   ],
   "source": [
    "df = pd.read_csv('houses_to_rent.csv', sep=',')\n",
    "print(f'{df.head()}')\n",
    "print(f'\\nDuplicados: {df.duplicated().sum()}\\n')\n",
    "# Há valores duplicados\n",
    "print(f'Nulos:\\n{df.isnull().sum()}\\n')\n",
    "#Não há valores nulos\n",
    "print(f'Tamanho original: {df.size} linhas')\n",
    "df = df.drop_duplicates()\n",
    "print(f'\\nApós remover as linhas duplicadas: {df.size} linhas')"
   ]
  }
 ],
 "metadata": {
  "kernelspec": {
   "display_name": "Python 3",
   "language": "python",
   "name": "python3"
  },
  "language_info": {
   "codemirror_mode": {
    "name": "ipython",
    "version": 3
   },
   "file_extension": ".py",
   "mimetype": "text/x-python",
   "name": "python",
   "nbconvert_exporter": "python",
   "pygments_lexer": "ipython3",
   "version": "3.8.8"
  },
  "toc": {
   "base_numbering": 1,
   "nav_menu": {},
   "number_sections": true,
   "sideBar": true,
   "skip_h1_title": true,
   "title_cell": "Table of Contents",
   "title_sidebar": "Contents",
   "toc_cell": false,
   "toc_position": {},
   "toc_section_display": true,
   "toc_window_display": true
  }
 },
 "nbformat": 4,
 "nbformat_minor": 5
}
