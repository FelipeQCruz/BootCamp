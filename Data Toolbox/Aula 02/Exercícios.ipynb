{
 "cells": [
  {
   "cell_type": "markdown",
   "id": "aabdfb94",
   "metadata": {},
   "source": [
    "Em um concurso público foram contabilizados os números de pessoas inscritas (até a data inicialmente estabelecida para a inscrição) segundo os níveis de escolaridade: fundamental completo, médio completo, superior completo e pós-graduação completa. Segue abaixo a tabela com os valores observados.\n",
    "\n",
    "Nível de escolaridade\tInscritos\n",
    "Fundamental completo\t451\n",
    "Médio completo\t627\n",
    "Superior completo\t292\n",
    "Pós-graduação completa\t95\n",
    "Com base na tabela acima, crie uma Series com esses valores e calcule:\n",
    "\n",
    "(a) O número total de inscritos\n",
    "(b) Número inscritos que possuem, pelo menos, o superior completo.\n",
    "(c) Suponha que a inscrição foi prorrogada e, com isso, foi obtido um número adicional de inscrições: 68, 93, 22 e 0 inscritos a mais em cada uma das categorias de escolaridade apresentados na tabela acima (na mesma ordem). Assim, crie uma nova Series com esses valores.\n",
    "(d) Utilizando as duas Series que você tem, calcule o número total de inscritos após a prorrogação do período de inscrições."
   ]
  },
  {
   "cell_type": "code",
   "execution_count": 1,
   "id": "d4361749",
   "metadata": {
    "ExecuteTime": {
     "end_time": "2021-08-01T08:29:29.450631Z",
     "start_time": "2021-08-01T08:29:28.867079Z"
    }
   },
   "outputs": [
    {
     "name": "stdout",
     "output_type": "stream",
     "text": [
      "Fundamental completo      451\n",
      "Médio completo            627\n",
      "Superior completo         292\n",
      "Pós-graduação completa     95\n",
      "dtype: int64\n",
      "\n",
      "Inscritos: 1465\n",
      "\n",
      "Inscritos, com pelo menos Superior completo: 387\n",
      "\n",
      "Vagas adiocionais: \n",
      "Fundamental completo      68\n",
      "Médio completo            93\n",
      "Superior completo         22\n",
      "Pós-graduação completa     0\n",
      "dtype: int64\n",
      "\n",
      "Novo total de inscritosFundamental completo      519\n",
      "Médio completo            720\n",
      "Superior completo         314\n",
      "Pós-graduação completa     95\n",
      "dtype: int64\n",
      "Totalizando 1648 vagas\n"
     ]
    }
   ],
   "source": [
    "import pandas as pd\n",
    "import numpy as np\n",
    "\n",
    "inscritos = pd.Series(data=[451, 627, 292, 95], \n",
    "                   index=['Fundamental completo', 'Médio completo', 'Superior completo', 'Pós-graduação completa'])\n",
    "print(f'{inscritos}\\n')\n",
    "# a)\n",
    "totalInscritos = sum(inscritos)\n",
    "print(f'Inscritos: {totalInscritos}\\n')\n",
    "\n",
    "# b)\n",
    "totalInscritosB = inscritos['Superior completo':].sum()\n",
    "print(f'Inscritos, com pelo menos Superior completo: {totalInscritosB}\\n')\n",
    "\n",
    "# c)\n",
    "adicional = pd.Series(data=[68, 93, 22, 0], \n",
    "                   index=['Fundamental completo', 'Médio completo', 'Superior completo', 'Pós-graduação completa'])\n",
    "\n",
    "print(f'Vagas adiocionais: \\n{adicional}\\n')\n",
    "\n",
    "# d) \n",
    "novoTotal = inscritos + adicional\n",
    "\n",
    "print(f'Novo total de inscritos{novoTotal}\\nTotalizando {sum(novoTotal)} vagas')"
   ]
  },
  {
   "cell_type": "markdown",
   "id": "6aa93bdc",
   "metadata": {},
   "source": [
    "Uma turma de cinco alunos foi submetida a uma avaliação e a nota de cada um dos alunos é apresentada na tabela abaixo:\n",
    "\n",
    "Nome do Aluno\tNota\n",
    "Wilfred\t2\n",
    "Abbie\t7\n",
    "Harry\t5.5\n",
    "Julia\t10\n",
    "Carrie\t6.2\n",
    "(a) Crie uma Series com os valores da tabela acima.\n",
    "(b) Retorne o número de alunos que foram aprovados (considerando que a nota mínima para a aprovação é 7).\n",
    "(c) Qual foi a nota média da turma.\n",
    "(d) Obtenha o nome dos alunos que tiraram notas acima da média da turma."
   ]
  },
  {
   "cell_type": "code",
   "execution_count": 2,
   "id": "c708b281",
   "metadata": {
    "ExecuteTime": {
     "end_time": "2021-08-01T08:29:29.669992Z",
     "start_time": "2021-08-01T08:29:29.626909Z"
    }
   },
   "outputs": [
    {
     "name": "stdout",
     "output_type": "stream",
     "text": [
      "Wilfred     2.0\n",
      "Abbie       7.0\n",
      "Harry       5.5\n",
      "Julia      10.0\n",
      "Carrie      6.2\n",
      "dtype: float64\n",
      "\n",
      "Número de aprovados: 2\n",
      "\n",
      "Média: 6.14\n",
      "\n",
      "Alunos acima da média: \n",
      "Abbie      7.0\n",
      "Julia     10.0\n",
      "Carrie     6.2\n",
      "dtype: float64\n",
      "\n"
     ]
    }
   ],
   "source": [
    "# a)\n",
    "alunos = pd.Series(data=[2, 7, 5.5, 10, 6.2], \n",
    "                   index=['Wilfred', 'Abbie', 'Harry', 'Julia', 'Carrie'])\n",
    "print(f'{alunos}\\n')\n",
    "\n",
    "# b)\n",
    "aprovados = alunos[alunos >= 7].value_counts().sum()\n",
    "print(f'Número de aprovados: {aprovados}\\n')\n",
    "\n",
    "# c)\n",
    "media = alunos.mean()\n",
    "print(f'Média: {media}\\n')\n",
    "\n",
    "# d)\n",
    "aprovados = alunos[alunos >= media]\n",
    "print(f'Alunos acima da média: \\n{aprovados}\\n')"
   ]
  },
  {
   "cell_type": "markdown",
   "id": "33d55e6b",
   "metadata": {},
   "source": [
    "Crie um objeto DataFrame que contenha os dados da tabela abaixo, os quais se referem ao peso, altura e idade de cinco pessoas:\n",
    "\n",
    "Peso (kg)\tAltura (cm)\tIdade\n",
    "72\t180\t31\n",
    "80\t170\t21\n",
    "60\t175\t16\n",
    "90\t174\t28\n",
    "100\t185\t23\n",
    "Com base no DataFrame criado, realize o que pedido nos itens abaixo:\n",
    "\n",
    "(a) Visualize apenas os dados da coluna que contém a altura das pessoas.\n",
    "(b) Obtenha a idade média das pessoas.\n",
    "(c) Obtenha os dados das pessoas que estão abaixo da altura média.\n",
    "(d) Crie um nova coluna no DataFrame que contenha o IMC (Índice de Massa Corporal) de cada pessoa.\n",
    "(e) Remova a coluna que contém a idade das pessoas.\n",
    "(f) Salve esses dados do DataFrame em um arquivo csv."
   ]
  },
  {
   "cell_type": "code",
   "execution_count": 3,
   "id": "7a652e49",
   "metadata": {
    "ExecuteTime": {
     "end_time": "2021-08-01T08:29:30.548194Z",
     "start_time": "2021-08-01T08:29:30.516101Z"
    }
   },
   "outputs": [
    {
     "name": "stdout",
     "output_type": "stream",
     "text": [
      "   Peso (kg)  Altura (cm)  Idade\n",
      "0         72          180     31\n",
      "1         80          170     21\n",
      "2         60          175     16\n",
      "3         90          174     28\n",
      "4        100          185     23\n",
      "\n",
      "Alturas: \n",
      "0    180\n",
      "1    170\n",
      "2    175\n",
      "3    174\n",
      "4    185\n",
      "Name: Altura (cm), dtype: int32\n",
      "\n",
      "Média das idades: 23.8\n",
      "\n",
      "Média das idades: \n",
      "   Peso (kg)  Altura (cm)  Idade\n",
      "1         80          170     21\n",
      "2         60          175     16\n",
      "3         90          174     28\n",
      "\n",
      "   Peso (kg)  Altura (cm)  Idade        IMC\n",
      "0         72          180     31  22.222222\n",
      "1         80          170     21  27.681661\n",
      "2         60          175     16  19.591837\n",
      "3         90          174     28  29.726516\n",
      "4        100          185     23  29.218408\n",
      "\n",
      "   Peso (kg)  Altura (cm)        IMC\n",
      "0         72          180  22.222222\n",
      "1         80          170  27.681661\n",
      "2         60          175  19.591837\n",
      "3         90          174  29.726516\n",
      "4        100          185  29.218408\n",
      "\n"
     ]
    }
   ],
   "source": [
    "dados = np.array([[72, 180, 31],\n",
    "                  [80, 170, 21],\n",
    "                  [60, 175, 16],\n",
    "                  [90, 174, 28],\n",
    "                  [100, 185, 23]\n",
    "                  ])\n",
    "\n",
    "df = pd.DataFrame(data = dados, columns=['Peso (kg)',\n",
    "                                         'Altura (cm)', \n",
    "                                         'Idade'\n",
    "                                        ])\n",
    "print(f'{df}\\n')\n",
    "\n",
    "# a)\n",
    "\n",
    "altura = df['Altura (cm)']\n",
    "print(f'Alturas: \\n{altura}\\n')\n",
    "\n",
    "# b)\n",
    "\n",
    "idadeMedia = df['Idade'].mean()\n",
    "print(f'Média das idades: {idadeMedia}\\n')\n",
    "\n",
    "# c)\n",
    "\n",
    "alturaMedia = df['Altura (cm)'].mean()\n",
    "baixinhos = df[df['Altura (cm)'] < alturaMedia]\n",
    "print(f'Média das idades: \\n{baixinhos}\\n')\n",
    "\n",
    "# d) \n",
    "\n",
    "df['IMC'] = df['Peso (kg)']/(df['Altura (cm)']/100)**2\n",
    "print(f'{df}\\n')\n",
    "\n",
    "# e)\n",
    "\n",
    "df.drop('Idade', axis = 1, inplace = True)\n",
    "print(f'{df}\\n')\n",
    "\n",
    "# f)\n",
    "\n",
    "df.to_csv('Questão 13.csv', sep = ';')"
   ]
  },
  {
   "cell_type": "markdown",
   "id": "78a4b18d",
   "metadata": {},
   "source": [
    "Carregue, em um objeto DataFrame, o arquivo CSV que você salvou no item (f) da questão anterior. Em seguida,\n",
    "\n",
    "(a) Crie uma nova coluna que contenha o nome das pessoas (sinta-se à vontade para atribuir os nomes que preferir).\n",
    "(b) Defina a nova coluna criada (com os nomes) como o índice (index) do seu DataFrame.\n",
    "(c) Obtenha o nome das pessoas que são classificadas com Sobrepeso (IMC entre 25 e 29,9)."
   ]
  },
  {
   "cell_type": "code",
   "execution_count": 13,
   "id": "babf60dd",
   "metadata": {
    "ExecuteTime": {
     "end_time": "2021-08-01T08:37:40.510896Z",
     "start_time": "2021-08-01T08:37:40.476211Z"
    }
   },
   "outputs": [
    {
     "name": "stdout",
     "output_type": "stream",
     "text": [
      "   Unnamed: 0  Peso (kg)  Altura (cm)        IMC   Nomes\n",
      "0           0         72          180  22.222222  Nome 1\n",
      "1           1         80          170  27.681661  Nome 2\n",
      "2           2         60          175  19.591837  Nome 3\n",
      "3           3         90          174  29.726516  Nome 4\n",
      "4           4        100          185  29.218408  Nome 5\n",
      "\n",
      "['Nome 1', 'Nome 2', 'Nome 3', 'Nome 4', 'Nome 5']\n",
      "\n",
      "Pessoas com sobrepeso: \n",
      "        Unnamed: 0  Peso (kg)  Altura (cm)        IMC\n",
      "Nomes                                                \n",
      "Nome 2           1         80          170  27.681661\n",
      "Nome 4           3         90          174  29.726516\n",
      "Nome 5           4        100          185  29.218408\n",
      "\n"
     ]
    }
   ],
   "source": [
    "df = pd.read_csv('Questão 13.csv', sep = ';')\n",
    "\n",
    "# a)\n",
    "\n",
    "df['Nomes'] = ['Nome 1', 'Nome 2', 'Nome 3', 'Nome 4', 'Nome 5']\n",
    "print(f'{df}\\n')\n",
    "\n",
    "# b)\n",
    "\n",
    "df = df.set_index('Nomes')\n",
    "print(f'{df.index.tolist()}\\n')\n",
    "\n",
    "# c)\n",
    "\n",
    "sobrepeso = df[(df['IMC'] >= 25) & (df['IMC'] <= 29.9)]\n",
    "print(f'Pessoas com sobrepeso: \\n{sobrepeso}\\n')"
   ]
  },
  {
   "cell_type": "markdown",
   "id": "84eb927a",
   "metadata": {},
   "source": [
    "Carregue, em um objeto DataFrame, o mesmo dataset que você salvou na Questão 3. Em seguida,\n",
    "\n",
    "(a) Adicione uma nova coluna nesse DF chamada Classificação, que contenha a classificação de cada indivíduo, de acordo com o seu IMC. Para isso, consulte a tabela abaixo.\n",
    "\n",
    "IMC\tClassificação\tObesidade (grau)\n",
    "Menor que 18,5\tMagreza\t0\n",
    "Entre 18,5 e 24,9\tNormal\t0\n",
    "Entre 25,0 e 29,9\tSobrepeso\tI\n",
    "Entre 30,0 e 39,9\tObesidade\tII\n",
    "Maior que 40,0\tObesidade Grave\tIII\n",
    "(b) Salve em DataFrame no formato xlsx."
   ]
  },
  {
   "cell_type": "code",
   "execution_count": 39,
   "id": "425faabf",
   "metadata": {
    "ExecuteTime": {
     "end_time": "2021-08-01T09:03:10.246530Z",
     "start_time": "2021-08-01T09:03:08.984674Z"
    }
   },
   "outputs": [
    {
     "name": "stderr",
     "output_type": "stream",
     "text": [
      "C:\\ProgramData\\Anaconda3\\lib\\site-packages\\pandas\\core\\indexing.py:1637: SettingWithCopyWarning: \n",
      "A value is trying to be set on a copy of a slice from a DataFrame\n",
      "\n",
      "See the caveats in the documentation: https://pandas.pydata.org/pandas-docs/stable/user_guide/indexing.html#returning-a-view-versus-a-copy\n",
      "  self._setitem_single_block(indexer, value, name)\n",
      "C:\\ProgramData\\Anaconda3\\lib\\site-packages\\pandas\\core\\indexing.py:1637: SettingWithCopyWarning: \n",
      "A value is trying to be set on a copy of a slice from a DataFrame\n",
      "\n",
      "See the caveats in the documentation: https://pandas.pydata.org/pandas-docs/stable/user_guide/indexing.html#returning-a-view-versus-a-copy\n",
      "  self._setitem_single_block(indexer, value, name)\n",
      "C:\\ProgramData\\Anaconda3\\lib\\site-packages\\pandas\\core\\indexing.py:1637: SettingWithCopyWarning: \n",
      "A value is trying to be set on a copy of a slice from a DataFrame\n",
      "\n",
      "See the caveats in the documentation: https://pandas.pydata.org/pandas-docs/stable/user_guide/indexing.html#returning-a-view-versus-a-copy\n",
      "  self._setitem_single_block(indexer, value, name)\n",
      "C:\\ProgramData\\Anaconda3\\lib\\site-packages\\pandas\\core\\indexing.py:1637: SettingWithCopyWarning: \n",
      "A value is trying to be set on a copy of a slice from a DataFrame\n",
      "\n",
      "See the caveats in the documentation: https://pandas.pydata.org/pandas-docs/stable/user_guide/indexing.html#returning-a-view-versus-a-copy\n",
      "  self._setitem_single_block(indexer, value, name)\n",
      "C:\\ProgramData\\Anaconda3\\lib\\site-packages\\pandas\\core\\indexing.py:1637: SettingWithCopyWarning: \n",
      "A value is trying to be set on a copy of a slice from a DataFrame\n",
      "\n",
      "See the caveats in the documentation: https://pandas.pydata.org/pandas-docs/stable/user_guide/indexing.html#returning-a-view-versus-a-copy\n",
      "  self._setitem_single_block(indexer, value, name)\n"
     ]
    },
    {
     "name": "stdout",
     "output_type": "stream",
     "text": [
      "   Unnamed: 0  Peso (kg)  Altura (cm)        IMC Classificação\n",
      "0           0         72          180  22.222222        Normal\n",
      "1           1         80          170  27.681661     Sobrepeso\n",
      "2           2         60          175  19.591837        Normal\n",
      "3           3         90          174  29.726516     Sobrepeso\n",
      "4           4        100          185  29.218408     Sobrepeso\n"
     ]
    }
   ],
   "source": [
    "df = pd.read_csv('Questão 13.csv', sep = ';')\n",
    "\n",
    "# a)\n",
    "\n",
    "df['Classificação'] = np.nan\n",
    "df['Classificação'].iloc[df['IMC'] < 18.5] = 'Magreza'\n",
    "df['Classificação'].iloc[(df['IMC'] >= 18.5) & (df['IMC'] <= 24.9)] = 'Normal'\n",
    "df['Classificação'].iloc[(df['IMC'] >= 25) & (df['IMC'] <= 29.9)] = 'Sobrepeso'\n",
    "df['Classificação'].iloc[(df['IMC'] >= 30) & (df['IMC'] <= 39.9)] = 'Obesidade'\n",
    "df['Classificação'].iloc[(df['IMC'] > 40)] = 'Obesidade grave'\n",
    "\n",
    "print(df)\n",
    "\n",
    "# b)\n",
    "\n",
    "df.to_excel('Questão 13.xlsx')"
   ]
  },
  {
   "cell_type": "code",
   "execution_count": 69,
   "id": "2eea6633",
   "metadata": {
    "ExecuteTime": {
     "end_time": "2021-08-01T07:27:26.469174Z",
     "start_time": "2021-08-01T07:27:26.114622Z"
    }
   },
   "outputs": [
    {
     "name": "stdout",
     "output_type": "stream",
     "text": [
      "Inscritos: 1465\n",
      "Inscritos, pelo menos, com superior completo: 387\n"
     ]
    },
    {
     "data": {
      "text/html": [
       "<div>\n",
       "<style scoped>\n",
       "    .dataframe tbody tr th:only-of-type {\n",
       "        vertical-align: middle;\n",
       "    }\n",
       "\n",
       "    .dataframe tbody tr th {\n",
       "        vertical-align: top;\n",
       "    }\n",
       "\n",
       "    .dataframe thead th {\n",
       "        text-align: right;\n",
       "    }\n",
       "</style>\n",
       "<table border=\"1\" class=\"dataframe\">\n",
       "  <thead>\n",
       "    <tr style=\"text-align: right;\">\n",
       "      <th></th>\n",
       "      <th>Nível de escolaridade</th>\n",
       "      <th>Inscritos</th>\n",
       "    </tr>\n",
       "  </thead>\n",
       "  <tbody>\n",
       "    <tr>\n",
       "      <th>0</th>\n",
       "      <td>Fundamental completo</td>\n",
       "      <td>519.0</td>\n",
       "    </tr>\n",
       "    <tr>\n",
       "      <th>1</th>\n",
       "      <td>Médio completo</td>\n",
       "      <td>544.0</td>\n",
       "    </tr>\n",
       "    <tr>\n",
       "      <th>2</th>\n",
       "      <td>Superior completo</td>\n",
       "      <td>473.0</td>\n",
       "    </tr>\n",
       "    <tr>\n",
       "      <th>3</th>\n",
       "      <td>Pós-graduação completa</td>\n",
       "      <td>451.0</td>\n",
       "    </tr>\n",
       "  </tbody>\n",
       "</table>\n",
       "</div>"
      ],
      "text/plain": [
       "    Nível de escolaridade  Inscritos\n",
       "0    Fundamental completo      519.0\n",
       "1          Médio completo      544.0\n",
       "2       Superior completo      473.0\n",
       "3  Pós-graduação completa      451.0"
      ]
     },
     "execution_count": 69,
     "metadata": {},
     "output_type": "execute_result"
    }
   ],
   "source": [
    "dados = np.array([['Fundamental completo', 451],\n",
    "                   ['Médio completo', 627],\n",
    "                   ['Superior completo', 292],\n",
    "                   ['Pós-graduação completa', 95]\n",
    "                  ])\n",
    "\n",
    "df = pd.DataFrame(data = dados, columns=['Nível de escolaridade',\n",
    "                                              'Inscritos'])\n",
    "\n",
    "# a)\n",
    "\n",
    "df['Inscritos'] = df['Inscritos'].astype(int)\n",
    "inscritos = df['Inscritos'].sum()\n",
    "print(f'Inscritos: {inscritos}')\n",
    "\n",
    "# b)\n",
    "\n",
    "inscritosB = df.loc[(df['Nível de escolaridade'] == 'Superior completo') | (df['Nível de escolaridade'] == 'Pós-graduação completa')].sum()\n",
    "inscritosB = inscritosB['Inscritos']\n",
    "print(f'Inscritos, pelo menos, com superior completo: {inscritosB}')\n",
    "\n",
    "# c) \n",
    "adicao = pd.DataFrame(np.array([68, 93, 22, 0]).astype(int))\n",
    "novosInscritos = df\n",
    "novosInscritos['Inscritos'] = novosInscritos['Inscritos'] + adicao\n",
    "novosInscritos"
   ]
  },
  {
   "cell_type": "code",
   "execution_count": null,
   "id": "1f2be1c5",
   "metadata": {},
   "outputs": [],
   "source": []
  },
  {
   "cell_type": "code",
   "execution_count": null,
   "id": "0a152d11",
   "metadata": {},
   "outputs": [],
   "source": []
  }
 ],
 "metadata": {
  "kernelspec": {
   "display_name": "Python 3",
   "language": "python",
   "name": "python3"
  },
  "language_info": {
   "codemirror_mode": {
    "name": "ipython",
    "version": 3
   },
   "file_extension": ".py",
   "mimetype": "text/x-python",
   "name": "python",
   "nbconvert_exporter": "python",
   "pygments_lexer": "ipython3",
   "version": "3.8.8"
  },
  "toc": {
   "base_numbering": 1,
   "nav_menu": {},
   "number_sections": true,
   "sideBar": true,
   "skip_h1_title": true,
   "title_cell": "Table of Contents",
   "title_sidebar": "Contents",
   "toc_cell": false,
   "toc_position": {},
   "toc_section_display": true,
   "toc_window_display": true
  }
 },
 "nbformat": 4,
 "nbformat_minor": 5
}
