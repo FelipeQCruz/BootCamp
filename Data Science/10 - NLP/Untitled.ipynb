{
 "cells": [
  {
   "cell_type": "code",
   "execution_count": 1,
   "id": "2420791b",
   "metadata": {
    "ExecuteTime": {
     "end_time": "2021-09-03T20:17:50.556806Z",
     "start_time": "2021-09-03T20:17:50.418241Z"
    }
   },
   "outputs": [],
   "source": [
    "import requests"
   ]
  },
  {
   "cell_type": "code",
   "execution_count": 3,
   "id": "7ab8cc29",
   "metadata": {
    "ExecuteTime": {
     "end_time": "2021-09-03T20:18:49.907092Z",
     "start_time": "2021-09-03T20:18:49.895156Z"
    }
   },
   "outputs": [],
   "source": [
    "url = 'https://tas3hv8uq3.execute-api.sa-east-1.amazonaws.com/default/aula_785'"
   ]
  },
  {
   "cell_type": "code",
   "execution_count": 6,
   "id": "ee6d5cf3",
   "metadata": {
    "ExecuteTime": {
     "end_time": "2021-09-03T20:19:41.318007Z",
     "start_time": "2021-09-03T20:19:41.151741Z"
    }
   },
   "outputs": [
    {
     "data": {
      "text/plain": [
       "<Response [200]>"
      ]
     },
     "execution_count": 6,
     "metadata": {},
     "output_type": "execute_result"
    }
   ],
   "source": [
    "response = requests.get(url)\n",
    "response"
   ]
  },
  {
   "cell_type": "code",
   "execution_count": 7,
   "id": "3a8b45dc",
   "metadata": {
    "ExecuteTime": {
     "end_time": "2021-09-03T20:19:56.354787Z",
     "start_time": "2021-09-03T20:19:56.334843Z"
    }
   },
   "outputs": [
    {
     "data": {
      "text/plain": [
       "{'Date': 'Fri, 03 Sep 2021 20:19:41 GMT', 'Content-Type': 'application/json', 'Content-Length': '15', 'Connection': 'keep-alive', 'x-amzn-RequestId': '9d661a26-d452-4aff-b2db-a9df0d28b617', 'x-amz-apigw-id': 'FGl2rFD2GjQFdBQ=', 'X-Amzn-Trace-Id': 'Root=1-6132835d-2a840c003bd6e45c5a308610;Sampled=0'}"
      ]
     },
     "execution_count": 7,
     "metadata": {},
     "output_type": "execute_result"
    }
   ],
   "source": [
    "response.headers"
   ]
  },
  {
   "cell_type": "code",
   "execution_count": 8,
   "id": "f2cd9966",
   "metadata": {
    "ExecuteTime": {
     "end_time": "2021-09-03T20:22:11.432917Z",
     "start_time": "2021-09-03T20:22:11.414881Z"
    }
   },
   "outputs": [
    {
     "data": {
      "text/plain": [
       "[2, 4, 5, 6, 7]"
      ]
     },
     "execution_count": 8,
     "metadata": {},
     "output_type": "execute_result"
    }
   ],
   "source": [
    "lista = response.json()\n",
    "lista"
   ]
  }
 ],
 "metadata": {
  "kernelspec": {
   "display_name": "Python 3",
   "language": "python",
   "name": "python3"
  },
  "language_info": {
   "codemirror_mode": {
    "name": "ipython",
    "version": 3
   },
   "file_extension": ".py",
   "mimetype": "text/x-python",
   "name": "python",
   "nbconvert_exporter": "python",
   "pygments_lexer": "ipython3",
   "version": "3.8.8"
  },
  "toc": {
   "base_numbering": 1,
   "nav_menu": {},
   "number_sections": true,
   "sideBar": true,
   "skip_h1_title": true,
   "title_cell": "Table of Contents",
   "title_sidebar": "Contents",
   "toc_cell": false,
   "toc_position": {},
   "toc_section_display": true,
   "toc_window_display": true
  }
 },
 "nbformat": 4,
 "nbformat_minor": 5
}
