{
 "cells": [
  {
   "cell_type": "markdown",
   "id": "a7870542",
   "metadata": {},
   "source": [
    "# Métodos de Ensemble\n"
   ]
  },
  {
   "cell_type": "markdown",
   "id": "d204c3e0",
   "metadata": {},
   "source": [
    "## Instabilidade"
   ]
  },
  {
   "cell_type": "markdown",
   "id": "65d10fe4",
   "metadata": {},
   "source": [
    "Vamos montar um modelo clássico para identificação de mensagens de spam. O modelo consiste em contar quantas vezes uma determinada palavra aparece na mensagem e classificá-la como spam ou não. **O foco da aula não é o modelo, mas estudar a estabilidade dele!**"
   ]
  },
  {
   "cell_type": "markdown",
   "id": "43a665e8",
   "metadata": {},
   "source": [
    "### Coleta e limpeza de dados"
   ]
  },
  {
   "cell_type": "code",
   "execution_count": 1,
   "id": "5de60289",
   "metadata": {
    "ExecuteTime": {
     "end_time": "2021-08-31T15:18:01.327001Z",
     "start_time": "2021-08-31T15:18:00.309721Z"
    }
   },
   "outputs": [],
   "source": [
    "import pandas as pd\n",
    "import string\n",
    "import seaborn as sns\n",
    "import matplotlib.pyplot as plt\n",
    "import numpy as np"
   ]
  },
  {
   "cell_type": "code",
   "execution_count": 2,
   "id": "a707ff5f",
   "metadata": {
    "ExecuteTime": {
     "end_time": "2021-08-31T15:18:02.951359Z",
     "start_time": "2021-08-31T15:18:02.920362Z"
    }
   },
   "outputs": [
    {
     "data": {
      "text/html": [
       "<div>\n",
       "<style scoped>\n",
       "    .dataframe tbody tr th:only-of-type {\n",
       "        vertical-align: middle;\n",
       "    }\n",
       "\n",
       "    .dataframe tbody tr th {\n",
       "        vertical-align: top;\n",
       "    }\n",
       "\n",
       "    .dataframe thead th {\n",
       "        text-align: right;\n",
       "    }\n",
       "</style>\n",
       "<table border=\"1\" class=\"dataframe\">\n",
       "  <thead>\n",
       "    <tr style=\"text-align: right;\">\n",
       "      <th></th>\n",
       "      <th>type</th>\n",
       "      <th>text</th>\n",
       "    </tr>\n",
       "  </thead>\n",
       "  <tbody>\n",
       "    <tr>\n",
       "      <th>0</th>\n",
       "      <td>ham</td>\n",
       "      <td>Hope you are having a good week. Just checking in</td>\n",
       "    </tr>\n",
       "    <tr>\n",
       "      <th>1</th>\n",
       "      <td>ham</td>\n",
       "      <td>K..give back my thanks.</td>\n",
       "    </tr>\n",
       "    <tr>\n",
       "      <th>2</th>\n",
       "      <td>ham</td>\n",
       "      <td>Am also doing in cbe only. But have to pay.</td>\n",
       "    </tr>\n",
       "    <tr>\n",
       "      <th>3</th>\n",
       "      <td>spam</td>\n",
       "      <td>complimentary 4 STAR Ibiza Holiday or £10,000 ...</td>\n",
       "    </tr>\n",
       "    <tr>\n",
       "      <th>4</th>\n",
       "      <td>spam</td>\n",
       "      <td>okmail: Dear Dave this is your final notice to...</td>\n",
       "    </tr>\n",
       "  </tbody>\n",
       "</table>\n",
       "</div>"
      ],
      "text/plain": [
       "   type                                               text\n",
       "0   ham  Hope you are having a good week. Just checking in\n",
       "1   ham                            K..give back my thanks.\n",
       "2   ham        Am also doing in cbe only. But have to pay.\n",
       "3  spam  complimentary 4 STAR Ibiza Holiday or £10,000 ...\n",
       "4  spam  okmail: Dear Dave this is your final notice to..."
      ]
     },
     "execution_count": 2,
     "metadata": {},
     "output_type": "execute_result"
    }
   ],
   "source": [
    "# dataset de mensagens de email\n",
    "df = pd.read_csv('data/spam_ham.csv')\n",
    "\n",
    "df.head()\n"
   ]
  },
  {
   "cell_type": "code",
   "execution_count": 11,
   "id": "b6fe4ab1",
   "metadata": {
    "ExecuteTime": {
     "end_time": "2021-08-31T15:28:53.624025Z",
     "start_time": "2021-08-31T15:28:53.586015Z"
    }
   },
   "outputs": [
    {
     "data": {
      "text/html": [
       "<div>\n",
       "<style scoped>\n",
       "    .dataframe tbody tr th:only-of-type {\n",
       "        vertical-align: middle;\n",
       "    }\n",
       "\n",
       "    .dataframe tbody tr th {\n",
       "        vertical-align: top;\n",
       "    }\n",
       "\n",
       "    .dataframe thead th {\n",
       "        text-align: right;\n",
       "    }\n",
       "</style>\n",
       "<table border=\"1\" class=\"dataframe\">\n",
       "  <thead>\n",
       "    <tr style=\"text-align: right;\">\n",
       "      <th></th>\n",
       "      <th>type</th>\n",
       "      <th>text</th>\n",
       "      <th>text_clean</th>\n",
       "    </tr>\n",
       "  </thead>\n",
       "  <tbody>\n",
       "    <tr>\n",
       "      <th>0</th>\n",
       "      <td>ham</td>\n",
       "      <td>Hope you are having a good week. Just checking in</td>\n",
       "      <td>hope you are having a good week  just checking in</td>\n",
       "    </tr>\n",
       "    <tr>\n",
       "      <th>1</th>\n",
       "      <td>ham</td>\n",
       "      <td>K..give back my thanks.</td>\n",
       "      <td>k  give back my thanks</td>\n",
       "    </tr>\n",
       "    <tr>\n",
       "      <th>2</th>\n",
       "      <td>ham</td>\n",
       "      <td>Am also doing in cbe only. But have to pay.</td>\n",
       "      <td>am also doing in cbe only  but have to pay</td>\n",
       "    </tr>\n",
       "    <tr>\n",
       "      <th>3</th>\n",
       "      <td>spam</td>\n",
       "      <td>complimentary 4 STAR Ibiza Holiday or £10,000 ...</td>\n",
       "      <td>complimentary  star ibiza holiday or £  cash n...</td>\n",
       "    </tr>\n",
       "    <tr>\n",
       "      <th>4</th>\n",
       "      <td>spam</td>\n",
       "      <td>okmail: Dear Dave this is your final notice to...</td>\n",
       "      <td>okmail  dear dave this is your final notice to...</td>\n",
       "    </tr>\n",
       "  </tbody>\n",
       "</table>\n",
       "</div>"
      ],
      "text/plain": [
       "   type                                               text  \\\n",
       "0   ham  Hope you are having a good week. Just checking in   \n",
       "1   ham                            K..give back my thanks.   \n",
       "2   ham        Am also doing in cbe only. But have to pay.   \n",
       "3  spam  complimentary 4 STAR Ibiza Holiday or £10,000 ...   \n",
       "4  spam  okmail: Dear Dave this is your final notice to...   \n",
       "\n",
       "                                          text_clean  \n",
       "0  hope you are having a good week  just checking in  \n",
       "1                            k  give back my thanks   \n",
       "2        am also doing in cbe only  but have to pay   \n",
       "3  complimentary  star ibiza holiday or £  cash n...  \n",
       "4  okmail  dear dave this is your final notice to...  "
      ]
     },
     "execution_count": 11,
     "metadata": {},
     "output_type": "execute_result"
    }
   ],
   "source": [
    "# um pouco de preprocessamento\n",
    "\n",
    "def clean_text(df_input, column_to_clean):\n",
    "    \n",
    "    # converte para letras minusculas\n",
    "    df_input['text_clean'] = df_input[column_to_clean].str.lower()\n",
    "    \n",
    "    # remove pontução\n",
    "    remover = f\"[{string.punctuation}]\"\n",
    "    df_input['text_clean'] = df_input['text_clean'].str.replace(remover, ' ', regex=True)\n",
    "    \n",
    "    # remove numeros\n",
    "    numeros = f\"[1234567890]\"\n",
    "    df_input['text_clean'] = df_input['text_clean'].str.replace(numeros, '', regex=True)\n",
    "    \n",
    "    return df_input['text_clean']\n",
    "\n",
    "# criar coluna text clean\n",
    "df['text_clean'] = clean_text(df, 'text')\n",
    "\n",
    "df.head()"
   ]
  },
  {
   "cell_type": "code",
   "execution_count": null,
   "id": "da9eef12",
   "metadata": {},
   "outputs": [],
   "source": []
  },
  {
   "cell_type": "markdown",
   "id": "8c96f304",
   "metadata": {},
   "source": [
    "### Divisão do dataset"
   ]
  },
  {
   "cell_type": "code",
   "execution_count": 19,
   "id": "82fa3b8d",
   "metadata": {
    "ExecuteTime": {
     "end_time": "2021-08-31T15:40:58.651220Z",
     "start_time": "2021-08-31T15:40:58.488090Z"
    }
   },
   "outputs": [],
   "source": [
    "from sklearn.feature_extraction.text import CountVectorizer \n",
    "from sklearn.model_selection import train_test_split\n",
    "\n",
    "def create_train_test_sets(df_input, semente):\n",
    "    X = df_input['text_clean'].copy()\n",
    "    y = df_input['type'].map({'ham':0, 'spam': 1})\n",
    "\n",
    "\n",
    "    X_treino_bruto, X_teste_bruto, y_treino_, y_teste_ = train_test_split(X, y, \n",
    "                                                                          test_size=0.3, \n",
    "                                                                          random_state=semente)\n",
    "    # preparação para a aula de NLP - exercicio do WordCount\n",
    "    bag_of_words = CountVectorizer(max_features=100)\n",
    "    bag_of_words.fit(X_treino_bruto)\n",
    "    \n",
    "    X_treino_ = bag_of_words.transform(X_treino_bruto)\n",
    "    X_teste_ = bag_of_words.transform(X_teste_bruto)\n",
    "    \n",
    "    return X_treino_, X_teste_, y_treino_, y_teste_\n",
    "\n",
    "# cria os datasets de treino e teste na prática\n",
    "X_treino, X_teste, y_treino, y_teste = create_train_test_sets(df, 13)"
   ]
  },
  {
   "cell_type": "code",
   "execution_count": 18,
   "id": "9c7bbef8",
   "metadata": {
    "ExecuteTime": {
     "end_time": "2021-08-31T15:40:52.130369Z",
     "start_time": "2021-08-31T15:40:52.125371Z"
    }
   },
   "outputs": [
    {
     "data": {
      "text/plain": [
       "3348    0\n",
       "1271    0\n",
       "1736    0\n",
       "1126    0\n",
       "3533    1\n",
       "       ..\n",
       "1719    0\n",
       "3947    0\n",
       "5399    0\n",
       "5361    1\n",
       "5318    0\n",
       "Name: type, Length: 3891, dtype: int64"
      ]
     },
     "execution_count": 18,
     "metadata": {},
     "output_type": "execute_result"
    }
   ],
   "source": [
    "y_treino"
   ]
  },
  {
   "cell_type": "code",
   "execution_count": 14,
   "id": "923e607b",
   "metadata": {
    "ExecuteTime": {
     "end_time": "2021-08-31T15:29:04.377390Z",
     "start_time": "2021-08-31T15:29:04.357861Z"
    }
   },
   "outputs": [
    {
     "data": {
      "text/plain": [
       "1010    0\n",
       "3377    0\n",
       "572     0\n",
       "2768    0\n",
       "2043    0\n",
       "       ..\n",
       "5466    0\n",
       "3809    0\n",
       "3286    0\n",
       "5321    1\n",
       "2063    1\n",
       "Name: type, Length: 1668, dtype: int64"
      ]
     },
     "execution_count": 14,
     "metadata": {},
     "output_type": "execute_result"
    }
   ],
   "source": [
    "y_teste"
   ]
  },
  {
   "cell_type": "code",
   "execution_count": 9,
   "id": "b6c2614b",
   "metadata": {
    "ExecuteTime": {
     "end_time": "2021-08-31T15:27:16.379917Z",
     "start_time": "2021-08-31T15:27:16.371403Z"
    }
   },
   "outputs": [
    {
     "data": {
      "text/plain": [
       "matrix([[0, 0, 0, ..., 0, 0, 0],\n",
       "        [0, 0, 0, ..., 0, 0, 0],\n",
       "        [1, 0, 1, ..., 0, 2, 0],\n",
       "        ...,\n",
       "        [0, 0, 0, ..., 0, 0, 0],\n",
       "        [0, 0, 0, ..., 0, 1, 0],\n",
       "        [0, 0, 0, ..., 0, 0, 2]], dtype=int64)"
      ]
     },
     "execution_count": 9,
     "metadata": {},
     "output_type": "execute_result"
    }
   ],
   "source": [
    "X_treino.todense()"
   ]
  },
  {
   "cell_type": "code",
   "execution_count": 15,
   "id": "370d1dbc",
   "metadata": {
    "ExecuteTime": {
     "end_time": "2021-08-31T15:30:28.016963Z",
     "start_time": "2021-08-31T15:30:28.006960Z"
    }
   },
   "outputs": [
    {
     "data": {
      "text/plain": [
       "'sir  i have been late in paying rent for the past few months and had to pay a      charge  i felt it would be inconsiderate of me to nag about something you give at great cost to yourself and that s why i didnt speak up  i however am in a recession and wont be able to pay the charge this month hence my askin well ahead of month s end  can you please help  thanks'"
      ]
     },
     "execution_count": 15,
     "metadata": {},
     "output_type": "execute_result"
    }
   ],
   "source": [
    "df.loc[1830, 'text_clean']"
   ]
  },
  {
   "cell_type": "markdown",
   "id": "6d941d94",
   "metadata": {},
   "source": [
    "### Função para avaliar o modelo"
   ]
  },
  {
   "cell_type": "code",
   "execution_count": 22,
   "id": "478629b4",
   "metadata": {
    "ExecuteTime": {
     "end_time": "2021-08-31T15:43:48.335410Z",
     "start_time": "2021-08-31T15:43:48.159625Z"
    }
   },
   "outputs": [
    {
     "data": {
      "text/plain": [
       "0.8966712898751733"
      ]
     },
     "execution_count": 22,
     "metadata": {},
     "output_type": "execute_result"
    }
   ],
   "source": [
    "from sklearn.tree import DecisionTreeClassifier\n",
    "from sklearn.metrics import roc_auc_score\n",
    "\n",
    "tree_model = DecisionTreeClassifier(random_state=2)\n",
    "\n",
    "X_treino, X_teste, y_treino, y_teste = create_train_test_sets(df, semente=13)\n",
    "\n",
    "tree_model.fit(X_treino, y_treino)\n",
    "\n",
    "y_pred = tree_model.predict_proba(X_teste)\n",
    "\n",
    "score = roc_auc_score(y_teste, y_pred[:,1])\n",
    "\n",
    "score\n"
   ]
  },
  {
   "cell_type": "code",
   "execution_count": 16,
   "id": "a5d99236",
   "metadata": {
    "ExecuteTime": {
     "end_time": "2021-08-31T15:35:14.881072Z",
     "start_time": "2021-08-31T15:35:14.873544Z"
    }
   },
   "outputs": [],
   "source": [
    "# encapsuland tudo na função!\n",
    "def evaluate_model(df_input, modelo, scoring_function, semente):\n",
    "    \n",
    "    X_treino_, X_teste_, y_treino_, y_teste_ = create_train_test_sets(df_input, semente)\n",
    "    \n",
    "    modelo.fit(X_treino_, y_treino_)\n",
    "    \n",
    "    y_pred = modelo.predict_proba(X_teste_)\n",
    "    \n",
    "    score = scoring_function(y_teste_, y_pred[:,1])\n",
    "    \n",
    "    return score\n",
    "    "
   ]
  },
  {
   "cell_type": "code",
   "execution_count": 24,
   "id": "4be85ed4",
   "metadata": {
    "ExecuteTime": {
     "end_time": "2021-08-31T15:45:53.118705Z",
     "start_time": "2021-08-31T15:45:52.937475Z"
    }
   },
   "outputs": [
    {
     "data": {
      "text/plain": [
       "0.8966712898751733"
      ]
     },
     "execution_count": 24,
     "metadata": {},
     "output_type": "execute_result"
    }
   ],
   "source": [
    "evaluate_model(df, tree_model, roc_auc_score, semente=13)"
   ]
  },
  {
   "cell_type": "markdown",
   "id": "21eaf87f",
   "metadata": {},
   "source": [
    "### O que acontece quando mudamos os dados de treino?"
   ]
  },
  {
   "cell_type": "code",
   "execution_count": 25,
   "id": "50df3fa4",
   "metadata": {
    "ExecuteTime": {
     "end_time": "2021-08-31T15:46:16.951336Z",
     "start_time": "2021-08-31T15:46:16.771661Z"
    }
   },
   "outputs": [
    {
     "data": {
      "text/plain": [
       "0.8860721407033215"
      ]
     },
     "execution_count": 25,
     "metadata": {},
     "output_type": "execute_result"
    }
   ],
   "source": [
    "evaluate_model(df, tree_model, roc_auc_score, semente=42)"
   ]
  },
  {
   "cell_type": "code",
   "execution_count": 27,
   "id": "5b782c0f",
   "metadata": {
    "ExecuteTime": {
     "end_time": "2021-08-31T15:47:15.391986Z",
     "start_time": "2021-08-31T15:47:15.214985Z"
    }
   },
   "outputs": [
    {
     "data": {
      "text/plain": [
       "0.891400896920794"
      ]
     },
     "execution_count": 27,
     "metadata": {},
     "output_type": "execute_result"
    }
   ],
   "source": [
    "evaluate_model(df, tree_model, roc_auc_score, semente=100)"
   ]
  },
  {
   "cell_type": "code",
   "execution_count": 29,
   "id": "9a39ef70",
   "metadata": {
    "ExecuteTime": {
     "end_time": "2021-08-31T15:48:51.407441Z",
     "start_time": "2021-08-31T15:48:49.294268Z"
    }
   },
   "outputs": [
    {
     "data": {
      "text/plain": [
       "[0.9074436810243223,\n",
       " 0.8927344809109568,\n",
       " 0.8813116216683711,\n",
       " 0.8954288323165107,\n",
       " 0.8736636635718588,\n",
       " 0.9032948924027762,\n",
       " 0.909859062170706,\n",
       " 0.9104271727155647,\n",
       " 0.880179398148148,\n",
       " 0.8856000027014979,\n",
       " 0.8892384692384693,\n",
       " 0.9009227069393045,\n",
       " 0.909213193236464,\n",
       " 0.8966712898751733,\n",
       " 0.9058040982727176]"
      ]
     },
     "execution_count": 29,
     "metadata": {},
     "output_type": "execute_result"
    }
   ],
   "source": [
    "sementes = [semente for semente in range(15)]\n",
    "\n",
    "scores = [evaluate_model(df, tree_model, roc_auc_score, semente=i) for i in sementes]\n",
    "scores"
   ]
  },
  {
   "cell_type": "code",
   "execution_count": 31,
   "id": "5bca8c7e",
   "metadata": {
    "ExecuteTime": {
     "end_time": "2021-08-31T15:49:33.317945Z",
     "start_time": "2021-08-31T15:49:33.145881Z"
    }
   },
   "outputs": [
    {
     "data": {
      "text/plain": [
       "<AxesSubplot:>"
      ]
     },
     "execution_count": 31,
     "metadata": {},
     "output_type": "execute_result"
    },
    {
     "data": {
      "image/png": "[encoded data removed]",
      "text/plain": [
       "<Figure size 432x288 with 1 Axes>"
      ]
     },
     "metadata": {
      "needs_background": "light"
     },
     "output_type": "display_data"
    }
   ],
   "source": [
    "sns.lineplot(x=sementes, y=scores)"
   ]
  },
  {
   "cell_type": "code",
   "execution_count": null,
   "id": "5a65481b",
   "metadata": {},
   "outputs": [],
   "source": []
  },
  {
   "cell_type": "markdown",
   "id": "3c4c82bb",
   "metadata": {},
   "source": [
    "**Para pensar:** Só mudamos quais emails estão usando para treinar e a performance está instável!"
   ]
  },
  {
   "cell_type": "markdown",
   "id": "01ef2e4d",
   "metadata": {},
   "source": [
    "### Enfim, as instabilidade!"
   ]
  },
  {
   "cell_type": "code",
   "execution_count": 32,
   "id": "54a24a9f",
   "metadata": {
    "ExecuteTime": {
     "end_time": "2021-08-31T15:56:03.030150Z",
     "start_time": "2021-08-31T15:56:03.025149Z"
    }
   },
   "outputs": [],
   "source": [
    "# função que sumariza os passos acima\n",
    "\n",
    "def plot_scores(quantidade, modelo_eval, score_eval):\n",
    "    sementes = [i for i in range(quantidade)]\n",
    "    scores = [evaluate_model(df, modelo=modelo_eval, scoring_function=score_eval, semente=j) for j in sementes]\n",
    "    \n",
    "    sns.lineplot(x=sementes, y=scores)\n",
    "    print(f\"média: {np.mean(scores)}, desvio padrão: {np.std(scores)}\")"
   ]
  },
  {
   "cell_type": "code",
   "execution_count": 33,
   "id": "3b7ab4ef",
   "metadata": {
    "ExecuteTime": {
     "end_time": "2021-08-31T15:57:03.226977Z",
     "start_time": "2021-08-31T15:57:00.832962Z"
    }
   },
   "outputs": [
    {
     "name": "stdout",
     "output_type": "stream",
     "text": [
      "média: 0.8961195043461896, desvio padrão: 0.011574075616600933\n"
     ]
    },
    {
     "data": {
      "image/png": "[encoded data removed]",
      "text/plain": [
       "<Figure size 432x288 with 1 Axes>"
      ]
     },
     "metadata": {
      "needs_background": "light"
     },
     "output_type": "display_data"
    }
   ],
   "source": [
    "plot_scores(quantidade=15, modelo_eval=tree_model, score_eval=roc_auc_score)"
   ]
  },
  {
   "cell_type": "code",
   "execution_count": null,
   "id": "a64c19cf",
   "metadata": {},
   "outputs": [],
   "source": []
  },
  {
   "cell_type": "markdown",
   "id": "b807b0ff",
   "metadata": {},
   "source": [
    "# Bagging\n",
    "Um meio de evitar a instabilidade é treinar diversos modelos **em paralelo** com **amostras** dos dados (técnia de **bootstrapping**) e combinar a decisão de todos eles no final. No caso de *regressão* fazemos a **média** dos resultados e para *classificação*, uma **votação**.\n",
    "\n",
    "* Bootstrapping: Amostragem dos dados com reposição\n",
    "* Modelos em paralelo: um modelo é idependente do outro\n",
    "* Weak learner: Conjunto de amostra de dados + instancia do modelo\n",
    "\n",
    "\n",
    "<img src=\"images/bagging_sketch.png\">"
   ]
  },
  {
   "cell_type": "code",
   "execution_count": 36,
   "id": "a38334f5",
   "metadata": {
    "ExecuteTime": {
     "end_time": "2021-09-01T14:28:04.876830Z",
     "start_time": "2021-09-01T14:28:04.560032Z"
    }
   },
   "outputs": [
    {
     "data": {
      "text/plain": [
       "0.8831391994894013"
      ]
     },
     "execution_count": 36,
     "metadata": {},
     "output_type": "execute_result"
    }
   ],
   "source": [
    "# implementação do BaggingClassifier no sklearn\n",
    "from sklearn.ensemble import BaggingClassifier, BaggingRegressor\n",
    "from sklearn.linear_model import LogisticRegression\n",
    "\n",
    "modelo = LogisticRegression()\n",
    "\n",
    "bc = BaggingClassifier(base_estimator=modelo, n_estimators=10, max_samples=1.0, max_features=1.0, random_state=9)\n",
    "\n",
    "bc.fit(X_treino, y_treino)\n",
    "\n",
    "y_pred = bc.predict(X_teste)\n",
    "\n",
    "roc_auc_score(y_teste, y_pred)"
   ]
  },
  {
   "cell_type": "code",
   "execution_count": 37,
   "id": "2424e66a",
   "metadata": {
    "ExecuteTime": {
     "end_time": "2021-09-01T14:29:26.745841Z",
     "start_time": "2021-09-01T14:29:21.189149Z"
    }
   },
   "outputs": [
    {
     "name": "stdout",
     "output_type": "stream",
     "text": [
      "média: 0.9684035507050013, desvio padrão: 0.0063484914957077825\n"
     ]
    },
    {
     "data": {
      "image/png": "[encoded data removed]",
      "text/plain": [
       "<Figure size 432x288 with 1 Axes>"
      ]
     },
     "metadata": {
      "needs_background": "light"
     },
     "output_type": "display_data"
    }
   ],
   "source": [
    "# será que é mais estável?\n",
    "modelo = LogisticRegression()\n",
    "bc = BaggingClassifier(base_estimator=modelo, n_estimators=10, max_samples=1.0, max_features=1.0, random_state=9)\n",
    "plot_scores(quantidade=15, modelo_eval=bc, score_eval=roc_auc_score)"
   ]
  },
  {
   "cell_type": "code",
   "execution_count": 38,
   "id": "28864e2a",
   "metadata": {
    "ExecuteTime": {
     "end_time": "2021-09-01T14:31:26.710903Z",
     "start_time": "2021-09-01T14:31:22.020852Z"
    }
   },
   "outputs": [
    {
     "name": "stdout",
     "output_type": "stream",
     "text": [
      "média: 0.953678864212811, desvio padrão: 0.010465071980187967\n"
     ]
    },
    {
     "data": {
      "image/png": "[encoded data removed]",
      "text/plain": [
       "<Figure size 432x288 with 1 Axes>"
      ]
     },
     "metadata": {
      "needs_background": "light"
     },
     "output_type": "display_data"
    }
   ],
   "source": [
    "modelo = DecisionTreeClassifier()\n",
    "bc = BaggingClassifier(base_estimator=modelo, n_estimators=10, max_samples=1.0, max_features=1.0, random_state=9)\n",
    "plot_scores(quantidade=15, modelo_eval=bc, score_eval=roc_auc_score)"
   ]
  },
  {
   "cell_type": "code",
   "execution_count": 42,
   "id": "e753f5a5",
   "metadata": {
    "ExecuteTime": {
     "end_time": "2021-09-01T14:36:23.040114Z",
     "start_time": "2021-09-01T14:36:17.712289Z"
    }
   },
   "outputs": [
    {
     "name": "stdout",
     "output_type": "stream",
     "text": [
      "média: 0.9715028329622765, desvio padrão: 0.006826462102622635\n"
     ]
    },
    {
     "data": {
      "image/png": "[encoded data removed]",
      "text/plain": [
       "<Figure size 432x288 with 1 Axes>"
      ]
     },
     "metadata": {
      "needs_background": "light"
     },
     "output_type": "display_data"
    }
   ],
   "source": [
    "modelo = DecisionTreeClassifier()\n",
    "bc = BaggingClassifier(base_estimator=modelo, n_estimators=20, max_samples=0.7, max_features=0.6, random_state=9)\n",
    "plot_scores(quantidade=15, modelo_eval=bc, score_eval=roc_auc_score)"
   ]
  },
  {
   "cell_type": "markdown",
   "id": "918850b8",
   "metadata": {},
   "source": [
    "**Para pensar:** Qual o custo da estabilidade trazida pelo bagging?"
   ]
  },
  {
   "cell_type": "markdown",
   "id": "149d7fb5",
   "metadata": {
    "ExecuteTime": {
     "end_time": "2021-08-31T13:09:36.883250Z",
     "start_time": "2021-08-31T13:09:36.871655Z"
    }
   },
   "source": [
    "> Estabilidade aumenta com o aumento de weak learners, porém também aumenta o tempo de processamento."
   ]
  },
  {
   "cell_type": "code",
   "execution_count": 48,
   "id": "4c934119",
   "metadata": {
    "ExecuteTime": {
     "end_time": "2021-09-01T14:46:00.355838Z",
     "start_time": "2021-09-01T14:45:45.802551Z"
    }
   },
   "outputs": [
    {
     "name": "stdout",
     "output_type": "stream",
     "text": [
      "1.81 s ± 9.62 ms per loop (mean ± std. dev. of 7 runs, 1 loop each)\n"
     ]
    }
   ],
   "source": [
    "%%timeit\n",
    "# verificar o tempo de forma ordenada\n",
    "modelo = DecisionTreeClassifier()\n",
    "\n",
    "bc = BaggingClassifier(base_estimator=modelo, n_estimators=100, max_samples=1.0, max_features=1.0, random_state=9)\n",
    "\n",
    "bc.fit(X_treino, y_treino)\n",
    "\n",
    "y_pred = bc.predict(X_teste)\n",
    "\n",
    "roc_auc_score(y_teste, y_pred)"
   ]
  },
  {
   "cell_type": "code",
   "execution_count": null,
   "id": "9e3734d8",
   "metadata": {},
   "outputs": [],
   "source": []
  },
  {
   "cell_type": "markdown",
   "id": "0bd48035",
   "metadata": {},
   "source": [
    "## Bagging of trees: **Random Forest**\n",
    "\n",
    "Aplica a técnica de bootstrapping para criar diversas árvores!\n",
    "\n",
    "- cada árvore é um weak learned! \n",
    "\n",
    "<img src=\"images/random_forest.png\">"
   ]
  },
  {
   "cell_type": "code",
   "execution_count": 45,
   "id": "c2af0fb8",
   "metadata": {
    "ExecuteTime": {
     "end_time": "2021-09-01T14:42:54.864288Z",
     "start_time": "2021-09-01T14:42:54.298826Z"
    }
   },
   "outputs": [
    {
     "data": {
      "text/plain": [
       "0.9063033152087194"
      ]
     },
     "execution_count": 45,
     "metadata": {},
     "output_type": "execute_result"
    }
   ],
   "source": [
    "# implementação do random forest no sklearn\n",
    "from sklearn.ensemble import RandomForestClassifier\n",
    "\n",
    "rfc = RandomForestClassifier(n_estimators=100, random_state=9)\n",
    "\n",
    "rfc.fit(X_treino, y_treino)\n",
    "\n",
    "y_pred = rfc.predict(X_teste)\n",
    "\n",
    "roc_auc_score(y_teste, y_pred)"
   ]
  },
  {
   "cell_type": "code",
   "execution_count": 46,
   "id": "b93d205b",
   "metadata": {
    "ExecuteTime": {
     "end_time": "2021-09-01T14:43:58.380797Z",
     "start_time": "2021-09-01T14:43:48.394080Z"
    }
   },
   "outputs": [
    {
     "name": "stdout",
     "output_type": "stream",
     "text": [
      "média: 0.9742440486355727, desvio padrão: 0.0062596190210580235\n"
     ]
    },
    {
     "data": {
      "image/png": "[encoded data removed]",
      "text/plain": [
       "<Figure size 432x288 with 1 Axes>"
      ]
     },
     "metadata": {
      "needs_background": "light"
     },
     "output_type": "display_data"
    }
   ],
   "source": [
    "rfc = RandomForestClassifier(n_estimators=100, random_state=9)\n",
    "plot_scores(quantidade=15, modelo_eval=rfc, score_eval=roc_auc_score)"
   ]
  },
  {
   "cell_type": "markdown",
   "id": "7533b88c",
   "metadata": {},
   "source": [
    "A implementação do random forest é muito mais eficiente do que implementar um bagging de árvores na mão!"
   ]
  },
  {
   "cell_type": "code",
   "execution_count": 47,
   "id": "b0b42713",
   "metadata": {
    "ExecuteTime": {
     "end_time": "2021-09-01T14:45:20.177849Z",
     "start_time": "2021-09-01T14:45:15.817848Z"
    }
   },
   "outputs": [
    {
     "name": "stdout",
     "output_type": "stream",
     "text": [
      "542 ms ± 15.7 ms per loop (mean ± std. dev. of 7 runs, 1 loop each)\n"
     ]
    }
   ],
   "source": [
    "%%timeit\n",
    "rfc = RandomForestClassifier(n_estimators=100, random_state=9)\n",
    "\n",
    "rfc.fit(X_treino, y_treino)\n",
    "\n",
    "y_pred = rfc.predict(X_teste)\n",
    "\n",
    "roc_auc_score(y_teste, y_pred)"
   ]
  },
  {
   "cell_type": "code",
   "execution_count": null,
   "id": "1edd8a4f",
   "metadata": {},
   "outputs": [],
   "source": []
  },
  {
   "cell_type": "markdown",
   "id": "689a39c7",
   "metadata": {},
   "source": [
    "# Boosting"
   ]
  },
  {
   "cell_type": "markdown",
   "id": "1ae0b47b",
   "metadata": {},
   "source": [
    "Ao contrário do bagging, o método de boosting treina diversos modelos **em sequência**. \n",
    "\n",
    "<img src=\"images/boosting.png\">\n",
    "\n"
   ]
  },
  {
   "cell_type": "markdown",
   "id": "c3b6d9f0",
   "metadata": {},
   "source": [
    "\n",
    "Essa técnica usa todos os dados e a cada iteração atribui diferentes pesos (importâncias) para os pontos que são classificados erroneamente (pode se tornar obcecado por outilers!). \n",
    "\n",
    "<img src=\"images/boosting1.jpeg\">"
   ]
  },
  {
   "cell_type": "markdown",
   "id": "fbb6a777",
   "metadata": {},
   "source": [
    "<img src=\"https://i.stack.imgur.com/mQ9Np.png\"/>"
   ]
  },
  {
   "cell_type": "code",
   "execution_count": null,
   "id": "443ec1ad",
   "metadata": {},
   "outputs": [],
   "source": []
  },
  {
   "cell_type": "markdown",
   "id": "bd5c99c8",
   "metadata": {},
   "source": [
    "## Entendo os pesos!"
   ]
  },
  {
   "cell_type": "code",
   "execution_count": 50,
   "id": "08f993a1",
   "metadata": {
    "ExecuteTime": {
     "end_time": "2021-09-01T15:12:05.902032Z",
     "start_time": "2021-09-01T15:12:05.759511Z"
    }
   },
   "outputs": [
    {
     "data": {
      "text/plain": [
       "Text(0, 0.5, 'a_m')"
      ]
     },
     "execution_count": 50,
     "metadata": {},
     "output_type": "execute_result"
    },
    {
     "data": {
      "image/png": "[encoded data removed]",
      "text/plain": [
       "<Figure size 432x288 with 1 Axes>"
      ]
     },
     "metadata": {
      "needs_background": "light"
     },
     "output_type": "display_data"
    }
   ],
   "source": [
    "err_m = np.sort(np.random.random(100))\n",
    "\n",
    "def a_m(x):\n",
    "    return np.log((1-x)/x)\n",
    "\n",
    "plt.plot(err_m, a_m(err_m))\n",
    "plt.xlabel('err_m')\n",
    "plt.ylabel('a_m')"
   ]
  },
  {
   "cell_type": "code",
   "execution_count": null,
   "id": "e5be4caf",
   "metadata": {},
   "outputs": [],
   "source": []
  },
  {
   "cell_type": "markdown",
   "id": "2c6cd33d",
   "metadata": {},
   "source": [
    "## Algoritimos de boosting"
   ]
  },
  {
   "cell_type": "markdown",
   "id": "aefa4502",
   "metadata": {},
   "source": [
    "### [AdaBoost](https://en.wikipedia.org/wiki/AdaBoost): Adaptative boosting"
   ]
  },
  {
   "cell_type": "code",
   "execution_count": 52,
   "id": "5512783e",
   "metadata": {
    "ExecuteTime": {
     "end_time": "2021-09-01T15:19:04.780697Z",
     "start_time": "2021-09-01T15:19:04.431811Z"
    }
   },
   "outputs": [
    {
     "data": {
      "text/plain": [
       "0.8159420912449523"
      ]
     },
     "execution_count": 52,
     "metadata": {},
     "output_type": "execute_result"
    }
   ],
   "source": [
    "from sklearn.ensemble import AdaBoostClassifier, AdaBoostRegressor\n",
    "\n",
    "modelo = LogisticRegression()\n",
    "abc = AdaBoostClassifier(base_estimator=modelo, n_estimators=50, random_state=9)\n",
    "\n",
    "abc.fit(X_treino, y_treino)\n",
    "\n",
    "y_pred = abc.predict(X_teste)\n",
    "\n",
    "roc_auc_score(y_teste, y_pred)"
   ]
  },
  {
   "cell_type": "code",
   "execution_count": 53,
   "id": "0cc81e1d",
   "metadata": {
    "ExecuteTime": {
     "end_time": "2021-09-01T15:19:50.962176Z",
     "start_time": "2021-09-01T15:19:44.324750Z"
    }
   },
   "outputs": [
    {
     "name": "stdout",
     "output_type": "stream",
     "text": [
      "média: 0.9664205322185332, desvio padrão: 0.005447575239473624\n"
     ]
    },
    {
     "data": {
      "image/png": "[encoded data removed]",
      "text/plain": [
       "<Figure size 432x288 with 1 Axes>"
      ]
     },
     "metadata": {
      "needs_background": "light"
     },
     "output_type": "display_data"
    }
   ],
   "source": [
    "modelo = LogisticRegression()\n",
    "abc = AdaBoostClassifier(base_estimator=modelo, n_estimators=50, random_state=9)\n",
    "plot_scores(quantidade=15, modelo_eval=abc, score_eval=roc_auc_score)"
   ]
  },
  {
   "cell_type": "code",
   "execution_count": 54,
   "id": "69267ab5",
   "metadata": {
    "ExecuteTime": {
     "end_time": "2021-09-01T15:20:48.344329Z",
     "start_time": "2021-09-01T15:20:42.535966Z"
    }
   },
   "outputs": [
    {
     "name": "stdout",
     "output_type": "stream",
     "text": [
      "média: 0.9186373956015819, desvio padrão: 0.01511789774318434\n"
     ]
    },
    {
     "data": {
      "image/png": "[encoded data removed]",
      "text/plain": [
       "<Figure size 432x288 with 1 Axes>"
      ]
     },
     "metadata": {
      "needs_background": "light"
     },
     "output_type": "display_data"
    }
   ],
   "source": [
    "modelo = DecisionTreeClassifier()\n",
    "abc = AdaBoostClassifier(base_estimator=modelo, n_estimators=50, random_state=9)\n",
    "plot_scores(quantidade=15, modelo_eval=abc, score_eval=roc_auc_score)"
   ]
  },
  {
   "cell_type": "code",
   "execution_count": null,
   "id": "60e67512",
   "metadata": {},
   "outputs": [],
   "source": []
  },
  {
   "cell_type": "markdown",
   "id": "02b6db08",
   "metadata": {},
   "source": [
    "### [LightGBM](https://lightgbm.readthedocs.io/en/latest/Installation-Guide.html): Light Gradient Boosting Machine\n",
    "\n",
    "pip install lightgbm"
   ]
  },
  {
   "cell_type": "code",
   "execution_count": 55,
   "id": "d5d43288",
   "metadata": {
    "ExecuteTime": {
     "end_time": "2021-09-01T15:29:07.667406Z",
     "start_time": "2021-09-01T15:29:06.900863Z"
    }
   },
   "outputs": [
    {
     "ename": "TypeError",
     "evalue": "Expected np.float32 or np.float64, met type(int64)",
     "output_type": "error",
     "traceback": [
      "\u001b[1;31m---------------------------------------------------------------------------\u001b[0m",
      "\u001b[1;31mTypeError\u001b[0m                                 Traceback (most recent call last)",
      "\u001b[1;32m<ipython-input-55-c1fc7fc16eb2>\u001b[0m in \u001b[0;36m<module>\u001b[1;34m\u001b[0m\n\u001b[0;32m      3\u001b[0m \u001b[0mlgbm\u001b[0m \u001b[1;33m=\u001b[0m \u001b[0mLGBMClassifier\u001b[0m\u001b[1;33m(\u001b[0m\u001b[1;33m)\u001b[0m\u001b[1;33m\u001b[0m\u001b[1;33m\u001b[0m\u001b[0m\n\u001b[0;32m      4\u001b[0m \u001b[1;33m\u001b[0m\u001b[0m\n\u001b[1;32m----> 5\u001b[1;33m \u001b[0mlgbm\u001b[0m\u001b[1;33m.\u001b[0m\u001b[0mfit\u001b[0m\u001b[1;33m(\u001b[0m\u001b[0mX_treino\u001b[0m\u001b[1;33m,\u001b[0m \u001b[0my_treino\u001b[0m\u001b[1;33m)\u001b[0m\u001b[1;33m\u001b[0m\u001b[1;33m\u001b[0m\u001b[0m\n\u001b[0m\u001b[0;32m      6\u001b[0m \u001b[1;33m\u001b[0m\u001b[0m\n\u001b[0;32m      7\u001b[0m \u001b[0my_pred\u001b[0m \u001b[1;33m=\u001b[0m \u001b[0mlgbm\u001b[0m\u001b[1;33m.\u001b[0m\u001b[0mpredict\u001b[0m\u001b[1;33m(\u001b[0m\u001b[0mX_teste\u001b[0m\u001b[1;33m)\u001b[0m\u001b[1;33m\u001b[0m\u001b[1;33m\u001b[0m\u001b[0m\n",
      "\u001b[1;32m~\\anaconda3\\lib\\site-packages\\lightgbm\\sklearn.py\u001b[0m in \u001b[0;36mfit\u001b[1;34m(self, X, y, sample_weight, init_score, eval_set, eval_names, eval_sample_weight, eval_class_weight, eval_init_score, eval_metric, early_stopping_rounds, verbose, feature_name, categorical_feature, callbacks, init_model)\u001b[0m\n\u001b[0;32m    888\u001b[0m                     \u001b[0mvalid_sets\u001b[0m\u001b[1;33m[\u001b[0m\u001b[0mi\u001b[0m\u001b[1;33m]\u001b[0m \u001b[1;33m=\u001b[0m \u001b[1;33m(\u001b[0m\u001b[0mvalid_x\u001b[0m\u001b[1;33m,\u001b[0m \u001b[0mself\u001b[0m\u001b[1;33m.\u001b[0m\u001b[0m_le\u001b[0m\u001b[1;33m.\u001b[0m\u001b[0mtransform\u001b[0m\u001b[1;33m(\u001b[0m\u001b[0mvalid_y\u001b[0m\u001b[1;33m)\u001b[0m\u001b[1;33m)\u001b[0m\u001b[1;33m\u001b[0m\u001b[1;33m\u001b[0m\u001b[0m\n\u001b[0;32m    889\u001b[0m \u001b[1;33m\u001b[0m\u001b[0m\n\u001b[1;32m--> 890\u001b[1;33m         super().fit(X, _y, sample_weight=sample_weight, init_score=init_score, eval_set=valid_sets,\n\u001b[0m\u001b[0;32m    891\u001b[0m                     \u001b[0meval_names\u001b[0m\u001b[1;33m=\u001b[0m\u001b[0meval_names\u001b[0m\u001b[1;33m,\u001b[0m \u001b[0meval_sample_weight\u001b[0m\u001b[1;33m=\u001b[0m\u001b[0meval_sample_weight\u001b[0m\u001b[1;33m,\u001b[0m\u001b[1;33m\u001b[0m\u001b[1;33m\u001b[0m\u001b[0m\n\u001b[0;32m    892\u001b[0m                     \u001b[0meval_class_weight\u001b[0m\u001b[1;33m=\u001b[0m\u001b[0meval_class_weight\u001b[0m\u001b[1;33m,\u001b[0m \u001b[0meval_init_score\u001b[0m\u001b[1;33m=\u001b[0m\u001b[0meval_init_score\u001b[0m\u001b[1;33m,\u001b[0m\u001b[1;33m\u001b[0m\u001b[1;33m\u001b[0m\u001b[0m\n",
      "\u001b[1;32m~\\anaconda3\\lib\\site-packages\\lightgbm\\sklearn.py\u001b[0m in \u001b[0;36mfit\u001b[1;34m(self, X, y, sample_weight, init_score, group, eval_set, eval_names, eval_sample_weight, eval_class_weight, eval_init_score, eval_group, eval_metric, early_stopping_rounds, verbose, feature_name, categorical_feature, callbacks, init_model)\u001b[0m\n\u001b[0;32m    681\u001b[0m             \u001b[0minit_model\u001b[0m \u001b[1;33m=\u001b[0m \u001b[0minit_model\u001b[0m\u001b[1;33m.\u001b[0m\u001b[0mbooster_\u001b[0m\u001b[1;33m\u001b[0m\u001b[1;33m\u001b[0m\u001b[0m\n\u001b[0;32m    682\u001b[0m \u001b[1;33m\u001b[0m\u001b[0m\n\u001b[1;32m--> 683\u001b[1;33m         self._Booster = train(params, train_set,\n\u001b[0m\u001b[0;32m    684\u001b[0m                               \u001b[0mself\u001b[0m\u001b[1;33m.\u001b[0m\u001b[0mn_estimators\u001b[0m\u001b[1;33m,\u001b[0m \u001b[0mvalid_sets\u001b[0m\u001b[1;33m=\u001b[0m\u001b[0mvalid_sets\u001b[0m\u001b[1;33m,\u001b[0m \u001b[0mvalid_names\u001b[0m\u001b[1;33m=\u001b[0m\u001b[0meval_names\u001b[0m\u001b[1;33m,\u001b[0m\u001b[1;33m\u001b[0m\u001b[1;33m\u001b[0m\u001b[0m\n\u001b[0;32m    685\u001b[0m                               \u001b[0mearly_stopping_rounds\u001b[0m\u001b[1;33m=\u001b[0m\u001b[0mearly_stopping_rounds\u001b[0m\u001b[1;33m,\u001b[0m\u001b[1;33m\u001b[0m\u001b[1;33m\u001b[0m\u001b[0m\n",
      "\u001b[1;32m~\\anaconda3\\lib\\site-packages\\lightgbm\\engine.py\u001b[0m in \u001b[0;36mtrain\u001b[1;34m(params, train_set, num_boost_round, valid_sets, valid_names, fobj, feval, init_model, feature_name, categorical_feature, early_stopping_rounds, evals_result, verbose_eval, learning_rates, keep_training_booster, callbacks)\u001b[0m\n\u001b[0;32m    226\u001b[0m     \u001b[1;31m# construct booster\u001b[0m\u001b[1;33m\u001b[0m\u001b[1;33m\u001b[0m\u001b[1;33m\u001b[0m\u001b[0m\n\u001b[0;32m    227\u001b[0m     \u001b[1;32mtry\u001b[0m\u001b[1;33m:\u001b[0m\u001b[1;33m\u001b[0m\u001b[1;33m\u001b[0m\u001b[0m\n\u001b[1;32m--> 228\u001b[1;33m         \u001b[0mbooster\u001b[0m \u001b[1;33m=\u001b[0m \u001b[0mBooster\u001b[0m\u001b[1;33m(\u001b[0m\u001b[0mparams\u001b[0m\u001b[1;33m=\u001b[0m\u001b[0mparams\u001b[0m\u001b[1;33m,\u001b[0m \u001b[0mtrain_set\u001b[0m\u001b[1;33m=\u001b[0m\u001b[0mtrain_set\u001b[0m\u001b[1;33m)\u001b[0m\u001b[1;33m\u001b[0m\u001b[1;33m\u001b[0m\u001b[0m\n\u001b[0m\u001b[0;32m    229\u001b[0m         \u001b[1;32mif\u001b[0m \u001b[0mis_valid_contain_train\u001b[0m\u001b[1;33m:\u001b[0m\u001b[1;33m\u001b[0m\u001b[1;33m\u001b[0m\u001b[0m\n\u001b[0;32m    230\u001b[0m             \u001b[0mbooster\u001b[0m\u001b[1;33m.\u001b[0m\u001b[0mset_train_data_name\u001b[0m\u001b[1;33m(\u001b[0m\u001b[0mtrain_data_name\u001b[0m\u001b[1;33m)\u001b[0m\u001b[1;33m\u001b[0m\u001b[1;33m\u001b[0m\u001b[0m\n",
      "\u001b[1;32m~\\anaconda3\\lib\\site-packages\\lightgbm\\basic.py\u001b[0m in \u001b[0;36m__init__\u001b[1;34m(self, params, train_set, model_file, model_str, silent)\u001b[0m\n\u001b[0;32m   2227\u001b[0m                 )\n\u001b[0;32m   2228\u001b[0m             \u001b[1;31m# construct booster object\u001b[0m\u001b[1;33m\u001b[0m\u001b[1;33m\u001b[0m\u001b[1;33m\u001b[0m\u001b[0m\n\u001b[1;32m-> 2229\u001b[1;33m             \u001b[0mtrain_set\u001b[0m\u001b[1;33m.\u001b[0m\u001b[0mconstruct\u001b[0m\u001b[1;33m(\u001b[0m\u001b[1;33m)\u001b[0m\u001b[1;33m\u001b[0m\u001b[1;33m\u001b[0m\u001b[0m\n\u001b[0m\u001b[0;32m   2230\u001b[0m             \u001b[1;31m# copy the parameters from train_set\u001b[0m\u001b[1;33m\u001b[0m\u001b[1;33m\u001b[0m\u001b[1;33m\u001b[0m\u001b[0m\n\u001b[0;32m   2231\u001b[0m             \u001b[0mparams\u001b[0m\u001b[1;33m.\u001b[0m\u001b[0mupdate\u001b[0m\u001b[1;33m(\u001b[0m\u001b[0mtrain_set\u001b[0m\u001b[1;33m.\u001b[0m\u001b[0mget_params\u001b[0m\u001b[1;33m(\u001b[0m\u001b[1;33m)\u001b[0m\u001b[1;33m)\u001b[0m\u001b[1;33m\u001b[0m\u001b[1;33m\u001b[0m\u001b[0m\n",
      "\u001b[1;32m~\\anaconda3\\lib\\site-packages\\lightgbm\\basic.py\u001b[0m in \u001b[0;36mconstruct\u001b[1;34m(self)\u001b[0m\n\u001b[0;32m   1466\u001b[0m             \u001b[1;32melse\u001b[0m\u001b[1;33m:\u001b[0m\u001b[1;33m\u001b[0m\u001b[1;33m\u001b[0m\u001b[0m\n\u001b[0;32m   1467\u001b[0m                 \u001b[1;31m# create train\u001b[0m\u001b[1;33m\u001b[0m\u001b[1;33m\u001b[0m\u001b[1;33m\u001b[0m\u001b[0m\n\u001b[1;32m-> 1468\u001b[1;33m                 self._lazy_init(self.data, label=self.label,\n\u001b[0m\u001b[0;32m   1469\u001b[0m                                 \u001b[0mweight\u001b[0m\u001b[1;33m=\u001b[0m\u001b[0mself\u001b[0m\u001b[1;33m.\u001b[0m\u001b[0mweight\u001b[0m\u001b[1;33m,\u001b[0m \u001b[0mgroup\u001b[0m\u001b[1;33m=\u001b[0m\u001b[0mself\u001b[0m\u001b[1;33m.\u001b[0m\u001b[0mgroup\u001b[0m\u001b[1;33m,\u001b[0m\u001b[1;33m\u001b[0m\u001b[1;33m\u001b[0m\u001b[0m\n\u001b[0;32m   1470\u001b[0m                                 \u001b[0minit_score\u001b[0m\u001b[1;33m=\u001b[0m\u001b[0mself\u001b[0m\u001b[1;33m.\u001b[0m\u001b[0minit_score\u001b[0m\u001b[1;33m,\u001b[0m \u001b[0mpredictor\u001b[0m\u001b[1;33m=\u001b[0m\u001b[0mself\u001b[0m\u001b[1;33m.\u001b[0m\u001b[0m_predictor\u001b[0m\u001b[1;33m,\u001b[0m\u001b[1;33m\u001b[0m\u001b[1;33m\u001b[0m\u001b[0m\n",
      "\u001b[1;32m~\\anaconda3\\lib\\site-packages\\lightgbm\\basic.py\u001b[0m in \u001b[0;36m_lazy_init\u001b[1;34m(self, data, label, reference, weight, group, init_score, predictor, silent, feature_name, categorical_feature, params)\u001b[0m\n\u001b[0;32m   1264\u001b[0m                 ctypes.byref(self.handle)))\n\u001b[0;32m   1265\u001b[0m         \u001b[1;32melif\u001b[0m \u001b[0misinstance\u001b[0m\u001b[1;33m(\u001b[0m\u001b[0mdata\u001b[0m\u001b[1;33m,\u001b[0m \u001b[0mscipy\u001b[0m\u001b[1;33m.\u001b[0m\u001b[0msparse\u001b[0m\u001b[1;33m.\u001b[0m\u001b[0mcsr_matrix\u001b[0m\u001b[1;33m)\u001b[0m\u001b[1;33m:\u001b[0m\u001b[1;33m\u001b[0m\u001b[1;33m\u001b[0m\u001b[0m\n\u001b[1;32m-> 1266\u001b[1;33m             \u001b[0mself\u001b[0m\u001b[1;33m.\u001b[0m\u001b[0m__init_from_csr\u001b[0m\u001b[1;33m(\u001b[0m\u001b[0mdata\u001b[0m\u001b[1;33m,\u001b[0m \u001b[0mparams_str\u001b[0m\u001b[1;33m,\u001b[0m \u001b[0mref_dataset\u001b[0m\u001b[1;33m)\u001b[0m\u001b[1;33m\u001b[0m\u001b[1;33m\u001b[0m\u001b[0m\n\u001b[0m\u001b[0;32m   1267\u001b[0m         \u001b[1;32melif\u001b[0m \u001b[0misinstance\u001b[0m\u001b[1;33m(\u001b[0m\u001b[0mdata\u001b[0m\u001b[1;33m,\u001b[0m \u001b[0mscipy\u001b[0m\u001b[1;33m.\u001b[0m\u001b[0msparse\u001b[0m\u001b[1;33m.\u001b[0m\u001b[0mcsc_matrix\u001b[0m\u001b[1;33m)\u001b[0m\u001b[1;33m:\u001b[0m\u001b[1;33m\u001b[0m\u001b[1;33m\u001b[0m\u001b[0m\n\u001b[0;32m   1268\u001b[0m             \u001b[0mself\u001b[0m\u001b[1;33m.\u001b[0m\u001b[0m__init_from_csc\u001b[0m\u001b[1;33m(\u001b[0m\u001b[0mdata\u001b[0m\u001b[1;33m,\u001b[0m \u001b[0mparams_str\u001b[0m\u001b[1;33m,\u001b[0m \u001b[0mref_dataset\u001b[0m\u001b[1;33m)\u001b[0m\u001b[1;33m\u001b[0m\u001b[1;33m\u001b[0m\u001b[0m\n",
      "\u001b[1;32m~\\anaconda3\\lib\\site-packages\\lightgbm\\basic.py\u001b[0m in \u001b[0;36m__init_from_csr\u001b[1;34m(self, csr, params_str, ref_dataset)\u001b[0m\n\u001b[0;32m   1374\u001b[0m \u001b[1;33m\u001b[0m\u001b[0m\n\u001b[0;32m   1375\u001b[0m         \u001b[0mptr_indptr\u001b[0m\u001b[1;33m,\u001b[0m \u001b[0mtype_ptr_indptr\u001b[0m\u001b[1;33m,\u001b[0m \u001b[0m__\u001b[0m \u001b[1;33m=\u001b[0m \u001b[0mc_int_array\u001b[0m\u001b[1;33m(\u001b[0m\u001b[0mcsr\u001b[0m\u001b[1;33m.\u001b[0m\u001b[0mindptr\u001b[0m\u001b[1;33m)\u001b[0m\u001b[1;33m\u001b[0m\u001b[1;33m\u001b[0m\u001b[0m\n\u001b[1;32m-> 1376\u001b[1;33m         \u001b[0mptr_data\u001b[0m\u001b[1;33m,\u001b[0m \u001b[0mtype_ptr_data\u001b[0m\u001b[1;33m,\u001b[0m \u001b[0m_\u001b[0m \u001b[1;33m=\u001b[0m \u001b[0mc_float_array\u001b[0m\u001b[1;33m(\u001b[0m\u001b[0mcsr\u001b[0m\u001b[1;33m.\u001b[0m\u001b[0mdata\u001b[0m\u001b[1;33m)\u001b[0m\u001b[1;33m\u001b[0m\u001b[1;33m\u001b[0m\u001b[0m\n\u001b[0m\u001b[0;32m   1377\u001b[0m \u001b[1;33m\u001b[0m\u001b[0m\n\u001b[0;32m   1378\u001b[0m         \u001b[1;32massert\u001b[0m \u001b[0mcsr\u001b[0m\u001b[1;33m.\u001b[0m\u001b[0mshape\u001b[0m\u001b[1;33m[\u001b[0m\u001b[1;36m1\u001b[0m\u001b[1;33m]\u001b[0m \u001b[1;33m<=\u001b[0m \u001b[0mMAX_INT32\u001b[0m\u001b[1;33m\u001b[0m\u001b[1;33m\u001b[0m\u001b[0m\n",
      "\u001b[1;32m~\\anaconda3\\lib\\site-packages\\lightgbm\\basic.py\u001b[0m in \u001b[0;36mc_float_array\u001b[1;34m(data)\u001b[0m\n\u001b[0;32m    466\u001b[0m             \u001b[0mtype_data\u001b[0m \u001b[1;33m=\u001b[0m \u001b[0mC_API_DTYPE_FLOAT64\u001b[0m\u001b[1;33m\u001b[0m\u001b[1;33m\u001b[0m\u001b[0m\n\u001b[0;32m    467\u001b[0m         \u001b[1;32melse\u001b[0m\u001b[1;33m:\u001b[0m\u001b[1;33m\u001b[0m\u001b[1;33m\u001b[0m\u001b[0m\n\u001b[1;32m--> 468\u001b[1;33m             raise TypeError(\"Expected np.float32 or np.float64, met type({})\"\n\u001b[0m\u001b[0;32m    469\u001b[0m                             .format(data.dtype))\n\u001b[0;32m    470\u001b[0m     \u001b[1;32melse\u001b[0m\u001b[1;33m:\u001b[0m\u001b[1;33m\u001b[0m\u001b[1;33m\u001b[0m\u001b[0m\n",
      "\u001b[1;31mTypeError\u001b[0m: Expected np.float32 or np.float64, met type(int64)"
     ]
    }
   ],
   "source": [
    "from lightgbm import LGBMClassifier\n",
    "\n",
    "lgbm = LGBMClassifier()\n",
    "\n",
    "lgbm.fit(X_treino, y_treino)\n",
    "\n",
    "y_pred = lgbm.predict(X_teste)\n",
    "\n",
    "roc_auc_score(y_teste, y_pred)"
   ]
  },
  {
   "cell_type": "code",
   "execution_count": 60,
   "id": "c307180e",
   "metadata": {
    "ExecuteTime": {
     "end_time": "2021-09-01T15:30:16.916350Z",
     "start_time": "2021-09-01T15:30:16.906351Z"
    }
   },
   "outputs": [
    {
     "data": {
      "text/plain": [
       "matrix([[0, 0, 0, ..., 0, 0, 0],\n",
       "        [0, 0, 0, ..., 0, 0, 0],\n",
       "        [1, 0, 1, ..., 0, 2, 0],\n",
       "        ...,\n",
       "        [0, 0, 0, ..., 0, 0, 0],\n",
       "        [0, 0, 0, ..., 0, 1, 0],\n",
       "        [0, 0, 0, ..., 0, 0, 2]], dtype=int64)"
      ]
     },
     "execution_count": 60,
     "metadata": {},
     "output_type": "execute_result"
    }
   ],
   "source": [
    "X_treino.todense()"
   ]
  },
  {
   "cell_type": "code",
   "execution_count": 61,
   "id": "6ac35335",
   "metadata": {
    "ExecuteTime": {
     "end_time": "2021-09-01T15:30:24.561294Z",
     "start_time": "2021-09-01T15:30:24.550295Z"
    }
   },
   "outputs": [
    {
     "data": {
      "text/plain": [
       "matrix([[0., 0., 0., ..., 0., 0., 0.],\n",
       "        [0., 0., 0., ..., 0., 0., 0.],\n",
       "        [1., 0., 1., ..., 0., 2., 0.],\n",
       "        ...,\n",
       "        [0., 0., 0., ..., 0., 0., 0.],\n",
       "        [0., 0., 0., ..., 0., 1., 0.],\n",
       "        [0., 0., 0., ..., 0., 0., 2.]])"
      ]
     },
     "execution_count": 61,
     "metadata": {},
     "output_type": "execute_result"
    }
   ],
   "source": [
    "X_treino.todense()*1.0"
   ]
  },
  {
   "cell_type": "code",
   "execution_count": 62,
   "id": "6f77e13a",
   "metadata": {
    "ExecuteTime": {
     "end_time": "2021-09-01T15:30:38.739295Z",
     "start_time": "2021-09-01T15:30:38.606298Z"
    }
   },
   "outputs": [
    {
     "data": {
      "text/plain": [
       "0.917712002749377"
      ]
     },
     "execution_count": 62,
     "metadata": {},
     "output_type": "execute_result"
    }
   ],
   "source": [
    "lgbm = LGBMClassifier()\n",
    "\n",
    "lgbm.fit(X_treino*1.0, y_treino*1.0)\n",
    "\n",
    "y_pred = lgbm.predict(X_teste*1.0)\n",
    "\n",
    "roc_auc_score(y_teste, y_pred)"
   ]
  },
  {
   "cell_type": "markdown",
   "id": "02e87fbc",
   "metadata": {},
   "source": [
    "### [Xgboost](https://xgboost.readthedocs.io/en/latest/): Extreme gradient boosting\n",
    "\n",
    "pip install xgboost"
   ]
  },
  {
   "cell_type": "code",
   "execution_count": 63,
   "id": "9363738a",
   "metadata": {
    "ExecuteTime": {
     "end_time": "2021-09-01T15:34:36.144794Z",
     "start_time": "2021-09-01T15:34:35.166988Z"
    }
   },
   "outputs": [
    {
     "name": "stderr",
     "output_type": "stream",
     "text": [
      "C:\\Users\\lcode\\anaconda3\\lib\\site-packages\\xgboost\\sklearn.py:1146: UserWarning: The use of label encoder in XGBClassifier is deprecated and will be removed in a future release. To remove this warning, do the following: 1) Pass option use_label_encoder=False when constructing XGBClassifier object; and 2) Encode your labels (y) as integers starting with 0, i.e. 0, 1, 2, ..., [num_class - 1].\n",
      "  warnings.warn(label_encoder_deprecation_msg, UserWarning)\n"
     ]
    },
    {
     "name": "stdout",
     "output_type": "stream",
     "text": [
      "[12:34:36] WARNING: C:/Users/Administrator/workspace/xgboost-win64_release_1.4.0/src/learner.cc:1095: Starting in XGBoost 1.3.0, the default evaluation metric used with the objective 'binary:logistic' was changed from 'error' to 'logloss'. Explicitly set eval_metric if you'd like to restore the old behavior.\n"
     ]
    },
    {
     "data": {
      "text/plain": [
       "0.9170185214733715"
      ]
     },
     "execution_count": 63,
     "metadata": {},
     "output_type": "execute_result"
    }
   ],
   "source": [
    "from xgboost import XGBClassifier\n",
    "\n",
    "xgc = XGBClassifier(verbosity=1)\n",
    "\n",
    "xgc.fit(X_treino, y_treino)\n",
    "\n",
    "y_pred = xgc.predict(X_teste)\n",
    "\n",
    "roc_auc_score(y_teste, y_pred)"
   ]
  },
  {
   "cell_type": "code",
   "execution_count": null,
   "id": "83c1dcf1",
   "metadata": {},
   "outputs": [],
   "source": []
  },
  {
   "cell_type": "markdown",
   "id": "3233eb9f",
   "metadata": {},
   "source": [
    "# Bonus: Stacking models - Para casa!\n",
    "\n",
    "Para expandir nosso horizonte, vamos estender as idéais acima para a combinação de diferentes modelos, técnica conhecida como [Stacking](https://scikit-learn.org/stable/modules/generated/sklearn.ensemble.StackingClassifier.html)."
   ]
  },
  {
   "cell_type": "code",
   "execution_count": 64,
   "id": "f03147a2",
   "metadata": {
    "ExecuteTime": {
     "end_time": "2021-09-01T15:36:20.943696Z",
     "start_time": "2021-09-01T15:36:20.531411Z"
    }
   },
   "outputs": [
    {
     "data": {
      "text/plain": [
       "0.903397444552183"
      ]
     },
     "execution_count": 64,
     "metadata": {},
     "output_type": "execute_result"
    }
   ],
   "source": [
    "from sklearn.ensemble import StackingClassifier\n",
    "from sklearn.neighbors import KNeighborsClassifier\n",
    "from sklearn.svm import SVC\n",
    "\n",
    "\n",
    "nosso_estimator = [\n",
    "    ('lr', LogisticRegression()),\n",
    "    ('tree', DecisionTreeClassifier())\n",
    "]\n",
    "\n",
    "sc = StackingClassifier(estimators=nosso_estimator, final_estimator=KNeighborsClassifier(), cv=7)\n",
    "\n",
    "sc.fit(X_treino, y_treino)\n",
    "\n",
    "y_pred = sc.predict(X_teste)\n",
    "roc_auc_score(y_teste, y_pred)"
   ]
  },
  {
   "cell_type": "code",
   "execution_count": null,
   "id": "b31b6107",
   "metadata": {},
   "outputs": [],
   "source": []
  }
 ],
 "metadata": {
  "kernelspec": {
   "display_name": "Python 3",
   "language": "python",
   "name": "python3"
  },
  "language_info": {
   "codemirror_mode": {
    "name": "ipython",
    "version": 3
   },
   "file_extension": ".py",
   "mimetype": "text/x-python",
   "name": "python",
   "nbconvert_exporter": "python",
   "pygments_lexer": "ipython3",
   "version": "3.8.8"
  },
  "toc": {
   "base_numbering": 1,
   "nav_menu": {},
   "number_sections": true,
   "sideBar": true,
   "skip_h1_title": false,
   "title_cell": "Table of Contents",
   "title_sidebar": "Contents",
   "toc_cell": false,
   "toc_position": {
    "height": "calc(100% - 180px)",
    "left": "10px",
    "top": "150px",
    "width": "236.875px"
   },
   "toc_section_display": true,
   "toc_window_display": true
  },
  "varInspector": {
   "cols": {
    "lenName": 16,
    "lenType": 16,
    "lenVar": 40
   },
   "kernels_config": {
    "python": {
     "delete_cmd_postfix": "",
     "delete_cmd_prefix": "del ",
     "library": "var_list.py",
     "varRefreshCmd": "print(var_dic_list())"
    },
    "r": {
     "delete_cmd_postfix": ") ",
     "delete_cmd_prefix": "rm(",
     "library": "var_list.r",
     "varRefreshCmd": "cat(var_dic_list()) "
    }
   },
   "types_to_exclude": [
    "module",
    "function",
    "builtin_function_or_method",
    "instance",
    "_Feature"
   ],
   "window_display": false
  }
 },
 "nbformat": 4,
 "nbformat_minor": 5
}
