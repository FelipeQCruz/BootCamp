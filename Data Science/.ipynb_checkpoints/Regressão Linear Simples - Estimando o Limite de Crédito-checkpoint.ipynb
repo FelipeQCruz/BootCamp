{
 "cells": [
  {
   "cell_type": "code",
   "execution_count": 1,
   "id": "82c829b8",
   "metadata": {
    "ExecuteTime": {
     "end_time": "2021-08-24T19:25:14.305775Z",
     "start_time": "2021-08-24T19:25:11.200332Z"
    }
   },
   "outputs": [],
   "source": [
    "import numpy as np\n",
    "import pandas as pd\n",
    "import matplotlib.pyplot as plt\n",
    "import seaborn as sns\n",
    "from sklearn.linear_model import LinearRegression\n",
    "from scipy.stats import pearsonr\n",
    "import statsmodels.api as sm"
   ]
  },
  {
   "cell_type": "markdown",
   "id": "14919a3a",
   "metadata": {},
   "source": [
    "## Importando o dataset"
   ]
  },
  {
   "cell_type": "code",
   "execution_count": 2,
   "id": "df5afcf0",
   "metadata": {
    "ExecuteTime": {
     "end_time": "2021-08-24T19:25:14.315535Z",
     "start_time": "2021-08-24T19:25:14.307728Z"
    }
   },
   "outputs": [],
   "source": [
    "df = pd.read_csv('score.csv')"
   ]
  },
  {
   "cell_type": "code",
   "execution_count": 3,
   "id": "aa2d4162",
   "metadata": {
    "ExecuteTime": {
     "end_time": "2021-08-24T19:25:15.084037Z",
     "start_time": "2021-08-24T19:25:14.317487Z"
    }
   },
   "outputs": [
    {
     "data": {
      "text/html": [
       "<div>\n",
       "<style scoped>\n",
       "    .dataframe tbody tr th:only-of-type {\n",
       "        vertical-align: middle;\n",
       "    }\n",
       "\n",
       "    .dataframe tbody tr th {\n",
       "        vertical-align: top;\n",
       "    }\n",
       "\n",
       "    .dataframe thead th {\n",
       "        text-align: right;\n",
       "    }\n",
       "</style>\n",
       "<table border=\"1\" class=\"dataframe\">\n",
       "  <thead>\n",
       "    <tr style=\"text-align: right;\">\n",
       "      <th></th>\n",
       "      <th>Limit</th>\n",
       "      <th>Score</th>\n",
       "    </tr>\n",
       "  </thead>\n",
       "  <tbody>\n",
       "    <tr>\n",
       "      <th>0</th>\n",
       "      <td>3606</td>\n",
       "      <td>283</td>\n",
       "    </tr>\n",
       "    <tr>\n",
       "      <th>1</th>\n",
       "      <td>6645</td>\n",
       "      <td>483</td>\n",
       "    </tr>\n",
       "    <tr>\n",
       "      <th>2</th>\n",
       "      <td>7075</td>\n",
       "      <td>514</td>\n",
       "    </tr>\n",
       "    <tr>\n",
       "      <th>3</th>\n",
       "      <td>9504</td>\n",
       "      <td>681</td>\n",
       "    </tr>\n",
       "    <tr>\n",
       "      <th>4</th>\n",
       "      <td>4897</td>\n",
       "      <td>357</td>\n",
       "    </tr>\n",
       "  </tbody>\n",
       "</table>\n",
       "</div>"
      ],
      "text/plain": [
       "   Limit  Score\n",
       "0   3606    283\n",
       "1   6645    483\n",
       "2   7075    514\n",
       "3   9504    681\n",
       "4   4897    357"
      ]
     },
     "execution_count": 3,
     "metadata": {},
     "output_type": "execute_result"
    }
   ],
   "source": [
    "df.head()"
   ]
  },
  {
   "cell_type": "code",
   "execution_count": 4,
   "id": "7d54a4fc",
   "metadata": {
    "ExecuteTime": {
     "end_time": "2021-08-24T19:25:15.589605Z",
     "start_time": "2021-08-24T19:25:15.085990Z"
    }
   },
   "outputs": [
    {
     "data": {
      "text/plain": [
       "<AxesSubplot:xlabel='Score', ylabel='Limit'>"
      ]
     },
     "execution_count": 4,
     "metadata": {},
     "output_type": "execute_result"
    },
    {
     "data": {
      "image/png": "[encoded data removed]",
      "text/plain": [
       "<Figure size 432x288 with 1 Axes>"
      ]
     },
     "metadata": {
      "needs_background": "light"
     },
     "output_type": "display_data"
    }
   ],
   "source": [
    "sns.scatterplot(data=df, x='Score', y='Limit')"
   ]
  },
  {
   "cell_type": "markdown",
   "id": "faa76922",
   "metadata": {},
   "source": [
    "## Calculando a correlação entre as features\n",
    "\n",
    "Calculando \"manualmente\" antes para comparar com o LinearRegression e o OLS futuramente."
   ]
  },
  {
   "cell_type": "code",
   "execution_count": 5,
   "id": "c3a60397",
   "metadata": {
    "ExecuteTime": {
     "end_time": "2021-08-24T19:25:15.597413Z",
     "start_time": "2021-08-24T19:25:15.590581Z"
    }
   },
   "outputs": [
    {
     "data": {
      "text/plain": [
       "(0.9968797370016828, 0.0)"
      ]
     },
     "execution_count": 5,
     "metadata": {},
     "output_type": "execute_result"
    }
   ],
   "source": [
    "pearsonr(df['Score'], df['Limit'])"
   ]
  },
  {
   "cell_type": "markdown",
   "id": "517241c9",
   "metadata": {},
   "source": [
    "> Correlação muito forte"
   ]
  },
  {
   "cell_type": "code",
   "execution_count": 6,
   "id": "f261f90e",
   "metadata": {
    "ExecuteTime": {
     "end_time": "2021-08-24T19:25:15.747718Z",
     "start_time": "2021-08-24T19:25:15.598389Z"
    }
   },
   "outputs": [
    {
     "data": {
      "text/plain": [
       "(-542.9282299868937, 14.871607116658854)"
      ]
     },
     "execution_count": 6,
     "metadata": {},
     "output_type": "execute_result"
    }
   ],
   "source": [
    "#Calculando as variáveis, beta 0, beta 1\n",
    "X = df['Score'].values\n",
    "y = df['Limit'].values\n",
    "x_mean = X.mean()\n",
    "y_mean = y.mean()\n",
    "numerador = (X - x_mean) * (y - y_mean)\n",
    "denominador = (X - x_mean)**2\n",
    "b1 = sum(numerador) / sum(denominador)\n",
    "b0 = y_mean - b1 * x_mean\n",
    "y_est = b0 + b1 * X\n",
    "b0, b1"
   ]
  },
  {
   "cell_type": "markdown",
   "id": "37587b62",
   "metadata": {},
   "source": [
    "### Gráfico"
   ]
  },
  {
   "cell_type": "code",
   "execution_count": 7,
   "id": "5d63de0b",
   "metadata": {
    "ExecuteTime": {
     "end_time": "2021-08-24T19:25:16.045397Z",
     "start_time": "2021-08-24T19:25:15.749669Z"
    }
   },
   "outputs": [
    {
     "data": {
      "image/png": "[encoded data removed]",
      "text/plain": [
       "<Figure size 432x288 with 1 Axes>"
      ]
     },
     "metadata": {
      "needs_background": "light"
     },
     "output_type": "display_data"
    }
   ],
   "source": [
    "plt.scatter(X, y)\n",
    "plt.plot(X, y_est, color='blue', linewidth=3)\n",
    "plt.xlabel('Score')\n",
    "plt.ylabel('Limite')\n",
    "plt.show()"
   ]
  },
  {
   "cell_type": "markdown",
   "id": "d30dbe85",
   "metadata": {},
   "source": [
    "## LinearRegression "
   ]
  },
  {
   "cell_type": "code",
   "execution_count": 8,
   "id": "f750f74a",
   "metadata": {
    "ExecuteTime": {
     "end_time": "2021-08-24T19:25:16.052230Z",
     "start_time": "2021-08-24T19:25:16.048325Z"
    }
   },
   "outputs": [],
   "source": [
    "X = df['Score'].values\n",
    "y = df['Limit'].values"
   ]
  },
  {
   "cell_type": "code",
   "execution_count": 9,
   "id": "d8ae966c",
   "metadata": {
    "ExecuteTime": {
     "end_time": "2021-08-24T19:25:16.216197Z",
     "start_time": "2021-08-24T19:25:16.054181Z"
    }
   },
   "outputs": [],
   "source": [
    "lr = LinearRegression()"
   ]
  },
  {
   "cell_type": "code",
   "execution_count": 10,
   "id": "0368b9b5",
   "metadata": {
    "ExecuteTime": {
     "end_time": "2021-08-24T19:25:16.337734Z",
     "start_time": "2021-08-24T19:25:16.218149Z"
    }
   },
   "outputs": [
    {
     "data": {
      "text/plain": [
       "LinearRegression()"
      ]
     },
     "execution_count": 10,
     "metadata": {},
     "output_type": "execute_result"
    }
   ],
   "source": [
    "lr.fit(X.reshape(-1, 1), y)"
   ]
  },
  {
   "cell_type": "code",
   "execution_count": 11,
   "id": "97f67b5a",
   "metadata": {
    "ExecuteTime": {
     "end_time": "2021-08-24T19:25:16.460185Z",
     "start_time": "2021-08-24T19:25:16.339682Z"
    }
   },
   "outputs": [
    {
     "data": {
      "text/plain": [
       "-542.9282299869001"
      ]
     },
     "execution_count": 11,
     "metadata": {},
     "output_type": "execute_result"
    }
   ],
   "source": [
    "lr.intercept_ # beta 0"
   ]
  },
  {
   "cell_type": "code",
   "execution_count": 12,
   "id": "90e8b2e2",
   "metadata": {
    "ExecuteTime": {
     "end_time": "2021-08-24T19:25:16.598529Z",
     "start_time": "2021-08-24T19:25:16.462138Z"
    }
   },
   "outputs": [
    {
     "data": {
      "text/plain": [
       "array([14.87160712])"
      ]
     },
     "execution_count": 12,
     "metadata": {},
     "output_type": "execute_result"
    }
   ],
   "source": [
    "lr.coef_ # beta 1"
   ]
  },
  {
   "cell_type": "code",
   "execution_count": 13,
   "id": "fc7b5ab2",
   "metadata": {
    "ExecuteTime": {
     "end_time": "2021-08-24T19:25:16.730550Z",
     "start_time": "2021-08-24T19:25:16.599506Z"
    }
   },
   "outputs": [],
   "source": [
    "def limiteLR (score):\n",
    "    pred = lr.predict([[score]])[0]\n",
    "    if pred < 0:\n",
    "        return 0\n",
    "    else:\n",
    "        return pred"
   ]
  },
  {
   "cell_type": "markdown",
   "id": "e9a94293",
   "metadata": {},
   "source": [
    "### Função para prever o limite, dado o Score"
   ]
  },
  {
   "cell_type": "code",
   "execution_count": 14,
   "id": "8e2dd389",
   "metadata": {
    "ExecuteTime": {
     "end_time": "2021-08-24T19:25:30.432012Z",
     "start_time": "2021-08-24T19:25:16.732503Z"
    }
   },
   "outputs": [
    {
     "name": "stdout",
     "output_type": "stream",
     "text": [
      "Informe o score (números), ou digite um texto para sair: 5000\n",
      "Limite previsto: R$ 73815.11\n",
      "Informe o score (números), ou digite um texto para sair: 0\n",
      "Limite previsto: R$ 0.00\n",
      "Informe o score (números), ou digite um texto para sair: .\n",
      "Finalizado\n"
     ]
    }
   ],
   "source": [
    "def preveLimite():\n",
    "    key = True\n",
    "    while key:\n",
    "        score = input('Informe o score (números), ou digite um texto para sair: ') \n",
    "        try:\n",
    "            score = float(score)\n",
    "            limite = limiteLR(score)\n",
    "            print(f'Limite previsto: R$ {limite:.2f}')\n",
    "        except:\n",
    "            return print('Finalizado')\n",
    "        \n",
    "preveLimite()"
   ]
  },
  {
   "cell_type": "markdown",
   "id": "ae95ebc0",
   "metadata": {},
   "source": [
    "## OLS "
   ]
  },
  {
   "cell_type": "code",
   "execution_count": 15,
   "id": "393c8397",
   "metadata": {
    "ExecuteTime": {
     "end_time": "2021-08-24T19:25:30.448604Z",
     "start_time": "2021-08-24T19:25:30.433964Z"
    }
   },
   "outputs": [],
   "source": [
    "x = sm.add_constant(X) \n",
    "model = sm.OLS(y, x).fit()"
   ]
  },
  {
   "cell_type": "code",
   "execution_count": 16,
   "id": "a7aca553",
   "metadata": {
    "ExecuteTime": {
     "end_time": "2021-08-24T19:25:30.637953Z",
     "start_time": "2021-08-24T19:25:30.462269Z"
    }
   },
   "outputs": [
    {
     "data": {
      "text/html": [
       "<table class=\"simpletable\">\n",
       "<caption>OLS Regression Results</caption>\n",
       "<tr>\n",
       "  <th>Dep. Variable:</th>            <td>y</td>        <th>  R-squared:         </th> <td>   0.994</td> \n",
       "</tr>\n",
       "<tr>\n",
       "  <th>Model:</th>                   <td>OLS</td>       <th>  Adj. R-squared:    </th> <td>   0.994</td> \n",
       "</tr>\n",
       "<tr>\n",
       "  <th>Method:</th>             <td>Least Squares</td>  <th>  F-statistic:       </th> <td>6.348e+04</td>\n",
       "</tr>\n",
       "<tr>\n",
       "  <th>Date:</th>             <td>Tue, 24 Aug 2021</td> <th>  Prob (F-statistic):</th>  <td>  0.00</td>  \n",
       "</tr>\n",
       "<tr>\n",
       "  <th>Time:</th>                 <td>16:25:30</td>     <th>  Log-Likelihood:    </th> <td> -2649.1</td> \n",
       "</tr>\n",
       "<tr>\n",
       "  <th>No. Observations:</th>      <td>   400</td>      <th>  AIC:               </th> <td>   5302.</td> \n",
       "</tr>\n",
       "<tr>\n",
       "  <th>Df Residuals:</th>          <td>   398</td>      <th>  BIC:               </th> <td>   5310.</td> \n",
       "</tr>\n",
       "<tr>\n",
       "  <th>Df Model:</th>              <td>     1</td>      <th>                     </th>     <td> </td>    \n",
       "</tr>\n",
       "<tr>\n",
       "  <th>Covariance Type:</th>      <td>nonrobust</td>    <th>                     </th>     <td> </td>    \n",
       "</tr>\n",
       "</table>\n",
       "<table class=\"simpletable\">\n",
       "<tr>\n",
       "    <td></td>       <th>coef</th>     <th>std err</th>      <th>t</th>      <th>P>|t|</th>  <th>[0.025</th>    <th>0.975]</th>  \n",
       "</tr>\n",
       "<tr>\n",
       "  <th>const</th> <td> -542.9282</td> <td>   22.850</td> <td>  -23.760</td> <td> 0.000</td> <td> -587.851</td> <td> -498.006</td>\n",
       "</tr>\n",
       "<tr>\n",
       "  <th>x1</th>    <td>   14.8716</td> <td>    0.059</td> <td>  251.949</td> <td> 0.000</td> <td>   14.756</td> <td>   14.988</td>\n",
       "</tr>\n",
       "</table>\n",
       "<table class=\"simpletable\">\n",
       "<tr>\n",
       "  <th>Omnibus:</th>       <td> 6.887</td> <th>  Durbin-Watson:     </th> <td>   2.080</td>\n",
       "</tr>\n",
       "<tr>\n",
       "  <th>Prob(Omnibus):</th> <td> 0.032</td> <th>  Jarque-Bera (JB):  </th> <td>   4.980</td>\n",
       "</tr>\n",
       "<tr>\n",
       "  <th>Skew:</th>          <td>-0.145</td> <th>  Prob(JB):          </th> <td>  0.0829</td>\n",
       "</tr>\n",
       "<tr>\n",
       "  <th>Kurtosis:</th>      <td> 2.537</td> <th>  Cond. No.          </th> <td>    970.</td>\n",
       "</tr>\n",
       "</table><br/><br/>Notes:<br/>[1] Standard Errors assume that the covariance matrix of the errors is correctly specified."
      ],
      "text/plain": [
       "<class 'statsmodels.iolib.summary.Summary'>\n",
       "\"\"\"\n",
       "                            OLS Regression Results                            \n",
       "==============================================================================\n",
       "Dep. Variable:                      y   R-squared:                       0.994\n",
       "Model:                            OLS   Adj. R-squared:                  0.994\n",
       "Method:                 Least Squares   F-statistic:                 6.348e+04\n",
       "Date:                Tue, 24 Aug 2021   Prob (F-statistic):               0.00\n",
       "Time:                        16:25:30   Log-Likelihood:                -2649.1\n",
       "No. Observations:                 400   AIC:                             5302.\n",
       "Df Residuals:                     398   BIC:                             5310.\n",
       "Df Model:                           1                                         \n",
       "Covariance Type:            nonrobust                                         \n",
       "==============================================================================\n",
       "                 coef    std err          t      P>|t|      [0.025      0.975]\n",
       "------------------------------------------------------------------------------\n",
       "const       -542.9282     22.850    -23.760      0.000    -587.851    -498.006\n",
       "x1            14.8716      0.059    251.949      0.000      14.756      14.988\n",
       "==============================================================================\n",
       "Omnibus:                        6.887   Durbin-Watson:                   2.080\n",
       "Prob(Omnibus):                  0.032   Jarque-Bera (JB):                4.980\n",
       "Skew:                          -0.145   Prob(JB):                       0.0829\n",
       "Kurtosis:                       2.537   Cond. No.                         970.\n",
       "==============================================================================\n",
       "\n",
       "Notes:\n",
       "[1] Standard Errors assume that the covariance matrix of the errors is correctly specified.\n",
       "\"\"\""
      ]
     },
     "execution_count": 16,
     "metadata": {},
     "output_type": "execute_result"
    }
   ],
   "source": [
    "model.summary()"
   ]
  },
  {
   "cell_type": "markdown",
   "id": "7fa6095d",
   "metadata": {},
   "source": [
    "> F-statistic:\t6.348e+04, muito alto\n",
    "\n",
    "> Significância: 0.00, muito próximo de 0\n",
    "\n",
    "> R quadrado: 0.994\n",
    "\n",
    "> P < 0.05 para const e x1, portanto ambos são relevantes"
   ]
  },
  {
   "cell_type": "code",
   "execution_count": null,
   "id": "b551b45a",
   "metadata": {},
   "outputs": [],
   "source": []
  }
 ],
 "metadata": {
  "kernelspec": {
   "display_name": "Python 3",
   "language": "python",
   "name": "python3"
  },
  "language_info": {
   "codemirror_mode": {
    "name": "ipython",
    "version": 3
   },
   "file_extension": ".py",
   "mimetype": "text/x-python",
   "name": "python",
   "nbconvert_exporter": "python",
   "pygments_lexer": "ipython3",
   "version": "3.8.8"
  },
  "toc": {
   "base_numbering": 1,
   "nav_menu": {},
   "number_sections": true,
   "sideBar": true,
   "skip_h1_title": true,
   "title_cell": "Table of Contents",
   "title_sidebar": "Contents",
   "toc_cell": false,
   "toc_position": {},
   "toc_section_display": true,
   "toc_window_display": true
  }
 },
 "nbformat": 4,
 "nbformat_minor": 5
}
