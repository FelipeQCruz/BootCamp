{
 "cells": [
  {
   "cell_type": "markdown",
   "id": "1dc66fa5",
   "metadata": {},
   "source": [
    "Crie uma lista do Python que contenha 10 inteiros aleatórios (entre 0 e 100). Em seguida, a partir da lista criada anteriormente, crie um array do Numpy, utilizando a função array."
   ]
  },
  {
   "cell_type": "code",
   "execution_count": 2,
   "id": "c1cedb5d",
   "metadata": {
    "ExecuteTime": {
     "end_time": "2021-07-28T14:16:20.162394Z",
     "start_time": "2021-07-28T14:16:20.138944Z"
    }
   },
   "outputs": [
    {
     "data": {
      "text/plain": [
       "array([ 7, 33,  3, 50, 32,  4, 93, 14,  7, 68])"
      ]
     },
     "execution_count": 2,
     "metadata": {},
     "output_type": "execute_result"
    }
   ],
   "source": [
    "import numpy as np\n",
    "import random as rd\n",
    "\n",
    "lista = []\n",
    "\n",
    "for i in range(10):\n",
    "    lista.append(rd.randint(0, 100))\n",
    "    \n",
    "vetor = np.array(lista)\n",
    "vetor"
   ]
  },
  {
   "cell_type": "markdown",
   "id": "996e4676",
   "metadata": {},
   "source": [
    "Crie um array com 10 elementos (iniciando em zero), em que os elementos tenham um intervalo de 3 unidades entre si."
   ]
  },
  {
   "cell_type": "code",
   "execution_count": 2,
   "id": "33c97751",
   "metadata": {
    "ExecuteTime": {
     "end_time": "2021-07-28T08:07:27.102900Z",
     "start_time": "2021-07-28T08:07:26.793476Z"
    }
   },
   "outputs": [
    {
     "data": {
      "text/plain": [
       "array([ 0,  3,  6,  9, 12, 15, 18, 21, 24, 27])"
      ]
     },
     "execution_count": 2,
     "metadata": {},
     "output_type": "execute_result"
    }
   ],
   "source": [
    "inicio = 0\n",
    "\n",
    "elementos = 10\n",
    "\n",
    "intervalo = 3\n",
    "\n",
    "np.arange(inicio, inicio + intervalo*elementos, intervalo)"
   ]
  },
  {
   "cell_type": "markdown",
   "id": "cc6f635d",
   "metadata": {},
   "source": [
    "Crie um array com 40 elementos entre 0 e π.\n",
    "\n"
   ]
  },
  {
   "cell_type": "code",
   "execution_count": 3,
   "id": "bc2bf136",
   "metadata": {
    "ExecuteTime": {
     "end_time": "2021-07-28T08:07:27.558855Z",
     "start_time": "2021-07-28T08:07:27.111880Z"
    }
   },
   "outputs": [
    {
     "data": {
      "text/plain": [
       "array([0.        , 0.08055366, 0.16110732, 0.24166097, 0.32221463,\n",
       "       0.40276829, 0.48332195, 0.5638756 , 0.64442926, 0.72498292,\n",
       "       0.80553658, 0.88609024, 0.96664389, 1.04719755, 1.12775121,\n",
       "       1.20830487, 1.28885852, 1.36941218, 1.44996584, 1.5305195 ,\n",
       "       1.61107316, 1.69162681, 1.77218047, 1.85273413, 1.93328779,\n",
       "       2.01384144, 2.0943951 , 2.17494876, 2.25550242, 2.33605608,\n",
       "       2.41660973, 2.49716339, 2.57771705, 2.65827071, 2.73882436,\n",
       "       2.81937802, 2.89993168, 2.98048534, 3.061039  , 3.14159265])"
      ]
     },
     "execution_count": 3,
     "metadata": {},
     "output_type": "execute_result"
    }
   ],
   "source": [
    "import math as mt\n",
    "\n",
    "pi40 = np.linspace(0, mt.pi, 40)\n",
    "pi40"
   ]
  },
  {
   "cell_type": "markdown",
   "id": "ba813ecc",
   "metadata": {},
   "source": [
    "Crie um array com 40 elementos, todos iguais a 6."
   ]
  },
  {
   "cell_type": "code",
   "execution_count": 4,
   "id": "c35d3c3b",
   "metadata": {
    "ExecuteTime": {
     "end_time": "2021-07-28T08:07:27.964569Z",
     "start_time": "2021-07-28T08:07:27.565836Z"
    }
   },
   "outputs": [
    {
     "data": {
      "text/plain": [
       "array([6, 6, 6, 6, 6, 6, 6, 6, 6, 6, 6, 6, 6, 6, 6, 6, 6, 6, 6, 6, 6, 6,\n",
       "       6, 6, 6, 6, 6, 6, 6, 6, 6, 6, 6, 6, 6, 6, 6, 6, 6, 6])"
      ]
     },
     "execution_count": 4,
     "metadata": {},
     "output_type": "execute_result"
    }
   ],
   "source": [
    "seis = np.full(40, 6)\n",
    "seis "
   ]
  }
 ],
 "metadata": {
  "kernelspec": {
   "display_name": "Python 3",
   "language": "python",
   "name": "python3"
  },
  "language_info": {
   "codemirror_mode": {
    "name": "ipython",
    "version": 3
   },
   "file_extension": ".py",
   "mimetype": "text/x-python",
   "name": "python",
   "nbconvert_exporter": "python",
   "pygments_lexer": "ipython3",
   "version": "3.8.8"
  },
  "toc": {
   "base_numbering": 1,
   "nav_menu": {},
   "number_sections": true,
   "sideBar": true,
   "skip_h1_title": true,
   "title_cell": "Table of Contents",
   "title_sidebar": "Contents",
   "toc_cell": false,
   "toc_position": {},
   "toc_section_display": true,
   "toc_window_display": true
  }
 },
 "nbformat": 4,
 "nbformat_minor": 5
}
