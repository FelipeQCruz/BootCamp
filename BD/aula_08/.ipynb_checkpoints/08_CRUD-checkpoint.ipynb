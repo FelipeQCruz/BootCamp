{
 "cells": [
  {
   "cell_type": "markdown",
   "id": "5424af25",
   "metadata": {
    "heading_collapsed": true
   },
   "source": [
    "# Revisão"
   ]
  },
  {
   "cell_type": "markdown",
   "id": "5c8bf658",
   "metadata": {
    "hidden": true
   },
   "source": [
    "> "
   ]
  },
  {
   "cell_type": "code",
   "execution_count": null,
   "id": "4c620d4a",
   "metadata": {
    "hidden": true
   },
   "outputs": [],
   "source": []
  },
  {
   "cell_type": "markdown",
   "id": "641f9a8c",
   "metadata": {
    "heading_collapsed": true
   },
   "source": [
    "# Aula 08: Criando um banco de dados e manipulando dados salvos"
   ]
  },
  {
   "cell_type": "markdown",
   "id": "8d7c302c",
   "metadata": {
    "hidden": true
   },
   "source": [
    "Já sabemos como consultar informações em bancos de dados. Hoje vamos explorar como um banco de dados é criado e como inserir, atualizar e deletar dados.\n",
    "\n",
    "CRUD é um acrônimo para:\n",
    "- C: Create\n",
    "- R: Read\n",
    "- U: Update\n",
    "- D: Delete\n",
    "\n",
    "Em geral, as empresas possuem times totalmente dedicados à criação e manutenção de bancos de dados, que restringem a maioria (se não todos) dos comandos que aprenderemos hoje aos demais usuários. Tais restrições são necessárias para que seja garantida a integridade e bom funcionamento do banco.\n",
    "\n",
    "[Material](https://docs.google.com/presentation/d/14RXa3WFNmhYN3LZdfuJJhW7pdCpyvISBN2CRrUMvzCQ/edit#slide=id.p1)"
   ]
  },
  {
   "cell_type": "code",
   "execution_count": null,
   "id": "da7e1db4",
   "metadata": {
    "hidden": true
   },
   "outputs": [],
   "source": []
  },
  {
   "cell_type": "markdown",
   "id": "08b41322",
   "metadata": {
    "heading_collapsed": true
   },
   "source": [
    "# Habilidades a serem desenvolvidas"
   ]
  },
  {
   "cell_type": "markdown",
   "id": "65b8af27",
   "metadata": {
    "hidden": true
   },
   "source": [
    "Ao final da aula, o aluno deve:\n",
    "1. Conhecer os principais fundamentos e funções para criação de banco de dados;\n",
    "1. Saber como manipular registros em bancos de dados;\n",
    "1. Entender como criar um banco e dados local;\n",
    "1. Entender que, em geral, não terá permissões para executar tais tarefas a não ser que seja do time responsável pelo banco de dados!!!!! "
   ]
  },
  {
   "cell_type": "code",
   "execution_count": null,
   "id": "a200306e",
   "metadata": {
    "hidden": true
   },
   "outputs": [],
   "source": []
  },
  {
   "cell_type": "markdown",
   "id": "1554490b",
   "metadata": {
    "heading_collapsed": true
   },
   "source": [
    "# DDL - Data Definition Language"
   ]
  },
  {
   "cell_type": "markdown",
   "id": "777f5192",
   "metadata": {
    "hidden": true
   },
   "source": [
    "**Exercício:**\n",
    "\n",
    "Vamos criar juntos uma base de dados para o banco com duas tabelas `agencias` e `clientes`. Essas tabelas devem estar relacionadas.\n",
    "\n",
    "Considere que um cliente pode ter conta em várias agências e uma agência deve ter muitos clientes.\n",
    "\n",
    "A tabela `agências` deve conter código, nome, endereço e telefone da agência.  \n",
    "A tabela `clientes` deve conter um código do cliente, nome, data de nascimento, agência e conta.\n"
   ]
  },
  {
   "cell_type": "code",
   "execution_count": null,
   "id": "957818c0",
   "metadata": {
    "hidden": true
   },
   "outputs": [],
   "source": []
  },
  {
   "cell_type": "markdown",
   "id": "cecf3192",
   "metadata": {
    "hidden": true
   },
   "source": [
    "## CREATE\n",
    "Usado para criar um banco de dados, tabela e outros objetos em um banco de dados. Um guia sobre os tipos de campos pode ser encontrado [aqui](https://aprendendodotnet.wordpress.com/2012/03/10/sql-server-o-comando-create-table-e-tipos-de-dados/#:~:text=SQL%20Server%20%E2%80%93%20O%20Comando%20CREATE%20TABLE%20e,Comprimento%20Fi%20...%20%208%20more%20rows%20)."
   ]
  },
  {
   "cell_type": "markdown",
   "id": "ade56241",
   "metadata": {
    "hidden": true
   },
   "source": [
    "Criar a tabela `agencias`. Quais as condições em cada campo?"
   ]
  },
  {
   "cell_type": "markdown",
   "id": "23aa45aa",
   "metadata": {
    "hidden": true
   },
   "source": [
    "Query:"
   ]
  },
  {
   "cell_type": "code",
   "execution_count": null,
   "id": "9c7373f4",
   "metadata": {
    "hidden": true
   },
   "outputs": [],
   "source": []
  },
  {
   "cell_type": "markdown",
   "id": "555abf4e",
   "metadata": {
    "hidden": true
   },
   "source": [
    "Criar a tabela `clientes`. Quais as condições em cada campo?  \n",
    "**OBS:** Como utitlizar a chave estrangeira?"
   ]
  },
  {
   "cell_type": "markdown",
   "id": "1806f45b",
   "metadata": {
    "ExecuteTime": {
     "end_time": "2021-07-22T18:09:06.198776Z",
     "start_time": "2021-07-22T18:09:06.192774Z"
    },
    "hidden": true
   },
   "source": [
    "Query:"
   ]
  },
  {
   "cell_type": "code",
   "execution_count": null,
   "id": "6cc8c227",
   "metadata": {
    "hidden": true
   },
   "outputs": [],
   "source": []
  },
  {
   "cell_type": "markdown",
   "id": "545dd686",
   "metadata": {
    "hidden": true
   },
   "source": [
    "## ALTER\n",
    "Usado para alterar a estrutura de tabelas ou outro objeto em um banco de dados.\n",
    "\n",
    "Exemplo: Altere o nome da tabela clientes para customers."
   ]
  },
  {
   "cell_type": "markdown",
   "id": "9c1cd534",
   "metadata": {
    "hidden": true
   },
   "source": [
    "Query:"
   ]
  },
  {
   "cell_type": "markdown",
   "id": "985faebf",
   "metadata": {
    "ExecuteTime": {
     "end_time": "2021-07-22T18:18:06.905323Z",
     "start_time": "2021-07-22T18:18:06.901319Z"
    },
    "hidden": true
   },
   "source": [
    "Altere o tipo da coluna nome na table clientes para TEXT."
   ]
  },
  {
   "cell_type": "markdown",
   "id": "31cfd3e6",
   "metadata": {
    "ExecuteTime": {
     "end_time": "2021-07-22T18:18:19.599741Z",
     "start_time": "2021-07-22T18:18:19.581631Z"
    },
    "hidden": true
   },
   "source": [
    "Query:"
   ]
  },
  {
   "cell_type": "markdown",
   "id": "f34a6e58",
   "metadata": {
    "hidden": true
   },
   "source": [
    "## DROP\n",
    "Usado para apagar bancos de dados, tabelas e outros objetos.\n",
    "\n",
    "Delete a tabela `customers`."
   ]
  },
  {
   "cell_type": "markdown",
   "id": "4674c649",
   "metadata": {
    "hidden": true
   },
   "source": [
    "Query:"
   ]
  },
  {
   "cell_type": "code",
   "execution_count": null,
   "id": "f80cb3ea",
   "metadata": {
    "hidden": true
   },
   "outputs": [],
   "source": []
  },
  {
   "cell_type": "markdown",
   "id": "bfa78e16",
   "metadata": {
    "heading_collapsed": true
   },
   "source": [
    "# DML - Data Manipulation Language"
   ]
  },
  {
   "cell_type": "markdown",
   "id": "21b497d5",
   "metadata": {
    "hidden": true
   },
   "source": [
    "## INSERT\n",
    "Usado para inserir um registro a uma tabela existente."
   ]
  },
  {
   "cell_type": "markdown",
   "id": "6bc01383",
   "metadata": {
    "hidden": true
   },
   "source": [
    "Insira os dados de uma agência na tabela."
   ]
  },
  {
   "cell_type": "markdown",
   "id": "7db72572",
   "metadata": {
    "hidden": true
   },
   "source": [
    "Query:"
   ]
  },
  {
   "cell_type": "code",
   "execution_count": null,
   "id": "b7cb8c01",
   "metadata": {
    "hidden": true
   },
   "outputs": [],
   "source": []
  },
  {
   "cell_type": "markdown",
   "id": "a30c5e28",
   "metadata": {
    "hidden": true
   },
   "source": [
    "Adicione um registo sem um dos campos, por exemplo, endereço."
   ]
  },
  {
   "cell_type": "markdown",
   "id": "5c357ea4",
   "metadata": {
    "hidden": true
   },
   "source": [
    "Query:"
   ]
  },
  {
   "cell_type": "code",
   "execution_count": null,
   "id": "3143450b",
   "metadata": {
    "hidden": true
   },
   "outputs": [],
   "source": []
  },
  {
   "cell_type": "markdown",
   "id": "f1a56518",
   "metadata": {
    "hidden": true
   },
   "source": [
    "Adicione um registro sem o campo nome. O que aconteceu?"
   ]
  },
  {
   "cell_type": "markdown",
   "id": "eda5a770",
   "metadata": {
    "hidden": true
   },
   "source": [
    "Query:"
   ]
  },
  {
   "cell_type": "markdown",
   "id": "b934e771",
   "metadata": {
    "hidden": true
   },
   "source": [
    "Resultado:"
   ]
  },
  {
   "cell_type": "code",
   "execution_count": null,
   "id": "272e2321",
   "metadata": {
    "hidden": true
   },
   "outputs": [],
   "source": []
  },
  {
   "cell_type": "markdown",
   "id": "8e37ef80",
   "metadata": {
    "hidden": true
   },
   "source": [
    "## UPDATE\n",
    "Usado para alterar valores de dados em um ou mais registros de uma tabela."
   ]
  },
  {
   "cell_type": "markdown",
   "id": "1a7144dd",
   "metadata": {
    "hidden": true
   },
   "source": [
    "Arrume o campo telefone da agência matriz."
   ]
  },
  {
   "cell_type": "markdown",
   "id": "dd7b244b",
   "metadata": {
    "hidden": true
   },
   "source": [
    "Query:"
   ]
  },
  {
   "cell_type": "code",
   "execution_count": null,
   "id": "7251af4a",
   "metadata": {
    "hidden": true
   },
   "outputs": [],
   "source": []
  },
  {
   "cell_type": "markdown",
   "id": "86531bcf",
   "metadata": {
    "hidden": true
   },
   "source": [
    "## DELETE\n",
    "Usado para remover registros de uma tabela.\n",
    "\n",
    "Delete os registros de agências com endereço nulo.?"
   ]
  },
  {
   "cell_type": "markdown",
   "id": "0a1386f7",
   "metadata": {
    "hidden": true
   },
   "source": [
    "Query:"
   ]
  },
  {
   "cell_type": "code",
   "execution_count": null,
   "id": "1e5866f5",
   "metadata": {
    "hidden": true
   },
   "outputs": [],
   "source": []
  },
  {
   "cell_type": "markdown",
   "id": "4bfafac4",
   "metadata": {
    "heading_collapsed": true
   },
   "source": [
    "# INDICES"
   ]
  },
  {
   "cell_type": "markdown",
   "id": "a023e2f9",
   "metadata": {
    "hidden": true
   },
   "source": [
    "Exemplo encontrado [aqui](https://pt.wikibooks.org/wiki/PostgreSQL_Pr%C3%A1tico/DDL/%C3%8Dndices,_Tipos_de_Dados_e_Integridade_Referencial).\n",
    "\n",
    "Uma tabela contendo os CEPs do Brasil, com 633.401 registros.\n",
    "\n",
    "- sem indice\n",
    "\n",
    "    SELECT * FROM cep_tabela WHERE cep = ‘60420440’;\n",
    "\n",
    "    **Em 7691 ms**\n",
    "   \n",
    "\n",
    "- Pós adicionar um índice:\n",
    "\n",
    "    ALTER TABLE cep_tabela ADD CONSTRAINT cep_pk PRIMARY KEY (cep);\n",
    "\n",
    "\n",
    "    A mesma consulta anterior agora gasta apenas **10 ms**.\n",
    "\n"
   ]
  },
  {
   "cell_type": "markdown",
   "id": "f50cda65",
   "metadata": {
    "hidden": true
   },
   "source": [
    "Como criar um indice?\n",
    "\n",
    "    CREATE INDEX nomeindice ON tabela (lower (nomecampo));"
   ]
  },
  {
   "cell_type": "markdown",
   "id": "c7aae9b1",
   "metadata": {
    "hidden": true
   },
   "source": [
    "Crie um indice na tabela `agencia`."
   ]
  },
  {
   "cell_type": "markdown",
   "id": "bdb1e0f3",
   "metadata": {
    "hidden": true
   },
   "source": [
    "Query:"
   ]
  },
  {
   "cell_type": "code",
   "execution_count": null,
   "id": "c655662a",
   "metadata": {
    "hidden": true
   },
   "outputs": [],
   "source": []
  },
  {
   "cell_type": "markdown",
   "id": "4166eac6",
   "metadata": {
    "heading_collapsed": true
   },
   "source": [
    "# Exercícios"
   ]
  },
  {
   "cell_type": "markdown",
   "id": "bcaafdd4",
   "metadata": {
    "hidden": true
   },
   "source": [
    "Enviar para o email filipe.furlan@letscode.com.br até 2021/07/31 um arquivo de texto (785_firstname_lastname_aula08.sql) com a resolução dos exercicios abaixo.\n",
    "\n",
    "IMPORTANTE: Inserir uma linha de comentário -- exercicio XX (XX = 1, 2A, 2B etc) antes de cada solução."
   ]
  },
  {
   "cell_type": "markdown",
   "id": "b709f088",
   "metadata": {
    "hidden": true
   },
   "source": [
    "1. Crie duas tabelas: produto e categoria. Essas duas tabelas devem estar relacionadas.\n",
    "    - Considere que o produto possui uma descrição, preço, frete e categoria. \n",
    "    - Considere que a categoria possui apenas uma descrição. \n",
    "    - Não esqueça de inserir as chaves primárias e estrangeira da forma correta, de modo a criar o relacionamento entre as tabelas.\n",
    "    1. Adicione 3 registros em casa tabela.\n",
    "\n",
    "\n",
    "2. Crie duas tabelas: turmas e alunos. Essas duas tabelas devem estar relacionadas. \n",
    "    - Um aluno pode pertencer a muitas turmas e uma turma deve conter muitos alunos.\n",
    "    - Considere que o aluno possui: nome, matrícula, data de nascimento e e-mail. \n",
    "    - A turma possui os atributos descrição, professor (considere apenas um), data de início, e data de término.\n",
    "    1. Adicione 3 registros em casa tabela.\n",
    "\n"
   ]
  },
  {
   "cell_type": "code",
   "execution_count": null,
   "id": "455168d9",
   "metadata": {
    "hidden": true
   },
   "outputs": [],
   "source": []
  }
 ],
 "metadata": {
  "kernelspec": {
   "display_name": "Python 3",
   "language": "python",
   "name": "python3"
  },
  "language_info": {
   "codemirror_mode": {
    "name": "ipython",
    "version": 3
   },
   "file_extension": ".py",
   "mimetype": "text/x-python",
   "name": "python",
   "nbconvert_exporter": "python",
   "pygments_lexer": "ipython3",
   "version": "3.8.8"
  },
  "toc": {
   "base_numbering": 1,
   "nav_menu": {},
   "number_sections": true,
   "sideBar": true,
   "skip_h1_title": false,
   "title_cell": "Table of Contents",
   "title_sidebar": "Contents",
   "toc_cell": false,
   "toc_position": {},
   "toc_section_display": true,
   "toc_window_display": true
  }
 },
 "nbformat": 4,
 "nbformat_minor": 5
}
