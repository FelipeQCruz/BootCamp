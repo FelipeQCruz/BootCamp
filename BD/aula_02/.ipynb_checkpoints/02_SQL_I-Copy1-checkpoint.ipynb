{
 "cells": [
  {
   "cell_type": "markdown",
   "id": "e89d240f",
   "metadata": {},
   "source": [
    "# Revisão"
   ]
  },
  {
   "cell_type": "markdown",
   "id": "c4d3cb33",
   "metadata": {},
   "source": [
    "[Material](https://docs.google.com/presentation/d/1RXD0sykKkwOY75Kg4AHYmaGoo4l98RphoMmaL_4346g/edit#slide=id.p1)"
   ]
  },
  {
   "cell_type": "markdown",
   "id": "3dc67a04",
   "metadata": {},
   "source": [
    "# Aula 02: Ordenando consultas e Manipulando datas e strings"
   ]
  },
  {
   "cell_type": "markdown",
   "id": "cb257677",
   "metadata": {},
   "source": [
    "Na aula de hoje iremos aplicar os conceitos da aula passada e explorar outros comandos da linguagem SQL."
   ]
  },
  {
   "cell_type": "markdown",
   "id": "08b41322",
   "metadata": {},
   "source": [
    "# Habilidades a serem desenvolvidas"
   ]
  },
  {
   "cell_type": "markdown",
   "id": "65b8af27",
   "metadata": {},
   "source": [
    "Ao final da aula, o aluno deve:\n",
    "1. Saber aplicar o comando ORDER BY;\n",
    "1. Entender o uso da função CAST;\n",
    "1. Acessar e manipular datas e horários;\n",
    "1. Saber como manipular strings;\n",
    "1. Saber como tratar dados usando a função CASE."
   ]
  },
  {
   "cell_type": "markdown",
   "id": "71f4a6d6",
   "metadata": {},
   "source": [
    "# Atenção!"
   ]
  },
  {
   "attachments": {
    "630fb68891a128b31bebdb5a162602c1.jpg": {
     "image/jpeg": "[encoded data removed]"
    }
   },
   "cell_type": "markdown",
   "id": "7705de66",
   "metadata": {},
   "source": [
    "![630fb68891a128b31bebdb5a162602c1.jpg](attachment:630fb68891a128b31bebdb5a162602c1.jpg)"
   ]
  },
  {
   "cell_type": "markdown",
   "id": "d16e38de",
   "metadata": {},
   "source": [
    "# SQL: continuação"
   ]
  },
  {
   "cell_type": "markdown",
   "id": "105f6420",
   "metadata": {
    "heading_collapsed": true
   },
   "source": [
    "## ORDER BY"
   ]
  },
  {
   "cell_type": "markdown",
   "id": "66cc6be1",
   "metadata": {
    "hidden": true
   },
   "source": [
    "**Ascending:** Selecione todos os dados da tabela customers e ordene a tabela em ordem crescente do nome dos contatos."
   ]
  },
  {
   "cell_type": "markdown",
   "id": "19fc2c48",
   "metadata": {
    "hidden": true
   },
   "source": [
    "> "
   ]
  },
  {
   "cell_type": "markdown",
   "id": "f2787f86",
   "metadata": {
    "hidden": true
   },
   "source": [
    "**Descending:** Escolha apenas as colunas company_name e city da tabela customers e ordene em pelo nome da cidade em ordem decrescente."
   ]
  },
  {
   "cell_type": "markdown",
   "id": "05105d88",
   "metadata": {
    "hidden": true
   },
   "source": [
    ">"
   ]
  },
  {
   "cell_type": "markdown",
   "id": "5150f196",
   "metadata": {
    "heading_collapsed": true
   },
   "source": [
    "## CASE"
   ]
  },
  {
   "cell_type": "markdown",
   "id": "681f5b2c",
   "metadata": {
    "hidden": true
   },
   "source": [
    "### CASE WHEN ... THEN ... END\n",
    "Crie uma coluna `prioridade` que tenha o valor `Priority 1` quando o contact_title for `Owner`"
   ]
  },
  {
   "cell_type": "markdown",
   "id": "657bb9d6",
   "metadata": {
    "hidden": true
   },
   "source": [
    "> "
   ]
  },
  {
   "cell_type": "markdown",
   "id": "eeb6367a",
   "metadata": {
    "hidden": true
   },
   "source": [
    "### CASE WHEN ... THEN ... WHEN ... THEN ...ELSE ... END\n",
    "Popule a coluna `prioridade` com valor `Priority 2` quando o contact_title for `Sales Manager`, `Priority 3` para `Marketing Manager` e `Priority 4` para outros cargos."
   ]
  },
  {
   "cell_type": "markdown",
   "id": "89e90ee6",
   "metadata": {
    "hidden": true
   },
   "source": [
    "> SELECT \n",
    "case \n",
    "\twhen contact_title = 'Owner' then 'Priority 1'\n",
    "\twhen contact_title = 'Sales Manager' then 'Priority 2' \n",
    "\telse 'Priority 3' end\t\n",
    "FROM customers;"
   ]
  },
  {
   "cell_type": "markdown",
   "id": "58b13860",
   "metadata": {
    "heading_collapsed": true
   },
   "source": [
    "## CAST"
   ]
  },
  {
   "cell_type": "markdown",
   "id": "3589b0a0",
   "metadata": {
    "hidden": true
   },
   "source": [
    "### SELECT CAST"
   ]
  },
  {
   "cell_type": "markdown",
   "id": "d2c0393a",
   "metadata": {
    "hidden": true
   },
   "source": [
    "> "
   ]
  },
  {
   "cell_type": "markdown",
   "id": "c4e87afe",
   "metadata": {
    "hidden": true
   },
   "source": [
    "### SELECT  ::"
   ]
  },
  {
   "cell_type": "markdown",
   "id": "4a1edfc5",
   "metadata": {
    "hidden": true
   },
   "source": [
    "> "
   ]
  },
  {
   "cell_type": "markdown",
   "id": "07516eb6",
   "metadata": {
    "heading_collapsed": true
   },
   "source": [
    "## TIME FUNCTIONS"
   ]
  },
  {
   "cell_type": "markdown",
   "id": "7fd8237a",
   "metadata": {
    "hidden": true
   },
   "source": [
    "### CURRENT DATE\n",
    "Que dia é hoje?"
   ]
  },
  {
   "cell_type": "markdown",
   "id": "316e9834",
   "metadata": {
    "hidden": true
   },
   "source": [
    "> "
   ]
  },
  {
   "cell_type": "markdown",
   "id": "e892c9e8",
   "metadata": {
    "hidden": true
   },
   "source": [
    "### CURRENT TIME\n",
    "Que horas são?"
   ]
  },
  {
   "cell_type": "markdown",
   "id": "2d95a3ca",
   "metadata": {
    "hidden": true
   },
   "source": [
    "> "
   ]
  },
  {
   "cell_type": "markdown",
   "id": "4430ad82",
   "metadata": {
    "hidden": true
   },
   "source": [
    "### NOW\n",
    "Tudo junto!"
   ]
  },
  {
   "cell_type": "markdown",
   "id": "d8d698db",
   "metadata": {
    "hidden": true
   },
   "source": [
    "> "
   ]
  },
  {
   "cell_type": "markdown",
   "id": "9f05ba5b",
   "metadata": {
    "hidden": true
   },
   "source": [
    "### DATE_PART\n",
    "\n",
    "**Dia, mês e ano.**"
   ]
  },
  {
   "cell_type": "markdown",
   "id": "9c8db140",
   "metadata": {
    "hidden": true
   },
   "source": [
    "> "
   ]
  },
  {
   "cell_type": "markdown",
   "id": "0a046a1f",
   "metadata": {
    "hidden": true
   },
   "source": [
    "### DATE_TRUNC\n",
    "**Dia, mês e ano.**\n"
   ]
  },
  {
   "cell_type": "markdown",
   "id": "36b88337",
   "metadata": {
    "hidden": true
   },
   "source": [
    ">"
   ]
  },
  {
   "cell_type": "markdown",
   "id": "16049bbb",
   "metadata": {
    "hidden": true
   },
   "source": [
    "### Operações com data/hora"
   ]
  },
  {
   "cell_type": "markdown",
   "id": "09bedffc",
   "metadata": {
    "hidden": true
   },
   "source": [
    ">"
   ]
  },
  {
   "cell_type": "markdown",
   "id": "adbe8ff7",
   "metadata": {
    "hidden": true
   },
   "source": [
    "#### AGE"
   ]
  },
  {
   "cell_type": "markdown",
   "id": "e21442cc",
   "metadata": {
    "hidden": true
   },
   "source": [
    ">"
   ]
  },
  {
   "cell_type": "markdown",
   "id": "41172923",
   "metadata": {
    "heading_collapsed": true
   },
   "source": [
    "## STRING FUNCTIONS"
   ]
  },
  {
   "cell_type": "markdown",
   "id": "08be0f6e",
   "metadata": {
    "hidden": true
   },
   "source": [
    "### CONCAT ou ||\n",
    "Junta pedaços de texto num único output."
   ]
  },
  {
   "cell_type": "markdown",
   "id": "478ba81e",
   "metadata": {
    "hidden": true
   },
   "source": [
    "> "
   ]
  },
  {
   "cell_type": "markdown",
   "id": "0e7fcbb2",
   "metadata": {
    "hidden": true
   },
   "source": [
    "### UPPER e LOWER\n",
    "Transforma todos a caixa de todos os caracteres."
   ]
  },
  {
   "cell_type": "markdown",
   "id": "682f98dd",
   "metadata": {
    "ExecuteTime": {
     "end_time": "2021-07-10T21:28:42.171016Z",
     "start_time": "2021-07-10T21:28:42.146714Z"
    },
    "hidden": true
   },
   "source": [
    "> "
   ]
  },
  {
   "cell_type": "markdown",
   "id": "c739461e",
   "metadata": {
    "hidden": true
   },
   "source": [
    "### TRIM \n",
    "Remove espaços em branco."
   ]
  },
  {
   "cell_type": "markdown",
   "id": "20fe9963",
   "metadata": {
    "hidden": true
   },
   "source": [
    "> "
   ]
  },
  {
   "cell_type": "markdown",
   "id": "007e0dcb",
   "metadata": {
    "hidden": true
   },
   "source": [
    "### SUBSTRING\n",
    "Retorna um pedaço de texto num intervalo determinado.\n"
   ]
  },
  {
   "cell_type": "markdown",
   "id": "ea6eb249",
   "metadata": {
    "hidden": true
   },
   "source": [
    "> "
   ]
  },
  {
   "cell_type": "markdown",
   "id": "8c1ac513",
   "metadata": {
    "hidden": true
   },
   "source": [
    "**RIGHT**: Seciona o número de caracteres, contando da direita.\n"
   ]
  },
  {
   "cell_type": "markdown",
   "id": "a4e6a6d2",
   "metadata": {
    "hidden": true
   },
   "source": [
    "> "
   ]
  },
  {
   "cell_type": "markdown",
   "id": "99de54e0",
   "metadata": {
    "hidden": true
   },
   "source": [
    "**LEFT**: Seciona o número de caracteres, contando da esquerda.\n"
   ]
  },
  {
   "cell_type": "markdown",
   "id": "ddadea2b",
   "metadata": {
    "hidden": true
   },
   "source": [
    "> "
   ]
  },
  {
   "cell_type": "markdown",
   "id": "da224f00",
   "metadata": {
    "hidden": true
   },
   "source": [
    "### POSITION\n",
    "Retorna a posição de um caracter ou sequência."
   ]
  },
  {
   "cell_type": "markdown",
   "id": "6691d896",
   "metadata": {
    "hidden": true
   },
   "source": [
    "> "
   ]
  },
  {
   "cell_type": "markdown",
   "id": "3a10d234",
   "metadata": {
    "hidden": true
   },
   "source": [
    "### Replace\n",
    "Troca uma sequência de caracteres por outra."
   ]
  },
  {
   "cell_type": "markdown",
   "id": "58b324a2",
   "metadata": {
    "hidden": true
   },
   "source": [
    "> "
   ]
  },
  {
   "cell_type": "markdown",
   "id": "262d5ecd",
   "metadata": {},
   "source": [
    "# Exercícios"
   ]
  },
  {
   "cell_type": "markdown",
   "id": "667d4de1",
   "metadata": {},
   "source": [
    "Enviar para o email filipe.furlan@letcode.com.br até **2021/07/31** um arquivo de texto (`785_firstname_lastname_aula02.sql`) com a resolução dos exercicios abaixo (exceto o 6).\n",
    "\n",
    "IMPORTANTE: Inserir uma linha de comentário `-- exercicio XX` (XX = 1, 2A, 2B etc) antes de cada solução."
   ]
  },
  {
   "cell_type": "markdown",
   "id": "8685c8a9",
   "metadata": {},
   "source": [
    "1. Selecione os id's únicos de territórios da tabela employee_territories.\n",
    "1. Selecione da tabela empolyees:\n",
    "    1. Todos os nomes dos empregados;\n",
    "    1. Os sobrenomes distintos dos empregrados;\n",
    "    1. Empregados que nasceram após 1970;\n",
    "    1. Empregados que foram contratados em 1993;\n",
    "    1. Empregados que nasceram entre 1980 e 1985 (inclusos);\n",
    "    1. Empregados que nasceram em 1963 e foram contratados em 1993;\n",
    "    1. Todos os empregrados que reportam o chefe de id 5;\n",
    "    1. Todos os empregados que moram em Seattle ou Kirkland.\n",
    "1. Selecione da tabela order_details:\n",
    "    1. Produtos (product_id) com mais de 50 unidades vendidas;\n",
    "    1. Produtos com mais de 0.2 de desconto;\n",
    "    1. Produtos com 0.05 ou menos de desconto;\n",
    "1. Selecione da tabels orders:\n",
    "    1. Ordens realizadas antes Setembro de 1996.\n",
    "    1. Ordens enviadas em Setembro de 1996.\n",
    "    1. Ordens que possuam o campo região preenchido.\n",
    "    1. As primeiras 5 linhas da tabela, reescrevendo o nome das colunas de data em português.\n",
    "1. Selecione da tabela suppliers:\n",
    "    1. Todos os contatos cujo nome comece com a letra M;\n",
    "    1. Todos os contatos que tenham a palavra manager no titulo;\n",
    "    1. Todos os contatos que trabalhem com vendas e morem nos países nórdicos.\n",
    "1. Use o arquivo `estados_cidades.sql` para criar um novo schema no Postgres (**será utilizado nas próximas aulas!**)."
   ]
  }
 ],
 "metadata": {
  "kernelspec": {
   "display_name": "Python 3",
   "language": "python",
   "name": "python3"
  },
  "language_info": {
   "codemirror_mode": {
    "name": "ipython",
    "version": 3
   },
   "file_extension": ".py",
   "mimetype": "text/x-python",
   "name": "python",
   "nbconvert_exporter": "python",
   "pygments_lexer": "ipython3",
   "version": "3.8.8"
  },
  "toc": {
   "base_numbering": 1,
   "nav_menu": {},
   "number_sections": true,
   "sideBar": true,
   "skip_h1_title": false,
   "title_cell": "Table of Contents",
   "title_sidebar": "Contents",
   "toc_cell": false,
   "toc_position": {},
   "toc_section_display": true,
   "toc_window_display": true
  }
 },
 "nbformat": 4,
 "nbformat_minor": 5
}
