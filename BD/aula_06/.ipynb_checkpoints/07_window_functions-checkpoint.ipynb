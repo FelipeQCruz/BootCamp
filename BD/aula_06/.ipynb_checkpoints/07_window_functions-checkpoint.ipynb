{
 "cells": [
  {
   "cell_type": "markdown",
   "id": "e191498b",
   "metadata": {},
   "source": [
    "# Revisão"
   ]
  },
  {
   "cell_type": "markdown",
   "id": "b47025a8",
   "metadata": {},
   "source": [
    ">"
   ]
  },
  {
   "cell_type": "markdown",
   "id": "3dc67a04",
   "metadata": {},
   "source": [
    "# Aula 05: Entity Relationship Diagram (EDR)"
   ]
  },
  {
   "cell_type": "markdown",
   "id": "cb257677",
   "metadata": {},
   "source": [
    "Na aula de hoje iremos explorar as interações entre múltiplas tabelas e criar um arquivo de referência para nos guiar nos trabalhos em uma base de dados. "
   ]
  },
  {
   "cell_type": "markdown",
   "id": "08b41322",
   "metadata": {},
   "source": [
    "# Habilidades a serem desenvolvidas"
   ]
  },
  {
   "cell_type": "markdown",
   "id": "65b8af27",
   "metadata": {},
   "source": [
    "Ao final da aula, o aluno deve:\n",
    "1. Saber construir um EDR;\n",
    "1. Entender as relações entre tabelas;\n",
    "1. Diferenciar relações 1-1 e 1-Muitos;\n",
    "1. Encontrar as informações necessárias para resolver um problema de dados com o mínimo de informação prévia."
   ]
  },
  {
   "cell_type": "markdown",
   "id": "d16e38de",
   "metadata": {},
   "source": [
    "# EDR's"
   ]
  },
  {
   "cell_type": "markdown",
   "id": "57cabe88",
   "metadata": {},
   "source": [
    "2. Ordenando e Manipulando tipos e strings\n",
    "- ORDER BY \n",
    "- cast  \n",
    "- Manipulação de strings (concat, lower, upper, lenght, trim, substring, postion?, regex?)\n",
    "- case\n"
   ]
  },
  {
   "cell_type": "markdown",
   "id": "5e8a3223",
   "metadata": {},
   "source": [
    "3. Sumarizando\n",
    "- max, min, avg, count, round\n",
    "- group by\n",
    "- having\n"
   ]
  },
  {
   "cell_type": "markdown",
   "id": "512723d7",
   "metadata": {},
   "source": [
    "4. Tabelas multiplas\n",
    "- joins\n",
    "- inner\n",
    "- left\n",
    "- right\n",
    "- full\n",
    "- unions"
   ]
  },
  {
   "cell_type": "markdown",
   "id": "92e24e9d",
   "metadata": {},
   "source": [
    "5. subqueries\n",
    "- Subconsultas\n",
    "- view"
   ]
  },
  {
   "cell_type": "markdown",
   "id": "d10d047c",
   "metadata": {},
   "source": [
    "6. windows functions"
   ]
  },
  {
   "cell_type": "markdown",
   "id": "cf7f690e",
   "metadata": {},
   "source": [
    "2. Ordenando e Manipulando tipos e strings\n",
    "- ORDER BY \n",
    "- cast  \n",
    "- Manipulação de strings (concat, lower, upper, lenght, trim, substring, postion?, regex?)\n",
    "- case\n"
   ]
  },
  {
   "cell_type": "markdown",
   "id": "9ae65a26",
   "metadata": {},
   "source": [
    "3. Sumarizando\n",
    "- max, min, avg, count, round\n",
    "- group by\n",
    "- having\n"
   ]
  },
  {
   "cell_type": "markdown",
   "id": "1031c939",
   "metadata": {},
   "source": [
    "4. Tabelas multiplas\n",
    "- joins\n",
    "- inner\n",
    "- left\n",
    "- right\n",
    "- full\n",
    "- unions"
   ]
  },
  {
   "cell_type": "markdown",
   "id": "58d06ef9",
   "metadata": {},
   "source": [
    "5. subqueries\n",
    "- Subconsultas\n",
    "- view"
   ]
  },
  {
   "cell_type": "markdown",
   "id": "dce54b47",
   "metadata": {},
   "source": [
    "6. windows functions"
   ]
  },
  {
   "cell_type": "markdown",
   "id": "321b3287",
   "metadata": {},
   "source": [
    "2. Ordenando e Manipulando tipos e strings\n",
    "- ORDER BY \n",
    "- cast  \n",
    "- Manipulação de strings (concat, lower, upper, lenght, trim, substring, postion?, regex?)\n",
    "- case\n"
   ]
  },
  {
   "cell_type": "markdown",
   "id": "b58fc1de",
   "metadata": {},
   "source": [
    "3. Sumarizando\n",
    "- max, min, avg, count, round\n",
    "- group by\n",
    "- having\n"
   ]
  },
  {
   "cell_type": "markdown",
   "id": "332e34ba",
   "metadata": {},
   "source": [
    "4. Tabelas multiplas\n",
    "- joins\n",
    "- inner\n",
    "- left\n",
    "- right\n",
    "- full\n",
    "- unions"
   ]
  },
  {
   "cell_type": "markdown",
   "id": "0848599d",
   "metadata": {},
   "source": [
    "5. subqueries\n",
    "- Subconsultas\n",
    "- view"
   ]
  },
  {
   "cell_type": "markdown",
   "id": "8742bc6b",
   "metadata": {},
   "source": [
    "6. windows functions"
   ]
  },
  {
   "cell_type": "markdown",
   "id": "aa97c283",
   "metadata": {},
   "source": [
    "2. Ordenando e Manipulando tipos e strings\n",
    "- ORDER BY \n",
    "- cast  \n",
    "- Manipulação de strings (concat, lower, upper, lenght, trim, substring, postion?, regex?)\n",
    "- case\n"
   ]
  },
  {
   "cell_type": "markdown",
   "id": "3f6b6e1e",
   "metadata": {},
   "source": [
    "3. Sumarizando\n",
    "- max, min, avg, count, round\n",
    "- group by\n",
    "- having\n"
   ]
  },
  {
   "cell_type": "markdown",
   "id": "4abbdb9e",
   "metadata": {},
   "source": [
    "4. Tabelas multiplas\n",
    "- joins\n",
    "- inner\n",
    "- left\n",
    "- right\n",
    "- full\n",
    "- unions"
   ]
  },
  {
   "cell_type": "markdown",
   "id": "df1eb55a",
   "metadata": {},
   "source": [
    "5. subqueries\n",
    "- Subconsultas\n",
    "- view"
   ]
  },
  {
   "cell_type": "markdown",
   "id": "f4564055",
   "metadata": {},
   "source": [
    "6. windows functions"
   ]
  },
  {
   "cell_type": "code",
   "execution_count": null,
   "id": "5f7912db",
   "metadata": {},
   "outputs": [],
   "source": []
  }
 ],
 "metadata": {
  "kernelspec": {
   "display_name": "Python 3",
   "language": "python",
   "name": "python3"
  },
  "language_info": {
   "codemirror_mode": {
    "name": "ipython",
    "version": 3
   },
   "file_extension": ".py",
   "mimetype": "text/x-python",
   "name": "python",
   "nbconvert_exporter": "python",
   "pygments_lexer": "ipython3",
   "version": "3.8.8"
  },
  "toc": {
   "base_numbering": 1,
   "nav_menu": {},
   "number_sections": true,
   "sideBar": true,
   "skip_h1_title": false,
   "title_cell": "Table of Contents",
   "title_sidebar": "Contents",
   "toc_cell": false,
   "toc_position": {},
   "toc_section_display": true,
   "toc_window_display": true
  }
 },
 "nbformat": 4,
 "nbformat_minor": 5
}
