{
 "cells": [
  {
   "cell_type": "markdown",
   "id": "e191498b",
   "metadata": {
    "heading_collapsed": true
   },
   "source": [
    "# Revisão"
   ]
  },
  {
   "cell_type": "markdown",
   "id": "b47025a8",
   "metadata": {
    "hidden": true
   },
   "source": [
    "## Dúvidas?"
   ]
  },
  {
   "cell_type": "code",
   "execution_count": null,
   "id": "7f0ddb2f",
   "metadata": {
    "hidden": true
   },
   "outputs": [],
   "source": []
  },
  {
   "cell_type": "markdown",
   "id": "b3579c63",
   "metadata": {
    "hidden": true
   },
   "source": [
    "## O pulo do gato!"
   ]
  },
  {
   "cell_type": "code",
   "execution_count": null,
   "id": "6e116818",
   "metadata": {
    "hidden": true
   },
   "outputs": [],
   "source": []
  },
  {
   "cell_type": "markdown",
   "id": "3dc67a04",
   "metadata": {
    "heading_collapsed": true
   },
   "source": [
    "# Aula 06: Subqueries e VIEW"
   ]
  },
  {
   "cell_type": "markdown",
   "id": "cb257677",
   "metadata": {
    "hidden": true
   },
   "source": [
    "Na aula de hoje iremos explorar como usar o resultado de uma query como input de outra e também como salvar os resultados de uma query para serem reutilizados."
   ]
  },
  {
   "cell_type": "code",
   "execution_count": null,
   "id": "2d4d2fd6",
   "metadata": {
    "hidden": true
   },
   "outputs": [],
   "source": []
  },
  {
   "cell_type": "markdown",
   "id": "08b41322",
   "metadata": {
    "heading_collapsed": true
   },
   "source": [
    "# Habilidades a serem desenvolvidas"
   ]
  },
  {
   "cell_type": "markdown",
   "id": "65b8af27",
   "metadata": {
    "hidden": true
   },
   "source": [
    "Ao final da aula, o aluno deve:\n",
    "1. Entender o conceito de subqueries;\n",
    "1. Saber aplicar diferentes técnicas de subqueries;\n",
    "1. Salvar/atualizar/usar/deletar o resultado de queries no banco de dados."
   ]
  },
  {
   "cell_type": "code",
   "execution_count": null,
   "id": "9bb00efe",
   "metadata": {
    "hidden": true
   },
   "outputs": [],
   "source": []
  },
  {
   "cell_type": "markdown",
   "id": "d16e38de",
   "metadata": {
    "heading_collapsed": true
   },
   "source": [
    "# Subqueries"
   ]
  },
  {
   "cell_type": "markdown",
   "id": "fae55cd6",
   "metadata": {
    "hidden": true
   },
   "source": [
    "Os resultados de uma query (consulta) sempre retornam uma tabela. Dessa forma, podemos usar o output de uma query como input da próxima.  "
   ]
  },
  {
   "cell_type": "markdown",
   "id": "aae765ed",
   "metadata": {
    "hidden": true
   },
   "source": [
    "**Exemplo:** Quantos alunos fazem mais de um curso?\n",
    "\n",
    "Query:\n",
    "\n"
   ]
  },
  {
   "cell_type": "markdown",
   "id": "771bab32",
   "metadata": {
    "hidden": true
   },
   "source": [
    "Resultado:"
   ]
  },
  {
   "cell_type": "markdown",
   "id": "16b09624",
   "metadata": {
    "hidden": true
   },
   "source": [
    "Como criar uma query que responda à pergunta?"
   ]
  },
  {
   "cell_type": "code",
   "execution_count": null,
   "id": "edf4d7bc",
   "metadata": {
    "hidden": true
   },
   "outputs": [],
   "source": []
  },
  {
   "cell_type": "markdown",
   "id": "5d9dc75b",
   "metadata": {
    "hidden": true
   },
   "source": [
    "## Select from Select"
   ]
  },
  {
   "cell_type": "markdown",
   "id": "483d2aed",
   "metadata": {
    "hidden": true
   },
   "source": [
    "Query:"
   ]
  },
  {
   "cell_type": "markdown",
   "id": "5bb5cf6e",
   "metadata": {
    "hidden": true
   },
   "source": [
    "Resultado:"
   ]
  },
  {
   "cell_type": "code",
   "execution_count": null,
   "id": "909a1acf",
   "metadata": {
    "hidden": true
   },
   "outputs": [],
   "source": []
  },
  {
   "cell_type": "markdown",
   "id": "4fb1b764",
   "metadata": {
    "hidden": true
   },
   "source": [
    "## WITH"
   ]
  },
  {
   "cell_type": "markdown",
   "id": "1ebc76f4",
   "metadata": {
    "hidden": true
   },
   "source": [
    "Query:"
   ]
  },
  {
   "cell_type": "markdown",
   "id": "8adc3536",
   "metadata": {
    "hidden": true
   },
   "source": [
    "Resultado:"
   ]
  },
  {
   "cell_type": "code",
   "execution_count": null,
   "id": "21b10abb",
   "metadata": {
    "hidden": true
   },
   "outputs": [],
   "source": []
  },
  {
   "cell_type": "markdown",
   "id": "57cabe88",
   "metadata": {
    "heading_collapsed": true
   },
   "source": [
    "# Views"
   ]
  },
  {
   "attachments": {},
   "cell_type": "markdown",
   "id": "1b4edad1",
   "metadata": {
    "hidden": true
   },
   "source": [
    "E se precisarmos usar o resultado de uma query diversas vezes?  \n",
    "Podemos criar uma `VIEW` e acessar esse resultado como se fosse uma tabela! 🐹 "
   ]
  },
  {
   "cell_type": "code",
   "execution_count": null,
   "id": "af078961",
   "metadata": {
    "hidden": true
   },
   "outputs": [],
   "source": []
  },
  {
   "cell_type": "markdown",
   "id": "26536c7e",
   "metadata": {
    "hidden": true
   },
   "source": [
    "## CREATE VIEW ... AS"
   ]
  },
  {
   "cell_type": "markdown",
   "id": "a7518875",
   "metadata": {
    "hidden": true
   },
   "source": [
    "Criar a view:"
   ]
  },
  {
   "cell_type": "markdown",
   "id": "ee7c5f94",
   "metadata": {
    "hidden": true
   },
   "source": [
    "Resultado:"
   ]
  },
  {
   "cell_type": "markdown",
   "id": "8dd203d8",
   "metadata": {
    "hidden": true
   },
   "source": [
    "Consultar a view:"
   ]
  },
  {
   "cell_type": "code",
   "execution_count": null,
   "id": "277f65d2",
   "metadata": {
    "hidden": true
   },
   "outputs": [],
   "source": []
  },
  {
   "cell_type": "markdown",
   "id": "b242b037",
   "metadata": {
    "hidden": true
   },
   "source": [
    "## DROP VIEW ..."
   ]
  },
  {
   "cell_type": "markdown",
   "id": "520ad52d",
   "metadata": {
    "hidden": true
   },
   "source": [
    "Quando a análise ficou obsleta e não precisamos mais desses dados."
   ]
  },
  {
   "cell_type": "markdown",
   "id": "663047c8",
   "metadata": {
    "hidden": true
   },
   "source": [
    "Query:"
   ]
  },
  {
   "cell_type": "code",
   "execution_count": null,
   "id": "8867f6cf",
   "metadata": {
    "hidden": true
   },
   "outputs": [],
   "source": []
  },
  {
   "cell_type": "markdown",
   "id": "aa59493b",
   "metadata": {
    "hidden": true
   },
   "source": [
    "## REPLACE VIEW"
   ]
  },
  {
   "cell_type": "markdown",
   "id": "7750057b",
   "metadata": {
    "hidden": true
   },
   "source": [
    "Vamos atualizar os dados!"
   ]
  },
  {
   "cell_type": "markdown",
   "id": "bb9d5aef",
   "metadata": {
    "hidden": true
   },
   "source": [
    "Query:\n"
   ]
  },
  {
   "cell_type": "code",
   "execution_count": null,
   "id": "7eec23c5",
   "metadata": {
    "hidden": true
   },
   "outputs": [],
   "source": []
  },
  {
   "cell_type": "markdown",
   "id": "068106f9",
   "metadata": {
    "heading_collapsed": true
   },
   "source": [
    "# Exercícios "
   ]
  },
  {
   "cell_type": "markdown",
   "id": "29b8f091",
   "metadata": {
    "hidden": true
   },
   "source": [
    "Resolva o problema da base `northwind` abaixo usando as três técnicas aprendidas na aula:\n",
    "\n",
    "    A. Select from select\n",
    "    B. WITH\n",
    "    C. VIEW\n",
    "\n",
    "1. Quantos clientes fizeram mais de 10 pedidos?\n",
    "1. Quantos vendedores tiveram menos de 70 pedidos?\n",
    "1. Qual a média dos valores por pedido de cada vendedor?\n",
    "1. Quantos vendedores tiveram menos de 300 pedidos e média superior a 700 por pedido?\n",
    "1. Criar uma tabela com: `categoria|numero_de_pedidos|valor_total|media_de_valores`  \n",
    "    Dica: Categorizar as ordens de acordo com o preço total (incluindo frete) em:\n",
    "\n",
    "    - Gold: valor_total >= 5.000\n",
    "    - Silver: 1.000 <= valor_total < 5.000\n",
    "    - Bronze: valor_total < 1000\n",
    "\n"
   ]
  },
  {
   "cell_type": "markdown",
   "id": "67090fd3",
   "metadata": {
    "hidden": true
   },
   "source": []
  }
 ],
 "metadata": {
  "kernelspec": {
   "display_name": "Python 3",
   "language": "python",
   "name": "python3"
  },
  "language_info": {
   "codemirror_mode": {
    "name": "ipython",
    "version": 3
   },
   "file_extension": ".py",
   "mimetype": "text/x-python",
   "name": "python",
   "nbconvert_exporter": "python",
   "pygments_lexer": "ipython3",
   "version": "3.8.8"
  },
  "toc": {
   "base_numbering": 1,
   "nav_menu": {},
   "number_sections": true,
   "sideBar": true,
   "skip_h1_title": false,
   "title_cell": "Table of Contents",
   "title_sidebar": "Contents",
   "toc_cell": false,
   "toc_position": {},
   "toc_section_display": true,
   "toc_window_display": true
  }
 },
 "nbformat": 4,
 "nbformat_minor": 5
}
