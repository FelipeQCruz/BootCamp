{
 "cells": [
  {
   "cell_type": "markdown",
   "metadata": {},
   "source": [
    "# Revisão"
   ]
  },
  {
   "cell_type": "markdown",
   "metadata": {},
   "source": [
    "> "
   ]
  },
  {
   "cell_type": "markdown",
   "metadata": {},
   "source": [
    "# Aula 03: Agregando e Sumarizando\n"
   ]
  },
  {
   "cell_type": "markdown",
   "metadata": {},
   "source": [
    "Na aula de hoje iremos aplicar todos conceitos vistos até agora e aprender a sumarizar a agregar informações."
   ]
  },
  {
   "cell_type": "markdown",
   "metadata": {},
   "source": [
    "[Material](https://docs.google.com/presentation/d/1BQX-cfkF11uLLS1PMAwyX0Ga3p59Gksff8KSpZe8S94/edit#slide=id.ge43d54be65_0_128)"
   ]
  },
  {
   "cell_type": "markdown",
   "metadata": {},
   "source": [
    "# Habilidades a serem desenvolvidas"
   ]
  },
  {
   "cell_type": "markdown",
   "metadata": {},
   "source": [
    "Ao final da aula, o aluno deve:\n",
    "1. Saber sumarizar informações;\n",
    "1. Usar o COUNT, MIN, MAX, AVG e ROUND;\n",
    "1. Entender como usar outras funções que não foram apresentadas;\n",
    "1. Saber agregar informações com o GROUP BY;\n",
    "1. Filtrar informações agregadas com o HAVING;"
   ]
  },
  {
   "cell_type": "markdown",
   "metadata": {},
   "source": [
    "# SQL: Sumarizando"
   ]
  },
  {
   "cell_type": "markdown",
   "metadata": {},
   "source": [
    "## COUNT\n",
    "Quantas linhas temos na tabela order_details?"
   ]
  },
  {
   "cell_type": "markdown",
   "metadata": {},
   "source": [
    "    SELECT COUNT(*) from order_details;\n",
    "\n",
    "    SELECT COUNT(discount) from order_details;"
   ]
  },
  {
   "cell_type": "markdown",
   "metadata": {},
   "source": [
    "## MIN\n",
    "Qual o valor_unitário mais barato?"
   ]
  },
  {
   "cell_type": "markdown",
   "metadata": {},
   "source": [
    "    SELECT MIN(unit_price) from order_details;"
   ]
  },
  {
   "cell_type": "markdown",
   "metadata": {},
   "source": [
    "## MAX\n",
    "Qual o valor_unitário mais caro?"
   ]
  },
  {
   "cell_type": "markdown",
   "metadata": {},
   "source": [
    "    SELECT MAX(unit_price) from order_details;"
   ]
  },
  {
   "cell_type": "markdown",
   "metadata": {},
   "source": [
    "## AVG\n",
    "Qual a média dos valores unitários?"
   ]
  },
  {
   "cell_type": "markdown",
   "metadata": {},
   "source": [
    "    SELECT AVG(unit_price) from order_details;"
   ]
  },
  {
   "cell_type": "markdown",
   "metadata": {},
   "source": [
    "## ROUND"
   ]
  },
  {
   "cell_type": "markdown",
   "metadata": {},
   "source": [
    "Qual a média dos valores unitários com duas casas decimais?"
   ]
  },
  {
   "cell_type": "markdown",
   "metadata": {},
   "source": [
    "    SELECT ROUND(AVG(unit_price)::numeric, 2) from order_details;"
   ]
  },
  {
   "cell_type": "markdown",
   "metadata": {},
   "source": [
    "## SUM "
   ]
  },
  {
   "cell_type": "markdown",
   "metadata": {},
   "source": [
    "Qual a soma de todos os valores unitários?"
   ]
  },
  {
   "cell_type": "markdown",
   "metadata": {},
   "source": [
    "    SELECT SUM(unit_price) from order_details;"
   ]
  },
  {
   "cell_type": "markdown",
   "metadata": {},
   "source": [
    "Qual o valor total de todas as ordens sem desconto?"
   ]
  },
  {
   "cell_type": "markdown",
   "metadata": {},
   "source": [
    "    SELECT  ROUND(SUM(unit_price * quantity)::numeric, 2) from order_details;"
   ]
  },
  {
   "cell_type": "markdown",
   "metadata": {},
   "source": [
    "Qual o valor total de todas as ordens **com** desconto?"
   ]
  },
  {
   "cell_type": "markdown",
   "metadata": {},
   "source": [
    "    SELECT  ROUND(SUM( (unit_price * quantity))::numeric, 2) preco_cheio,\n",
    "            ROUND(SUM( (unit_price * quantity)*(1-discount))::numeric, 2) as preco_desconto \n",
    "    from order_details;"
   ]
  },
  {
   "cell_type": "markdown",
   "metadata": {},
   "source": [
    "# SQL: Agregando"
   ]
  },
  {
   "cell_type": "markdown",
   "metadata": {},
   "source": [
    "## GROUP BY\n",
    "Permite agregar as sumarizações acima por grupos de dados!"
   ]
  },
  {
   "cell_type": "markdown",
   "metadata": {},
   "source": [
    "Qual a soma dos valores unitários de cada ordem?"
   ]
  },
  {
   "cell_type": "markdown",
   "metadata": {},
   "source": [
    "    SELECT order_id, SUM(unit_price) \n",
    "    from order_details\n",
    "    GROUP by order_id\n",
    "    ORDER By order_id;\n",
    "\n",
    "    -- validação de dados e queries\n",
    "    select sum(unit_price) from order_details\n",
    "    where order_id = 10248;\n",
    "\n",
    "    SELECT order_id, SUM(unit_price) \n",
    "    from order_details\n",
    "    where order_id = 10248\n",
    "    GROUP by order_id;"
   ]
  },
  {
   "cell_type": "markdown",
   "metadata": {},
   "source": [
    "Quantas unidades de cada produto foram vendidas?"
   ]
  },
  {
   "cell_type": "markdown",
   "metadata": {},
   "source": [
    "    SELECT product_id, SUM(quantity)\n",
    "    FROM order_details\n",
    "    GROUP BY product_id;"
   ]
  },
  {
   "cell_type": "markdown",
   "metadata": {},
   "source": [
    "Ordene a lista acima!"
   ]
  },
  {
   "cell_type": "markdown",
   "metadata": {},
   "source": [
    "    SELECT product_id, SUM(quantity)\n",
    "    FROM order_details\n",
    "    GROUP BY product_id\n",
    "    ORDER BY product_id;\n",
    "\n",
    "    -- equivalente\n",
    "    SELECT product_id, SUM(quantity)\n",
    "    FROM order_details\n",
    "    GROUP BY product_id\n",
    "    ORDER BY 1;\n",
    "\n",
    "    -- ordene pela soma\n",
    "    SELECT product_id, SUM(quantity)\n",
    "    FROM order_details\n",
    "    GROUP BY product_id\n",
    "    ORDER BY SUM(quantity);\n",
    "\n",
    "    SELECT product_id, SUM(quantity)\n",
    "    FROM order_details\n",
    "    GROUP BY product_id\n",
    "    ORDER BY 2;\n",
    "\n",
    "    SELECT product_id, SUM(quantity) as soma\n",
    "    FROM order_details\n",
    "    GROUP BY product_id\n",
    "    ORDER BY soma;\n"
   ]
  },
  {
   "cell_type": "markdown",
   "metadata": {},
   "source": [
    "## HAVING\n",
    "Funcionamento similiar ao `WHERE`, mas aplicado à agreações o invés de colunas."
   ]
  },
  {
   "cell_type": "markdown",
   "metadata": {},
   "source": [
    "Selecione todas os id's de ordens que tenham valor total acima de 10_000."
   ]
  },
  {
   "cell_type": "markdown",
   "metadata": {},
   "source": [
    "    SELECT order_id, SUM(unit_price * quantity) as valor_total\n",
    "    FROM order_details\n",
    "    GROUP BY order_id\n",
    "    HAVING SUM(unit_price * quantity) > 10000;"
   ]
  },
  {
   "cell_type": "markdown",
   "metadata": {},
   "source": [
    "# Exercícios"
   ]
  },
  {
   "cell_type": "markdown",
   "metadata": {},
   "source": [
    "Enviar para o email filipe.furlan@letcode.com.br até **2021/07/31** um arquivo de texto (`785_firstname_lastname_aula03.sql`) com a resolução dos exercicios abaixo.\n",
    "\n",
    "IMPORTANTE: Inserir uma linha de comentário `-- exercicio XX` (XX = 1, 2A, 2B etc) antes de cada solução.\n",
    "\n",
    "**OBS:** Enviar ao final da aula a lista com os exercícios resolvidos até aquele momento."
   ]
  },
  {
   "cell_type": "markdown",
   "metadata": {},
   "source": [
    "1. Da tabela territories:\n",
    "    1. Quantos territórios temos ao todo?\n",
    "    1. Quantos territórios por região?\n",
    "1. Selecione da tabela empolyees:\n",
    "    1. Quantos empregados reportam para cada chefe?\n",
    "    1. Quantos empregados em cada cidade?\n",
    "1. Selecione da tabela order_details:\n",
    "    1. Quantas unidades forem vendidas por ordem?\n",
    "    1. Qual o valor total de cada ordem?\n",
    "    1. Qual o produto mais vendido?\n",
    "    1. Selecione ordens que tenham menos de três produtos.\n",
    "1. Selecione da tabels orders:\n",
    "    1. Qual cliente realizou mais ordens?\n",
    "    1. Qual cliente realizou menos ordens?\n",
    "    1. Quantas ordems foram feitas por mês?\n",
    "    1. Qual o tempo médio de envio por cliente?\n",
    "    1. Faça uma lista ordenada dos países que receberam mais ordens.\n",
    "    1. Qual o tempo máximo de envio por cidade?\n",
    "    1. Quanto cada cliente gastou em frete?\n",
    "    1. Qual o custo total de cada tipo de frete?\n",
    "    1. Quanto cada cliente gastou em casa tipo de frete?\n",
    "1. Selecione da tabela suppliers:\n",
    "    1. Uma lista com os países que mais tem fornecedores.\n",
    "1. Selecione da tabela products:\n",
    "    1. Uma lista com o número de produtos por fornecedore.\n",
    "    1. Oderne a lista acima em ordem decrescente.\n",
    "    1. Uma lista com o número de produtos por fornecedors por categoria.\n",
    "    1. Quantos produtos foram descontinuados.\n",
    "    1. Fornecedores com estoque baixo (soma de unidades < 20).\n",
    "    1. A média do valor total de cada categória.\n",
    "    1. O valor do produto mais barato, mais caro e a média dos valores unitários por fornecedor e categoria. \n",
    "    \n",
    "    "
   ]
  },
  {
   "cell_type": "code",
   "execution_count": null,
   "metadata": {},
   "outputs": [],
   "source": []
  }
 ],
 "metadata": {
  "kernelspec": {
   "display_name": "Python 3",
   "language": "python",
   "name": "python3"
  },
  "language_info": {
   "codemirror_mode": {
    "name": "ipython",
    "version": 3
   },
   "file_extension": ".py",
   "mimetype": "text/x-python",
   "name": "python",
   "nbconvert_exporter": "python",
   "pygments_lexer": "ipython3",
   "version": "3.7.0"
  },
  "toc": {
   "base_numbering": 1,
   "nav_menu": {},
   "number_sections": true,
   "sideBar": true,
   "skip_h1_title": false,
   "title_cell": "Table of Contents",
   "title_sidebar": "Contents",
   "toc_cell": false,
   "toc_position": {
    "height": "calc(100% - 180px)",
    "left": "10px",
    "top": "150px",
    "width": "273.188px"
   },
   "toc_section_display": true,
   "toc_window_display": true
  }
 },
 "nbformat": 4,
 "nbformat_minor": 5
}
