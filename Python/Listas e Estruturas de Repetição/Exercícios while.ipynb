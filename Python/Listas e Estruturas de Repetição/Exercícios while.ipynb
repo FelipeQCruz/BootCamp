{
 "cells": [
  {
   "cell_type": "markdown",
   "metadata": {},
   "source": [
    "Faça um programa que peça ao usuário um número e imprima todos os números de um até o número dado."
   ]
  },
  {
   "cell_type": "code",
   "execution_count": 1,
   "metadata": {
    "ExecuteTime": {
     "end_time": "2021-07-12T13:11:33.212062Z",
     "start_time": "2021-07-12T13:11:30.698460Z"
    }
   },
   "outputs": [
    {
     "name": "stdout",
     "output_type": "stream",
     "text": [
      "Insira um número inteiro: 1\n",
      "1\n"
     ]
    }
   ],
   "source": [
    "x = int(input(\"Insira um número inteiro: \"))\n",
    "\n",
    "i = 0\n",
    "\n",
    "while i < (x):\n",
    "    i = i + 1\n",
    "    print(i)"
   ]
  },
  {
   "cell_type": "markdown",
   "metadata": {},
   "source": [
    "Peça ao usuário para digitar um número e imprima o fatorial de n.\n",
    "\n"
   ]
  },
  {
   "cell_type": "code",
   "execution_count": 30,
   "metadata": {
    "ExecuteTime": {
     "end_time": "2021-07-12T13:27:09.196683Z",
     "start_time": "2021-07-12T13:27:06.735085Z"
    }
   },
   "outputs": [
    {
     "name": "stdout",
     "output_type": "stream",
     "text": [
      "Insira um número inteiro: 5\n",
      "O fatorial de 5 é 120\n"
     ]
    }
   ],
   "source": [
    "n = int(input(\"Insira um número inteiro: \"))\n",
    "\n",
    "f = n\n",
    "i = n\n",
    "\n",
    "while i > 1:\n",
    "    i = i - 1\n",
    "    f = f*i\n",
    "print('O fatorial de', n, 'é', f)"
   ]
  },
  {
   "cell_type": "markdown",
   "metadata": {},
   "source": [
    "Peça ao usuário para digitar um número N e some todos os números de 1 a N utilizando o laço de repetição while.\n",
    "\n"
   ]
  },
  {
   "cell_type": "code",
   "execution_count": 41,
   "metadata": {
    "ExecuteTime": {
     "end_time": "2021-07-12T13:37:13.687459Z",
     "start_time": "2021-07-12T13:37:12.120347Z"
    }
   },
   "outputs": [
    {
     "name": "stdout",
     "output_type": "stream",
     "text": [
      "Insira um número inteiro: 4\n",
      "10\n"
     ]
    }
   ],
   "source": [
    "v"
   ]
  },
  {
   "cell_type": "markdown",
   "metadata": {},
   "source": [
    "Faça um programa que imprima a tabuada do 9 (de 9x1 a 9x10) usando loops.\n",
    "\n"
   ]
  },
  {
   "cell_type": "code",
   "execution_count": 42,
   "metadata": {
    "ExecuteTime": {
     "end_time": "2021-07-12T13:40:28.452045Z",
     "start_time": "2021-07-12T13:40:28.433062Z"
    }
   },
   "outputs": [
    {
     "name": "stdout",
     "output_type": "stream",
     "text": [
      "Tabuada do 9\n",
      "9\n",
      "18\n",
      "27\n",
      "36\n",
      "45\n",
      "54\n",
      "63\n",
      "72\n",
      "81\n",
      "90\n"
     ]
    }
   ],
   "source": [
    "print('Tabuada do 9')\n",
    "\n",
    "n = 9\n",
    "i = 1\n",
    "\n",
    "while i <= 10:\n",
    "    t = n * i\n",
    "    i = i + 1\n",
    "    print(t)"
   ]
  },
  {
   "cell_type": "markdown",
   "metadata": {
    "ExecuteTime": {
     "end_time": "2021-07-12T13:41:16.053797Z",
     "start_time": "2021-07-12T13:41:16.035721Z"
    }
   },
   "source": [
    "Faça um programa que recebe um número inteiro do usuário e imprime na tela a quantidade de divisores desse número e quais são eles."
   ]
  },
  {
   "cell_type": "code",
   "execution_count": 67,
   "metadata": {
    "ExecuteTime": {
     "end_time": "2021-07-12T14:00:03.875542Z",
     "start_time": "2021-07-12T14:00:02.507494Z"
    }
   },
   "outputs": [
    {
     "name": "stdout",
     "output_type": "stream",
     "text": [
      "Insira um número inteiro: 10\n",
      "Divisor: 1\n",
      "Divisor: 2\n",
      "Divisor: 5\n",
      "Total de divisores: 3\n"
     ]
    }
   ],
   "source": [
    "N = int(input(\"Insira um número inteiro: \"))\n",
    "negativo = False\n",
    "\n",
    "d = 1\n",
    "t = 0\n",
    "\n",
    "while d < N:\n",
    "    if (N%d == 0):\n",
    "        print('Divisor:', d)\n",
    "        t = t + 1\n",
    "    d = d + 1\n",
    "print('Total de divisores:', t)"
   ]
  },
  {
   "cell_type": "markdown",
   "metadata": {
    "ExecuteTime": {
     "end_time": "2021-07-12T13:56:36.848826Z",
     "start_time": "2021-07-12T13:56:36.834645Z"
    }
   },
   "source": [
    "Faça um programa, usando loops, que peça para um usuário digitar um número e que só finaliza quando o usuário digitar 0. Ao final imprima a soma de todos os números digitados."
   ]
  },
  {
   "cell_type": "code",
   "execution_count": 68,
   "metadata": {
    "ExecuteTime": {
     "end_time": "2021-07-12T14:09:07.877286Z",
     "start_time": "2021-07-12T14:09:03.371875Z"
    }
   },
   "outputs": [
    {
     "name": "stdout",
     "output_type": "stream",
     "text": [
      "Insira um número (para finalizar, insira 0: 10\n",
      "Insira um número (para finalizar, insira 0: 20\n",
      "Insira um número (para finalizar, insira 0: 0\n",
      "Soma de todos números inseridos: 30\n"
     ]
    }
   ],
   "source": [
    "s = 0\n",
    "while (N != 0):\n",
    "    N = int(input(\"Insira um número (para finalizar, insira 0: \"))\n",
    "    s = N + s\n",
    "print('Soma de todos números inseridos:', s)"
   ]
  },
  {
   "cell_type": "markdown",
   "metadata": {},
   "source": [
    "\n",
    "Faça um programa que sorteia um número N e peça para o usuário adivinhar o número sorteado. A cada resposta errada, o seu programa deve imprimir um aviso dizendo que a resposta está errada e pedir novamente uma resposta ao usuário.\n",
    "\n",
    "Para a realização desse exercício, utilize alguma função da biblioteca random (e.g. randint())."
   ]
  },
  {
   "cell_type": "code",
   "execution_count": 70,
   "metadata": {
    "ExecuteTime": {
     "end_time": "2021-07-12T14:15:51.072573Z",
     "start_time": "2021-07-12T14:15:42.954630Z"
    }
   },
   "outputs": [
    {
     "name": "stdout",
     "output_type": "stream",
     "text": [
      "Qual número, entre 1 a 5, você acha que escolhi? 1\n",
      "Tente novamente: 1\n",
      "Tente novamente: 1\n",
      "Tente novamente: 2\n",
      "Tente novamente: 3\n",
      "Tente novamente: 4\n",
      "Tente novamente: 5\n",
      "Acertou! 5\n"
     ]
    }
   ],
   "source": [
    "import random as rd\n",
    "\n",
    "x = rd.randint(1, 10)\n",
    "y = int(input('Qual número, entre 1 a 10, você acha que escolhi? '))\n",
    "\n",
    "while (y != x):\n",
    "    y = int(input('Tente novamente: '))\n",
    "print('Acertou!', x)"
   ]
  },
  {
   "cell_type": "markdown",
   "metadata": {},
   "source": [
    "Faça um programa que peça para o usuário digitar a idade, o salário e o sexo de uma pessoa até que as entradas digitadas sejam válidas.\n",
    "\n",
    "a. Idade: entre 0 e 150;\n",
    "\n",
    "b. Salário: maior que 0;\n",
    "\n",
    "c. Sexo: M, F ou Outro."
   ]
  },
  {
   "cell_type": "code",
   "execution_count": 3,
   "metadata": {
    "ExecuteTime": {
     "end_time": "2021-07-12T14:27:03.727049Z",
     "start_time": "2021-07-12T14:26:59.303626Z"
    }
   },
   "outputs": [
    {
     "name": "stdout",
     "output_type": "stream",
     "text": [
      "Qual sua idade? 5\n",
      "Qual seu salário? 10\n",
      "Qual seu sexo (F, M, Outro)? M\n"
     ]
    }
   ],
   "source": [
    "idade = int(input('Qual sua idade? '))\n",
    "salario = float(input('Qual seu salário? '))\n",
    "sexo = input('Qual seu sexo (F, M, Outro)? ')\n",
    "\n",
    "while (idade < 0) or (idade >150):\n",
    "    idade = int(input('Favor insira uma idade válida: '))\n",
    "while (salario < 0):\n",
    "    salario = float(input('Favor insira um salário válido: '))\n",
    "while (sexo != 'M') and (sexo != 'F') and (sexo != 'Outro'):\n",
    "    sexo = input('Favor insira um sexo válido (F, M, Outro): ')"
   ]
  },
  {
   "cell_type": "markdown",
   "metadata": {},
   "source": [
    "Desafio! - Calcule a soma de até mil termos da série 1 + 1/2 + 1/4 + 1/8 + 1/16 + ...\n",
    "\n",
    "Dica: Use três variáveis:\n",
    "\n",
    "• um contador, que começa em zero;\n",
    "\n",
    "• uma variável para a soma de todos os termos, que também começa em zero;\n",
    "\n",
    "• uma variável para cada termo, que começa em 1 e a cada loop é dividida por 2.\n",
    "\n",
    "A repetição da soma de mil termos pode ser feita com a função while contador < 1000.\n"
   ]
  },
  {
   "cell_type": "code",
   "execution_count": 16,
   "metadata": {
    "ExecuteTime": {
     "end_time": "2021-07-12T14:34:44.909134Z",
     "start_time": "2021-07-12T14:34:44.900801Z"
    }
   },
   "outputs": [
    {
     "name": "stdout",
     "output_type": "stream",
     "text": [
      "Soma dos 1000 termos: 2.0\n"
     ]
    }
   ],
   "source": [
    "i = 0\n",
    "soma = 0\n",
    "v = 1\n",
    "\n",
    "while (i < 1000):\n",
    "    i = i + 1\n",
    "    soma = soma + 1*v\n",
    "    v = v/2\n",
    "print('Soma dos 1000 termos:', soma)"
   ]
  },
  {
   "cell_type": "markdown",
   "metadata": {},
   "source": [
    "Super Desafio! - Calcule a soma de mil termos dos inversos dos fatoriais: 1/(1!) + 1/(2!) + 1/(3!) + 1/(4!) + ...\n",
    "\n",
    "Dica: Assim como no exercício anterior use três variáveis: um contador; uma variável para a soma; e uma variável para os termos. Lembre-se de que 4! = 4x3x2x1 que também é igual a 4x3!.\n"
   ]
  },
  {
   "cell_type": "code",
   "execution_count": 55,
   "metadata": {
    "ExecuteTime": {
     "end_time": "2021-07-12T14:59:20.160162Z",
     "start_time": "2021-07-12T14:59:19.900760Z"
    }
   },
   "outputs": [
    {
     "name": "stdout",
     "output_type": "stream",
     "text": [
      "Soma dos 1000 termos: 1.7182818284590455\n"
     ]
    }
   ],
   "source": [
    "i = 0\n",
    "soma = 0\n",
    "v = 1\n",
    "\n",
    "while (i < 1000):\n",
    "    f = i + 1\n",
    "    j = i + 1\n",
    "    while j > 1:\n",
    "        j = j - 1\n",
    "        f = f*j\n",
    "    soma = soma + 1/f\n",
    "    i = i + 1\n",
    "print('Soma dos 1000 termos:', soma)"
   ]
  }
 ],
 "metadata": {
  "kernelspec": {
   "display_name": "Python 3",
   "language": "python",
   "name": "python3"
  },
  "language_info": {
   "codemirror_mode": {
    "name": "ipython",
    "version": 3
   },
   "file_extension": ".py",
   "mimetype": "text/x-python",
   "name": "python",
   "nbconvert_exporter": "python",
   "pygments_lexer": "ipython3",
   "version": "3.7.0"
  },
  "toc": {
   "base_numbering": 1,
   "nav_menu": {},
   "number_sections": true,
   "sideBar": true,
   "skip_h1_title": false,
   "title_cell": "Table of Contents",
   "title_sidebar": "Contents",
   "toc_cell": false,
   "toc_position": {},
   "toc_section_display": true,
   "toc_window_display": false
  }
 },
 "nbformat": 4,
 "nbformat_minor": 2
}
