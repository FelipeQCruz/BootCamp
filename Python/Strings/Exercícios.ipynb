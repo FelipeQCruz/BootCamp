{
 "cells": [
  {
   "cell_type": "markdown",
   "metadata": {},
   "source": [
    "Faça um programa que peça para o usuário digitar uma palavra e imprima cada letra em uma linha.\n",
    "\n"
   ]
  },
  {
   "cell_type": "code",
   "execution_count": 2,
   "metadata": {
    "ExecuteTime": {
     "end_time": "2021-07-14T09:47:34.949618Z",
     "start_time": "2021-07-14T09:47:32.851141Z"
    }
   },
   "outputs": [
    {
     "name": "stdout",
     "output_type": "stream",
     "text": [
      "Digite uma palavra: oi\n",
      "o\n",
      "i\n"
     ]
    }
   ],
   "source": [
    "palavra = input('Digite uma palavra: ')\n",
    "\n",
    "for i in palavra:\n",
    "    print(i)"
   ]
  },
  {
   "cell_type": "markdown",
   "metadata": {},
   "source": [
    "Faça um programa que pede para o usuário digitar uma palavra e cria uma nova string igual, copiando letra por letra a palavra digitada, depois imprima a nova string.\n",
    "\n"
   ]
  },
  {
   "cell_type": "code",
   "execution_count": 6,
   "metadata": {
    "ExecuteTime": {
     "end_time": "2021-07-14T09:49:38.793790Z",
     "start_time": "2021-07-14T09:49:37.456960Z"
    }
   },
   "outputs": [
    {
     "name": "stdout",
     "output_type": "stream",
     "text": [
      "Digite uma palavra: oi\n",
      "o\n",
      "oi\n",
      "oi\n"
     ]
    }
   ],
   "source": [
    "palavra = input('Digite uma palavra: ')\n",
    "copia = ''\n",
    "\n",
    "for i in palavra:\n",
    "    copia = copia + i\n",
    "\n",
    "print(copia)"
   ]
  },
  {
   "cell_type": "markdown",
   "metadata": {},
   "source": [
    "Altere o exercício anterior para que a string copiada alterne entre letras maiúsculas e minúsculas.\n",
    "\n",
    "Exemplo: se o usuário digitar \"latex\" o programa deve imprimir \"LaTeX\"."
   ]
  },
  {
   "cell_type": "code",
   "execution_count": 9,
   "metadata": {
    "ExecuteTime": {
     "end_time": "2021-07-14T09:55:19.050762Z",
     "start_time": "2021-07-14T09:55:12.336697Z"
    }
   },
   "outputs": [
    {
     "name": "stdout",
     "output_type": "stream",
     "text": [
      "Digite uma palavra: latex\n",
      "LaTeX\n"
     ]
    }
   ],
   "source": [
    "palavra = input('Digite uma palavra: ')\n",
    "copia = ''\n",
    "j = 1\n",
    "\n",
    "for i in palavra:\n",
    "    if (j%2) == 1:\n",
    "        i = i.upper()\n",
    "        copia = copia + i\n",
    "    else:\n",
    "        copia = copia + i\n",
    "    j = j + 1\n",
    "\n",
    "print(copia)"
   ]
  },
  {
   "cell_type": "markdown",
   "metadata": {},
   "source": [
    "Faça um programa que pede para o usuário digitar uma palavra e cria uma nova string igual, porém com espaço entre cada letra, depois imprima a nova string:\n",
    "\n",
    "Exemplo: se o usuário digitar \"python\" o programa deve imprimir \"p y t h o n \""
   ]
  },
  {
   "cell_type": "code",
   "execution_count": 18,
   "metadata": {
    "ExecuteTime": {
     "end_time": "2021-07-14T10:04:29.833368Z",
     "start_time": "2021-07-14T10:04:27.123145Z"
    }
   },
   "outputs": [
    {
     "name": "stdout",
     "output_type": "stream",
     "text": [
      "Digite uma palavra: python\n",
      "p y t h o n\n"
     ]
    }
   ],
   "source": [
    "palavra = input('Digite uma palavra: ')\n",
    "\n",
    "copia = \" \".join(palavra)\n",
    "\n",
    "print(copia)"
   ]
  },
  {
   "cell_type": "markdown",
   "metadata": {},
   "source": [
    "Faça uma função que receba uma string e retorne uma nova string substituindo:\n",
    "\n",
    "'a' por '4'\n",
    "\n",
    "'e' por '3'\n",
    "\n",
    "'I' por '1'\n",
    "\n",
    "'t' por '7'"
   ]
  },
  {
   "cell_type": "code",
   "execution_count": 26,
   "metadata": {
    "ExecuteTime": {
     "end_time": "2021-07-14T10:13:18.078135Z",
     "start_time": "2021-07-14T10:13:14.126598Z"
    }
   },
   "outputs": [
    {
     "name": "stdout",
     "output_type": "stream",
     "text": [
      "Digite uma palavra: tESTE\n",
      "73S73\n"
     ]
    }
   ],
   "source": [
    "palavra = input('Digite uma palavra: ')\n",
    "nova = ''\n",
    "\n",
    "for letra in palavra:\n",
    "    if letra in ('a', 'A'):\n",
    "        nova = nova + '4'\n",
    "    elif letra in ('e', 'E'):\n",
    "        nova = nova + '3'\n",
    "    elif letra in ('i', 'I'):\n",
    "        nova = nova + '1'\n",
    "    elif letra in ('t', 'T'):\n",
    "        nova = nova + '7'\n",
    "    else:\n",
    "        nova = nova + letra\n",
    "\n",
    "print(nova)"
   ]
  },
  {
   "cell_type": "markdown",
   "metadata": {},
   "source": [
    "Faça uma função que recebe uma string e retorna ela ao contrário.\n",
    "\n",
    "Exemplo: Recebe \"teste\" e retorna \"etset\"."
   ]
  },
  {
   "cell_type": "code",
   "execution_count": 34,
   "metadata": {
    "ExecuteTime": {
     "end_time": "2021-07-14T10:27:33.112806Z",
     "start_time": "2021-07-14T10:27:30.544815Z"
    }
   },
   "outputs": [
    {
     "name": "stdout",
     "output_type": "stream",
     "text": [
      "Digite uma palavra: teste\n",
      "etset\n"
     ]
    }
   ],
   "source": [
    "palavra = list(input('Digite uma palavra: '))\n",
    "inverso = ''\n",
    "\n",
    "for i in range(len(palavra)):\n",
    "    j = i*(-1) - 1\n",
    "    inverso = inverso + ''.join(palavra[j])\n",
    "\n",
    "print(inverso)"
   ]
  },
  {
   "cell_type": "markdown",
   "metadata": {},
   "source": [
    "Agora faça uma função que recebe uma palavra e diz se ela é um palíndromo, ou seja, se ela é igual a ela mesma ao contrário.\n"
   ]
  },
  {
   "cell_type": "code",
   "execution_count": 42,
   "metadata": {
    "ExecuteTime": {
     "end_time": "2021-07-14T10:53:32.507262Z",
     "start_time": "2021-07-14T10:53:25.181327Z"
    }
   },
   "outputs": [
    {
     "name": "stdout",
     "output_type": "stream",
     "text": [
      "Digite uma palavra: APós a SOPA\n",
      "A palavra \"APós a SOPA\" é um palíndromo\n"
     ]
    }
   ],
   "source": [
    "import unicodedata\n",
    "\n",
    "palavra = list(input('Digite uma palavra: '))\n",
    "inverso = ''\n",
    "palindromo = False\n",
    "\n",
    "for i in range(len(palavra)):\n",
    "    j = i*(-1) - 1\n",
    "    inverso = inverso + ''.join(palavra[j])\n",
    "    \n",
    "palavra = ''.join(palavra)\n",
    "\n",
    "testePalavra = unicodedata.normalize(\"NFD\", palavra).encode(\"ascii\", \"ignore\").decode(\"utf-8\").strip().upper()\n",
    "testeInverso = unicodedata.normalize(\"NFD\", inverso).encode(\"ascii\", \"ignore\").decode(\"utf-8\").strip().upper()\n",
    "    \n",
    "if (testePalavra == testeInverso):\n",
    "    print(f'O termo \"{palavra}\" é um palíndromo')\n",
    "else:\n",
    "    print(f'O termo \"{palavra}\" não é um palíndromo')"
   ]
  },
  {
   "cell_type": "markdown",
   "metadata": {},
   "source": [
    "Faça uma função que receba um texto e uma palavra, então verifique se a palavra está no texto, retornando True ou False."
   ]
  },
  {
   "cell_type": "code",
   "execution_count": 14,
   "metadata": {
    "ExecuteTime": {
     "end_time": "2021-07-14T12:16:44.871909Z",
     "start_time": "2021-07-14T12:16:23.811926Z"
    }
   },
   "outputs": [
    {
     "name": "stdout",
     "output_type": "stream",
     "text": [
      "Insira um texto: último tes\n",
      "Insira a palavra que deseja buscar no texto: testando\n"
     ]
    },
    {
     "data": {
      "text/plain": [
       "False"
      ]
     },
     "execution_count": 14,
     "metadata": {},
     "output_type": "execute_result"
    }
   ],
   "source": [
    "import unicodedata\n",
    "\n",
    "texto = input('Insira um texto: ')\n",
    "palavra = input('Insira a palavra que deseja buscar no texto: ')\n",
    "encontrou = False\n",
    "trecho = ''\n",
    "\n",
    "# formatando o texto e a palavra\n",
    "textoF = unicodedata.normalize(\"NFD\", texto).encode(\"ascii\", \"ignore\").decode(\"utf-8\").strip().upper()\n",
    "palavraF = unicodedata.normalize(\"NFD\", palavra).encode(\"ascii\", \"ignore\").decode(\"utf-8\").strip().upper()\n",
    "\n",
    "textoF = list(textoF)\n",
    "palavraF = list(palavraF)\n",
    "\n",
    "# removendo caracteres especiais\n",
    "for carac in textoF:\n",
    "    if not (carac.isdigit() or carac.isalpha() or carac.isalnum() or carac.isspace()):\n",
    "        textoF.remove(carac)\n",
    "        \n",
    "for carac in palavraF:\n",
    "    if not (carac.isdigit() or carac.isalpha() or carac.isalnum() or carac.isspace()):\n",
    "        palavraF.remove(carac)\n",
    "\n",
    "        \n",
    "for i in range(len(textoF)):\n",
    "    # verifica se o caractere antes do índice i é um espaço, ou se é o último caractere (no caso da primeira palavra do texto)\n",
    "    # também verifica se o caractere do índice i é igual à primeira letra da palavra\n",
    "    if textoF[i] == palavraF[0] and textoF[i - 1] in (' ', textoF[-1]):\n",
    "        # à partir do caractere do índice i e do tamanho da palavra, pegamos um trecho de mesmo tamanho que a palavra\n",
    "        indicePalavra = len(palavraF) + i\n",
    "        trecho = textoF[i:indicePalavra]\n",
    "        # o caractere depois do trecho deve ser um espaço, ou o fim do texto\n",
    "        # tratativa de erro caso o índice seja maior que o o fim do texto\n",
    "        try:\n",
    "            EspacoOuFim = textoF[indicePalavra].isspace()\n",
    "        except:\n",
    "            EspacoOuFim = True\n",
    "        if trecho == palavraF and EspacoOuFim:\n",
    "            encontrou = True\n",
    "encontrou"
   ]
  },
  {
   "cell_type": "markdown",
   "metadata": {},
   "source": [
    "Faça uma função que receba uma string que contém tanto números quanto letras e caracteres especiais, e que separe as letras em uma variável e os números em outra (os caracteres especiais podem ser descartados). Ao final a função deve imprimir as duas variáveis."
   ]
  },
  {
   "cell_type": "code",
   "execution_count": 16,
   "metadata": {
    "ExecuteTime": {
     "end_time": "2021-07-14T12:26:15.365883Z",
     "start_time": "2021-07-14T12:26:02.601430Z"
    }
   },
   "outputs": [
    {
     "name": "stdout",
     "output_type": "stream",
     "text": [
      "Insira um texto: vsu31241v dfbd3@$%@bvj fdb343$%;\n",
      "Letras:  ['v', 's', 'u', 'v', 'd', 'f', 'b', 'd', 'b', 'v', 'j', 'f', 'd', 'b']\n",
      "Números:  ['3', '1', '2', '4', '1', '3', '3', '4', '3']\n"
     ]
    }
   ],
   "source": [
    "texto = input('Insira um texto: ')\n",
    "\n",
    "letras = []\n",
    "num = []\n",
    "\n",
    "for carac in texto:\n",
    "    if carac.isdigit() == True:\n",
    "        num.append(carac)\n",
    "    elif carac.isalpha():        \n",
    "        letras.append(carac)\n",
    "\n",
    "print('Letras: ', letras)\n",
    "print('Números: ', num)"
   ]
  },
  {
   "cell_type": "markdown",
   "metadata": {},
   "source": [
    "Desafio - Faça uma função que receba uma string e uma letra e:\n",
    "\n",
    "a. imprima quantas vezes a letra aparece na string;\n",
    "\n",
    "b. imprima todas as posições em que a letra aparece na string;\n",
    "\n",
    "c. retorne a distância entre a primeira e a última aparição dessa letra na string."
   ]
  },
  {
   "cell_type": "code",
   "execution_count": 4,
   "metadata": {
    "ExecuteTime": {
     "end_time": "2021-07-14T12:48:53.154661Z",
     "start_time": "2021-07-14T12:48:36.802276Z"
    }
   },
   "outputs": [
    {
     "name": "stdout",
     "output_type": "stream",
     "text": [
      "Insira um texto: teste teste #testando\n",
      "Insira a letra que deseja buscar no texto: e\n",
      "a) A letra \"e\" aparece 5 vezes no texto.\n",
      "b) Posições: [1, 4, 7, 10, 14] \n",
      "c) Distância entre primeira e última aparição: 13\n"
     ]
    }
   ],
   "source": [
    "import unicodedata\n",
    "\n",
    "texto = input('Insira um texto: ')\n",
    "letra = input('Insira a letra que deseja buscar no texto: ')\n",
    "encontrou = False\n",
    "primeira = -1\n",
    "ultima = -1\n",
    "cont = 0\n",
    "pos = []\n",
    "\n",
    "# formatando o texto e a palavra\n",
    "textoF = unicodedata.normalize(\"NFD\", texto).encode(\"ascii\", \"ignore\").decode(\"utf-8\").strip().upper()\n",
    "letraF = unicodedata.normalize(\"NFD\", letra).encode(\"ascii\", \"ignore\").decode(\"utf-8\").strip().upper()\n",
    "\n",
    "textoF = list(textoF)\n",
    "        \n",
    "for i in range(len(textoF)):\n",
    "    if textoF[i] == letraF:\n",
    "        cont = cont + 1\n",
    "        if cont == 1:\n",
    "            primeira = i\n",
    "        ultima = i\n",
    "        pos.append(i)\n",
    "dist = ultima - primeira\n",
    "\n",
    "print(f'a) A letra \"{letra}\" aparece {cont} vezes no texto.')\n",
    "print(f'b) Posições: {pos} ')\n",
    "print(f'c) Distância entre primeira e última aparição: {dist}')"
   ]
  },
  {
   "cell_type": "markdown",
   "metadata": {},
   "source": [
    "Super Desafio! - faça uma função que criptografa uma mensagem substituindo cada letra pela letra oposta do dicionário:\n",
    "\n",
    "'a' por 'z'\n",
    "\n",
    "'b' por 'y'\n",
    "\n",
    "'c' por 'x'\n",
    "\n",
    "..."
   ]
  },
  {
   "cell_type": "code",
   "execution_count": 4,
   "metadata": {
    "ExecuteTime": {
     "end_time": "2021-07-14T13:24:19.603984Z",
     "start_time": "2021-07-14T13:24:17.686352Z"
    }
   },
   "outputs": [
    {
     "name": "stdout",
     "output_type": "stream",
     "text": [
      "Insira a mensagem: Não devo caçar os manés\n"
     ]
    },
    {
     "data": {
      "text/plain": [
       "'Mzl wvel xzxzi lh nzmvh'"
      ]
     },
     "execution_count": 4,
     "metadata": {},
     "output_type": "execute_result"
    }
   ],
   "source": [
    "import unicodedata\n",
    "\n",
    "upper = ['A', 'B', 'C', 'D', 'E', 'F', 'G', 'H', 'I', 'J', 'K', 'L', 'M', 'N', 'O', 'P', 'Q', 'R', 'S', 'T', 'U', 'V', 'W', 'X', 'Y', 'Z']\n",
    "low = ['a', 'b', 'c', 'd', 'e', 'f', 'g', 'h', 'i', 'j', 'k', 'l', 'm', 'n', 'o', 'p', 'q', 'r', 's', 't', 'u', 'v', 'w', 'x', 'y', 'z']\n",
    "\n",
    "mensagem = input('Insira a mensagem: ')\n",
    "\n",
    "mensagem = unicodedata.normalize(\"NFD\", mensagem).encode(\"ascii\", \"ignore\").decode(\"utf-8\")\n",
    "\n",
    "cripto = []\n",
    "\n",
    "for letra in mensagem:\n",
    "    if letra.isalpha():\n",
    "        for i in range(len(upper)):\n",
    "            if letra == upper[i]:\n",
    "                j = i*(-1) - 1\n",
    "                cripto.append(upper[j])\n",
    "        for i in range(len(low)):\n",
    "            if letra == low[i]:\n",
    "                j = i*(-1) - 1\n",
    "                cripto.append(low[j])\n",
    "    else:\n",
    "        cripto.append(letra)\n",
    "\n",
    "cripto = ''.join(cripto) \n",
    "\n",
    "cripto\n"
   ]
  },
  {
   "cell_type": "code",
   "execution_count": null,
   "metadata": {},
   "outputs": [],
   "source": []
  }
 ],
 "metadata": {
  "kernelspec": {
   "display_name": "Python 3",
   "language": "python",
   "name": "python3"
  },
  "language_info": {
   "codemirror_mode": {
    "name": "ipython",
    "version": 3
   },
   "file_extension": ".py",
   "mimetype": "text/x-python",
   "name": "python",
   "nbconvert_exporter": "python",
   "pygments_lexer": "ipython3",
   "version": "3.8.8"
  },
  "toc": {
   "base_numbering": 1,
   "nav_menu": {},
   "number_sections": true,
   "sideBar": true,
   "skip_h1_title": false,
   "title_cell": "Table of Contents",
   "title_sidebar": "Contents",
   "toc_cell": false,
   "toc_position": {},
   "toc_section_display": true,
   "toc_window_display": false
  }
 },
 "nbformat": 4,
 "nbformat_minor": 2
}
