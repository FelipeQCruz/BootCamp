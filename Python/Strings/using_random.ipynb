{
 "cells": [
  {
   "cell_type": "markdown",
   "id": "272afb13",
   "metadata": {},
   "source": [
    "Como sortear números aleatórios?"
   ]
  },
  {
   "cell_type": "code",
   "execution_count": 32,
   "id": "42d1cdad",
   "metadata": {
    "ExecuteTime": {
     "end_time": "2021-07-12T21:12:40.801549Z",
     "start_time": "2021-07-12T21:12:40.785033Z"
    }
   },
   "outputs": [
    {
     "data": {
      "text/plain": [
       "92"
      ]
     },
     "execution_count": 32,
     "metadata": {},
     "output_type": "execute_result"
    }
   ],
   "source": [
    "import random\n",
    "\n",
    "random.randint(0, 100)"
   ]
  },
  {
   "cell_type": "code",
   "execution_count": 37,
   "id": "a9599d4d",
   "metadata": {
    "ExecuteTime": {
     "end_time": "2021-07-12T21:13:38.347573Z",
     "start_time": "2021-07-12T21:13:38.336380Z"
    }
   },
   "outputs": [
    {
     "name": "stdout",
     "output_type": "stream",
     "text": [
      "14\n",
      "93\n",
      "23\n",
      "67\n",
      "23\n",
      "90\n",
      "81\n",
      "28\n",
      "29\n",
      "9\n"
     ]
    }
   ],
   "source": [
    "# sorteando 10 números aleatórios entre 0 e 100.\n",
    "for i in range(10):\n",
    "    numero_aleatorio = random.randint(0, 100)\n",
    "    print(numero_aleatorio)"
   ]
  },
  {
   "cell_type": "code",
   "execution_count": null,
   "id": "87e2b7e3",
   "metadata": {},
   "outputs": [],
   "source": []
  }
 ],
 "metadata": {
  "kernelspec": {
   "display_name": "Python 3",
   "language": "python",
   "name": "python3"
  },
  "language_info": {
   "codemirror_mode": {
    "name": "ipython",
    "version": 3
   },
   "file_extension": ".py",
   "mimetype": "text/x-python",
   "name": "python",
   "nbconvert_exporter": "python",
   "pygments_lexer": "ipython3",
   "version": "3.8.8"
  },
  "toc": {
   "base_numbering": 1,
   "nav_menu": {},
   "number_sections": true,
   "sideBar": true,
   "skip_h1_title": false,
   "title_cell": "Table of Contents",
   "title_sidebar": "Contents",
   "toc_cell": false,
   "toc_position": {},
   "toc_section_display": true,
   "toc_window_display": false
  }
 },
 "nbformat": 4,
 "nbformat_minor": 5
}
