{
 "cells": [
  {
   "cell_type": "markdown",
   "id": "2b281c6d",
   "metadata": {
    "heading_collapsed": true
   },
   "source": [
    "# Aula 1 - Introdução ao Python e variáveis"
   ]
  },
  {
   "cell_type": "markdown",
   "id": "628b72d8",
   "metadata": {
    "hidden": true
   },
   "source": [
    "Na aula de hoje, vamos explorar os seguintes tópicos em Python:\n",
    "\n",
    "- 1) Introdução: Python;\n",
    "- 2) Variáveis.\n",
    "- 3) Tipos básicos de dados/variáveis;\n",
    "- 4) Comentários;\n",
    "- 5) Saída (output);\n",
    "- 6) Entrada (input);\n",
    "- 7) Operadores Matemáticos;"
   ]
  },
  {
   "cell_type": "markdown",
   "id": "87734bcc",
   "metadata": {
    "heading_collapsed": true
   },
   "source": [
    "# Habilidades a serem desenvolvidas"
   ]
  },
  {
   "cell_type": "markdown",
   "id": "b1224267",
   "metadata": {
    "hidden": true
   },
   "source": [
    "Ao final da aula, o aluno dever saber:\n",
    "\n",
    "\n",
    "- Primeiro programa em Python;\n",
    "    - No Jupyter, mostrar como as células de código são executadas;\n",
    "- Variáveis: conceito, criação e boas práticas;\n",
    "- Saber dos diferentes tipos de dados básicos em Python, e em que situação utilizar cada um;\n",
    "- Saber definir comentários em meio ao código;\n",
    "- Saber fazer a saída de dados através do print;\n",
    "- Saber fazer a entrada de dados através do input:\n",
    "    - Saber converter entre diferentes tipos de dados;\n",
    "    - Fazer as conversões necessárias na entrada de dados.\n",
    "- Conhecer as operações matemáticas e seus símbolos em Python."
   ]
  },
  {
   "cell_type": "markdown",
   "id": "acce995a",
   "metadata": {
    "heading_collapsed": true
   },
   "source": [
    "# Introdução: Python"
   ]
  },
  {
   "cell_type": "markdown",
   "id": "87434691",
   "metadata": {
    "hidden": true
   },
   "source": [
    "Tradicionalmente, o primeiro programa feito em uma nova linguagem de programação consiste em exibir a frase \"Olá, mundo!\" na tela.\n",
    "\n",
    "Vamos fazer isso em Python?\n",
    "\n",
    "Para isso, basta utilizar a função `print()`, e indicar o texto a ser exibido entre aspas: \"Olá, mundo!\""
   ]
  },
  {
   "cell_type": "code",
   "execution_count": 1,
   "id": "550d9870",
   "metadata": {
    "hidden": true
   },
   "outputs": [
    {
     "name": "stdout",
     "output_type": "stream",
     "text": [
      "Olá, mundo!\n"
     ]
    }
   ],
   "source": [
    "print(\"Olá, mundo!\")"
   ]
  },
  {
   "cell_type": "markdown",
   "id": "4fb2ada3",
   "metadata": {
    "hidden": true
   },
   "source": [
    "Parabéns! Seu primeiro programa em Python foi executado com sucesso!"
   ]
  },
  {
   "cell_type": "markdown",
   "id": "69cf07f7",
   "metadata": {
    "heading_collapsed": true
   },
   "source": [
    "# Variáveis"
   ]
  },
  {
   "cell_type": "markdown",
   "id": "a8e337d1",
   "metadata": {
    "hidden": true
   },
   "source": [
    "Seria legal se pudéssemos **guardar** o valor das operações matemáticas que fizemos acima, não é mesmo?\n",
    "\n",
    "Isso é possível com o uso das **variáveis**, que são um pedacinho da memória onde armazenamos as operações do Python\n",
    "\n",
    "\n",
    "Uma variável pode legar qualquer nome, mas existem algumas regras:\n",
    "\n",
    "- O Python **diferencia** maiúscula de minúscula (ex: \"variavel\" é diferente de \"Variavel\", \"VaRiAvEl\" ou \"VARIAVEL\")\n",
    "    - Dica: melhor usar letras minúsculas pra nomes de variáveis\n",
    "- O nome das variáveis **não** pode ter espaço! Use um underline ao invés de espaço: \"minha_variavel\" ao invés de \"minha variavel\"\n",
    "- É melhor que o nome da variável **não** tenha acento (ex: não usar o nome \"variável\")\n",
    "- Existem algumas palavras reservadas do Python, que **não** podem ser usadas como nome de variável, ex: and, or, if, else, lambda, etc.\n",
    "- Também **não** use nome de funções para variáveis (ex: print)\n",
    "- Dica geral: o nome de variavel fica preto em python!\n",
    "    - Se o nome que você for dar ficar colorido, melhor escolher outro nome!"
   ]
  },
  {
   "cell_type": "markdown",
   "id": "232e15f4",
   "metadata": {
    "hidden": true
   },
   "source": [
    "## Criando três variaveis\n",
    "\n",
    "Agora, vamos criar três variáveis para armazenar os calores dos cálculos matemáticos\n",
    "\n",
    "__IMPORTANTE (dica): O sinal \"=\" é lido como \"recebe\", pois o que estamos fazendo é guardando o valor da operação matemática no pedacinho de memória com o nome da variável, então o pedacinho de memória recebe o valor indicado depois do sinal de \"=\"__\n",
    "\n",
    "Ou seja, lemos o código a seguir como:\n",
    "\n",
    "- A variável que demos o nome de \"meu_numero\", **recebe** o valor da operação \"2+3\" (que é 5);\n",
    "- A variável que demos o nome de \"variavel\", **recebe** o valor da operação \"1+1\" (que é 2);\n",
    "- A variável que demos o nome de \"x\", **recebe** o valor da operação \"2*3\" (que é 6);\n",
    "\n",
    "O código a seguir apenas cria as variáveis: note que não há nenhum output!"
   ]
  },
  {
   "cell_type": "code",
   "execution_count": 5,
   "id": "9e1d4d7f",
   "metadata": {
    "hidden": true
   },
   "outputs": [],
   "source": [
    "meu_numero = 3+2\n",
    "variavel = 1+1\n",
    "x = 3*2"
   ]
  },
  {
   "cell_type": "markdown",
   "id": "b46b8416",
   "metadata": {
    "hidden": true
   },
   "source": [
    "Para examinarmos o valor armazenado nas variáveis, podemos, individualmente, \"chamar\" a variável na célula:"
   ]
  },
  {
   "cell_type": "code",
   "execution_count": 6,
   "id": "2a62d201",
   "metadata": {
    "hidden": true
   },
   "outputs": [
    {
     "data": {
      "text/plain": [
       "6"
      ]
     },
     "execution_count": 6,
     "metadata": {},
     "output_type": "execute_result"
    }
   ],
   "source": [
    "x"
   ]
  },
  {
   "cell_type": "code",
   "execution_count": 7,
   "id": "c0b9217f",
   "metadata": {
    "hidden": true
   },
   "outputs": [
    {
     "data": {
      "text/plain": [
       "2"
      ]
     },
     "execution_count": 7,
     "metadata": {},
     "output_type": "execute_result"
    }
   ],
   "source": [
    "variavel"
   ]
  },
  {
   "cell_type": "code",
   "execution_count": 8,
   "id": "08029f79",
   "metadata": {
    "hidden": true
   },
   "outputs": [
    {
     "data": {
      "text/plain": [
       "5"
      ]
     },
     "execution_count": 8,
     "metadata": {},
     "output_type": "execute_result"
    }
   ],
   "source": [
    "meu_numero"
   ]
  },
  {
   "cell_type": "markdown",
   "id": "1233af25",
   "metadata": {
    "hidden": true
   },
   "source": [
    "Se quisermos exibir o valor das 3 variáveis em seguida, podemos usar o print\n",
    "\n",
    "Note que de fato são exibidos os **valores armazenados nas variáveis!!**"
   ]
  },
  {
   "cell_type": "code",
   "execution_count": 9,
   "id": "a9913489",
   "metadata": {
    "hidden": true
   },
   "outputs": [
    {
     "name": "stdout",
     "output_type": "stream",
     "text": [
      "5\n",
      "2\n",
      "6\n"
     ]
    }
   ],
   "source": [
    "print(meu_numero)\n",
    "print(variavel)\n",
    "print(x)"
   ]
  },
  {
   "cell_type": "markdown",
   "id": "fabbc72e",
   "metadata": {
    "hidden": true
   },
   "source": [
    "Como o próprio nome diz, variáveis podem variar, ou seja, eu posso mudar o valor que tá armazenado na variável.\n",
    "\n",
    "Se, por exemplo, eu quiser que a variável \"x\" passe a receber o valor \"42\", eu faço simplesmente o código a seguir, que é lido como \"a variável x recebe o valor 42\"."
   ]
  },
  {
   "cell_type": "code",
   "execution_count": 10,
   "id": "f2afe8b8",
   "metadata": {
    "hidden": true
   },
   "outputs": [],
   "source": [
    "x = 42"
   ]
  },
  {
   "cell_type": "markdown",
   "id": "1abe64da",
   "metadata": {
    "hidden": true
   },
   "source": [
    "Após fazer isso, o valor anterior (6), é completamente esquecido, e a variável x agora tem apenas o valor 42.\n",
    "\n",
    "Chamando a variável:"
   ]
  },
  {
   "cell_type": "code",
   "execution_count": 11,
   "id": "1767cc91",
   "metadata": {
    "hidden": true
   },
   "outputs": [
    {
     "data": {
      "text/plain": [
       "42"
      ]
     },
     "execution_count": 11,
     "metadata": {},
     "output_type": "execute_result"
    }
   ],
   "source": [
    "x"
   ]
  },
  {
   "cell_type": "markdown",
   "id": "8c923b82",
   "metadata": {
    "heading_collapsed": true,
    "hidden": true
   },
   "source": [
    "## Tipos de dados/variáveis"
   ]
  },
  {
   "cell_type": "markdown",
   "id": "499471f7",
   "metadata": {
    "hidden": true
   },
   "source": [
    "Em python, temos 4 **tipos** principais de dados básicos\n",
    "\n",
    "### Tipo **inteiros** (int): são números inteiros, isto é, sem casas decimais.\n",
    "\n",
    "- Ex:\n",
    "    - 1 \n",
    "    - 456\n",
    "    - 124023\n",
    "    - 0\n",
    "    - -2 (números to tipo int podem ser negativos!)\n",
    "\n",
    "No Jupyter, números inteiros são destacados em cor verde clara"
   ]
  },
  {
   "cell_type": "markdown",
   "id": "0dceab9f",
   "metadata": {
    "hidden": true
   },
   "source": [
    "Exemplo: a idade de uma pessoa em anos, número de filhos de uma pessoa, etc."
   ]
  },
  {
   "cell_type": "code",
   "execution_count": 1,
   "id": "217a535a",
   "metadata": {
    "hidden": true
   },
   "outputs": [],
   "source": [
    "numero_de_filhos = 3"
   ]
  },
  {
   "cell_type": "code",
   "execution_count": 2,
   "id": "c35b4d41",
   "metadata": {
    "hidden": true
   },
   "outputs": [
    {
     "data": {
      "text/plain": [
       "3"
      ]
     },
     "execution_count": 2,
     "metadata": {},
     "output_type": "execute_result"
    }
   ],
   "source": [
    "numero_de_filhos"
   ]
  },
  {
   "cell_type": "markdown",
   "id": "31c58656",
   "metadata": {
    "hidden": true
   },
   "source": [
    "### Tipo **float** (float): são números com casas decimais (**em python usamos ponto ao invés de vírgula para indicar cadas decimais!**)\n",
    "\n",
    "- Ex:\n",
    "    - 3.1415\n",
    "    - 1.78\n",
    "    - 10.0 (essa é a representação float de um número inteiro, 10) \n",
    "    - -42.73 (números do tipo float podem ser negativos!)\n",
    "\n",
    "No Jupyter, números float também são destacados em cor verde clara"
   ]
  },
  {
   "cell_type": "markdown",
   "id": "cae97b27",
   "metadata": {
    "hidden": true
   },
   "source": [
    "Exemplo: a altura de uma pessoa em metros"
   ]
  },
  {
   "cell_type": "code",
   "execution_count": 3,
   "id": "50fe6227",
   "metadata": {
    "hidden": true
   },
   "outputs": [
    {
     "data": {
      "text/plain": [
       "1.78"
      ]
     },
     "execution_count": 3,
     "metadata": {},
     "output_type": "execute_result"
    }
   ],
   "source": [
    "altura = 1.78\n",
    "\n",
    "altura"
   ]
  },
  {
   "cell_type": "markdown",
   "id": "1d69465e",
   "metadata": {
    "hidden": true
   },
   "source": [
    "### Tipo **string** (str): são textos, que devem ser indicados entre aspas duplas \" \" ou aspas simples ' ' \n",
    "\n",
    "- Ex:\n",
    "    - \"Olá, mundo!\" (para strings, podemos usar pontuação e acentuação sem problemas!)\n",
    "    - \"Nos encontramos às 9h30 amanhã?\" (strings podem conter numeros!)\n",
    "    - \"100\" (neste caso, é uma string que representa um numero inteiro)\n",
    "    - \"3.1415\" (neste caso, é uma string que representa um numero float)\n",
    "\n",
    "No Jupyter, strings são destacadas em cor vermelha"
   ]
  },
  {
   "cell_type": "markdown",
   "id": "42a4e1fd",
   "metadata": {
    "hidden": true
   },
   "source": [
    "Exemplo: uma frase de despedida e um encontro marcado"
   ]
  },
  {
   "cell_type": "code",
   "execution_count": 4,
   "id": "e6a374b2",
   "metadata": {
    "hidden": true
   },
   "outputs": [
    {
     "data": {
      "text/plain": [
       "'André'"
      ]
     },
     "execution_count": 4,
     "metadata": {},
     "output_type": "execute_result"
    }
   ],
   "source": [
    "nome = \"André\"\n",
    "\n",
    "nome"
   ]
  },
  {
   "cell_type": "markdown",
   "id": "6e06e860",
   "metadata": {
    "hidden": true
   },
   "source": [
    "### Tipo **booleanos** (bool): Verdadeiro (True) ou Falso (False)\n",
    "\n",
    "- Únicos dois valores possíveis: **True** ou **False**\n",
    "\n",
    "Vamos entender a enorme importância deste tipo de dado mais a frente no curso (operações lógicas, estruturas condicionais, etc.)\n",
    "\n",
    "No Jupyter, bools são destacados em cor verde escuro"
   ]
  },
  {
   "cell_type": "code",
   "execution_count": 5,
   "id": "0d5493c9",
   "metadata": {
    "hidden": true
   },
   "outputs": [
    {
     "data": {
      "text/plain": [
       "False"
      ]
     },
     "execution_count": 5,
     "metadata": {},
     "output_type": "execute_result"
    }
   ],
   "source": [
    "True\n",
    "\n",
    "False"
   ]
  },
  {
   "cell_type": "code",
   "execution_count": null,
   "id": "4133daee",
   "metadata": {
    "hidden": true
   },
   "outputs": [],
   "source": []
  },
  {
   "cell_type": "markdown",
   "id": "56cb9bc2",
   "metadata": {
    "heading_collapsed": true
   },
   "source": [
    "# Comentários"
   ]
  },
  {
   "cell_type": "markdown",
   "id": "dece415b",
   "metadata": {
    "hidden": true
   },
   "source": [
    "\n",
    "São utilizados para melhor explicar um trecho de código.\n",
    "\n",
    "Os comentários não são executados pelo Python. \n",
    "\n",
    "Tudo o que está comentado é ignorado, serve apenas para guiar o usuário.\n",
    "\n",
    "É indicado com o uso da #, e em cor azul marinho no Jupyter\n",
    "\n",
    "- Atalho: CTRL + / : A LINHA VIRA UM COMENTÁRIO"
   ]
  },
  {
   "cell_type": "code",
   "execution_count": 6,
   "id": "b4ebb1ae",
   "metadata": {
    "hidden": true
   },
   "outputs": [],
   "source": [
    "# definindo uma variavel que aramzena altura\n",
    "\n",
    "altura = 1.80  \n",
    "\n",
    "# print(altura)"
   ]
  },
  {
   "cell_type": "markdown",
   "id": "7d1709d4",
   "metadata": {
    "hidden": true
   },
   "source": [
    "Embora você possa fazer comentários de várias linhas apenas colocando o # na frente de cada linha:"
   ]
  },
  {
   "cell_type": "code",
   "execution_count": 7,
   "id": "934ccd2c",
   "metadata": {
    "hidden": true
   },
   "outputs": [],
   "source": [
    "# esse é um comentário muito grande, e por isso pode ser interessante\n",
    "# quebrar ele em várias linhas, para ficar mais fácil de ler\n",
    "# um comentário grande e complexo como esse no meio do código"
   ]
  },
  {
   "cell_type": "markdown",
   "id": "a6068518",
   "metadata": {
    "hidden": true
   },
   "source": [
    "Também é possível fazer comentários de várias linhas utilizando três aspas:"
   ]
  },
  {
   "cell_type": "code",
   "execution_count": 8,
   "id": "a7d673ca",
   "metadata": {
    "hidden": true
   },
   "outputs": [
    {
     "data": {
      "text/plain": [
       "'\\nesse é um comentário muito grande, e por isso pode ser interessante\\nquebrar ele em várias linhas, para ficar mais fácil de ler\\num comentário grande e complexo como esse no meio do código\\n\\n'"
      ]
     },
     "execution_count": 8,
     "metadata": {},
     "output_type": "execute_result"
    }
   ],
   "source": [
    "\"\"\"\n",
    "esse é um comentário muito grande, e por isso pode ser interessante\n",
    "quebrar ele em várias linhas, para ficar mais fácil de ler\n",
    "um comentário grande e complexo como esse no meio do código\n",
    "\n",
    "\"\"\""
   ]
  },
  {
   "cell_type": "markdown",
   "id": "99ac8a8f",
   "metadata": {
    "hidden": true
   },
   "source": [
    "Note que estes \"comentários\" feitos com 3 aspas na verdade são strings de muitas linhas: mas o Python irá ignorá-las caso elas não sejá atribuídas a uma variável, funcionando, assim, como comentário.\n",
    "\n",
    "De qualquer forma, o modo acima, com um # em casa linha é preferível!"
   ]
  },
  {
   "cell_type": "markdown",
   "id": "861551bd",
   "metadata": {
    "heading_collapsed": true
   },
   "source": [
    "# Saída (output)"
   ]
  },
  {
   "cell_type": "markdown",
   "id": "028d2d47",
   "metadata": {
    "hidden": true
   },
   "source": [
    "É como o computador **apresenta dados de saída** para um usuário.\n",
    "\n",
    "Utilizamos a função print() para exibir o conteúdo na tela"
   ]
  },
  {
   "cell_type": "code",
   "execution_count": 9,
   "id": "9fa347a0",
   "metadata": {
    "hidden": true
   },
   "outputs": [
    {
     "name": "stdout",
     "output_type": "stream",
     "text": [
      "André, tudo bem?\n"
     ]
    }
   ],
   "source": [
    "# definição de uma string\n",
    "nome = \"André, tudo bem?\"\n",
    "\n",
    "# função que exibe para o usuário o que foi pedido\n",
    "print(nome)"
   ]
  },
  {
   "cell_type": "markdown",
   "id": "56451492",
   "metadata": {
    "hidden": true
   },
   "source": [
    "Podemos imprimir diversas strings ou diversas variáveis em sequência, utilizando vírgula para separá-las dentro do print:"
   ]
  },
  {
   "cell_type": "code",
   "execution_count": 10,
   "id": "0f52240b",
   "metadata": {
    "hidden": true
   },
   "outputs": [
    {
     "name": "stdout",
     "output_type": "stream",
     "text": [
      "50 cinquenta\n"
     ]
    }
   ],
   "source": [
    "# definindo uma variavel do tipo inteiro\n",
    "numero = 50\n",
    "\n",
    "# definindo uma string\n",
    "nome_do_numero = \"cinquenta\"\n",
    "\n",
    "# exibindo as duas variáveis acima após uma outra string\n",
    "print(numero, nome_do_numero)"
   ]
  },
  {
   "cell_type": "code",
   "execution_count": 11,
   "id": "1f282895",
   "metadata": {
    "hidden": true
   },
   "outputs": [
    {
     "name": "stdout",
     "output_type": "stream",
     "text": [
      "50 cinquenta lablabala\n"
     ]
    }
   ],
   "source": [
    "print(50, \"cinquenta\", \"lablabala\")"
   ]
  },
  {
   "cell_type": "markdown",
   "id": "898a8991",
   "metadata": {
    "hidden": true
   },
   "source": [
    "Um caractere especial do print é o \"\\n\", que serve para fazer a quebra de linha:"
   ]
  },
  {
   "cell_type": "code",
   "execution_count": 12,
   "id": "35485a11",
   "metadata": {
    "hidden": true
   },
   "outputs": [
    {
     "name": "stdout",
     "output_type": "stream",
     "text": [
      "ola\n",
      "mundo\n"
     ]
    }
   ],
   "source": [
    "print(\"ola\\nmundo\")"
   ]
  },
  {
   "cell_type": "markdown",
   "id": "bb25c42c",
   "metadata": {
    "hidden": true
   },
   "source": [
    "Depois vamos falar melhor sobre operações matemáticas em Python, mas podemos exibir o resultado de algumas operações simples usando a funçao print()\n",
    "\n",
    "Note que as instruções são executadas __na ordem em que aparecem!__"
   ]
  },
  {
   "cell_type": "code",
   "execution_count": 2,
   "id": "49c7ba88",
   "metadata": {
    "hidden": true
   },
   "outputs": [
    {
     "name": "stdout",
     "output_type": "stream",
     "text": [
      "1\n",
      "350\n",
      "4\n"
     ]
    }
   ],
   "source": [
    "print(2-1)\n",
    "print(35*10)\n",
    "print(2+2)"
   ]
  },
  {
   "cell_type": "markdown",
   "id": "c6c185fd",
   "metadata": {
    "hidden": true
   },
   "source": [
    "O jupyter nos permite também examinar o valor de uma expressão sem a necessidade de usar o print()\n",
    "\n",
    "Mas note que logo abaixo do código, aparece um \"Out[]\", o que não acontece quando usamos a função print()\n",
    "\n",
    "Esse é um jeito de \"espiar\" o output das operações do Python de forma direta!"
   ]
  },
  {
   "cell_type": "code",
   "execution_count": 3,
   "id": "ccfc49d1",
   "metadata": {
    "hidden": true
   },
   "outputs": [
    {
     "data": {
      "text/plain": [
       "4"
      ]
     },
     "execution_count": 3,
     "metadata": {},
     "output_type": "execute_result"
    }
   ],
   "source": [
    "2+2"
   ]
  },
  {
   "cell_type": "markdown",
   "id": "047bb238",
   "metadata": {
    "hidden": true
   },
   "source": [
    "Outra coisa importante é que o Jupyter só permite examinar o valor da **última** expressão no código:"
   ]
  },
  {
   "cell_type": "code",
   "execution_count": 4,
   "id": "4da04ff2",
   "metadata": {
    "hidden": true
   },
   "outputs": [
    {
     "data": {
      "text/plain": [
       "4"
      ]
     },
     "execution_count": 4,
     "metadata": {},
     "output_type": "execute_result"
    }
   ],
   "source": [
    "2-1\n",
    "35*10\n",
    "2+2"
   ]
  },
  {
   "cell_type": "markdown",
   "id": "7ec6de22",
   "metadata": {
    "heading_collapsed": true
   },
   "source": [
    "# Entrada (input)"
   ]
  },
  {
   "cell_type": "markdown",
   "id": "a8052f1a",
   "metadata": {
    "hidden": true
   },
   "source": [
    "É como o computador **coleta dados de entrada** de um usuário através do teclado.\n",
    "\n",
    "Utilizamos a função input() para receber os dados do usuário, que deve digitá-los\n",
    "\n",
    "Opcionalmente, podemos colocar uma frase de instrução ao usuário na função input, dentro dos parênteses"
   ]
  },
  {
   "cell_type": "code",
   "execution_count": 13,
   "id": "6603d340",
   "metadata": {
    "hidden": true
   },
   "outputs": [
    {
     "name": "stdout",
     "output_type": "stream",
     "text": [
      "Qual é o seu nome? João\n",
      "\n",
      "Olá, João\n"
     ]
    }
   ],
   "source": [
    "# recebo os dados do usuário através da função input,\n",
    "# e armazeno o resultado na variável \"meu_nome\"\n",
    "\n",
    "nome = input(\"Qual é o seu nome? \")\n",
    "\n",
    "print(\"\\nOlá,\", nome)"
   ]
  },
  {
   "cell_type": "markdown",
   "id": "7ca5bf23",
   "metadata": {
    "hidden": true
   },
   "source": [
    "__IMPORTANTE: a função input() toma o que o usuário digitou como uma string! Se o usuário digitar algum número, e algum cálculo for feito com esse número, o número deve ser transformado em int ou float!__\n",
    "\n",
    "A melhor forma de fazer isso, é já transformar o resultado da função input em float.\n",
    "\n",
    "Fazemos isso com uma espécie de sanduíche, colocando a função input() dentro da função float(), que transforma uma string em um float!\n",
    "\n",
    "OBS: é melhor transformar o input em float ao invés de int, pois o float é um tipo numérico mais genérico, apesar de ocupar (um pouco) mais memória"
   ]
  },
  {
   "cell_type": "code",
   "execution_count": 14,
   "id": "431663ab",
   "metadata": {
    "hidden": true
   },
   "outputs": [
    {
     "name": "stdout",
     "output_type": "stream",
     "text": [
      "Qual é sua altura? 1.85\n"
     ]
    },
    {
     "data": {
      "text/plain": [
       "1.85"
      ]
     },
     "execution_count": 14,
     "metadata": {},
     "output_type": "execute_result"
    }
   ],
   "source": [
    "altura = float(input(\"Qual é sua altura? \"))\n",
    "\n",
    "altura"
   ]
  },
  {
   "cell_type": "code",
   "execution_count": 15,
   "id": "9e359146",
   "metadata": {
    "hidden": true
   },
   "outputs": [
    {
     "name": "stdout",
     "output_type": "stream",
     "text": [
      "Me fala o primeiro numero 4\n",
      "Me fala o segundo numero 2.75\n",
      "\n",
      "A soma dos números 4.0 + 2.75 é: 6.8\n"
     ]
    }
   ],
   "source": [
    "# pede dois números ao usuário, e já os transforma em float\n",
    "num1 = float(input(\"Me fala o primeiro numero \"))\n",
    "\n",
    "num2 = float(input(\"Me fala o segundo numero \"))\n",
    "\n",
    "# calcula a soma dos dois números\n",
    "soma = num1 + num2\n",
    "\n",
    "print(\"\\nA soma dos números\", num1, \"+\" , num2, \"é:\", round(soma, 1))"
   ]
  },
  {
   "cell_type": "code",
   "execution_count": 16,
   "id": "6d98b425",
   "metadata": {
    "hidden": true
   },
   "outputs": [
    {
     "data": {
      "text/plain": [
       "6.75"
      ]
     },
     "execution_count": 16,
     "metadata": {},
     "output_type": "execute_result"
    }
   ],
   "source": [
    "num1 + num2"
   ]
  },
  {
   "cell_type": "markdown",
   "id": "fab9953f",
   "metadata": {
    "heading_collapsed": true
   },
   "source": [
    "# Operadores Matemáticos"
   ]
  },
  {
   "cell_type": "markdown",
   "id": "04973a85",
   "metadata": {
    "hidden": true
   },
   "source": [
    "Em Python, temos as principais operações matemáticas, com os respectivos símbolos:\n",
    "\n",
    "- soma: (+)\n",
    "\n",
    "- subtração: (-)\n",
    "\n",
    "- multiplicação: (*)\n",
    "\n",
    "- divisão: (/)\n",
    "\n",
    "- potência: (**)\n",
    "\n",
    "Além disso, temos duas operações especiais:\n",
    "\n",
    "- divisão inteira: (//) retorna a parte inteira da divisão entre dois números\n",
    "\n",
    "- resto da divisão: (%) se lê \"mod\", e retorna o resto da divisão entre dois números"
   ]
  },
  {
   "cell_type": "code",
   "execution_count": 17,
   "id": "432b2f57",
   "metadata": {
    "hidden": true
   },
   "outputs": [],
   "source": [
    "# faça alguns exemplos simples com os alunos sobre cada uma das operações acima\n"
   ]
  },
  {
   "cell_type": "code",
   "execution_count": 18,
   "id": "6b86c77f",
   "metadata": {
    "hidden": true
   },
   "outputs": [
    {
     "name": "stdout",
     "output_type": "stream",
     "text": [
      "raio: 2\n",
      "12.56\n"
     ]
    }
   ],
   "source": [
    "raio = float(input(\"raio: \"))\n",
    "\n",
    "area = 3.14 * (raio ** 2)\n",
    "\n",
    "print(area)"
   ]
  },
  {
   "cell_type": "markdown",
   "id": "76fc2834",
   "metadata": {
    "hidden": true
   },
   "source": [
    "OBS: o principal uso do operador resto da divisão (%) é para avaliar se um número é par ou impar:\n",
    "\n",
    "- se o resto da divisão de um número por 2 **É ZERO**, ele é par;\n",
    "- se o resto da divisão de um número por 2 **É UM**, ele é ímpar;\n"
   ]
  },
  {
   "cell_type": "markdown",
   "id": "d58d503e",
   "metadata": {
    "heading_collapsed": true
   },
   "source": [
    "# Exercícios"
   ]
  },
  {
   "cell_type": "markdown",
   "id": "8967d0cd",
   "metadata": {
    "hidden": true
   },
   "source": [
    "## Faça um programa que receba um valor monetário e eleve esse valor em 15%. "
   ]
  },
  {
   "cell_type": "code",
   "execution_count": null,
   "id": "33d6211e",
   "metadata": {
    "hidden": true
   },
   "outputs": [],
   "source": []
  },
  {
   "cell_type": "markdown",
   "id": "432e39a6",
   "metadata": {
    "hidden": true
   },
   "source": [
    "## Faça um programa que receba um valor monetário e diminua esse valor em 15%. "
   ]
  },
  {
   "cell_type": "code",
   "execution_count": null,
   "id": "9dbe470b",
   "metadata": {
    "hidden": true
   },
   "outputs": [],
   "source": []
  }
 ],
 "metadata": {
  "kernelspec": {
   "display_name": "Python 3",
   "language": "python",
   "name": "python3"
  },
  "language_info": {
   "codemirror_mode": {
    "name": "ipython",
    "version": 3
   },
   "file_extension": ".py",
   "mimetype": "text/x-python",
   "name": "python",
   "nbconvert_exporter": "python",
   "pygments_lexer": "ipython3",
   "version": "3.8.8"
  },
  "toc": {
   "base_numbering": 1,
   "nav_menu": {},
   "number_sections": true,
   "sideBar": true,
   "skip_h1_title": false,
   "title_cell": "Table of Contents",
   "title_sidebar": "Contents",
   "toc_cell": false,
   "toc_position": {},
   "toc_section_display": true,
   "toc_window_display": true
  },
  "varInspector": {
   "cols": {
    "lenName": 16,
    "lenType": 16,
    "lenVar": 40
   },
   "kernels_config": {
    "python": {
     "delete_cmd_postfix": "",
     "delete_cmd_prefix": "del ",
     "library": "var_list.py",
     "varRefreshCmd": "print(var_dic_list())"
    },
    "r": {
     "delete_cmd_postfix": ") ",
     "delete_cmd_prefix": "rm(",
     "library": "var_list.r",
     "varRefreshCmd": "cat(var_dic_list()) "
    }
   },
   "types_to_exclude": [
    "module",
    "function",
    "builtin_function_or_method",
    "instance",
    "_Feature"
   ],
   "window_display": false
  }
 },
 "nbformat": 4,
 "nbformat_minor": 5
}
