{
 "cells": [
  {
   "cell_type": "markdown",
   "metadata": {
    "ExecuteTime": {
     "end_time": "2021-07-06T21:23:52.990346Z",
     "start_time": "2021-07-06T21:23:50.279434Z"
    }
   },
   "source": [
    "Enunciado\n",
    "Faça um programa que peça 2 números inteiros e um número real, calcule e mostre:\n",
    "\n",
    "a) o produto do dobro do primeiro com metade do segundo.\n",
    "\n",
    "b) a soma do triplo do primeiro com o terceiro.\n",
    "\n",
    "c) o terceiro elevado ao cubo."
   ]
  },
  {
   "cell_type": "code",
   "execution_count": 1,
   "metadata": {
    "ExecuteTime": {
     "end_time": "2021-07-07T19:07:41.021065Z",
     "start_time": "2021-07-07T19:07:34.391641Z"
    }
   },
   "outputs": [
    {
     "name": "stdout",
     "output_type": "stream",
     "text": [
      "Insira um número inteiro: 10\n",
      "Insira mais um número inteiro: 20\n",
      "Insira um número real: 2.5\n",
      "a)  200.0 \n",
      "b)  32.5 \n",
      "c)  15.625\n"
     ]
    }
   ],
   "source": [
    "primeiro = int(input(\"Insira um número inteiro: \"))\n",
    "segundo = int(input(\"Insira mais um número inteiro: \"))\n",
    "terceiro = float(input(\"Insira um número real: \"))\n",
    "a = (2*primeiro)*(segundo/2)\n",
    "# considerando 'a' como sendo o terceiro número\n",
    "b = 3*primeiro + terceiro\n",
    "c = terceiro**3\n",
    "print(\"a) \", a, \"\\nb) \", b, \"\\nc) \", c)"
   ]
  },
  {
   "cell_type": "markdown",
   "metadata": {},
   "source": [
    "Faça um programa que peça o peso e altura de uma pessoa e calcule seu IMC (Índice de Massa Corporal).\n",
    "\n",
    "Obs: IMC = Peso/Altura**2"
   ]
  },
  {
   "cell_type": "code",
   "execution_count": 12,
   "metadata": {
    "ExecuteTime": {
     "end_time": "2021-07-06T21:36:06.932325Z",
     "start_time": "2021-07-06T21:35:59.989763Z"
    }
   },
   "outputs": [
    {
     "name": "stdout",
     "output_type": "stream",
     "text": [
      "Informe seu peso: 90\n",
      "Informe sua altura, em centímetros: 1.83\n",
      "IMC:  26.874496103198062\n"
     ]
    }
   ],
   "source": [
    "peso = float(input(\"Informe seu peso: \"))\n",
    "altura = float(input(\"Informe sua altura, em metros: \"))\n",
    "IMC = peso/(altura**2)\n",
    "print(\"IMC: \", IMC)"
   ]
  },
  {
   "cell_type": "markdown",
   "metadata": {},
   "source": [
    "Desafio 1 - Peça para o usuário digitar uma velocidade inicial (em m/s), uma posição inicial (em m) e um instante de tempo (em s) e imprima a posição de um projétil nesse instante de tempo.\n",
    "\n",
    "Use a fórmula matemática:\n",
    "\n",
    "y(t) = y(0) + v(0)*t + (g*(t**2)/2)\n",
    "\n",
    "Onde, g é a aceleração da gravidade (-10m/s²), y(t) é a posição final, y(0) é a posição inicial, v(0) é a velocidade inicial e t é o instante de tempo."
   ]
  },
  {
   "cell_type": "code",
   "execution_count": 16,
   "metadata": {
    "ExecuteTime": {
     "end_time": "2021-07-06T21:47:03.875857Z",
     "start_time": "2021-07-06T21:46:43.812190Z"
    }
   },
   "outputs": [
    {
     "name": "stdout",
     "output_type": "stream",
     "text": [
      "Digite uma velocidade inicial (em m/s): 100\n",
      "Digite uma posição inicial (em metros): 5\n",
      "Informe um instante de tempo (em segundos): 4\n",
      "Posição do projétil no instante informado:  325.0 metros\n"
     ]
    }
   ],
   "source": [
    "v = float(input(\"Digite uma velocidade inicial (em m/s): \"))\n",
    "posInit = float(input(\"Digite uma posição inicial (em metros): \"))\n",
    "t = float(input(\"Informe um instante de tempo (em segundos): \"))\n",
    "g = -10\n",
    "pos = posInit + v*t + (g*(t**2))/2\n",
    "print(\"Posição do projétil no instante informado:\", pos, \"metros\")"
   ]
  },
  {
   "cell_type": "markdown",
   "metadata": {},
   "source": [
    "Desafio 2 - Faça um programa que informe a data e a hora para o usuário. Para isso use a função datetime.now() do módulo datetime."
   ]
  },
  {
   "cell_type": "code",
   "execution_count": 1,
   "metadata": {
    "ExecuteTime": {
     "end_time": "2021-07-07T19:30:23.974977Z",
     "start_time": "2021-07-07T19:30:23.953037Z"
    }
   },
   "outputs": [
    {
     "name": "stdout",
     "output_type": "stream",
     "text": [
      "Data: 7/7/2021 \n",
      "Hora: 16:30:23\n"
     ]
    }
   ],
   "source": [
    "import datetime\n",
    "#agora = datetime.datetime.now().isoformat(timespec='minutes')   \n",
    "agora = datetime.datetime.now()  \n",
    "dia = agora.day\n",
    "mes = agora.month\n",
    "ano = agora.year\n",
    "hora = agora.hour\n",
    "minuto = agora.minute\n",
    "segundo = agora.second\n",
    "print(f'Data: {dia}/{mes}/{ano} \\nHora: {hora}:{minuto}:{segundo}')"
   ]
  },
  {
   "cell_type": "code",
   "execution_count": 2,
   "metadata": {
    "ExecuteTime": {
     "end_time": "2021-07-07T19:19:21.359565Z",
     "start_time": "2021-07-07T19:19:16.388328Z"
    }
   },
   "outputs": [
    {
     "name": "stdout",
     "output_type": "stream",
     "text": [
      "Insira o dia: 15\n",
      "Insira o mês: 15\n",
      "Insira o ano: 1994\n",
      "15 / 15 / 1994\n",
      "15/15/1994\n"
     ]
    }
   ],
   "source": [
    "dia= input(\"Insira o dia: \")\n",
    "mes = input(\"Insira o mês: \")\n",
    "ano = input(\"Insira o ano: \")\n",
    "print(f'{dia}/{mes}/{ano}')"
   ]
  }
 ],
 "metadata": {
  "kernelspec": {
   "display_name": "Python 3",
   "language": "python",
   "name": "python3"
  },
  "language_info": {
   "codemirror_mode": {
    "name": "ipython",
    "version": 3
   },
   "file_extension": ".py",
   "mimetype": "text/x-python",
   "name": "python",
   "nbconvert_exporter": "python",
   "pygments_lexer": "ipython3",
   "version": "3.7.0"
  },
  "toc": {
   "base_numbering": 1,
   "nav_menu": {},
   "number_sections": true,
   "sideBar": true,
   "skip_h1_title": false,
   "title_cell": "Table of Contents",
   "title_sidebar": "Contents",
   "toc_cell": false,
   "toc_position": {},
   "toc_section_display": true,
   "toc_window_display": false
  }
 },
 "nbformat": 4,
 "nbformat_minor": 2
}
