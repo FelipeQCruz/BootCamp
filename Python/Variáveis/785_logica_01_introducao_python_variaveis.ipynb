{
 "cells": [
  {
   "cell_type": "markdown",
   "id": "478a6614",
   "metadata": {},
   "source": [
    "# Revisão"
   ]
  },
  {
   "cell_type": "markdown",
   "id": "4ea3ed21",
   "metadata": {},
   "source": [
    "Como fechar um notebook?"
   ]
  },
  {
   "cell_type": "markdown",
   "id": "56fc8333",
   "metadata": {},
   "source": [
    "> Home page do jupyter -> Running -> Shutdown "
   ]
  },
  {
   "cell_type": "markdown",
   "id": "6a800d47",
   "metadata": {},
   "source": [
    "Instalar as extensões!"
   ]
  },
  {
   "cell_type": "markdown",
   "id": "be805874",
   "metadata": {},
   "source": [
    "> pip install jupyter_contrib_nbextensions\n",
    "\n",
    "> !jupyter contrib nbextensions install"
   ]
  },
  {
   "cell_type": "markdown",
   "id": "e8859e03",
   "metadata": {},
   "source": [
    "# Aula 1 - Introdução ao Python e variáveis"
   ]
  },
  {
   "cell_type": "markdown",
   "id": "b706a2a9",
   "metadata": {},
   "source": [
    "Na aula de hoje, vamos explorar os seguintes tópicos em Python:\n",
    "\n",
    "- 1) Introdução: Python;\n",
    "- 2) Variáveis.\n",
    "- 3) Tipos básicos de dados/variáveis;\n",
    "- 4) Comentários;\n",
    "- 5) Saída (output);\n",
    "- 6) Entrada (input);\n",
    "- 7) Operadores Matemáticos;"
   ]
  },
  {
   "cell_type": "markdown",
   "id": "652b1d6e",
   "metadata": {},
   "source": [
    "# Habilidades a serem desenvolvidas"
   ]
  },
  {
   "cell_type": "markdown",
   "id": "05dee72b",
   "metadata": {},
   "source": [
    "Ao final da aula, o aluno dever saber:\n",
    "\n",
    "\n",
    "- Primeiro programa em Python;\n",
    "    - No Jupyter, mostrar como as células de código são executadas;\n",
    "- Variáveis: conceito, criação e boas práticas;\n",
    "- Saber dos diferentes tipos de dados básicos em Python, e em que situação utilizar cada um;\n",
    "- Saber definir comentários em meio ao código;\n",
    "- Saber fazer a saída de dados através do print;\n",
    "- Saber fazer a entrada de dados através do input:\n",
    "    - Saber converter entre diferentes tipos de dados;\n",
    "    - Fazer as conversões necessárias na entrada de dados.\n",
    "- Conhecer as operações matemáticas e seus símbolos em Python."
   ]
  },
  {
   "cell_type": "markdown",
   "id": "3552b6a6",
   "metadata": {},
   "source": [
    "# Introdução: Python"
   ]
  },
  {
   "cell_type": "markdown",
   "id": "f5b338de",
   "metadata": {},
   "source": [
    "Tradicionalmente, o primeiro programa feito em uma nova linguagem de programação consiste em exibir a frase \"Olá, mundo!\" na tela.\n",
    "\n",
    "Vamos fazer isso em Python?\n",
    "\n",
    "Para isso, basta utilizar a função `print()`, e indicar o texto a ser exibido entre aspas: \"Olá, mundo!\""
   ]
  },
  {
   "cell_type": "code",
   "execution_count": 1,
   "id": "237f8008",
   "metadata": {
    "ExecuteTime": {
     "end_time": "2021-07-06T20:39:43.664133Z",
     "start_time": "2021-07-06T20:39:43.644187Z"
    }
   },
   "outputs": [
    {
     "name": "stdout",
     "output_type": "stream",
     "text": [
      "Olá, mundo!\n"
     ]
    }
   ],
   "source": [
    "print('Olá, mundo!')"
   ]
  },
  {
   "cell_type": "markdown",
   "id": "263252de",
   "metadata": {},
   "source": [
    "Parabéns! Seu primeiro programa em Python foi executado com sucesso!"
   ]
  },
  {
   "cell_type": "markdown",
   "id": "5a29ae9e",
   "metadata": {},
   "source": [
    "# Variáveis"
   ]
  },
  {
   "cell_type": "markdown",
   "id": "e183b952",
   "metadata": {},
   "source": [
    "Seria legal se pudéssemos **guardar** qualquer valor para utlizarmos no futuro, não é mesmo?\n",
    "\n",
    "Isso é possível com o uso das **variáveis**, que são um pedacinho da memória onde armazenamos as operações do Python.\n",
    "\n",
    "\n",
    "Uma variável pode legar qualquer nome, mas existem algumas regras:\n",
    "\n",
    "- O Python **diferencia** maiúscula de minúscula (ex: \"variavel\" é diferente de \"Variavel\", \"VaRiAvEl\" ou \"VARIAVEL\")\n",
    "    - Dica: melhor usar letras minúsculas pra nomes de variáveis\n",
    "- O nome das variáveis **não** pode ter espaço! Use um underline ao invés de espaço: \"minha_variavel\" ao invés de \"minha variavel\"\n",
    "- É melhor que o nome da variável **não** tenha acento (ex: não usar o nome \"variável\")\n",
    "- Existem algumas palavras reservadas do Python, que **não** podem ser usadas como nome de variável, ex: and, or, if, else, lambda, etc.\n",
    "- Também **não** use nome de funções para variáveis (ex: print)\n",
    "- Dica geral: o nome de variavel fica preto em python!\n",
    "    - Se o nome que você for dar ficar colorido, melhor escolher outro nome!"
   ]
  },
  {
   "cell_type": "markdown",
   "id": "13f046e5",
   "metadata": {
    "heading_collapsed": true
   },
   "source": [
    "## Criando três variaveis\n",
    "\n",
    "Agora, vamos criar três variáveis para armazenar os calores dos cálculos matemáticos\n",
    "\n",
    "__IMPORTANTE (dica): O sinal \"=\" é lido como \"recebe\", pois o que estamos fazendo é guardando o valor da operação matemática no pedacinho de memória com o nome da variável, então o pedacinho de memória recebe o valor indicado depois do sinal de \"=\"__\n",
    "\n",
    "Ou seja, lemos o código a seguir como:\n",
    "\n",
    "- A variável que demos o nome de \"meu_numero\", **recebe** o valor da operação \"2+3\" (que é 5);\n",
    "- A variável que demos o nome de \"variavel\", **recebe** o valor da operação \"1+1\" (que é 2);\n",
    "- A variável que demos o nome de \"x\", **recebe** o valor da operação \"2*3\" (que é 6);\n",
    "\n",
    "O código a seguir apenas cria as variáveis: note que não há nenhum output!"
   ]
  },
  {
   "cell_type": "code",
   "execution_count": 2,
   "id": "321ca826",
   "metadata": {
    "ExecuteTime": {
     "end_time": "2021-07-06T20:39:43.850633Z",
     "start_time": "2021-07-06T20:39:43.666128Z"
    },
    "hidden": true
   },
   "outputs": [],
   "source": [
    "meu_numero = 2 + 3\n",
    "variavel = 1 + 1\n",
    "x = 2*3"
   ]
  },
  {
   "cell_type": "markdown",
   "id": "82aa39d7",
   "metadata": {
    "hidden": true
   },
   "source": [
    "Para examinarmos o valor armazenado nas variáveis, podemos, individualmente, \"chamar\" a variável na célula:"
   ]
  },
  {
   "cell_type": "code",
   "execution_count": 3,
   "id": "9d8b23d1",
   "metadata": {
    "ExecuteTime": {
     "end_time": "2021-07-06T20:39:43.989263Z",
     "start_time": "2021-07-06T20:39:43.854623Z"
    },
    "hidden": true
   },
   "outputs": [
    {
     "data": {
      "text/plain": [
       "5"
      ]
     },
     "execution_count": 3,
     "metadata": {},
     "output_type": "execute_result"
    }
   ],
   "source": [
    "meu_numero"
   ]
  },
  {
   "cell_type": "code",
   "execution_count": 4,
   "id": "daf3de10",
   "metadata": {
    "ExecuteTime": {
     "end_time": "2021-07-06T20:39:44.099100Z",
     "start_time": "2021-07-06T20:39:43.991397Z"
    },
    "hidden": true
   },
   "outputs": [
    {
     "data": {
      "text/plain": [
       "2"
      ]
     },
     "execution_count": 4,
     "metadata": {},
     "output_type": "execute_result"
    }
   ],
   "source": [
    "variavel"
   ]
  },
  {
   "cell_type": "code",
   "execution_count": 5,
   "id": "9d5ef1e9",
   "metadata": {
    "ExecuteTime": {
     "end_time": "2021-07-06T20:39:44.221772Z",
     "start_time": "2021-07-06T20:39:44.102092Z"
    },
    "hidden": true
   },
   "outputs": [
    {
     "data": {
      "text/plain": [
       "6"
      ]
     },
     "execution_count": 5,
     "metadata": {},
     "output_type": "execute_result"
    }
   ],
   "source": [
    "x"
   ]
  },
  {
   "cell_type": "markdown",
   "id": "2931da63",
   "metadata": {
    "hidden": true
   },
   "source": [
    "Se quisermos exibir o valor das 3 variáveis em seguida, podemos usar o print\n",
    "\n",
    "Note que de fato são exibidos os **valores armazenados nas variáveis!!**"
   ]
  },
  {
   "cell_type": "code",
   "execution_count": 6,
   "id": "472785a9",
   "metadata": {
    "ExecuteTime": {
     "end_time": "2021-07-06T20:39:44.331764Z",
     "start_time": "2021-07-06T20:39:44.223766Z"
    },
    "hidden": true
   },
   "outputs": [
    {
     "name": "stdout",
     "output_type": "stream",
     "text": [
      "5 2 6\n"
     ]
    }
   ],
   "source": [
    "print (meu_numero, variavel, x)"
   ]
  },
  {
   "cell_type": "markdown",
   "id": "329d086d",
   "metadata": {
    "hidden": true
   },
   "source": [
    "Como o próprio nome diz, variáveis podem variar, ou seja, eu posso mudar o valor que tá armazenado na variável.\n",
    "\n",
    "Se, por exemplo, eu quiser que a variável \"x\" passe a receber o valor \"42\", eu faço simplesmente o código a seguir, que é lido como \"a variável x recebe o valor 42\"."
   ]
  },
  {
   "cell_type": "code",
   "execution_count": 7,
   "id": "11675c07",
   "metadata": {
    "ExecuteTime": {
     "end_time": "2021-07-06T20:39:44.517266Z",
     "start_time": "2021-07-06T20:39:44.334754Z"
    },
    "hidden": true
   },
   "outputs": [],
   "source": [
    "x = 42"
   ]
  },
  {
   "cell_type": "markdown",
   "id": "763c8186",
   "metadata": {
    "hidden": true
   },
   "source": [
    "Após fazer isso, o valor anterior (acima), é completamente esquecido, e a variável x agora tem apenas o valor 42.\n",
    "\n",
    "Chamando a variável:"
   ]
  },
  {
   "cell_type": "code",
   "execution_count": 8,
   "id": "a17b53ad",
   "metadata": {
    "ExecuteTime": {
     "end_time": "2021-07-06T20:39:44.641933Z",
     "start_time": "2021-07-06T20:39:44.522253Z"
    },
    "hidden": true
   },
   "outputs": [
    {
     "data": {
      "text/plain": [
       "42"
      ]
     },
     "execution_count": 8,
     "metadata": {},
     "output_type": "execute_result"
    }
   ],
   "source": [
    "x"
   ]
  },
  {
   "cell_type": "markdown",
   "id": "3bbd80ae",
   "metadata": {},
   "source": [
    "## Tipos de dados/variáveis"
   ]
  },
  {
   "cell_type": "markdown",
   "id": "8a8f3e3c",
   "metadata": {},
   "source": [
    "Em python, temos 4 **tipos** principais de dados básicos\n",
    "\n",
    "### Tipo **inteiros** (int): são números inteiros, isto é, sem casas decimais.\n",
    "\n",
    "- Ex:\n",
    "    - 1 \n",
    "    - 456\n",
    "    - 124023\n",
    "    - 0\n",
    "    - -2 (números to tipo int podem ser negativos!)\n",
    "\n",
    "No Jupyter, números inteiros são destacados em cor verde clara"
   ]
  },
  {
   "cell_type": "markdown",
   "id": "b9bc7792",
   "metadata": {},
   "source": [
    "Exemplo: a idade de uma pessoa em anos, número de filhos de uma pessoa, etc."
   ]
  },
  {
   "cell_type": "code",
   "execution_count": 9,
   "id": "547e9698",
   "metadata": {
    "ExecuteTime": {
     "end_time": "2021-07-06T20:39:44.798682Z",
     "start_time": "2021-07-06T20:39:44.645925Z"
    }
   },
   "outputs": [],
   "source": [
    "idade = 18"
   ]
  },
  {
   "cell_type": "code",
   "execution_count": 10,
   "id": "14702308",
   "metadata": {
    "ExecuteTime": {
     "end_time": "2021-07-06T20:39:44.987089Z",
     "start_time": "2021-07-06T20:39:44.805666Z"
    }
   },
   "outputs": [
    {
     "data": {
      "text/plain": [
       "18"
      ]
     },
     "execution_count": 10,
     "metadata": {},
     "output_type": "execute_result"
    }
   ],
   "source": [
    "idade"
   ]
  },
  {
   "cell_type": "code",
   "execution_count": 11,
   "id": "96951935",
   "metadata": {
    "ExecuteTime": {
     "end_time": "2021-07-06T20:39:45.156803Z",
     "start_time": "2021-07-06T20:39:44.991076Z"
    }
   },
   "outputs": [
    {
     "data": {
      "text/plain": [
       "int"
      ]
     },
     "execution_count": 11,
     "metadata": {},
     "output_type": "execute_result"
    }
   ],
   "source": [
    "type(idade)"
   ]
  },
  {
   "cell_type": "markdown",
   "id": "212f43b0",
   "metadata": {},
   "source": [
    "### Tipo **float** (float): são números com casas decimais (**em python usamos ponto ao invés de vírgula para indicar cadas decimais!**)\n",
    "\n",
    "- Ex:\n",
    "    - 3.1415\n",
    "    - 1.78\n",
    "    - 10.0 (essa é a representação float de um número inteiro, 10) \n",
    "    - -42.73 (números do tipo float podem ser negativos!)\n",
    "\n",
    "No Jupyter, números float também são destacados em cor verde clara"
   ]
  },
  {
   "cell_type": "markdown",
   "id": "f3c50111",
   "metadata": {},
   "source": [
    "Exemplo: a altura de uma pessoa em metros"
   ]
  },
  {
   "cell_type": "code",
   "execution_count": 12,
   "id": "5290b494",
   "metadata": {
    "ExecuteTime": {
     "end_time": "2021-07-06T20:39:45.561719Z",
     "start_time": "2021-07-06T20:39:45.158798Z"
    }
   },
   "outputs": [],
   "source": [
    "altura = 1.90"
   ]
  },
  {
   "cell_type": "code",
   "execution_count": 13,
   "id": "2672c39a",
   "metadata": {
    "ExecuteTime": {
     "end_time": "2021-07-06T20:39:45.704093Z",
     "start_time": "2021-07-06T20:39:45.563714Z"
    }
   },
   "outputs": [
    {
     "data": {
      "text/plain": [
       "1.9"
      ]
     },
     "execution_count": 13,
     "metadata": {},
     "output_type": "execute_result"
    }
   ],
   "source": [
    "altura"
   ]
  },
  {
   "cell_type": "code",
   "execution_count": 14,
   "id": "a4d6b6be",
   "metadata": {
    "ExecuteTime": {
     "end_time": "2021-07-06T20:39:45.844830Z",
     "start_time": "2021-07-06T20:39:45.708082Z"
    }
   },
   "outputs": [
    {
     "data": {
      "text/plain": [
       "float"
      ]
     },
     "execution_count": 14,
     "metadata": {},
     "output_type": "execute_result"
    }
   ],
   "source": [
    "type(altura)"
   ]
  },
  {
   "cell_type": "markdown",
   "id": "0e5215d2",
   "metadata": {},
   "source": [
    "### Tipo **string** (str): são textos, que devem ser indicados entre aspas duplas \" \" ou aspas simples ' ' \n",
    "\n",
    "- Ex:\n",
    "    - \"Olá, mundo!\" (para strings, podemos usar pontuação e acentuação sem problemas!)\n",
    "    - \"Nos encontramos às 9h30 amanhã?\" (strings podem conter numeros!)\n",
    "    - \"100\" (neste caso, é uma string que representa um numero inteiro)\n",
    "    - \"3.1415\" (neste caso, é uma string que representa um numero float)\n",
    "\n",
    "No Jupyter, strings são destacadas em cor vermelha"
   ]
  },
  {
   "cell_type": "markdown",
   "id": "db1818d7",
   "metadata": {},
   "source": [
    "Exemplo: uma frase de despedida e um encontro marcado"
   ]
  },
  {
   "cell_type": "code",
   "execution_count": 15,
   "id": "b83f0094",
   "metadata": {
    "ExecuteTime": {
     "end_time": "2021-07-06T20:39:45.956087Z",
     "start_time": "2021-07-06T20:39:45.846825Z"
    }
   },
   "outputs": [],
   "source": [
    "despedida = 'Isso é tudo pe-pe-pessoal!'"
   ]
  },
  {
   "cell_type": "code",
   "execution_count": 16,
   "id": "557054de",
   "metadata": {
    "ExecuteTime": {
     "end_time": "2021-07-06T20:39:46.143010Z",
     "start_time": "2021-07-06T20:39:45.958083Z"
    }
   },
   "outputs": [
    {
     "data": {
      "text/plain": [
       "'Isso é tudo pe-pe-pessoal!'"
      ]
     },
     "execution_count": 16,
     "metadata": {},
     "output_type": "execute_result"
    }
   ],
   "source": [
    "despedida"
   ]
  },
  {
   "cell_type": "code",
   "execution_count": 17,
   "id": "dc35ae28",
   "metadata": {
    "ExecuteTime": {
     "end_time": "2021-07-06T20:39:46.366018Z",
     "start_time": "2021-07-06T20:39:46.147996Z"
    }
   },
   "outputs": [
    {
     "data": {
      "text/plain": [
       "str"
      ]
     },
     "execution_count": 17,
     "metadata": {},
     "output_type": "execute_result"
    }
   ],
   "source": [
    "type(despedida)"
   ]
  },
  {
   "cell_type": "code",
   "execution_count": 18,
   "id": "3a51888d",
   "metadata": {
    "ExecuteTime": {
     "end_time": "2021-07-06T20:39:46.469796Z",
     "start_time": "2021-07-06T20:39:46.372002Z"
    }
   },
   "outputs": [],
   "source": [
    "altura_2 = '1.9'"
   ]
  },
  {
   "cell_type": "code",
   "execution_count": 19,
   "id": "7ecb78a1",
   "metadata": {
    "ExecuteTime": {
     "end_time": "2021-07-06T20:39:46.610961Z",
     "start_time": "2021-07-06T20:39:46.472787Z"
    }
   },
   "outputs": [
    {
     "data": {
      "text/plain": [
       "str"
      ]
     },
     "execution_count": 19,
     "metadata": {},
     "output_type": "execute_result"
    }
   ],
   "source": [
    "type(altura_2)"
   ]
  },
  {
   "cell_type": "markdown",
   "id": "939acc89",
   "metadata": {},
   "source": [
    "### Tipo **booleanos** (bool): Verdadeiro (True) ou Falso (False)\n",
    "\n",
    "- Únicos dois valores possíveis: **True** ou **False**\n",
    "\n",
    "Vamos entender a enorme importância deste tipo de dado mais a frente no curso (operações lógicas, estruturas condicionais, etc.)\n",
    "\n",
    "No Jupyter, bools são destacados em cor verde escuro"
   ]
  },
  {
   "cell_type": "code",
   "execution_count": 20,
   "id": "89645702",
   "metadata": {
    "ExecuteTime": {
     "end_time": "2021-07-06T20:39:46.721905Z",
     "start_time": "2021-07-06T20:39:46.614949Z"
    }
   },
   "outputs": [
    {
     "data": {
      "text/plain": [
       "True"
      ]
     },
     "execution_count": 20,
     "metadata": {},
     "output_type": "execute_result"
    }
   ],
   "source": [
    "booleano_1 = True\n",
    "booleano_1"
   ]
  },
  {
   "cell_type": "code",
   "execution_count": 21,
   "id": "2f9a348b",
   "metadata": {
    "ExecuteTime": {
     "end_time": "2021-07-06T20:39:46.843706Z",
     "start_time": "2021-07-06T20:39:46.725894Z"
    }
   },
   "outputs": [
    {
     "data": {
      "text/plain": [
       "bool"
      ]
     },
     "execution_count": 21,
     "metadata": {},
     "output_type": "execute_result"
    }
   ],
   "source": [
    "type(booleano_1)"
   ]
  },
  {
   "cell_type": "code",
   "execution_count": 22,
   "id": "2595bb89",
   "metadata": {
    "ExecuteTime": {
     "end_time": "2021-07-06T20:39:46.936711Z",
     "start_time": "2021-07-06T20:39:46.848693Z"
    }
   },
   "outputs": [
    {
     "data": {
      "text/plain": [
       "False"
      ]
     },
     "execution_count": 22,
     "metadata": {},
     "output_type": "execute_result"
    }
   ],
   "source": [
    "booleano_2 = False\n",
    "booleano_2"
   ]
  },
  {
   "cell_type": "markdown",
   "id": "de3fc9df",
   "metadata": {
    "heading_collapsed": true
   },
   "source": [
    "# Comentários"
   ]
  },
  {
   "cell_type": "markdown",
   "id": "23d5ea00",
   "metadata": {
    "hidden": true
   },
   "source": [
    "\n",
    "São utilizados para melhor explicar um trecho de código.\n",
    "\n",
    "Os comentários não são executados pelo Python. \n",
    "\n",
    "Tudo o que está comentado é ignorado, serve apenas para guiar o usuário.\n",
    "\n",
    "É indicado com o uso da #, e em cor azul marinho no Jupyter\n",
    "\n",
    "- Atalho: CTRL + / : A LINHA VIRA UM COMENTÁRIO"
   ]
  },
  {
   "cell_type": "code",
   "execution_count": 23,
   "id": "ab656fa2",
   "metadata": {
    "ExecuteTime": {
     "end_time": "2021-07-06T20:39:47.077078Z",
     "start_time": "2021-07-06T20:39:46.939701Z"
    },
    "hidden": true
   },
   "outputs": [],
   "source": [
    "#comentário"
   ]
  },
  {
   "cell_type": "markdown",
   "id": "46a127f2",
   "metadata": {
    "hidden": true
   },
   "source": [
    "Embora você possa fazer comentários de várias linhas apenas colocando o # na frente de cada linha:"
   ]
  },
  {
   "cell_type": "code",
   "execution_count": 24,
   "id": "33e565a4",
   "metadata": {
    "ExecuteTime": {
     "end_time": "2021-07-06T20:39:47.201017Z",
     "start_time": "2021-07-06T20:39:47.080069Z"
    },
    "hidden": true
   },
   "outputs": [],
   "source": [
    "# esse é um comentário muito grande, e por isso pode ser interessante\n",
    "# quebrar ele em várias linhas, para ficar mais fácil de ler\n",
    "# um comentário grande e complexo como esse no meio do código"
   ]
  },
  {
   "cell_type": "markdown",
   "id": "bd903ea7",
   "metadata": {
    "hidden": true
   },
   "source": [
    "Também é possível fazer comentários de várias linhas utilizando três aspas:"
   ]
  },
  {
   "cell_type": "code",
   "execution_count": 25,
   "id": "7e4bfff2",
   "metadata": {
    "ExecuteTime": {
     "end_time": "2021-07-06T20:39:47.344306Z",
     "start_time": "2021-07-06T20:39:47.205007Z"
    },
    "hidden": true
   },
   "outputs": [
    {
     "data": {
      "text/plain": [
       "'\\nesse é um comentário muito grande, e por isso pode ser interessante\\nquebrar ele em várias linhas, para ficar mais fácil de ler\\num comentário grande e complexo como esse no meio do código\\n\\n'"
      ]
     },
     "execution_count": 25,
     "metadata": {},
     "output_type": "execute_result"
    }
   ],
   "source": [
    "\"\"\"\n",
    "esse é um comentário muito grande, e por isso pode ser interessante\n",
    "quebrar ele em várias linhas, para ficar mais fácil de ler\n",
    "um comentário grande e complexo como esse no meio do código\n",
    "\n",
    "\"\"\""
   ]
  },
  {
   "cell_type": "markdown",
   "id": "8488c2e7",
   "metadata": {
    "hidden": true
   },
   "source": [
    "Note que estes \"comentários\" feitos com 3 aspas na verdade são strings de muitas linhas: mas o Python irá ignorá-las caso elas não sejá atribuídas a uma variável, funcionando, assim, como comentário.\n",
    "\n",
    "De qualquer forma, o modo acima, com um # em casa linha é preferível!"
   ]
  },
  {
   "cell_type": "markdown",
   "id": "c48fff7a",
   "metadata": {
    "heading_collapsed": true
   },
   "source": [
    "# Saída (output)"
   ]
  },
  {
   "cell_type": "markdown",
   "id": "62673033",
   "metadata": {
    "hidden": true
   },
   "source": [
    "É como o computador **apresenta dados de saída** para um usuário.\n",
    "\n",
    "Utilizamos a função print() para exibir o conteúdo na tela"
   ]
  },
  {
   "cell_type": "code",
   "execution_count": 26,
   "id": "8ea0ddfc",
   "metadata": {
    "ExecuteTime": {
     "end_time": "2021-07-06T20:39:47.451052Z",
     "start_time": "2021-07-06T20:39:47.349293Z"
    },
    "hidden": true
   },
   "outputs": [
    {
     "name": "stdout",
     "output_type": "stream",
     "text": [
      "Exemplo de texto para mostrar no output\n"
     ]
    }
   ],
   "source": [
    "# definição de uma string\n",
    "var_de_texto = 'Exemplo de texto para mostrar no output'\n",
    "\n",
    "# função que exibe para o usuário o que foi pedido\n",
    "print(var_de_texto)"
   ]
  },
  {
   "cell_type": "markdown",
   "id": "a932891f",
   "metadata": {
    "hidden": true
   },
   "source": [
    "Podemos imprimir diversas strings ou diversas variáveis em sequência, utilizando vírgula para separá-las dentro do print:"
   ]
  },
  {
   "cell_type": "code",
   "execution_count": 27,
   "id": "62357fc9",
   "metadata": {
    "ExecuteTime": {
     "end_time": "2021-07-06T20:39:47.635892Z",
     "start_time": "2021-07-06T20:39:47.455042Z"
    },
    "hidden": true
   },
   "outputs": [
    {
     "name": "stdout",
     "output_type": "stream",
     "text": [
      "Anderson tem 26 anos\n"
     ]
    }
   ],
   "source": [
    "# definindo uma variavel do tipo inteiro\n",
    "idade_da_pessoa = 26\n",
    "# definindo uma string\n",
    "nome_da_pessoa = \"Anderson\"\n",
    "# exibindo as duas variáveis acima após uma outra string\n",
    "print(nome_da_pessoa, \"tem\",idade_da_pessoa, \"anos\")"
   ]
  },
  {
   "cell_type": "markdown",
   "id": "b2da1b70",
   "metadata": {
    "hidden": true
   },
   "source": [
    "Um caractere especial do print é o \"\\n\", que serve para fazer a quebra de linha:"
   ]
  },
  {
   "cell_type": "code",
   "execution_count": 28,
   "id": "b3e322e0",
   "metadata": {
    "ExecuteTime": {
     "end_time": "2021-07-06T20:39:47.791087Z",
     "start_time": "2021-07-06T20:39:47.638884Z"
    },
    "hidden": true
   },
   "outputs": [
    {
     "name": "stdout",
     "output_type": "stream",
     "text": [
      "texto na linha 1 \n",
      "texto na linha 2\n"
     ]
    }
   ],
   "source": [
    "print('texto na linha 1 \\ntexto na linha 2')"
   ]
  },
  {
   "cell_type": "markdown",
   "id": "ac775170",
   "metadata": {
    "hidden": true
   },
   "source": [
    "Depois vamos falar melhor sobre operações matemáticas em Python, mas podemos exibir o resultado de algumas operações simples usando a funçao print()\n",
    "\n",
    "Note que as instruções são executadas __na ordem em que aparecem!__"
   ]
  },
  {
   "cell_type": "code",
   "execution_count": 29,
   "id": "9e3eb674",
   "metadata": {
    "ExecuteTime": {
     "end_time": "2021-07-06T20:39:47.899224Z",
     "start_time": "2021-07-06T20:39:47.794079Z"
    },
    "hidden": true
   },
   "outputs": [
    {
     "name": "stdout",
     "output_type": "stream",
     "text": [
      "4\n"
     ]
    }
   ],
   "source": [
    "print(2+2)"
   ]
  },
  {
   "cell_type": "code",
   "execution_count": 30,
   "id": "efb3ce23",
   "metadata": {
    "ExecuteTime": {
     "end_time": "2021-07-06T20:39:48.023123Z",
     "start_time": "2021-07-06T20:39:47.905201Z"
    }
   },
   "outputs": [
    {
     "name": "stdout",
     "output_type": "stream",
     "text": [
      "2+2 = 4\n"
     ]
    }
   ],
   "source": [
    "print('2+2 =',2+2)"
   ]
  },
  {
   "cell_type": "markdown",
   "id": "e0837e94",
   "metadata": {
    "hidden": true
   },
   "source": [
    "O jupyter nos permite também examinar o valor de uma expressão sem a necessidade de usar o print()\n",
    "\n",
    "Mas note que logo abaixo do código, aparece um \"Out[]\", o que não acontece quando usamos a função print()\n",
    "\n",
    "Esse é um jeito de \"espiar\" o output das operações do Python de forma direta!"
   ]
  },
  {
   "cell_type": "code",
   "execution_count": 31,
   "id": "d0f1deff",
   "metadata": {
    "ExecuteTime": {
     "end_time": "2021-07-06T20:39:48.163183Z",
     "start_time": "2021-07-06T20:39:48.025115Z"
    },
    "hidden": true
   },
   "outputs": [
    {
     "data": {
      "text/plain": [
       "4"
      ]
     },
     "execution_count": 31,
     "metadata": {},
     "output_type": "execute_result"
    }
   ],
   "source": [
    "2+2"
   ]
  },
  {
   "cell_type": "markdown",
   "id": "b1bad86c",
   "metadata": {
    "hidden": true
   },
   "source": [
    "Outra coisa importante é que o Jupyter só permite examinar o valor da **última** expressão no código:"
   ]
  },
  {
   "cell_type": "code",
   "execution_count": 32,
   "id": "926d5531",
   "metadata": {
    "ExecuteTime": {
     "end_time": "2021-07-06T20:39:48.302979Z",
     "start_time": "2021-07-06T20:39:48.166176Z"
    },
    "hidden": true
   },
   "outputs": [
    {
     "name": "stdout",
     "output_type": "stream",
     "text": [
      "10\n"
     ]
    },
    {
     "data": {
      "text/plain": [
       "18"
      ]
     },
     "execution_count": 32,
     "metadata": {},
     "output_type": "execute_result"
    }
   ],
   "source": [
    "2+2\n",
    "print(5*2)\n",
    "3*6"
   ]
  },
  {
   "cell_type": "code",
   "execution_count": 33,
   "id": "7031d885",
   "metadata": {
    "ExecuteTime": {
     "end_time": "2021-07-06T20:39:48.413874Z",
     "start_time": "2021-07-06T20:39:48.308971Z"
    }
   },
   "outputs": [
    {
     "data": {
      "text/plain": [
       "(4, 18)"
      ]
     },
     "execution_count": 33,
     "metadata": {},
     "output_type": "execute_result"
    }
   ],
   "source": [
    "(2+2, 3*6)"
   ]
  },
  {
   "cell_type": "markdown",
   "id": "c7991207",
   "metadata": {
    "ExecuteTime": {
     "end_time": "2021-07-07T19:25:34.247606Z",
     "start_time": "2021-07-07T19:25:34.232647Z"
    }
   },
   "source": [
    "## Outros formatos de saída"
   ]
  },
  {
   "cell_type": "code",
   "execution_count": 6,
   "id": "c2febe67",
   "metadata": {
    "ExecuteTime": {
     "end_time": "2021-07-07T19:25:11.360517Z",
     "start_time": "2021-07-07T19:25:11.352538Z"
    }
   },
   "outputs": [
    {
     "name": "stdout",
     "output_type": "stream",
     "text": [
      "Data: 12/11/1990\n",
      "Duas casas depois da vírgula: 1.11 \n",
      "Três casas depois da vírgula: 1.667\n"
     ]
    }
   ],
   "source": [
    "dia = 12\n",
    "mes = 11\n",
    "ano = 1990\n",
    "print(f'Data: {dia}/{mes}/{ano}')\n",
    "duas_casas = 10/9\n",
    "tres_casas = 5/3\n",
    "print('Duas casas depois da vírgula: %.2f \\nTrês casas depois da vírgula: %.3f' %(duas_casas,tres_casas))"
   ]
  },
  {
   "cell_type": "code",
   "execution_count": 10,
   "id": "8475e0ac",
   "metadata": {
    "ExecuteTime": {
     "end_time": "2021-07-07T19:34:00.073879Z",
     "start_time": "2021-07-07T19:34:00.050941Z"
    }
   },
   "outputs": [
    {
     "data": {
      "text/plain": [
       "'21/07/07 - 16:34:00'"
      ]
     },
     "execution_count": 10,
     "metadata": {},
     "output_type": "execute_result"
    }
   ],
   "source": [
    "import datetime as dt\n",
    "formato = '%y/%m/%d - %H:%M:%S'\n",
    "agora = dt.datetime.now()\n",
    "dt.datetime.strftime(agora, formato)"
   ]
  },
  {
   "cell_type": "markdown",
   "id": "3bf33377",
   "metadata": {
    "heading_collapsed": true
   },
   "source": [
    "# Entrada (input)"
   ]
  },
  {
   "cell_type": "markdown",
   "id": "1b54b9d9",
   "metadata": {
    "hidden": true
   },
   "source": [
    "É como o computador **coleta dados de entrada** de um usuário através do teclado.\n",
    "\n",
    "Utilizamos a função input() para receber os dados do usuário, que deve digitá-los\n",
    "\n",
    "Opcionalmente, podemos colocar uma frase de instrução ao usuário na função input, dentro dos parênteses"
   ]
  },
  {
   "cell_type": "code",
   "execution_count": 34,
   "id": "2e1eb979",
   "metadata": {
    "ExecuteTime": {
     "end_time": "2021-07-06T20:39:55.041918Z",
     "start_time": "2021-07-06T20:39:48.415868Z"
    },
    "hidden": true
   },
   "outputs": [
    {
     "name": "stdout",
     "output_type": "stream",
     "text": [
      "Digite seu nome: Felipe\n"
     ]
    },
    {
     "data": {
      "text/plain": [
       "'Felipe'"
      ]
     },
     "execution_count": 34,
     "metadata": {},
     "output_type": "execute_result"
    }
   ],
   "source": [
    "# recebo os dados do usuário através da função input,\n",
    "# e armazeno o resultado na variável \"meu_nome\"\n",
    "\n",
    "meu_nome = input('Digite seu nome: ')\n",
    "meu_nome"
   ]
  },
  {
   "cell_type": "markdown",
   "id": "e2f097d5",
   "metadata": {
    "hidden": true
   },
   "source": [
    "__IMPORTANTE: a função input() toma o que o usuário digitou como uma string! Se o usuário digitar algum número, e algum cálculo for feito com esse número, o número deve ser transformado em int ou float!__\n",
    "\n",
    "A melhor forma de fazer isso, é já transformar o resultado da função input em float.\n",
    "\n",
    "Fazemos isso com uma espécie de sanduíche, colocando a função input() dentro da função float(), que transforma uma string em um float!\n",
    "\n",
    "OBS: é melhor transformar o input em float ao invés de int, pois o float é um tipo numérico mais genérico, apesar de ocupar (um pouco) mais memória"
   ]
  },
  {
   "cell_type": "code",
   "execution_count": 35,
   "id": "af1ae22b",
   "metadata": {
    "ExecuteTime": {
     "end_time": "2021-07-06T20:39:58.770332Z",
     "start_time": "2021-07-06T20:39:55.044909Z"
    },
    "hidden": true
   },
   "outputs": [
    {
     "name": "stdout",
     "output_type": "stream",
     "text": [
      "Digite minha altura: 1.83\n"
     ]
    },
    {
     "data": {
      "text/plain": [
       "str"
      ]
     },
     "execution_count": 35,
     "metadata": {},
     "output_type": "execute_result"
    }
   ],
   "source": [
    "minha_altura = input('Digite minha altura: ')\n",
    "type(minha_altura)"
   ]
  },
  {
   "cell_type": "code",
   "execution_count": 36,
   "id": "d08e4cdd",
   "metadata": {
    "ExecuteTime": {
     "end_time": "2021-07-06T20:39:58.785292Z",
     "start_time": "2021-07-06T20:39:58.773323Z"
    }
   },
   "outputs": [
    {
     "data": {
      "text/plain": [
       "1.83"
      ]
     },
     "execution_count": 36,
     "metadata": {},
     "output_type": "execute_result"
    }
   ],
   "source": [
    "float(minha_altura)"
   ]
  },
  {
   "cell_type": "code",
   "execution_count": 37,
   "id": "b5c6af15",
   "metadata": {
    "ExecuteTime": {
     "end_time": "2021-07-06T20:40:06.439179Z",
     "start_time": "2021-07-06T20:39:58.788285Z"
    },
    "hidden": true
   },
   "outputs": [
    {
     "name": "stdout",
     "output_type": "stream",
     "text": [
      "Digite o primeiro número: 3\n",
      "Digite o segundo número: 4\n"
     ]
    },
    {
     "data": {
      "text/plain": [
       "7.0"
      ]
     },
     "execution_count": 37,
     "metadata": {},
     "output_type": "execute_result"
    }
   ],
   "source": [
    "# pede dois números ao usuário, e já os transforma em float\n",
    "num_1 = float(input('Digite o primeiro número: '))\n",
    "num_2 = float(input('Digite o segundo número: '))\n",
    "\n",
    "# calcula a soma dos dois números\n",
    "num_1 + num_2"
   ]
  },
  {
   "cell_type": "markdown",
   "id": "6eb1a0bb",
   "metadata": {
    "heading_collapsed": true
   },
   "source": [
    "# Operadores Matemáticos"
   ]
  },
  {
   "cell_type": "markdown",
   "id": "895be481",
   "metadata": {
    "hidden": true
   },
   "source": [
    "Em Python, temos as principais operações matemáticas, com os respectivos símbolos:\n",
    "\n",
    "- soma: (+)\n",
    "\n",
    "- subtração: (-)\n",
    "\n",
    "- multiplicação: (*)\n",
    "\n",
    "- divisão: (/)\n",
    "\n",
    "- potência: (**)\n",
    "\n",
    "Além disso, temos duas operações especiais:\n",
    "\n",
    "- divisão inteira: (//) retorna a parte inteira da divisão entre dois números\n",
    "\n",
    "- resto da divisão: (%) se lê \"mod\", e retorna o resto da divisão entre dois números"
   ]
  },
  {
   "cell_type": "code",
   "execution_count": 38,
   "id": "948b036f",
   "metadata": {
    "ExecuteTime": {
     "end_time": "2021-07-06T20:40:06.455138Z",
     "start_time": "2021-07-06T20:40:06.441175Z"
    },
    "hidden": true
   },
   "outputs": [
    {
     "data": {
      "text/plain": [
       "14"
      ]
     },
     "execution_count": 38,
     "metadata": {},
     "output_type": "execute_result"
    }
   ],
   "source": [
    "# faça alguns exemplos simples com os alunos sobre cada uma das operações acima\n",
    "# soma\n",
    "5+9"
   ]
  },
  {
   "cell_type": "code",
   "execution_count": 39,
   "id": "c344a95d",
   "metadata": {
    "ExecuteTime": {
     "end_time": "2021-07-06T20:40:06.598099Z",
     "start_time": "2021-07-06T20:40:06.457132Z"
    },
    "hidden": true
   },
   "outputs": [
    {
     "data": {
      "text/plain": [
       "-4"
      ]
     },
     "execution_count": 39,
     "metadata": {},
     "output_type": "execute_result"
    }
   ],
   "source": [
    "# subtração\n",
    "5-9"
   ]
  },
  {
   "cell_type": "code",
   "execution_count": 40,
   "id": "c550d531",
   "metadata": {
    "ExecuteTime": {
     "end_time": "2021-07-06T20:40:06.693492Z",
     "start_time": "2021-07-06T20:40:06.604083Z"
    }
   },
   "outputs": [
    {
     "data": {
      "text/plain": [
       "45"
      ]
     },
     "execution_count": 40,
     "metadata": {},
     "output_type": "execute_result"
    }
   ],
   "source": [
    "# multiplicação\n",
    "5*9"
   ]
  },
  {
   "cell_type": "code",
   "execution_count": 41,
   "id": "ee426577",
   "metadata": {
    "ExecuteTime": {
     "end_time": "2021-07-06T20:40:06.867878Z",
     "start_time": "2021-07-06T20:40:06.697481Z"
    }
   },
   "outputs": [
    {
     "data": {
      "text/plain": [
       "0.5555555555555556"
      ]
     },
     "execution_count": 41,
     "metadata": {},
     "output_type": "execute_result"
    }
   ],
   "source": [
    "# divisão\n",
    "5/9"
   ]
  },
  {
   "cell_type": "code",
   "execution_count": 42,
   "id": "29fdae93",
   "metadata": {
    "ExecuteTime": {
     "end_time": "2021-07-06T20:40:06.978227Z",
     "start_time": "2021-07-06T20:40:06.870869Z"
    }
   },
   "outputs": [
    {
     "data": {
      "text/plain": [
       "1"
      ]
     },
     "execution_count": 42,
     "metadata": {},
     "output_type": "execute_result"
    }
   ],
   "source": [
    "# divisão inteira\n",
    "5//3"
   ]
  },
  {
   "cell_type": "code",
   "execution_count": 43,
   "id": "bf5eb01d",
   "metadata": {
    "ExecuteTime": {
     "end_time": "2021-07-06T20:40:07.088515Z",
     "start_time": "2021-07-06T20:40:06.980104Z"
    }
   },
   "outputs": [
    {
     "data": {
      "text/plain": [
       "2"
      ]
     },
     "execution_count": 43,
     "metadata": {},
     "output_type": "execute_result"
    }
   ],
   "source": [
    "# resto da divisão\n",
    "5%3"
   ]
  },
  {
   "cell_type": "code",
   "execution_count": 44,
   "id": "58628c2f",
   "metadata": {
    "ExecuteTime": {
     "end_time": "2021-07-06T20:40:07.216362Z",
     "start_time": "2021-07-06T20:40:07.091510Z"
    }
   },
   "outputs": [
    {
     "data": {
      "text/plain": [
       "8"
      ]
     },
     "execution_count": 44,
     "metadata": {},
     "output_type": "execute_result"
    }
   ],
   "source": [
    "# potência\n",
    "2**3"
   ]
  },
  {
   "cell_type": "code",
   "execution_count": 58,
   "id": "eb767062",
   "metadata": {
    "ExecuteTime": {
     "end_time": "2021-07-06T20:58:48.595016Z",
     "start_time": "2021-07-06T20:58:48.581052Z"
    }
   },
   "outputs": [
    {
     "name": "stdout",
     "output_type": "stream",
     "text": [
      "2.75\n"
     ]
    },
    {
     "data": {
      "text/plain": [
       "3"
      ]
     },
     "execution_count": 58,
     "metadata": {},
     "output_type": "execute_result"
    }
   ],
   "source": [
    "# arredondamento\n",
    "print(11/4)\n",
    "round(11/4)"
   ]
  },
  {
   "cell_type": "markdown",
   "id": "2f11ef97",
   "metadata": {
    "hidden": true
   },
   "source": [
    "OBS: o principal uso do operador resto da divisão (%) é para avaliar se um número é par ou impar:\n",
    "\n",
    "- se o resto da divisão de um número por 2 **É ZERO**, ele é par;\n",
    "- se o resto da divisão de um número por 2 **É UM**, ele é ímpar;\n"
   ]
  },
  {
   "cell_type": "markdown",
   "id": "1e92bfc1",
   "metadata": {
    "ExecuteTime": {
     "end_time": "2021-07-06T20:32:14.040927Z",
     "start_time": "2021-07-06T20:32:14.028942Z"
    }
   },
   "source": [
    "## Operações com strings e booleans"
   ]
  },
  {
   "cell_type": "code",
   "execution_count": 45,
   "id": "545fb1e4",
   "metadata": {
    "ExecuteTime": {
     "end_time": "2021-07-06T20:40:07.434588Z",
     "start_time": "2021-07-06T20:40:07.218356Z"
    }
   },
   "outputs": [
    {
     "data": {
      "text/plain": [
       "'hey hohey hohey ho'"
      ]
     },
     "execution_count": 45,
     "metadata": {},
     "output_type": "execute_result"
    }
   ],
   "source": [
    "#multiplicar por sting\n",
    "3* \"hey ho\""
   ]
  },
  {
   "cell_type": "code",
   "execution_count": 46,
   "id": "6e4e7ab4",
   "metadata": {
    "ExecuteTime": {
     "end_time": "2021-07-06T20:40:07.855864Z",
     "start_time": "2021-07-06T20:40:07.437580Z"
    }
   },
   "outputs": [
    {
     "data": {
      "text/plain": [
       "'Batman'"
      ]
     },
     "execution_count": 46,
     "metadata": {},
     "output_type": "execute_result"
    }
   ],
   "source": [
    "# string + string\n",
    "\"Bat\" +  \"man\""
   ]
  },
  {
   "cell_type": "markdown",
   "id": "4081be4d",
   "metadata": {
    "heading_collapsed": true
   },
   "source": [
    "# Exercícios"
   ]
  },
  {
   "cell_type": "markdown",
   "id": "e686e8b8",
   "metadata": {
    "hidden": true
   },
   "source": [
    "## Faça um programa que receba um valor monetário e eleve esse valor em 15%. "
   ]
  },
  {
   "cell_type": "code",
   "execution_count": 52,
   "id": "60eb9356",
   "metadata": {
    "ExecuteTime": {
     "end_time": "2021-07-06T20:56:58.701688Z",
     "start_time": "2021-07-06T20:56:56.463135Z"
    },
    "hidden": true
   },
   "outputs": [
    {
     "name": "stdout",
     "output_type": "stream",
     "text": [
      "Insira o valor monetário: 100\n",
      "Valor elevado em 15%:  114.99999999999999\n"
     ]
    }
   ],
   "source": [
    "valor = float(input(\"Insira o valor monetário: \"))\n",
    "valor = valor*1.15\n",
    "print(\"Valor elevado em 15%: \",valor)"
   ]
  },
  {
   "cell_type": "markdown",
   "id": "6909c4aa",
   "metadata": {
    "hidden": true
   },
   "source": [
    "## Faça um programa que receba um valor monetário e diminua esse valor em 15%. "
   ]
  },
  {
   "cell_type": "code",
   "execution_count": 48,
   "id": "f699d541",
   "metadata": {
    "ExecuteTime": {
     "end_time": "2021-07-06T20:40:32.648704Z",
     "start_time": "2021-07-06T20:40:11.850259Z"
    },
    "hidden": true
   },
   "outputs": [
    {
     "name": "stdout",
     "output_type": "stream",
     "text": [
      "Insira o valor monetário: 100\n",
      "Valor diminuido em 15%:  85.0\n"
     ]
    }
   ],
   "source": [
    "valor = float(input(\"Insira o valor monetário: \"))\n",
    "valor = valor*0.85\n",
    "print(\"Valor diminuido em 15%: \",valor)"
   ]
  },
  {
   "cell_type": "code",
   "execution_count": null,
   "id": "ba4f052a",
   "metadata": {},
   "outputs": [],
   "source": []
  }
 ],
 "metadata": {
  "kernelspec": {
   "display_name": "Python 3",
   "language": "python",
   "name": "python3"
  },
  "language_info": {
   "codemirror_mode": {
    "name": "ipython",
    "version": 3
   },
   "file_extension": ".py",
   "mimetype": "text/x-python",
   "name": "python",
   "nbconvert_exporter": "python",
   "pygments_lexer": "ipython3",
   "version": "3.8.8"
  },
  "toc": {
   "base_numbering": 1,
   "nav_menu": {},
   "number_sections": true,
   "sideBar": true,
   "skip_h1_title": false,
   "title_cell": "Table of Contents",
   "title_sidebar": "Contents",
   "toc_cell": false,
   "toc_position": {
    "height": "calc(100% - 180px)",
    "left": "10px",
    "top": "150px",
    "width": "319px"
   },
   "toc_section_display": true,
   "toc_window_display": true
  },
  "varInspector": {
   "cols": {
    "lenName": 16,
    "lenType": 16,
    "lenVar": 40
   },
   "kernels_config": {
    "python": {
     "delete_cmd_postfix": "",
     "delete_cmd_prefix": "del ",
     "library": "var_list.py",
     "varRefreshCmd": "print(var_dic_list())"
    },
    "r": {
     "delete_cmd_postfix": ") ",
     "delete_cmd_prefix": "rm(",
     "library": "var_list.r",
     "varRefreshCmd": "cat(var_dic_list()) "
    }
   },
   "types_to_exclude": [
    "module",
    "function",
    "builtin_function_or_method",
    "instance",
    "_Feature"
   ],
   "window_display": false
  }
 },
 "nbformat": 4,
 "nbformat_minor": 5
}
