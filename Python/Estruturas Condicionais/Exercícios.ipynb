{
 "cells": [
  {
   "cell_type": "markdown",
   "metadata": {},
   "source": [
    "Escreva um programa que peça a nota de 3 provas de um aluno e mostre se ele passou ou não de ano.\n",
    "\n",
    "Obs.: O aluno irá passar de ano se a média das suas notas for maior ou igual a 6 (média é a soma das notas dividido pelo número de provas).\n"
   ]
  },
  {
   "cell_type": "code",
   "execution_count": 6,
   "metadata": {
    "ExecuteTime": {
     "end_time": "2021-07-07T21:06:59.469045Z",
     "start_time": "2021-07-07T21:06:54.886443Z"
    }
   },
   "outputs": [
    {
     "name": "stdout",
     "output_type": "stream",
     "text": [
      "Insira a nota da primeira prova:5\n",
      "Insira a nota da segunda prova:6\n",
      "Insira a nota da terceira prova:7\n",
      "Aprovado\n"
     ]
    }
   ],
   "source": [
    "p1 = float(input('Insira a nota da primeira prova:'))\n",
    "p2 = float(input('Insira a nota da segunda prova:'))\n",
    "p3 = float(input('Insira a nota da terceira prova:'))\n",
    "\n",
    "media = (p1 + p2 + p3)/3\n",
    "\n",
    "if (media >= 6):\n",
    "    print('Aprovado')\n",
    "else:\n",
    "    print('Reprovado')"
   ]
  },
  {
   "cell_type": "markdown",
   "metadata": {},
   "source": [
    "Faça um programa que mostre uma questão de múltipla escolha com 5 opções (letras a, b, c, d, e). Sabendo a resposta certa, o programa deve receber a opção do usuário e informar a letra que o usuário marcou e se a resposta está certa ou errada."
   ]
  },
  {
   "cell_type": "code",
   "execution_count": 10,
   "metadata": {
    "ExecuteTime": {
     "end_time": "2021-07-07T21:18:03.944406Z",
     "start_time": "2021-07-07T21:18:01.979035Z"
    }
   },
   "outputs": [
    {
     "name": "stdout",
     "output_type": "stream",
     "text": [
      "Quanto é 2 + 3?\n",
      "a) 0\n",
      "b) 5\n",
      "c) 100000\n",
      "d)-5413\n",
      "e) Qual era a pergunta mesmo?\n",
      "Insira a opção (a, b, c, d, e) correta:b\n",
      "Sua resposta: b\n",
      "Você acertou!\n"
     ]
    }
   ],
   "source": [
    "print('Quanto é 2 + 3?\\na) 0\\nb) 5\\nc) 100000\\nd) -5413\\ne) Qual era a pergunta mesmo?')\n",
    "resposta = input('Insira a opção (a, b, c, d, e) correta:')\n",
    "if (resposta == 'b'):\n",
    "    print('Sua resposta:', resposta, '\\nVocê acertou!')\n",
    "else:\n",
    "    print('Sua resposta:', resposta, '\\nVocê errou.')"
   ]
  },
  {
   "cell_type": "markdown",
   "metadata": {},
   "source": [
    "Vamos fazer um programa para verificar quem é o assassino de um crime. Para descobrir o assassino, a polícia faz um pequeno questionário com 5 perguntas onde a resposta só pode ser sim ou não:\n",
    "\n",
    "a. Mora perto da vítima?\n",
    "\n",
    "b. Já trabalhou com a vítima?\n",
    "\n",
    "c. Telefonou para a vítima?\n",
    "\n",
    "d. Esteve no local do crime?\n",
    "\n",
    "e. Devia para a vítima?\n",
    "\n",
    "Cada resposta sim dá um ponto para o suspeito. A polícia considera que os suspeitos com 5 pontos são os assassinos, com 4 a 3 pontos são cúmplices e 2 pontos são apenas suspeitos, necessitando outras investigações. Valores abaixo de 1 são liberados."
   ]
  },
  {
   "cell_type": "code",
   "execution_count": 16,
   "metadata": {
    "ExecuteTime": {
     "end_time": "2021-07-07T21:36:37.646573Z",
     "start_time": "2021-07-07T21:36:30.466397Z"
    }
   },
   "outputs": [
    {
     "name": "stdout",
     "output_type": "stream",
     "text": [
      "Responda as perguntas com \"sim\" ou \"não\"\n",
      "Mora perto da vítima?n\n",
      "Já trabalhou com a vítima?n\n",
      "Telefonou para a vítima?n\n",
      "Esteve no local do crime?n\n",
      "Devia para a vítima?n\n",
      "Liberado\n"
     ]
    }
   ],
   "source": [
    "print('Responda as perguntas com \"sim\" ou \"não\"')\n",
    "a = input('Mora perto da vítima?')\n",
    "b = input('Já trabalhou com a vítima?')\n",
    "c = input('Telefonou para a vítima?')\n",
    "d = input('Esteve no local do crime?')\n",
    "e = input('Devia para a vítima?')\n",
    "\n",
    "pontos = 0\n",
    "if (a == 'Sim') or (a == 'sim'):\n",
    "    pontos = 1\n",
    "if (b == 'Sim') or (b == 'sim'):\n",
    "    pontos = pontos + 1\n",
    "if (c == 'Sim') or (c == 'sim'):\n",
    "    pontos = pontos + 1\n",
    "if (d == 'Sim') or (d == 'sim'):\n",
    "    pontos = pontos + 1\n",
    "if (e == 'Sim') or (e == 'sim'):\n",
    "    pontos = pontos + 1\n",
    "\n",
    "if (pontos == 5):\n",
    "    print('Prenda o assassino!')\n",
    "elif (pontos >= 3):\n",
    "    print('Cúmplice')\n",
    "elif (pontos == 2):\n",
    "    print('Suspeito')\n",
    "else:\n",
    "    print('Liberado')"
   ]
  },
  {
   "cell_type": "markdown",
   "metadata": {},
   "source": [
    "Faça um programa em que o usuário tem que adivinhar o número escolhido pelo computador. O computador deve sortear um número inteiro de 1 a 5 e pedir para o usuário tentar descobrir qual o número sorteado. Após o usuário digitar sua resposta, o programa deve dizer se ele acertou ou não. Dica: para sortear um número, você precisará utilizar a biblioteca random.\n"
   ]
  },
  {
   "cell_type": "code",
   "execution_count": 5,
   "metadata": {
    "ExecuteTime": {
     "end_time": "2021-07-08T15:32:30.809987Z",
     "start_time": "2021-07-08T15:32:28.370803Z"
    }
   },
   "outputs": [
    {
     "name": "stdout",
     "output_type": "stream",
     "text": [
      "Qual número, entre 1 a 5, você acha que escolhi? 1\n",
      "Você errou, era 3\n"
     ]
    }
   ],
   "source": [
    "import random as rd\n",
    "x = rd.randint(1, 5)\n",
    "y = int(input('Qual número, entre 1 a 5, você acha que escolhi? '))\n",
    "if (x == y):\n",
    "    print('Acertou!')\n",
    "else:\n",
    "    print('Você errou, era', x)"
   ]
  },
  {
   "cell_type": "markdown",
   "metadata": {},
   "source": [
    "Vamos fazer um radar eletrônico de velocidade. Faça um programa que leia a velocidade de um carro, e diga se ele está acima ou não da velocidade permitida de 50 km/h. Se o carro estiver acima da velocidade, o programa deve imprimir que o motorista ultrapassou a velocidade permitida e recebeu uma multa num determinado valor. Para calcular o valor da multa, considere que para cada quilômetro acima da velocidade permitida, o motorista deve pagar 10 reais."
   ]
  },
  {
   "cell_type": "code",
   "execution_count": 4,
   "metadata": {
    "ExecuteTime": {
     "end_time": "2021-07-08T15:35:50.561388Z",
     "start_time": "2021-07-08T15:35:48.404549Z"
    }
   },
   "outputs": [
    {
     "name": "stdout",
     "output_type": "stream",
     "text": [
      "Velocidade medida: 51\n",
      "Velocidade acima do permitido. Multa de R$ 10.0\n"
     ]
    }
   ],
   "source": [
    "v = float(input('Velocidade medida: '))\n",
    "multa = 0.0\n",
    "delta = 0.0\n",
    "\n",
    "if (v > 50):\n",
    "    delta = v - 50\n",
    "    multa = 10*delta\n",
    "    print(\"Velocidade acima do permitido. Multa de R$\", multa)\n",
    "else:\n",
    "    print(\"Sem multa emitida, velocidade medida até 50 km/h\")"
   ]
  },
  {
   "cell_type": "markdown",
   "metadata": {},
   "source": [
    "Com a recomendação que as pessoas fiquem em casa e evitem aglomerações como medida pra frear a contaminação pelo coronavírus, como saber quando devemos procurar um hospital? Faça um programa que pergunte os sintomas que a pessoa apresenta e responda se ela deve ou não procurar um hospital.\n",
    "\n",
    "Sintomas: a. Você tem febre persistente? b. Você tem dificuldade para respirar?\n",
    "\n",
    "A resposta do programa deve seguir a seguinte tabela:\n",
    "\n",
    "A\tB\tResultado\n",
    "Sim\tNão\tFique em casa\n",
    "Não\tSim\tFique em casa\n",
    "Não\tNão\tFique em casa\n",
    "Sim\tSim\tProcure um hospital\n"
   ]
  },
  {
   "cell_type": "code",
   "execution_count": 7,
   "metadata": {
    "ExecuteTime": {
     "end_time": "2021-07-08T15:40:50.028484Z",
     "start_time": "2021-07-08T15:40:45.809583Z"
    }
   },
   "outputs": [
    {
     "name": "stdout",
     "output_type": "stream",
     "text": [
      "Responda as perguntas com \"sim\" ou \"não\"\n",
      "Você tem febre persistente?sim\n",
      "Você tem dificuldade para respirar?não\n",
      "Fique em casa\n"
     ]
    }
   ],
   "source": [
    "print('Responda as perguntas com \"sim\" ou \"não\"')\n",
    "a = input('Você tem febre persistente?')\n",
    "b = input('Você tem dificuldade para respirar?')\n",
    "\n",
    "if (a == 'Sim'):\n",
    "    a = 'sim'\n",
    "if (b == 'Sim'):\n",
    "    b = 'sim'\n",
    "    \n",
    "if (a == \"sim\") & (b == \"sim\"):\n",
    "    print('Procure um hospital')\n",
    "else:\n",
    "    print('Fique em casa')"
   ]
  }
 ],
 "metadata": {
  "kernelspec": {
   "display_name": "Python 3",
   "language": "python",
   "name": "python3"
  },
  "language_info": {
   "codemirror_mode": {
    "name": "ipython",
    "version": 3
   },
   "file_extension": ".py",
   "mimetype": "text/x-python",
   "name": "python",
   "nbconvert_exporter": "python",
   "pygments_lexer": "ipython3",
   "version": "3.7.0"
  },
  "toc": {
   "base_numbering": 1,
   "nav_menu": {},
   "number_sections": true,
   "sideBar": true,
   "skip_h1_title": false,
   "title_cell": "Table of Contents",
   "title_sidebar": "Contents",
   "toc_cell": false,
   "toc_position": {},
   "toc_section_display": true,
   "toc_window_display": false
  }
 },
 "nbformat": 4,
 "nbformat_minor": 2
}
