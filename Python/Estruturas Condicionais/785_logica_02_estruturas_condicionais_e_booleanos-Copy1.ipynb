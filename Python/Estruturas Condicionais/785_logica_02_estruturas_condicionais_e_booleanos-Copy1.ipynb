{
 "cells": [
  {
   "cell_type": "markdown",
   "id": "ddb1f5f9",
   "metadata": {},
   "source": [
    "# Revisão"
   ]
  },
  {
   "cell_type": "markdown",
   "id": "024b731d",
   "metadata": {
    "heading_collapsed": true
   },
   "source": [
    "# Aula 2 - operadores lógicos e estruturas condicionais"
   ]
  },
  {
   "cell_type": "markdown",
   "id": "f7e4df17",
   "metadata": {
    "hidden": true
   },
   "source": [
    "Na aula de hoje, vamos explorar os seguintes tópicos em Python:\n",
    "\n",
    "- 1) Operadores lógicos;\n",
    "- 2) Estruturas condicionais."
   ]
  },
  {
   "cell_type": "markdown",
   "id": "c38644f2",
   "metadata": {
    "heading_collapsed": true
   },
   "source": [
    "# Habilidades a serem desenvolvidas"
   ]
  },
  {
   "cell_type": "markdown",
   "id": "efba729e",
   "metadata": {
    "hidden": true
   },
   "source": [
    "Ao final da aula o aluno deve:\n",
    "\n",
    "- Saber o conceito de operações lógicas e o seu resultado (True/False);\n",
    "- Saber interpretar e utilizar os operadores de comparação;\n",
    "- Saber interpretar e uitlizar os operadores de conjunção;\n",
    "- Saber formular expressões lógicas;\n",
    "- Saber formular expressões condicionais, articulando corretamente as expressões lógicas."
   ]
  },
  {
   "cell_type": "markdown",
   "id": "7bbe923d",
   "metadata": {
    "heading_collapsed": true
   },
   "source": [
    "# Operadores lógicos"
   ]
  },
  {
   "cell_type": "markdown",
   "id": "047a1ba5",
   "metadata": {
    "hidden": true
   },
   "source": [
    "## Comparação\n",
    "\n",
    "Em muitos problemas de programação, há necessidade de se fazer **comparações** entre variáveis.\n",
    "\n",
    "Por exemplo:\n",
    "\n",
    "- checar se um número é maior que outro;\n",
    "- checar se uma variável é igual a outra;\n",
    "- checar se há números diferentes; etc.\n",
    "\n",
    "Para fazer essas comparações, utilizamos os **operadores lógicos de comparação**. Em Python, há 6 desses operadores:\n",
    "\n",
    "- Maior que: >\n",
    "- Maior ou igual: >=\n",
    "- Menor que: <\n",
    "- Menor ou igual: <=\n",
    "- Igual: ==\n",
    "- Diferente: !=\n",
    "\n",
    "O resultado de uma comparação sempre vai ser um booleano, isto é, **True** ou **False**!\n",
    "\n",
    "Dica: sempre leia as comparações como uma **pergunta**\n",
    "\n",
    "- Ex: \"numero < 100\", leia: \"o valor na variável numero é menor que 100?\"\n",
    "\n",
    "Os operadores de comparação são destacados em **roxo** no Jupyter"
   ]
  },
  {
   "cell_type": "code",
   "execution_count": 1,
   "id": "7c81ce70",
   "metadata": {
    "hidden": true
   },
   "outputs": [],
   "source": [
    "# definindo a variável \"numero\" que recebe o inteiro \"10\"\n",
    "\n",
    "numero = 10"
   ]
  },
  {
   "cell_type": "code",
   "execution_count": 2,
   "id": "da260a74",
   "metadata": {
    "hidden": true
   },
   "outputs": [
    {
     "data": {
      "text/plain": [
       "True"
      ]
     },
     "execution_count": 2,
     "metadata": {},
     "output_type": "execute_result"
    }
   ],
   "source": [
    "numero < 100"
   ]
  },
  {
   "cell_type": "code",
   "execution_count": 3,
   "id": "0549f793",
   "metadata": {
    "hidden": true
   },
   "outputs": [
    {
     "data": {
      "text/plain": [
       "False"
      ]
     },
     "execution_count": 3,
     "metadata": {},
     "output_type": "execute_result"
    }
   ],
   "source": [
    "numero == 100"
   ]
  },
  {
   "cell_type": "code",
   "execution_count": 4,
   "id": "be99988f",
   "metadata": {
    "hidden": true
   },
   "outputs": [
    {
     "data": {
      "text/plain": [
       "True"
      ]
     },
     "execution_count": 4,
     "metadata": {},
     "output_type": "execute_result"
    }
   ],
   "source": [
    "10 != 100"
   ]
  },
  {
   "cell_type": "code",
   "execution_count": 5,
   "id": "a86d1ef4",
   "metadata": {
    "hidden": true
   },
   "outputs": [
    {
     "data": {
      "text/plain": [
       "True"
      ]
     },
     "execution_count": 5,
     "metadata": {},
     "output_type": "execute_result"
    }
   ],
   "source": [
    "10.0 == 10"
   ]
  },
  {
   "cell_type": "markdown",
   "id": "71bdb5ff",
   "metadata": {
    "hidden": true
   },
   "source": [
    "A comparação pode ser feita entre duas variáveis, também:"
   ]
  },
  {
   "cell_type": "code",
   "execution_count": 6,
   "id": "b3aaf07a",
   "metadata": {
    "hidden": true
   },
   "outputs": [
    {
     "data": {
      "text/plain": [
       "True"
      ]
     },
     "execution_count": 6,
     "metadata": {},
     "output_type": "execute_result"
    }
   ],
   "source": [
    "# definindo uma nova variável\n",
    "\n",
    "numero2 = 100\n",
    "\n",
    "# o valor na variavel \"numero\" é menor que o valor na variavel \"numero2\"?\n",
    "# ou seja, 10 é menor que 100?\n",
    "\n",
    "numero < numero2"
   ]
  },
  {
   "cell_type": "code",
   "execution_count": 7,
   "id": "4c96b236",
   "metadata": {
    "hidden": true
   },
   "outputs": [
    {
     "data": {
      "text/plain": [
       "True"
      ]
     },
     "execution_count": 7,
     "metadata": {},
     "output_type": "execute_result"
    }
   ],
   "source": [
    "10 < 100"
   ]
  },
  {
   "cell_type": "markdown",
   "id": "8355fedc",
   "metadata": {
    "hidden": true
   },
   "source": [
    "Podemos também comparar strings!"
   ]
  },
  {
   "cell_type": "code",
   "execution_count": 8,
   "id": "02bfe791",
   "metadata": {
    "hidden": true
   },
   "outputs": [],
   "source": [
    "cumprimento = \"olá, mundo\""
   ]
  },
  {
   "cell_type": "code",
   "execution_count": 9,
   "id": "41e8e121",
   "metadata": {
    "hidden": true
   },
   "outputs": [
    {
     "data": {
      "text/plain": [
       "True"
      ]
     },
     "execution_count": 9,
     "metadata": {},
     "output_type": "execute_result"
    }
   ],
   "source": [
    "# pra igualdade existir, tem que haver uma correspondência EXATA entre as strings!\n",
    "\n",
    "cumprimento == \"olá, mundo\""
   ]
  },
  {
   "cell_type": "code",
   "execution_count": 10,
   "id": "830bffea",
   "metadata": {
    "hidden": true
   },
   "outputs": [
    {
     "data": {
      "text/plain": [
       "True"
      ]
     },
     "execution_count": 10,
     "metadata": {},
     "output_type": "execute_result"
    }
   ],
   "source": [
    "# qualquer diferença, por mínima que seja, torna a igualdade falsa!\n",
    "\n",
    "cumprimento != \"olá,mundo \""
   ]
  },
  {
   "cell_type": "markdown",
   "id": "074fc7d8",
   "metadata": {
    "hidden": true
   },
   "source": [
    "Os operadores >, >=, <, <= atuam comparando **ordem alfabética** quando aplicados a strings.\n",
    "\n",
    "(Obs.: se surgir interesse, mencionar aqui sobre a tabela ASCII e como de fato ocorre a comparação de ordem entre strings)"
   ]
  },
  {
   "cell_type": "code",
   "execution_count": 11,
   "id": "acfbc606",
   "metadata": {
    "hidden": true
   },
   "outputs": [
    {
     "data": {
      "text/plain": [
       "False"
      ]
     },
     "execution_count": 11,
     "metadata": {},
     "output_type": "execute_result"
    }
   ],
   "source": [
    "\"abacaxi\" > \"caju\""
   ]
  },
  {
   "cell_type": "code",
   "execution_count": 12,
   "id": "b5e15a8c",
   "metadata": {
    "hidden": true
   },
   "outputs": [
    {
     "data": {
      "text/plain": [
       "True"
      ]
     },
     "execution_count": 12,
     "metadata": {},
     "output_type": "execute_result"
    }
   ],
   "source": [
    "\"1abacaxi\" < \"abacaxi\""
   ]
  },
  {
   "cell_type": "code",
   "execution_count": 13,
   "id": "dd2f4bf6",
   "metadata": {
    "hidden": true
   },
   "outputs": [
    {
     "data": {
      "text/plain": [
       "True"
      ]
     },
     "execution_count": 13,
     "metadata": {},
     "output_type": "execute_result"
    }
   ],
   "source": [
    "\"9\" < \"a\""
   ]
  },
  {
   "cell_type": "markdown",
   "id": "170451be",
   "metadata": {
    "hidden": true
   },
   "source": [
    "Podemos fazer comparação entre **tipos numéricos** diferentes (int e float):"
   ]
  },
  {
   "cell_type": "code",
   "execution_count": 14,
   "id": "4a5f2c59",
   "metadata": {
    "hidden": true
   },
   "outputs": [
    {
     "name": "stdout",
     "output_type": "stream",
     "text": [
      "True\n",
      "False\n",
      "True\n"
     ]
    }
   ],
   "source": [
    "# definindo dois numeros\n",
    "num1 = 3\n",
    "num2 = 3.14\n",
    "\n",
    "# o num1 é menor que num2?\n",
    "# ou seja, 3 é menor que 3.14?\n",
    "print(num1 < num2)\n",
    "\n",
    "# o num1 é maior que num2?\n",
    "# ou seja, 3 é maior que 3.14?\n",
    "print(num1 > num2)\n",
    "\n",
    "# as variáveis são diferentes?\n",
    "print(num1 != num2)"
   ]
  },
  {
   "cell_type": "markdown",
   "id": "d0466468",
   "metadata": {
    "hidden": true
   },
   "source": [
    "Mas comparações entre string e tipos numéricos são possíveis **apenas para == e !=**:\n"
   ]
  },
  {
   "cell_type": "code",
   "execution_count": 15,
   "id": "8cd70ba4",
   "metadata": {
    "hidden": true
   },
   "outputs": [],
   "source": [
    "# definindo uma string e um int\n",
    "nome = \"andré\"\n",
    "altura = 1.80"
   ]
  },
  {
   "cell_type": "code",
   "execution_count": 16,
   "id": "aa91f182",
   "metadata": {
    "hidden": true
   },
   "outputs": [
    {
     "data": {
      "text/plain": [
       "True"
      ]
     },
     "execution_count": 16,
     "metadata": {},
     "output_type": "execute_result"
    }
   ],
   "source": [
    "nome != altura"
   ]
  },
  {
   "cell_type": "code",
   "execution_count": 17,
   "id": "d5833010",
   "metadata": {
    "hidden": true
   },
   "outputs": [
    {
     "data": {
      "text/plain": [
       "True"
      ]
     },
     "execution_count": 17,
     "metadata": {},
     "output_type": "execute_result"
    }
   ],
   "source": [
    "int(\"1\") == 1"
   ]
  },
  {
   "cell_type": "code",
   "execution_count": 18,
   "id": "3a6a9223",
   "metadata": {
    "hidden": true
   },
   "outputs": [
    {
     "data": {
      "text/plain": [
       "False"
      ]
     },
     "execution_count": 18,
     "metadata": {},
     "output_type": "execute_result"
    }
   ],
   "source": [
    "\"1\" == 49"
   ]
  },
  {
   "cell_type": "code",
   "execution_count": 19,
   "id": "aa65df48",
   "metadata": {
    "hidden": true
   },
   "outputs": [
    {
     "data": {
      "text/plain": [
       "49"
      ]
     },
     "execution_count": 19,
     "metadata": {},
     "output_type": "execute_result"
    }
   ],
   "source": [
    "ord(\"1\")"
   ]
  },
  {
   "cell_type": "code",
   "execution_count": 20,
   "id": "db01c7f2",
   "metadata": {
    "hidden": true
   },
   "outputs": [
    {
     "ename": "TypeError",
     "evalue": "'>' not supported between instances of 'str' and 'int'",
     "output_type": "error",
     "traceback": [
      "\u001b[1;31m---------------------------------------------------------------------------\u001b[0m",
      "\u001b[1;31mTypeError\u001b[0m                                 Traceback (most recent call last)",
      "\u001b[1;32m<ipython-input-20-ea00c47041c3>\u001b[0m in \u001b[0;36m<module>\u001b[1;34m\u001b[0m\n\u001b[1;32m----> 1\u001b[1;33m \u001b[1;34m\"andre\"\u001b[0m \u001b[1;33m>\u001b[0m \u001b[1;36m5\u001b[0m\u001b[1;33m\u001b[0m\u001b[1;33m\u001b[0m\u001b[0m\n\u001b[0m",
      "\u001b[1;31mTypeError\u001b[0m: '>' not supported between instances of 'str' and 'int'"
     ]
    }
   ],
   "source": [
    "\"andre\" > 5"
   ]
  },
  {
   "cell_type": "markdown",
   "id": "b91e3611",
   "metadata": {
    "hidden": true
   },
   "source": [
    "O erro acima aconteceu porque **não é possível comparar a orderm (usando >, >=, <, <=)** de variáveis numéricas e strings!"
   ]
  },
  {
   "cell_type": "markdown",
   "id": "3effcc0e",
   "metadata": {
    "hidden": true
   },
   "source": [
    "## Conjunção \n",
    "\n",
    "Além dos operadores lógicos de comparação, também temos os **operadores lógicos de conjunção**, que são utilizados pra fazer uma **combinação** entre comparações. \n",
    "\n",
    "Os operadores de conjunção são: **and** e **or**, e eles seguem a seguinte regra:\n",
    "\n",
    "- **and** só é True se **ambas** as comparações forem True:\n",
    "    - False and True resulta em \"False\"\n",
    "    - False and False resulta em \"False\"\n",
    "    - True and True resulta em \"True\"\n",
    "- **or** é True se **pelo menos uma** das comparações for True:\n",
    "    - False or True resulta em \"True\"\n",
    "    - True or True resulta em \"True\"\n",
    "    - False or False resulta em \"False\"\n",
    "\n",
    "Os operadores de conjunção são destacados em **verde escuro** no Jupyter"
   ]
  },
  {
   "cell_type": "code",
   "execution_count": 21,
   "id": "52314e1d",
   "metadata": {
    "hidden": true
   },
   "outputs": [
    {
     "name": "stdout",
     "output_type": "stream",
     "text": [
      "Operador and:\n",
      "False\n",
      "False\n",
      "True\n"
     ]
    }
   ],
   "source": [
    "print(\"Operador and:\")\n",
    "print(True and False)\n",
    "print(False and False)\n",
    "print(True and True)"
   ]
  },
  {
   "cell_type": "code",
   "execution_count": 22,
   "id": "14fc4af3",
   "metadata": {
    "hidden": true
   },
   "outputs": [
    {
     "data": {
      "text/plain": [
       "False"
      ]
     },
     "execution_count": 22,
     "metadata": {},
     "output_type": "execute_result"
    }
   ],
   "source": [
    "# True and False, resulta em False\n",
    "\n",
    "(2 < 5) and (2 == 5)"
   ]
  },
  {
   "cell_type": "code",
   "execution_count": 23,
   "id": "09f52591",
   "metadata": {
    "hidden": true
   },
   "outputs": [
    {
     "data": {
      "text/plain": [
       "True"
      ]
     },
     "execution_count": 23,
     "metadata": {},
     "output_type": "execute_result"
    }
   ],
   "source": [
    "# True and True, resulta em True\n",
    "\n",
    "(2 < 5) and (2 != 5)"
   ]
  },
  {
   "cell_type": "code",
   "execution_count": 24,
   "id": "de550acc",
   "metadata": {
    "hidden": true
   },
   "outputs": [
    {
     "name": "stdout",
     "output_type": "stream",
     "text": [
      "Operador or:\n",
      "True\n",
      "True\n",
      "False\n"
     ]
    }
   ],
   "source": [
    "print(\"Operador or:\")\n",
    "print(False or True)\n",
    "print(True or True)\n",
    "print(False or False)"
   ]
  },
  {
   "cell_type": "code",
   "execution_count": 25,
   "id": "38397514",
   "metadata": {
    "hidden": true
   },
   "outputs": [
    {
     "data": {
      "text/plain": [
       "True"
      ]
     },
     "execution_count": 25,
     "metadata": {},
     "output_type": "execute_result"
    }
   ],
   "source": [
    "# True or False, resulta em True\n",
    "\n",
    "(2 < 5) or (2 == 5)"
   ]
  },
  {
   "cell_type": "code",
   "execution_count": 26,
   "id": "5b9f3cdf",
   "metadata": {
    "hidden": true
   },
   "outputs": [
    {
     "data": {
      "text/plain": [
       "False"
      ]
     },
     "execution_count": 26,
     "metadata": {},
     "output_type": "execute_result"
    }
   ],
   "source": [
    "# False or False, resulta em False\n",
    "\n",
    "(2 > 5) or (2 == 5)"
   ]
  },
  {
   "cell_type": "markdown",
   "id": "b2e31360",
   "metadata": {
    "hidden": true
   },
   "source": [
    "Se tivermos mais de duas comparações pra fazer conjunção, é melhor usarmos parênteses.\n",
    "\n",
    "Primeiro a conjunção entre parênteses é feita, e depois o resultado é usado pra avaliar a conjunção total"
   ]
  },
  {
   "cell_type": "code",
   "execution_count": 27,
   "id": "240d8372",
   "metadata": {
    "hidden": true
   },
   "outputs": [
    {
     "data": {
      "text/plain": [
       "False"
      ]
     },
     "execution_count": 27,
     "metadata": {},
     "output_type": "execute_result"
    }
   ],
   "source": [
    "# definindo uma variável numérica\n",
    "\n",
    "# (True or False) and False\n",
    "# (True) and False \n",
    "# False\n",
    "\n",
    "(2 == 2 or 10 == \"andre\") and 4.2 < -10"
   ]
  },
  {
   "cell_type": "markdown",
   "id": "df2f027b",
   "metadata": {
    "heading_collapsed": true
   },
   "source": [
    "# Estruturas condicionais\n"
   ]
  },
  {
   "cell_type": "markdown",
   "id": "2f7f2325",
   "metadata": {
    "hidden": true
   },
   "source": [
    "\n",
    "O principal uso dos operadores lógicos é em **estruturas condicionais**\n",
    "\n",
    "Esse tipo de estrutura é utilizada para tratar casos diferentes dentro do código\n",
    "\n",
    "Os **operadores condicionais** são: **if**, **elif** e **else**\n",
    "\n",
    "- **if**: Se uma condição for verdadeira, faça determinada operação.\n",
    "- **elif**: Se a condição acima for falsa, avalie uma próxima condição, e se essa for verdadeira, faça outra operação\n",
    "- **else**: Se nenhuma das condições acima for verdadeira, faça outra coisa\n",
    "\n",
    "O uso de elif e else **não** é obrigatório! (Mas é muitas vezes conveniente!)\n",
    "\n",
    "As estruturas de repetição aparecem em **blocos identados (com \"tab\") após dois pontos**, na seguinte estrutura:\n",
    "\n",
    "```python\n",
    "if (condicao é True):\n",
    "    operacoes\n",
    "elif (condicao é True):\n",
    "    operacoes\n",
    "else:\n",
    "    operacoes\n",
    "```\n",
    "\n",
    "- Se alguma condição no if ou elif for verdadeira, todo o resto é ignorado!\n",
    "- Por isso, as condições no if e os diferentes elifs sempre são **excludentes**\n",
    "\n",
    "Os operadores condicionais são destacados em **verde escuro** no Jupyter\n"
   ]
  },
  {
   "cell_type": "markdown",
   "id": "79f908b5",
   "metadata": {
    "hidden": true
   },
   "source": [
    "**Exemplo**: imagine que uma escola tem o seguinte critério de avaliação baseado na média do aluno:\n",
    "\n",
    "- se a média for maior ou igual a 5, o aluno é aprovado;\n",
    "- caso contrário, o aluno é reptrovado\n"
   ]
  },
  {
   "cell_type": "code",
   "execution_count": 2,
   "id": "c7d37823",
   "metadata": {
    "hidden": true
   },
   "outputs": [
    {
     "name": "stdout",
     "output_type": "stream",
     "text": [
      "Reprovado!\n"
     ]
    }
   ],
   "source": [
    "# defina a media\n",
    "media = 4\n",
    "\n",
    "# determina a lógica para aprovação ou reprovação\n",
    "\n",
    "if (media >= 5):\n",
    "    \n",
    "    print(\"Aprovado!\")\n",
    "\n",
    "else:\n",
    "    \n",
    "    print(\"Reprovado!\")"
   ]
  },
  {
   "cell_type": "markdown",
   "id": "683a024d",
   "metadata": {
    "hidden": true
   },
   "source": [
    "Também podemos usar o elif, embora não seja necessário, dado que a condição `media >= 5` é única"
   ]
  },
  {
   "cell_type": "code",
   "execution_count": 3,
   "id": "65a27316",
   "metadata": {
    "hidden": true
   },
   "outputs": [
    {
     "name": "stdout",
     "output_type": "stream",
     "text": [
      "Reprovado\n"
     ]
    }
   ],
   "source": [
    "# mesmo código usando elif\n",
    "\n",
    "media = 4\n",
    "\n",
    "if media >= 5:\n",
    "    \n",
    "    print(\"Aprovado\")\n",
    "    \n",
    "elif media < 5:\n",
    "    \n",
    "    print(\"Reprovado\")"
   ]
  },
  {
   "cell_type": "markdown",
   "id": "17f2fd02",
   "metadata": {
    "hidden": true
   },
   "source": [
    "**Exemplo**: imagine que uma escola tem o seguinte critério de avaliação baseado na **media** do aluno e em sua **frequência**\n",
    "\n",
    "- regra 1: se a média for maior ou igal a 9, o aluno é aprovado, independente da frequencia;\n",
    "- regra 2: se a média estiver entre 6 e 9, o aluno só é aprovado se a frequencia for maior ou igual a 75%\n",
    "- regra 3: se a média estiver entre 6 e 9, mas a frequencia for menor que 75%, ele vai pra recuperação\n",
    "- regra 4: se a média for menor que 6 e a frequencia do aluno for maior ou igual a 75%, ele pode fazer recuperação\n",
    "- regra 5: se a média for menor que 6 e a frequência do aluno for menor que a 75%, ele é automaticamente reprovado\n",
    "\n",
    "Como implementamos este algoritmo?"
   ]
  },
  {
   "cell_type": "code",
   "execution_count": 5,
   "id": "2895dd1c",
   "metadata": {
    "hidden": true
   },
   "outputs": [
    {
     "name": "stdout",
     "output_type": "stream",
     "text": [
      "Qual é a média do aluno? 9\n",
      "Qual é a frequencia do aluno? (digite sem o %) 65\n",
      "Aluno aprovado!\n"
     ]
    }
   ],
   "source": [
    "# vamos perguntar a média pro professor\n",
    "media = float(input(\"Qual é a média do aluno? \"))\n",
    "\n",
    "# e também a frequência\n",
    "frequencia = float(input(\"Qual é a frequencia do aluno? (digite sem o %) \"))\n",
    "\n",
    "# regra 1\n",
    "if media >= 9:\n",
    "    \n",
    "    print(\"Aluno aprovado!\")\n",
    "\n",
    "# regra 2\n",
    "elif (media >= 6) and (frequencia >= 75):\n",
    "    \n",
    "    print(\"Aluno aprovado!\")\n",
    "\n",
    "    \n",
    "# regra 3\n",
    "elif (media >= 6) and (frequencia < 75):\n",
    "    \n",
    "    print(\"Aluno de recuperação\")\n",
    "\n",
    "    \n",
    "# regra 4\n",
    "elif (media < 6) and (frequencia >= 75):\n",
    "    \n",
    "    print(\"Aluno de recuperação\")\n",
    "    \n",
    "# regra 5\n",
    "else:\n",
    "    \n",
    "    print(\"Aluno reprovado\")\n"
   ]
  },
  {
   "cell_type": "code",
   "execution_count": null,
   "id": "71d139ac",
   "metadata": {
    "hidden": true
   },
   "outputs": [],
   "source": []
  }
 ],
 "metadata": {
  "kernelspec": {
   "display_name": "Python 3",
   "language": "python",
   "name": "python3"
  },
  "language_info": {
   "codemirror_mode": {
    "name": "ipython",
    "version": 3
   },
   "file_extension": ".py",
   "mimetype": "text/x-python",
   "name": "python",
   "nbconvert_exporter": "python",
   "pygments_lexer": "ipython3",
   "version": "3.8.8"
  },
  "toc": {
   "base_numbering": 1,
   "nav_menu": {},
   "number_sections": true,
   "sideBar": true,
   "skip_h1_title": false,
   "title_cell": "Table of Contents",
   "title_sidebar": "Contents",
   "toc_cell": false,
   "toc_position": {},
   "toc_section_display": true,
   "toc_window_display": true
  },
  "varInspector": {
   "cols": {
    "lenName": 16,
    "lenType": 16,
    "lenVar": 40
   },
   "kernels_config": {
    "python": {
     "delete_cmd_postfix": "",
     "delete_cmd_prefix": "del ",
     "library": "var_list.py",
     "varRefreshCmd": "print(var_dic_list())"
    },
    "r": {
     "delete_cmd_postfix": ") ",
     "delete_cmd_prefix": "rm(",
     "library": "var_list.r",
     "varRefreshCmd": "cat(var_dic_list()) "
    }
   },
   "types_to_exclude": [
    "module",
    "function",
    "builtin_function_or_method",
    "instance",
    "_Feature"
   ],
   "window_display": false
  }
 },
 "nbformat": 4,
 "nbformat_minor": 5
}
