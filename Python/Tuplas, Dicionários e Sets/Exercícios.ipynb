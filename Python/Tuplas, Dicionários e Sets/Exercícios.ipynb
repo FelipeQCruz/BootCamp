{
 "cells": [
  {
   "cell_type": "markdown",
   "metadata": {},
   "source": [
    "Crie uma tupla com todos os pares entre 0 e 100 (inclusive).\n",
    "\n"
   ]
  },
  {
   "cell_type": "code",
   "execution_count": 15,
   "metadata": {},
   "outputs": [
    {
     "name": "stdout",
     "output_type": "stream",
     "text": [
      "(0, 2, 4, 6, 8, 10, 12, 14, 16, 18, 20, 22, 24, 26, 28, 30, 32, 34, 36, 38, 40, 42, 44, 46, 48, 50, 52, 54, 56, 58, 60, 62, 64, 66, 68, 70, 72, 74, 76, 78, 80, 82, 84, 86, 88, 90, 92, 94, 96, 98, 100)\n"
     ]
    }
   ],
   "source": [
    "i = 0\n",
    "lista = []\n",
    "listaAux = []\n",
    "\n",
    "while i <= 100:\n",
    "    lista.append(i)\n",
    "    i = i + 2\n",
    "    \n",
    "tupla = tuple(lista)\n",
    "print(tupla)"
   ]
  },
  {
   "cell_type": "markdown",
   "metadata": {},
   "source": [
    "Crie uma tupla com todos os números de 0 a 9. Explore a sintaxe: use e depois não use parênteses.\n",
    "\n"
   ]
  },
  {
   "cell_type": "markdown",
   "metadata": {},
   "source": [
    "# Com parênteses\n",
    "tuplaCP = (0, 1, 2, 3, 4, 5, 6, 7, 8, 9)\n",
    "\n",
    "# Sem parênteses\n",
    "tuplaSP = 0, 1, 2, 3, 4, 5, 6, 7, 8, 9\n",
    "\n",
    "print(f'Tupla com parênteses: {tuplaCP}\\nTupla sem parênteses: {tuplaSP}')"
   ]
  },
  {
   "cell_type": "markdown",
   "metadata": {},
   "source": [
    "Crie uma função que recebe uma lista de números e devolve, nesta ordem, o mínimo, a média, o desvio padrão e o máximo.\n",
    "\n",
    "Dica: Use a biblioteca statistics (import statistics) para calcular o desvio padrão: desvio = statistics.stdev(lista)"
   ]
  },
  {
   "cell_type": "code",
   "execution_count": 18,
   "metadata": {},
   "outputs": [
    {
     "name": "stdout",
     "output_type": "stream",
     "text": [
      "A lista gerada:['55.87', '91.16'] \n",
      "O valor mínimo: 55.87\n",
      "A média: 73.52\n",
      "O desvio padrão: 24.95\n",
      "O máximo: 91.16\n"
     ]
    }
   ],
   "source": [
    "import statistics as sta\n",
    "import random as rd\n",
    "\n",
    "# Criando uma lista aleatória\n",
    "lista = []\n",
    "tamanho = rd.randint(1, 10)\n",
    "i = 0\n",
    "\n",
    "while i <= tamanho:\n",
    "    lista.append(rd.uniform(0, 100))\n",
    "    i = i + 1\n",
    "\n",
    "minimo = min(lista)\n",
    "\n",
    "media = sum(lista) / len(lista)\n",
    "\n",
    "desvio = sta.stdev(lista)\n",
    "\n",
    "maximo = max(lista)\n",
    "\n",
    "formataLista = [ '%.2f' % num for num in lista ]\n",
    "\n",
    "print(f'A lista gerada:{formataLista} \\nO valor mínimo: {minimo:.2f}\\nA média: {media:.2f}\\nO desvio padrão: {desvio:.2f}\\nO máximo: {maximo:.2f}')"
   ]
  },
  {
   "cell_type": "markdown",
   "metadata": {},
   "source": [
    "Crie uma função que recebe uma lista e retorna True se todos os seus elementos forem numéricos (int, float ou string contendo um int ou float) ou False do contrário. A função deve também retornar a lista tratada: transformar todas as entradas não numéricas em numéricas ou, no melhor caso, devolver a lista apenas.\n",
    "\n"
   ]
  },
  {
   "cell_type": "code",
   "execution_count": 4,
   "metadata": {},
   "outputs": [
    {
     "name": "stdin",
     "output_type": "stream",
     "text": [
      "Informe o tamanho da lista:  2\n",
      "Informe o item 0 da lista:  2\n",
      "Informe o item 1 da lista:  2\n"
     ]
    },
    {
     "name": "stdout",
     "output_type": "stream",
     "text": [
      "<class 'float'>\n",
      "<class 'float'>\n",
      "Retorno: True\n",
      "Segue a lista formatada: ['2', '2']\n"
     ]
    }
   ],
   "source": [
    "i = 0\n",
    "lista = []\n",
    "\n",
    "tamanho = int(input('Informe o tamanho da lista: '))\n",
    "\n",
    "while i < tamanho:\n",
    "    item = input(f'Informe o item {i} da lista: ')\n",
    "    i = i + 1\n",
    "    lista.append(item)\n",
    "\n",
    "retorno = True\n",
    "\n",
    "for item in lista:\n",
    "    if type(item) not in (int, float):\n",
    "        try:\n",
    "            item = float(item)\n",
    "        except:\n",
    "            retorno = False\n",
    "\n",
    "if retorno:\n",
    "    print(f'Retorno: {retorno}\\nSegue a lista formatada: {lista}')\n",
    "else:\n",
    "    print(f'Retorno: {retorno}\\nSegue a lista, não sendo possível formatá-la por inteiro: {lista}')"
   ]
  },
  {
   "cell_type": "markdown",
   "metadata": {},
   "source": [
    "Faça uma função que recebe valores a, b e c, resolve a equação quadrática a*x**2 + b*x + c = 0 e retorna:\n",
    "\n",
    "a. o valor de Δ onde Δ = b**2- 4*a*c\n",
    "\n",
    "b. uma tupla com o valor do ponto de mínimo ou máximo: x_m = -b/(2*a) e y_m = -Δ/(4*a);\n",
    "\n",
    "c. uma lista contendo as raízes (a lista pode ser vazia, caso Δ<0; pode conter apenas um elemento, caso Δ = 0; ou conter duas raízes, caso Δ> 0)."
   ]
  },
  {
   "cell_type": "code",
   "execution_count": 18,
   "metadata": {},
   "outputs": [
    {
     "name": "stdin",
     "output_type": "stream",
     "text": [
      "Informe a:  1\n",
      "Informe b:  5\n",
      "Informe c:  2\n"
     ]
    },
    {
     "name": "stdout",
     "output_type": "stream",
     "text": [
      "a) Delta: 17.00\n",
      "b) Valores mínimo e máximo: ('-2.50', '-4.25')\n",
      "c) Segue lista com raízes: ['-0.44', '-4.56']\n"
     ]
    }
   ],
   "source": [
    "a = float(input('Informe a: '))\n",
    "b = float(input('Informe b: '))\n",
    "c = float(input('Informe c: '))\n",
    "MinMax = []\n",
    "\n",
    "delta = (b**2) - 4*a*c\n",
    "\n",
    "print(f'a) Delta: {delta:.2f}')\n",
    "\n",
    "x_m = -b/(2*a)\n",
    "y_m = -delta/(4*a)\n",
    "\n",
    "MinMax.append(x_m)\n",
    "MinMax.append(y_m)\n",
    "MinMax = [ '%.2f' % num for num in MinMax ]\n",
    "MinMax = tuple(MinMax)\n",
    "\n",
    "print(f'b) Valores mínimo e máximo: {MinMax}')\n",
    "\n",
    "raizes = []\n",
    "\n",
    "if delta == 0:\n",
    "    raizes.append(x_m)\n",
    "    raizes = [ '%.2f' % num for num in raizes ]\n",
    "    print(f'c) Segue lista com raiz: {raizes}')\n",
    "elif delta > 0:\n",
    "    x1 = (-b + (delta**0.5))/(2*a)\n",
    "    x2 = (-b - (delta**0.5))/(2*a)\n",
    "    raizes.append(x1)\n",
    "    raizes.append(x2)\n",
    "    raizes = [ '%.2f' % num for num in raizes ]\n",
    "    print(f'c) Segue lista com raízes: {raizes}')  \n",
    "else:\n",
    "    print(f'c) Lista vazia, não há raiz para delta negativo: {raizes}')   \n"
   ]
  },
  {
   "cell_type": "markdown",
   "metadata": {},
   "source": [
    "Crie um dicionário cujas chaves são os meses do ano e os valores são a duração (em dias) de cada mês.\n",
    "\n"
   ]
  },
  {
   "cell_type": "code",
   "execution_count": 20,
   "metadata": {},
   "outputs": [],
   "source": [
    "meses = {\n",
    "    'Janeiro': 31,\n",
    "    'Fevereiro': 28,\n",
    "    'Março': 31,\n",
    "    'Abril': 30,\n",
    "    'Maio': 31,\n",
    "    'Junho': 30,\n",
    "    'Julho': 31,\n",
    "    'Agosto': 31,\n",
    "    'Setembro': 30,\n",
    "    'Outubro': 31,\n",
    "    'Novembro': 30,\n",
    "    'Dezembro': 31\n",
    "}\n",
    "\n"
   ]
  },
  {
   "cell_type": "markdown",
   "metadata": {},
   "source": [
    "Imprima as chaves seguidas dos seus valores para dicionário criado no exercício anterior.\n",
    "\n"
   ]
  },
  {
   "cell_type": "code",
   "execution_count": 22,
   "metadata": {},
   "outputs": [
    {
     "name": "stdout",
     "output_type": "stream",
     "text": [
      "Janeiro - 31\n",
      "Fevereiro - 28\n",
      "Março - 31\n",
      "Abril - 30\n",
      "Maio - 31\n",
      "Junho - 30\n",
      "Julho - 31\n",
      "Agosto - 31\n",
      "Setembro - 30\n",
      "Outubro - 31\n",
      "Novembro - 30\n",
      "Dezembro - 31\n"
     ]
    }
   ],
   "source": [
    "for mes in meses:\n",
    "    dias = meses[mes]\n",
    "    \n",
    "    print(mes, '-', dias)"
   ]
  },
  {
   "cell_type": "markdown",
   "metadata": {},
   "source": [
    "Crie um dicionário para as seguintes relações:\n",
    "\n",
    "‘Banana’: 3.0\n",
    "\n",
    "‘Cebola’: 4.0\n",
    "\n",
    "‘Maçã’: 5.7\n",
    "\n",
    "‘Abacaxi’: 8.0"
   ]
  },
  {
   "cell_type": "code",
   "execution_count": 26,
   "metadata": {},
   "outputs": [],
   "source": [
    "frutas = {\n",
    "    'Banana': 3.0,\n",
    "    'Cebola': 4.0,\n",
    "    'Maçã': 5.7,\n",
    "    'Abacaxi': 8.0,\n",
    "}"
   ]
  },
  {
   "cell_type": "markdown",
   "metadata": {},
   "source": [
    "Altere o valor da chave ‘Maçã’ no dicionário do exercício anterior para 8.6.\n",
    "\n"
   ]
  },
  {
   "cell_type": "code",
   "execution_count": 27,
   "metadata": {},
   "outputs": [
    {
     "name": "stdout",
     "output_type": "stream",
     "text": [
      "Banana - 3.0\n",
      "Cebola - 4.0\n",
      "Maçã - 8.6\n",
      "Abacaxi - 8.0\n"
     ]
    }
   ],
   "source": [
    "frutas['Maçã'] = 8.6\n",
    "\n",
    "for fruta in frutas:\n",
    "    num = frutas[fruta]\n",
    "    \n",
    "    print(fruta, '-', num)"
   ]
  },
  {
   "cell_type": "markdown",
   "metadata": {},
   "source": [
    "Crie uma função que receba os valores do nome, idade e e-mail de uma pessoa e guarde-os em um dicionário com as chaves ‘nome’, ‘idade’ e ‘email’, respectivamente. Sua função deve retornar esse dicionário.\n",
    "\n"
   ]
  },
  {
   "cell_type": "code",
   "execution_count": 31,
   "metadata": {},
   "outputs": [
    {
     "name": "stdin",
     "output_type": "stream",
     "text": [
      "Insira seu nome:  Fe\n",
      "Insira sua idade:  5\n",
      "Insira seu e-mail:  fe\n"
     ]
    },
    {
     "name": "stdout",
     "output_type": "stream",
     "text": [
      "Nome: Fe\n",
      "Idade: 5\n",
      "Email: fe\n"
     ]
    }
   ],
   "source": [
    "pessoa = {\n",
    "    'nome':'',\n",
    "    'idade': 0,\n",
    "    'email':''\n",
    "}\n",
    "\n",
    "pessoa['nome'] = input('Insira seu nome: ')\n",
    "pessoa['idade'] = int(input('Insira sua idade: '))\n",
    "pessoa['email'] = input('Insira seu e-mail: ')\n",
    "\n",
    "for info in pessoa:\n",
    "    dado = pessoa[info]\n",
    "    print(f'{info.capitalize()}: {dado}')"
   ]
  },
  {
   "cell_type": "markdown",
   "metadata": {},
   "source": [
    "Como você armazenaria a seguinte tabela usando apenas dicionários? Tente imprimir o valor correspondente da linha Pedro x Coluna B.\n",
    "\n",
    "        Coluna A\tColuna B\n",
    "    Maria\t1\t5\n",
    "    Pedro\t0.5\t3\n",
    "    João\t3.2\t1\n"
   ]
  },
  {
   "cell_type": "code",
   "execution_count": 33,
   "metadata": {},
   "outputs": [
    {
     "name": "stdout",
     "output_type": "stream",
     "text": [
      "3\n"
     ]
    }
   ],
   "source": [
    "Maria = { \n",
    "    'Coluna A': 1,\n",
    "    'Coluna B': 5,\n",
    "}\n",
    "\n",
    "Pedro = { \n",
    "    'Coluna A': 0.5,\n",
    "    'Coluna B': 3,\n",
    "}\n",
    "\n",
    "Joao = { \n",
    "    'Coluna A': 3.2,\n",
    "    'Coluna B': 1,\n",
    "}\n",
    "\n",
    "print(Pedro['Coluna B'])"
   ]
  },
  {
   "cell_type": "markdown",
   "metadata": {},
   "source": [
    "Faça uma função que receba uma lista e conte quantas vezes cada elemento apareceu nessa lista. Essa função deverá guardar os dados em um dicionário no qual as chaves são os elementos da lista e os valores são a contagem de quantas vezes esse elemento aparece.\n",
    "\n"
   ]
  },
  {
   "cell_type": "code",
   "execution_count": 66,
   "metadata": {},
   "outputs": [
    {
     "name": "stdout",
     "output_type": "stream",
     "text": [
      "A lista de entrada: ['5', 'm', '3', '8', '8', 'i', 'L', '3', 'K', '2', 'U', '9', 'v', '5']\n",
      "O dicionário: {'2': 1, '3': 2, '5': 2, '8': 2, '9': 1, 'K': 1, 'L': 1, 'U': 1, 'i': 1, 'm': 1, 'v': 1}\n"
     ]
    }
   ],
   "source": [
    "# criando uma lista de entrada\n",
    "import random as rd\n",
    "\n",
    "# Criando uma lista aleatória\n",
    "lista = []\n",
    "tamanho = rd.randint(5, 20)\n",
    "i = 0\n",
    "\n",
    "chars = ['A', 'B', 'C', 'D', 'E', 'F', 'G', 'H', 'I', 'J', 'K', 'L', 'M', 'N', 'O', 'P', 'Q', 'R', 'S', 'T', 'U', 'V', 'W', 'X', 'Y', 'Z', 'a', 'b', 'c', 'd', 'e', 'f', 'g', 'h', 'i', 'j', 'k', 'l', 'm', 'n', 'o', 'p', 'q', 'r', 's', 't', 'u', 'v', 'w', 'x', 'y', 'z']\n",
    "#         , '!', '@', '#', '$', '%', '¨¨','&', '*', '(', ')' ]\n",
    "\n",
    "choice =  rd.randint(0, 1)\n",
    "\n",
    "while i <= tamanho:\n",
    "    if choice == 0:\n",
    "        lista.append(rd.choice(chars))\n",
    "    else:\n",
    "        lista.append(str(rd.randint(0, 9)))\n",
    "    i = i + 1\n",
    "    choice =  rd.randint(0, 1)\n",
    "\n",
    "# Exercício do enunciado\n",
    "listaOrdenada = sorted(lista)\n",
    "\n",
    "dic = {}\n",
    "itemAnterior = ''\n",
    "\n",
    "for item in listaOrdenada:\n",
    "    if item != itemAnterior:\n",
    "        dic[item] = 1\n",
    "        itemAnterior = item\n",
    "    else:\n",
    "        dic[item] = dic[item] + 1\n",
    "\n",
    "# Retorno \n",
    "print(f'A lista de entrada: {lista}')\n",
    "print(f'O dicionário: {dic}') "
   ]
  },
  {
   "cell_type": "markdown",
   "metadata": {},
   "source": [
    "Faça um programa que fique pedindo uma resposta do usuário, entre 1, 2 e 3. Se o usuário digitar 1, o programa deve cadastrar um novo usuário nos moldes do exercício 10 e guardar esse cadastro num dicionário cuja chave será o CPF da pessoa. Quando o usuário digitar 2, o programa deve imprimir os usuários cadastrados; e se o usuário digitar 3, o programa deve fechar.\n",
    "\n",
    "Exemplo do dicionário:\n",
    "\n",
    "‘987.654.321-00’: {‘nome’: Maria, ‘idade’: 20, ‘email’ :             maria@mail.com}"
   ]
  },
  {
   "cell_type": "code",
   "execution_count": 13,
   "metadata": {},
   "outputs": [
    {
     "name": "stdin",
     "output_type": "stream",
     "text": [
      "Digite 1 para cadastrar um novo usuário, 2 para imprimir os usuários cadastrados, ou 3 para para finalizar o programa 1\n",
      "Nome:  nm\n",
      "Idade:  id\n",
      "E-mail:  em\n",
      "CPF:  cpf\n",
      "Digite 1 para cadastrar um novo usuário, 2 para imprimir os usuários cadastrados, ou 3 para para finalizar o programa 1\n",
      "Nome:  fe\n",
      "Idade:  26\n",
      "E-mail:  fe@\n",
      "CPF:  434\n",
      "Digite 1 para cadastrar um novo usuário, 2 para imprimir os usuários cadastrados, ou 3 para para finalizar o programa 2\n"
     ]
    },
    {
     "name": "stdout",
     "output_type": "stream",
     "text": [
      "{'cpf': {'em', 'nm', 'id'}, '434': {'fe', 'fe@', '26'}}\n"
     ]
    },
    {
     "name": "stdin",
     "output_type": "stream",
     "text": [
      "Digite 1 para cadastrar um novo usuário, 2 para imprimir os usuários cadastrados, ou 3 para para finalizar o programa 3\n"
     ]
    },
    {
     "name": "stdout",
     "output_type": "stream",
     "text": [
      "Fim\n"
     ]
    }
   ],
   "source": [
    "resposta = ''\n",
    "\n",
    "def programa(resposta):\n",
    "    if resposta == 1:\n",
    "        nome = input('Nome: ')\n",
    "        idade = input('Idade: ')\n",
    "        email = input('E-mail: ')\n",
    "        CPF = input('CPF: ')\n",
    "        cadastros[CPF] = {\n",
    "            nome,\n",
    "            idade, \n",
    "            email\n",
    "        }\n",
    "        resposta = ''\n",
    "    elif resposta == 2:\n",
    "        print(cadastros)\n",
    "        resposta = ''\n",
    "    else:    \n",
    "        print('Fim')\n",
    "    opcao(resposta)\n",
    "\n",
    "def opcao (resposta):\n",
    "    while resposta not in (1, 2, 3):\n",
    "        resposta = int(input('Digite 1 para cadastrar um novo usuário, 2 para imprimir os usuários cadastrados, ou 3 para para finalizar o programa'))\n",
    "        programa(resposta)\n",
    "\n",
    "opcao(resposta)"
   ]
  },
  {
   "cell_type": "markdown",
   "metadata": {},
   "source": [
    "Implemente um sistema de busca para o programa do exercício 11. Isto é, se o usuário digitar 4, procure um determinado usuário pelo seu CPF.\n",
    "\n"
   ]
  },
  {
   "cell_type": "code",
   "execution_count": 19,
   "metadata": {},
   "outputs": [
    {
     "name": "stdin",
     "output_type": "stream",
     "text": [
      "Digite 1 para cadastrar um novo usuário, 2 para imprimir os usuários cadastrados, 3 para para finalizar o programa, ou 4 para realizar uma busca por CPF 434\n",
      "Informe o CPF procurado:  434\n"
     ]
    },
    {
     "name": "stdout",
     "output_type": "stream",
     "text": [
      "CPF encontrado: {'26', 'Felipe', 'felipe@'}\n"
     ]
    },
    {
     "name": "stdin",
     "output_type": "stream",
     "text": [
      "Digite 1 para cadastrar um novo usuário, 2 para imprimir os usuários cadastrados, 3 para para finalizar o programa, ou 4 para realizar uma busca por CPF 4\n",
      "Informe o CPF procurado:  5\n"
     ]
    },
    {
     "name": "stdout",
     "output_type": "stream",
     "text": [
      "CPF 5 não encontrado.\n"
     ]
    },
    {
     "name": "stdin",
     "output_type": "stream",
     "text": [
      "Digite 1 para cadastrar um novo usuário, 2 para imprimir os usuários cadastrados, 3 para para finalizar o programa, ou 4 para realizar uma busca por CPF 3\n"
     ]
    },
    {
     "name": "stdout",
     "output_type": "stream",
     "text": [
      "Fim\n"
     ]
    }
   ],
   "source": [
    "# Considerando o exercício 13, sendo que nele que ocorre o cadastro por CPF\n",
    "\n",
    "resposta = ''\n",
    "\n",
    "\n",
    "def programa(resposta):\n",
    "    if resposta == 1:\n",
    "        nome = input('Nome: ')\n",
    "        idade = input('Idade: ')\n",
    "        email = input('E-mail: ')\n",
    "        CPF = input('CPF: ')\n",
    "        cadastros[CPF] = {\n",
    "            nome,\n",
    "            idade, \n",
    "            email\n",
    "        }\n",
    "        resposta = ''\n",
    "    elif resposta == 2:\n",
    "        print(cadastros)\n",
    "        resposta = ''\n",
    "    elif resposta == 3:   \n",
    "        print('Fim')\n",
    "    else:\n",
    "        NaoEncontrou = True\n",
    "        buscaCPF = input('Informe o CPF procurado: ')\n",
    "        for dado in cadastros:\n",
    "            if dado == buscaCPF:\n",
    "                print(f'CPF encontrado: {cadastros[buscaCPF]}')\n",
    "                NaoEncontrou = False\n",
    "        if NaoEncontrou:\n",
    "            print(f'CPF {buscaCPF} não encontrado.')      \n",
    "    opcao(resposta)\n",
    "\n",
    "def opcao (resposta):\n",
    "    while resposta not in (1, 2, 3, 4):\n",
    "        resposta = int(input('Digite 1 para cadastrar um novo usuário, 2 para imprimir os usuários cadastrados, 3 para para finalizar o programa, ou 4 para realizar uma busca por CPF'))\n",
    "        programa(resposta)\n",
    "\n",
    "opcao(resposta)\n",
    "\n"
   ]
  },
  {
   "cell_type": "markdown",
   "metadata": {},
   "source": [
    "Faça o análogo do exercício 12 para strings: conte quantas vezes cada caracter apareceu nessa string e retorne um dicionário com essa contagem."
   ]
  },
  {
   "cell_type": "code",
   "execution_count": 20,
   "metadata": {},
   "outputs": [
    {
     "name": "stdin",
     "output_type": "stream",
     "text": [
      "Insira uma string:  banana\n"
     ]
    },
    {
     "name": "stdout",
     "output_type": "stream",
     "text": [
      "A lista de entrada: ['b', 'a', 'n', 'a', 'n', 'a']\n",
      "O dicionário: {'a': 3, 'b': 1, 'n': 2}\n"
     ]
    }
   ],
   "source": [
    "string = input('Insira uma string: ')\n",
    "lista = list(string)\n",
    "\n",
    "# Exercício do enunciado\n",
    "listaOrdenada = sorted(lista)\n",
    "\n",
    "dic = {}\n",
    "itemAnterior = ''\n",
    "\n",
    "for item in listaOrdenada:\n",
    "    if item != itemAnterior:\n",
    "        dic[item] = 1\n",
    "        itemAnterior = item\n",
    "    else:\n",
    "        dic[item] = dic[item] + 1\n",
    "\n",
    "# Retorno \n",
    "print(f'A lista de entrada: {lista}')\n",
    "print(f'O dicionário: {dic}') "
   ]
  }
 ],
 "metadata": {
  "kernelspec": {
   "display_name": "Python 3",
   "language": "python",
   "name": "python3"
  },
  "language_info": {
   "codemirror_mode": {
    "name": "ipython",
    "version": 3
   },
   "file_extension": ".py",
   "mimetype": "text/x-python",
   "name": "python",
   "nbconvert_exporter": "python",
   "pygments_lexer": "ipython3",
   "version": "3.7.0"
  }
 },
 "nbformat": 4,
 "nbformat_minor": 4
}
