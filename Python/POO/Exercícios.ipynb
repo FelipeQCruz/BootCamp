{
 "cells": [
  {
   "cell_type": "markdown",
   "id": "3837ba4f",
   "metadata": {},
   "source": [
    "Crie uma classe Bola cujos atributos são cor e raio. Crie um método que imprime a cor da bola. Crie um método para calcular a área dessa bola. Crie um método para calcular o volume da bola. Crie um objeto dessa classe e calcule a área e o volume, imprimindo ambos em seguida.\n",
    "\n",
    "Obs.:\n",
    "\n",
    "Área da esfera = 4*3.14*r*r;\n",
    "\n",
    "Volume da esfera = 4*3.14*r*r*r/3"
   ]
  },
  {
   "cell_type": "code",
   "execution_count": 1,
   "id": "0ed43ca9",
   "metadata": {
    "ExecuteTime": {
     "end_time": "2021-07-24T22:07:58.274276Z",
     "start_time": "2021-07-24T22:07:58.247349Z"
    }
   },
   "outputs": [
    {
     "name": "stdout",
     "output_type": "stream",
     "text": [
      "Área da bola: 50.24;\n",
      "Volume da bola: 33.49333333333333\n"
     ]
    },
    {
     "data": {
      "text/plain": [
       "Bola Branca"
      ]
     },
     "execution_count": 1,
     "metadata": {},
     "output_type": "execute_result"
    }
   ],
   "source": [
    "class Bola:\n",
    "    def __init__(self, cor, raio):\n",
    "        self.cor = cor     \n",
    "        self.raio = raio   \n",
    "        \n",
    "    def __repr__(self):\n",
    "        return f'Bola {self.cor}'\n",
    "    \n",
    "    def area(self):\n",
    "        self.area = 4*3.14*(self.raio**2)\n",
    "        return self.area\n",
    "        \n",
    "    def volume(self):\n",
    "        self.vol = 4*3.14*(self.raio**3)/3\n",
    "        return self.vol\n",
    "\n",
    "bola = Bola('Branca', 2)\n",
    "\n",
    "area = bola.area()\n",
    "volume = bola.volume()\n",
    "\n",
    "print(f'Área da bola: {area};\\nVolume da bola: {volume}')\n",
    "bola"
   ]
  },
  {
   "cell_type": "markdown",
   "id": "8cace195",
   "metadata": {},
   "source": [
    "Crie uma classe Retângulo cujos atributos são lado_a e lado_b. Crie um método para calcular a área desse retângulo. Crie um objeto dessa classe e calcule a área e a imprima em seguida."
   ]
  },
  {
   "cell_type": "code",
   "execution_count": 3,
   "id": "44e19f78",
   "metadata": {
    "ExecuteTime": {
     "end_time": "2021-07-24T22:11:40.836679Z",
     "start_time": "2021-07-24T22:11:40.813741Z"
    }
   },
   "outputs": [
    {
     "name": "stdout",
     "output_type": "stream",
     "text": [
      "Área do retângulo: 8\n"
     ]
    },
    {
     "data": {
      "text/plain": [
       "Retangulo de lados: 2, 4"
      ]
     },
     "execution_count": 3,
     "metadata": {},
     "output_type": "execute_result"
    }
   ],
   "source": [
    "class Retangulo:\n",
    "    def __init__(self, lado_a, lado_b):\n",
    "        self.lado_a = lado_a     \n",
    "        self.lado_b = lado_b   \n",
    "        \n",
    "    def __repr__(self):\n",
    "        return f'Retangulo de lados: {self.lado_a}, {self.lado_b}'\n",
    "    \n",
    "    def area(self):\n",
    "        self.area = self.lado_a * self.lado_b\n",
    "        return self.area\n",
    "\n",
    "retangulo = Retangulo(2, 4)\n",
    "\n",
    "area = retangulo.area()\n",
    "\n",
    "print(f'Área do retângulo: {area}')\n",
    "retangulo"
   ]
  },
  {
   "cell_type": "markdown",
   "id": "83c44754",
   "metadata": {
    "ExecuteTime": {
     "end_time": "2021-07-24T22:12:06.554677Z",
     "start_time": "2021-07-24T22:12:06.543704Z"
    }
   },
   "source": [
    "Crie uma classe Funcionario cujos atributos são nome e e-mail. Guarde as horas trabalhadas em um dicionário cujas chaves são o mês em questão e, em outro dicionário, guarde o salário por hora relativo ao mês em questão. Crie um método que retorna o salário mensal do funcionário.\n",
    "\n"
   ]
  },
  {
   "cell_type": "code",
   "execution_count": 38,
   "id": "3a245164",
   "metadata": {
    "ExecuteTime": {
     "end_time": "2021-07-24T22:57:24.129062Z",
     "start_time": "2021-07-24T22:57:24.116098Z"
    }
   },
   "outputs": [],
   "source": [
    "horasPorMes={}\n",
    "salarios={}\n",
    "\n",
    "class Funcionario:\n",
    "    def __init__(self, nome, email):\n",
    "        self.nome = nome     \n",
    "        self.email = email   \n",
    "        \n",
    "    def __repr__(self):\n",
    "        return f'Funcionário: {self.nome}; e-mail: {self.email}'\n",
    "    \n",
    "    def horasTrabalhadas(self, horas, mes):\n",
    "        horasPorMes[mes] = horas\n",
    "    \n",
    "    def salario(self, salario):\n",
    "        salarios[self.nome] = salario\n",
    "        \n",
    "    def salarioMensal(self, mes):\n",
    "        salario = salarios[self.nome]\n",
    "        hTrabalho = horasPorMes[mes]\n",
    "        salarioMes = hTrabalho * salario\n",
    "        return salarioMes"
   ]
  },
  {
   "cell_type": "code",
   "execution_count": 41,
   "id": "878f3077",
   "metadata": {
    "ExecuteTime": {
     "end_time": "2021-07-24T22:57:37.442871Z",
     "start_time": "2021-07-24T22:57:37.424782Z"
    }
   },
   "outputs": [],
   "source": [
    "func1 = Funcionario('Mario', 'mario@letscode.com.br')\n",
    "func1.horasTrabalhadas(40, 'Fev')\n",
    "func1.salario(40)"
   ]
  },
  {
   "cell_type": "code",
   "execution_count": 43,
   "id": "a24f5526",
   "metadata": {
    "ExecuteTime": {
     "end_time": "2021-07-24T22:57:55.217696Z",
     "start_time": "2021-07-24T22:57:55.198748Z"
    }
   },
   "outputs": [
    {
     "name": "stdout",
     "output_type": "stream",
     "text": [
      "800\n"
     ]
    }
   ],
   "source": [
    "print(func1.salarioMensal('Jan'))"
   ]
  },
  {
   "cell_type": "markdown",
   "id": "074183f3",
   "metadata": {},
   "source": [
    "Crie uma classe Televisor cujos atributos são:\n",
    "\n",
    "a. fabricante;\n",
    "\n",
    "b. modelo;\n",
    "\n",
    "c. canal atual;\n",
    "\n",
    "d. lista de canais; e\n",
    "\n",
    "e. volume.\n",
    "\n",
    "Faça métodos para aumentar/diminuir volume, trocar o canal e sintonizar um novo canal, que adiciona um novo canal à lista de canais (somente se esse canal não estiver nessa lista). No atributo lista de canais, devem estar armazenados todos os canais já sintonizados dessa TV.\n",
    "\n",
    "Obs.: O volume não pode ser menor que zero e maior que cem; só se pode trocar para um canal que já esteja na lista de canais."
   ]
  },
  {
   "cell_type": "code",
   "execution_count": 11,
   "id": "76762069",
   "metadata": {
    "ExecuteTime": {
     "end_time": "2021-07-25T02:10:43.882821Z",
     "start_time": "2021-07-25T02:10:43.870856Z"
    }
   },
   "outputs": [],
   "source": [
    "# Criando um canal básico para que a TV já venha com um canal de fábrica\n",
    "listaDeCanais={\n",
    "    '1': 'Canal 1 global'\n",
    "}\n",
    "\n",
    "class Televisor:\n",
    "    def __init__(self, fabricante, modelo):\n",
    "        self.fabricante = fabricante     \n",
    "        self.modelo = modelo  \n",
    "        self.canalAtual = '1'\n",
    "        self.listaCanais = listaDeCanais\n",
    "        self.volume = 10 \n",
    "        \n",
    "    def __repr__(self):\n",
    "        return f'Fabricante: {self.fabricante} \\nModelo: {self.modelo} \\nCanal atual: {self.canalAtual}\\nLista de canais: {self.listaCanais} \\nVolume: {self.volume}'\n",
    "    \n",
    "    def aumentarVolume(self):\n",
    "        if self.volume < 100:\n",
    "            self.volume += 1\n",
    "    \n",
    "    def diminuirVolume(self):\n",
    "        if self.volume > 0:\n",
    "            self.volume -= 1\n",
    "    \n",
    "    def trocarCanal(self):\n",
    "        nEncontrou = True\n",
    "        canal = input('Informe o número do canal: ')\n",
    "        for sintonizado in listaDeCanais:\n",
    "            if canal == sintonizado:\n",
    "                self.canalAtual = canal\n",
    "                nEncontrou = False\n",
    "        if nEncontrou:\n",
    "            print('Canal não sintonizado')     \n",
    "                \n",
    "    def sintonizarCanal(self):\n",
    "        nExiste = True\n",
    "        canal = input('Informe o número do canal: ')\n",
    "        for sintonizado in listaDeCanais:\n",
    "            if canal == sintonizado:\n",
    "                print('Canal já sintonizado')\n",
    "                nExiste = False\n",
    "        if nExiste:\n",
    "            nomeCanal = input('Informe o nome do canal: ')\n",
    "            listaDeCanais[canal] = nomeCanal\n",
    "            self.listaCanais = listaDeCanais\n"
   ]
  },
  {
   "cell_type": "code",
   "execution_count": 2,
   "id": "09f7517c",
   "metadata": {
    "ExecuteTime": {
     "end_time": "2021-07-25T02:06:43.550445Z",
     "start_time": "2021-07-25T02:06:42.886632Z"
    }
   },
   "outputs": [
    {
     "name": "stdout",
     "output_type": "stream",
     "text": [
      "Fabricante: TVs & Cia \n",
      "Modelo: Nimbus 2000 \n",
      "Canal atual: 1 \n",
      "Lista de canais: {'1': 'Canal 1 global'} \n",
      "Volume: 10\n"
     ]
    }
   ],
   "source": [
    "tv1 = Televisor('TVs & Cia', 'Nimbus 2000')\n",
    "print(tv1)"
   ]
  },
  {
   "cell_type": "code",
   "execution_count": 16,
   "id": "0050b70c",
   "metadata": {
    "ExecuteTime": {
     "end_time": "2021-07-25T02:11:39.717518Z",
     "start_time": "2021-07-25T02:11:38.751728Z"
    }
   },
   "outputs": [
    {
     "name": "stdout",
     "output_type": "stream",
     "text": [
      "Informe o número do canal: 1\n",
      "Fabricante: TVs & Cia \n",
      "Modelo: Nimbus 2000 \n",
      "Canal atual: 1 \n",
      "Lista de canais: {'1': 'Canal 1 global', '5': 'Tv Golpista'} \n",
      "Volume: 0\n"
     ]
    }
   ],
   "source": [
    "tv1.diminuirVolume()\n",
    "tv1.trocarCanal()\n",
    "\n",
    "print(tv1)"
   ]
  },
  {
   "cell_type": "markdown",
   "id": "da523301",
   "metadata": {},
   "source": [
    "Crie uma classe ControleRemoto cujo atributo é televisão (isso é, recebe um objeto da classe do exercício 4). Crie métodos para aumentar/diminuir volume, trocar o canal e sintonizar um novo canal, que adiciona um novo canal à lista de canais (somente se esse canal não estiver nessa lista)."
   ]
  },
  {
   "cell_type": "code",
   "execution_count": 26,
   "id": "a9cd3d0b",
   "metadata": {
    "ExecuteTime": {
     "end_time": "2021-07-25T02:36:36.277006Z",
     "start_time": "2021-07-25T02:36:36.258057Z"
    }
   },
   "outputs": [],
   "source": [
    "\n",
    "class ControleRemoto:\n",
    "    def __init__(self,televisao):\n",
    "# Considerando que o controle armazena informações de fabricante e modelo por ser um controle Univesal\n",
    "        self.fabricante = televisao.fabricante     \n",
    "        self.modelo = televisao.modelo \n",
    "        \n",
    "    def __repr__(self, televisao):\n",
    "        return f'Configurações do controle universal:\\nFabricante: {self.fabricante} \\nModelo: {self.modelo} \\nCanal atual: {self.canalAtual}\\nLista de canais: {self.listaCanais} \\nVolume: {self.volume}'\n",
    "    \n",
    "    def aumentarVolume(self, televisao):\n",
    "        if televisao.volume < 100:\n",
    "            televisao.volume += 1\n",
    "    \n",
    "    def diminuirVolume(self, televisao):\n",
    "        if televisao.volume > 0:\n",
    "            televisao.volume -= 1\n",
    "    \n",
    "    def trocarCanal(self, televisao):\n",
    "        nEncontrou = True\n",
    "        canal = input('Informe o número do canal: ')\n",
    "        for sintonizado in listaDeCanais:\n",
    "            if canal == sintonizado:\n",
    "                televisao.canalAtual = canal\n",
    "                nEncontrou = False\n",
    "        if nEncontrou:\n",
    "            print('Canal não sintonizado')     \n",
    "                \n",
    "    def sintonizarCanal(self, televisao):\n",
    "        nExiste = True\n",
    "        canal = input('Informe o número do canal: ')\n",
    "        for sintonizado in listaDeCanais:\n",
    "            if canal == sintonizado:\n",
    "                print('Canal já sintonizado')\n",
    "                nExiste = False\n",
    "        if nExiste:\n",
    "            nomeCanal = input('Informe o nome do canal: ')\n",
    "            listaDeCanais[canal] = nomeCanal\n",
    "            televisao.listaCanais = listaDeCanais"
   ]
  },
  {
   "cell_type": "code",
   "execution_count": 29,
   "id": "71a489c5",
   "metadata": {
    "ExecuteTime": {
     "end_time": "2021-07-25T02:36:53.925669Z",
     "start_time": "2021-07-25T02:36:53.906730Z"
    }
   },
   "outputs": [
    {
     "name": "stdout",
     "output_type": "stream",
     "text": [
      "Fabricante: TVs & Cia \n",
      "Modelo: Nimbus 2000 \n",
      "Canal atual: 1 \n",
      "Lista de canais: {'1': 'Canal 1 global', '5': 'Tv Golpista'} \n",
      "Volume: 0\n",
      "Fabricante: TVs & Cia \n",
      "Modelo: Nimbus 2000 \n",
      "Canal atual: 1 \n",
      "Lista de canais: {'1': 'Canal 1 global', '5': 'Tv Golpista'} \n",
      "Volume: 1\n"
     ]
    }
   ],
   "source": [
    "print(tv1)\n",
    "controle1 = ControleRemoto(tv1)\n",
    "controle1.aumentarVolume(tv1)\n",
    "print(tv1)"
   ]
  },
  {
   "cell_type": "markdown",
   "id": "29b939af",
   "metadata": {},
   "source": [
    "O módulo time possui a função time.sleep(x), que faz seu programa “dormir” por x segundos. Utilizando essa função, crie uma classe Cronômetro e faça um programa que cronometre o tempo."
   ]
  },
  {
   "cell_type": "code",
   "execution_count": 43,
   "id": "90f4a9a9",
   "metadata": {
    "ExecuteTime": {
     "end_time": "2021-07-25T02:55:26.346096Z",
     "start_time": "2021-07-25T02:55:21.326896Z"
    }
   },
   "outputs": [
    {
     "name": "stdout",
     "output_type": "stream",
     "text": [
      "Fim dos 5 segundos\n",
      "<__main__.Cronometro object at 0x0000016313AEFFD0>\n"
     ]
    }
   ],
   "source": [
    "import time\n",
    "\n",
    "class Cronometro:\n",
    "    def __init__(self, segundos):\n",
    "        time.sleep(segundos)\n",
    "        print(f'Fim dos {segundos} segundos')\n",
    "\n",
    "cronometrar = Cronometro\n",
    "print(cronometrar(5))"
   ]
  },
  {
   "cell_type": "markdown",
   "id": "a088a301",
   "metadata": {},
   "source": [
    "Crie uma modelagem de classes para uma agenda capaz de armazenar contatos. Através dessa agenda é possível incluir, remover, buscar e listar contatos já cadastrados."
   ]
  },
  {
   "cell_type": "code",
   "execution_count": 33,
   "id": "e21bf3df",
   "metadata": {
    "ExecuteTime": {
     "end_time": "2021-07-25T03:39:14.132915Z",
     "start_time": "2021-07-25T03:39:14.113002Z"
    }
   },
   "outputs": [],
   "source": [
    "class Agenda:\n",
    "    def __init__(self):\n",
    "        self.listaContatos = {}\n",
    "        \n",
    "    def __repr__(self):\n",
    "        return f'Contatos atuais: {self.listaContatos}'\n",
    "                \n",
    "    def incluirContato(self):\n",
    "        nExiste = True\n",
    "        nome = input('Informe o nome: ')\n",
    "        for contato in self.listaContatos:\n",
    "            if nome == contato:\n",
    "                print('Nome já consta na agenda')\n",
    "                nExiste = False\n",
    "        if nExiste:\n",
    "            dados = input('Insira os dados para contato: ')\n",
    "            self.listaContatos[nome] = {\n",
    "                dados\n",
    "            }      \n",
    "            \n",
    "    def buscarContato(self):          \n",
    "        NaoEncontrou = True\n",
    "        buscaNome = input('Informe o nome procurado: ')\n",
    "        for nome in self.listaContatos:\n",
    "            if nome == buscaNome:\n",
    "                print(f'Dados do contato: {self.listaContatos[buscaNome]}')\n",
    "                NaoEncontrou = False\n",
    "        if NaoEncontrou:\n",
    "            print(f'{buscaNome} não encontrado.')     \n",
    "            \n",
    "    def removerContato(self):\n",
    "        nExiste = True\n",
    "        nome = input('Informe o nome a ser removido: ')\n",
    "        for contato in self.listaContatos:\n",
    "            if nome == contato:\n",
    "                excluiNome = nome\n",
    "                nExiste = False\n",
    "        del self.listaContatos[excluiNome]\n",
    "        print(f'{nome} excluído')\n",
    "        if nExiste:\n",
    "            dados = input('Não encontrado')\n",
    "            \n",
    "    def listarContatos(self):\n",
    "        for contato in self.listaContatos:\n",
    "            print(f'{contato}, {self.listaContatos[contato]}')\n",
    "            \n",
    "agenda = Agenda()"
   ]
  },
  {
   "cell_type": "code",
   "execution_count": 39,
   "id": "5a393479",
   "metadata": {
    "ExecuteTime": {
     "end_time": "2021-07-25T03:40:02.568199Z",
     "start_time": "2021-07-25T03:40:02.560221Z"
    }
   },
   "outputs": [
    {
     "name": "stdout",
     "output_type": "stream",
     "text": [
      "Fe, {'fe@'}\n",
      "Je, {'je@'}\n"
     ]
    }
   ],
   "source": [
    "agenda.incluirContato()\n",
    "agenda.incluirContato()\n",
    "agenda.listarContatos()\n",
    "agenda.buscarContato()\n",
    "agenda.removerContato()\n",
    "agenda.listarContatos()\n"
   ]
  },
  {
   "cell_type": "markdown",
   "id": "ffa208c3",
   "metadata": {},
   "source": [
    "Crie uma classe Cliente cujos atributos são nome, idade e e-mail. Construa um método que imprima as informações tal como abaixo:\n",
    "\n",
    "Nome: Fulano de Tal\n",
    "\n",
    "Idade: 40\n",
    "\n",
    "E-mail: fulano@mail.com"
   ]
  },
  {
   "cell_type": "code",
   "execution_count": 40,
   "id": "1756f73e",
   "metadata": {
    "ExecuteTime": {
     "end_time": "2021-07-25T03:45:38.310447Z",
     "start_time": "2021-07-25T03:45:38.292525Z"
    }
   },
   "outputs": [
    {
     "data": {
      "text/plain": [
       "Nome: Fulando de Tal\n",
       "\n",
       "Idade 40\n",
       "\n",
       "E-mail: fulano@mail.com"
      ]
     },
     "execution_count": 40,
     "metadata": {},
     "output_type": "execute_result"
    }
   ],
   "source": [
    "class Cliente:\n",
    "    def __init__(self, nome, idade, email):\n",
    "        self.nome = nome\n",
    "        self.idade = idade\n",
    "        self.email = email\n",
    "        \n",
    "    def __repr__(self):\n",
    "        return f'Nome: {self.nome}\\n\\nIdade: {self.idade}\\n\\nE-mail: {self.email}'\n",
    "                \n",
    "# Criando um cliente 1, no modelo Cliente(nome, idade, e-mail)          \n",
    "cliente1 = Cliente('Fulando de Tal', 40, 'fulano@mail.com')\n",
    "cliente1"
   ]
  },
  {
   "cell_type": "markdown",
   "id": "8013c065",
   "metadata": {},
   "source": [
    "Com base no exercício anterior, crie um sistema de cadastro e a classe Cliente. Seu programa deve perguntar se o usuário quer cadastrar um novo cliente, alterar um cadastro ou sair.\n",
    "\n",
    "Dica: Você pode fazer esse exercício criando uma classe Sistema, que irá controlar o sistema de cadastros. Essa classe deve ter o atributo cadastro e os métodos para imprimir os cadastrados, cadastrar um novo cliente, alterar um cadastro ou sair."
   ]
  },
  {
   "cell_type": "code",
   "execution_count": 1,
   "id": "01d3966b",
   "metadata": {
    "ExecuteTime": {
     "end_time": "2021-07-25T06:05:40.204126Z",
     "start_time": "2021-07-25T06:05:40.179191Z"
    }
   },
   "outputs": [],
   "source": [
    "class Cliente:\n",
    "    def __init__(self, nome, idade, email):\n",
    "        self.nome = nome\n",
    "        self.idade = idade\n",
    "        self.email = email\n",
    "        \n",
    "    def __repr__(self):\n",
    "        return f'Nome: {self.nome}\\n\\nIdade: {self.idade}\\n\\nE-mail: {self.email}'\n",
    "    \n",
    "class Sistema:\n",
    "    def __init__(self, cadastro):\n",
    "        self.nome = cadastro.nome\n",
    "        self.idade = cadastro.idade\n",
    "        self.email = cadastro.email\n",
    "        sublista = []\n",
    "        sublista.append(self.idade)\n",
    "        sublista.append(self.email)\n",
    "        self.cadastros = []\n",
    "        self.cadastros.append(self.nome)\n",
    "        self.cadastros.append(sublista)\n",
    "        \n",
    "    def iniciar(self):\n",
    "        resposta = 1\n",
    "        while resposta in (1, 2):\n",
    "            try:\n",
    "                resposta = int(input('Digite 1 para cadastrar um cliente, 2 para alterar um cadastro ou qualquer outro número para finalizar.'))\n",
    "            except:\n",
    "                continue\n",
    "            if resposta == 1:\n",
    "                self.cadastrarCliente()\n",
    "            elif resposta == 2:\n",
    "                self.alterarCadastro()\n",
    "        print('Sistema encerrado.')\n",
    "        \n",
    "    def __repr__(self):\n",
    "        i = 0\n",
    "        try:\n",
    "            while i <= len(self.cadastros):\n",
    "                print(f'Nome: {self.cadastros[i]}; idade: {self.cadastros[i+1][0]}; e-mail: {self.cadastros[i+1][1]}')\n",
    "                i += 2\n",
    "        except:\n",
    "            return ''\n",
    "                \n",
    "    def cadastrarCliente(self):\n",
    "        sublista = []\n",
    "        nome = input('Informe o nome: ')\n",
    "        idade = int(input('Insira a idade: '))\n",
    "        email = input('Informe o e-mail: ')\n",
    "        sublista.append(idade)\n",
    "        sublista.append(email)\n",
    "        self.cadastros.append(nome)\n",
    "        self.cadastros.append(sublista)\n",
    "            \n",
    "    def alterarCadastro(self):          \n",
    "        NaoEncontrou = True\n",
    "        buscaNome = input('Informe o nome procurado: ')\n",
    "        for i in range(len(self.cadastros)):\n",
    "            if self.cadastros[i] == buscaNome:\n",
    "                print(f'Dados do contato: {self.cadastros[i + 1]}')\n",
    "                NaoEncontrou = False\n",
    "                novoNome = input('Insira o novo nome (deixe vazio para não alterar): ')\n",
    "                novoEmail = input('Insira o novo e-mail (deixe vazio para não alterar): ')\n",
    "                try:\n",
    "                    novaIdade = int(input('Insira a nova idade (deixe vazio para não alterar): '))\n",
    "                except:\n",
    "                    novaIdade = ''                        \n",
    "                if novaIdade != '':\n",
    "                    self.cadastros[i+1][0] = novaIdade\n",
    "                if novoEmail != '':\n",
    "                    self.cadastros[i+1][1] = novoEmail\n",
    "                if novoNome != '':\n",
    "                    self.cadastros[i] = novoNome\n",
    "        if NaoEncontrou:\n",
    "            print(f'{buscaNome} não encontrado.')     "
   ]
  },
  {
   "cell_type": "code",
   "execution_count": 10,
   "id": "c499ecb7",
   "metadata": {
    "ExecuteTime": {
     "end_time": "2021-07-25T06:19:44.106367Z",
     "start_time": "2021-07-25T06:19:41.633385Z"
    }
   },
   "outputs": [
    {
     "name": "stdout",
     "output_type": "stream",
     "text": [
      "Digite 1 para cadastrar um cliente, 2 para alterar um cadastro ou qualquer outro número para finalizar.3\n",
      "Sistema encerrado.\n",
      "Nome: x; idade: 32; e-mail: joao@teste\n",
      "\n"
     ]
    }
   ],
   "source": [
    "cliente1 = Cliente('João', 32, 'joao@teste')\n",
    "cliente1\n",
    "\n",
    "sistema = Sistema(cliente1)\n",
    "sistema.iniciar()\n",
    "print(sistema)"
   ]
  },
  {
   "cell_type": "markdown",
   "id": "47a3025a",
   "metadata": {},
   "source": [
    "Crie uma classe ContaCorrente com os atributos cliente (que deve ser um objeto da classe Cliente) e saldo. Crie métodos para depósito, saque e transferência. Os métodos de saque e transferência devem verificar se é possível realizar a transação."
   ]
  },
  {
   "cell_type": "code",
   "execution_count": 12,
   "id": "22ac2963",
   "metadata": {
    "ExecuteTime": {
     "end_time": "2021-07-25T06:21:44.177472Z",
     "start_time": "2021-07-25T06:21:44.168498Z"
    }
   },
   "outputs": [],
   "source": [
    "class Cliente:\n",
    "    def __init__(self, nome, idade, email):\n",
    "        self.nome = nome\n",
    "        self.idade = idade\n",
    "        self.email = email\n",
    "        \n",
    "    def __repr__(self):\n",
    "        return f'Nome: {self.nome}\\n\\nIdade: {self.idade}\\n\\nE-mail: {self.email}'\n",
    "\n",
    "class ContaCorrente:\n",
    "    def __init__(self, cliente, saldo):\n",
    "        self.nome = cliente.nome\n",
    "        self.idade = cliente.idade\n",
    "        self.email = cliente.email\n",
    "        self.saldo = saldo\n",
    "        \n",
    "    def __repr__(self):\n",
    "        return f'Saldo de {self.nome}: R$ {self.saldo:.2f}'\n",
    "    \n",
    "    def deposito(self, valor):\n",
    "        if valor > 0:\n",
    "            self.saldo += valor\n",
    "            \n",
    "    def saque (self, valor):\n",
    "        if valor <= self.saldo:\n",
    "            self.saldo -= valor\n",
    "    \n",
    "    def transferencia (self, valor, contaDestino):\n",
    "        if valor <= self.saldo:\n",
    "            self.saldo -= valor\n",
    "            contaDestino.saldo += valor"
   ]
  },
  {
   "cell_type": "code",
   "execution_count": 14,
   "id": "f7331fb8",
   "metadata": {
    "ExecuteTime": {
     "end_time": "2021-07-25T06:24:02.178374Z",
     "start_time": "2021-07-25T06:24:02.169427Z"
    }
   },
   "outputs": [
    {
     "name": "stdout",
     "output_type": "stream",
     "text": [
      "Saldo de João: R$ 100.00\n",
      "Saldo de Ana: R$ 50.00\n"
     ]
    }
   ],
   "source": [
    "cliente1 = Cliente('João', 32, 'joao@teste')\n",
    "cliente2 = Cliente('Ana', 32, 'ana@teste')\n",
    "cc2 = ContaCorrente(cliente2, 200)\n",
    "cc1 = ContaCorrente(cliente1, 50)\n",
    "cc2.deposito(400)\n",
    "cc2.saque(500)\n",
    "cc2.transferencia(50, cc1)\n",
    "print(cc1)\n",
    "print(cc2)"
   ]
  },
  {
   "cell_type": "markdown",
   "id": "9d73765c",
   "metadata": {},
   "source": [
    "Crie uma classe Fração cujos atributos são numerador (número de cima) e denominador (número de baixo).\n",
    "\n",
    "Implemente os métodos de adição, subtração, multiplicação, divisão que retornam objetos do tipo Fração.\n",
    "\n",
    "Implemente também o método _ repr _.\n",
    "\n",
    "Implemente métodos para comparação: igualdade (==) e desigualdades (!=, <=, >=, < e >)."
   ]
  },
  {
   "cell_type": "code",
   "execution_count": null,
   "id": "9db07cfc",
   "metadata": {},
   "outputs": [],
   "source": []
  }
 ],
 "metadata": {
  "kernelspec": {
   "display_name": "Python 3",
   "language": "python",
   "name": "python3"
  },
  "language_info": {
   "codemirror_mode": {
    "name": "ipython",
    "version": 3
   },
   "file_extension": ".py",
   "mimetype": "text/x-python",
   "name": "python",
   "nbconvert_exporter": "python",
   "pygments_lexer": "ipython3",
   "version": "3.8.8"
  },
  "toc": {
   "base_numbering": 1,
   "nav_menu": {},
   "number_sections": true,
   "sideBar": true,
   "skip_h1_title": true,
   "title_cell": "Table of Contents",
   "title_sidebar": "Contents",
   "toc_cell": false,
   "toc_position": {
    "height": "calc(100% - 180px)",
    "left": "10px",
    "top": "150px",
    "width": "165px"
   },
   "toc_section_display": true,
   "toc_window_display": true
  }
 },
 "nbformat": 4,
 "nbformat_minor": 5
}
