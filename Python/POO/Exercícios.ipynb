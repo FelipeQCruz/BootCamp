{
 "cells": [
  {
   "cell_type": "markdown",
   "id": "3837ba4f",
   "metadata": {},
   "source": [
    "Crie uma classe Bola cujos atributos são cor e raio. Crie um método que imprime a cor da bola. Crie um método para calcular a área dessa bola. Crie um método para calcular o volume da bola. Crie um objeto dessa classe e calcule a área e o volume, imprimindo ambos em seguida.\n",
    "\n",
    "Obs.:\n",
    "\n",
    "Área da esfera = 4*3.14*r*r;\n",
    "\n",
    "Volume da esfera = 4*3.14*r*r*r/3"
   ]
  },
  {
   "cell_type": "code",
   "execution_count": 37,
   "id": "0ed43ca9",
   "metadata": {
    "ExecuteTime": {
     "end_time": "2021-07-25T17:34:51.951611Z",
     "start_time": "2021-07-25T17:34:51.929638Z"
    }
   },
   "outputs": [
    {
     "name": "stdout",
     "output_type": "stream",
     "text": [
      "50.24\n"
     ]
    }
   ],
   "source": [
    "class Bola:\n",
    "    def __init__(self, cor, raio):\n",
    "        self.cor = cor     \n",
    "        self.raio = raio\n",
    "        self.area = self.area()\n",
    "        self.volume = self.volume()\n",
    "    \n",
    "    def cor(self):\n",
    "        return f'Bola {self.cor}'\n",
    "    \n",
    "    def area(self):\n",
    "        area = 4*3.14*(self.raio**2)\n",
    "        return area\n",
    "        \n",
    "    def volume(self):\n",
    "        vol = 4*3.14*(self.raio**3)/3\n",
    "        return vol\n",
    "    \n",
    "    def __repr__(self):\n",
    "        return f'Bola {self.cor}, raio {self.raio}, area {self.area}, volume {self.volume}'\n",
    "\n",
    "bola = Bola('Branca', 2)\n",
    "print(bola)"
   ]
  },
  {
   "cell_type": "markdown",
   "id": "949a0680",
   "metadata": {},
   "source": [
    "Crie uma classe Retângulo cujos atributos são lado_a e lado_b. Crie um método para calcular a área desse retângulo. Crie um objeto dessa classe e calcule a área e a imprima em seguida."
   ]
  },
  {
   "cell_type": "code",
   "execution_count": 39,
   "id": "b3df9504",
   "metadata": {
    "ExecuteTime": {
     "end_time": "2021-07-25T18:52:14.146432Z",
     "start_time": "2021-07-25T18:52:14.134465Z"
    }
   },
   "outputs": [
    {
     "name": "stdout",
     "output_type": "stream",
     "text": [
      "Área do retângulo: 8\n"
     ]
    },
    {
     "data": {
      "text/plain": [
       "<__main__.Retangulo at 0x26cff7853d0>"
      ]
     },
     "execution_count": 39,
     "metadata": {},
     "output_type": "execute_result"
    }
   ],
   "source": [
    "class Retangulo:\n",
    "    def __init__(self, lado_a, lado_b):\n",
    "        self.lado_a = lado_a     \n",
    "        self.lado_b = lado_b\n",
    "        self.area = self.area()\n",
    "        \n",
    "    def __repr__(self):\n",
    "        return f'Retangulo de lados: {self.lado_a}, {self.lado_b}; area: {self.area}'\n",
    "    \n",
    "    def area(self):\n",
    "        area = self.lado_a * self.lado_b\n",
    "        return area\n",
    "\n",
    "retangulo = Retangulo(2, 4)\n",
    "\n",
    "area = retangulo.area\n",
    "\n",
    "print(f'Área do retângulo: {area}')\n",
    "retangulo"
   ]
  },
  {
   "cell_type": "markdown",
   "id": "ab538ca8",
   "metadata": {},
   "source": [
    "Crie uma classe Quadrado, filha da classe Retângulo do exercício 2.\n",
    "\n"
   ]
  },
  {
   "cell_type": "code",
   "execution_count": 45,
   "id": "834467fd",
   "metadata": {
    "ExecuteTime": {
     "end_time": "2021-07-25T18:58:58.331016Z",
     "start_time": "2021-07-25T18:58:58.317056Z"
    }
   },
   "outputs": [
    {
     "data": {
      "text/plain": [
       "16"
      ]
     },
     "execution_count": 45,
     "metadata": {},
     "output_type": "execute_result"
    }
   ],
   "source": [
    "class Quadrado(Retangulo):\n",
    "    def __init__(self, lado):\n",
    "        super().__init__(lado, lado)\n",
    "        self.lado = lado\n",
    "        \n",
    "    def __repr__(self):\n",
    "        return f'Quadrado de lado: {self.lado}; area: {self.area}'\n",
    "\n",
    "quadrado = Quadrado(4)\n",
    "quadrado.area"
   ]
  },
  {
   "cell_type": "markdown",
   "id": "970825fd",
   "metadata": {
    "ExecuteTime": {
     "end_time": "2021-07-24T22:12:06.554677Z",
     "start_time": "2021-07-24T22:12:06.543704Z"
    }
   },
   "source": [
    "Crie uma classe Funcionario cujos atributos são nome e e-mail. Guarde as horas trabalhadas em um dicionário cujas chaves são o mês em questão e, em outro dicionário, guarde o salário por hora relativo ao mês em questão. Crie um método que retorna o salário mensal do funcionário.\n",
    "\n"
   ]
  },
  {
   "cell_type": "code",
   "execution_count": 40,
   "id": "b7e318b7",
   "metadata": {
    "ExecuteTime": {
     "end_time": "2021-07-25T17:39:05.180670Z",
     "start_time": "2021-07-25T17:39:05.168701Z"
    }
   },
   "outputs": [],
   "source": [
    "horasPorMes={}\n",
    "salarios={}\n",
    "\n",
    "class Funcionario:\n",
    "    def __init__(self, nome, email):\n",
    "        self.nome = nome     \n",
    "        self.email = email   \n",
    "        \n",
    "    def __repr__(self):\n",
    "        return f'Funcionário: {self.nome}; e-mail: {self.email}; horas mensais: {horasPorMes}; salarios: {salarios}'\n",
    "    \n",
    "    def horasTrabalhadas(self, horas, mes):\n",
    "        horasPorMes[mes] = horas\n",
    "    \n",
    "    def salario(self, salario):\n",
    "        salarios[self.nome] = salario\n",
    "        \n",
    "    def salarioMensal(self, mes):\n",
    "        salario = salarios[self.nome]\n",
    "        hTrabalho = horasPorMes[mes]\n",
    "        salarioMes = hTrabalho * salario\n",
    "        return salarioMes"
   ]
  },
  {
   "cell_type": "code",
   "execution_count": 41,
   "id": "8b1fb0d7",
   "metadata": {
    "ExecuteTime": {
     "end_time": "2021-07-25T17:39:19.236176Z",
     "start_time": "2021-07-25T17:39:19.216231Z"
    }
   },
   "outputs": [
    {
     "name": "stdout",
     "output_type": "stream",
     "text": [
      "Funcionário: Mario; e-mail: mario@letscode.com.br; horas mensais: {'Fev': 40}; salarios: {'Mario': 40}\n"
     ]
    }
   ],
   "source": [
    "func1 = Funcionario('Mario', 'mario@letscode.com.br')\n",
    "func1.horasTrabalhadas(40, 'Fev')\n",
    "func1.salario(40)\n",
    "print(func1)"
   ]
  },
  {
   "cell_type": "code",
   "execution_count": 43,
   "id": "ed2f01df",
   "metadata": {
    "ExecuteTime": {
     "end_time": "2021-07-24T22:57:55.217696Z",
     "start_time": "2021-07-24T22:57:55.198748Z"
    }
   },
   "outputs": [
    {
     "name": "stdout",
     "output_type": "stream",
     "text": [
      "800\n"
     ]
    }
   ],
   "source": [
    "print(func1.salarioMensal('Jan'))"
   ]
  },
  {
   "cell_type": "markdown",
   "id": "8edf6440",
   "metadata": {},
   "source": [
    "Crie uma classe Televisor cujos atributos são:\n",
    "\n",
    "a. fabricante;\n",
    "\n",
    "b. modelo;\n",
    "\n",
    "c. canal atual;\n",
    "\n",
    "d. lista de canais; e\n",
    "\n",
    "e. volume.\n",
    "\n",
    "Faça métodos para aumentar/diminuir volume, trocar o canal e sintonizar um novo canal, que adiciona um novo canal à lista de canais (somente se esse canal não estiver nessa lista). No atributo lista de canais, devem estar armazenados todos os canais já sintonizados dessa TV.\n",
    "\n",
    "Obs.: O volume não pode ser menor que zero e maior que cem; só se pode trocar para um canal que já esteja na lista de canais."
   ]
  },
  {
   "cell_type": "code",
   "execution_count": 11,
   "id": "deaf89d0",
   "metadata": {
    "ExecuteTime": {
     "end_time": "2021-07-25T02:10:43.882821Z",
     "start_time": "2021-07-25T02:10:43.870856Z"
    }
   },
   "outputs": [],
   "source": [
    "# Criando um canal básico para que a TV já venha com um canal de fábrica\n",
    "listaDeCanais={\n",
    "    '1': 'Canal 1 global'\n",
    "}\n",
    "\n",
    "class Televisor:\n",
    "    def __init__(self, fabricante, modelo):\n",
    "        self.fabricante = fabricante     \n",
    "        self.modelo = modelo  \n",
    "        self.canalAtual = '1'\n",
    "        self.listaCanais = listaDeCanais\n",
    "        self.volume = 10 \n",
    "        \n",
    "    def __repr__(self):\n",
    "        return f'Fabricante: {self.fabricante} \\nModelo: {self.modelo} \\nCanal atual: {self.canalAtual}\\nLista de canais: {self.listaCanais} \\nVolume: {self.volume}'\n",
    "    \n",
    "    def aumentarVolume(self):\n",
    "        if self.volume < 100:\n",
    "            self.volume += 1\n",
    "    \n",
    "    def diminuirVolume(self):\n",
    "        if self.volume > 0:\n",
    "            self.volume -= 1\n",
    "    \n",
    "    def trocarCanal(self):\n",
    "        nEncontrou = True\n",
    "        canal = input('Informe o número do canal: ')\n",
    "        for sintonizado in listaDeCanais:\n",
    "            if canal == sintonizado:\n",
    "                self.canalAtual = canal\n",
    "                nEncontrou = False\n",
    "        if nEncontrou:\n",
    "            print('Canal não sintonizado')     \n",
    "                \n",
    "    def sintonizarCanal(self):\n",
    "        nExiste = True\n",
    "        canal = input('Informe o número do canal: ')\n",
    "        for sintonizado in listaDeCanais:\n",
    "            if canal == sintonizado:\n",
    "                print('Canal já sintonizado')\n",
    "                nExiste = False\n",
    "        if nExiste:\n",
    "            nomeCanal = input('Informe o nome do canal: ')\n",
    "            listaDeCanais[canal] = nomeCanal\n",
    "            self.listaCanais = listaDeCanais\n"
   ]
  },
  {
   "cell_type": "code",
   "execution_count": 2,
   "id": "5491e260",
   "metadata": {
    "ExecuteTime": {
     "end_time": "2021-07-25T02:06:43.550445Z",
     "start_time": "2021-07-25T02:06:42.886632Z"
    }
   },
   "outputs": [
    {
     "name": "stdout",
     "output_type": "stream",
     "text": [
      "Fabricante: TVs & Cia \n",
      "Modelo: Nimbus 2000 \n",
      "Canal atual: 1 \n",
      "Lista de canais: {'1': 'Canal 1 global'} \n",
      "Volume: 10\n"
     ]
    }
   ],
   "source": [
    "tv1 = Televisor('TVs & Cia', 'Nimbus 2000')\n",
    "print(tv1)"
   ]
  },
  {
   "cell_type": "code",
   "execution_count": 16,
   "id": "7dac8bb9",
   "metadata": {
    "ExecuteTime": {
     "end_time": "2021-07-25T02:11:39.717518Z",
     "start_time": "2021-07-25T02:11:38.751728Z"
    }
   },
   "outputs": [
    {
     "name": "stdout",
     "output_type": "stream",
     "text": [
      "Informe o número do canal: 1\n",
      "Fabricante: TVs & Cia \n",
      "Modelo: Nimbus 2000 \n",
      "Canal atual: 1 \n",
      "Lista de canais: {'1': 'Canal 1 global', '5': 'Tv Golpista'} \n",
      "Volume: 0\n"
     ]
    }
   ],
   "source": [
    "tv1.diminuirVolume()\n",
    "tv1.trocarCanal()\n",
    "\n",
    "print(tv1)"
   ]
  },
  {
   "cell_type": "markdown",
   "id": "08868a42",
   "metadata": {},
   "source": [
    "Crie uma classe ControleRemoto cujo atributo é televisão (isso é, recebe um objeto da classe do exercício 4). Crie métodos para aumentar/diminuir volume, trocar o canal e sintonizar um novo canal, que adiciona um novo canal à lista de canais (somente se esse canal não estiver nessa lista)."
   ]
  },
  {
   "cell_type": "code",
   "execution_count": 26,
   "id": "e2338141",
   "metadata": {
    "ExecuteTime": {
     "end_time": "2021-07-25T02:36:36.277006Z",
     "start_time": "2021-07-25T02:36:36.258057Z"
    }
   },
   "outputs": [],
   "source": [
    "\n",
    "class ControleRemoto:\n",
    "    def __init__(self,televisao):\n",
    "# Considerando que o controle armazena informações de fabricante e modelo por ser um controle Univesal\n",
    "        self.fabricante = televisao.fabricante     \n",
    "        self.modelo = televisao.modelo \n",
    "        \n",
    "    def __repr__(self, televisao):\n",
    "        return f'Configurações do controle universal:\\nFabricante: {self.fabricante} \\nModelo: {self.modelo} \\nCanal atual: {self.canalAtual}\\nLista de canais: {self.listaCanais} \\nVolume: {self.volume}'\n",
    "    \n",
    "    def aumentarVolume(self, televisao):\n",
    "        if televisao.volume < 100:\n",
    "            televisao.volume += 1\n",
    "    \n",
    "    def diminuirVolume(self, televisao):\n",
    "        if televisao.volume > 0:\n",
    "            televisao.volume -= 1\n",
    "    \n",
    "    def trocarCanal(self, televisao):\n",
    "        nEncontrou = True\n",
    "        canal = input('Informe o número do canal: ')\n",
    "        for sintonizado in listaDeCanais:\n",
    "            if canal == sintonizado:\n",
    "                televisao.canalAtual = canal\n",
    "                nEncontrou = False\n",
    "        if nEncontrou:\n",
    "            print('Canal não sintonizado')     \n",
    "                \n",
    "    def sintonizarCanal(self, televisao):\n",
    "        nExiste = True\n",
    "        canal = input('Informe o número do canal: ')\n",
    "        for sintonizado in listaDeCanais:\n",
    "            if canal == sintonizado:\n",
    "                print('Canal já sintonizado')\n",
    "                nExiste = False\n",
    "        if nExiste:\n",
    "            nomeCanal = input('Informe o nome do canal: ')\n",
    "            listaDeCanais[canal] = nomeCanal\n",
    "            televisao.listaCanais = listaDeCanais"
   ]
  },
  {
   "cell_type": "code",
   "execution_count": 29,
   "id": "4c5540a0",
   "metadata": {
    "ExecuteTime": {
     "end_time": "2021-07-25T02:36:53.925669Z",
     "start_time": "2021-07-25T02:36:53.906730Z"
    }
   },
   "outputs": [
    {
     "name": "stdout",
     "output_type": "stream",
     "text": [
      "Fabricante: TVs & Cia \n",
      "Modelo: Nimbus 2000 \n",
      "Canal atual: 1 \n",
      "Lista de canais: {'1': 'Canal 1 global', '5': 'Tv Golpista'} \n",
      "Volume: 0\n",
      "Fabricante: TVs & Cia \n",
      "Modelo: Nimbus 2000 \n",
      "Canal atual: 1 \n",
      "Lista de canais: {'1': 'Canal 1 global', '5': 'Tv Golpista'} \n",
      "Volume: 1\n"
     ]
    }
   ],
   "source": [
    "print(tv1)\n",
    "controle1 = ControleRemoto(tv1)\n",
    "controle1.aumentarVolume(tv1)\n",
    "print(tv1)"
   ]
  },
  {
   "cell_type": "markdown",
   "id": "dda46b17",
   "metadata": {},
   "source": [
    "O módulo time possui a função time.sleep(x), que faz seu programa “dormir” por x segundos. Utilizando essa função, crie uma classe Cronômetro e faça um programa que cronometre o tempo."
   ]
  },
  {
   "cell_type": "code",
   "execution_count": 67,
   "id": "ad138427",
   "metadata": {
    "ExecuteTime": {
     "end_time": "2021-07-25T17:55:46.271558Z",
     "start_time": "2021-07-25T17:55:40.191001Z"
    }
   },
   "outputs": [
    {
     "name": "stdout",
     "output_type": "stream",
     "text": [
      "0 segundos\n",
      "1 segundo\n",
      "2 segundos\n",
      "3 segundos\n",
      "4 segundos\n",
      "5 segundos\n"
     ]
    },
    {
     "data": {
      "text/plain": [
       "Fim"
      ]
     },
     "execution_count": 67,
     "metadata": {},
     "output_type": "execute_result"
    }
   ],
   "source": [
    "from time import sleep\n",
    "\n",
    "class Cronometro:\n",
    "    # max_time é um parâmetro que pode definir o tempo total do cronômetro (em segundos)\n",
    "    def __init__(self, max_time=None):\n",
    "        self.max_time = max_time\n",
    "        \n",
    "    def __repr__(self):\n",
    "        time = 0\n",
    "        \n",
    "        if self.max_time != None:\n",
    "            while time <= self.max_time:\n",
    "                if time == 1:\n",
    "                    print(f'{time} segundo')\n",
    "                    sleep(1)\n",
    "                    time += 1\n",
    "                else:\n",
    "                    print(f'{time} segundos')\n",
    "                    sleep(1)\n",
    "                    time += 1\n",
    "        else:\n",
    "            while True:\n",
    "                if time == 1:\n",
    "                    print(f'{time} segundo')\n",
    "                    sleep(1)\n",
    "                    time += 1\n",
    "                else:\n",
    "                    print(f'{time} segundos')\n",
    "                    sleep(1)\n",
    "                    time += 1\n",
    "        return('Fim')\n",
    "cronometro = Cronometro(5)\n",
    "cronometro"
   ]
  },
  {
   "cell_type": "markdown",
   "id": "75f6cb8f",
   "metadata": {},
   "source": [
    "Crie uma modelagem de classes para uma agenda capaz de armazenar contatos. Através dessa agenda é possível incluir, remover, buscar e listar contatos já cadastrados."
   ]
  },
  {
   "cell_type": "code",
   "execution_count": 33,
   "id": "6ab1a071",
   "metadata": {
    "ExecuteTime": {
     "end_time": "2021-07-25T03:39:14.132915Z",
     "start_time": "2021-07-25T03:39:14.113002Z"
    }
   },
   "outputs": [],
   "source": [
    "class Agenda:\n",
    "    def __init__(self):\n",
    "        self.listaContatos = {}\n",
    "        \n",
    "    def __repr__(self):\n",
    "        return f'Contatos atuais: {self.listaContatos}'\n",
    "                \n",
    "    def incluirContato(self):\n",
    "        nExiste = True\n",
    "        nome = input('Informe o nome: ')\n",
    "        for contato in self.listaContatos:\n",
    "            if nome == contato:\n",
    "                print('Nome já consta na agenda')\n",
    "                nExiste = False\n",
    "        if nExiste:\n",
    "            dados = input('Insira os dados para contato: ')\n",
    "            self.listaContatos[nome] = {\n",
    "                dados\n",
    "            }      \n",
    "            \n",
    "    def buscarContato(self):          \n",
    "        NaoEncontrou = True\n",
    "        buscaNome = input('Informe o nome procurado: ')\n",
    "        for nome in self.listaContatos:\n",
    "            if nome == buscaNome:\n",
    "                print(f'Dados do contato: {self.listaContatos[buscaNome]}')\n",
    "                NaoEncontrou = False\n",
    "        if NaoEncontrou:\n",
    "            print(f'{buscaNome} não encontrado.')     \n",
    "            \n",
    "    def removerContato(self):\n",
    "        nExiste = True\n",
    "        nome = input('Informe o nome a ser removido: ')\n",
    "        for contato in self.listaContatos:\n",
    "            if nome == contato:\n",
    "                excluiNome = nome\n",
    "                nExiste = False\n",
    "        del self.listaContatos[excluiNome]\n",
    "        print(f'{nome} excluído')\n",
    "        if nExiste:\n",
    "            dados = input('Não encontrado')\n",
    "            \n",
    "    def listarContatos(self):\n",
    "        for contato in self.listaContatos:\n",
    "            print(f'{contato}, {self.listaContatos[contato]}')\n",
    "            \n",
    "agenda = Agenda()"
   ]
  },
  {
   "cell_type": "code",
   "execution_count": 39,
   "id": "b386cb84",
   "metadata": {
    "ExecuteTime": {
     "end_time": "2021-07-25T03:40:02.568199Z",
     "start_time": "2021-07-25T03:40:02.560221Z"
    }
   },
   "outputs": [
    {
     "name": "stdout",
     "output_type": "stream",
     "text": [
      "Fe, {'fe@'}\n",
      "Je, {'je@'}\n"
     ]
    }
   ],
   "source": [
    "agenda.incluirContato()\n",
    "agenda.incluirContato()\n",
    "agenda.listarContatos()\n",
    "agenda.buscarContato()\n",
    "agenda.removerContato()\n",
    "agenda.listarContatos()\n"
   ]
  },
  {
   "cell_type": "markdown",
   "id": "7232c355",
   "metadata": {},
   "source": [
    "Crie uma classe Cliente cujos atributos são nome, idade e e-mail. Construa um método que imprima as informações tal como abaixo:\n",
    "\n",
    "Nome: Fulano de Tal\n",
    "\n",
    "Idade: 40\n",
    "\n",
    "E-mail: fulano@mail.com"
   ]
  },
  {
   "cell_type": "code",
   "execution_count": 40,
   "id": "37c0eff7",
   "metadata": {
    "ExecuteTime": {
     "end_time": "2021-07-25T03:45:38.310447Z",
     "start_time": "2021-07-25T03:45:38.292525Z"
    }
   },
   "outputs": [
    {
     "data": {
      "text/plain": [
       "Nome: Fulando de Tal\n",
       "\n",
       "Idade 40\n",
       "\n",
       "E-mail: fulano@mail.com"
      ]
     },
     "execution_count": 40,
     "metadata": {},
     "output_type": "execute_result"
    }
   ],
   "source": [
    "class Cliente:\n",
    "    def __init__(self, nome, idade, email):\n",
    "        self.nome = nome\n",
    "        self.idade = idade\n",
    "        self.email = email\n",
    "        \n",
    "    def __repr__(self):\n",
    "        return f'Nome: {self.nome}\\n\\nIdade: {self.idade}\\n\\nE-mail: {self.email}'\n",
    "                \n",
    "# Criando um cliente 1, no modelo Cliente(nome, idade, e-mail)          \n",
    "cliente1 = Cliente('Fulando de Tal', 40, 'fulano@mail.com')\n",
    "cliente1"
   ]
  },
  {
   "cell_type": "markdown",
   "id": "33bd9d8b",
   "metadata": {},
   "source": [
    "Com base no exercício anterior, crie um sistema de cadastro e a classe Cliente. Seu programa deve perguntar se o usuário quer cadastrar um novo cliente, alterar um cadastro ou sair.\n",
    "\n",
    "Dica: Você pode fazer esse exercício criando uma classe Sistema, que irá controlar o sistema de cadastros. Essa classe deve ter o atributo cadastro e os métodos para imprimir os cadastrados, cadastrar um novo cliente, alterar um cadastro ou sair."
   ]
  },
  {
   "cell_type": "code",
   "execution_count": 1,
   "id": "d95ad26b",
   "metadata": {
    "ExecuteTime": {
     "end_time": "2021-07-25T06:05:40.204126Z",
     "start_time": "2021-07-25T06:05:40.179191Z"
    }
   },
   "outputs": [],
   "source": [
    "class Cliente:\n",
    "    def __init__(self, nome, idade, email):\n",
    "        self.nome = nome\n",
    "        self.idade = idade\n",
    "        self.email = email\n",
    "        \n",
    "    def __repr__(self):\n",
    "        return f'Nome: {self.nome}\\n\\nIdade: {self.idade}\\n\\nE-mail: {self.email}'\n",
    "    \n",
    "class Sistema:\n",
    "    def __init__(self, cadastro):\n",
    "        self.nome = cadastro.nome\n",
    "        self.idade = cadastro.idade\n",
    "        self.email = cadastro.email\n",
    "        sublista = []\n",
    "        sublista.append(self.idade)\n",
    "        sublista.append(self.email)\n",
    "        self.cadastros = []\n",
    "        self.cadastros.append(self.nome)\n",
    "        self.cadastros.append(sublista)\n",
    "        \n",
    "    def iniciar(self):\n",
    "        resposta = 1\n",
    "        while resposta in (1, 2):\n",
    "            try:\n",
    "                resposta = int(input('Digite 1 para cadastrar um cliente, 2 para alterar um cadastro ou qualquer outro número para finalizar.'))\n",
    "            except:\n",
    "                continue\n",
    "            if resposta == 1:\n",
    "                self.cadastrarCliente()\n",
    "            elif resposta == 2:\n",
    "                self.alterarCadastro()\n",
    "        print('Sistema encerrado.')\n",
    "        \n",
    "    def __repr__(self):\n",
    "        i = 0\n",
    "        try:\n",
    "            while i <= len(self.cadastros):\n",
    "                print(f'Nome: {self.cadastros[i]}; idade: {self.cadastros[i+1][0]}; e-mail: {self.cadastros[i+1][1]}')\n",
    "                i += 2\n",
    "        except:\n",
    "            return ''\n",
    "                \n",
    "    def cadastrarCliente(self):\n",
    "        sublista = []\n",
    "        nome = input('Informe o nome: ')\n",
    "        idade = int(input('Insira a idade: '))\n",
    "        email = input('Informe o e-mail: ')\n",
    "        sublista.append(idade)\n",
    "        sublista.append(email)\n",
    "        self.cadastros.append(nome)\n",
    "        self.cadastros.append(sublista)\n",
    "            \n",
    "    def alterarCadastro(self):          \n",
    "        NaoEncontrou = True\n",
    "        buscaNome = input('Informe o nome procurado: ')\n",
    "        for i in range(len(self.cadastros)):\n",
    "            if self.cadastros[i] == buscaNome:\n",
    "                print(f'Dados do contato: {self.cadastros[i + 1]}')\n",
    "                NaoEncontrou = False\n",
    "                novoNome = input('Insira o novo nome (deixe vazio para não alterar): ')\n",
    "                novoEmail = input('Insira o novo e-mail (deixe vazio para não alterar): ')\n",
    "                try:\n",
    "                    novaIdade = int(input('Insira a nova idade (deixe vazio para não alterar): '))\n",
    "                except:\n",
    "                    novaIdade = ''                        \n",
    "                if novaIdade != '':\n",
    "                    self.cadastros[i+1][0] = novaIdade\n",
    "                if novoEmail != '':\n",
    "                    self.cadastros[i+1][1] = novoEmail\n",
    "                if novoNome != '':\n",
    "                    self.cadastros[i] = novoNome\n",
    "        if NaoEncontrou:\n",
    "            print(f'{buscaNome} não encontrado.')     "
   ]
  },
  {
   "cell_type": "code",
   "execution_count": 10,
   "id": "42d90d88",
   "metadata": {
    "ExecuteTime": {
     "end_time": "2021-07-25T06:19:44.106367Z",
     "start_time": "2021-07-25T06:19:41.633385Z"
    }
   },
   "outputs": [
    {
     "name": "stdout",
     "output_type": "stream",
     "text": [
      "Digite 1 para cadastrar um cliente, 2 para alterar um cadastro ou qualquer outro número para finalizar.3\n",
      "Sistema encerrado.\n",
      "Nome: x; idade: 32; e-mail: joao@teste\n",
      "\n"
     ]
    }
   ],
   "source": [
    "cliente1 = Cliente('João', 32, 'joao@teste')\n",
    "cliente1\n",
    "\n",
    "sistema = Sistema(cliente1)\n",
    "sistema.iniciar()\n",
    "print(sistema)"
   ]
  },
  {
   "cell_type": "markdown",
   "id": "8ecd08a6",
   "metadata": {},
   "source": [
    "Crie uma classe ContaCorrente com os atributos cliente (que deve ser um objeto da classe Cliente) e saldo. Crie métodos para depósito, saque e transferência. Os métodos de saque e transferência devem verificar se é possível realizar a transação."
   ]
  },
  {
   "cell_type": "code",
   "execution_count": 1,
   "id": "0193e3ca",
   "metadata": {
    "ExecuteTime": {
     "end_time": "2021-07-25T18:28:14.561383Z",
     "start_time": "2021-07-25T18:28:14.545425Z"
    }
   },
   "outputs": [],
   "source": [
    "class Cliente:\n",
    "    def __init__(self, nome, idade, email):\n",
    "        self.nome = nome\n",
    "        self.idade = idade\n",
    "        self.email = email\n",
    "        \n",
    "    def __repr__(self):\n",
    "        return f'Nome: {self.nome}\\n\\nIdade: {self.idade}\\n\\nE-mail: {self.email}'\n",
    "\n",
    "class ContaCorrente:\n",
    "    def __init__(self, cliente, saldo):\n",
    "        self.nome = cliente.nome\n",
    "        self.idade = cliente.idade\n",
    "        self.email = cliente.email\n",
    "        self.saldo = saldo\n",
    "        \n",
    "    def __repr__(self):\n",
    "        return f'Saldo de {self.nome}: R$ {self.saldo:.2f}'\n",
    "    \n",
    "    def deposito(self, valor):\n",
    "        if valor > 0:\n",
    "            self.saldo += valor\n",
    "            \n",
    "    def saque (self, valor):\n",
    "        if valor <= self.saldo:\n",
    "            self.saldo -= valor\n",
    "    \n",
    "    def transferencia (self, valor, contaDestino):\n",
    "        if valor <= self.saldo:\n",
    "            self.saldo -= valor\n",
    "            contaDestino.saldo += valor"
   ]
  },
  {
   "cell_type": "code",
   "execution_count": 2,
   "id": "559a69ab",
   "metadata": {
    "ExecuteTime": {
     "end_time": "2021-07-25T18:04:28.425815Z",
     "start_time": "2021-07-25T18:04:28.407868Z"
    }
   },
   "outputs": [
    {
     "name": "stdout",
     "output_type": "stream",
     "text": [
      "Saldo de João: R$ 100.00\n",
      "Saldo de Ana: R$ 50.00\n"
     ]
    }
   ],
   "source": [
    "cliente1 = Cliente('João', 32, 'joao@teste')\n",
    "cliente2 = Cliente('Ana', 32, 'ana@teste')\n",
    "cc2 = ContaCorrente(cliente2, 200)\n",
    "cc1 = ContaCorrente(cliente1, 50)\n",
    "cc2.deposito(400)\n",
    "cc2.saque(500)\n",
    "cc2.transferencia(50, cc1)\n",
    "print(cc1)\n",
    "print(cc2)"
   ]
  },
  {
   "cell_type": "markdown",
   "id": "07a589fa",
   "metadata": {},
   "source": [
    "Faça uma classe ContaVip que difere da ContaCorrente por ter cheque especial (novo atributo) e é filha da classe ContaCorrente. Você precisa implementar os métodos para saque, transferência ou depósito?"
   ]
  },
  {
   "cell_type": "code",
   "execution_count": 4,
   "id": "24ab304d",
   "metadata": {
    "ExecuteTime": {
     "end_time": "2021-07-25T18:29:43.855073Z",
     "start_time": "2021-07-25T18:29:43.835126Z"
    }
   },
   "outputs": [],
   "source": [
    "class ContaVip(ContaCorrente):\n",
    "    def __init__(self, cliente, saldo, chequeEspecial):\n",
    "        super().__init__(cliente, saldo)\n",
    "        self.chequeEspecialInicial = chequeEspecial\n",
    "        self.chequeEspecial = chequeEspecial\n",
    "        \n",
    "#preciso implementar os métodos novamente, sendo que as regras para os mesmos mudam com o cheque especial\n",
    "    def __repr__(self):\n",
    "        return f'Saldo de {self.nome}: R$ {self.saldo:.2f}; Cheque especial: R$ {self.chequeEspecial:.2f} disponível de R$ {self.chequeEspecialInicial:.2f}'\n",
    "    \n",
    "    def deposito(self, valor):\n",
    "        if valor > 0:\n",
    "            if self.chequeEspecial < self.chequeEspecialInicial:\n",
    "                delta = self.chequeEspecialInicial - self.chequeEspecial\n",
    "                if valor <= delta:\n",
    "                    self.chequeEspecial += valor\n",
    "                else: \n",
    "                    self.chequeEspecial += delta\n",
    "                    valor -= delta              \n",
    "                    self.saldo += valor\n",
    "            else:\n",
    "                self.saldo += valor\n",
    "            \n",
    "    def saque (self, valor):\n",
    "        if valor <= (self.saldo + self.chequeEspecial):\n",
    "            if valor <= self.saldo:\n",
    "                self.saldo -= valor\n",
    "            else:\n",
    "                delta = valor - self.saldo\n",
    "                self.saldo = 0\n",
    "                self.chequeEspecial -= delta\n",
    "        else:\n",
    "            print('Saldo insuficiente')\n",
    "    \n",
    "    def transferencia (self, valor, contaDestino):\n",
    "        if valor <= (self.saldo + self.chequeEspecial):\n",
    "            if valor <= self.saldo:\n",
    "                self.saldo -= valor\n",
    "                contaDestino.saldo += valor\n",
    "            else:\n",
    "                delta = valor - self.saldo\n",
    "                self.saldo = 0\n",
    "                self.chequeEspecial -= delta\n",
    "                contaDestino.saldo += valor\n",
    "        else:\n",
    "            print('Saldo insuficiente')"
   ]
  },
  {
   "cell_type": "code",
   "execution_count": 15,
   "id": "156facc4",
   "metadata": {
    "ExecuteTime": {
     "end_time": "2021-07-25T18:33:27.297447Z",
     "start_time": "2021-07-25T18:33:27.288471Z"
    }
   },
   "outputs": [
    {
     "name": "stdout",
     "output_type": "stream",
     "text": [
      "Saldo de João: R$ 100.00; Cheque especial: R$ 50.00 disponível de R$ 50.00\n",
      "Saldo de João: R$ 500.00; Cheque especial: R$ 50.00 disponível de R$ 50.00\n",
      "Saldo de João: R$ 75.00; Cheque especial: R$ 50.00 disponível de R$ 50.00\n",
      "Saldo de João: R$ 0.00; Cheque especial: R$ 25.00 disponível de R$ 50.00\n",
      "Saldo de Ana: R$ 300.00\n"
     ]
    }
   ],
   "source": [
    "cliente1 = Cliente('João', 32, 'joao@teste')\n",
    "cliente2 = Cliente('Ana', 32, 'ana@teste')\n",
    "cc2 = ContaCorrente(cliente2, 200)\n",
    "cc1 = ContaCorrente(cliente1, 50)\n",
    "cv1 = ContaVip(cliente1, 100, 50)\n",
    "print(cv1)\n",
    "cv1.deposito(400)\n",
    "print(cv1)\n",
    "cv1.saque(525)\n",
    "cv1.deposito(100)\n",
    "print(cv1)\n",
    "cv1.transferencia(100, cc2)\n",
    "print(cv1)\n",
    "print(cc2)"
   ]
  },
  {
   "cell_type": "markdown",
   "id": "0d2f76be",
   "metadata": {},
   "source": [
    "Crie uma classe Fração cujos atributos são numerador (número de cima) e denominador (número de baixo).\n",
    "\n",
    "Implemente os métodos de adição, subtração, multiplicação, divisão que retornam objetos do tipo Fração.\n",
    "\n",
    "Implemente também o método _ repr _.\n",
    "\n",
    "Implemente métodos para comparação: igualdade (==) e desigualdades (!=, <=, >=, < e >)."
   ]
  },
  {
   "cell_type": "code",
   "execution_count": 1,
   "id": "46ffb5ef",
   "metadata": {
    "ExecuteTime": {
     "end_time": "2021-08-02T03:57:41.166462Z",
     "start_time": "2021-08-02T03:57:41.144553Z"
    }
   },
   "outputs": [],
   "source": [
    "class Fracao:\n",
    "    def __init__(self, numerador, denominador):\n",
    "        self.numerador = numerador\n",
    "        self.denominador = denominador\n",
    "        \n",
    "    #Extra: método para simplificar os fatores da fração\n",
    "    def simplifica(self):\n",
    "        numerador = self.numerador\n",
    "        denominador = self.denominador\n",
    "        if abs(numerador) > abs(denominador):\n",
    "            menor = abs(denominador)\n",
    "        else:\n",
    "            menor = abs(numerador)\n",
    "        fator = 1\n",
    "        i = 2\n",
    "        while i <= menor:\n",
    "            if numerador%i == 0 and denominador%i == 0:\n",
    "                fator = i\n",
    "            i += 1\n",
    "        self.numerador = int(numerador/fator)\n",
    "        self.denominador = int(denominador/fator)\n",
    "        return self\n",
    "    \n",
    "    def __repr__(self):\n",
    "        return f'{self.numerador}/{self.denominador}'\n",
    "    \n",
    "    def __add__(self, fracao):\n",
    "        soma = Fracao(0, 0)\n",
    "        soma.numerador = self.numerador * fracao.denominador + fracao.numerador * self.denominador\n",
    "        soma.denominador = self.denominador * fracao.denominador\n",
    "        soma.simplifica()\n",
    "        return soma\n",
    "        \n",
    "    def __sub__(self, fracao):\n",
    "        subtrai = Fracao(0, 0)\n",
    "        subtrai.denominador = self.denominador * fracao.denominador\n",
    "        subtrai.numerador = self.numerador * fracao.denominador - fracao.numerador * self.denominador\n",
    "        subtrai.simplifica()\n",
    "        return subtrai\n",
    "    \n",
    "    def __mul__(self, fracao):\n",
    "        multiplica = Fracao(0, 0)\n",
    "        multiplica.denominador = self.denominador * fracao.denominador\n",
    "        multiplica.numerador = self.numerador * fracao.numerador\n",
    "        multiplica.simplifica()\n",
    "        return multiplica\n",
    "        \n",
    "    def __truediv__(self, fracao):\n",
    "        divide = Fracao(0, 0)\n",
    "        divide.denominador = self.denominador * fracao.numerador\n",
    "        divide.numerador = self.numerador * fracao.denominador\n",
    "        divide.simplifica()\n",
    "        return divide\n",
    "    \n",
    "    def igual(self, fracao):\n",
    "        if self.numerador / self.denominador == fracao.numerador / fracao.denominador:\n",
    "            return True\n",
    "        else:\n",
    "            return False\n",
    "        \n",
    "    def diferente(self, fracao):\n",
    "        if self.numerador / self.denominador != fracao.numerador / fracao.denominador:\n",
    "            return True\n",
    "        else:\n",
    "            return False\n",
    "        \n",
    "    def maiorIgual(self, fracao):\n",
    "        if self.numerador / self.denominador >= fracao.numerador / fracao.denominador:\n",
    "            return True\n",
    "        else:\n",
    "            return False\n",
    "        \n",
    "    def menorIgual(self, fracao):\n",
    "        if self.numerador / self.denominador <= fracao.numerador / fracao.denominador:\n",
    "            return True\n",
    "        else:\n",
    "            return False\n",
    "        \n",
    "    def maior(self, fracao):\n",
    "        if self.numerador / self.denominador > fracao.numerador / fracao.denominador:\n",
    "            return True\n",
    "        else:\n",
    "            return False\n",
    "        \n",
    "    def menor(self, fracao):\n",
    "        if self.numerador / self.denominador > fracao.numerador / fracao.denominador:\n",
    "            return True\n",
    "        else:\n",
    "            return False\n"
   ]
  },
  {
   "cell_type": "code",
   "execution_count": 48,
   "id": "a193147c",
   "metadata": {
    "ExecuteTime": {
     "end_time": "2021-07-25T16:48:52.497501Z",
     "start_time": "2021-07-25T16:48:52.488525Z"
    }
   },
   "outputs": [
    {
     "name": "stdout",
     "output_type": "stream",
     "text": [
      "1/1\n",
      "0/8\n",
      "1/4\n",
      "True\n",
      "False\n",
      "False\n",
      "True\n",
      "False\n",
      "True\n"
     ]
    }
   ],
   "source": [
    "fracao1 = Fracao(1, 2)\n",
    "fracao2 = Fracao(2, 4)\n",
    "soma = fracao1 + fracao2\n",
    "subtracao = fracao1 - fracao2\n",
    "multiplicacao = fracao1 * fracao2\n",
    "divisao = fracao1 / fracao2\n",
    "print(soma)\n",
    "print(subtracao)\n",
    "print(multiplicacao)\n",
    "print(fracao1.igual(fracao2))\n",
    "print(fracao1.diferente(fracao2))\n",
    "print(fracao1.maior(fracao2))\n",
    "print(fracao1.maiorIgual(fracao2))\n",
    "print(fracao1.menor(fracao2))\n",
    "print(fracao1.menorIgual(fracao2))"
   ]
  },
  {
   "cell_type": "code",
   "execution_count": 5,
   "id": "3350293f",
   "metadata": {
    "ExecuteTime": {
     "end_time": "2021-08-02T04:01:32.746517Z",
     "start_time": "2021-08-02T04:01:32.711612Z"
    }
   },
   "outputs": [
    {
     "name": "stdout",
     "output_type": "stream",
     "text": [
      "3456/9765625\n",
      "0.0003538944\n"
     ]
    }
   ],
   "source": [
    "sessenta = Fracao(60, 100)\n",
    "quarenta= Fracao(40, 100)\n",
    "sessenta2 = sessenta * sessenta \n",
    "sessenta3 = sessenta2 * sessenta \n",
    "quarenta2 = quarenta * quarenta\n",
    "quarenta3 = quarenta2 * quarenta\n",
    "quarenta4 = quarenta3 * quarenta\n",
    "quarenta5 = quarenta4 * quarenta\n",
    "quarenta6 = quarenta5 * quarenta\n",
    "quarenta7 = quarenta6 * quarenta\n",
    "retorno = sessenta * sessenta * sessenta * quarenta * quarenta *quarenta * quarenta*quarenta * quarenta*quarenta\n",
    "print(retorno)\n",
    "print(3456/9765625)"
   ]
  },
  {
   "cell_type": "markdown",
   "id": "dc3aeb0f",
   "metadata": {},
   "source": [
    "Crie uma classe Data cujos atributos são dia, mês e ano. Implemente métodos _ repr _ e para comparação: igualdade (==) e desigualdades (!=, <=, >=, < e >)."
   ]
  },
  {
   "cell_type": "code",
   "execution_count": 12,
   "id": "4a149592",
   "metadata": {
    "ExecuteTime": {
     "end_time": "2021-07-25T17:11:24.126633Z",
     "start_time": "2021-07-25T17:11:24.101730Z"
    }
   },
   "outputs": [],
   "source": [
    "class Data:\n",
    "    def __init__(self, dia, mes, ano):\n",
    "        if dia > 0 and mes > 0 and ano >= 0 and dia <= 31 and mes <= 12:\n",
    "            if type(dia) == int and type (mes) == int and type(ano) == int:\n",
    "                self.dia = dia\n",
    "                self.mes = mes\n",
    "                self.ano = ano\n",
    "            else:\n",
    "                print('Insira números inteiros')\n",
    "        else:\n",
    "            print('Data inválida')\n",
    "    \n",
    "    def __repr__(self):\n",
    "        return f'{self.dia}/{self.mes}/{self.ano}'\n",
    "    \n",
    "    def igual(self, data):\n",
    "        if self.dia == data.dia and self.mes == data.mes and self.ano == data.ano:\n",
    "            return True\n",
    "        else:\n",
    "            return False\n",
    "        \n",
    "    def diferente(self, data):\n",
    "        if self.dia != data.dia or self.mes != data.mes or self.ano != data.ano:\n",
    "            return True\n",
    "        else:\n",
    "            return False\n",
    "        \n",
    "    def maiorIgual(self, data):\n",
    "        if self.ano >= data.ano:\n",
    "            return True\n",
    "        elif self.ano >= data.ano and self.mes >= data.mes:\n",
    "            return True\n",
    "        elif self.ano >= data.ano and self.mes >= data.mes and self.dia >= data.dia:\n",
    "            return True\n",
    "        else:\n",
    "            return False\n",
    "        \n",
    "    def menorIgual(self, data):\n",
    "        if self.ano <= data.ano:\n",
    "            return True\n",
    "        elif self.ano <= data.ano and self.mes <= data.mes:\n",
    "            return True\n",
    "        elif self.ano <= data.ano and self.mes <= data.mes and self.dia <= data.dia:\n",
    "            return True\n",
    "        else:\n",
    "            return False\n",
    "        \n",
    "    def maior(self, data):\n",
    "        if self.ano > data.ano:\n",
    "            return True\n",
    "        elif self.ano > data.ano and self.mes > data.mes:\n",
    "            return True\n",
    "        elif self.ano > data.ano and self.mes > data.mes and self.dia < data.dia:\n",
    "            return True\n",
    "        else:\n",
    "            return False\n",
    "        \n",
    "    def menor(self, data):\n",
    "        if self.ano < data.ano:\n",
    "            return True\n",
    "        elif self.ano < data.ano and self.mes < data.mes:\n",
    "            return True\n",
    "        elif self.ano < data.ano and self.mes < data.mes and self.dia < data.dia:\n",
    "            return True\n",
    "        else:\n",
    "            return False\n"
   ]
  },
  {
   "cell_type": "code",
   "execution_count": 13,
   "id": "36a96072",
   "metadata": {
    "ExecuteTime": {
     "end_time": "2021-07-25T17:11:27.328268Z",
     "start_time": "2021-07-25T17:11:27.316302Z"
    }
   },
   "outputs": [
    {
     "name": "stdout",
     "output_type": "stream",
     "text": [
      "10/1/2021 = 10/1/2021 ?: True\n",
      "10/1/2021 = 31/12/1990 ?: False\n",
      "10/1/2021 != 10/1/2021 ?: False\n",
      "10/1/2021 != 31/12/1990 ?: True\n",
      "10/1/2021 >= 10/1/2021 ?: True\n",
      "10/1/2021 >= 31/12/1990 ?: True\n",
      "10/1/2021 <= 10/1/2021 ?: True\n",
      "10/1/2021 <= 31/12/1990 ?: False\n",
      "10/1/2021 > 10/1/2021 ?: False\n",
      "10/1/2021 > 31/12/1990 ?: True\n",
      "10/1/2021 < 10/1/2021 ?: False\n",
      "10/1/2021 < 31/12/1990 ?: False\n"
     ]
    }
   ],
   "source": [
    "data1 = Data(10, 1, 2021)\n",
    "data2 = Data(10, 1, 2021)\n",
    "data3 = Data(31, 12, 1990)\n",
    "print(f'{data1} = {data2} ?: {data1.igual(data2)}')\n",
    "print(f'{data1} = {data3} ?: {data1.igual(data3)}')\n",
    "print(f'{data1} != {data2} ?: {data1.diferente(data2)}')\n",
    "print(f'{data1} != {data3} ?: {data1.diferente(data3)}')\n",
    "print(f'{data1} >= {data2} ?: {data1.maiorIgual(data2)}')\n",
    "print(f'{data1} >= {data3} ?: {data1.maiorIgual(data3)}')\n",
    "print(f'{data1} <= {data2} ?: {data1.menorIgual(data2)}')\n",
    "print(f'{data1} <= {data3} ?: {data1.menorIgual(data3)}')\n",
    "print(f'{data1} > {data2} ?: {data1.maior(data2)}')\n",
    "print(f'{data1} > {data3} ?: {data1.maior(data3)}')\n",
    "print(f'{data1} < {data2} ?: {data1.menor(data2)}')\n",
    "print(f'{data1} < {data3} ?: {data1.menor(data3)}')"
   ]
  }
 ],
 "metadata": {
  "kernelspec": {
   "display_name": "Python 3",
   "language": "python",
   "name": "python3"
  },
  "language_info": {
   "codemirror_mode": {
    "name": "ipython",
    "version": 3
   },
   "file_extension": ".py",
   "mimetype": "text/x-python",
   "name": "python",
   "nbconvert_exporter": "python",
   "pygments_lexer": "ipython3",
   "version": "3.8.8"
  },
  "toc": {
   "base_numbering": 1,
   "nav_menu": {},
   "number_sections": true,
   "sideBar": true,
   "skip_h1_title": true,
   "title_cell": "Table of Contents",
   "title_sidebar": "Contents",
   "toc_cell": false,
   "toc_position": {
    "height": "calc(100% - 180px)",
    "left": "10px",
    "top": "150px",
    "width": "165px"
   },
   "toc_section_display": true,
   "toc_window_display": true
  }
 },
 "nbformat": 4,
 "nbformat_minor": 5
}
