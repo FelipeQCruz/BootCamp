{
 "cells": [
  {
   "cell_type": "markdown",
   "metadata": {},
   "source": [
    "# Aula 11 - POO\n",
    "---\n",
    "\n",
    "<img src=\"https://lc-public-assets.s3.sa-east-1.amazonaws.com/images/Logos/logoLcPng.webp\" width=\"220px\" style=\"position: absolute; top: 15px; right: 20px; border-radius: 5px;\" />\n",
    "\n",
    "1. Classes: Criação  \n",
    "2. Objetos  \n",
    "      2.1. Instanciando objetos  \n",
    "      2.2. Acessando atributos  \n",
    "      2.3. Executando métodos \n",
    "3. Métodos mágicos"
   ]
  },
  {
   "cell_type": "markdown",
   "metadata": {},
   "source": [
    "## Exercícios\n",
    "\n",
    "### "
   ]
  },
  {
   "cell_type": "markdown",
   "metadata": {},
   "source": [
    "## Classes\n",
    "---"
   ]
  },
  {
   "cell_type": "markdown",
   "metadata": {
    "ExecuteTime": {
     "end_time": "2021-07-21T15:10:57.596060Z",
     "start_time": "2021-07-21T15:10:57.582583Z"
    }
   },
   "source": [
    "### No Python, tudo é um objeto"
   ]
  },
  {
   "cell_type": "code",
   "execution_count": 1,
   "metadata": {
    "ExecuteTime": {
     "end_time": "2021-07-21T15:07:55.812201Z",
     "start_time": "2021-07-21T15:07:55.800232Z"
    }
   },
   "outputs": [],
   "source": [
    "numero = 10 #criando um objeto da classe 'int'"
   ]
  },
  {
   "cell_type": "code",
   "execution_count": 2,
   "metadata": {
    "ExecuteTime": {
     "end_time": "2021-07-21T15:08:10.915395Z",
     "start_time": "2021-07-21T15:08:10.898441Z"
    }
   },
   "outputs": [
    {
     "name": "stdout",
     "output_type": "stream",
     "text": [
      "<class 'int'>\n"
     ]
    }
   ],
   "source": [
    "print(type(numero))"
   ]
  },
  {
   "cell_type": "code",
   "execution_count": 3,
   "metadata": {
    "ExecuteTime": {
     "end_time": "2021-07-21T15:08:49.224014Z",
     "start_time": "2021-07-21T15:08:49.207057Z"
    }
   },
   "outputs": [],
   "source": [
    "texto = 'Aula 11'"
   ]
  },
  {
   "cell_type": "code",
   "execution_count": 4,
   "metadata": {
    "ExecuteTime": {
     "end_time": "2021-07-21T15:08:56.094543Z",
     "start_time": "2021-07-21T15:08:56.078585Z"
    }
   },
   "outputs": [
    {
     "name": "stdout",
     "output_type": "stream",
     "text": [
      "<class 'str'>\n"
     ]
    }
   ],
   "source": [
    "print(type(texto))"
   ]
  },
  {
   "cell_type": "code",
   "execution_count": 8,
   "metadata": {
    "ExecuteTime": {
     "end_time": "2021-07-21T15:09:36.601336Z",
     "start_time": "2021-07-21T15:09:36.590373Z"
    }
   },
   "outputs": [],
   "source": [
    "lista = [1, 2, 3, 4, 5]"
   ]
  },
  {
   "cell_type": "code",
   "execution_count": 6,
   "metadata": {
    "ExecuteTime": {
     "end_time": "2021-07-21T15:09:20.000006Z",
     "start_time": "2021-07-21T15:09:19.991028Z"
    }
   },
   "outputs": [
    {
     "name": "stdout",
     "output_type": "stream",
     "text": [
      "<class 'list'>\n"
     ]
    }
   ],
   "source": [
    "print(type(lista))"
   ]
  },
  {
   "cell_type": "code",
   "execution_count": 9,
   "metadata": {
    "ExecuteTime": {
     "end_time": "2021-07-21T15:10:27.858880Z",
     "start_time": "2021-07-21T15:10:27.831610Z"
    }
   },
   "outputs": [
    {
     "data": {
      "text/plain": [
       "list"
      ]
     },
     "execution_count": 9,
     "metadata": {},
     "output_type": "execute_result"
    }
   ],
   "source": [
    "type(lista)"
   ]
  },
  {
   "cell_type": "markdown",
   "metadata": {},
   "source": [
    "### Criando nossa primeira classe\n",
    "\n",
    "Vamos criar um classe que representa jogadores. Os jogadores possuem nome e pontuação, que inicia em zero. O jogador pode realizar a ação de lançar um dado, e nessa ação, o resultado pode ser um valor entre 1 e 6."
   ]
  },
  {
   "cell_type": "code",
   "execution_count": 27,
   "metadata": {
    "ExecuteTime": {
     "end_time": "2021-07-21T15:47:59.645635Z",
     "start_time": "2021-07-21T15:47:59.636657Z"
    }
   },
   "outputs": [],
   "source": [
    "from random import randint\n",
    "\n",
    "class Jogador:\n",
    "    # Construtor (inicializa um objeto)\n",
    "    # Método obrigatório: def __init__(self)\n",
    "    # restante dos parâmetros de entrada: nome, necessário receber no início, e pontuação, que é inicialmente 0 (não temos que receber)\n",
    "    def __init__(self, nome):\n",
    "        self.nome = nome # atributo 1: nome\n",
    "        self.pontuacao = 0 # atributo 2: pontuação\n",
    "        \n",
    "    def lancamento_de_dado(self):\n",
    "        valor_do_dado = randint(1, 6)\n",
    "        self.pontuacao += valor_do_dado"
   ]
  },
  {
   "cell_type": "code",
   "execution_count": 28,
   "metadata": {
    "ExecuteTime": {
     "end_time": "2021-07-21T15:48:00.145171Z",
     "start_time": "2021-07-21T15:48:00.140185Z"
    }
   },
   "outputs": [],
   "source": [
    "# O objeto é criado quando criamos a classe\n",
    "jogador1 = Jogador('Mario') # Criando (instanciando) um objeto da classe jogador"
   ]
  },
  {
   "cell_type": "code",
   "execution_count": 29,
   "metadata": {
    "ExecuteTime": {
     "end_time": "2021-07-21T15:48:00.605823Z",
     "start_time": "2021-07-21T15:48:00.598835Z"
    }
   },
   "outputs": [
    {
     "name": "stdout",
     "output_type": "stream",
     "text": [
      "<class '__main__.Jogador'>\n"
     ]
    }
   ],
   "source": [
    "print(type(jogador1))"
   ]
  },
  {
   "cell_type": "code",
   "execution_count": 30,
   "metadata": {
    "ExecuteTime": {
     "end_time": "2021-07-21T15:48:01.098468Z",
     "start_time": "2021-07-21T15:48:01.078847Z"
    }
   },
   "outputs": [
    {
     "data": {
      "text/plain": [
       "'Mario'"
      ]
     },
     "execution_count": 30,
     "metadata": {},
     "output_type": "execute_result"
    }
   ],
   "source": [
    "jogador1.nome"
   ]
  },
  {
   "cell_type": "code",
   "execution_count": 31,
   "metadata": {
    "ExecuteTime": {
     "end_time": "2021-07-21T15:48:01.891717Z",
     "start_time": "2021-07-21T15:48:01.886218Z"
    }
   },
   "outputs": [
    {
     "name": "stdout",
     "output_type": "stream",
     "text": [
      "0\n",
      "<class 'int'>\n"
     ]
    }
   ],
   "source": [
    "print(jogador1.pontuacao)\n",
    "print(type(jogador1.pontuacao))"
   ]
  },
  {
   "cell_type": "code",
   "execution_count": 42,
   "metadata": {
    "ExecuteTime": {
     "end_time": "2021-07-21T15:49:50.241053Z",
     "start_time": "2021-07-21T15:49:50.223100Z"
    }
   },
   "outputs": [
    {
     "data": {
      "text/plain": [
       "4"
      ]
     },
     "execution_count": 42,
     "metadata": {},
     "output_type": "execute_result"
    }
   ],
   "source": [
    "jogador1.lancamento_de_dado()\n",
    "jogador1.pontuacao"
   ]
  },
  {
   "cell_type": "code",
   "execution_count": 44,
   "metadata": {
    "ExecuteTime": {
     "end_time": "2021-07-21T15:50:14.378521Z",
     "start_time": "2021-07-21T15:50:14.362564Z"
    }
   },
   "outputs": [
    {
     "data": {
      "text/plain": [
       "0"
      ]
     },
     "execution_count": 44,
     "metadata": {},
     "output_type": "execute_result"
    }
   ],
   "source": [
    "jogador2 = Jogador('Luigi')\n",
    "jogador2.pontuacao"
   ]
  },
  {
   "cell_type": "code",
   "execution_count": 33,
   "metadata": {
    "ExecuteTime": {
     "end_time": "2021-07-21T15:48:03.108303Z",
     "start_time": "2021-07-21T15:48:03.102319Z"
    }
   },
   "outputs": [
    {
     "name": "stdout",
     "output_type": "stream",
     "text": [
      "[<__main__.Jogador object at 0x00000231868DE7F0>, <__main__.Jogador object at 0x00000231868DE6D8>]\n"
     ]
    }
   ],
   "source": [
    "lista = [jogador1, jogador2]\n",
    "print(lista)"
   ]
  },
  {
   "cell_type": "code",
   "execution_count": 34,
   "metadata": {
    "ExecuteTime": {
     "end_time": "2021-07-21T15:48:03.546398Z",
     "start_time": "2021-07-21T15:48:03.539414Z"
    }
   },
   "outputs": [
    {
     "data": {
      "text/plain": [
       "{'Mario': <__main__.Jogador at 0x231868de7f0>,\n",
       " 'Luigi': <__main__.Jogador at 0x231868de6d8>}"
      ]
     },
     "execution_count": 34,
     "metadata": {},
     "output_type": "execute_result"
    }
   ],
   "source": [
    "dicionario = {jogador1.nome: jogador1, jogador2.nome: jogador2}\n",
    "dicionario"
   ]
  },
  {
   "cell_type": "code",
   "execution_count": 35,
   "metadata": {
    "ExecuteTime": {
     "end_time": "2021-07-21T15:48:13.927870Z",
     "start_time": "2021-07-21T15:48:04.071336Z"
    }
   },
   "outputs": [
    {
     "name": "stdout",
     "output_type": "stream",
     "text": [
      "Quantos jogadores irão participar?3\n",
      "Informe o nome do jogador 1: Mario\n",
      "Informe o nome do jogador 2: Luigi\n",
      "Informe o nome do jogador 3: Ryu\n"
     ]
    },
    {
     "data": {
      "text/plain": [
       "{'Mario': <__main__.Jogador at 0x231868de208>,\n",
       " 'Luigi': <__main__.Jogador at 0x231868de0b8>,\n",
       " 'Ryu': <__main__.Jogador at 0x231868de4e0>}"
      ]
     },
     "execution_count": 35,
     "metadata": {},
     "output_type": "execute_result"
    }
   ],
   "source": [
    "qtd_jogadores = int(input('Quantos jogadores irão participar?'))\n",
    "\n",
    "jogadores = {}\n",
    "\n",
    "for i in range(qtd_jogadores):\n",
    "    nome = input(f'Informe o nome do jogador {i + 1}: ')\n",
    "    jogadores[nome] = Jogador(nome)\n",
    "jogadores"
   ]
  },
  {
   "cell_type": "markdown",
   "metadata": {},
   "source": [
    "---\n",
    "### Para praticar\n",
    "\n",
    "Criar uma class chamada `Point`, que abstrai um ponto do plano cartesiano 2D. Esta classe deve conter três métodos:\n",
    "\n",
    "1. um método para atualizar as coordenadas do ponto;\n",
    "2. um método para calcular e retornar a distância para a origem;\n",
    "3. um método que recebe outro ponto e calcula a distância entre o objeto e o outro ponto recebido como parâmetro.\n",
    "\n",
    "\n",
    "![](https://media.tenor.com/images/56074b63a3b147fe7ac2ff71d3e9fc26/tenor.gif)"
   ]
  },
  {
   "cell_type": "code",
   "execution_count": null,
   "metadata": {},
   "outputs": [],
   "source": []
  },
  {
   "cell_type": "code",
   "execution_count": null,
   "metadata": {},
   "outputs": [],
   "source": []
  },
  {
   "cell_type": "code",
   "execution_count": null,
   "metadata": {},
   "outputs": [],
   "source": []
  },
  {
   "cell_type": "code",
   "execution_count": null,
   "metadata": {},
   "outputs": [],
   "source": []
  },
  {
   "cell_type": "code",
   "execution_count": null,
   "metadata": {},
   "outputs": [],
   "source": []
  },
  {
   "cell_type": "code",
   "execution_count": null,
   "metadata": {},
   "outputs": [],
   "source": []
  },
  {
   "cell_type": "code",
   "execution_count": null,
   "metadata": {},
   "outputs": [],
   "source": []
  },
  {
   "cell_type": "markdown",
   "metadata": {},
   "source": [
    "## Métodos Mágicos\n",
    "---\n",
    "\n",
    "1. Representação\n",
    "2. Operações Aritméticas\n",
    "3. Operações Lógicas"
   ]
  },
  {
   "cell_type": "markdown",
   "metadata": {},
   "source": [
    "### Classe de Horário"
   ]
  },
  {
   "cell_type": "code",
   "execution_count": null,
   "metadata": {},
   "outputs": [],
   "source": []
  },
  {
   "cell_type": "code",
   "execution_count": null,
   "metadata": {},
   "outputs": [],
   "source": []
  },
  {
   "cell_type": "code",
   "execution_count": null,
   "metadata": {},
   "outputs": [],
   "source": []
  },
  {
   "cell_type": "code",
   "execution_count": null,
   "metadata": {},
   "outputs": [],
   "source": []
  },
  {
   "cell_type": "code",
   "execution_count": null,
   "metadata": {},
   "outputs": [],
   "source": []
  },
  {
   "cell_type": "code",
   "execution_count": null,
   "metadata": {},
   "outputs": [],
   "source": []
  },
  {
   "cell_type": "code",
   "execution_count": null,
   "metadata": {},
   "outputs": [],
   "source": []
  },
  {
   "cell_type": "markdown",
   "metadata": {},
   "source": [
    "### 1. Adicionando o método `__repr__`"
   ]
  },
  {
   "cell_type": "code",
   "execution_count": null,
   "metadata": {},
   "outputs": [],
   "source": []
  },
  {
   "cell_type": "code",
   "execution_count": null,
   "metadata": {},
   "outputs": [],
   "source": []
  },
  {
   "cell_type": "code",
   "execution_count": null,
   "metadata": {},
   "outputs": [],
   "source": []
  },
  {
   "cell_type": "code",
   "execution_count": null,
   "metadata": {},
   "outputs": [],
   "source": []
  },
  {
   "cell_type": "code",
   "execution_count": null,
   "metadata": {},
   "outputs": [],
   "source": []
  },
  {
   "cell_type": "markdown",
   "metadata": {},
   "source": [
    "### 2. Operadores Aritméticos\n",
    "\n",
    "#### Adicionando um método de soma (adição)"
   ]
  },
  {
   "cell_type": "code",
   "execution_count": null,
   "metadata": {},
   "outputs": [],
   "source": []
  },
  {
   "cell_type": "code",
   "execution_count": null,
   "metadata": {},
   "outputs": [],
   "source": []
  },
  {
   "cell_type": "code",
   "execution_count": null,
   "metadata": {},
   "outputs": [],
   "source": []
  },
  {
   "cell_type": "code",
   "execution_count": null,
   "metadata": {},
   "outputs": [],
   "source": []
  },
  {
   "cell_type": "code",
   "execution_count": null,
   "metadata": {},
   "outputs": [],
   "source": []
  },
  {
   "cell_type": "markdown",
   "metadata": {},
   "source": [
    "#### Outros operadores aritméticos\n",
    "\n",
    "Temos os seguintes métodos mágicos aritméticos:\n",
    "* ```__add__``` soma: +\n",
    "* ```__sub__``` subtração: -\n",
    "* ```__mul__``` multiplicação: *\n",
    "* ```__truediv__``` divisão: /\n",
    "* ```__floordiv__``` divisão inteira: //\n",
    "* ```__mod__``` resto de divisão: % \n",
    "* ```__pow__``` potência: **\n",
    "  "
   ]
  },
  {
   "cell_type": "code",
   "execution_count": null,
   "metadata": {},
   "outputs": [],
   "source": []
  },
  {
   "cell_type": "code",
   "execution_count": null,
   "metadata": {},
   "outputs": [],
   "source": []
  },
  {
   "cell_type": "code",
   "execution_count": null,
   "metadata": {},
   "outputs": [],
   "source": []
  },
  {
   "cell_type": "code",
   "execution_count": null,
   "metadata": {},
   "outputs": [],
   "source": []
  },
  {
   "cell_type": "code",
   "execution_count": null,
   "metadata": {},
   "outputs": [],
   "source": []
  },
  {
   "cell_type": "markdown",
   "metadata": {},
   "source": [
    "### 3. Operadores Lógicos\n",
    "\n",
    "Os métodos lógicos são:\n",
    "\n",
    "* ```__gt__``` maior que (**g**reater **t**han): >\n",
    "* ```__ge__``` maior ou igual (**g**reater or **e**qual): >=\n",
    "* ```__lt__``` menor que (**l**ess **t**han): <\n",
    "* ```__le__``` menor ou igual (**l**ess  or **e**qual): <=\n",
    "* ```__eq__``` igual (**eq**ual): ==\n",
    "* ```__ne__``` diferente (**n**ot **e**qual): !=\n",
    "\n",
    "> Abordamos os métodos mágicos mais comuns. Temos vários outros, mas além de ser uma lista muito longa, alguns deles são para funcionalidades avançadas não abordadas no curso. Quem estiver interessado em se aprofundar para fazer projetos mais sofisticados pode conferir esse guia excelente: https://rszalski.github.io/magicmethods/"
   ]
  },
  {
   "cell_type": "code",
   "execution_count": null,
   "metadata": {},
   "outputs": [],
   "source": []
  },
  {
   "cell_type": "code",
   "execution_count": null,
   "metadata": {},
   "outputs": [],
   "source": []
  },
  {
   "cell_type": "code",
   "execution_count": null,
   "metadata": {},
   "outputs": [],
   "source": []
  },
  {
   "cell_type": "code",
   "execution_count": null,
   "metadata": {},
   "outputs": [],
   "source": []
  },
  {
   "cell_type": "code",
   "execution_count": null,
   "metadata": {},
   "outputs": [],
   "source": []
  },
  {
   "cell_type": "code",
   "execution_count": null,
   "metadata": {},
   "outputs": [],
   "source": []
  }
 ],
 "metadata": {
  "kernelspec": {
   "display_name": "Python 3",
   "language": "python",
   "name": "python3"
  },
  "language_info": {
   "codemirror_mode": {
    "name": "ipython",
    "version": 3
   },
   "file_extension": ".py",
   "mimetype": "text/x-python",
   "name": "python",
   "nbconvert_exporter": "python",
   "pygments_lexer": "ipython3",
   "version": "3.8.8"
  },
  "toc": {
   "base_numbering": 1,
   "nav_menu": {},
   "number_sections": true,
   "sideBar": true,
   "skip_h1_title": false,
   "title_cell": "Table of Contents",
   "title_sidebar": "Contents",
   "toc_cell": false,
   "toc_position": {},
   "toc_section_display": true,
   "toc_window_display": false
  }
 },
 "nbformat": 4,
 "nbformat_minor": 4
}
