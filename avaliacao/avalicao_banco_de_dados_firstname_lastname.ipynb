{
 "cells": [
  {
   "cell_type": "markdown",
   "id": "e1b37209",
   "metadata": {},
   "source": [
    "# Instruções\n",
    "\n",
    "Enviar para o email filipe.furlan@letscode.com.br até 2021/07/27 as 16:00 o notebook preenchido (avalicao_banco_de_dados_firstname_lastname.ipynb) com a resolução dos exercicios abaixo.\n",
    "\n",
    "Use as ferramentas de costume para resolver os problemas e copie/cole as soluções no notebook.\n",
    "\n",
    "**OBS:** Não deixe de pedir ajuda o mais rápido possível caso não consiga configurar a base de dados ou tenha problemas com o notebook."
   ]
  },
  {
   "cell_type": "code",
   "execution_count": null,
   "id": "269fa07e",
   "metadata": {},
   "outputs": [],
   "source": []
  },
  {
   "cell_type": "markdown",
   "id": "a74ad4b5",
   "metadata": {},
   "source": [
    "# Criando a base de dados (0,0)"
   ]
  },
  {
   "cell_type": "markdown",
   "id": "eacf7348",
   "metadata": {},
   "source": [
    "Crie um schema `hr` no pagAdmin4 e execute o arquivo `hr_database.sql` para criar as tabelas. "
   ]
  },
  {
   "cell_type": "code",
   "execution_count": null,
   "id": "26683975",
   "metadata": {},
   "outputs": [],
   "source": []
  },
  {
   "cell_type": "markdown",
   "id": "8be86096",
   "metadata": {},
   "source": [
    "# Explorando o dataset. (2,0)"
   ]
  },
  {
   "cell_type": "markdown",
   "id": "8047fb8f",
   "metadata": {},
   "source": [
    "## (0,5)"
   ]
  },
  {
   "cell_type": "markdown",
   "id": "9e58515d",
   "metadata": {},
   "source": [
    "Quais são as chave primária, estrangeria e indices de cada tabela?  (0,5)"
   ]
  },
  {
   "cell_type": "markdown",
   "id": "288d7600",
   "metadata": {},
   "source": [
    "> "
   ]
  },
  {
   "cell_type": "code",
   "execution_count": null,
   "id": "854de124",
   "metadata": {},
   "outputs": [],
   "source": []
  },
  {
   "cell_type": "markdown",
   "id": "d0f087c1",
   "metadata": {},
   "source": [
    "## (1,5)"
   ]
  },
  {
   "cell_type": "markdown",
   "id": "6440f2b3",
   "metadata": {},
   "source": [
    "Faça um EDR (também conhecido como modelo entidade relacionamento   - MER) dessa base e anxe o resultado abaixo."
   ]
  },
  {
   "cell_type": "markdown",
   "id": "6e1a4382",
   "metadata": {},
   "source": [
    "> "
   ]
  },
  {
   "cell_type": "code",
   "execution_count": null,
   "id": "26b44d6b",
   "metadata": {},
   "outputs": [],
   "source": []
  },
  {
   "cell_type": "markdown",
   "id": "6ed73da0",
   "metadata": {},
   "source": [
    "# Alguns conceitos. (1,0)"
   ]
  },
  {
   "cell_type": "markdown",
   "id": "cf059cf5",
   "metadata": {},
   "source": [
    "## (0,5)"
   ]
  },
  {
   "cell_type": "markdown",
   "id": "3456079e",
   "metadata": {},
   "source": [
    "Explique com suas palavras qual a vantagem de usarmos indices e por que não devemos indexar todas as colunas."
   ]
  },
  {
   "cell_type": "markdown",
   "id": "1de37213",
   "metadata": {},
   "source": [
    ">"
   ]
  },
  {
   "cell_type": "code",
   "execution_count": null,
   "id": "020290cd",
   "metadata": {},
   "outputs": [],
   "source": []
  },
  {
   "cell_type": "markdown",
   "id": "66a7b4b1",
   "metadata": {},
   "source": [
    "##  (0,5)"
   ]
  },
  {
   "cell_type": "markdown",
   "id": "c7246442",
   "metadata": {},
   "source": [
    "Ambas clausulas `WHERE` e `HAVING` são usadas para filtras linhas especifícas no comando `SELECT`. Qual a diferença entre eles?"
   ]
  },
  {
   "cell_type": "markdown",
   "id": "d24efa8b",
   "metadata": {},
   "source": [
    "> "
   ]
  },
  {
   "cell_type": "code",
   "execution_count": null,
   "id": "b5146a0b",
   "metadata": {},
   "outputs": [],
   "source": []
  },
  {
   "cell_type": "markdown",
   "id": "9ea7289d",
   "metadata": {},
   "source": [
    "# Relatórios (5,0)"
   ]
  },
  {
   "cell_type": "markdown",
   "id": "d58a45c4",
   "metadata": {},
   "source": [
    "##  (1,0)"
   ]
  },
  {
   "cell_type": "markdown",
   "id": "c4d3139b",
   "metadata": {},
   "source": [
    "Num estudo para melhorar os gastos com logistica, foi perguntado ao time de dados:\n",
    "\n",
    "1. Em quantos países a empresa está presente, de acordo com os dados da tabela `location`? (0,5)\n"
   ]
  },
  {
   "cell_type": "markdown",
   "id": "86b53e6a",
   "metadata": {},
   "source": [
    "Query:\n",
    "\n",
    "> "
   ]
  },
  {
   "cell_type": "markdown",
   "id": "6f35317f",
   "metadata": {},
   "source": [
    "Resultado:\n",
    "\n",
    "> "
   ]
  },
  {
   "cell_type": "code",
   "execution_count": null,
   "id": "c7ac2e43",
   "metadata": {},
   "outputs": [],
   "source": []
  },
  {
   "cell_type": "markdown",
   "id": "653d6bb2",
   "metadata": {},
   "source": [
    "2. Em quais cidades inglesas e alemãs a empresa está presente? (0,5)"
   ]
  },
  {
   "attachments": {},
   "cell_type": "markdown",
   "id": "03f15c79",
   "metadata": {},
   "source": [
    "Query:\n",
    "> "
   ]
  },
  {
   "attachments": {},
   "cell_type": "markdown",
   "id": "5ee421df",
   "metadata": {},
   "source": [
    "Resultado:\n",
    "\n",
    "> "
   ]
  },
  {
   "cell_type": "code",
   "execution_count": null,
   "id": "a9d6ab17",
   "metadata": {},
   "outputs": [],
   "source": []
  },
  {
   "cell_type": "markdown",
   "id": "7ee0a267",
   "metadata": {},
   "source": [
    "## (1,0)"
   ]
  },
  {
   "cell_type": "markdown",
   "id": "ab339787",
   "metadata": {},
   "source": [
    "Faça um relatório que traga o nome completo do colaborador e o número de dependentes (`colaborador | dependentes`). Importante que os colaboradores que não tem dependentes também apareçam na lista. A lista deve ser ordenada pelo número de dependentes, do maior para o menor e em seguida por ordem alfabética. "
   ]
  },
  {
   "cell_type": "markdown",
   "id": "8b0cdd18",
   "metadata": {},
   "source": [
    "Query:\n",
    "\n",
    "> "
   ]
  },
  {
   "attachments": {},
   "cell_type": "markdown",
   "id": "2d7ebae6",
   "metadata": {},
   "source": [
    "Resultado:\n",
    "\n",
    "> "
   ]
  },
  {
   "cell_type": "code",
   "execution_count": null,
   "id": "e514400e",
   "metadata": {},
   "outputs": [],
   "source": []
  },
  {
   "cell_type": "markdown",
   "id": "481c7db2",
   "metadata": {},
   "source": [
    "## (1,0)"
   ]
  },
  {
   "cell_type": "markdown",
   "id": "69ce46ce",
   "metadata": {},
   "source": [
    "O RH quer premiar os colaboradores que estão a 25 anos ou mais na empresa. Crie uma coluna `premio` na tabela `employees` que traga a palavra BONUS para os colaboredes que fazem jus ao prêmio e ESPERAR para os que não  fazem."
   ]
  },
  {
   "cell_type": "markdown",
   "id": "77b5dc54",
   "metadata": {},
   "source": [
    "Query:\n",
    "> "
   ]
  },
  {
   "attachments": {},
   "cell_type": "markdown",
   "id": "9c9342eb",
   "metadata": {},
   "source": [
    "Resultado:\n",
    "\n",
    "> "
   ]
  },
  {
   "cell_type": "code",
   "execution_count": null,
   "id": "68074700",
   "metadata": {},
   "outputs": [],
   "source": []
  },
  {
   "cell_type": "markdown",
   "id": "bd425520",
   "metadata": {},
   "source": [
    "##  (2,0)"
   ]
  },
  {
   "cell_type": "markdown",
   "id": "8133c81b",
   "metadata": {},
   "source": [
    "A empresa está passando por uma reestruturação e precisa saber quantos funcionários estão alocados em cada departamento, bem como o total e a média de salários deles. Faça um relatório no formato `nome_departamento | numero_funcionarios | salario_total | salario_medio` ordenado por salario medio, do maior para o menor. Os números decimais devem conter duas casas após a virgula. (2,0)\n",
    "\n",
    "- Criar a query corretamente com apenas uma métrica (numero_funcionarios ou salario_total ou salario_medio)  (1,0)\n",
    "- Criar as outras duas métricas (+ 0,25 cada)\n",
    "- Ordernar corretamente (+ 0,25)\n",
    "- Deixar os numeros decimais com duas casas (+ 0,25)"
   ]
  },
  {
   "cell_type": "markdown",
   "id": "61e40670",
   "metadata": {},
   "source": [
    "Query:\n",
    "> "
   ]
  },
  {
   "attachments": {},
   "cell_type": "markdown",
   "id": "1ef854f6",
   "metadata": {},
   "source": [
    "Resultado:\n",
    "> "
   ]
  },
  {
   "cell_type": "code",
   "execution_count": null,
   "id": "5c64f8c3",
   "metadata": {},
   "outputs": [],
   "source": []
  },
  {
   "cell_type": "markdown",
   "id": "ef119d09",
   "metadata": {},
   "source": [
    "# Arrumando a query dos outros (2,0)"
   ]
  },
  {
   "cell_type": "markdown",
   "id": "09e4f001",
   "metadata": {},
   "source": [
    "Seu colega de departamento estava trabahando num relatório para descobrir quais os três departamentos que mais gastam com salários (e o respectivo valor total de cada um) e em que paises eles estão localizados. No dia da entrega ele ficou doente e pediu sua jauda para completar a tarefa. Ele te mandou a query abaixo por email e informou que, além de deixar o relatório no formato pedido, a query contém um bug que ele ainda não encontrou. Conclua a tarefa do seu colega.  (2,0)"
   ]
  },
  {
   "cell_type": "markdown",
   "id": "934907e3",
   "metadata": {},
   "source": [
    "Query enviada:\n",
    "\n",
    "    WITH temp_table as(\n",
    "    SELECT \n",
    "    dep.location_id,\n",
    "    dep.department_name nome_departamento, \n",
    "    SUM(emp.salary) salario_total\n",
    "    FROM departments dep\n",
    "    JOIN employees emp on emp.department_id = dep.department_id\n",
    "    GROUP BY dep.location_id, dep.department_name\n",
    "    ORDER BY 3 DESC\n",
    "    LIMIT 10)\n",
    "    Select tt.*, cnt.country_name\n",
    "    from temp_table as tt \n",
    "    join locations loc on loc.location_id = cnt.location_id\n",
    "    join countries cnt on cnt.country_id = tt.country_id\n",
    "    order by 2 DESC;"
   ]
  },
  {
   "cell_type": "markdown",
   "id": "3895004f",
   "metadata": {},
   "source": [
    "Query:\n",
    "> "
   ]
  },
  {
   "attachments": {},
   "cell_type": "markdown",
   "id": "e2b082b5",
   "metadata": {},
   "source": [
    "Resultado:\n",
    "\n",
    "> "
   ]
  },
  {
   "cell_type": "code",
   "execution_count": null,
   "id": "ff649cb2",
   "metadata": {},
   "outputs": [],
   "source": []
  }
 ],
 "metadata": {
  "kernelspec": {
   "display_name": "Python 3",
   "language": "python",
   "name": "python3"
  },
  "language_info": {
   "codemirror_mode": {
    "name": "ipython",
    "version": 3
   },
   "file_extension": ".py",
   "mimetype": "text/x-python",
   "name": "python",
   "nbconvert_exporter": "python",
   "pygments_lexer": "ipython3",
   "version": "3.8.8"
  },
  "toc": {
   "base_numbering": 1,
   "nav_menu": {},
   "number_sections": true,
   "sideBar": true,
   "skip_h1_title": false,
   "title_cell": "Table of Contents",
   "title_sidebar": "Contents",
   "toc_cell": false,
   "toc_position": {},
   "toc_section_display": true,
   "toc_window_display": true
  }
 },
 "nbformat": 4,
 "nbformat_minor": 5
}
