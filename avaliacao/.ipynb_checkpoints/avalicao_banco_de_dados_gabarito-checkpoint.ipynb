{
 "cells": [
  {
   "cell_type": "markdown",
   "id": "0f07ebb3",
   "metadata": {},
   "source": [
    "# Instruções\n",
    "\n",
    "Enviar para o email filipe.furlan@letscode.com.br até 2021/07/27 as 16:00 o notebook preenchido (avalicao_banco_de_dados_firstname_lastname.ipynb) com a resolução dos exercicios abaixo.\n",
    "\n",
    "Use as ferramentas de costume para resolver os problemas e copie/cole as soluções no notebook."
   ]
  },
  {
   "cell_type": "code",
   "execution_count": null,
   "id": "1529bb6a",
   "metadata": {},
   "outputs": [],
   "source": []
  },
  {
   "cell_type": "markdown",
   "id": "7c516de5",
   "metadata": {},
   "source": [
    "# Criando a base de dados (0,0)"
   ]
  },
  {
   "cell_type": "markdown",
   "id": "aad77eb2",
   "metadata": {},
   "source": [
    "Crie um schema `hr` no pagAdmin4 e execute o arquivo `hr_database.sql` para criar as tabelas. "
   ]
  },
  {
   "cell_type": "code",
   "execution_count": null,
   "id": "f00cde2d",
   "metadata": {},
   "outputs": [],
   "source": []
  },
  {
   "cell_type": "markdown",
   "id": "68ffa234",
   "metadata": {},
   "source": [
    "# Explorando o dataset. (2,0)"
   ]
  },
  {
   "cell_type": "markdown",
   "id": "26d56a52",
   "metadata": {},
   "source": [
    "## (0,5)"
   ]
  },
  {
   "cell_type": "markdown",
   "id": "757b9970",
   "metadata": {},
   "source": [
    "Quais são as chave primária, estrangeria e indices de cada tabela?  (0,5)"
   ]
  },
  {
   "cell_type": "markdown",
   "id": "79197f54",
   "metadata": {},
   "source": [
    "1. countries\n",
    " - chave primária: country_id\n",
    " - chave estrangeira: region_id\n",
    " - indice(s): -\n",
    "\n",
    "\n",
    "2. departments\n",
    " - chave primária: department_id\n",
    " - chave estrangeira: location_id\n",
    " - indice(s): -\n",
    " \n",
    "\n",
    "3. dependents\n",
    " - chave primária: dependent_id\n",
    " - chave estrangeira: employee_id\n",
    " - indice(s): -\n",
    "\n",
    "4. employees\n",
    " - chave primária: employee_id\n",
    " - chave estrangeira: department_id, job_id, manager_id\n",
    " - indice(s): employeeindex\n",
    "\n",
    "5. jobs\n",
    " - chave primária: job_id\n",
    " - chave estrangeira: -\n",
    " - indice(s): jobindex\n",
    " \n",
    " \n",
    "6. locations\n",
    " - chave primária: location_id\n",
    " - chave estrangeira: country_id\n",
    " - indice(s): -\n",
    "\n",
    "\n",
    "7. regions\n",
    " - chave primária: region_id\n",
    " - chave estrangeira: -\n",
    " - indice(s): -"
   ]
  },
  {
   "cell_type": "code",
   "execution_count": null,
   "id": "5d1a320f",
   "metadata": {},
   "outputs": [],
   "source": []
  },
  {
   "cell_type": "markdown",
   "id": "0bace752",
   "metadata": {},
   "source": [
    "## (1,5)"
   ]
  },
  {
   "cell_type": "markdown",
   "id": "69c82838",
   "metadata": {},
   "source": [
    "Faça um EDR (também conhecido como modelo entidade relacionamento   - MER) dessa base e anxe o resultado abaixo."
   ]
  },
  {
   "cell_type": "markdown",
   "id": "da1918a3",
   "metadata": {},
   "source": [
    "> "
   ]
  },
  {
   "cell_type": "code",
   "execution_count": null,
   "id": "dd3e3879",
   "metadata": {},
   "outputs": [],
   "source": []
  },
  {
   "cell_type": "markdown",
   "id": "ec74d0e4",
   "metadata": {},
   "source": [
    "# Alguns conceitos. (1,0)"
   ]
  },
  {
   "cell_type": "markdown",
   "id": "76540005",
   "metadata": {},
   "source": [
    "## (0,5)"
   ]
  },
  {
   "cell_type": "markdown",
   "id": "f349faaa",
   "metadata": {},
   "source": [
    "Explique com suas palavras qual a vantagem de usarmos indices e por que não devemos indexar todas as colunas."
   ]
  },
  {
   "cell_type": "markdown",
   "id": "9a46acf1",
   "metadata": {},
   "source": [
    ">"
   ]
  },
  {
   "cell_type": "code",
   "execution_count": null,
   "id": "bfc0fc43",
   "metadata": {},
   "outputs": [],
   "source": []
  },
  {
   "cell_type": "markdown",
   "id": "99eb6c08",
   "metadata": {},
   "source": [
    "##  (0,5)"
   ]
  },
  {
   "cell_type": "markdown",
   "id": "31cb2780",
   "metadata": {},
   "source": [
    "Ambas clausulas `WHERE` e `HAVING` são usadas para filtras linhas especifícas no comando `SELECT`. Qual a diferença entre eles?"
   ]
  },
  {
   "cell_type": "markdown",
   "id": "7380c32d",
   "metadata": {},
   "source": [
    "> "
   ]
  },
  {
   "cell_type": "code",
   "execution_count": null,
   "id": "da5e44ac",
   "metadata": {},
   "outputs": [],
   "source": []
  },
  {
   "cell_type": "markdown",
   "id": "9ea0b9eb",
   "metadata": {},
   "source": [
    "# Relatórios (5,0)"
   ]
  },
  {
   "cell_type": "markdown",
   "id": "f92a3ea3",
   "metadata": {},
   "source": [
    "##  (1,0)"
   ]
  },
  {
   "cell_type": "markdown",
   "id": "9231588a",
   "metadata": {},
   "source": [
    "Num estudo para melhorar os gastos com logistica, foi perguntado ao time de dados:\n",
    "\n",
    "1. Em quantos países a empresa está presente, de acordo com os dados da tabela `location`? (0,5)\n"
   ]
  },
  {
   "cell_type": "markdown",
   "id": "7992fa58",
   "metadata": {},
   "source": [
    "Query:\n",
    "\n",
    "    Select count(distinct(country_id)) from locations;"
   ]
  },
  {
   "cell_type": "markdown",
   "id": "0945abc8",
   "metadata": {},
   "source": [
    "Resultado:\n",
    "\n",
    "    4"
   ]
  },
  {
   "cell_type": "code",
   "execution_count": null,
   "id": "9ba27d70",
   "metadata": {},
   "outputs": [],
   "source": []
  },
  {
   "cell_type": "markdown",
   "id": "1a2acdf2",
   "metadata": {},
   "source": [
    "2. Em quais cidades inglesas e alemãs a empresa está presente? (0,5)"
   ]
  },
  {
   "attachments": {},
   "cell_type": "markdown",
   "id": "6d81aa3f",
   "metadata": {},
   "source": [
    "Query:\n",
    "\n",
    "    Select city \n",
    "    from locations\n",
    "    where country_id in ('UK', 'DE');"
   ]
  },
  {
   "attachments": {
    "image.png": {
     "image/png": "[encoded data removed]"
    }
   },
   "cell_type": "markdown",
   "id": "3dd6be65",
   "metadata": {},
   "source": [
    "Resultado:\n",
    "\n",
    "![image.png](attachment:image.png)"
   ]
  },
  {
   "cell_type": "code",
   "execution_count": null,
   "id": "34704b22",
   "metadata": {},
   "outputs": [],
   "source": []
  },
  {
   "cell_type": "markdown",
   "id": "bbdd4c93",
   "metadata": {},
   "source": [
    "## (1,0)"
   ]
  },
  {
   "cell_type": "markdown",
   "id": "36107460",
   "metadata": {},
   "source": [
    "Faça um relatório que traga o nome completo do colaborador e o número de dependentes (`colaborador | dependentes`). Importante que os colaboradores que não tem dependentes também apareçam na lista. A lista deve ser ordenada pelo número de dependentes, do maior para o menor e em seguida por ordem alfabética. "
   ]
  },
  {
   "cell_type": "markdown",
   "id": "c6d3c764",
   "metadata": {},
   "source": [
    "Query:\n",
    "\n",
    "    Select emp.first_name || ' ' || emp.last_name colaborador, count(dep.*) dependentes\n",
    "    from employees emp \n",
    "    left join dependents dep on dep.employee_id = emp.employee_id\n",
    "    group by emp.first_name || ' ' || emp.last_name\n",
    "    order by 2 DESC, 1; "
   ]
  },
  {
   "cell_type": "markdown",
   "id": "9dfed05e",
   "metadata": {},
   "source": [
    "## (1,0)"
   ]
  },
  {
   "cell_type": "markdown",
   "id": "b7bf6d33",
   "metadata": {},
   "source": [
    "O RH quer premiar os colaboradores que estão a 25 anos ou mais na empresa. Crie uma coluna `premio` na tabela `employees` que traga a palavra BONUS para os colaboredes que fazem jus ao prêmio e ESPERAR para os que não  fazem."
   ]
  },
  {
   "cell_type": "markdown",
   "id": "8451bcc7",
   "metadata": {},
   "source": [
    "Query:\n",
    "\n",
    "    SELECT *,\n",
    "    case when (current_date-hire_date)/365.25 >= 25 then 'BONUS' ELSE 'ESPERAR' end premio\n",
    "    from employees;"
   ]
  },
  {
   "cell_type": "code",
   "execution_count": null,
   "id": "3bc96d9b",
   "metadata": {},
   "outputs": [],
   "source": []
  },
  {
   "cell_type": "markdown",
   "id": "9e2d8565",
   "metadata": {},
   "source": [
    "##  (2,0)"
   ]
  },
  {
   "cell_type": "markdown",
   "id": "62aabf2f",
   "metadata": {},
   "source": [
    "A empresa está passando por uma reestruturação e precisa saber quantos funcionários estão alocados em cada departamento, bem como o total e a média de salários deles. Faça um relatório no formato `nome_departamento | numero_funcionarios | salario_total | salario_medio` ordenado por salario medio, do maior para o menor. Os números decimais devem conter duas casas após a virgula. (2,0)\n",
    "\n",
    "- Criar a query corretamente com apenas uma métrica (numero_funcionarios ou salario_total ou salario_medio)  (1,0)\n",
    "- Criar as outras duas métricas (+ 0,25 cada)\n",
    "- Ordernar corretamente (+ 0,25)\n",
    "- Deixar os numeros decimais com duas casas (+ 0,25)"
   ]
  },
  {
   "cell_type": "markdown",
   "id": "2e58af97",
   "metadata": {},
   "source": [
    "Query:\n",
    "\n",
    "    SELECT \n",
    "    dep.department_name nome_departamento, \n",
    "    COUNT(1) funcionarios,\n",
    "    SUM(emp.salary) salario_total,\n",
    "    round(AVG(emp.salary)::numeric, 2) salario_medio\n",
    "    FROM departments dep\n",
    "    JOIN employees emp on emp.department_id = dep.department_id\n",
    "    GROUP BY dep.department_name\n",
    "    ORDER BY 4 DESC;"
   ]
  },
  {
   "attachments": {
    "image-2.png": {
     "image/png": "[encoded data removed]"
    }
   },
   "cell_type": "markdown",
   "id": "72e1bb32",
   "metadata": {},
   "source": [
    "Resultado:\n",
    "\n",
    "![image-2.png](attachment:image-2.png)"
   ]
  },
  {
   "cell_type": "code",
   "execution_count": null,
   "id": "732c0f93",
   "metadata": {},
   "outputs": [],
   "source": []
  },
  {
   "cell_type": "markdown",
   "id": "bbcad05e",
   "metadata": {},
   "source": [
    "# Arrumando a query dos outros (2,0)"
   ]
  },
  {
   "cell_type": "markdown",
   "id": "251e6ef8",
   "metadata": {},
   "source": [
    "Seu colega de departamento estava trabahando num relatório para descobrir quais os três departamentos que mais gastam com salários (e o respectivo valor total de cada um) e em que paises eles estão localizados. No dia da entrega ele ficou doente e pediu sua jauda para completar a tarefa. Ele te mandou a query abaixo por email e informou que, além de deixar o relatório no formato pedido, a query contém um bug que ele ainda não encontrou. Conclua a tarefa do seu colega.  (2,0)"
   ]
  },
  {
   "cell_type": "markdown",
   "id": "b1151d5b",
   "metadata": {},
   "source": [
    "Query enviada:\n",
    "\n",
    "    WITH temp_table as(\n",
    "    SELECT \n",
    "    dep.location_id,\n",
    "    dep.department_name nome_departamento, \n",
    "    SUM(emp.salary) salario_total\n",
    "    FROM departments dep\n",
    "    JOIN employees emp on emp.department_id = dep.department_id\n",
    "    GROUP BY dep.location_id, dep.department_name\n",
    "    ORDER BY 3 DESC\n",
    "    LIMIT 10)\n",
    "    Select tt.*, cnt.country_name\n",
    "    from temp_table as tt \n",
    "    join locations loc on loc.location_id = cnt.location_id\n",
    "    join countries cnt on cnt.country_id = tt.country_id\n",
    "    order by 2 DESC;"
   ]
  },
  {
   "cell_type": "markdown",
   "id": "98549422",
   "metadata": {},
   "source": [
    "Query:\n",
    "\n",
    "    WITH temp_table as(\n",
    "    SELECT \n",
    "    dep.location_id,\n",
    "    dep.department_name nome_departamento, \n",
    "    SUM(emp.salary) salario_total\n",
    "    FROM departments dep\n",
    "    JOIN employees emp on emp.department_id = dep.department_id\n",
    "    GROUP BY dep.location_id, dep.department_name\n",
    "    ORDER BY 3 DESC\n",
    "    LIMIT 3)\n",
    "    Select tt.nome_departamento, tt.salario_total, cnt.country_name\n",
    "    from temp_table as tt \n",
    "    join locations loc on loc.location_id = tt.location_id\n",
    "    join countries cnt on cnt.country_id = loc.country_id\n",
    "    order by 3 DESC;"
   ]
  },
  {
   "cell_type": "code",
   "execution_count": null,
   "id": "19daa177",
   "metadata": {},
   "outputs": [],
   "source": []
  }
 ],
 "metadata": {
  "kernelspec": {
   "display_name": "Python 3",
   "language": "python",
   "name": "python3"
  },
  "language_info": {
   "codemirror_mode": {
    "name": "ipython",
    "version": 3
   },
   "file_extension": ".py",
   "mimetype": "text/x-python",
   "name": "python",
   "nbconvert_exporter": "python",
   "pygments_lexer": "ipython3",
   "version": "3.8.8"
  },
  "toc": {
   "base_numbering": 1,
   "nav_menu": {},
   "number_sections": true,
   "sideBar": true,
   "skip_h1_title": false,
   "title_cell": "Table of Contents",
   "title_sidebar": "Contents",
   "toc_cell": false,
   "toc_position": {},
   "toc_section_display": true,
   "toc_window_display": true
  }
 },
 "nbformat": 4,
 "nbformat_minor": 5
}
