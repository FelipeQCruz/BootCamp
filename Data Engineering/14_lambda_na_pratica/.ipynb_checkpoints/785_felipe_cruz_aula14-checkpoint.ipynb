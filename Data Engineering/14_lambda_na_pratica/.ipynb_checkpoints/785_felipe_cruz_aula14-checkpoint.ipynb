{
 "cells": [
  {
   "cell_type": "markdown",
   "id": "6424bf75",
   "metadata": {},
   "source": [
    "# Exercicios\n",
    "\n",
    "Os exercícios 1.1 e 1.2 podem ser realizados de forma complementar, ou seja, devem ser realizados em paralelo."
   ]
  },
  {
   "cell_type": "code",
   "execution_count": null,
   "id": "e8a1c180",
   "metadata": {},
   "outputs": [],
   "source": []
  },
  {
   "cell_type": "markdown",
   "id": "fc24546c",
   "metadata": {},
   "source": [
    "## \n",
    "**Crie uma função lambda na AWS de nome `785_firstname_lastname_aula14`. Essa função deverá:**\n",
    "1. Receber como entrada peso (kg), altura (m) e idade (anos) de uma pessoa.\n",
    "1. Calcular o Indíce de Massa Corporal: IMC = peso / altura^2.\n",
    "1. Avaliar a faixa de de classificação de acordo com a tabela:\n",
    "| Classificação | Faixa |\n",
    "|--------|---------|\n",
    "| Muito abaixo do peso\t|menor que  16,9 kg/m2 |\n",
    "| Abaixo do peso\t| 17 a 18,4 kg/m2\t|\n",
    "| Peso normal\t| 18,5 a 24,9 kg/m2\t| \n",
    "| Acima do peso\t| 25 a 29,9 kg/m2\t|\n",
    "|Obesidade Grau I\t| 30 a 34,9 kg/m2 |\t\n",
    "|Obesidade Grau II\t| 35 a 40 kg/m2\t|\n",
    "|Obesidade Grau III |\tmaior que 40 kg/m2 |\n",
    "1. Retornar o IMC e a classificação para o programa principal.\n",
    "1. Quando a lambda estiver pronta, copie e cole o código abaixo."
   ]
  },
  {
   "cell_type": "code",
   "execution_count": 1,
   "id": "ed28adf3",
   "metadata": {
    "ExecuteTime": {
     "end_time": "2021-09-08T23:03:05.647400Z",
     "start_time": "2021-09-08T23:03:05.637636Z"
    }
   },
   "outputs": [],
   "source": [
    "# código da função lambda\n",
    "import json\n",
    "\n",
    "def lambda_handler(event, context):\n",
    "    \n",
    "    # data = event # para testar no console\n",
    "    data = json.loads(event['body']) # para executar no script\n",
    "    \n",
    "    peso = data['peso']\n",
    "    altura = data['altura']\n",
    "    idade = data['idade']\n",
    "    \n",
    "    imc = peso/(altura**2)\n",
    "    \n",
    "    aux = True\n",
    "    \n",
    "    classificacao = ''\n",
    "    \n",
    "    faixas = {\n",
    "            'Obesidade Grau II' : 40,\n",
    "            'Obesidade Grau I' : 34.9,\n",
    "            'Acima do peso' : 29.9,\n",
    "            'Peso normal' : 24.9,\n",
    "            'Abaixo do peso' : 18.4,\n",
    "            'Muito abaixo do peso' : 16.9\n",
    "            }\n",
    "            \n",
    "    for faixa in faixas:\n",
    "        if imc <= faixas[faixa]:\n",
    "            aux = False\n",
    "            classificacao = faixa\n",
    "    \n",
    "    if aux:\n",
    "        classificacao = 'Obesidade Grau III'\n",
    "    \n",
    "    # TODO implement\n",
    "    return {\n",
    "        'statusCode': 200,\n",
    "        'body': json.dumps(f'Classificação: {classificacao}; IMC: {imc} kg/m2; Idade: {idade} anos')\n",
    "    }"
   ]
  },
  {
   "cell_type": "markdown",
   "id": "12d13338",
   "metadata": {},
   "source": [
    "## \n",
    "**Renomeie o notebook `785_firstname_lastname_aula14.ipynb`  com seus dados e crie um código que:**\n",
    "1. Faça a leitura dos dados da pessoa, conferindo os valores de entrada (peso em kg, altura em m e idade em anos).\n",
    "1. Passe os dados de entrada para a lambda.\n",
    "1. Extraia a resposta da requisição da lambda.\n",
    "1. Imprima uma mensagem com o valor do IMC e a classificação correspondente."
   ]
  },
  {
   "cell_type": "markdown",
   "id": "4f1ad409",
   "metadata": {},
   "source": [
    "### código:"
   ]
  },
  {
   "cell_type": "markdown",
   "id": "0b575e71",
   "metadata": {
    "ExecuteTime": {
     "end_time": "2021-09-08T21:55:19.778646Z",
     "start_time": "2021-09-08T21:55:19.774743Z"
    }
   },
   "source": [
    "#### Configurando a url"
   ]
  },
  {
   "cell_type": "code",
   "execution_count": 2,
   "id": "aa80133a",
   "metadata": {
    "ExecuteTime": {
     "end_time": "2021-09-08T23:03:05.930899Z",
     "start_time": "2021-09-08T23:03:05.649348Z"
    }
   },
   "outputs": [],
   "source": [
    "import requests\n",
    "    \n",
    "url = 'https://39hzyucutk.execute-api.us-east-2.amazonaws.com/default/785_felipe_cruz_aula14'"
   ]
  },
  {
   "cell_type": "markdown",
   "id": "ba206d3d",
   "metadata": {},
   "source": [
    "#### Funções de validação"
   ]
  },
  {
   "cell_type": "code",
   "execution_count": 3,
   "id": "89acbf04",
   "metadata": {
    "ExecuteTime": {
     "end_time": "2021-09-08T23:03:05.941517Z",
     "start_time": "2021-09-08T23:03:05.932733Z"
    }
   },
   "outputs": [],
   "source": [
    "# A função abaixo, além formatar corretamente qualquer entrada como número, também torna o número positivo\n",
    "def formataNumero(entrada):\n",
    "    lista = list(entrada)\n",
    "    saida = ''\n",
    "    for char in lista:\n",
    "        if char == ',':\n",
    "            char = '.'\n",
    "        if float(char.isdigit()) == True or char == '.':\n",
    "            saida = saida + char\n",
    "    if saida == '':\n",
    "        saida = 0\n",
    "    return float(saida)\n",
    "\n",
    "def validaPeso(peso):\n",
    "    if peso > 0 and peso <= 635: # recorde histórico, pesquise Jon Brower Minnoch\n",
    "        return True\n",
    "    else:\n",
    "        return False\n",
    "\n",
    "def validaAltura(altura):\n",
    "    if altura > 0 and altura <= 2.74: # recorde histórico, pesquise Wadlow\n",
    "        return True\n",
    "    else:\n",
    "        return False\n",
    "\n",
    "def validaIdade(idade):\n",
    "    if idade >= 0 and idade <= 122: # recorde histórico, pesquise Jeanne Calment\n",
    "        return True\n",
    "    else:\n",
    "        return False"
   ]
  },
  {
   "cell_type": "markdown",
   "id": "85f3ac34",
   "metadata": {},
   "source": [
    "#### O programa"
   ]
  },
  {
   "cell_type": "code",
   "execution_count": 4,
   "id": "68b980a3",
   "metadata": {
    "ExecuteTime": {
     "end_time": "2021-09-08T23:03:20.391583Z",
     "start_time": "2021-09-08T23:03:05.948351Z"
    }
   },
   "outputs": [
    {
     "name": "stdout",
     "output_type": "stream",
     "text": [
      "Digite 1 para obter informações sobre o IMC\n",
      "2 para finalizar o programa1\n",
      "Peso (kg): 1\n",
      "Altura (m): 9\n",
      "Altura (m): 2\n",
      "Idade: 15\n",
      "Classificação: Muito abaixo do peso; IMC: 0.25 kg/m2; Idade: 15 anos\n",
      "Digite 1 para obter informações sobre o IMC\n",
      "2 para finalizar o programa2\n",
      "Fim\n"
     ]
    }
   ],
   "source": [
    "resposta = ''\n",
    "\n",
    "def programa(resposta):\n",
    "# 1: Usuário insere peso altura e idade\n",
    "    if resposta == 1:\n",
    "        verificaPeso = False\n",
    "        verificaAltura = False\n",
    "        verificaIdade = False\n",
    "        #Validação do peso, altura e idade\n",
    "        while not(verificaPeso):\n",
    "            peso = formataNumero(input('Peso (kg): '))\n",
    "            verificaPeso = validaPeso(peso)\n",
    "        while not(verificaAltura):\n",
    "            altura = formataNumero(input('Altura (m): '))\n",
    "            verificaAltura = validaAltura(altura)\n",
    "        while not(verificaIdade):\n",
    "            idade = int(formataNumero(input('Idade: ')))\n",
    "            verificaIdade = validaIdade(idade)\n",
    "        dict_entradas = {\n",
    "            \"peso\": peso,\n",
    "            \"altura\": altura,\n",
    "            \"idade\": idade\n",
    "        }\n",
    "        # Comunicação com API\n",
    "        response = requests.post(url, json=dict_entradas)\n",
    "        print(response.json())\n",
    "        resposta = ''\n",
    "    else:    \n",
    "        print('Fim')\n",
    "    opcao(resposta)\n",
    "\n",
    "def opcao (resposta):\n",
    "    while resposta not in (1, 2):\n",
    "        resposta = int(input('Digite 1 para obter informações sobre o IMC\\n2 para finalizar o programa'))\n",
    "        programa(resposta)\n",
    "\n",
    "opcao(resposta)"
   ]
  },
  {
   "cell_type": "markdown",
   "id": "1ac26a48",
   "metadata": {},
   "source": [
    "## \n",
    "**Descreva pelo menos um processo que poderia ser melhorado / automatizado com o uso de lambdas em seu departamento.**"
   ]
  },
  {
   "cell_type": "markdown",
   "id": "a92bfe42",
   "metadata": {},
   "source": [
    "> No processo de gestão de portfólio, temos muitos processos básicos que são feitos pelo envio de planilhas em excel por e-mail (até mesmo o \"controle de versionamento\" é feito dessa maneira). Como exemplo, temos mapeado, dados históricos mensais, qual é a produtividade de cada mês, para que possamos estimar quantas horas serão gastas por cada portfólio em cada mês, mas como a atualização dessa produtividade é feita anualmente, há muitas bases antigas desses números que são utilizadas e que afetam os números usados para realizar a gestão de portfólio em questão. Esse processo podia ser centralizado, por uma única API, em que conteria os dados mais atuais e que faria todos os cálculos."
   ]
  }
 ],
 "metadata": {
  "kernelspec": {
   "display_name": "Python 3",
   "language": "python",
   "name": "python3"
  },
  "language_info": {
   "codemirror_mode": {
    "name": "ipython",
    "version": 3
   },
   "file_extension": ".py",
   "mimetype": "text/x-python",
   "name": "python",
   "nbconvert_exporter": "python",
   "pygments_lexer": "ipython3",
   "version": "3.8.8"
  },
  "toc": {
   "base_numbering": 1,
   "nav_menu": {},
   "number_sections": true,
   "sideBar": true,
   "skip_h1_title": false,
   "title_cell": "Table of Contents",
   "title_sidebar": "Contents",
   "toc_cell": false,
   "toc_position": {},
   "toc_section_display": true,
   "toc_window_display": false
  }
 },
 "nbformat": 4,
 "nbformat_minor": 5
}
