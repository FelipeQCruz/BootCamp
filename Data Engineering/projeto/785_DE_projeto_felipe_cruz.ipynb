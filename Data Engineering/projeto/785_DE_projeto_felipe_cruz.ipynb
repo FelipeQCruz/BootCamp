{
 "cells": [
  {
   "cell_type": "markdown",
   "id": "ad3701f6",
   "metadata": {},
   "source": [
    "\n",
    "# Projeto final do Modulo de Data Engineering\n",
    "\n",
    "\n",
    "## Data de Entrega: \n",
    "09/09/2021\n",
    "\n",
    "email: filipe.furlam@letscode.com.br\n",
    "\n",
    "Envie o notebook preenchido, inclusive com anexos.\n",
    "\n",
    "\n",
    "# Proposta\n",
    "\n",
    "Fazer análise dos resultados de partidas de futebol existentes no arquivo `data/results.csv`\n",
    "\n",
    "\n",
    "O dataset foi retirado do desafio existente no kaggel.\n",
    "\n",
    "https://www.kaggle.com/martj42/international-football-results-from-1872-to-2017\n",
    "\n",
    "\n",
    "\n",
    "| Campo Arquivo  | Campo Hive           | Tipo    | Descrição                                                              |\n",
    "|----------------|----------------------|---------|------------------------------------------------------------------------|\n",
    "| date           | Data                 | date    | quando jogo ocorreu                                                    |\n",
    "| home_teamName  | equipe_mandante      | string  | equipe da casa                                                         |\n",
    "| away_teamName  | equipe_visitante     | string  | equipe visitante                                                       |\n",
    "| home_scoreHome | gol_equipe_mandante  | int     | pontuação equipe da casa                                               |\n",
    "| away_scoreAway | gol_equipe_visitante | int     | pontuação equipe visitante                                             |\n",
    "| tournamentName | torneio              | string  | torneio                                                                |\n",
    "| cityCity       | cidade               | string  | onde o jogo aconteceu                                                  |\n",
    "| countryCountry | pais                 | string  | onde a partida ocorreu                                                 |\n",
    "| neutralTRUE    | fora_pais            | boolean | se o jogo ocorreu fora do país da equipe da casa, FALSE caso contrário |\n",
    "\n"
   ]
  },
  {
   "cell_type": "code",
   "execution_count": null,
   "id": "63192c03",
   "metadata": {},
   "outputs": [],
   "source": []
  },
  {
   "cell_type": "markdown",
   "id": "df77d4ab",
   "metadata": {},
   "source": [
    "\n",
    "# Carregado arquivos no Hive (5.0)"
   ]
  },
  {
   "cell_type": "markdown",
   "id": "94bd3b5d",
   "metadata": {
    "ExecuteTime": {
     "end_time": "2021-08-30T17:26:50.717755Z",
     "start_time": "2021-08-30T17:26:50.713782Z"
    }
   },
   "source": [
    "1. Importar o arquivo `result.csv` para o HDFS.\n",
    "\n",
    "2. Criar uma tabela no Hive com o nome `resultado`, onde seja possível realizar consultas no arquivo `result.csv`.\n",
    "    - O nome das colunas devem respeitar o tipo e a nomenclatura informada acima."
   ]
  },
  {
   "cell_type": "markdown",
   "id": "1e474897",
   "metadata": {
    "ExecuteTime": {
     "end_time": "2021-08-30T17:25:35.472084Z",
     "start_time": "2021-08-30T17:25:35.459085Z"
    }
   },
   "source": [
    "Reposta 1 e 2 (enviar o código com todos os passos para crição da tabela):\n",
    ">\n",
    "    "
   ]
  },
  {
   "cell_type": "code",
   "execution_count": null,
   "id": "c954c8de",
   "metadata": {},
   "outputs": [],
   "source": []
  },
  {
   "cell_type": "markdown",
   "id": "8ded98ef",
   "metadata": {},
   "source": [
    "3. Executar uma query simples no HUE ou CLI retornando as 5 primeiras linhas da tabela criada.\n"
   ]
  },
  {
   "cell_type": "markdown",
   "id": "6bd90bab",
   "metadata": {},
   "source": [
    "Resposta 3 (print da query e resulado **OU** somente a query):\n",
    "> "
   ]
  },
  {
   "cell_type": "code",
   "execution_count": null,
   "id": "4207d0b3",
   "metadata": {},
   "outputs": [],
   "source": []
  },
  {
   "cell_type": "code",
   "execution_count": null,
   "id": "bc9e022c",
   "metadata": {},
   "outputs": [],
   "source": []
  },
  {
   "cell_type": "markdown",
   "id": "4035eeed",
   "metadata": {},
   "source": [
    "# Análise com Spark (5.0)\n",
    "Realizar análise utilizando `Spark`. Opções:\n",
    "\n",
    "a. Conectar o Spark à tabela Hive criada acima; \n",
    "    \n",
    "    AJUDA: copiar o hive-site.xml para o conf do Spark.\n",
    "    ```\n",
    "    sudo cp /etc/hive/conf/hive-site.xml /etc/spark/conf/\n",
    "    ```\n",
    "    AJUDA: Para ler a tabela Hive e criar o dataframe, utilize o script abaixo:\n",
    "    ```\n",
    "    from pyspark.sql import HiveContext\n",
    "    h = HiveContext(sc)\n",
    "    df = h.sql(\"select * from default.resultado\")\n",
    "    ```\n",
    "\n",
    "**OU**\n",
    "\n",
    "\n",
    "b. Realizar localmente no seu computador. Nesse caso, leia diretamente o arquivo results.csv no notebook.\n",
    "\n",
    "\n",
    "Após a criação do dataframe, responda as questões abaixo.\n",
    "1. quantos registro existem no dataframe?\n",
    "1. quantas equipes únicas mandantes existem no dataframe?\n",
    "1. quantas vezes as equipes mandantes saíram vitoriosas?\n",
    "1. quantas vezes as equipes visitantes saíram vitoriosas?\n",
    "1. quantas partidas resultaram em empate:\n",
    "1. crie uma tabela partida_pais com o total de partida em cadas país\n",
    "    1.  em qual país teve mais partidas?"
   ]
  },
  {
   "cell_type": "code",
   "execution_count": null,
   "id": "ac5f56a0",
   "metadata": {},
   "outputs": [],
   "source": []
  }
 ],
 "metadata": {
  "kernelspec": {
   "display_name": "Python 3",
   "language": "python",
   "name": "python3"
  },
  "language_info": {
   "codemirror_mode": {
    "name": "ipython",
    "version": 3
   },
   "file_extension": ".py",
   "mimetype": "text/x-python",
   "name": "python",
   "nbconvert_exporter": "python",
   "pygments_lexer": "ipython3",
   "version": "3.8.8"
  },
  "toc": {
   "base_numbering": 1,
   "nav_menu": {},
   "number_sections": true,
   "sideBar": true,
   "skip_h1_title": false,
   "title_cell": "Table of Contents",
   "title_sidebar": "Contents",
   "toc_cell": false,
   "toc_position": {},
   "toc_section_display": true,
   "toc_window_display": true
  }
 },
 "nbformat": 4,
 "nbformat_minor": 5
}
