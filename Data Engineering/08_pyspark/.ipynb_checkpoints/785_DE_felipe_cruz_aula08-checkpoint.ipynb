{
 "cells": [
  {
   "cell_type": "markdown",
   "id": "790750a4",
   "metadata": {},
   "source": [
    "# Exercícios\n",
    "\n",
    "Enviar para o email filipe.furlan@letscode.com.br até **2021/09/04** o notebook (`785_DE_firstname_lastname_aula08.ipynb`) com a resolução dos exercicios abaixo."
   ]
  },
  {
   "cell_type": "markdown",
   "id": "6641f7fc",
   "metadata": {},
   "source": [
    "Use os arquivos da pasta `data` e crie um dataframe do spark para cada arquivo. **Usando os comandos do pyspark**, resolva os problemas abaixo. "
   ]
  },
  {
   "cell_type": "code",
   "execution_count": 1,
   "id": "1ab237ef",
   "metadata": {
    "ExecuteTime": {
     "end_time": "2021-09-02T17:37:50.592799Z",
     "start_time": "2021-09-02T17:37:41.652847Z"
    }
   },
   "outputs": [],
   "source": [
    "# importar as funções\n",
    "from pyspark import sql, SparkContext, HiveContext\n",
    "\n",
    "# criar o sparkcontext\n",
    "sc = SparkContext()\n",
    "\n",
    "# criar a sessão spark\n",
    "spark = sql.SparkSession(sc)"
   ]
  },
  {
   "cell_type": "code",
   "execution_count": 2,
   "id": "f3cc13b2",
   "metadata": {
    "ExecuteTime": {
     "end_time": "2021-09-02T17:37:50.605411Z",
     "start_time": "2021-09-02T17:37:50.593697Z"
    }
   },
   "outputs": [],
   "source": [
    "from pyspark.sql.types import StructType, StringType, IntegerType, FloatType\n",
    "from pyspark.sql.functions import *"
   ]
  },
  {
   "cell_type": "code",
   "execution_count": 3,
   "id": "f3656b32",
   "metadata": {
    "ExecuteTime": {
     "end_time": "2021-09-02T17:37:55.047038Z",
     "start_time": "2021-09-02T17:37:50.608339Z"
    }
   },
   "outputs": [
    {
     "name": "stdout",
     "output_type": "stream",
     "text": [
      "+------+--------------------+-----------+-----------+\n",
      "|indice|           job_title|salario_min|salario_max|\n",
      "+------+--------------------+-----------+-----------+\n",
      "|     1|   Public Accountant|     4200.0|     9000.0|\n",
      "|     2|  Accounting Manager|     8200.0|    16000.0|\n",
      "|     3|Administration As...|     3000.0|     6000.0|\n",
      "|     4|           President|    20000.0|    40000.0|\n",
      "|     5|Administration Vi...|    15000.0|    30000.0|\n",
      "|     6|          Accountant|     4200.0|     9000.0|\n",
      "|     7|     Finance Manager|     8200.0|    16000.0|\n",
      "|     8|Human Resources R...|     4000.0|     9000.0|\n",
      "|     9|          Programmer|     4000.0|    10000.0|\n",
      "|    10|   Marketing Manager|     9000.0|    15000.0|\n",
      "|    11|Marketing Represe...|     4000.0|     9000.0|\n",
      "|    12|Public Relations ...|     4500.0|    10500.0|\n",
      "|    13|    Purchasing Clerk|     2500.0|     5500.0|\n",
      "|    14|  Purchasing Manager|     8000.0|    15000.0|\n",
      "|    15|       Sales Manager|    10000.0|    20000.0|\n",
      "|    16|Sales Representative|     6000.0|    12000.0|\n",
      "|    17|      Shipping Clerk|     2500.0|     5500.0|\n",
      "|    18|         Stock Clerk|     2000.0|     5000.0|\n",
      "|    19|       Stock Manager|     5500.0|     8500.0|\n",
      "+------+--------------------+-----------+-----------+\n",
      "\n"
     ]
    }
   ],
   "source": [
    "schema_jobs = StructType() \\\n",
    "        .add('indice', IntegerType(), True) \\\n",
    "        .add('job_title', StringType(), True) \\\n",
    "        .add('salario_min', FloatType(), True) \\\n",
    "        .add('salario_max', FloatType(), True)\n",
    "\n",
    "jobs = spark.read.csv('data/jobs.csv', schema=schema_jobs)\n",
    "jobs.show()"
   ]
  },
  {
   "cell_type": "code",
   "execution_count": 4,
   "id": "1f15ed02",
   "metadata": {
    "ExecuteTime": {
     "end_time": "2021-09-02T17:37:55.677503Z",
     "start_time": "2021-09-02T17:37:55.048959Z"
    }
   },
   "outputs": [
    {
     "name": "stdout",
     "output_type": "stream",
     "text": [
      "+----------+------------+---------+\n",
      "|country_id|country_name|region_id|\n",
      "+----------+------------+---------+\n",
      "|        AR|   Argentina|        2|\n",
      "|        AU|   Australia|        3|\n",
      "|        BE|     Belgium|        1|\n",
      "|        BR|      Brazil|        2|\n",
      "|        CA|      Canada|        2|\n",
      "|        CH| Switzerland|        1|\n",
      "|        CN|       China|        3|\n",
      "|        DE|     Germany|        1|\n",
      "|        DK|     Denmark|        1|\n",
      "|        EG|       Egypt|        4|\n",
      "|        FR|      France|        1|\n",
      "|        HK|    HongKong|        3|\n",
      "|        IL|      Israel|        4|\n",
      "|        IN|       India|        3|\n",
      "|        IT|       Italy|        1|\n",
      "|        JP|       Japan|        3|\n",
      "|        KW|      Kuwait|        4|\n",
      "|        MX|      Mexico|        2|\n",
      "|        NG|     Nigeria|        4|\n",
      "|        NL| Netherlands|        1|\n",
      "+----------+------------+---------+\n",
      "only showing top 20 rows\n",
      "\n"
     ]
    }
   ],
   "source": [
    "countries = spark.read.csv('data/countries.csv', header=True)\n",
    "countries.show()"
   ]
  },
  {
   "cell_type": "code",
   "execution_count": 5,
   "id": "c452d76f",
   "metadata": {
    "ExecuteTime": {
     "end_time": "2021-09-02T17:37:55.927385Z",
     "start_time": "2021-09-02T17:37:55.679456Z"
    }
   },
   "outputs": [
    {
     "name": "stdout",
     "output_type": "stream",
     "text": [
      "+-------------+----------------+-----------+\n",
      "|department_id| department_name|location_id|\n",
      "+-------------+----------------+-----------+\n",
      "|            1|  Administration|       1700|\n",
      "|            2|       Marketing|       1800|\n",
      "|            3|      Purchasing|       1700|\n",
      "|            4| Human Resources|       2400|\n",
      "|            5|        Shipping|       1500|\n",
      "|            6|              IT|       1400|\n",
      "|            7|Public Relations|       2700|\n",
      "|            8|           Sales|       2500|\n",
      "|            9|       Executive|       1700|\n",
      "|           10|         Finance|       1700|\n",
      "|           11|      Accounting|       1700|\n",
      "+-------------+----------------+-----------+\n",
      "\n"
     ]
    }
   ],
   "source": [
    "departments = spark.read.csv('data/departments.csv', header=True)\n",
    "departments.show()"
   ]
  },
  {
   "cell_type": "code",
   "execution_count": 6,
   "id": "b7c06b5e",
   "metadata": {
    "ExecuteTime": {
     "end_time": "2021-09-02T17:37:56.209055Z",
     "start_time": "2021-09-02T17:37:55.928329Z"
    }
   },
   "outputs": [
    {
     "name": "stdout",
     "output_type": "stream",
     "text": [
      "+------------+----------+---------+------------+-----------+\n",
      "|dependent_id|first_name|last_name|relationship|employee_id|\n",
      "+------------+----------+---------+------------+-----------+\n",
      "|           1|  Penelope|    Gietz|       Child|        206|\n",
      "|           2|      Nick|  Higgins|       Child|        205|\n",
      "|           3|        Ed|   Whalen|       Child|        200|\n",
      "|           4|  Jennifer|     King|       Child|        100|\n",
      "|           5|    Johnny|  Kochhar|       Child|        101|\n",
      "|           6|     Bette|  De Haan|       Child|        102|\n",
      "|           7|     Grace|   Faviet|       Child|        109|\n",
      "|           8|   Matthew|     Chen|       Child|        110|\n",
      "|           9|       Joe|  Sciarra|       Child|        111|\n",
      "|          10| Christian|    Urman|       Child|        112|\n",
      "|          11|      Zero|     Popp|       Child|        113|\n",
      "|          12|      Karl|Greenberg|       Child|        108|\n",
      "|          13|       Uma|   Mavris|       Child|        203|\n",
      "|          14|    Vivien|   Hunold|       Child|        103|\n",
      "|          15|      Cuba|    Ernst|       Child|        104|\n",
      "|          16|      Fred|   Austin|       Child|        105|\n",
      "|          17|     Helen|Pataballa|       Child|        106|\n",
      "|          18|       Dan|  Lorentz|       Child|        107|\n",
      "|          19|       Bob|Hartstein|       Child|        201|\n",
      "|          20|   Lucille|      Fay|       Child|        202|\n",
      "+------------+----------+---------+------------+-----------+\n",
      "only showing top 20 rows\n",
      "\n"
     ]
    }
   ],
   "source": [
    "dependents = spark.read.csv('data/dependents.csv', header=True)\n",
    "dependents.show()"
   ]
  },
  {
   "cell_type": "code",
   "execution_count": 7,
   "id": "b521a553",
   "metadata": {
    "ExecuteTime": {
     "end_time": "2021-09-02T17:37:56.469516Z",
     "start_time": "2021-09-02T17:37:56.209985Z"
    }
   },
   "outputs": [
    {
     "name": "stdout",
     "output_type": "stream",
     "text": [
      "+-----------+-----------+----------+--------------------+------------+----------+------+--------+----------+-------------+\n",
      "|employee_id| first_name| last_name|               email|phone_number| hire_date|job_id|  salary|manager_id|department_id|\n",
      "+-----------+-----------+----------+--------------------+------------+----------+------+--------+----------+-------------+\n",
      "|        100|     Steven|      King|steven.king@sqltu...|515.123.4567|1987-06-17|     4|24000.00|      null|            9|\n",
      "|        101|      Neena|   Kochhar|neena.kochhar@sql...|515.123.4568|1989-09-21|     5|17000.00|       100|            9|\n",
      "|        102|        Lex|   De Haan|lex.de haan@sqltu...|515.123.4569|1993-01-13|     5|17000.00|       100|            9|\n",
      "|        103|  Alexander|    Hunold|alexander.hunold@...|590.423.4567|1990-01-03|     9| 9000.00|       102|            6|\n",
      "|        104|      Bruce|     Ernst|bruce.ernst@sqltu...|590.423.4568|1991-05-21|     9| 6000.00|       103|            6|\n",
      "|        105|      David|    Austin|david.austin@sqlt...|590.423.4569|1997-06-25|     9| 4800.00|       103|            6|\n",
      "|        106|      Valli| Pataballa|valli.pataballa@s...|590.423.4560|1998-02-05|     9| 4800.00|       103|            6|\n",
      "|        107|      Diana|   Lorentz|diana.lorentz@sql...|590.423.5567|1999-02-07|     9| 4200.00|       103|            6|\n",
      "|        108|      Nancy| Greenberg|nancy.greenberg@s...|515.124.4569|1994-08-17|     7|12000.00|       101|           10|\n",
      "|        109|     Daniel|    Faviet|daniel.faviet@sql...|515.124.4169|1994-08-16|     6| 9000.00|       108|           10|\n",
      "|        110|       John|      Chen|john.chen@sqltuto...|515.124.4269|1997-09-28|     6| 8200.00|       108|           10|\n",
      "|        111|     Ismael|   Sciarra|ismael.sciarra@sq...|515.124.4369|1997-09-30|     6| 7700.00|       108|           10|\n",
      "|        112|Jose Manuel|     Urman|jose manuel.urman...|515.124.4469|1998-03-07|     6| 7800.00|       108|           10|\n",
      "|        113|       Luis|      Popp|luis.popp@sqltuto...|515.124.4567|1999-12-07|     6| 6900.00|       108|           10|\n",
      "|        114|        Den|  Raphaely|den.raphaely@sqlt...|515.127.4561|1994-12-07|    14|11000.00|       100|            3|\n",
      "|        115|  Alexander|      Khoo|alexander.khoo@sq...|515.127.4562|1995-05-18|    13| 3100.00|       114|            3|\n",
      "|        116|     Shelli|     Baida|shelli.baida@sqlt...|515.127.4563|1997-12-24|    13| 2900.00|       114|            3|\n",
      "|        117|      Sigal|    Tobias|sigal.tobias@sqlt...|515.127.4564|1997-07-24|    13| 2800.00|       114|            3|\n",
      "|        118|        Guy|    Himuro|guy.himuro@sqltut...|515.127.4565|1998-11-15|    13| 2600.00|       114|            3|\n",
      "|        119|      Karen|Colmenares|karen.colmenares@...|515.127.4566|1999-08-10|    13| 2500.00|       114|            3|\n",
      "+-----------+-----------+----------+--------------------+------------+----------+------+--------+----------+-------------+\n",
      "only showing top 20 rows\n",
      "\n"
     ]
    }
   ],
   "source": [
    "employees = spark.read.csv('data/employees.csv', header=True)\n",
    "employees.show()"
   ]
  },
  {
   "cell_type": "code",
   "execution_count": 8,
   "id": "40109478",
   "metadata": {
    "ExecuteTime": {
     "end_time": "2021-09-02T17:37:56.603391Z",
     "start_time": "2021-09-02T17:37:56.472444Z"
    }
   },
   "outputs": [
    {
     "name": "stdout",
     "output_type": "stream",
     "text": [
      "+-----------+--------------------+-----------+-------------------+--------------+----------+\n",
      "|location_id|       street_adress|postal_code|     city_character|state_province|country_id|\n",
      "+-----------+--------------------+-----------+-------------------+--------------+----------+\n",
      "|       1400| 2014 Jabberwocky Rd|      26192|          Southlake|         Texas|        US|\n",
      "|       1500| 2011 Interiors Blvd|      99236|South San Francisco|    California|        US|\n",
      "|       1700|     2004 Charade Rd|      98199|            Seattle|    Washington|        US|\n",
      "|       1800|     147 Spadina Ave|    M5V 2L7|            Toronto|       Ontario|        CA|\n",
      "|       2400|      8204 Arthur St|       null|             London|          null|        UK|\n",
      "|       2500|Magdalen Centre, ...|    OX9 9ZB|             Oxford|        Oxford|        UK|\n",
      "|       2700|Schwanthalerstr. ...|      80925|             Munich|       Bavaria|        DE|\n",
      "+-----------+--------------------+-----------+-------------------+--------------+----------+\n",
      "\n"
     ]
    }
   ],
   "source": [
    "schema_locations = StructType() \\\n",
    "        .add('location_id', IntegerType(), True) \\\n",
    "        .add('street_adress', StringType(), True) \\\n",
    "        .add('postal_code', StringType(), True) \\\n",
    "        .add('city_character', StringType(), True) \\\n",
    "        .add('state_province', StringType(), True) \\\n",
    "        .add('country_id', StringType(), True)\n",
    "\n",
    "locations = spark.read.csv('data/locations.csv', schema=schema_locations)\n",
    "locations.show()"
   ]
  },
  {
   "cell_type": "code",
   "execution_count": 9,
   "id": "0c6469a1",
   "metadata": {
    "ExecuteTime": {
     "end_time": "2021-09-02T17:37:56.701054Z",
     "start_time": "2021-09-02T17:37:56.605341Z"
    }
   },
   "outputs": [
    {
     "name": "stdout",
     "output_type": "stream",
     "text": [
      "+---------+--------------------+\n",
      "|region_id|              region|\n",
      "+---------+--------------------+\n",
      "|        1|              Europe|\n",
      "|        2|            Americas|\n",
      "|        3|                Asia|\n",
      "|        4|Middle East and A...|\n",
      "+---------+--------------------+\n",
      "\n"
     ]
    }
   ],
   "source": [
    "schema_regions = StructType() \\\n",
    "        .add('region_id', IntegerType(), True) \\\n",
    "        .add('region', StringType(), True)\n",
    "\n",
    "regions = spark.read.csv('data/regions.csv', schema=schema_regions)\n",
    "regions.show()"
   ]
  },
  {
   "cell_type": "markdown",
   "id": "c1639577",
   "metadata": {},
   "source": [
    "## Para treinar"
   ]
  },
  {
   "cell_type": "markdown",
   "id": "b042f22a",
   "metadata": {},
   "source": [
    "1. Em quantos países a empresa está presente, de acordo com os dados da tabela `location`?\n",
    "1. Em quais cidades inglesas e alemãs a empresa está presente?\n",
    "1. Faça um relatório que traga o primeiro nome colaborador e o número de dependentes (colaborador | dependentes). Importante que os colaboradores que não tem dependentes também apareçam na lista. A lista deve ser ordenada pelo número de dependentes, do maior para o menor e em seguida por ordem alfabética.\n",
    "1. A empresa está passando por uma reestruturação e precisa saber quantos funcionários estão alocados em cada departamento, bem como o total e a média de salários deles. Faça um relatório no formato nome_departamento | numero_funcionarios | salario_total | salario_medio ordenado por salario medio, do maior para o menor. Os números decimais devem conter duas casas após a virgula.\n",
    "1. Faça um relatório que apresente o número de funcionários, o salario total e médio por departamento e país.\n",
    "1. Traga o valor acumulado por departamento de cada pais."
   ]
  },
  {
   "cell_type": "markdown",
   "id": "db76295f",
   "metadata": {},
   "source": [
    "### Em quantos países a empresa está presente, de acordo com os dados da tabela location?"
   ]
  },
  {
   "cell_type": "code",
   "execution_count": 10,
   "id": "e5d12daa",
   "metadata": {
    "ExecuteTime": {
     "end_time": "2021-09-02T17:37:58.589420Z",
     "start_time": "2021-09-02T17:37:56.702004Z"
    }
   },
   "outputs": [
    {
     "name": "stdout",
     "output_type": "stream",
     "text": [
      "+--------------------------+\n",
      "|count(DISTINCT country_id)|\n",
      "+--------------------------+\n",
      "|                         4|\n",
      "+--------------------------+\n",
      "\n"
     ]
    }
   ],
   "source": [
    "locations.select(countDistinct('country_id')).show()"
   ]
  },
  {
   "cell_type": "markdown",
   "id": "c393b423",
   "metadata": {},
   "source": [
    "### Em quais cidades inglesas e alemãs a empresa está presente?"
   ]
  },
  {
   "cell_type": "code",
   "execution_count": 11,
   "id": "3d06d560",
   "metadata": {
    "ExecuteTime": {
     "end_time": "2021-09-02T17:37:58.808045Z",
     "start_time": "2021-09-02T17:37:58.591374Z"
    }
   },
   "outputs": [
    {
     "name": "stdout",
     "output_type": "stream",
     "text": [
      "+--------------+\n",
      "|city_character|\n",
      "+--------------+\n",
      "|        London|\n",
      "|        Oxford|\n",
      "|        Munich|\n",
      "+--------------+\n",
      "\n"
     ]
    }
   ],
   "source": [
    "#locations.select('city_character').where(locations.country_id.isin('UK', 'DE')).selectExpr(\"city_character as cidade\").show()\n",
    "locations.select('city_character').where(locations.country_id.isin('UK', 'DE')).show()"
   ]
  },
  {
   "cell_type": "markdown",
   "id": "b219ef80",
   "metadata": {},
   "source": [
    "### Faça um relatório que traga o primeiro nome colaborador e o número de dependentes (colaborador | dependentes). Importante que os colaboradores que não têm dependentes também apareçam na lista. A lista deve ser ordenada pelo número de dependentes, do maior para o menor e em seguida por ordem alfabética."
   ]
  },
  {
   "cell_type": "code",
   "execution_count": 12,
   "id": "520eaaa6",
   "metadata": {
    "ExecuteTime": {
     "end_time": "2021-09-02T17:37:58.940617Z",
     "start_time": "2021-09-02T17:37:58.809997Z"
    }
   },
   "outputs": [],
   "source": [
    "employees_dependents = employees.join(dependents, on = employees.employee_id==dependents.employee_id, how='left' ).drop(dependents.first_name)"
   ]
  },
  {
   "cell_type": "code",
   "execution_count": 13,
   "id": "fdd014e7",
   "metadata": {
    "ExecuteTime": {
     "end_time": "2021-09-02T17:38:00.789940Z",
     "start_time": "2021-09-02T17:37:58.941527Z"
    },
    "scrolled": true
   },
   "outputs": [
    {
     "name": "stdout",
     "output_type": "stream",
     "text": [
      "+-----------+-----------+\n",
      "|colaborador|dependentes|\n",
      "+-----------+-----------+\n",
      "|Alexander  |2          |\n",
      "|John       |2          |\n",
      "|Karen      |2          |\n",
      "|Bruce      |1          |\n",
      "|Daniel     |1          |\n",
      "|David      |1          |\n",
      "|Den        |1          |\n",
      "|Diana      |1          |\n",
      "|Guy        |1          |\n",
      "|Hermann    |1          |\n",
      "|Ismael     |1          |\n",
      "|Jennifer   |1          |\n",
      "|Jonathon   |1          |\n",
      "|Jose Manuel|1          |\n",
      "|Lex        |1          |\n",
      "|Luis       |1          |\n",
      "|Michael    |1          |\n",
      "|Nancy      |1          |\n",
      "|Neena      |1          |\n",
      "|Pat        |1          |\n",
      "|Shelley    |1          |\n",
      "|Shelli     |1          |\n",
      "|Sigal      |1          |\n",
      "|Steven     |1          |\n",
      "|Susan      |1          |\n",
      "|Valli      |1          |\n",
      "|William    |1          |\n",
      "|Adam       |0          |\n",
      "|Britney    |0          |\n",
      "|Charles    |0          |\n",
      "|Irene      |0          |\n",
      "|Jack       |0          |\n",
      "|Kimberely  |0          |\n",
      "|Matthew    |0          |\n",
      "|Payam      |0          |\n",
      "|Sarah      |0          |\n",
      "|Shanta     |0          |\n",
      "+-----------+-----------+\n",
      "\n"
     ]
    }
   ],
   "source": [
    "employees_dependents = employees_dependents.withColumn(\"dependent_id\", \\\n",
    "                                                       when(employees_dependents[\"dependent_id\"].isNull(), 0).otherwise(1))\n",
    "employees_dependents.groupby('first_name').agg(sum('dependent_id').alias('dependentes')).selectExpr('first_name as colaborador', 'dependentes').orderBy(desc(\"dependentes\"), \"colaborador\").show(employees_dependents.count(), False)"
   ]
  },
  {
   "cell_type": "markdown",
   "id": "5094b6d7",
   "metadata": {},
   "source": [
    "### A empresa está passando por uma reestruturação e precisa saber quantos funcionários estão alocados em cada departamento, bem como o total e a média de salários deles. Faça um relatório no formato nome_departamento | numero_funcionarios | salario_total | salario_medio ordenado por salario medio, do maior para o menor. Os números decimais devem conter duas casas após a virgula."
   ]
  },
  {
   "cell_type": "code",
   "execution_count": 14,
   "id": "140d895c",
   "metadata": {
    "ExecuteTime": {
     "end_time": "2021-09-02T17:38:00.821172Z",
     "start_time": "2021-09-02T17:38:00.791894Z"
    }
   },
   "outputs": [],
   "source": [
    "departments_employees = departments.join(employees, on = employees.department_id==departments.department_id, how='left' ).drop(employees.department_id)"
   ]
  },
  {
   "cell_type": "code",
   "execution_count": 15,
   "id": "3ae41b0d",
   "metadata": {
    "ExecuteTime": {
     "end_time": "2021-09-02T17:38:02.294377Z",
     "start_time": "2021-09-02T17:38:00.823124Z"
    }
   },
   "outputs": [
    {
     "name": "stdout",
     "output_type": "stream",
     "text": [
      "+-----------------+-------------------+-------------+-------------+\n",
      "|nome_departamento|numero_funcionarios|salario_total|salario_medio|\n",
      "+-----------------+-------------------+-------------+-------------+\n",
      "|Executive        |3                  |58000.0      |19333.33     |\n",
      "|Accounting       |2                  |20300.0      |10150.0      |\n",
      "|Public Relations |1                  |10000.0      |10000.0      |\n",
      "|Sales            |6                  |57700.0      |9616.67      |\n",
      "|Marketing        |2                  |19000.0      |9500.0       |\n",
      "|Finance          |6                  |51600.0      |8600.0       |\n",
      "|Human Resources  |1                  |6500.0       |6500.0       |\n",
      "|Shipping         |7                  |41200.0      |5885.71      |\n",
      "|IT               |5                  |28800.0      |5760.0       |\n",
      "|Administration   |1                  |4400.0       |4400.0       |\n",
      "|Purchasing       |6                  |24900.0      |4150.0       |\n",
      "+-----------------+-------------------+-------------+-------------+\n",
      "\n"
     ]
    }
   ],
   "source": [
    "departments_employees = departments_employees.withColumn(\"employee_id\", \\\n",
    "                                                       when(departments_employees[\"employee_id\"].isNull(), 0).otherwise(1))\n",
    "departments_employees.groupby('department_name').agg(sum('employee_id').alias('numero_funcionarios'), sum('salary').alias('salario_total'), round(mean('salary'), 2).alias('salario_medio')).selectExpr('department_name as nome_departamento', 'numero_funcionarios', 'salario_total', 'salario_medio').orderBy(desc('salario_medio')).show(departments_employees.count(), False)"
   ]
  },
  {
   "cell_type": "markdown",
   "id": "96fd3605",
   "metadata": {},
   "source": [
    "### Faça um relatório que apresente o número de funcionários, o salario total e médio por departamento e país."
   ]
  },
  {
   "cell_type": "code",
   "execution_count": 16,
   "id": "d89f97ec",
   "metadata": {
    "ExecuteTime": {
     "end_time": "2021-09-02T17:38:02.320729Z",
     "start_time": "2021-09-02T17:38:02.295353Z"
    }
   },
   "outputs": [],
   "source": [
    "departments_locations = departments_employees.join(locations, on = locations.location_id==departments_employees.location_id, how='left' )"
   ]
  },
  {
   "cell_type": "code",
   "execution_count": 17,
   "id": "ffe2ae84",
   "metadata": {
    "ExecuteTime": {
     "end_time": "2021-09-02T17:38:02.728038Z",
     "start_time": "2021-09-02T17:38:02.322685Z"
    }
   },
   "outputs": [],
   "source": [
    "departments_countries = departments_locations.join(countries, on = countries.country_id==departments_locations.country_id, how='left' )"
   ]
  },
  {
   "cell_type": "code",
   "execution_count": 18,
   "id": "7a755450",
   "metadata": {
    "ExecuteTime": {
     "end_time": "2021-09-02T17:38:04.508846Z",
     "start_time": "2021-09-02T17:38:02.729879Z"
    }
   },
   "outputs": [
    {
     "name": "stdout",
     "output_type": "stream",
     "text": [
      "+-----------------+------------------------+-------------------+-------------+-------------+\n",
      "|nome_departamento|nome_pais               |numero_funcionarios|salario_total|salario_medio|\n",
      "+-----------------+------------------------+-------------------+-------------+-------------+\n",
      "|Executive        |United States of America|3                  |58000.0      |19333.33     |\n",
      "|Accounting       |United States of America|2                  |20300.0      |10150.0      |\n",
      "|Public Relations |Germany                 |1                  |10000.0      |10000.0      |\n",
      "|Sales            |United Kingdom          |6                  |57700.0      |9616.67      |\n",
      "|Marketing        |Canada                  |2                  |19000.0      |9500.0       |\n",
      "|Finance          |United States of America|6                  |51600.0      |8600.0       |\n",
      "|Human Resources  |United Kingdom          |1                  |6500.0       |6500.0       |\n",
      "|Shipping         |United States of America|7                  |41200.0      |5885.71      |\n",
      "|IT               |United States of America|5                  |28800.0      |5760.0       |\n",
      "|Administration   |United States of America|1                  |4400.0       |4400.0       |\n",
      "|Purchasing       |United States of America|6                  |24900.0      |4150.0       |\n",
      "+-----------------+------------------------+-------------------+-------------+-------------+\n",
      "\n"
     ]
    }
   ],
   "source": [
    "departments_countries.groupby('department_name', 'country_name').agg(sum('employee_id').alias('numero_funcionarios'), sum('salary').alias('salario_total'), round(mean('salary'), 2).alias('salario_medio')).selectExpr('department_name as nome_departamento', 'country_name as nome_pais','numero_funcionarios', 'salario_total', 'salario_medio').orderBy(desc('salario_medio')).show(departments_countries.count(), False)"
   ]
  },
  {
   "cell_type": "markdown",
   "id": "bb8403f1",
   "metadata": {},
   "source": [
    "### Traga o valor acumulado por departamento de cada pais."
   ]
  },
  {
   "cell_type": "code",
   "execution_count": 19,
   "id": "b5141890",
   "metadata": {
    "ExecuteTime": {
     "end_time": "2021-09-02T17:38:05.974976Z",
     "start_time": "2021-09-02T17:38:04.510795Z"
    }
   },
   "outputs": [
    {
     "name": "stdout",
     "output_type": "stream",
     "text": [
      "+------------------------+-----------------+-------------+\n",
      "|nome_pais               |nome_departamento|salario_total|\n",
      "+------------------------+-----------------+-------------+\n",
      "|Canada                  |Marketing        |19000.0      |\n",
      "|Germany                 |Public Relations |10000.0      |\n",
      "|United Kingdom          |Sales            |57700.0      |\n",
      "|United Kingdom          |Human Resources  |6500.0       |\n",
      "|United States of America|Finance          |51600.0      |\n",
      "|United States of America|Administration   |4400.0       |\n",
      "|United States of America|Purchasing       |24900.0      |\n",
      "|United States of America|Executive        |58000.0      |\n",
      "|United States of America|Shipping         |41200.0      |\n",
      "|United States of America|IT               |28800.0      |\n",
      "|United States of America|Accounting       |20300.0      |\n",
      "+------------------------+-----------------+-------------+\n",
      "\n"
     ]
    }
   ],
   "source": [
    "departments_countries.groupby('department_name', 'country_name').agg(sum('salary').alias('salario_total')).selectExpr('country_name as nome_pais', 'department_name as nome_departamento', 'salario_total').orderBy('nome_pais').show(departments_countries.count(), False)"
   ]
  },
  {
   "cell_type": "markdown",
   "id": "b1a1f175",
   "metadata": {},
   "source": [
    "## Para entregar"
   ]
  },
  {
   "cell_type": "markdown",
   "id": "f2a3e25f",
   "metadata": {},
   "source": [
    "1. Qual a média de salário dos programadores?\n",
    "1. Quantos funcionários recebem o salário mínimo da função?\n",
    "1. Quantos funcionários recebem o salário máximo da função?\n",
    "\n",
    "4. Exercício 6 acima"
   ]
  },
  {
   "cell_type": "markdown",
   "id": "6b6f850f",
   "metadata": {},
   "source": [
    "### Qual a média de salário dos programadores?"
   ]
  },
  {
   "cell_type": "code",
   "execution_count": 20,
   "id": "ccaab13e",
   "metadata": {
    "ExecuteTime": {
     "end_time": "2021-09-02T17:38:06.007183Z",
     "start_time": "2021-09-02T17:38:05.976928Z"
    }
   },
   "outputs": [],
   "source": [
    "employees_jobs = employees.join(jobs, on = employees.job_id==jobs.indice, how='left' )"
   ]
  },
  {
   "cell_type": "code",
   "execution_count": 21,
   "id": "e2f658d6",
   "metadata": {
    "ExecuteTime": {
     "end_time": "2021-09-02T17:38:06.183767Z",
     "start_time": "2021-09-02T17:38:06.008160Z"
    }
   },
   "outputs": [],
   "source": [
    "programadores = employees_jobs.where(employees_jobs.job_title == 'Programmer')"
   ]
  },
  {
   "cell_type": "code",
   "execution_count": 22,
   "id": "7cabcef0",
   "metadata": {
    "ExecuteTime": {
     "end_time": "2021-09-02T17:38:07.108236Z",
     "start_time": "2021-09-02T17:38:06.185762Z"
    }
   },
   "outputs": [
    {
     "name": "stdout",
     "output_type": "stream",
     "text": [
      "+----------+-------------+\n",
      "| job_title|media_salario|\n",
      "+----------+-------------+\n",
      "|Programmer|       5760.0|\n",
      "+----------+-------------+\n",
      "\n"
     ]
    }
   ],
   "source": [
    "programadores.groupby('job_title').agg(mean('salary').alias('media_salario')).selectExpr('job_title', 'media_salario').show()"
   ]
  },
  {
   "cell_type": "markdown",
   "id": "62b96b7a",
   "metadata": {},
   "source": [
    "### Quantos funcionários recebem o salário mínimo da função?"
   ]
  },
  {
   "cell_type": "code",
   "execution_count": 23,
   "id": "50f67822",
   "metadata": {
    "ExecuteTime": {
     "end_time": "2021-09-02T17:38:07.302456Z",
     "start_time": "2021-09-02T17:38:07.112137Z"
    }
   },
   "outputs": [
    {
     "name": "stdout",
     "output_type": "stream",
     "text": [
      "+-----------------------------------------------------+\n",
      "|count(CASE WHEN (salary = salario_min) THEN true END)|\n",
      "+-----------------------------------------------------+\n",
      "|                                                    1|\n",
      "+-----------------------------------------------------+\n",
      "\n"
     ]
    }
   ],
   "source": [
    "employees_jobs.agg(\n",
    "    count(when(col(\"salary\") == col(\"salario_min\"), True))\n",
    ").show()"
   ]
  },
  {
   "cell_type": "markdown",
   "id": "0baf8743",
   "metadata": {},
   "source": [
    "### Quantos funcionários recebem o salário máximo da função?"
   ]
  },
  {
   "cell_type": "code",
   "execution_count": 24,
   "id": "70959fea",
   "metadata": {
    "ExecuteTime": {
     "end_time": "2021-09-02T17:38:07.467432Z",
     "start_time": "2021-09-02T17:38:07.304408Z"
    }
   },
   "outputs": [
    {
     "name": "stdout",
     "output_type": "stream",
     "text": [
      "+-----------------------------------------------------+\n",
      "|count(CASE WHEN (salary = salario_max) THEN true END)|\n",
      "+-----------------------------------------------------+\n",
      "|                                                    1|\n",
      "+-----------------------------------------------------+\n",
      "\n"
     ]
    }
   ],
   "source": [
    "employees_jobs.agg(\n",
    "    count(when(col(\"salary\") == col(\"salario_max\"), True))\n",
    ").show()"
   ]
  },
  {
   "cell_type": "markdown",
   "id": "8a65b127",
   "metadata": {},
   "source": [
    "### Traga o valor acumulado por departamento de cada pais."
   ]
  },
  {
   "cell_type": "code",
   "execution_count": 25,
   "id": "d26811d7",
   "metadata": {
    "ExecuteTime": {
     "end_time": "2021-09-02T17:39:06.775521Z",
     "start_time": "2021-09-02T17:39:05.775526Z"
    }
   },
   "outputs": [
    {
     "name": "stdout",
     "output_type": "stream",
     "text": [
      "+------------------------+-----------------+-------------+\n",
      "|nome_pais               |nome_departamento|salario_total|\n",
      "+------------------------+-----------------+-------------+\n",
      "|Canada                  |Marketing        |19000.0      |\n",
      "|Germany                 |Public Relations |10000.0      |\n",
      "|United Kingdom          |Human Resources  |6500.0       |\n",
      "|United Kingdom          |Sales            |57700.0      |\n",
      "|United States of America|Shipping         |41200.0      |\n",
      "|United States of America|Administration   |4400.0       |\n",
      "|United States of America|Executive        |58000.0      |\n",
      "|United States of America|Finance          |51600.0      |\n",
      "|United States of America|Accounting       |20300.0      |\n",
      "|United States of America|IT               |28800.0      |\n",
      "|United States of America|Purchasing       |24900.0      |\n",
      "+------------------------+-----------------+-------------+\n",
      "\n"
     ]
    }
   ],
   "source": [
    "departments_countries.groupby('department_name', 'country_name').agg(sum('salary').alias('salario_total')).selectExpr('country_name as nome_pais', 'department_name as nome_departamento', 'salario_total').orderBy('nome_pais').show(departments_countries.count(), False)"
   ]
  }
 ],
 "metadata": {
  "kernelspec": {
   "display_name": "Python 3",
   "language": "python",
   "name": "python3"
  },
  "language_info": {
   "codemirror_mode": {
    "name": "ipython",
    "version": 3
   },
   "file_extension": ".py",
   "mimetype": "text/x-python",
   "name": "python",
   "nbconvert_exporter": "python",
   "pygments_lexer": "ipython3",
   "version": "3.8.8"
  },
  "toc": {
   "base_numbering": 1,
   "nav_menu": {},
   "number_sections": true,
   "sideBar": true,
   "skip_h1_title": false,
   "title_cell": "Table of Contents",
   "title_sidebar": "Contents",
   "toc_cell": false,
   "toc_position": {},
   "toc_section_display": true,
   "toc_window_display": false
  }
 },
 "nbformat": 4,
 "nbformat_minor": 5
}
