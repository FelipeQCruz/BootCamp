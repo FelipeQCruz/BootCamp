{
 "cells": [
  {
   "cell_type": "markdown",
   "id": "591fe1f4",
   "metadata": {},
   "source": [
    "# Data Warehouse"
   ]
  },
  {
   "cell_type": "markdown",
   "id": "0161ea89",
   "metadata": {},
   "source": [
    "Vamos criar nossa Data Warehouse com os arquivos da pasta `data`. \n",
    "\n",
    "1. Crie uma base de dados chamada `hr` no `hive`.\n",
    "1. Para cada arquivo, crie uma tabela externa de mesmo nome no `hive`.\n",
    "    1. Como você faria para criar tabelas internas?\n",
    "    1. Como você trata arquivos com e sem `headers`?\n",
    "1. Selecione todos os dados de cada tabela para verificar que o processo funcionou."
   ]
  },
  {
   "cell_type": "markdown",
   "id": "16862fff",
   "metadata": {},
   "source": [
    "## Crie a tabela\n",
    "$ hdfs dfs -mkdir /user/hive/hr"
   ]
  },
  {
   "cell_type": "markdown",
   "id": "1c66c316",
   "metadata": {},
   "source": [
    "## Criar tabela externa para cada arquivo\n",
    "\n",
    "### Criando as pastas\n",
    "```\n",
    "hdfs dfs -mkdir /user/hive/hr/jobs\n",
    "hdfs dfs -mkdir /user/hive/hr/countries\n",
    "hdfs dfs -mkdir /user/hive/hr/departments\n",
    "hdfs dfs -mkdir /user/hive/hr/dependents\n",
    "hdfs dfs -mkdir /user/hive/hr/employees\n",
    "hdfs dfs -mkdir /user/hive/hr/locations\n",
    "hdfs dfs -mkdir /user/hive/hr/regions\n",
    "hdfs dfs -put Documents/dados_hr/jobs.csv /user/hive/hr/jobs/\n",
    "hdfs dfs -put Documents/dados_hr/countries.csv /user/hive/hr/countries/\n",
    "hdfs dfs -put Documents/dados_hr/departments.csv /user/hive/hr/departments/\n",
    "hdfs dfs -put Documents/dados_hr/dependents.csv /user/hive/hr/dependents/\n",
    "hdfs dfs -put Documents/dados_hr/employees.csv /user/hive/hr/employees/\n",
    "hdfs dfs -put Documents/dados_hr/locations.csv /user/hive/hr/locations/\n",
    "hdfs dfs -put Documents/dados_hr/regions.csv /user/hive/hr/regions/\n",
    "```\n",
    "\n",
    "### Criando as tabelas externas\n",
    "\n",
    "acessando o beeline:\n",
    "``\n",
    "beeline -u \"jdbc:hive2://quickstart.cloudera:10000/default\"\n",
    "``\n",
    "\n",
    "jobs:\n",
    "\n",
    "``` mysql\n",
    "create external table jobs ( indice int, job_title string, min_salario float, max_salario float) \n",
    "row format delimited fields terminated by ',' lines terminated by '\\n' \n",
    "stored as textfile\n",
    "location '/user/hive/hr/jobs';\n",
    "```\n",
    "\n",
    "countries:\n",
    "\n",
    "``` mysql\n",
    "create external table countries ( country_id string, country_name string, region_id int) \n",
    "row format delimited fields terminated by ',' lines terminated by '\\n' \n",
    "stored as textfile\n",
    "location '/user/hive/hr/countries'\n",
    "tblproperties(\"skip.header.line.count\"=\"1\"); \n",
    "```\n",
    "\n",
    "departments:\n",
    "\n",
    "``` mysql\n",
    "create external table departments ( department_id string, department_name string, location_id int) \n",
    "row format delimited fields terminated by ',' lines terminated by '\\n' \n",
    "stored as textfile\n",
    "location '/user/hive/hr/departments'\n",
    "tblproperties(\"skip.header.line.count\"=\"1\"); \n",
    "``` \n",
    "\n",
    "dependents:\n",
    "\n",
    "``` mysql\n",
    "create external table dependents ( dependent_id string, first_name string, last_name string, relationship string, employee_id int) \n",
    "row format delimited fields terminated by ',' lines terminated by '\\n' \n",
    "stored as textfile\n",
    "location '/user/hive/hr/dependents'\n",
    "tblproperties(\"skip.header.line.count\"=\"1\"); \n",
    "``` \n",
    "\n",
    "employees:\n",
    "\n",
    "``` mysql\n",
    "create external table employees ( employee_id string, first_name string, last_name string, email string, phone_number string, hire_date date, job_id int, salary float, manager_id int, department_id int) \n",
    "row format delimited fields terminated by ',' lines terminated by '\\n' \n",
    "stored as textfile\n",
    "location '/user/hive/hr/employees'\n",
    "tblproperties(\"skip.header.line.count\"=\"1\"); \n",
    "``` \n",
    "\n",
    "locations:\n",
    "\n",
    "``` mysql\n",
    "create external table locations ( location_id int, adress string, random string, city string, city_2 string, country string) \n",
    "row format delimited fields terminated by ',' lines terminated by '\\n' \n",
    "stored as textfile\n",
    "location '/user/hive/hr/locations';\n",
    "``` \n",
    "\n",
    "regions:\n",
    "\n",
    "``` mysql\n",
    "create external table regions ( region_id int, region string) \n",
    "row format delimited fields terminated by ',' lines terminated by '\\n' \n",
    "stored as textfile\n",
    "location '/user/hive/hr/regions'; \n",
    "```"
   ]
  },
  {
   "cell_type": "markdown",
   "id": "290470ab",
   "metadata": {},
   "source": [
    "> A) Tabela interna:\n",
    "create table interna ( id int ) \n",
    "\n",
    "> B) Com headers: uso do comando ```tblproperties(\"skip.header.line.count\"=\"1\")```, para ignorar a primeira linha com headers \n",
    "\n",
    "> B) Sem headers: basta nomear os ```headers``` ao criar a tabela"
   ]
  },
  {
   "cell_type": "markdown",
   "id": "d546fb4e",
   "metadata": {},
   "source": [
    "# Hive / beeline"
   ]
  },
  {
   "cell_type": "markdown",
   "id": "7866f476",
   "metadata": {},
   "source": [
    "1. Em quantos países a empresa está presente, de acordo com os dados da tabela `location`?\n",
    "1. Em quais cidades inglesas e alemãs a empresa está presente?\n",
    "1. Faça um relatório que traga o primeiro nome colaborador e o número de dependentes (colaborador | dependentes). Importante que os colaboradores que não tem dependentes também apareçam na lista. A lista deve ser ordenada pelo número de dependentes, do maior para o menor e em seguida por ordem alfabética.\n",
    "1. A empresa está passando por uma reestruturação e precisa saber quantos funcionários estão alocados em cada departamento, bem como o total e a média de salários deles. Faça um relatório no formato nome_departamento | numero_funcionarios | salario_total | salario_medio ordenado por salario medio, do maior para o menor. Os números decimais devem conter duas casas após a virgula.\n",
    "1. Faça um relatório que apresente o número de funcionários, o salario total e médio por departamento e país.\n",
    "1. Traga o valor acumulado por departamento de cada pais ."
   ]
  },
  {
   "cell_type": "markdown",
   "id": "91efbd8f",
   "metadata": {},
   "source": [
    "# Para entregar"
   ]
  },
  {
   "cell_type": "markdown",
   "id": "706725ee",
   "metadata": {
    "ExecuteTime": {
     "end_time": "2021-08-25T18:57:38.886782Z",
     "start_time": "2021-08-25T18:57:38.879921Z"
    }
   },
   "source": [
    "Exercícios 4 e 6."
   ]
  },
  {
   "cell_type": "code",
   "execution_count": null,
   "id": "3fc9def8",
   "metadata": {},
   "outputs": [],
   "source": []
  }
 ],
 "metadata": {
  "kernelspec": {
   "display_name": "Python 3",
   "language": "python",
   "name": "python3"
  },
  "language_info": {
   "codemirror_mode": {
    "name": "ipython",
    "version": 3
   },
   "file_extension": ".py",
   "mimetype": "text/x-python",
   "name": "python",
   "nbconvert_exporter": "python",
   "pygments_lexer": "ipython3",
   "version": "3.8.8"
  },
  "toc": {
   "base_numbering": 1,
   "nav_menu": {},
   "number_sections": true,
   "sideBar": true,
   "skip_h1_title": false,
   "title_cell": "Table of Contents",
   "title_sidebar": "Contents",
   "toc_cell": false,
   "toc_position": {
    "height": "calc(100% - 180px)",
    "left": "10px",
    "top": "150px",
    "width": "317px"
   },
   "toc_section_display": true,
   "toc_window_display": true
  }
 },
 "nbformat": 4,
 "nbformat_minor": 5
}
