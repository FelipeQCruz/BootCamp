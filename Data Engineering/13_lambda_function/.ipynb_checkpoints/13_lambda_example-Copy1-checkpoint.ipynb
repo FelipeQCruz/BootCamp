{
 "cells": [
  {
   "cell_type": "markdown",
   "id": "17da33ac",
   "metadata": {},
   "source": [
    "# lambda function"
   ]
  },
  {
   "cell_type": "markdown",
   "id": "be59013c",
   "metadata": {},
   "source": [
    "## Criar lambda `aula_785` no console da AWS"
   ]
  },
  {
   "cell_type": "code",
   "execution_count": 34,
   "id": "f28e9581",
   "metadata": {
    "ExecuteTime": {
     "end_time": "2021-09-08T18:26:29.785572Z",
     "start_time": "2021-09-08T18:26:29.770948Z"
    }
   },
   "outputs": [],
   "source": [
    "# codigo da funcao lambada\n",
    "\n",
    "import json\n",
    "import numpy as np \n",
    "\n",
    "def hello_turma():\n",
    "    return 'Ola'\n",
    "    \n",
    "def lambda_handler(event, context):\n",
    "    \n",
    "    soma = 2+2\n",
    "    \n",
    "    potencia = soma**5\n",
    "    \n",
    "    lista = [2,4,5,6,7]\n",
    "    \n",
    "    texto = hello_turma()\n",
    "    \n",
    "    dicionario = {\n",
    "        'Logica': 9.0,\n",
    "        'BD': 9.5\n",
    "    }\n",
    "    \n",
    "    maximo = np.max(lista)\n",
    "    \n",
    "    return {\n",
    "        'statusCode': 200,\n",
    "        'body': json.dumps(f'{maximo}')\n",
    "    }\n",
    "\n",
    "\n",
    "\n",
    "def outra_funcao(event, context):\n",
    "    \n",
    "    return {\n",
    "        'statusCode': 200,\n",
    "        'body': json.dumps('Esse veio da outra funcao')\n",
    "    }    "
   ]
  },
  {
   "cell_type": "code",
   "execution_count": null,
   "id": "4fc1f529",
   "metadata": {},
   "outputs": [],
   "source": []
  },
  {
   "cell_type": "markdown",
   "id": "9dc9a196",
   "metadata": {},
   "source": [
    "## Adicionar `trigger` (gatilho) API rest\n",
    "\n",
    "- e colar a URL abaixo"
   ]
  },
  {
   "cell_type": "code",
   "execution_count": 23,
   "id": "9ed448ff",
   "metadata": {
    "ExecuteTime": {
     "end_time": "2021-09-08T12:16:43.392647Z",
     "start_time": "2021-09-08T12:16:43.382021Z"
    }
   },
   "outputs": [],
   "source": [
    "url = 'https://tas3hv8uq3.execute-api.sa-east-1.amazonaws.com/default/aula_785'"
   ]
  },
  {
   "cell_type": "code",
   "execution_count": null,
   "id": "69de6335",
   "metadata": {},
   "outputs": [],
   "source": []
  },
  {
   "cell_type": "markdown",
   "id": "538444b7",
   "metadata": {},
   "source": [
    "## acessar lambda"
   ]
  },
  {
   "cell_type": "code",
   "execution_count": 24,
   "id": "49d97f92",
   "metadata": {
    "ExecuteTime": {
     "end_time": "2021-09-08T12:17:42.761207Z",
     "start_time": "2021-09-08T12:17:42.746221Z"
    }
   },
   "outputs": [],
   "source": [
    "import requests"
   ]
  },
  {
   "cell_type": "code",
   "execution_count": 25,
   "id": "8e116083",
   "metadata": {
    "ExecuteTime": {
     "end_time": "2021-09-08T12:17:43.475764Z",
     "start_time": "2021-09-08T12:17:43.260137Z"
    }
   },
   "outputs": [
    {
     "data": {
      "text/plain": [
       "<Response [200]>"
      ]
     },
     "execution_count": 25,
     "metadata": {},
     "output_type": "execute_result"
    }
   ],
   "source": [
    "response = requests.get(url)\n",
    "response"
   ]
  },
  {
   "cell_type": "code",
   "execution_count": 26,
   "id": "e490a872",
   "metadata": {
    "ExecuteTime": {
     "end_time": "2021-09-08T12:17:43.823277Z",
     "start_time": "2021-09-08T12:17:43.808696Z"
    }
   },
   "outputs": [
    {
     "data": {
      "text/plain": [
       "{'Date': 'Wed, 08 Sep 2021 12:17:43 GMT', 'Content-Type': 'application/json', 'Content-Length': '3', 'Connection': 'keep-alive', 'x-amzn-RequestId': '00607969-3800-4dce-89d3-8deb5c2d8242', 'x-amz-apigw-id': 'FV98MGPOGjQFWqw=', 'X-Amzn-Trace-Id': 'Root=1-6138a9e7-665bd5050ffb1bb873e9ec17;Sampled=0'}"
      ]
     },
     "execution_count": 26,
     "metadata": {},
     "output_type": "execute_result"
    }
   ],
   "source": [
    "response.headers"
   ]
  },
  {
   "cell_type": "code",
   "execution_count": 27,
   "id": "e4b1d3e9",
   "metadata": {
    "ExecuteTime": {
     "end_time": "2021-09-08T12:17:44.238926Z",
     "start_time": "2021-09-08T12:17:44.222337Z"
    }
   },
   "outputs": [
    {
     "data": {
      "text/plain": [
       "'Wed, 08 Sep 2021 12:17:43 GMT'"
      ]
     },
     "execution_count": 27,
     "metadata": {},
     "output_type": "execute_result"
    }
   ],
   "source": [
    "response.headers['Date']"
   ]
  },
  {
   "cell_type": "code",
   "execution_count": 28,
   "id": "91d880cb",
   "metadata": {
    "ExecuteTime": {
     "end_time": "2021-09-08T12:17:44.618487Z",
     "start_time": "2021-09-08T12:17:44.605654Z"
    }
   },
   "outputs": [
    {
     "data": {
      "text/plain": [
       "'00607969-3800-4dce-89d3-8deb5c2d8242'"
      ]
     },
     "execution_count": 28,
     "metadata": {},
     "output_type": "execute_result"
    }
   ],
   "source": [
    "response.headers['x-amzn-RequestId']"
   ]
  },
  {
   "cell_type": "code",
   "execution_count": 20,
   "id": "c5b20aab",
   "metadata": {
    "ExecuteTime": {
     "end_time": "2021-09-08T12:13:56.365186Z",
     "start_time": "2021-09-08T12:13:56.354187Z"
    }
   },
   "outputs": [
    {
     "data": {
      "text/plain": [
       "'7'"
      ]
     },
     "execution_count": 20,
     "metadata": {},
     "output_type": "execute_result"
    }
   ],
   "source": [
    "response.json()"
   ]
  },
  {
   "cell_type": "code",
   "execution_count": null,
   "id": "72135663",
   "metadata": {},
   "outputs": [],
   "source": []
  },
  {
   "cell_type": "markdown",
   "id": "c34c74d8",
   "metadata": {},
   "source": [
    "## Trocar o campo `body` para retornar outras funções e testar"
   ]
  },
  {
   "cell_type": "code",
   "execution_count": 10,
   "id": "b184148f",
   "metadata": {
    "ExecuteTime": {
     "end_time": "2021-09-03T20:21:49.271974Z",
     "start_time": "2021-09-03T20:21:49.253851Z"
    }
   },
   "outputs": [
    {
     "data": {
      "text/plain": [
       "[2, 4, 5, 6, 7]"
      ]
     },
     "execution_count": 10,
     "metadata": {},
     "output_type": "execute_result"
    }
   ],
   "source": [
    "lista = response.json()\n",
    "lista"
   ]
  },
  {
   "cell_type": "code",
   "execution_count": 11,
   "id": "378fb8f4",
   "metadata": {
    "ExecuteTime": {
     "end_time": "2021-09-03T20:21:56.540209Z",
     "start_time": "2021-09-03T20:21:56.522205Z"
    }
   },
   "outputs": [],
   "source": [
    "lista.append(8)"
   ]
  },
  {
   "cell_type": "code",
   "execution_count": 13,
   "id": "2fddce66",
   "metadata": {
    "ExecuteTime": {
     "end_time": "2021-09-03T20:22:05.353568Z",
     "start_time": "2021-09-03T20:22:05.333873Z"
    }
   },
   "outputs": [
    {
     "data": {
      "text/plain": [
       "[2, 4, 5, 6, 7, 8]"
      ]
     },
     "execution_count": 13,
     "metadata": {},
     "output_type": "execute_result"
    }
   ],
   "source": [
    "lista"
   ]
  },
  {
   "cell_type": "code",
   "execution_count": 14,
   "id": "ad83b362",
   "metadata": {
    "ExecuteTime": {
     "end_time": "2021-09-03T20:25:33.746412Z",
     "start_time": "2021-09-03T20:25:33.551739Z"
    }
   },
   "outputs": [
    {
     "data": {
      "text/plain": [
       "{'Logica': 9.0, 'BD': 9.5}"
      ]
     },
     "execution_count": 14,
     "metadata": {},
     "output_type": "execute_result"
    }
   ],
   "source": [
    "response = requests.get(url)\n",
    "response.json()"
   ]
  },
  {
   "cell_type": "code",
   "execution_count": 15,
   "id": "a66eddb0",
   "metadata": {
    "ExecuteTime": {
     "end_time": "2021-09-03T20:25:57.875083Z",
     "start_time": "2021-09-03T20:25:57.861056Z"
    }
   },
   "outputs": [
    {
     "data": {
      "text/plain": [
       "9.5"
      ]
     },
     "execution_count": 15,
     "metadata": {},
     "output_type": "execute_result"
    }
   ],
   "source": [
    "dic = response.json()\n",
    "dic['BD']"
   ]
  },
  {
   "cell_type": "code",
   "execution_count": null,
   "id": "fb292965",
   "metadata": {},
   "outputs": [],
   "source": []
  },
  {
   "cell_type": "markdown",
   "id": "3622b34b",
   "metadata": {},
   "source": [
    "## Biblioteca para intergir com AWS: `boto3`"
   ]
  },
  {
   "cell_type": "code",
   "execution_count": 16,
   "id": "b10533b8",
   "metadata": {
    "ExecuteTime": {
     "end_time": "2021-09-03T20:34:48.924440Z",
     "start_time": "2021-09-03T20:34:48.753141Z"
    }
   },
   "outputs": [],
   "source": [
    "import boto3"
   ]
  },
  {
   "cell_type": "code",
   "execution_count": 29,
   "id": "e8c95208",
   "metadata": {
    "ExecuteTime": {
     "end_time": "2021-09-08T12:19:46.738429Z",
     "start_time": "2021-09-08T12:19:46.722276Z"
    }
   },
   "outputs": [],
   "source": [
    "# pip install boto3"
   ]
  },
  {
   "cell_type": "code",
   "execution_count": null,
   "id": "0545c344",
   "metadata": {},
   "outputs": [],
   "source": []
  },
  {
   "cell_type": "markdown",
   "id": "d4d187f2",
   "metadata": {},
   "source": [
    "# Passar input pra lambda"
   ]
  },
  {
   "cell_type": "markdown",
   "id": "1aa0a41b",
   "metadata": {},
   "source": [
    "## Criar lambda `aula_785_1` no console da AWS"
   ]
  },
  {
   "cell_type": "code",
   "execution_count": 31,
   "id": "cddad20c",
   "metadata": {
    "ExecuteTime": {
     "end_time": "2021-09-08T12:21:24.290915Z",
     "start_time": "2021-09-08T12:21:24.267499Z"
    }
   },
   "outputs": [],
   "source": [
    "# codigo da lambda\n",
    "\n",
    "import json\n",
    "\n",
    "def lambda_handler(event, context):\n",
    "   \n",
    "    data = json.loads(event[\"body\"])\n",
    "    num1 = data['num1']\n",
    "    num2 = data['num2']\n",
    "   \n",
    "    soma = num1 + num2\n",
    "    subtracao = num1 - num2\n",
    "    produto = num1 * num2\n",
    "    divisao = num1 / num2\n",
    "   \n",
    "   \n",
    "    return {\n",
    "        'statusCode': 200,\n",
    "        'body': json.dumps({'soma': soma,\n",
    "                            'subtracao': subtracao,\n",
    "                            'produto': produto,\n",
    "                            'divisao':divisao})\n",
    "    }"
   ]
  },
  {
   "cell_type": "code",
   "execution_count": null,
   "id": "8c54d3a7",
   "metadata": {},
   "outputs": [],
   "source": []
  },
  {
   "cell_type": "markdown",
   "id": "06b0232b",
   "metadata": {},
   "source": [
    "## Adicionar `trigger` (gatilho) API rest\n",
    "\n",
    "- colar URL abaixo"
   ]
  },
  {
   "cell_type": "code",
   "execution_count": 32,
   "id": "d5a3107a",
   "metadata": {
    "ExecuteTime": {
     "end_time": "2021-09-08T12:21:56.068834Z",
     "start_time": "2021-09-08T12:21:56.062024Z"
    }
   },
   "outputs": [],
   "source": [
    "url = 'https://tas3hv8uq3.execute-api.sa-east-1.amazonaws.com/default/aula_785_1'"
   ]
  },
  {
   "cell_type": "code",
   "execution_count": null,
   "id": "7cf92d75",
   "metadata": {},
   "outputs": [],
   "source": []
  },
  {
   "cell_type": "markdown",
   "id": "6c9b41e4",
   "metadata": {},
   "source": [
    "## Passar inputs e coletar outputs"
   ]
  },
  {
   "cell_type": "code",
   "execution_count": 33,
   "id": "3dfacf4b",
   "metadata": {
    "ExecuteTime": {
     "end_time": "2021-09-08T12:22:23.991889Z",
     "start_time": "2021-09-08T12:22:23.763907Z"
    }
   },
   "outputs": [
    {
     "data": {
      "text/plain": [
       "{'soma': 11, 'subtracao': -5, 'produto': 24, 'divisao': 0.375}"
      ]
     },
     "execution_count": 33,
     "metadata": {},
     "output_type": "execute_result"
    }
   ],
   "source": [
    "json = {\n",
    "    'num1': 3,\n",
    "    'num2': 8\n",
    "}\n",
    "\n",
    "# response = requests.post(url, json=json)\n",
    "response = requests.put(url, json=json)\n",
    "\n",
    "response.json()"
   ]
  },
  {
   "cell_type": "code",
   "execution_count": null,
   "id": "03fe0383",
   "metadata": {},
   "outputs": [],
   "source": []
  }
 ],
 "metadata": {
  "kernelspec": {
   "display_name": "Python 3",
   "language": "python",
   "name": "python3"
  },
  "language_info": {
   "codemirror_mode": {
    "name": "ipython",
    "version": 3
   },
   "file_extension": ".py",
   "mimetype": "text/x-python",
   "name": "python",
   "nbconvert_exporter": "python",
   "pygments_lexer": "ipython3",
   "version": "3.8.8"
  },
  "toc": {
   "base_numbering": 1,
   "nav_menu": {},
   "number_sections": true,
   "sideBar": true,
   "skip_h1_title": false,
   "title_cell": "Table of Contents",
   "title_sidebar": "Contents",
   "toc_cell": false,
   "toc_position": {},
   "toc_section_display": true,
   "toc_window_display": true
  }
 },
 "nbformat": 4,
 "nbformat_minor": 5
}
