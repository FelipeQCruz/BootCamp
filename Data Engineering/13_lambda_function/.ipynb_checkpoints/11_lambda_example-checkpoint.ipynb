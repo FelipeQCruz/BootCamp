{
 "cells": [
  {
   "cell_type": "markdown",
   "id": "17da33ac",
   "metadata": {},
   "source": [
    "# Disparar lambda"
   ]
  },
  {
   "cell_type": "code",
   "execution_count": 1,
   "id": "49d97f92",
   "metadata": {
    "ExecuteTime": {
     "end_time": "2021-09-03T20:17:30.570440Z",
     "start_time": "2021-09-03T20:17:30.453407Z"
    }
   },
   "outputs": [],
   "source": [
    "import requests"
   ]
  },
  {
   "cell_type": "code",
   "execution_count": 2,
   "id": "b129ab1c",
   "metadata": {
    "ExecuteTime": {
     "end_time": "2021-09-03T20:18:23.503194Z",
     "start_time": "2021-09-03T20:18:23.493651Z"
    }
   },
   "outputs": [],
   "source": [
    "url = 'https://tas3hv8uq3.execute-api.sa-east-1.amazonaws.com/default/aula_785'"
   ]
  },
  {
   "cell_type": "code",
   "execution_count": 3,
   "id": "8e116083",
   "metadata": {
    "ExecuteTime": {
     "end_time": "2021-09-03T20:18:49.052947Z",
     "start_time": "2021-09-03T20:18:48.841045Z"
    }
   },
   "outputs": [
    {
     "data": {
      "text/plain": [
       "<Response [200]>"
      ]
     },
     "execution_count": 3,
     "metadata": {},
     "output_type": "execute_result"
    }
   ],
   "source": [
    "response = requests.get(url)\n",
    "response"
   ]
  },
  {
   "cell_type": "code",
   "execution_count": 4,
   "id": "e490a872",
   "metadata": {
    "ExecuteTime": {
     "end_time": "2021-09-03T20:19:37.452430Z",
     "start_time": "2021-09-03T20:19:37.444401Z"
    }
   },
   "outputs": [
    {
     "data": {
      "text/plain": [
       "{'Date': 'Fri, 03 Sep 2021 20:18:49 GMT', 'Content-Type': 'application/json', 'Content-Length': '15', 'Connection': 'keep-alive', 'x-amzn-RequestId': '6a7e5813-6ae8-41bf-b99f-4124952f345f', 'x-amz-apigw-id': 'FGludHfJGjQFkaA=', 'X-Amzn-Trace-Id': 'Root=1-61328329-599e6bf01429584e450e5225;Sampled=0'}"
      ]
     },
     "execution_count": 4,
     "metadata": {},
     "output_type": "execute_result"
    }
   ],
   "source": [
    "response.headers"
   ]
  },
  {
   "cell_type": "code",
   "execution_count": 6,
   "id": "e4b1d3e9",
   "metadata": {
    "ExecuteTime": {
     "end_time": "2021-09-03T20:20:58.054623Z",
     "start_time": "2021-09-03T20:20:58.038386Z"
    }
   },
   "outputs": [
    {
     "data": {
      "text/plain": [
       "'Fri, 03 Sep 2021 20:18:49 GMT'"
      ]
     },
     "execution_count": 6,
     "metadata": {},
     "output_type": "execute_result"
    }
   ],
   "source": [
    "response.headers['Date']"
   ]
  },
  {
   "cell_type": "code",
   "execution_count": 7,
   "id": "91d880cb",
   "metadata": {
    "ExecuteTime": {
     "end_time": "2021-09-03T20:21:12.077623Z",
     "start_time": "2021-09-03T20:21:12.069044Z"
    }
   },
   "outputs": [
    {
     "data": {
      "text/plain": [
       "'6a7e5813-6ae8-41bf-b99f-4124952f345f'"
      ]
     },
     "execution_count": 7,
     "metadata": {},
     "output_type": "execute_result"
    }
   ],
   "source": [
    "response.headers['x-amzn-RequestId']"
   ]
  },
  {
   "cell_type": "code",
   "execution_count": 8,
   "id": "c5b20aab",
   "metadata": {
    "ExecuteTime": {
     "end_time": "2021-09-03T20:21:32.229494Z",
     "start_time": "2021-09-03T20:21:32.220497Z"
    }
   },
   "outputs": [
    {
     "data": {
      "text/plain": [
       "[2, 4, 5, 6, 7]"
      ]
     },
     "execution_count": 8,
     "metadata": {},
     "output_type": "execute_result"
    }
   ],
   "source": [
    "response.json()"
   ]
  },
  {
   "cell_type": "code",
   "execution_count": 10,
   "id": "b184148f",
   "metadata": {
    "ExecuteTime": {
     "end_time": "2021-09-03T20:21:49.271974Z",
     "start_time": "2021-09-03T20:21:49.253851Z"
    }
   },
   "outputs": [
    {
     "data": {
      "text/plain": [
       "[2, 4, 5, 6, 7]"
      ]
     },
     "execution_count": 10,
     "metadata": {},
     "output_type": "execute_result"
    }
   ],
   "source": [
    "lista = response.json()\n",
    "lista"
   ]
  },
  {
   "cell_type": "code",
   "execution_count": 11,
   "id": "378fb8f4",
   "metadata": {
    "ExecuteTime": {
     "end_time": "2021-09-03T20:21:56.540209Z",
     "start_time": "2021-09-03T20:21:56.522205Z"
    }
   },
   "outputs": [],
   "source": [
    "lista.append(8)"
   ]
  },
  {
   "cell_type": "code",
   "execution_count": 13,
   "id": "2fddce66",
   "metadata": {
    "ExecuteTime": {
     "end_time": "2021-09-03T20:22:05.353568Z",
     "start_time": "2021-09-03T20:22:05.333873Z"
    }
   },
   "outputs": [
    {
     "data": {
      "text/plain": [
       "[2, 4, 5, 6, 7, 8]"
      ]
     },
     "execution_count": 13,
     "metadata": {},
     "output_type": "execute_result"
    }
   ],
   "source": [
    "lista"
   ]
  },
  {
   "cell_type": "code",
   "execution_count": 14,
   "id": "ad83b362",
   "metadata": {
    "ExecuteTime": {
     "end_time": "2021-09-03T20:25:33.746412Z",
     "start_time": "2021-09-03T20:25:33.551739Z"
    }
   },
   "outputs": [
    {
     "data": {
      "text/plain": [
       "{'Logica': 9.0, 'BD': 9.5}"
      ]
     },
     "execution_count": 14,
     "metadata": {},
     "output_type": "execute_result"
    }
   ],
   "source": [
    "response = requests.get(url)\n",
    "response.json()"
   ]
  },
  {
   "cell_type": "code",
   "execution_count": 15,
   "id": "a66eddb0",
   "metadata": {
    "ExecuteTime": {
     "end_time": "2021-09-03T20:25:57.875083Z",
     "start_time": "2021-09-03T20:25:57.861056Z"
    }
   },
   "outputs": [
    {
     "data": {
      "text/plain": [
       "9.5"
      ]
     },
     "execution_count": 15,
     "metadata": {},
     "output_type": "execute_result"
    }
   ],
   "source": [
    "dic = response.json()\n",
    "dic['BD']"
   ]
  },
  {
   "cell_type": "code",
   "execution_count": 16,
   "id": "b10533b8",
   "metadata": {
    "ExecuteTime": {
     "end_time": "2021-09-03T20:34:48.924440Z",
     "start_time": "2021-09-03T20:34:48.753141Z"
    }
   },
   "outputs": [],
   "source": [
    "import boto3"
   ]
  },
  {
   "cell_type": "code",
   "execution_count": null,
   "id": "e8c95208",
   "metadata": {},
   "outputs": [],
   "source": [
    "pip install boto3"
   ]
  },
  {
   "cell_type": "code",
   "execution_count": null,
   "id": "0545c344",
   "metadata": {},
   "outputs": [],
   "source": []
  },
  {
   "cell_type": "markdown",
   "id": "d4d187f2",
   "metadata": {},
   "source": [
    "# Passar input pra lambda"
   ]
  },
  {
   "cell_type": "code",
   "execution_count": 19,
   "id": "3dfacf4b",
   "metadata": {
    "ExecuteTime": {
     "end_time": "2021-09-03T20:58:22.081889Z",
     "start_time": "2021-09-03T20:58:21.855597Z"
    }
   },
   "outputs": [
    {
     "data": {
      "text/plain": [
       "{'message': 'Internal server error'}"
      ]
     },
     "execution_count": 19,
     "metadata": {},
     "output_type": "execute_result"
    }
   ],
   "source": [
    "url = 'https://tas3hv8uq3.execute-api.sa-east-1.amazonaws.com/default/aula_785_1'\n",
    "json = {\n",
    "    'num1': 3,\n",
    "    'num2': 8\n",
    "}\n",
    "\n",
    "response = requests.post(url, json=json)\n",
    "# response = requests.put(url, json=json)\n",
    "\n",
    "response.json()"
   ]
  },
  {
   "cell_type": "code",
   "execution_count": null,
   "id": "03fe0383",
   "metadata": {},
   "outputs": [],
   "source": []
  }
 ],
 "metadata": {
  "kernelspec": {
   "display_name": "Python 3",
   "language": "python",
   "name": "python3"
  },
  "language_info": {
   "codemirror_mode": {
    "name": "ipython",
    "version": 3
   },
   "file_extension": ".py",
   "mimetype": "text/x-python",
   "name": "python",
   "nbconvert_exporter": "python",
   "pygments_lexer": "ipython3",
   "version": "3.8.8"
  },
  "toc": {
   "base_numbering": 1,
   "nav_menu": {},
   "number_sections": true,
   "sideBar": true,
   "skip_h1_title": false,
   "title_cell": "Table of Contents",
   "title_sidebar": "Contents",
   "toc_cell": false,
   "toc_position": {},
   "toc_section_display": true,
   "toc_window_display": false
  }
 },
 "nbformat": 4,
 "nbformat_minor": 5
}
