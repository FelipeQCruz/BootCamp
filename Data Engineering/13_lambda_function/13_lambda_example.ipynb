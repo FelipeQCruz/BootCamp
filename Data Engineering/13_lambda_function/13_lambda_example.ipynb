{
 "cells": [
  {
   "cell_type": "markdown",
   "id": "17da33ac",
   "metadata": {},
   "source": [
    "# lambda function"
   ]
  },
  {
   "cell_type": "markdown",
   "id": "65269f50",
   "metadata": {},
   "source": [
    "## Criar lambda `aula_785` no console da AWS"
   ]
  },
  {
   "cell_type": "code",
   "execution_count": 1,
   "id": "6fedabaa",
   "metadata": {
    "ExecuteTime": {
     "end_time": "2021-09-08T21:46:41.129118Z",
     "start_time": "2021-09-08T21:46:40.961210Z"
    }
   },
   "outputs": [],
   "source": [
    "# codigo da funcao lambada\n",
    "\n",
    "import json\n",
    "import numpy as np \n",
    "\n",
    "def hello_turma():\n",
    "    return 'Ola'\n",
    "    \n",
    "def lambda_handler(event, context):\n",
    "    \n",
    "    soma = 2+2\n",
    "    \n",
    "    potencia = soma**5\n",
    "    \n",
    "    lista = [2,4,5,6,7]\n",
    "    \n",
    "    texto = hello_turma()\n",
    "    \n",
    "    dicionario = {\n",
    "        'Logica': 9.0,\n",
    "        'BD': 9.5\n",
    "    }\n",
    "    \n",
    "    maximo = np.max(lista)\n",
    "    \n",
    "    return {\n",
    "        'statusCode': 200,\n",
    "        'body': json.dumps(f'{maximo}')\n",
    "    }\n",
    "\n",
    "\n",
    "\n",
    "def outra_funcao(event, context):\n",
    "    \n",
    "    return {\n",
    "        'statusCode': 200,\n",
    "        'body': json.dumps('Esse veio da outra funcao')\n",
    "    }    "
   ]
  },
  {
   "cell_type": "code",
   "execution_count": null,
   "id": "aef1ecc2",
   "metadata": {},
   "outputs": [],
   "source": []
  },
  {
   "cell_type": "markdown",
   "id": "5c43803f",
   "metadata": {},
   "source": [
    "## Adicionar `trigger` (gatilho) API rest\n",
    "\n",
    "- e colar a URL abaixo"
   ]
  },
  {
   "cell_type": "code",
   "execution_count": 2,
   "id": "5bfc25e5",
   "metadata": {
    "ExecuteTime": {
     "end_time": "2021-09-08T21:46:41.309397Z",
     "start_time": "2021-09-08T21:46:41.130121Z"
    }
   },
   "outputs": [],
   "source": [
    "url = 'https://tas3hv8uq3.execute-api.sa-east-1.amazonaws.com/default/aula_785'"
   ]
  },
  {
   "cell_type": "code",
   "execution_count": null,
   "id": "123585ce",
   "metadata": {},
   "outputs": [],
   "source": []
  },
  {
   "cell_type": "markdown",
   "id": "34f79364",
   "metadata": {},
   "source": [
    "## acessar lambda"
   ]
  },
  {
   "cell_type": "code",
   "execution_count": 3,
   "id": "49d97f92",
   "metadata": {
    "ExecuteTime": {
     "end_time": "2021-09-08T21:46:42.063503Z",
     "start_time": "2021-09-08T21:46:41.311323Z"
    }
   },
   "outputs": [],
   "source": [
    "import requests"
   ]
  },
  {
   "cell_type": "code",
   "execution_count": 4,
   "id": "8e116083",
   "metadata": {
    "ExecuteTime": {
     "end_time": "2021-09-08T21:46:43.957659Z",
     "start_time": "2021-09-08T21:46:42.065337Z"
    }
   },
   "outputs": [
    {
     "data": {
      "text/plain": [
       "<Response [200]>"
      ]
     },
     "execution_count": 4,
     "metadata": {},
     "output_type": "execute_result"
    }
   ],
   "source": [
    "response = requests.get(url)\n",
    "response"
   ]
  },
  {
   "cell_type": "code",
   "execution_count": 5,
   "id": "e490a872",
   "metadata": {
    "ExecuteTime": {
     "end_time": "2021-09-08T21:46:43.965466Z",
     "start_time": "2021-09-08T21:46:43.959610Z"
    }
   },
   "outputs": [
    {
     "data": {
      "text/plain": [
       "{'Date': 'Wed, 08 Sep 2021 21:46:42 GMT', 'Content-Type': 'application/json', 'Content-Length': '26', 'Connection': 'keep-alive', 'x-amzn-RequestId': 'a5b24711-0f02-4e04-a44f-7a6f22904fc4', 'x-amz-apigw-id': 'FXRSKF8aGjQFfuA=', 'X-Amzn-Trace-Id': 'Root=1-61392f40-78c761755e5bb72e2771c175;Sampled=0'}"
      ]
     },
     "execution_count": 5,
     "metadata": {},
     "output_type": "execute_result"
    }
   ],
   "source": [
    "response.headers"
   ]
  },
  {
   "cell_type": "code",
   "execution_count": 6,
   "id": "e4b1d3e9",
   "metadata": {
    "ExecuteTime": {
     "end_time": "2021-09-08T21:46:44.504334Z",
     "start_time": "2021-09-08T21:46:43.967453Z"
    }
   },
   "outputs": [
    {
     "data": {
      "text/plain": [
       "'Wed, 08 Sep 2021 21:46:42 GMT'"
      ]
     },
     "execution_count": 6,
     "metadata": {},
     "output_type": "execute_result"
    }
   ],
   "source": [
    "response.headers['Date']"
   ]
  },
  {
   "cell_type": "code",
   "execution_count": 7,
   "id": "91d880cb",
   "metadata": {
    "ExecuteTime": {
     "end_time": "2021-09-08T21:46:44.939633Z",
     "start_time": "2021-09-08T21:46:44.506260Z"
    }
   },
   "outputs": [
    {
     "data": {
      "text/plain": [
       "'a5b24711-0f02-4e04-a44f-7a6f22904fc4'"
      ]
     },
     "execution_count": 7,
     "metadata": {},
     "output_type": "execute_result"
    }
   ],
   "source": [
    "response.headers['x-amzn-RequestId']"
   ]
  },
  {
   "cell_type": "code",
   "execution_count": 8,
   "id": "c5b20aab",
   "metadata": {
    "ExecuteTime": {
     "end_time": "2021-09-08T21:46:45.422184Z",
     "start_time": "2021-09-08T21:46:44.942564Z"
    }
   },
   "outputs": [
    {
     "data": {
      "text/plain": [
       "{'Logica': 9.0, 'BD': 9.5}"
      ]
     },
     "execution_count": 8,
     "metadata": {},
     "output_type": "execute_result"
    }
   ],
   "source": [
    "response.json()"
   ]
  },
  {
   "cell_type": "code",
   "execution_count": null,
   "id": "1ba2e5fd",
   "metadata": {
    "ExecuteTime": {
     "end_time": "2021-09-08T19:12:58.666060Z",
     "start_time": "2021-09-08T19:12:58.657036Z"
    }
   },
   "outputs": [],
   "source": []
  },
  {
   "cell_type": "markdown",
   "id": "d5b2003b",
   "metadata": {},
   "source": [
    "## Trocar o campo `body` para retornar outras funções e testar"
   ]
  },
  {
   "cell_type": "markdown",
   "id": "a2eb85db",
   "metadata": {},
   "source": [
    "### output = lista"
   ]
  },
  {
   "cell_type": "code",
   "execution_count": 9,
   "id": "b184148f",
   "metadata": {
    "ExecuteTime": {
     "end_time": "2021-09-08T21:46:46.099598Z",
     "start_time": "2021-09-08T21:46:45.425112Z"
    }
   },
   "outputs": [
    {
     "data": {
      "text/plain": [
       "{'Logica': 9.0, 'BD': 9.5}"
      ]
     },
     "execution_count": 9,
     "metadata": {},
     "output_type": "execute_result"
    }
   ],
   "source": [
    "lista = response.json()\n",
    "lista"
   ]
  },
  {
   "cell_type": "code",
   "execution_count": 10,
   "id": "44aecf37",
   "metadata": {
    "ExecuteTime": {
     "end_time": "2021-09-08T21:46:47.031977Z",
     "start_time": "2021-09-08T21:46:46.101558Z"
    }
   },
   "outputs": [
    {
     "ename": "AttributeError",
     "evalue": "'dict' object has no attribute 'append'",
     "output_type": "error",
     "traceback": [
      "\u001b[1;31m---------------------------------------------------------------------------\u001b[0m",
      "\u001b[1;31mAttributeError\u001b[0m                            Traceback (most recent call last)",
      "\u001b[1;32m<ipython-input-10-5a78d614c10e>\u001b[0m in \u001b[0;36m<module>\u001b[1;34m\u001b[0m\n\u001b[1;32m----> 1\u001b[1;33m \u001b[0mlista\u001b[0m\u001b[1;33m.\u001b[0m\u001b[0mappend\u001b[0m\u001b[1;33m(\u001b[0m\u001b[1;36m8\u001b[0m\u001b[1;33m)\u001b[0m\u001b[1;33m\u001b[0m\u001b[1;33m\u001b[0m\u001b[0m\n\u001b[0m\u001b[0;32m      2\u001b[0m \u001b[0mlista\u001b[0m\u001b[1;33m\u001b[0m\u001b[1;33m\u001b[0m\u001b[0m\n",
      "\u001b[1;31mAttributeError\u001b[0m: 'dict' object has no attribute 'append'"
     ]
    }
   ],
   "source": [
    "lista.append(8)\n",
    "lista"
   ]
  },
  {
   "cell_type": "code",
   "execution_count": null,
   "id": "e32a51b2",
   "metadata": {},
   "outputs": [],
   "source": []
  },
  {
   "cell_type": "markdown",
   "id": "ab4bcaa0",
   "metadata": {},
   "source": [
    "### output = dicionario"
   ]
  },
  {
   "cell_type": "code",
   "execution_count": null,
   "id": "ad83b362",
   "metadata": {
    "ExecuteTime": {
     "end_time": "2021-09-08T21:46:47.033929Z",
     "start_time": "2021-09-08T21:46:40.993Z"
    }
   },
   "outputs": [],
   "source": [
    "response = requests.get(url)\n",
    "response.json()"
   ]
  },
  {
   "cell_type": "code",
   "execution_count": null,
   "id": "a66eddb0",
   "metadata": {
    "ExecuteTime": {
     "end_time": "2021-09-08T21:46:47.034903Z",
     "start_time": "2021-09-08T21:46:40.996Z"
    }
   },
   "outputs": [],
   "source": [
    "dic = response.json()\n",
    "dic['BD']"
   ]
  },
  {
   "cell_type": "code",
   "execution_count": null,
   "id": "bb4c5c84",
   "metadata": {},
   "outputs": [],
   "source": []
  },
  {
   "cell_type": "markdown",
   "id": "63ba604e",
   "metadata": {},
   "source": [
    "## Biblioteca para intergir com AWS: `boto3`"
   ]
  },
  {
   "cell_type": "code",
   "execution_count": 12,
   "id": "b10533b8",
   "metadata": {
    "ExecuteTime": {
     "end_time": "2021-09-08T21:47:23.945116Z",
     "start_time": "2021-09-08T21:47:21.158861Z"
    }
   },
   "outputs": [],
   "source": [
    "import boto3"
   ]
  },
  {
   "cell_type": "code",
   "execution_count": 11,
   "id": "e8c95208",
   "metadata": {
    "ExecuteTime": {
     "end_time": "2021-09-08T21:47:14.706944Z",
     "start_time": "2021-09-08T21:46:52.030791Z"
    }
   },
   "outputs": [
    {
     "name": "stdout",
     "output_type": "stream",
     "text": [
      "Requirement already satisfied: boto3 in c:\\programdata\\anaconda3\\lib\\site-packages (1.18.36)Note: you may need to restart the kernel to use updated packages.\n"
     ]
    },
    {
     "name": "stderr",
     "output_type": "stream",
     "text": [
      "WARNING: Ignoring invalid distribution -p (c:\\programdata\\anaconda3\\lib\\site-packages)\n",
      "WARNING: Ignoring invalid distribution -1p (c:\\programdata\\anaconda3\\lib\\site-packages)\n",
      "WARNING: Ignoring invalid distribution -p (c:\\programdata\\anaconda3\\lib\\site-packages)\n",
      "WARNING: Ignoring invalid distribution -0p (c:\\programdata\\anaconda3\\lib\\site-packages)\n",
      "WARNING: Ignoring invalid distribution -ip (c:\\programdata\\anaconda3\\lib\\site-packages)\n",
      "WARNING: Ignoring invalid distribution - (c:\\programdata\\anaconda3\\lib\\site-packages)\n",
      "WARNING: Ignoring invalid distribution -p (c:\\programdata\\anaconda3\\lib\\site-packages)\n",
      "WARNING: Ignoring invalid distribution -1p (c:\\programdata\\anaconda3\\lib\\site-packages)\n",
      "WARNING: Ignoring invalid distribution -p (c:\\programdata\\anaconda3\\lib\\site-packages)\n",
      "WARNING: Ignoring invalid distribution -0p (c:\\programdata\\anaconda3\\lib\\site-packages)\n",
      "WARNING: Ignoring invalid distribution -ip (c:\\programdata\\anaconda3\\lib\\site-packages)\n",
      "WARNING: Ignoring invalid distribution - (c:\\programdata\\anaconda3\\lib\\site-packages)\n",
      "WARNING: Ignoring invalid distribution -p (c:\\programdata\\anaconda3\\lib\\site-packages)\n",
      "WARNING: Ignoring invalid distribution -1p (c:\\programdata\\anaconda3\\lib\\site-packages)\n",
      "WARNING: Ignoring invalid distribution -p (c:\\programdata\\anaconda3\\lib\\site-packages)\n"
     ]
    },
    {
     "name": "stdout",
     "output_type": "stream",
     "text": [
      "\n",
      "Requirement already satisfied: botocore<1.22.0,>=1.21.36 in c:\\programdata\\anaconda3\\lib\\site-packages (from boto3) (1.21.36)\n",
      "Requirement already satisfied: jmespath<1.0.0,>=0.7.1 in c:\\programdata\\anaconda3\\lib\\site-packages (from boto3) (0.10.0)\n",
      "Requirement already satisfied: s3transfer<0.6.0,>=0.5.0 in c:\\programdata\\anaconda3\\lib\\site-packages (from boto3) (0.5.0)\n",
      "Requirement already satisfied: urllib3<1.27,>=1.25.4 in c:\\programdata\\anaconda3\\lib\\site-packages (from botocore<1.22.0,>=1.21.36->boto3) (1.26.4)\n",
      "Requirement already satisfied: python-dateutil<3.0.0,>=2.1 in c:\\programdata\\anaconda3\\lib\\site-packages (from botocore<1.22.0,>=1.21.36->boto3) (2.8.1)\n",
      "Requirement already satisfied: six>=1.5 in c:\\programdata\\anaconda3\\lib\\site-packages (from python-dateutil<3.0.0,>=2.1->botocore<1.22.0,>=1.21.36->boto3) (1.15.0)\n"
     ]
    },
    {
     "name": "stderr",
     "output_type": "stream",
     "text": [
      "WARNING: Ignoring invalid distribution -0p (c:\\programdata\\anaconda3\\lib\\site-packages)\n",
      "WARNING: Ignoring invalid distribution -ip (c:\\programdata\\anaconda3\\lib\\site-packages)\n",
      "WARNING: Ignoring invalid distribution - (c:\\programdata\\anaconda3\\lib\\site-packages)\n",
      "WARNING: Ignoring invalid distribution -p (c:\\programdata\\anaconda3\\lib\\site-packages)\n",
      "WARNING: Ignoring invalid distribution -1p (c:\\programdata\\anaconda3\\lib\\site-packages)\n",
      "WARNING: Ignoring invalid distribution -p (c:\\programdata\\anaconda3\\lib\\site-packages)\n",
      "WARNING: Ignoring invalid distribution -0p (c:\\programdata\\anaconda3\\lib\\site-packages)\n",
      "WARNING: Ignoring invalid distribution -ip (c:\\programdata\\anaconda3\\lib\\site-packages)\n",
      "WARNING: Ignoring invalid distribution - (c:\\programdata\\anaconda3\\lib\\site-packages)\n"
     ]
    }
   ],
   "source": [
    "pip install boto3"
   ]
  },
  {
   "cell_type": "code",
   "execution_count": null,
   "id": "0545c344",
   "metadata": {},
   "outputs": [],
   "source": []
  },
  {
   "cell_type": "markdown",
   "id": "d4d187f2",
   "metadata": {},
   "source": [
    "# Passar input pra lambda"
   ]
  },
  {
   "cell_type": "markdown",
   "id": "d4a9f1ea",
   "metadata": {},
   "source": [
    "## Criar lambda `aula_785_1` no console da AWS"
   ]
  },
  {
   "cell_type": "code",
   "execution_count": 13,
   "id": "0011f2c6",
   "metadata": {
    "ExecuteTime": {
     "end_time": "2021-09-08T21:47:30.428171Z",
     "start_time": "2021-09-08T21:47:30.419387Z"
    }
   },
   "outputs": [],
   "source": [
    "# codigo da lambda: quatro operações matemáticas entre dois números\n",
    "\n",
    "import json\n",
    "\n",
    "def lambda_handler(event, context):\n",
    "    \n",
    "    data = event # para testar no console\n",
    "    \n",
    "    data = json.loads(event['body']) # para executar no script\n",
    "    \n",
    "    \n",
    "    \n",
    "    n1 = data['num1']\n",
    "    n2 = data['num2']\n",
    "    \n",
    "    soma = n1 + n2 \n",
    "    subtracao = n1 - n2\n",
    "    produto = n1 * n2 \n",
    "    divisao = n1 / n2\n",
    "    \n",
    "    dict_saida = {'soma': soma,\n",
    "                'subtracao': subtracao,\n",
    "                'produto': produto,\n",
    "                'divisao': divisao,\n",
    "                'texto': f'Os numeros sao {n1} e {n2}.'\n",
    "        }\n",
    "        \n",
    "    return {\n",
    "        'statusCode': 200,\n",
    "        'body': json.dumps(dict_saida)\n",
    "    }\n"
   ]
  },
  {
   "cell_type": "code",
   "execution_count": null,
   "id": "9e6f0ebe",
   "metadata": {},
   "outputs": [],
   "source": []
  },
  {
   "cell_type": "markdown",
   "id": "d4a0ca02",
   "metadata": {},
   "source": [
    "## Adicionar `trigger` (gatilho) API rest\n",
    "\n",
    "- colar URL abaixo"
   ]
  },
  {
   "cell_type": "code",
   "execution_count": 14,
   "id": "43e171d8",
   "metadata": {
    "ExecuteTime": {
     "end_time": "2021-09-08T21:47:30.557550Z",
     "start_time": "2021-09-08T21:47:30.430128Z"
    }
   },
   "outputs": [],
   "source": [
    "url = 'https://5769uwzlb5.execute-api.sa-east-1.amazonaws.com/default/aula_785_1'"
   ]
  },
  {
   "cell_type": "code",
   "execution_count": null,
   "id": "f2915830",
   "metadata": {},
   "outputs": [],
   "source": []
  },
  {
   "cell_type": "markdown",
   "id": "dbc7e7f3",
   "metadata": {},
   "source": [
    "## Passar inputs e coletar outputs"
   ]
  },
  {
   "cell_type": "code",
   "execution_count": 15,
   "id": "3dfacf4b",
   "metadata": {
    "ExecuteTime": {
     "end_time": "2021-09-08T21:47:30.697243Z",
     "start_time": "2021-09-08T21:47:30.559502Z"
    }
   },
   "outputs": [],
   "source": [
    "# criar dados entrada\n",
    "\n",
    "dict_entradas = {\n",
    "    'num1': 8,\n",
    "    'num2': 5\n",
    "}"
   ]
  },
  {
   "cell_type": "code",
   "execution_count": 16,
   "id": "03fe0383",
   "metadata": {
    "ExecuteTime": {
     "end_time": "2021-09-08T21:47:31.174015Z",
     "start_time": "2021-09-08T21:47:30.700170Z"
    }
   },
   "outputs": [
    {
     "data": {
      "text/plain": [
       "<Response [200]>"
      ]
     },
     "execution_count": 16,
     "metadata": {},
     "output_type": "execute_result"
    }
   ],
   "source": [
    "response = requests.post(url, json=dict_entradas)\n",
    "response"
   ]
  },
  {
   "cell_type": "code",
   "execution_count": 17,
   "id": "ce8f8b83",
   "metadata": {
    "ExecuteTime": {
     "end_time": "2021-09-08T21:47:31.182799Z",
     "start_time": "2021-09-08T21:47:31.175966Z"
    }
   },
   "outputs": [
    {
     "data": {
      "text/plain": [
       "{'soma': 13,\n",
       " 'subtracao': 3,\n",
       " 'produto': 40,\n",
       " 'divisao': 1.6,\n",
       " 'texto': 'Os numeros sao 8 e 5.'}"
      ]
     },
     "execution_count": 17,
     "metadata": {},
     "output_type": "execute_result"
    }
   ],
   "source": [
    "resposta = response.json()\n",
    "resposta"
   ]
  },
  {
   "cell_type": "code",
   "execution_count": 18,
   "id": "40747792",
   "metadata": {
    "ExecuteTime": {
     "end_time": "2021-09-08T21:47:31.324176Z",
     "start_time": "2021-09-08T21:47:31.184750Z"
    }
   },
   "outputs": [
    {
     "name": "stdout",
     "output_type": "stream",
     "text": [
      "Os numeros sao 8 e 5.\n",
      "A soma é 13.\n",
      "A subtracao é 3.\n",
      "A produto é 40.\n",
      "A divisao é 1.6.\n",
      "A texto é Os numeros sao 8 e 5..\n"
     ]
    }
   ],
   "source": [
    "print(resposta['texto'])\n",
    "for key in resposta.keys():\n",
    "    print(f'A {key} é {resposta[key]}.')"
   ]
  },
  {
   "cell_type": "code",
   "execution_count": null,
   "id": "3ee2a990",
   "metadata": {},
   "outputs": [],
   "source": []
  },
  {
   "cell_type": "markdown",
   "id": "85dadbfd",
   "metadata": {},
   "source": [
    "# Para amanhã"
   ]
  },
  {
   "cell_type": "markdown",
   "id": "b6e7b23a",
   "metadata": {},
   "source": [
    "Instalar:\n",
    "\n",
    "1. [AWS CLI](https://aws.amazon.com/pt/cli/)\n",
    "1. [AWS SAM CLI](https://docs.aws.amazon.com/serverless-application-model/latest/developerguide/serverless-sam-cli-install-windows.html) - e siga os passos de configuração."
   ]
  },
  {
   "cell_type": "code",
   "execution_count": null,
   "id": "697a0975",
   "metadata": {},
   "outputs": [],
   "source": []
  }
 ],
 "metadata": {
  "kernelspec": {
   "display_name": "Python 3",
   "language": "python",
   "name": "python3"
  },
  "language_info": {
   "codemirror_mode": {
    "name": "ipython",
    "version": 3
   },
   "file_extension": ".py",
   "mimetype": "text/x-python",
   "name": "python",
   "nbconvert_exporter": "python",
   "pygments_lexer": "ipython3",
   "version": "3.8.8"
  },
  "toc": {
   "base_numbering": 1,
   "nav_menu": {},
   "number_sections": true,
   "sideBar": true,
   "skip_h1_title": false,
   "title_cell": "Table of Contents",
   "title_sidebar": "Contents",
   "toc_cell": false,
   "toc_position": {},
   "toc_section_display": true,
   "toc_window_display": true
  }
 },
 "nbformat": 4,
 "nbformat_minor": 5
}
