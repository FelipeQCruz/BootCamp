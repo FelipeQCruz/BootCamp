{
 "cells": [
  {
   "cell_type": "code",
   "execution_count": 3,
   "id": "c6721575",
   "metadata": {
    "ExecuteTime": {
     "end_time": "2021-08-11T13:22:21.461915Z",
     "start_time": "2021-08-11T13:22:20.764948Z"
    }
   },
   "outputs": [],
   "source": [
    "from itertools import product\n",
    "import numpy as np\n",
    "from numpy import math\n",
    "from scipy.stats import poisson\n",
    "from scipy.stats import norm"
   ]
  },
  {
   "cell_type": "markdown",
   "id": "ed609703",
   "metadata": {},
   "source": [
    "# Binomial"
   ]
  },
  {
   "cell_type": "markdown",
   "id": "db1df0c0",
   "metadata": {},
   "source": [
    "## Moeda"
   ]
  },
  {
   "cell_type": "code",
   "execution_count": 5,
   "id": "aefdb22f",
   "metadata": {
    "ExecuteTime": {
     "end_time": "2021-08-10T01:26:03.867732Z",
     "start_time": "2021-08-10T01:25:37.976499Z"
    }
   },
   "outputs": [
    {
     "name": "stdout",
     "output_type": "stream",
     "text": [
      "A probabilidade é 37.5%.\n"
     ]
    }
   ],
   "source": [
    "espaco = product(['C', 'K'], repeat=4)\n",
    "\n",
    "eventos = []\n",
    "probas = []\n",
    "\n",
    "suporte = []\n",
    "prob_suporte = []\n",
    "\n",
    "prob_cara = 0.5\n",
    "prob_coroa = 1 - prob_cara\n",
    "\n",
    "for evento in espaco:\n",
    "    \n",
    "    n_caras = evento.count('C')\n",
    "    n_coroas = evento.count('K')\n",
    "    \n",
    "    eventos.append(evento)\n",
    "    \n",
    "    prob_evento = prob_cara**n_caras * prob_coroa**n_coroas\n",
    "    \n",
    "    probas.append(prob_evento)\n",
    "    \n",
    "    if n_caras == 2:\n",
    "        suporte.append(evento)\n",
    "        prob_suporte.append(prob_evento)\n",
    "#         print(evento, prob_evento)\n",
    "        \n",
    "print(f'A probabilidade é {round(np.sum(prob_suporte)*100,2)}%.') "
   ]
  },
  {
   "cell_type": "markdown",
   "id": "c0432c91",
   "metadata": {},
   "source": [
    "## Dado"
   ]
  },
  {
   "cell_type": "code",
   "execution_count": 4,
   "id": "a4560de7",
   "metadata": {
    "ExecuteTime": {
     "end_time": "2021-08-10T01:22:41.414893Z",
     "start_time": "2021-08-10T01:19:49.868891Z"
    }
   },
   "outputs": [
    {
     "name": "stdout",
     "output_type": "stream",
     "text": [
      "A probabilidade é 22.48%.\n"
     ]
    }
   ],
   "source": [
    "espaco = product(['1', '2', '3', '4', '5', '6'], repeat=10)\n",
    "\n",
    "eventos = []\n",
    "probas = []\n",
    "\n",
    "suporte = []\n",
    "prob_suporte = []\n",
    "\n",
    "prob_1 = 1/6\n",
    "prob_2 = 1/6\n",
    "prob_3 = 1/6\n",
    "prob_4 = 1/6\n",
    "prob_5 = 1/6\n",
    "prob_6 = 1/6\n",
    "\n",
    "for evento in espaco:\n",
    "    \n",
    "    n_1 = evento.count('1')\n",
    "    n_2 = evento.count('2')\n",
    "    n_3 = evento.count('3')\n",
    "    n_4 = evento.count('4')\n",
    "    n_5 = evento.count('5')\n",
    "    n_6 = evento.count('6')\n",
    "    \n",
    "    eventos.append(evento)\n",
    "    \n",
    "    prob_evento = prob_1**n_1 * prob_2**n_2 * prob_3**n_3 * prob_4**n_4 * prob_5**n_5 * prob_6**n_6\n",
    "    \n",
    "    probas.append(prob_evento)\n",
    "    \n",
    "    if n_5 >= 3:\n",
    "        suporte.append(evento)\n",
    "        prob_suporte.append(prob_evento)\n",
    "#         print(evento, prob_evento)\n",
    "        \n",
    "print(f'A probabilidade é {round(np.sum(prob_suporte)*100,2)}%.') "
   ]
  },
  {
   "cell_type": "markdown",
   "id": "75a8448f",
   "metadata": {},
   "source": [
    "## Casais\n",
    "\n",
    "Suponha que a probabilidade de um casal ter filhos com olhos azuis seja de 22%. Em 50 famílias, com 3 crianças cada uma, quantas podemos esperar que tenham dois filhos com olhos azuis?"
   ]
  },
  {
   "cell_type": "code",
   "execution_count": 10,
   "id": "952302d6",
   "metadata": {
    "ExecuteTime": {
     "end_time": "2021-08-10T01:43:06.807032Z",
     "start_time": "2021-08-10T01:43:06.799033Z"
    }
   },
   "outputs": [
    {
     "name": "stdout",
     "output_type": "stream",
     "text": [
      "5.6628\n"
     ]
    }
   ],
   "source": [
    "# 1 família (pAzul)\n",
    "pAzul = 0.22\n",
    "pOutraCor = 1 - pAzul\n",
    "p1 = pAzul*pAzul*pOutraCor\n",
    "\n",
    "# 50 famílias (com 3 filhos cada)\n",
    "p50 = p1 * (50 * 3)\n",
    "\n",
    "print(p50)"
   ]
  },
  {
   "cell_type": "markdown",
   "id": "21150839",
   "metadata": {},
   "source": [
    "# Poisson"
   ]
  },
  {
   "cell_type": "markdown",
   "id": "14ac54b6",
   "metadata": {},
   "source": [
    "O número médio de clientes que entram em uma padaria por hora é igual a 20. Obtenha a probabilidade de, na próxima hora, entrarem exatamente 25 clientes."
   ]
  },
  {
   "cell_type": "code",
   "execution_count": 14,
   "id": "376749a1",
   "metadata": {
    "ExecuteTime": {
     "end_time": "2021-08-10T02:03:44.700057Z",
     "start_time": "2021-08-10T02:03:44.676553Z"
    }
   },
   "outputs": [
    {
     "name": "stdout",
     "output_type": "stream",
     "text": [
      "4.458764910826764 %\n"
     ]
    }
   ],
   "source": [
    "u = 20\n",
    "k = 25\n",
    "print(poisson.pmf(k, u)*100, '%')"
   ]
  },
  {
   "cell_type": "markdown",
   "id": "961269ac",
   "metadata": {},
   "source": [
    "# Normal\n",
    "A aplicação de uma prova de estatística em um concurso apresentou um conjunto de notas normalmente distribuídas. Verificou-se que o conjunto de notas tinha média 70 e desvio padrão de 5 pontos.\n",
    "Qual a probabilidade de um aluno, selecionado ao acaso, ter nota menor que 85?"
   ]
  },
  {
   "cell_type": "code",
   "execution_count": 25,
   "id": "358672c0",
   "metadata": {
    "ExecuteTime": {
     "end_time": "2021-08-11T14:38:55.517091Z",
     "start_time": "2021-08-11T14:38:55.493153Z"
    }
   },
   "outputs": [
    {
     "data": {
      "text/plain": [
       "99.86501019683699"
      ]
     },
     "execution_count": 25,
     "metadata": {},
     "output_type": "execute_result"
    }
   ],
   "source": [
    "sigma = 5\n",
    "mu = 70\n",
    "x = 85\n",
    "Z = (x - mu) / sigma\n",
    "norm.cdf(Z)*100"
   ]
  },
  {
   "cell_type": "code",
   "execution_count": 20,
   "id": "112b27ad",
   "metadata": {
    "ExecuteTime": {
     "end_time": "2021-08-10T02:14:51.480335Z",
     "start_time": "2021-08-10T02:14:51.464334Z"
    }
   },
   "outputs": [
    {
     "data": {
      "text/plain": [
       "99.86501019683699"
      ]
     },
     "execution_count": 20,
     "metadata": {},
     "output_type": "execute_result"
    }
   ],
   "source": [
    "norm.cdf(Z)*100"
   ]
  },
  {
   "cell_type": "markdown",
   "id": "02ff6cd8",
   "metadata": {
    "ExecuteTime": {
     "end_time": "2021-08-11T13:20:23.180250Z",
     "start_time": "2021-08-11T13:20:23.161302Z"
    }
   },
   "source": [
    "O faturamento diário de um motorista de aplicativo segue uma distribuição aproximadamente normal, com média R 300,00 e desvio padrão igual a R 50,00. Obtenha as probabilidades de que, em um dia aleatório, o motorista ganhe:\n",
    "1. Entre R 250,00 e R 350,00\n",
    "2. Entre R 400,00 e R 500,00"
   ]
  },
  {
   "cell_type": "code",
   "execution_count": 23,
   "id": "b2e215d0",
   "metadata": {
    "ExecuteTime": {
     "end_time": "2021-08-11T14:35:49.415181Z",
     "start_time": "2021-08-11T14:35:49.397199Z"
    }
   },
   "outputs": [
    {
     "name": "stdout",
     "output_type": "stream",
     "text": [
      "1) 68.26894921370858%\n",
      "2) 97.72181968099875%\n"
     ]
    }
   ],
   "source": [
    "sigma = 50\n",
    "mu = 300\n",
    "Z250 = (250 - mu)/sigma\n",
    "Z350 = (350 - mu)/sigma\n",
    "Z400 = (400 - mu)/sigma\n",
    "Z500 = (500 - mu)/sigma\n",
    "\n",
    "print(f'1) {(norm.cdf(Z350) + norm.cdf(Z350) - 1)*100}%')\n",
    "print(f'2) {(norm.cdf(Z500) + norm.cdf(Z400) - 1)*100}%')"
   ]
  },
  {
   "cell_type": "markdown",
   "id": "8f77fbaa",
   "metadata": {},
   "source": [
    "O Inmetro verificou que as lâmpadas incandescentes da fabricante XPTO apresentam uma vida útil normalmente distribuída, com média igual a 720 dias e desvio padrão igual a 30 dias. Calcule a probabilidade de uma lâmpada, escolhida ao acaso, durar:\n",
    "1) Entre 650 e 750 dias\n",
    "2) Mais que 800 dias\n",
    "3) Menos que 700 dias"
   ]
  },
  {
   "cell_type": "code",
   "execution_count": 22,
   "id": "c7f9bbaf",
   "metadata": {
    "ExecuteTime": {
     "end_time": "2021-08-11T14:33:56.316281Z",
     "start_time": "2021-08-11T14:33:56.303313Z"
    }
   },
   "outputs": [
    {
     "name": "stdout",
     "output_type": "stream",
     "text": [
      "1) 83.15294174398976%\n",
      "2) 0.3830380567589775%\n",
      "3) 25.24925375469229%\n"
     ]
    }
   ],
   "source": [
    "sigma = 30\n",
    "mu = 720\n",
    "Zmin = (650 - mu)/sigma\n",
    "Zmax = (750 - mu)/sigma\n",
    "Z800 = (800 - mu)/sigma\n",
    "Z700 = (700 - mu)/sigma\n",
    "\n",
    "print(f'1) {(norm.cdf(Zmax)-norm.cdf(Zmin))*100}%')\n",
    "print(f'2) {(1 - norm.cdf(Z800))*100}%')\n",
    "print(f'3) {(norm.cdf(Z700))*100}%')"
   ]
  }
 ],
 "metadata": {
  "kernelspec": {
   "display_name": "Python 3",
   "language": "python",
   "name": "python3"
  },
  "language_info": {
   "codemirror_mode": {
    "name": "ipython",
    "version": 3
   },
   "file_extension": ".py",
   "mimetype": "text/x-python",
   "name": "python",
   "nbconvert_exporter": "python",
   "pygments_lexer": "ipython3",
   "version": "3.8.8"
  },
  "toc": {
   "base_numbering": 1,
   "nav_menu": {},
   "number_sections": true,
   "sideBar": true,
   "skip_h1_title": false,
   "title_cell": "Table of Contents",
   "title_sidebar": "Contents",
   "toc_cell": false,
   "toc_position": {},
   "toc_section_display": true,
   "toc_window_display": true
  }
 },
 "nbformat": 4,
 "nbformat_minor": 5
}
