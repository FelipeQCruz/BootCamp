{
 "cells": [
  {
   "cell_type": "markdown",
   "id": "8de72531",
   "metadata": {},
   "source": [
    "# Revisão: Distribuições"
   ]
  },
  {
   "cell_type": "markdown",
   "id": "0aca579a",
   "metadata": {},
   "source": [
    "\n",
    "   <center><img src=\"../images/5Yc8g.jpg\" width=\"60%\" /></center>"
   ]
  },
  {
   "cell_type": "markdown",
   "id": "3947043e",
   "metadata": {},
   "source": [
    "# O que vimos até agora?"
   ]
  },
  {
   "cell_type": "markdown",
   "id": "abab7f31",
   "metadata": {},
   "source": [
    "Sugestão de fluxo! Não é o único!"
   ]
  },
  {
   "cell_type": "markdown",
   "id": "d77ccafe",
   "metadata": {},
   "source": [
    "   <center><img src=\"../images/fluxo_estatistica.png\" width=\"60%\" /></center>"
   ]
  },
  {
   "cell_type": "markdown",
   "id": "864b05e3",
   "metadata": {},
   "source": []
  },
  {
   "cell_type": "markdown",
   "id": "f36b3a3e",
   "metadata": {},
   "source": [
    "![analise_combinatoria](../images/analise_combinatoria.png)"
   ]
  },
  {
   "cell_type": "code",
   "execution_count": 4,
   "id": "c7783463",
   "metadata": {
    "ExecuteTime": {
     "end_time": "2021-08-04T19:45:23.333489Z",
     "start_time": "2021-08-04T19:45:23.318489Z"
    }
   },
   "outputs": [
    {
     "data": {
      "text/plain": [
       "120"
      ]
     },
     "execution_count": 4,
     "metadata": {},
     "output_type": "execute_result"
    }
   ],
   "source": [
    "import numpy as np\n",
    "\n",
    "np.math.factorial(5)"
   ]
  },
  {
   "cell_type": "code",
   "execution_count": 3,
   "id": "2a41a808",
   "metadata": {
    "ExecuteTime": {
     "end_time": "2021-08-04T19:45:14.991992Z",
     "start_time": "2021-08-04T19:45:14.973953Z"
    }
   },
   "outputs": [
    {
     "data": {
      "text/plain": [
       "24"
      ]
     },
     "execution_count": 3,
     "metadata": {},
     "output_type": "execute_result"
    }
   ],
   "source": [
    "from numpy import math\n",
    "\n",
    "math.factorial(4)"
   ]
  },
  {
   "cell_type": "markdown",
   "id": "2fcde428",
   "metadata": {},
   "source": [
    "**Ex1:** Qual a probabilidade de cada evento possível no espaço amostral de dois lançamentos de uma moeda justa?"
   ]
  },
  {
   "cell_type": "code",
   "execution_count": 6,
   "id": "a952f66b",
   "metadata": {
    "ExecuteTime": {
     "end_time": "2021-08-04T19:52:56.410683Z",
     "start_time": "2021-08-04T19:52:56.395167Z"
    }
   },
   "outputs": [
    {
     "name": "stdout",
     "output_type": "stream",
     "text": [
      "('C', 'C') 0.25\n",
      "('C', 'K') 0.25\n",
      "('K', 'C') 0.25\n",
      "('K', 'K') 0.25\n"
     ]
    }
   ],
   "source": [
    "from itertools import product\n",
    "\n",
    "espaco = product(['C', 'K'], repeat=2)\n",
    "\n",
    "eventos = []\n",
    "probas = []\n",
    "\n",
    "prob_cara = 0.5\n",
    "prob_coroa = 1 - prob_cara\n",
    "\n",
    "for evento in espaco:\n",
    "    \n",
    "    n_caras = evento.count('C')\n",
    "    n_coroas = evento.count('K')\n",
    "    \n",
    "    eventos.append(evento)\n",
    "    \n",
    "    prob_evento = prob_cara**n_caras * prob_coroa**n_coroas\n",
    "    \n",
    "    probas.append(prob_evento)\n",
    "    \n",
    "    print(evento, prob_evento)"
   ]
  },
  {
   "cell_type": "markdown",
   "id": "dd5cb4cd",
   "metadata": {},
   "source": [
    "- Probabilidade de cada evento  \n",
    "    - geral: $p^k(1-p)^{n-k} $   \n",
    "    - moedas: prob_cara\\*\\*n_caras * prob_coroa\\*\\*n_coroas\n",
    "    \n",
    "- onde:\n",
    "    - prob_cara = p\n",
    "    - prob_coroa = 1 - p\n",
    "    \n",
    "    - cara é sucesso ==> n_caras = k\n",
    "    - cara é sucesso ==> n_coroas = n - k"
   ]
  },
  {
   "cell_type": "markdown",
   "id": "7fe6d59b",
   "metadata": {},
   "source": [
    "**Questão:** Qual a probabilidade de sair uma cara?\n",
    "\n",
    "R: P('C', 'K') + P('K', 'C') = 0.5"
   ]
  },
  {
   "cell_type": "markdown",
   "id": "10436de1",
   "metadata": {},
   "source": [
    "**Questão:** Quantos eventos com exatamente uma cara existem no espaço amostral do lançamento de duas moedas?\n",
    "\n",
    "R: 2"
   ]
  },
  {
   "cell_type": "markdown",
   "id": "4adca5ea",
   "metadata": {},
   "source": [
    "**Questão:** Qual a probabilidade de sair uma cara? Responda usando a função!"
   ]
  },
  {
   "cell_type": "code",
   "execution_count": 9,
   "id": "725f55be",
   "metadata": {
    "ExecuteTime": {
     "end_time": "2021-08-04T20:10:06.578886Z",
     "start_time": "2021-08-04T20:10:06.565853Z"
    }
   },
   "outputs": [
    {
     "name": "stdout",
     "output_type": "stream",
     "text": [
      "('C', 'K') 0.25\n",
      "('K', 'C') 0.25\n",
      "A probabilidade é 0.5\n"
     ]
    }
   ],
   "source": [
    "espaco = product(['C', 'K'], repeat=2)\n",
    "\n",
    "eventos = []\n",
    "probas = []\n",
    "\n",
    "suporte = []\n",
    "prob_suporte = []\n",
    "\n",
    "prob_cara = 0.5\n",
    "prob_coroa = 1 - prob_cara\n",
    "\n",
    "for evento in espaco:\n",
    "    \n",
    "    n_caras = evento.count('C')\n",
    "    n_coroas = evento.count('K')\n",
    "    \n",
    "    eventos.append(evento)\n",
    "    \n",
    "    prob_evento = prob_cara**n_caras * prob_coroa**n_coroas\n",
    "    \n",
    "    probas.append(prob_evento)\n",
    "    \n",
    "    if n_caras == 1:\n",
    "        suporte.append(evento)\n",
    "        prob_suporte.append(prob_evento)\n",
    "        print(evento, prob_evento)\n",
    "        \n",
    "print(f'A probabilidade é {np.sum(prob_suporte)}.')   "
   ]
  },
  {
   "cell_type": "code",
   "execution_count": 14,
   "id": "726e2681",
   "metadata": {
    "ExecuteTime": {
     "end_time": "2021-08-04T20:15:13.968051Z",
     "start_time": "2021-08-04T20:15:13.954529Z"
    }
   },
   "outputs": [
    {
     "data": {
      "text/plain": [
       "0.5"
      ]
     },
     "execution_count": 14,
     "metadata": {},
     "output_type": "execute_result"
    }
   ],
   "source": [
    "from scipy.stats import binom\n",
    "\n",
    "binom.pmf(k=1, n=2, p=0.5)"
   ]
  },
  {
   "cell_type": "markdown",
   "id": "12a4f22b",
   "metadata": {},
   "source": [
    "**Questão:** Qual a probabilidade de sair **pelo menos** uma cara? Responda usando a função!"
   ]
  },
  {
   "cell_type": "code",
   "execution_count": 12,
   "id": "696be3ba",
   "metadata": {
    "ExecuteTime": {
     "end_time": "2021-08-04T20:14:17.595118Z",
     "start_time": "2021-08-04T20:14:17.584120Z"
    }
   },
   "outputs": [
    {
     "name": "stdout",
     "output_type": "stream",
     "text": [
      "('C', 'C') 0.25\n",
      "('C', 'K') 0.25\n",
      "('K', 'C') 0.25\n",
      "A probabilidade é 0.75.\n"
     ]
    }
   ],
   "source": [
    "espaco = product(['C', 'K'], repeat=2)\n",
    "\n",
    "eventos = []\n",
    "probas = []\n",
    "\n",
    "suporte = []\n",
    "prob_suporte = []\n",
    "\n",
    "prob_cara = 0.5\n",
    "prob_coroa = 1 - prob_cara\n",
    "\n",
    "for evento in espaco:\n",
    "    \n",
    "    n_caras = evento.count('C')\n",
    "    n_coroas = evento.count('K')\n",
    "    \n",
    "    eventos.append(evento)\n",
    "    \n",
    "    prob_evento = prob_cara**n_caras * prob_coroa**n_coroas\n",
    "    \n",
    "    probas.append(prob_evento)\n",
    "    \n",
    "    if n_caras !=0:\n",
    "        suporte.append(evento)\n",
    "        prob_suporte.append(prob_evento)\n",
    "        print(evento, prob_evento)\n",
    "        \n",
    "print(f'A probabilidade é {np.sum(prob_suporte)}.') "
   ]
  },
  {
   "cell_type": "code",
   "execution_count": 15,
   "id": "55240490",
   "metadata": {
    "ExecuteTime": {
     "end_time": "2021-08-04T20:15:51.722685Z",
     "start_time": "2021-08-04T20:15:51.714691Z"
    }
   },
   "outputs": [
    {
     "data": {
      "text/plain": [
       "0.75"
      ]
     },
     "execution_count": 15,
     "metadata": {},
     "output_type": "execute_result"
    }
   ],
   "source": [
    "binom.pmf(k=1, n=2, p=0.5) + binom.pmf(k=2, n=2, p=0.5)"
   ]
  },
  {
   "cell_type": "markdown",
   "id": "f9ca5a44",
   "metadata": {},
   "source": [
    "**Exercício:** Uma moeda está viciada: a chance de se obter uma cara usando ela é de 0,6. Qual probabilidade de essa moeda apresentar, em qualquer ordem, 3 caras e 7 coroas.\n",
    "\n",
    "1. Com a função que criamos.\n",
    "1. Com a distribuição binomial.\n",
    "1. Os resultados são iguais?"
   ]
  },
  {
   "cell_type": "code",
   "execution_count": 20,
   "id": "3944ff9f",
   "metadata": {
    "ExecuteTime": {
     "end_time": "2021-08-04T20:34:40.206249Z",
     "start_time": "2021-08-04T20:34:40.193328Z"
    }
   },
   "outputs": [
    {
     "name": "stdout",
     "output_type": "stream",
     "text": [
      "A probabilidade é 4.25%.\n"
     ]
    }
   ],
   "source": [
    "# 1. Com a função que criamos\n",
    "\n",
    "espaco = product(['C', 'K'], repeat=10)\n",
    "\n",
    "eventos = []\n",
    "probas = []\n",
    "\n",
    "suporte = []\n",
    "prob_suporte = []\n",
    "\n",
    "prob_cara = 0.6\n",
    "prob_coroa = 1 - prob_cara\n",
    "\n",
    "for evento in espaco:\n",
    "    \n",
    "    n_caras = evento.count('C')\n",
    "    n_coroas = evento.count('K')\n",
    "    \n",
    "    eventos.append(evento)\n",
    "    \n",
    "    prob_evento = prob_cara**n_caras * prob_coroa**n_coroas\n",
    "    \n",
    "    probas.append(prob_evento)\n",
    "    \n",
    "    if n_caras == 3:\n",
    "        suporte.append(evento)\n",
    "        prob_suporte.append(prob_evento)\n",
    "#         print(evento, prob_evento)\n",
    "        \n",
    "print(f'A probabilidade é {round(np.sum(prob_suporte)*100,2)}%.') "
   ]
  },
  {
   "cell_type": "code",
   "execution_count": 22,
   "id": "32f1a722",
   "metadata": {
    "ExecuteTime": {
     "end_time": "2021-08-04T20:36:28.015703Z",
     "start_time": "2021-08-04T20:36:27.997671Z"
    }
   },
   "outputs": [
    {
     "name": "stdout",
     "output_type": "stream",
     "text": [
      "A probabilidade é 4.25%.\n"
     ]
    }
   ],
   "source": [
    "# 2. Com a distribuição binomial\n",
    "print(f'A probabilidade é {round(binom.pmf(k=3, n=10, p=0.6)*100,2)}%.') "
   ]
  },
  {
   "cell_type": "code",
   "execution_count": 23,
   "id": "025dfd17",
   "metadata": {
    "ExecuteTime": {
     "end_time": "2021-08-04T20:37:08.165049Z",
     "start_time": "2021-08-04T20:37:08.158820Z"
    }
   },
   "outputs": [
    {
     "name": "stdout",
     "output_type": "stream",
     "text": [
      "A probabilidade é 4.25%.\n"
     ]
    }
   ],
   "source": [
    "# 1 e 2 de outra forma: se o sucesso é coroa. k = 7 e p = 0.4\n",
    "\n",
    "print(f'A probabilidade é {round(binom.pmf(k=7, n=10, p=0.4)*100,2)}%.') "
   ]
  },
  {
   "cell_type": "markdown",
   "id": "e4f6d480",
   "metadata": {},
   "source": [
    "**Exercício:** Uma moeda está viciada: a chance de se obter uma cara usando ela é de 0,6. Qual probabilidade de essa moeda apresentar **pelo menos** 3 caras em 10 laçamentos.\n",
    "\n",
    "1. Com a função que criamos.\n",
    "1. Com a distribuição binomial."
   ]
  },
  {
   "cell_type": "code",
   "execution_count": 26,
   "id": "93ff1fc2",
   "metadata": {
    "ExecuteTime": {
     "end_time": "2021-08-04T20:40:59.953194Z",
     "start_time": "2021-08-04T20:40:59.932977Z"
    }
   },
   "outputs": [
    {
     "name": "stdout",
     "output_type": "stream",
     "text": [
      "A probabilidade é 98.77%.\n"
     ]
    }
   ],
   "source": [
    "# 1. Com a função que criamos.\n",
    "\n",
    "espaco = product(['C', 'K'], repeat=10)\n",
    "\n",
    "eventos = []\n",
    "probas = []\n",
    "\n",
    "suporte = []\n",
    "prob_suporte = []\n",
    "\n",
    "prob_cara = 0.6\n",
    "prob_coroa = 1 - prob_cara\n",
    "\n",
    "for evento in espaco:\n",
    "    \n",
    "    n_caras = evento.count('C')\n",
    "    n_coroas = evento.count('K')\n",
    "    \n",
    "    eventos.append(evento)\n",
    "    \n",
    "    prob_evento = prob_cara**n_caras * prob_coroa**n_coroas\n",
    "    \n",
    "    probas.append(prob_evento)\n",
    "    \n",
    "    if n_caras >= 3:\n",
    "        suporte.append(evento)\n",
    "        prob_suporte.append(prob_evento)\n",
    "#         print(evento, prob_evento)\n",
    "        \n",
    "print(f'A probabilidade é {round(np.sum(prob_suporte)*100,2)}%.') "
   ]
  },
  {
   "cell_type": "code",
   "execution_count": 27,
   "id": "6a454e2e",
   "metadata": {
    "ExecuteTime": {
     "end_time": "2021-08-04T20:43:50.747780Z",
     "start_time": "2021-08-04T20:43:49.874282Z"
    }
   },
   "outputs": [
    {
     "data": {
      "text/plain": [
       "<AxesSubplot:>"
      ]
     },
     "execution_count": 27,
     "metadata": {},
     "output_type": "execute_result"
    },
    {
     "data": {
      "image/png": "[encoded data removed]",
      "text/plain": [
       "<Figure size 432x288 with 1 Axes>"
      ]
     },
     "metadata": {
      "needs_background": "light"
     },
     "output_type": "display_data"
    }
   ],
   "source": [
    "# 2. Com a distribuição binomial.\n",
    "\n",
    "# o PMF da a probabilidade de um determinado número de sucessos\n",
    "\n",
    "caras = list(range(0,11))\n",
    "\n",
    "probas = [binom.pmf(k=sucesso, n=10, p=0.6) for sucesso in caras]\n",
    "\n",
    "import seaborn as sns\n",
    "\n",
    "sns.barplot(x=caras, y=probas)"
   ]
  },
  {
   "cell_type": "code",
   "execution_count": 29,
   "id": "14ec5c4c",
   "metadata": {
    "ExecuteTime": {
     "end_time": "2021-08-04T20:44:51.581419Z",
     "start_time": "2021-08-04T20:44:51.571902Z"
    }
   },
   "outputs": [
    {
     "data": {
      "text/plain": [
       "0.9877054464"
      ]
     },
     "execution_count": 29,
     "metadata": {},
     "output_type": "execute_result"
    }
   ],
   "source": [
    "# como somar as probabilidades?\n",
    "\n",
    "1 - binom.cdf(k=2, n=10, p=0.6)"
   ]
  },
  {
   "cell_type": "code",
   "execution_count": 30,
   "id": "6f90eabc",
   "metadata": {
    "ExecuteTime": {
     "end_time": "2021-08-04T20:45:02.068464Z",
     "start_time": "2021-08-04T20:45:02.051894Z"
    }
   },
   "outputs": [
    {
     "data": {
      "text/plain": [
       "0.9877054464"
      ]
     },
     "execution_count": 30,
     "metadata": {},
     "output_type": "execute_result"
    }
   ],
   "source": [
    "binom.sf(k=2, n=10, p=0.6)"
   ]
  },
  {
   "cell_type": "code",
   "execution_count": null,
   "id": "9c78721c",
   "metadata": {},
   "outputs": [],
   "source": []
  }
 ],
 "metadata": {
  "kernelspec": {
   "display_name": "Python 3",
   "language": "python",
   "name": "python3"
  },
  "language_info": {
   "codemirror_mode": {
    "name": "ipython",
    "version": 3
   },
   "file_extension": ".py",
   "mimetype": "text/x-python",
   "name": "python",
   "nbconvert_exporter": "python",
   "pygments_lexer": "ipython3",
   "version": "3.8.8"
  },
  "toc": {
   "base_numbering": 1,
   "nav_menu": {},
   "number_sections": true,
   "sideBar": true,
   "skip_h1_title": false,
   "title_cell": "Table of Contents",
   "title_sidebar": "Contents",
   "toc_cell": false,
   "toc_position": {},
   "toc_section_display": true,
   "toc_window_display": true
  }
 },
 "nbformat": 4,
 "nbformat_minor": 5
}
