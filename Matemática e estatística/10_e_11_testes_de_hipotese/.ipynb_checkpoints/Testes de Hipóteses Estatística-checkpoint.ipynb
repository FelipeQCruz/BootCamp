{
 "cells": [
  {
   "cell_type": "code",
   "execution_count": 36,
   "id": "754bd43b",
   "metadata": {
    "ExecuteTime": {
     "end_time": "2021-08-16T05:38:12.659435Z",
     "start_time": "2021-08-16T05:38:12.653444Z"
    }
   },
   "outputs": [],
   "source": [
    "from scipy.stats import chi, chi2\n",
    "import numpy as np\n",
    "import pandas as pd\n",
    "import seaborn as sns\n",
    "from scipy.stats import norm\n",
    "from scipy.stats import chisquare\n",
    "from scipy.stats import t as t_student\n",
    "import pandas as pd"
   ]
  },
  {
   "cell_type": "markdown",
   "id": "c9ad2d89",
   "metadata": {},
   "source": [
    "# Questão 01\n",
    "\n",
    "Um fabricante de farinha afirma que a quantidade média de farinha nas embalagens de seu principal produto é de 500 g. Um teste de pesagem em 30 embalagens amostradas ao acaso mostrou um peso médio igual à 485 g. Estudos anteriores afirmam que a distribuição dos pesos segue uma normal e que o desvio padrão populacional é igual a 20 g. Considerando um nível de significância igual a 5%, responda as seguintes questões:\n",
    "\n",
    "1) Qual a hipótese nula a ser testada?\n",
    "\n",
    "2) Qual o valor da estatística de teste?\n",
    "\n",
    "3) Qual a conclusão do teste?"
   ]
  },
  {
   "cell_type": "code",
   "execution_count": 23,
   "id": "2b2e30c1",
   "metadata": {
    "ExecuteTime": {
     "end_time": "2021-08-16T05:19:16.385332Z",
     "start_time": "2021-08-16T05:19:16.375358Z"
    }
   },
   "outputs": [
    {
     "name": "stdout",
     "output_type": "stream",
     "text": [
      "-4.107919181288746 1.959963984540054\n",
      "Rejeitar H0\n"
     ]
    }
   ],
   "source": [
    "uEsperado = 500\n",
    "uObservado = 485\n",
    "significancia = 0.05/2\n",
    "confianca = 1 - significancia\n",
    "desvio_padrao = 20\n",
    "n = 30\n",
    "\n",
    "# 1: H0: u = 500\n",
    "z_alpha = norm.ppf(confianca)\n",
    "z = ((uObservado - uEsperado)) / np.sqrt(desvio_padrao**2/n)\n",
    "print(z, z_alpha)\n",
    "\n",
    "if (z <= z_alpha*-1) or (z >= z_alpha):\n",
    "    print('Rejeitar H0')\n",
    "else:\n",
    "    print('Aceitar H0')"
   ]
  },
  {
   "cell_type": "markdown",
   "id": "5081a647",
   "metadata": {},
   "source": [
    "# Questão 02\n",
    "\n",
    "Considere novamente os dados do exercício anterior. Um fabricante de farinha afirma que a quantidade média de farinha nas embalagens de seu principal produto é de 500 g. Um teste de pesagem em 30 embalagens amostradas ao acaso mostrou um peso médio igual à 485 g. Estudos anteriores afirmam que a distribuição dos pesos segue uma normal e que o desvio padrão populacional é igual a 20 g. Com um nível de significância igual a 5%, teste a hipótese nula de que a média do processo é igual a 500 g e marque a alternativa que indica o p-valor do teste aplicado (considere somente 5 casas decimais)."
   ]
  },
  {
   "cell_type": "code",
   "execution_count": 14,
   "id": "3f356df8",
   "metadata": {
    "ExecuteTime": {
     "end_time": "2021-08-16T05:08:48.386826Z",
     "start_time": "2021-08-16T05:08:48.367442Z"
    }
   },
   "outputs": [
    {
     "data": {
      "text/plain": [
       "0.45"
      ]
     },
     "execution_count": 14,
     "metadata": {},
     "output_type": "execute_result"
    }
   ],
   "source": [
    "n = 30 - 1\n",
    "x_2 = ((485-500)**2/500)\n",
    "x_2"
   ]
  },
  {
   "cell_type": "markdown",
   "id": "bd42e09f",
   "metadata": {},
   "source": [
    "# Questão 04\n",
    "A empresa Limpa Esgoto garante ser capaz de realizar o tratamento de esgoto e obter, no máximo, 150 g de impurezas para cada mil litros de esgoto tratado. Vinte amostras de mil litros de esgoto apresentaram, em média, 230 g de impurezas e desvio padrão amostral igual a 90 g.\n",
    "\n",
    "Assumindo alfa igual a 5% e população normalmente distribuída, seria possível discordar da empresa Limpa Esgoto? Assinale a alternativa que apresenta a estatística de teste e a decisão correta do teste."
   ]
  },
  {
   "cell_type": "code",
   "execution_count": 22,
   "id": "3da1b542",
   "metadata": {
    "ExecuteTime": {
     "end_time": "2021-08-16T05:17:31.283219Z",
     "start_time": "2021-08-16T05:17:31.272249Z"
    }
   },
   "outputs": [
    {
     "name": "stdout",
     "output_type": "stream",
     "text": [
      "3.9752319599996264 1.729132811521367\n",
      "Rejeitar H0\n"
     ]
    }
   ],
   "source": [
    "u = 150\n",
    "media_amostra = 230\n",
    "significancia = 0.05\n",
    "confianca = 1 - significancia\n",
    "desvio_amostra = 90\n",
    "n = 20\n",
    "\n",
    "# 1: H0: u = 500\n",
    "t = (media_amostra - u) / (desvio_amostra / np.sqrt(n))\n",
    "\n",
    "t_alpha = t_student.ppf(confianca, n - 1)\n",
    "t_alpha\n",
    "print(t, t_alpha)\n",
    "\n",
    "if (t <= t_alpha*-1) or (t >= t_alpha):\n",
    "    print('Rejeitar H0')\n",
    "else:\n",
    "    print('Aceitar H0')"
   ]
  },
  {
   "cell_type": "markdown",
   "id": "d2b93c8e",
   "metadata": {},
   "source": [
    "# Questão 04\n",
    "\n",
    "A pizzaria Muito Queijo alega que a quantidade de queijo em suas pizzas tamanho família é de, no mínimo, 350 g. Uma amostra de 35 pizzas tamanho família revelou uma média de 330 g de queijo por pizza. O desvio padrão amostral foi de 80 g.\n",
    "\n",
    "Assumindo alfa igual a 5% e população normalmente distribuída, seria possível discordar da alegação da pizzaria? Assinale a alternativa que apresenta a estatística de teste e a decisão correta do teste."
   ]
  },
  {
   "cell_type": "code",
   "execution_count": 28,
   "id": "ad24182b",
   "metadata": {
    "ExecuteTime": {
     "end_time": "2021-08-16T05:22:58.954687Z",
     "start_time": "2021-08-16T05:22:58.942721Z"
    }
   },
   "outputs": [
    {
     "name": "stdout",
     "output_type": "stream",
     "text": [
      "-1.479019945774904 1.959963984540054\n",
      "Aceitar H0\n"
     ]
    }
   ],
   "source": [
    "uEsperado = 350\n",
    "uObservado = 330\n",
    "significancia = 0.05/2\n",
    "confianca = 1 - significancia\n",
    "desvio_padrao = 80\n",
    "n = 35\n",
    "\n",
    "z_alpha = norm.ppf(confianca)\n",
    "z = ((uObservado - uEsperado)) / np.sqrt(desvio_padrao**2/n)\n",
    "print(z, z_alpha)\n",
    "\n",
    "if (z <= z_alpha*-1):\n",
    "    print('Rejeitar H0')\n",
    "else:\n",
    "    print('Aceitar H0')"
   ]
  },
  {
   "cell_type": "markdown",
   "id": "9c74703d",
   "metadata": {},
   "source": [
    "# Questão 05\n",
    "\n",
    "Um fabricante de cosméticos afirma que a adição de um novo composto químico em sua linha de shampoos consegue promover em mais de 2 centímetros o crescimento dos fios de cabelo em um período de 60 dias. Duas amostras de pessoas foram selecionadas e testadas, uma utilizando o shampoo novo (com o composto) e a outra com o shampoo antigo (sem o composto).\n",
    "\n",
    "Os resultados (crescimento dos fios de cabelo em centímetros) podem ser verificados na tabela abaixo:\n",
    "\n",
    "\n",
    "Assumindo um nível de confiança de 95% e considerando que as populações se distribuem como uma normal, podemos acreditar na afirmação do fabricante do shampoo? Assinale a alternativa que apresenta a estatística de teste e a decisão correta do teste.\n",
    "\n",
    "Um pouco mais de teoria: como se trata de um problema um pouco diferente do apresentado em nossa aula, vamos esclarecer alguns pontos para ajudar na solução:\n",
    "\n",
    "1) Em testes entre duas amostras, quando realizamos a escolha da distribuição amostral adequada (passo 2) e perguntamos se n ≥ 30, temos que considerar que n = n1 + n2, onde n1 é o tamanho da primeira amostra e n2 o tamanho da segunda;\n",
    "\n",
    "2) Quando n1 + n2 ≥ 30, utilizamos z (normal), e quando n1 + n2 < 30, σ não for conhecido e as populações forem normalmente distribuídas, utilizamos t (t-Student);\n",
    "\n",
    "3) Quando utilizamos a tabela t de Student, em teste de duas amostras, os graus de liberdade são obtidos da seguinte forma: n1 + n2 - 2;\n",
    "\n",
    "4) Quando o problema nos pergunta se podemos acreditar na afirmação do fabricante, está nos indicando o que devemos testar, ou seja, a nossa hipótese alternativa (H1), que no caso é:\n",
    "\n",
    "Onde:\n",
    "\n",
    "μ1 = Crescimento médio dos cabelos com o uso do novo shampoo μ2 = Crescimento médio dos cabelos com o uso do shampoo antigo."
   ]
  },
  {
   "attachments": {
    "image.png": {
     "image/png": "[encoded data removed]"
    }
   },
   "cell_type": "markdown",
   "id": "36270a85",
   "metadata": {},
   "source": [
    "![image.png](attachment:image.png)"
   ]
  },
  {
   "cell_type": "code",
   "execution_count": 53,
   "id": "8105c375",
   "metadata": {
    "ExecuteTime": {
     "end_time": "2021-08-16T13:51:39.330978Z",
     "start_time": "2021-08-16T13:51:39.291086Z"
    }
   },
   "outputs": [
    {
     "name": "stdout",
     "output_type": "stream",
     "text": [
      "8.720602029418684 1.7340636066175354\n",
      "Rejeitar H0\n"
     ]
    }
   ],
   "source": [
    "# H0: u(sn) >= 2\n",
    "\n",
    "s_novo = [3.4,4.9,2.8,5.5,3.7,2.5,4.3,4.6,3.7,3.4]\n",
    "s_antigo = [0.3,1.2,1.2,1.7,1.1,0.6,1.2,1.5,0.5,0.7]\n",
    "\n",
    "u_novo = sum(snovo)/len(snovo)\n",
    "u_antigo = sum(santigo)/len(santigo)\n",
    "u = 2\n",
    "\n",
    "n_antigo = 10\n",
    "n_novo = 10\n",
    "n = n_antigo + n_novo\n",
    "\n",
    "grau_liberdade = n - 2\n",
    "\n",
    "significancia = 0.05\n",
    "confianca = 1 - significancia\n",
    "\n",
    "pd_antigo = pd.Series(data=s_antigo)\n",
    "pd_novo = pd.Series(data=s_novo)\n",
    "\n",
    "df = pd_novo - pd_antigo\n",
    "\n",
    "desvio_antigo = pd_antigo.std()\n",
    "desvio_novo = pd_novo.std()\n",
    "\n",
    "t = (u_novo - u_antigo) / (desvio_novo**2/n_novo + desvio_antigo**2/n_antigo)**0.5\n",
    "\n",
    "t_alpha = t_student.ppf(confianca, grau_liberdade)\n",
    "t_alpha\n",
    "\n",
    "print(t, t_alpha)\n",
    "\n",
    "if (t <= t_alpha*-1) or (t >= t_alpha):\n",
    "    print('Rejeitar H0')\n",
    "else:\n",
    "    print('Aceitar H0')"
   ]
  }
 ],
 "metadata": {
  "kernelspec": {
   "display_name": "Python 3",
   "language": "python",
   "name": "python3"
  },
  "language_info": {
   "codemirror_mode": {
    "name": "ipython",
    "version": 3
   },
   "file_extension": ".py",
   "mimetype": "text/x-python",
   "name": "python",
   "nbconvert_exporter": "python",
   "pygments_lexer": "ipython3",
   "version": "3.8.8"
  },
  "toc": {
   "base_numbering": 1,
   "nav_menu": {},
   "number_sections": true,
   "sideBar": true,
   "skip_h1_title": true,
   "title_cell": "Table of Contents",
   "title_sidebar": "Contents",
   "toc_cell": false,
   "toc_position": {},
   "toc_section_display": true,
   "toc_window_display": true
  }
 },
 "nbformat": 4,
 "nbformat_minor": 5
}
