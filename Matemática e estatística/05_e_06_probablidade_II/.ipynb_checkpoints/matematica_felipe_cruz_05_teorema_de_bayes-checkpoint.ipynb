{
 "cells": [
  {
   "cell_type": "markdown",
   "id": "66013ecd",
   "metadata": {},
   "source": [
    "# Teorema de Bayes"
   ]
  },
  {
   "cell_type": "markdown",
   "id": "87ddf5d5",
   "metadata": {},
   "source": [
    "**Exercícios:** Enviar para o email filipe.furlan@letscode.com.br até **2021/08/09** o notebook (`matematica_firtsname_lastname_05_teorema_de_bayes.ipynb`) com a resolução dos exercicios abaixo."
   ]
  },
  {
   "cell_type": "markdown",
   "id": "9828d3af",
   "metadata": {
    "ExecuteTime": {
     "end_time": "2021-08-02T14:01:02.776808Z",
     "start_time": "2021-08-02T14:01:02.764235Z"
    }
   },
   "source": [
    "Quando dois eventos são dependentes, temos que a probabilidade do evento A ocorrer, sabendo que o evento B ocorreu é dada por\n",
    "\n",
    "$$P(A|B)= \\frac{P(A\\cap B)}{P(B)}, $$\n",
    "\n",
    "que pode ser reescrita como\n",
    "\n",
    "\\begin{equation}\n",
    "P(A\\cap B) = P(A|B) × P(B). \\label{pab}\\tag{1}\n",
    "\\end{equation}\n",
    "\n",
    "Da mesma forma, podemos calcular a probabilidade do evento B ocorrer, dada a ocorrência de A com a expressão\n",
    "\n",
    "\\begin{equation}\n",
    "P(B \\cap A) = P(B|A) × P(A). \\label{pba}\\tag{2}\n",
    "\\end{equation}\n",
    "\n",
    "Igualando as Eqs. (\\ref{pab}) e (\\ref{pba}), encontramos a expressão matemática do teorema de Bayes\n",
    "\n",
    "\\begin{equation}\n",
    "P(A|B) = \\frac{P(B|A) × P(A)}{P(B)}, \\label{bayes}\n",
    "\\end{equation}\n",
    "\n",
    "que descreve a probabilidade de um evento, baseado em um conhecimento *a priori* que pode estar relacionado ao evento. Os termos dessa expressão são definidos como:\n",
    "\n",
    "- $P(A)$ e $P(B)$ são as probabilidades a priori de $A$ e $B$;\n",
    "- $P(A\\mid B)$ é a probabilidade a posteriori (probabilidade condicionada) de $A$ condicional a $B$;\n",
    "- $P(B\\mid A)$ é a probabilidade a posteriori (probabilidade condicionada) de $B$ condicional a $A$."
   ]
  },
  {
   "cell_type": "code",
   "execution_count": null,
   "id": "f9341307",
   "metadata": {},
   "outputs": [],
   "source": []
  },
  {
   "cell_type": "markdown",
   "id": "0c72696e",
   "metadata": {},
   "source": [
    "## Exemplo: Teste de drogas\n",
    "\n",
    "\\*encontrado [aqui](https://pt.wikipedia.org/wiki/Teorema_de_Bayes)"
   ]
  },
  {
   "cell_type": "markdown",
   "id": "9baa5dda",
   "metadata": {},
   "source": [
    "Seja um teste de drogas 99% sensível e 99% específico. Isto é, o teste produzirá 99% de resultados verdadeiros positivos para usuários de drogas e 99% de resultados verdadeiros negativos para não-usuários de drogas. Suponha que 0,5% das pessoas são usuárias de drogas. \n",
    "\n",
    "1. Se um indivíduo selecionado aleatoriamente testar positivo, qual a probabilidade de ele ser usuário de drogas? Isto é, qual a probabilidade de não se cometer um falso positivo?\n",
    "\n",
    "2. Caso o resultado não seja satisfatório, como melhorá-lo?"
   ]
  },
  {
   "cell_type": "markdown",
   "id": "91b75e6e",
   "metadata": {},
   "source": [
    "### Teste"
   ]
  },
  {
   "cell_type": "markdown",
   "id": "9b4a6e3c",
   "metadata": {},
   "source": [
    "|                | Usuário       | Não Usuário       |\n",
    "|----------------|---------------|-------------------|\n",
    "| Teste positivo | 99 %          |  1 %              |\n",
    "| Teste Negativo |  1 %          | 99 %              |"
   ]
  },
  {
   "cell_type": "markdown",
   "id": "71ee002e",
   "metadata": {
    "ExecuteTime": {
     "end_time": "2021-08-02T16:10:45.312563Z",
     "start_time": "2021-08-02T16:10:45.300784Z"
    }
   },
   "source": [
    "### Na prática"
   ]
  },
  {
   "cell_type": "markdown",
   "id": "9d97d722",
   "metadata": {},
   "source": [
    "   <center><img src=\"../images/Bayes_theorem_drugs_example_tree.png\" width=\"60%\" /></center>"
   ]
  },
  {
   "cell_type": "markdown",
   "id": "bceb793a",
   "metadata": {},
   "source": [
    "### Resolvendo"
   ]
  },
  {
   "cell_type": "markdown",
   "id": "6c41296d",
   "metadata": {},
   "source": [
    "**1. Se um indivíduo selecionado aleatoriamente testar positivo, qual a probabilidade de ele ser usuário de drogas? Isto é, qual a probabilidade de não se cometer um falso positivo?**\n"
   ]
  },
  {
   "cell_type": "markdown",
   "id": "699f64cd",
   "metadata": {},
   "source": [
    "Teorema de Bayes: $P(A|B) = \\frac{P(B|A) × P(A)}{P(B)}$"
   ]
  },
  {
   "cell_type": "markdown",
   "id": "2983c43e",
   "metadata": {},
   "source": [
    "A = U  \n",
    "B = +\n",
    "\n",
    "$P(U|+) = \\frac{P(+|U) × P(U)}{P(+)}$\n",
    "\n",
    "Do diagrama, temos que $P(+|U) × P(U) = 0,5\\% x 99\\% = 0,495\\%$. \n",
    "\n",
    "Ainda no diagrama e usando a expressão da prob. condicional, temos que\n",
    "\n",
    "$P(+) = P(+ \\cap U) + P(+ \\cap \\bar{U}) = P(+|U)P(U) + P(+|\\bar{U})P(\\bar{U}) = 0.495\\% + 0.995\\%$"
   ]
  },
  {
   "cell_type": "code",
   "execution_count": 1,
   "id": "7dde211c",
   "metadata": {
    "ExecuteTime": {
     "end_time": "2021-08-10T00:21:48.816194Z",
     "start_time": "2021-08-10T00:21:48.790264Z"
    }
   },
   "outputs": [
    {
     "data": {
      "text/plain": [
       "33.22147651006711"
      ]
     },
     "execution_count": 1,
     "metadata": {},
     "output_type": "execute_result"
    }
   ],
   "source": [
    "P_pos_u = 0.495\n",
    "\n",
    "P_pos_nu = 0.995\n",
    "\n",
    "P_u_pos = P_pos_u / (P_pos_u + P_pos_nu)\n",
    "\n",
    "P_u_pos * 100"
   ]
  },
  {
   "cell_type": "markdown",
   "id": "f65d5ab7",
   "metadata": {},
   "source": [
    "**2. Caso o resultado não seja satisfatório, como melhorá-lo?**\n",
    "\n",
    "    A. Aumentando a especificidade:\n",
    "    \n",
    "    B. Aumentando a sensibilidade:"
   ]
  },
  {
   "cell_type": "code",
   "execution_count": 2,
   "id": "5340ff57",
   "metadata": {
    "ExecuteTime": {
     "end_time": "2021-08-10T00:21:49.128178Z",
     "start_time": "2021-08-10T00:21:48.818189Z"
    }
   },
   "outputs": [
    {
     "data": {
      "text/plain": [
       "33.22147651006711"
      ]
     },
     "execution_count": 2,
     "metadata": {},
     "output_type": "execute_result"
    }
   ],
   "source": [
    "# especificidade: VP\n",
    "VP = 0.99\n",
    "\n",
    "# sensibilidade: FP\n",
    "FP = 0.01\n",
    "\n",
    "P_pos_u  = 0.005 * VP\n",
    "P_pos_nu = 0.995 * FP\n",
    "\n",
    "P_u_pos = P_pos_u / (P_pos_u + P_pos_nu)\n",
    "\n",
    "P_u_pos * 100"
   ]
  },
  {
   "cell_type": "code",
   "execution_count": 3,
   "id": "93a53e6c",
   "metadata": {
    "ExecuteTime": {
     "end_time": "2021-08-10T00:21:49.222192Z",
     "start_time": "2021-08-10T00:21:49.131153Z"
    }
   },
   "outputs": [
    {
     "data": {
      "text/plain": [
       "33.44481605351171"
      ]
     },
     "execution_count": 3,
     "metadata": {},
     "output_type": "execute_result"
    }
   ],
   "source": [
    "# A. Aumentando a especificidade\n",
    "\n",
    "# o teste identifica todos os usuários\n",
    "\n",
    "# especificidade: VP\n",
    "VP = 1\n",
    "\n",
    "# sensibilidade: FP\n",
    "FP = 0.01\n",
    "\n",
    "P_pos_u  = 0.005 * VP\n",
    "P_pos_nu = 0.995 * FP\n",
    "\n",
    "P_u_pos = P_pos_u / (P_pos_u + P_pos_nu)\n",
    "\n",
    "P_u_pos * 100"
   ]
  },
  {
   "cell_type": "code",
   "execution_count": 4,
   "id": "d4d8ac5d",
   "metadata": {
    "ExecuteTime": {
     "end_time": "2021-08-10T00:21:49.316219Z",
     "start_time": "2021-08-10T00:21:49.225183Z"
    }
   },
   "outputs": [
    {
     "data": {
      "text/plain": [
       "49.874055415617136"
      ]
     },
     "execution_count": 4,
     "metadata": {},
     "output_type": "execute_result"
    }
   ],
   "source": [
    "# B. Aumentando a sensibilidade\n",
    "\n",
    "# o teste identifica todos os usuários\n",
    "\n",
    "# especificidade: VP\n",
    "VP = 0.99\n",
    "\n",
    "# sensibilidade: FP\n",
    "FP = 0.005\n",
    "\n",
    "P_pos_u  = 0.005 * VP\n",
    "P_pos_nu = 0.995 * FP\n",
    "\n",
    "P_u_pos = P_pos_u / (P_pos_u + P_pos_nu)\n",
    "\n",
    "P_u_pos * 100"
   ]
  },
  {
   "cell_type": "markdown",
   "id": "54e41269",
   "metadata": {},
   "source": [
    "## Exercício: Teste para doenças"
   ]
  },
  {
   "cell_type": "markdown",
   "id": "c57cf239",
   "metadata": {},
   "source": [
    "Consideremos que 1% das pessoas possui esta doença e, logo, 99% das pessoas não a possui. O teste detecta a doença em pessoas efetivamente doentes 90% das vezes e, consequentemente, não detecta a doença em pessoas doentes em 10% dos casos. Em pessoas não doentes, o teste detecta a doença (erradamente) `em 5% dos casos` e não detecta em 95% dos casos.\n",
    "\n",
    "1. Agora, vamos supor que você fez o teste e o resultado deu positivo. Como devemos interpretar este resultado?\n",
    "1. Como melhorar esse resultado?"
   ]
  },
  {
   "cell_type": "markdown",
   "id": "3ecfbcb4",
   "metadata": {},
   "source": [
    "### Teste\n"
   ]
  },
  {
   "cell_type": "markdown",
   "id": "1dc4e9b0",
   "metadata": {},
   "source": [
    "|                | Pessoa Doente | Pessoa Não Doente |\n",
    "|----------------|---------------|-------------------|\n",
    "| Teste positivo | 90 %          | 5 %               |\n",
    "| Teste Negativo | 10 %          | 95 %              |"
   ]
  },
  {
   "cell_type": "markdown",
   "id": "db28f98b",
   "metadata": {},
   "source": [
    "### Na prática"
   ]
  },
  {
   "cell_type": "code",
   "execution_count": 5,
   "id": "a989e8f6",
   "metadata": {
    "ExecuteTime": {
     "end_time": "2021-08-10T00:21:49.534706Z",
     "start_time": "2021-08-10T00:21:49.318102Z"
    }
   },
   "outputs": [],
   "source": [
    "pDoente = 0.01\n",
    "pNDoente = 0.99\n",
    "\n",
    "tPosDoente = 0.9\n",
    "tPosNDoente = 0.05\n",
    "\n",
    "tNegDoente = 0.1\n",
    "tNegNDoente = 0.95\n",
    "\n",
    "pDoente_tPos = pDoente * tPosDoente\n",
    "pDoente_tNeg = pDoente * tNegDoente\n",
    "\n",
    "pNDoente_tPos = pNDoente * tPosNDoente\n",
    "pNDoente_tNeg = pNDoente * tNegNDoente"
   ]
  },
  {
   "cell_type": "markdown",
   "id": "c7fb1113",
   "metadata": {},
   "source": [
    "### Resolvendo\n"
   ]
  },
  {
   "cell_type": "markdown",
   "id": "72f3673a",
   "metadata": {},
   "source": [
    "$P(D|+) = \\frac{P(+|D) × P(D)}{P(+)}$\n",
    "\n",
    "$P(+) = P(+|D) × P(D) + P(+|ND) × P(ND)$\n",
    "\n",
    "Onde:\n",
    "- P(D|+): probabilidade de estar doente, dado que o teste deu positivo.\n",
    "- P(+|D): probabilidade de o teste dar positivo em uma pessoa que está doente (informação sabida *a priori*).\n",
    "- P(+): Probabilidade do teste dar positivo.\n",
    "- P(D): Probabilidade da pessoa estar doente (na população geral).\n",
    "- P(ND): Probabilidade da pessão não estar doente (na população em geral)."
   ]
  },
  {
   "cell_type": "code",
   "execution_count": 6,
   "id": "46d63c1e",
   "metadata": {
    "ExecuteTime": {
     "end_time": "2021-08-10T00:21:49.628342Z",
     "start_time": "2021-08-10T00:21:49.536543Z"
    }
   },
   "outputs": [
    {
     "name": "stdout",
     "output_type": "stream",
     "text": [
      "1) Probabilidade de eu de fato estar doente: 15.384615384615385%\n"
     ]
    }
   ],
   "source": [
    "#p_positivo = pDoente_tPosDoente + pNDoente_tPosNDoente\n",
    "#p_doente_positivo = (pDoente_tPosDoente*pDoente)/p_positivo\n",
    "p_doente_positivo = pDoente_tPos/(pDoente_tPos + pNDoente_tPos)\n",
    "print(f'1) Probabilidade de eu de fato estar doente: {p_doente_positivo*100}%')"
   ]
  },
  {
   "cell_type": "code",
   "execution_count": 7,
   "id": "9099c1aa",
   "metadata": {
    "ExecuteTime": {
     "end_time": "2021-08-10T00:21:49.783693Z",
     "start_time": "2021-08-10T00:21:49.630310Z"
    }
   },
   "outputs": [],
   "source": [
    "# especificidade: VP\n",
    "VP = 0.95\n",
    "\n",
    "# sensibilidade: FP\n",
    "FP = 0.05\n",
    "\n",
    "tPosDoente = VP\n",
    "tPosNDoente = FP"
   ]
  },
  {
   "cell_type": "code",
   "execution_count": 8,
   "id": "daa95b42",
   "metadata": {
    "ExecuteTime": {
     "end_time": "2021-08-10T00:21:49.955625Z",
     "start_time": "2021-08-10T00:21:49.786563Z"
    }
   },
   "outputs": [
    {
     "name": "stdout",
     "output_type": "stream",
     "text": [
      "Probabilidade de eu de fato estar doente: 16.806722689075627%\n",
      "Pouquíssima melhoria\n"
     ]
    }
   ],
   "source": [
    "# Aumentando a especificidade\n",
    "# especificidade: VP\n",
    "VP = 1\n",
    "\n",
    "tPosDoente = VP\n",
    "\n",
    "pDoente_tPos = pDoente * tPosDoente\n",
    "\n",
    "pNDoente_tPos = pNDoente * tPosNDoente\n",
    "\n",
    "p_doente_positivo = pDoente_tPos/(pDoente_tPos + pNDoente_tPos)\n",
    "print(f'Probabilidade de eu de fato estar doente: {p_doente_positivo*100}%\\nPouquíssima melhoria')"
   ]
  },
  {
   "cell_type": "code",
   "execution_count": 9,
   "id": "21e434ff",
   "metadata": {
    "ExecuteTime": {
     "end_time": "2021-08-10T00:21:50.234670Z",
     "start_time": "2021-08-10T00:21:49.958616Z"
    }
   },
   "outputs": [
    {
     "name": "stdout",
     "output_type": "stream",
     "text": [
      "Probabilidade de eu de fato estar doente: 65.7439446366782%\n",
      "Grande melhoria\n"
     ]
    }
   ],
   "source": [
    "# Aumentando a sensibilidade\n",
    "# sensibilidade: FP\n",
    "FP = 0.005\n",
    "VP = 0.95\n",
    "\n",
    "tPosDoente = VP\n",
    "tPosNDoente = FP\n",
    "\n",
    "pDoente_tPos = pDoente * tPosDoente\n",
    "\n",
    "pNDoente_tPos = pNDoente * tPosNDoente\n",
    "\n",
    "p_doente_positivo = pDoente_tPos/(pDoente_tPos + pNDoente_tPos)\n",
    "print(f'Probabilidade de eu de fato estar doente: {p_doente_positivo*100}%\\nGrande melhoria')"
   ]
  },
  {
   "cell_type": "markdown",
   "id": "c63687a4",
   "metadata": {},
   "source": [
    "2) Para melhorarmos o resultado, temos que aumentar a sensibilidade do teste."
   ]
  },
  {
   "cell_type": "markdown",
   "id": "3a4f280e",
   "metadata": {},
   "source": [
    "## Exercício: Controle de qualidade"
   ]
  },
  {
   "cell_type": "markdown",
   "id": "cd6144a8",
   "metadata": {},
   "source": [
    "Uma companhia multinacional tem três fábricas que produzem o mesmo tipo de produto. A fábrica I é responsável por 30% do total produzido, a fábrica II produz 45% do total, e o restante vem da fábrica III. Cada uma das fábricas, no entanto, produz uma proporção de produtos que não atendem aos padrões estabelecidos pelas normas internacionais. Tais produtos são considerados \"defeituosos\" e correspondem a 1%, 2% e 1,5%, respectivamente, dos totais produzidos por fábrica.\n",
    "\n",
    "No centro de distribuição, é feito o controle de qualidade da produção combinada das fábricas.\n",
    "\n",
    "1. Qual é a probabilidade de encontrar um produto defeituoso durante a inspeção de qualidade?\n",
    "2. Se durante a inspeção encontrarmos um produto defeituoso, qual é a probabilidade de que ele tenha sido produzino na Fábrica II?"
   ]
  },
  {
   "cell_type": "code",
   "execution_count": 10,
   "id": "ab3643b6",
   "metadata": {
    "ExecuteTime": {
     "end_time": "2021-08-10T00:21:50.900353Z",
     "start_time": "2021-08-10T00:21:50.236574Z"
    }
   },
   "outputs": [
    {
     "data": {
      "text/html": [
       "<div>\n",
       "<style scoped>\n",
       "    .dataframe tbody tr th:only-of-type {\n",
       "        vertical-align: middle;\n",
       "    }\n",
       "\n",
       "    .dataframe tbody tr th {\n",
       "        vertical-align: top;\n",
       "    }\n",
       "\n",
       "    .dataframe thead th {\n",
       "        text-align: right;\n",
       "    }\n",
       "</style>\n",
       "<table border=\"1\" class=\"dataframe\">\n",
       "  <thead>\n",
       "    <tr style=\"text-align: right;\">\n",
       "      <th></th>\n",
       "      <th>Fábrica 1</th>\n",
       "      <th>Fábrica 2</th>\n",
       "      <th>Fábrica 3</th>\n",
       "    </tr>\n",
       "  </thead>\n",
       "  <tbody>\n",
       "    <tr>\n",
       "      <th>Sem defeito</th>\n",
       "      <td>99%</td>\n",
       "      <td>98%</td>\n",
       "      <td>98,5%</td>\n",
       "    </tr>\n",
       "    <tr>\n",
       "      <th>Com defeito</th>\n",
       "      <td>1%</td>\n",
       "      <td>2%</td>\n",
       "      <td>1,5%</td>\n",
       "    </tr>\n",
       "  </tbody>\n",
       "</table>\n",
       "</div>"
      ],
      "text/plain": [
       "            Fábrica 1 Fábrica 2 Fábrica 3\n",
       "Sem defeito       99%       98%     98,5%\n",
       "Com defeito        1%        2%      1,5%"
      ]
     },
     "execution_count": 10,
     "metadata": {},
     "output_type": "execute_result"
    }
   ],
   "source": [
    "import pandas as pd\n",
    "tabela = pd.DataFrame(data=[['99%', '98%', '98,5%'], ['1%', '2%', '1,5%']], index=['Sem defeito', 'Com defeito'], columns=['Fábrica 1', 'Fábrica 2', 'Fábrica 3'])\n",
    "tabela"
   ]
  },
  {
   "cell_type": "code",
   "execution_count": 11,
   "id": "c7e6aa9a",
   "metadata": {
    "ExecuteTime": {
     "end_time": "2021-08-10T00:21:50.916346Z",
     "start_time": "2021-08-10T00:21:50.902349Z"
    }
   },
   "outputs": [
    {
     "name": "stdout",
     "output_type": "stream",
     "text": [
      "Prob. de encontrar um defeito na fábrica 1: 0.3%\n",
      "Prob. de encontrar um defeito na fábrica 2: 0.9000000000000001%\n",
      "Prob. de encontrar um defeito na fábrica 3: 0.3749999999999999%\n",
      "Prob. de encontrar um defeito: 1.575%\n"
     ]
    }
   ],
   "source": [
    "d_f1 = 0.01\n",
    "d_f2 = 0.02\n",
    "d_f3 = 0.015\n",
    "f1 = 0.3\n",
    "f2 = 0.45\n",
    "f3 = 1 - f1 - f2\n",
    "p_d_f1 = d_f1*f1\n",
    "p_d_f2 = d_f2*f2\n",
    "p_d_f3 = d_f3*f3\n",
    "p_defeito = p_d_f1+p_d_f2+p_d_f3\n",
    "print(f'Prob. de encontrar um defeito na fábrica 1: {p_d_f1*100}%')\n",
    "print(f'Prob. de encontrar um defeito na fábrica 2: {p_d_f2*100}%')\n",
    "print(f'Prob. de encontrar um defeito na fábrica 3: {p_d_f3*100}%')\n",
    "print(f'Prob. de encontrar um defeito: {p_defeito*100}%')"
   ]
  },
  {
   "cell_type": "code",
   "execution_count": 12,
   "id": "1c63729d",
   "metadata": {
    "ExecuteTime": {
     "end_time": "2021-08-10T00:21:51.405066Z",
     "start_time": "2021-08-10T00:21:50.918307Z"
    }
   },
   "outputs": [
    {
     "name": "stdout",
     "output_type": "stream",
     "text": [
      "Prob. do defeito ser da Fábrica 2: 57.14285714285715%\n"
     ]
    }
   ],
   "source": [
    "p_f2_d = (d_f2*f2)/p_defeito\n",
    "print(f'Prob. do defeito ser da Fábrica 2: {p_f2_d*100}%')"
   ]
  }
 ],
 "metadata": {
  "kernelspec": {
   "display_name": "Python 3",
   "language": "python",
   "name": "python3"
  },
  "language_info": {
   "codemirror_mode": {
    "name": "ipython",
    "version": 3
   },
   "file_extension": ".py",
   "mimetype": "text/x-python",
   "name": "python",
   "nbconvert_exporter": "python",
   "pygments_lexer": "ipython3",
   "version": "3.8.8"
  },
  "toc": {
   "base_numbering": 1,
   "nav_menu": {},
   "number_sections": true,
   "sideBar": true,
   "skip_h1_title": false,
   "title_cell": "Table of Contents",
   "title_sidebar": "Contents",
   "toc_cell": false,
   "toc_position": {
    "height": "calc(100% - 180px)",
    "left": "10px",
    "top": "150px",
    "width": "269.2px"
   },
   "toc_section_display": true,
   "toc_window_display": true
  }
 },
 "nbformat": 4,
 "nbformat_minor": 5
}
