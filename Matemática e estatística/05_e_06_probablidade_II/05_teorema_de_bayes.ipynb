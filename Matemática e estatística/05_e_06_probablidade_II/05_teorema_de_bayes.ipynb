{
 "cells": [
  {
   "cell_type": "markdown",
   "id": "66013ecd",
   "metadata": {
    "heading_collapsed": true
   },
   "source": [
    "# Teorema de Bayes"
   ]
  },
  {
   "cell_type": "markdown",
   "id": "9828d3af",
   "metadata": {
    "ExecuteTime": {
     "end_time": "2021-08-02T14:01:02.776808Z",
     "start_time": "2021-08-02T14:01:02.764235Z"
    },
    "hidden": true
   },
   "source": [
    "Quando dois eventos são dependentes, temos que a probabilidade do evento A ocorrer, sabendo que o evento B ocorreu é dada por\n",
    "\n",
    "$$P(A|B)= \\frac{P(A\\cap B)}{P(B)}, $$\n",
    "\n",
    "que pode ser reescrita como\n",
    "\n",
    "\\begin{equation}\n",
    "P(A\\cap B) = P(A|B) × P(B). \\label{pab}\\tag{1}\n",
    "\\end{equation}\n",
    "\n",
    "Da mesma forma, podemos calcular a probabilidade do evento B ocorrer, dada a ocorrência de A com a expressão\n",
    "\n",
    "\\begin{equation}\n",
    "P(B \\cap A) = P(B|A) × P(A). \\label{pba}\\tag{2}\n",
    "\\end{equation}\n",
    "\n",
    "Igualando as Eqs. (\\ref{pab}) e (\\ref{pba}), encontramos a expressão matemática do teorema de Bayes\n",
    "\n",
    "\\begin{equation}\n",
    "P(A|B) = \\frac{P(B|A) × P(A)}{P(B)}, \\label{bayes}\n",
    "\\end{equation}\n",
    "\n",
    "que descreve a probabilidade de um evento, baseado em um conhecimento a priori que pode estar relacionado ao evento. Os termos dessa expressão são definidos como:\n",
    "\n",
    "- $P(A)$ e $P(B)$ são as probabilidades a priori de $A$ e $B$;\n",
    "- $P(A\\mid B)$ é a probabilidade a posteriori (probabilidade condicionada) de $A$ condicional a $B$;\n",
    "- $P(B\\mid A)$ é a probabilidade a posteriori (probabilidade condicionada) de $B$ condicional a $A$."
   ]
  },
  {
   "cell_type": "code",
   "execution_count": null,
   "id": "f9341307",
   "metadata": {
    "hidden": true
   },
   "outputs": [],
   "source": []
  },
  {
   "cell_type": "markdown",
   "id": "0c72696e",
   "metadata": {
    "heading_collapsed": true,
    "hidden": true
   },
   "source": [
    "## Exemplo: Teste de drogas\n",
    "\n",
    "\\*encontrado [aqui](https://pt.wikipedia.org/wiki/Teorema_de_Bayes)"
   ]
  },
  {
   "cell_type": "markdown",
   "id": "9baa5dda",
   "metadata": {
    "hidden": true
   },
   "source": [
    "Seja um teste de drogas 99% sensível e 99% específico. Isto é, o teste produzirá 99% de resultados verdadeiros positivos para usuários de drogas e 99% de resultados verdadeiros negativos para não-usuários de drogas. Suponha que 0,5% das pessoas são usuárias de drogas. \n",
    "\n",
    "1. Se um indivíduo selecionado aleatoriamente testar positivo, qual a probabilidade de ele ser usuário de drogas? Isto é, qual a probabilidade de não se cometer um falso positivo?\n",
    "\n",
    "2. Caso o resultado não seja satisfatório, como melhorá-lo?"
   ]
  },
  {
   "cell_type": "markdown",
   "id": "91b75e6e",
   "metadata": {
    "heading_collapsed": true,
    "hidden": true
   },
   "source": [
    "### Teste"
   ]
  },
  {
   "cell_type": "markdown",
   "id": "9b4a6e3c",
   "metadata": {
    "hidden": true
   },
   "source": [
    "|                | Usuário       | Não Usuário       |\n",
    "|----------------|---------------|-------------------|\n",
    "| Teste positivo | 99 %          |  1 %              |\n",
    "| Teste Negativo |  1 %          | 99 %              |"
   ]
  },
  {
   "cell_type": "markdown",
   "id": "71ee002e",
   "metadata": {
    "ExecuteTime": {
     "end_time": "2021-08-02T16:10:45.312563Z",
     "start_time": "2021-08-02T16:10:45.300784Z"
    },
    "heading_collapsed": true,
    "hidden": true
   },
   "source": [
    "### Na prática"
   ]
  },
  {
   "cell_type": "markdown",
   "id": "9d97d722",
   "metadata": {
    "hidden": true
   },
   "source": [
    "   <center><img src=\"../images/Bayes_theorem_drugs_example_tree.png\" width=\"60%\" /></center>"
   ]
  },
  {
   "cell_type": "markdown",
   "id": "bceb793a",
   "metadata": {
    "heading_collapsed": true,
    "hidden": true
   },
   "source": [
    "### Resolvendo"
   ]
  },
  {
   "cell_type": "markdown",
   "id": "6c41296d",
   "metadata": {
    "hidden": true
   },
   "source": [
    "**1. Se um indivíduo selecionado aleatoriamente testar positivo, qual a probabilidade de ele ser usuário de drogas? Isto é, qual a probabilidade de não se cometer um falso positivo?**\n"
   ]
  },
  {
   "cell_type": "code",
   "execution_count": null,
   "id": "8a04fba2",
   "metadata": {
    "hidden": true
   },
   "outputs": [],
   "source": []
  },
  {
   "cell_type": "markdown",
   "id": "f65d5ab7",
   "metadata": {
    "hidden": true
   },
   "source": [
    "**2. Caso o resultado não seja satisfatório, como melhorá-lo?**\n",
    "\n",
    "    A. Aumentando a especificidade:\n",
    "    \n",
    "    B. Aumentando a sensibilidade:"
   ]
  },
  {
   "cell_type": "code",
   "execution_count": null,
   "id": "5340ff57",
   "metadata": {
    "hidden": true
   },
   "outputs": [],
   "source": []
  },
  {
   "cell_type": "markdown",
   "id": "54e41269",
   "metadata": {
    "heading_collapsed": true,
    "hidden": true
   },
   "source": [
    "## Exemplo: Teste para doenças"
   ]
  },
  {
   "cell_type": "markdown",
   "id": "c57cf239",
   "metadata": {
    "hidden": true
   },
   "source": [
    "Consideremos que 1% das pessoas possui esta doença e, logo, 99% das pessoas não a possui. O teste detecta a doença em pessoas efetivamente doentes 90% das vezes e, consequentemente, não detecta a doença em pessoas doentes em 10% dos casos. Em pessoas não doentes, o teste detecta a doença (erradamente) `em 5% dos casos` e não detecta em 95% dos casos.\n",
    "\n",
    "1. Agora, vamos supor que você fez o teste e o resultado deu positivo. Como devemos interpretar este resultado?\n",
    "1. Como melhorar esse resultado?"
   ]
  },
  {
   "cell_type": "markdown",
   "id": "3ecfbcb4",
   "metadata": {
    "heading_collapsed": true,
    "hidden": true
   },
   "source": [
    "### Teste\n"
   ]
  },
  {
   "cell_type": "markdown",
   "id": "1dc4e9b0",
   "metadata": {
    "hidden": true
   },
   "source": [
    "|                | Pessoa Doente | Pessoa Não Doente |\n",
    "|----------------|---------------|-------------------|\n",
    "| Teste positivo | 90 %          | 5 %               |\n",
    "| Teste Negativo | 10 %          | 95 %              |"
   ]
  },
  {
   "cell_type": "markdown",
   "id": "db28f98b",
   "metadata": {
    "heading_collapsed": true,
    "hidden": true
   },
   "source": [
    "### Na prática"
   ]
  },
  {
   "cell_type": "markdown",
   "id": "64648f53",
   "metadata": {
    "hidden": true
   },
   "source": [
    "> "
   ]
  },
  {
   "cell_type": "markdown",
   "id": "c7fb1113",
   "metadata": {
    "heading_collapsed": true,
    "hidden": true
   },
   "source": [
    "### Resolvendo\n"
   ]
  },
  {
   "cell_type": "markdown",
   "id": "72f3673a",
   "metadata": {
    "hidden": true
   },
   "source": [
    "$P(D|+) = \\frac{P(+|D) × P(D)}{P(+)}$\n",
    "\n",
    "$P(+) = P(+|D) × P(D) + P(+|ND) × P(ND)$\n",
    "\n",
    "Onde:\n",
    "- P(D|+): probabilidade de estar doente, dado que o teste deu positivo.\n",
    "- P(+|D): probabilidade de o teste dar positivo em uma pessoa que está doente (informação sabida *a priori*).\n",
    "- P(+): Probabilidade do teste dar positivo.\n",
    "- P(D): Probabilidade da pessoa estar doente (na população geral).\n",
    "- P(ND): Probabilidade da pessão não estar doente (na população em geral)."
   ]
  },
  {
   "cell_type": "code",
   "execution_count": null,
   "id": "46d63c1e",
   "metadata": {
    "hidden": true
   },
   "outputs": [],
   "source": []
  },
  {
   "cell_type": "markdown",
   "id": "3a4f280e",
   "metadata": {
    "heading_collapsed": true,
    "hidden": true
   },
   "source": [
    "## Exercício da lista"
   ]
  },
  {
   "cell_type": "markdown",
   "id": "cd6144a8",
   "metadata": {
    "hidden": true
   },
   "source": [
    "Uma companhia multinacional tem três fábricas que produzem o mesmo tipo de produto. A fábrica I é responsável por 30% do total produzido, a fábrica II produz 45% do total, e o restante vem da fábrica III. Cada uma das fábricas, no entanto, produz uma proporção de produtos que não atendem aos padrões estabelecidos pelas normas internacionais. Tais produtos são considerados \"defeituosos\" e correspondem a 1%, 2% e 1,5%, respectivamente, dos totais produzidos por fábrica.\n",
    "\n",
    "No centro de distribuição, é feito o controle de qualidade da produção combinada das fábricas.\n",
    "\n",
    "1. Qual é a probabilidade de encontrar um produto defeituoso durante a inspeção de qualidade?\n",
    "2. Se durante a inspeção encontrarmos um produto defeituoso, qual é a probabilidade de que ele tenha sido produzino na Fábrica II?"
   ]
  },
  {
   "cell_type": "code",
   "execution_count": null,
   "id": "ab3643b6",
   "metadata": {
    "hidden": true
   },
   "outputs": [],
   "source": []
  }
 ],
 "metadata": {
  "kernelspec": {
   "display_name": "Python 3",
   "language": "python",
   "name": "python3"
  },
  "language_info": {
   "codemirror_mode": {
    "name": "ipython",
    "version": 3
   },
   "file_extension": ".py",
   "mimetype": "text/x-python",
   "name": "python",
   "nbconvert_exporter": "python",
   "pygments_lexer": "ipython3",
   "version": "3.8.8"
  },
  "toc": {
   "base_numbering": 1,
   "nav_menu": {},
   "number_sections": true,
   "sideBar": true,
   "skip_h1_title": false,
   "title_cell": "Table of Contents",
   "title_sidebar": "Contents",
   "toc_cell": false,
   "toc_position": {
    "height": "calc(100% - 180px)",
    "left": "10px",
    "top": "150px",
    "width": "248.352px"
   },
   "toc_section_display": true,
   "toc_window_display": true
  }
 },
 "nbformat": 4,
 "nbformat_minor": 5
}
