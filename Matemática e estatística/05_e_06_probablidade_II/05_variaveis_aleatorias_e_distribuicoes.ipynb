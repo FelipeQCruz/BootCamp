{
 "cells": [
  {
   "cell_type": "markdown",
   "metadata": {
    "colab_type": "text",
    "id": "Q-O_C6t30TDi"
   },
   "source": [
    "# Aula 05 - Probabilidade II\n",
    "---\n",
    "\n",
    "<img src=\"https://letscode.com.br/images/logoLcPng.png\" width=\"250px\" style=\"position: absolute; top: 20px; right: 20px; border-radius: 5px;\" />"
   ]
  },
  {
   "cell_type": "code",
   "execution_count": null,
   "metadata": {
    "ExecuteTime": {
     "end_time": "2021-08-02T16:56:49.845258Z",
     "start_time": "2021-08-02T16:56:48.101098Z"
    }
   },
   "outputs": [],
   "source": [
    "# Importação das bibliotecas\n",
    "import numpy as np\n",
    "import pandas as pd\n",
    "import matplotlib.pyplot as plt\n",
    "import seaborn as sns\n",
    "\n",
    "sns.set()"
   ]
  },
  {
   "cell_type": "markdown",
   "metadata": {
    "colab_type": "text",
    "id": "fyndxgLQ0TEW"
   },
   "source": [
    "# Variáveis Aleatórias\n",
    "\n",
    "Em probabilidade, uma função X que associa a cada evento do espaço amostral um número real X($\\Omega$) ∈ R, é denominada uma variável aleatória (V.A.). Uma variável aleatória pode ser classificada como discreta ou contínua, dependendo do domínio dos valores de X.\n",
    "  \n",
    "**Exemplo:** o número de alunos em uma sala é uma variável aleatória (discreta), denotada por $X$ (maiúsculo). Uma observação dessa variável é denotada pela respectiva letra minúscula, $x = 50$ alunos.  "
   ]
  },
  {
   "cell_type": "code",
   "execution_count": null,
   "metadata": {
    "ExecuteTime": {
     "end_time": "2021-08-02T18:51:30.062938Z",
     "start_time": "2021-08-02T18:51:30.052865Z"
    }
   },
   "outputs": [],
   "source": [
    "# Exemplo: lançamento de 5 dados\n",
    "# Y: a soma dos valores obtidos no lançamento dos dados\n",
    "\n"
   ]
  },
  {
   "cell_type": "markdown",
   "metadata": {},
   "source": [
    "Em geral, denotamos a probabilidade de uma V.A. $X$ assumir determinado valor $x$ como $P[X]$ ou $P[X = x]$.\n",
    "\n",
    "Dada a realização de um experimento aleatório qualquer, com um certo espaço de probabilidade, desejamos estudar a estrutura probabilística de quantidades associadas à esse experimento. \n",
    "  \n",
    "Note que antes da realização de um experimento, não sabemos seu\n",
    "resultado, entretanto seu espaço de probabilidade pode ser\n",
    "previamente estabelecido.  \n",
    "  \n",
    "Dessa forma, podemos atribuir probabilidades aos eventos desse\n",
    "espaço amostral, dando origem ao conceito de variável aleatória.\n",
    "\n",
    "Existem diversos modelos probabilísticos que procuram descrever\n",
    "vários tipos de variáveis aleatórias, os quais são conhecidos como *distribuições de\n",
    "probabilidade de variáveis aleatórias* (discretas ou contínuas).  \n",
    "  \n",
    "A distribuição de probabilidades de uma V.A. X é, portanto, uma\n",
    "descrição das probabilidades associadas com os possíveis valores de\n",
    "X. Os valores que X assume determinam o suporte (S) da V.A.  \n",
    "  \n",
    "## Variáveis discretas \n",
    "Suporte em um conjunto de valores enumeráveis (finitos ou infinitos).\n",
    "\n"
   ]
  },
  {
   "cell_type": "code",
   "execution_count": null,
   "metadata": {},
   "outputs": [],
   "source": []
  },
  {
   "cell_type": "markdown",
   "metadata": {},
   "source": [
    "## Variáveis contínuas\n",
    "\n",
    "Suporte em um conjunto não enumerável de valores."
   ]
  },
  {
   "cell_type": "code",
   "execution_count": null,
   "metadata": {},
   "outputs": [],
   "source": []
  },
  {
   "cell_type": "markdown",
   "metadata": {
    "colab_type": "text",
    "id": "bafC7yBz0TEZ"
   },
   "source": [
    "**Ex.: Classifique as variáveis aleatórias a seguir em discretas ou contínuas:**\n",
    "\n",
    "1. Quantidade de horas de estudo por semana\n",
    "2. Comprimento das crianças ao nascer\n",
    "3. Número de filhotes de cachorro nascidos na cidade de São Paulo por dia\n",
    "4. Idade em anos dos alunos da sala\n",
    "5. Tempo entre chegar no ponto de ônibus e o ônibus passar\n"
   ]
  },
  {
   "cell_type": "code",
   "execution_count": null,
   "metadata": {},
   "outputs": [],
   "source": []
  },
  {
   "cell_type": "markdown",
   "metadata": {},
   "source": [
    "# Média (Esperança) e Variância\n"
   ]
  },
  {
   "cell_type": "markdown",
   "metadata": {},
   "source": [
    "## Esperança (ou Valor Esperado)\n",
    "\n",
    "O valor esperado, ou média, ou esperança matemática é uma quantidade utilizada como resumo do comportamento de uma V.A.\n",
    "\n",
    "A média de uma distribuição de probabilidade é a esperança de sua\n",
    "variável aleatória.\n",
    "\n",
    "A esperança de uma V.A. $X$ é obtida multiplicando-se cada valor de\n",
    "$X = x_i$, $i = 1,..,n$, por sua respectiva probabilidade $P[X = x_i]$, e somando os produtos resultantes:\n",
    "\n",
    "$$E(X) = \\sum_{i=1}^n x_i P[X = x_i]$$\n",
    "\n",
    "A esperança é o valor médio que esperaríamos se o experimento\n",
    "continuasse sendo repetido várias vezes.\n",
    "\n",
    "Note: o valor esperado pondera os valores assumidos pela V.A. pelas respectivas probabilidades, e o resultado não precisa ser um dos valores da variável.\n",
    "\n",
    "A esperança está sempre compreendida entre os valores extremos da\n",
    "V.A. A esperança serve como caracterização de diversas distribuições de probabilidade → parâmetro.\n"
   ]
  },
  {
   "cell_type": "code",
   "execution_count": null,
   "metadata": {},
   "outputs": [],
   "source": []
  },
  {
   "cell_type": "markdown",
   "metadata": {},
   "source": [
    "## Variância\n",
    "\n",
    "A variância, como já vimos, dá o grau de dispersão dos valores de\n",
    "uma variável aleatória em relação à sua média ou esperança $E(X)$. A\n",
    "forma geral para o cálculo é: \n",
    "\n",
    "$$Var(X) = E[(X − E(X))^2]$$\n",
    "\n",
    "No entanto, uma foma mais fácil operacionalmente pode ser\n",
    "deduzida a partir da primeira, e temos:\n",
    "\n",
    "$$Var(X) = E(X^2) − [E(X)]^2$$\n",
    "\n",
    "em que, $E(X^2) = \\sum_{i=1}^n x_i^2 P[X = x_i]$."
   ]
  },
  {
   "cell_type": "code",
   "execution_count": null,
   "metadata": {},
   "outputs": [],
   "source": []
  },
  {
   "cell_type": "markdown",
   "metadata": {
    "colab_type": "text",
    "id": "OxIGhAeB0TE6"
   },
   "source": [
    "# Distribuições de Probabilidade\n",
    "---\n",
    "\n",
    "Os modelos de probabilidade são utilizados para descrever vários fenômenos ou situações que encontramos na natureza, ou experimentos por nós construídos. Esses modelos são expressos por uma família de distribuições de probabilidade que dependem de um ou mais parâmetros.\n",
    "O modelo deve representar, na medida do possível, a complexidade que envolve o mundo real da população em estudo. Lembrando que uma V.A. fica completamente caracterizada pela sua função de probabilidade e seus parâmetros.\n",
    "\n",
    "Em teoria da probabilidade e em estatística, uma distribuição de probabilidade descreve o comportamento aleatório de um fenômeno dependente do acaso. O estudo dos fenômenos aleatórios começou com o estudo dos jogos de azar – jogos de dados, sorteios de bolas de urna e cara ou coroa eram motivações para compreender e prever os experimentos aleatórios. Essas abordagens iniciais são fenômenos discretos, o que significa que o número de resultados possíveis é finito ou contável. Entretanto, certas questões revelam distribuições de probabilidade com suporte infinito não contável. Por exemplo, quando o lançamento de uma moeda tende ao infinito, o número de coroas aproxima-se de uma distribuição normal.\n",
    "\n",
    "Flutuações e variabilidade estão presentes em quase todo valor que pode ser medido durante a observação de um fenômeno, independente de sua natureza, além disso quase todas as medidas possuem uma parte de erro intrínseco. A distribuição de probabilidade pode modelar incertezas e descrever fenômenos físicos, biológicos, econômicos, entre outros. O domínio da estatística permite o encontro das distribuições de probabilidade adaptadas aos fenômenos aleatórios.\n",
    "\n",
    "Há muitas distribuições de probabilidade diferentes. Entre as distribuições de probabilidade, a distribuição normal tem uma importância particular. De acordo com o teorema central do limite, a distribuição normal aborda o comportamento assintótico de várias distribuições de probabilidade.\n",
    "\n",
    "O conceito de distribuição de probabilidade é formalizado matematicamente pela teoria da medida – uma distribuição de probabilidade é uma medida muitas vezes vista como uma distribuição que descreve o comportamento de uma variável aleatória discreta ou contínua. Uma medida é uma distribuição de probabilidade se sua massa total for 1. O estudo de uma variável aleatória de acordo com uma distribuição de probabilidade discreta revela o cálculo de somas e de séries, enquanto que o estudo de uma variável aleatória de acordo com uma distribuição de probabilidade absolutamente contínua revela o cálculo de integrais. As funções particulares permitem caracterizar as distribuições de probabilidade como a função de distribuição e a função característica.\n"
   ]
  },
  {
   "cell_type": "markdown",
   "metadata": {},
   "source": [
    "## Definição\n",
    "\n",
    "Para cada valor de uma variável discreta, pode-se determinar uma probabilidade correspondente a esse valor. Ao listar cada valor de uma variável aleatória juntamente à sua probabilidade, você estará formando uma **distribuição de probabilidade**.\n",
    "\n",
    "Uma distribuição de probabilidade deve satisfazer as seguintes condições:\n",
    "\n",
    "1. A probabilidade de cada valor da variável é um número entre 0 e 1. Ou seja,\n",
    "\n",
    "- $0 \\leq P(X = x) \\leq 1$ ou $0 \\leq P(x) \\leq 1$\n",
    "\n",
    "2. A soma de todas as probabilidades é igual a 1:\n",
    "\n",
    "- $\\sum_i P(X = x_i) = 1$ ou $\\sum_i P(x_i) = 1$"
   ]
  },
  {
   "cell_type": "markdown",
   "metadata": {},
   "source": [
    "**Exemplo:** Considere o experimento de lançar uma certa moeda e observar se ocorre cara ou coroa e descreva o comportamento da variável *número de caras* em dois lançamentos dessa moeda. \n",
    "\n",
    "Se denotarmos por N a variável de interesse, segue imediatamente que N pode assumir valores de {0,1,2}. Para atribuir probabilidades a cada um desses valores é necessário fazer alguma suposição a respeito da probabilidade de ocorrência de cara e coroa. Admitindo-se que a moeda é equilibrada as probabilidades de cada face serão iguais, isto é P(cara)=P(coroa)=\\\\(1/2\\\\); logo , lembrando de arranjo, podemos ter a quantidade de possibilidades:\n",
    "\n",
    "\\\\[ Possibilidades^{quantidade \\, de \\, vezes \\, tirado}\\\\]\n",
    "\n",
    "Logo,\n",
    "\n",
    "\\\\[ 2^{2} \\\\]"
   ]
  },
  {
   "cell_type": "markdown",
   "metadata": {
    "ExecuteTime": {
     "end_time": "2021-08-02T16:47:51.307891Z",
     "start_time": "2021-08-02T16:47:51.287673Z"
    }
   },
   "source": [
    "Dado o espaço amostral\n",
    "\n",
    "$$ \\Omega = \\{CC, CR, RC, RR\\},  $$\n",
    "\n",
    "vamos atribuir probabilidades aos eventos de vezes de aparecimento de caras ($X$)?"
   ]
  },
  {
   "cell_type": "markdown",
   "metadata": {},
   "source": [
    "$P(X = 0) = ?$"
   ]
  },
  {
   "cell_type": "markdown",
   "metadata": {},
   "source": [
    "### Exercício\n",
    "\n",
    "Considere o experimento do lançamento de 2 dados e uma variável X que representa o resultado da soma das faces desses dados. Qual seria a probabilidade do resultado da soma das faces dos dados ser maior ou igual a 10?"
   ]
  },
  {
   "cell_type": "code",
   "execution_count": null,
   "metadata": {
    "ExecuteTime": {
     "end_time": "2021-08-02T18:52:31.769939Z",
     "start_time": "2021-08-02T18:52:31.760905Z"
    }
   },
   "outputs": [],
   "source": [
    "# código para ilustrar o problema\n",
    "\n",
    "from itertools import product\n",
    "\n",
    "espaco = product('123456', repeat=2)\n",
    "\n",
    "eventos = []\n",
    "probas = []\n",
    "\n",
    "prob_1 = 1/6\n",
    "prob_2 = 1/6\n",
    "prob_3 = 1/6\n",
    "prob_4 = 1/6\n",
    "prob_5 = 1/6\n",
    "prob_6 = 1/6\n",
    "\n",
    "for evento in espaco:\n",
    "    \n",
    "    n_1 = evento.count('1')\n",
    "    n_2 = evento.count('2')\n",
    "    n_3 = evento.count('3')\n",
    "    n_4 = evento.count('4')\n",
    "    n_5 = evento.count('5')\n",
    "    n_6 = evento.count('6')\n",
    "    \n",
    "    eventos.append(evento)\n",
    "    \n",
    "    prob_evento = prob_1**n_1 * prob_2**n_2 * prob_3**n_3 * prob_4**n_4 * prob_5**n_5 * prob_6**n_6 \n",
    "    probas.append(prob_evento)\n",
    "\n",
    "    \n",
    "    print(evento, round(prob_evento,3))\n",
    "print(f'Número de elementos do espaço amostral = {len(eventos)}')"
   ]
  },
  {
   "cell_type": "markdown",
   "metadata": {
    "ExecuteTime": {
     "end_time": "2021-08-02T17:00:28.590905Z",
     "start_time": "2021-08-02T17:00:28.581397Z"
    }
   },
   "source": [
    "solução:\n",
    " - X = 10: {?}"
   ]
  },
  {
   "cell_type": "code",
   "execution_count": null,
   "metadata": {},
   "outputs": [],
   "source": []
  },
  {
   "cell_type": "markdown",
   "metadata": {
    "colab_type": "text",
    "id": "6f7bEFKO0TFL"
   },
   "source": [
    "## Distribuição de Bernoulli"
   ]
  },
  {
   "cell_type": "markdown",
   "metadata": {},
   "source": [
    "Muitos experimentos são tais que os resultados apresentam ou não uma determinada característica. Por exemplo:\n",
    "\n",
    "- Uma moeda é lançada: o resultado ou é cara ou não é (ocorrendo, então, coroa);\n",
    "- Uma peça escolhida ao acaso de um lote: essa peça ou é defeituosa ou não é;\n",
    "- Uma pessoa escolhida ao acaso em uma sala de aula: essa pessoa ou é do sexo masculino ou não é.\n",
    "\n",
    "Em todos esses casos estamos interessados na ocorrência de sucesso (cara, peça não defeituosa, etc.) ou fracasso (coroa, peça defeituosa, etc.). Para cada experimento acima, podemos definir uma V.A. $X$ que assume apenas dois valores: 1, se ocorrer sucesso e 0, se ocorrer fracasso. Indicaremos por $p$ a probabilidade de sucesso.\n",
    "\n",
    "**Definição:**\n",
    "\n",
    "A variável aleatória $X$, que assume apenas valores 0 e 1 com função de probabilidade $(x,p(x))$ é dita variável aleatória de Bernoulli tal que:\n",
    "\n",
    "- $p(0) = P(X=0) = 1-p$\n",
    "\n",
    "- $p(1) = P(X=1) = p$\n",
    "\n",
    "Então, é facil ver que:\n",
    "\n",
    "- $E(X) = p$\n",
    "\n",
    "- $Var(X) = p - p^2 = p(1-p)$\n",
    "\n",
    "Usaremos a notação X ~ Ber(p) para indicar uma V.A com distribuição Bernoulli de parâmetro $p$.\n"
   ]
  },
  {
   "cell_type": "code",
   "execution_count": null,
   "metadata": {},
   "outputs": [],
   "source": [
    "from scipy.stats import bernoulli"
   ]
  },
  {
   "cell_type": "code",
   "execution_count": null,
   "metadata": {},
   "outputs": [],
   "source": [
    "#rsv\n",
    "data_bernoulli = bernoulli.rvs(p=0.6, size=1000)"
   ]
  },
  {
   "cell_type": "code",
   "execution_count": null,
   "metadata": {
    "ExecuteTime": {
     "end_time": "2021-08-02T18:54:09.293260Z",
     "start_time": "2021-08-02T18:54:09.291207Z"
    }
   },
   "outputs": [],
   "source": [
    "#histograma"
   ]
  },
  {
   "cell_type": "code",
   "execution_count": null,
   "metadata": {},
   "outputs": [],
   "source": []
  },
  {
   "cell_type": "markdown",
   "metadata": {
    "colab_type": "text",
    "id": "5cOy7DXW0TFN"
   },
   "source": [
    "## Distribuição Binomial"
   ]
  },
  {
   "cell_type": "markdown",
   "metadata": {
    "ExecuteTime": {
     "end_time": "2021-08-02T17:03:48.174020Z",
     "start_time": "2021-08-02T17:03:48.159506Z"
    }
   },
   "source": [
    "São $n$ ensaios de Bernoulli com mesma probabilidade de sucesso e independentes, ou seja, o resultado de um ensaio não influencia no resultado de outro ensaio.\n",
    "\n",
    "**Exemplo:** uma moeda honesta é lançada 3 vezes. Cada lançamento é independente do outro e a probabilidade de cara (sucesso) será 0,5 em todos os lançamentos.\n",
    "\n",
    "Deste exemplo, podemos nos perguntar: dado que a moeda é lançada 3 vezes qual é a probabilidade de se obter duas caras? Indiquemos o sucesso (cara) por *S*, e o fracasso (coroa) por *F*. Então, estamos interessados na probabilidade do evento:\n",
    "\n",
    "A = {SSF, SFS, FSS} \n",
    "\n",
    "Portanto, $ P(A) = P(SSF) + P(SFS) + P(FSS) $\n",
    "\n",
    "E, devido à independência dos eventos:\n",
    "\n",
    "$P(SSF) = P(SFS) = P(FSS) = 0,5\\times 0,5\\times 0,5 = 0,125 $\n",
    "\n",
    "Logo, $P(A) = 3\\times 0,125 = 0,375$\n",
    "\n",
    "\n"
   ]
  },
  {
   "cell_type": "markdown",
   "metadata": {},
   "source": [
    "**Uma característica interessante é que estamos interessados apenas no número total de sucessos e não na ordem em que eles ocorrem.**\n",
    "\n",
    "Vamos designar de $X$ o número total de sucessos em $n$ ensaios de Bernoulli com probabilidade de sucesso p, $0<p<1$. Obtenhamos, agora, $P(X=k)$, ou seja, numa sequência de n ensaios de Bernoulli, a probabilidade de obter $k$ sucessos (e, portanto $n-k$ fracassos), $k=0,..,n$. A probabilidade de uma particular sequência de $k$ sucessos e $n-k$ fracassos é:\n",
    "\n",
    "$$p^k(1-p)^{n-k}$$\n",
    "\n",
    "Resta saber quantas sequências de $k$ sucessos e $n-k$ fracassos podemos formar. Existem $\\binom{n}{k} = \\frac{n!}{k!(n-k)!}$ sequências.\n",
    "\n",
    "Logo,\n",
    "\n",
    "<div style=\"background-color: #CCC; display: block; margin: 10px auto; width: 400px; padding: 10px; border-radius: 10px;\">\n",
    "$$P(X=k) = \\binom{n}{k} p^k(1-p)^{n-k}, \\quad k=0,..,n$$\n",
    "</div>\n",
    "\n",
    "A média e a variância de uma V.A. binomial com parâmetros n e p são dadas por:\n",
    "\n",
    "$$E(X) = np$$\n",
    "\n",
    "$$Var(X) = np(1-p)$$\n",
    "\n",
    "**Definição** \n",
    "\n",
    "A variável aleatória X, correspondente ao número de sucessos num experimento binomial, tem distribuição binomial tal que:\n",
    "\n",
    "$$b(k, n, p) = P(X=k) = \\binom{n}{k} p^k(1-p)^{n-k}, \\quad k=0,..,n$$\n",
    "\n",
    "Usaremos a notação X ~ b(n,p) para indicar uma V.A. com distribuição binomial de parâmetros n e p.\n"
   ]
  },
  {
   "cell_type": "code",
   "execution_count": null,
   "metadata": {
    "ExecuteTime": {
     "end_time": "2021-08-02T18:54:27.113969Z",
     "start_time": "2021-08-02T18:54:27.100936Z"
    }
   },
   "outputs": [],
   "source": [
    "from scipy.special import comb\n",
    "\n",
    "n = 3 # lançamentos da moeda\n",
    "k = 2 # número de sucessos (caras obtidas)\n",
    "p = 0.5 # probabilidade de sucesso (obter cara)\n"
   ]
  },
  {
   "cell_type": "code",
   "execution_count": null,
   "metadata": {
    "ExecuteTime": {
     "end_time": "2021-08-02T18:54:55.811668Z",
     "start_time": "2021-08-02T18:54:55.803094Z"
    }
   },
   "outputs": [],
   "source": [
    "#from scipy.stats import binom"
   ]
  },
  {
   "cell_type": "code",
   "execution_count": null,
   "metadata": {},
   "outputs": [],
   "source": []
  },
  {
   "cell_type": "markdown",
   "metadata": {
    "colab_type": "text",
    "id": "PxEgWbFdG3Bt"
   },
   "source": [
    "### Características Importantes"
   ]
  },
  {
   "cell_type": "markdown",
   "metadata": {
    "colab_type": "text",
    "id": "eqQK3Ny-G3Bv"
   },
   "source": [
    "1. Realização de $n$ ensaios idênticos.\n",
    "\n",
    "2. Os ensaios são independentes.\n",
    "\n",
    "3. Somente dois resultados são possíveis, exemplo: Verdadeiro ou falso; Cara ou coroa; Sucesso ou fracasso.\n",
    "\n",
    "4. A probabilidade de sucesso é representada por $p$ e a de fracasso por $1-p=q$. Estas probabilidades não se modificam de ensaio para ensaio.\n",
    "\n",
    "**Pergunta:** Daria para resolver um problema para descobrir a probabilidade de se obter 3 vezes a face 5 de um dado em um lançamento desse dado 10 vezes consecutivas?"
   ]
  },
  {
   "cell_type": "code",
   "execution_count": null,
   "metadata": {},
   "outputs": [],
   "source": []
  },
  {
   "cell_type": "code",
   "execution_count": null,
   "metadata": {},
   "outputs": [],
   "source": []
  },
  {
   "cell_type": "markdown",
   "metadata": {
    "colab_type": "text",
    "id": "t1rA1yJpG3CF"
   },
   "source": [
    "### Exemplo: Concurso para cientista de dados"
   ]
  },
  {
   "cell_type": "markdown",
   "metadata": {
    "colab_type": "text",
    "id": "K0DPDD37G3CG"
   },
   "source": [
    "Em um concurso para preencher uma vaga de cientista de dados temos um total de **10 questões** de múltipla escolha com **3 alternativas possíveis** em cada questão. **Cada questão tem o mesmo valor.** Suponha que um candidato resolva se aventurar sem ter estudado absolutamente nada. Ele resolve fazer a prova de olhos vendados e chutar todas as respostas. Assumindo que a prova **vale 10 pontos e a nota de corte seja 5**, obtenha a probabilidade deste candidato:\n",
    "\n",
    "a) acertar 5 questões  \n",
    "b) passar para a próxima etapa do processo seletivo."
   ]
  },
  {
   "cell_type": "markdown",
   "metadata": {
    "colab_type": "text",
    "id": "sf-NMPfxG3CH"
   },
   "source": [
    "**Qual o número de ensaios ($n$)?**"
   ]
  },
  {
   "cell_type": "code",
   "execution_count": null,
   "metadata": {
    "ExecuteTime": {
     "end_time": "2021-08-02T17:13:47.424550Z",
     "start_time": "2021-08-02T17:13:47.414352Z"
    },
    "colab": {
     "base_uri": "https://localhost:8080/",
     "height": 34
    },
    "colab_type": "code",
    "id": "WmnjMTnYG3CH",
    "outputId": "859f37e5-992a-4ccf-fbfb-4e2cf52c4373"
   },
   "outputs": [],
   "source": []
  },
  {
   "cell_type": "markdown",
   "metadata": {
    "colab_type": "text",
    "id": "1USf9Ro8G3CK"
   },
   "source": [
    "**Os ensaios são independentes?**"
   ]
  },
  {
   "cell_type": "markdown",
   "metadata": {
    "colab_type": "text",
    "id": "82xf2XIkG3CM"
   },
   "source": []
  },
  {
   "cell_type": "markdown",
   "metadata": {
    "colab_type": "text",
    "id": "7jN0H5e7G3CN"
   },
   "source": [
    "**Somente dois resultados são possíveis em cada ensaio?**"
   ]
  },
  {
   "cell_type": "markdown",
   "metadata": {
    "colab_type": "text",
    "id": "gGxcY7K8G3CO"
   },
   "source": []
  },
  {
   "cell_type": "markdown",
   "metadata": {
    "colab_type": "text",
    "id": "MZw2LDQjG3CR"
   },
   "source": [
    "**Qual a probabilidade de sucesso ($p$)?**"
   ]
  },
  {
   "cell_type": "code",
   "execution_count": null,
   "metadata": {
    "ExecuteTime": {
     "end_time": "2021-08-02T17:13:48.837508Z",
     "start_time": "2021-08-02T17:13:48.819990Z"
    },
    "colab": {
     "base_uri": "https://localhost:8080/",
     "height": 34
    },
    "colab_type": "code",
    "id": "AazGDtt0G3CS",
    "outputId": "ccb9e561-0413-43c8-c462-ebea4b6c1097"
   },
   "outputs": [],
   "source": []
  },
  {
   "cell_type": "markdown",
   "metadata": {
    "colab_type": "text",
    "id": "KPCw41OlG3CX"
   },
   "source": [
    "**Qual a probabilidade de fracasso (q)?**"
   ]
  },
  {
   "cell_type": "code",
   "execution_count": null,
   "metadata": {
    "ExecuteTime": {
     "end_time": "2021-08-02T17:13:49.355448Z",
     "start_time": "2021-08-02T17:13:49.351883Z"
    },
    "colab": {
     "base_uri": "https://localhost:8080/",
     "height": 34
    },
    "colab_type": "code",
    "id": "FRhmjCnpG3CZ",
    "outputId": "f521f041-ecf4-4c4c-b696-da7b949d657a"
   },
   "outputs": [],
   "source": []
  },
  {
   "cell_type": "markdown",
   "metadata": {
    "colab_type": "text",
    "id": "W2htpmzaG3Ce"
   },
   "source": [
    "**Qual o total de eventos que se deseja obter sucesso ($k$)?**"
   ]
  },
  {
   "cell_type": "code",
   "execution_count": null,
   "metadata": {
    "ExecuteTime": {
     "end_time": "2021-08-02T17:26:51.524294Z",
     "start_time": "2021-08-02T17:26:51.512787Z"
    },
    "colab": {
     "base_uri": "https://localhost:8080/",
     "height": 34
    },
    "colab_type": "code",
    "id": "MmHpiIIuG3Cj",
    "outputId": "6975cb4f-5cd3-4234-f7b0-b5d01ceb0430"
   },
   "outputs": [],
   "source": []
  },
  {
   "cell_type": "markdown",
   "metadata": {
    "colab_type": "text",
    "id": "r8TZ6DSuG3Cm"
   },
   "source": [
    "####  acertar 5 questões: Solução 1"
   ]
  },
  {
   "cell_type": "code",
   "execution_count": null,
   "metadata": {
    "ExecuteTime": {
     "end_time": "2021-08-02T17:26:52.184485Z",
     "start_time": "2021-08-02T17:26:52.172958Z"
    }
   },
   "outputs": [],
   "source": []
  },
  {
   "cell_type": "markdown",
   "metadata": {
    "colab_type": "text",
    "id": "hvj2sYaSG3Ct"
   },
   "source": [
    "####  acertar 5 questões: Solução 2"
   ]
  },
  {
   "cell_type": "markdown",
   "metadata": {
    "colab_type": "text",
    "id": "rDwUvW5UG3Cq"
   },
   "source": [
    "https://docs.scipy.org/doc/scipy/reference/generated/scipy.stats.binom.html"
   ]
  },
  {
   "cell_type": "code",
   "execution_count": null,
   "metadata": {
    "ExecuteTime": {
     "end_time": "2021-08-02T18:55:38.874403Z",
     "start_time": "2021-08-02T18:55:38.854665Z"
    },
    "colab": {
     "base_uri": "https://localhost:8080/",
     "height": 34
    },
    "colab_type": "code",
    "id": "OjS1xsz5G3Cu",
    "outputId": "e5406623-9e3e-4d41-d1de-c774dc96bc17"
   },
   "outputs": [],
   "source": [
    "# probability mass function\n"
   ]
  },
  {
   "cell_type": "markdown",
   "metadata": {},
   "source": [
    "#### Obter a probabilidade do candidato passar: PMF"
   ]
  },
  {
   "cell_type": "markdown",
   "metadata": {},
   "source": [
    "$$P(acertar \\geq 5) = P(5) + P(6) + P(7) + P(8) + P(9) + P10)$$"
   ]
  },
  {
   "cell_type": "code",
   "execution_count": null,
   "metadata": {
    "ExecuteTime": {
     "end_time": "2021-08-02T17:20:56.130919Z",
     "start_time": "2021-08-02T17:20:56.113953Z"
    }
   },
   "outputs": [],
   "source": [
    "# método 1\n"
   ]
  },
  {
   "cell_type": "markdown",
   "metadata": {},
   "source": [
    "#### Obter a probabilidade do candidato passar: CDF"
   ]
  },
  {
   "cell_type": "code",
   "execution_count": null,
   "metadata": {
    "ExecuteTime": {
     "end_time": "2021-08-02T17:21:11.090810Z",
     "start_time": "2021-08-02T17:21:11.075240Z"
    }
   },
   "outputs": [],
   "source": [
    "# método 2\n",
    "# cumulative density function\n"
   ]
  },
  {
   "cell_type": "code",
   "execution_count": null,
   "metadata": {
    "ExecuteTime": {
     "end_time": "2021-08-02T18:55:59.115584Z",
     "start_time": "2021-08-02T18:55:59.099293Z"
    }
   },
   "outputs": [],
   "source": [
    "# sf\n"
   ]
  },
  {
   "cell_type": "code",
   "execution_count": null,
   "metadata": {},
   "outputs": [],
   "source": []
  },
  {
   "cell_type": "markdown",
   "metadata": {},
   "source": [
    "### binom"
   ]
  },
  {
   "cell_type": "code",
   "execution_count": null,
   "metadata": {},
   "outputs": [],
   "source": [
    "from scipy.stats import binom"
   ]
  },
  {
   "cell_type": "code",
   "execution_count": null,
   "metadata": {},
   "outputs": [],
   "source": []
  },
  {
   "cell_type": "markdown",
   "metadata": {},
   "source": [
    "#### PMF"
   ]
  },
  {
   "cell_type": "code",
   "execution_count": null,
   "metadata": {
    "ExecuteTime": {
     "end_time": "2021-08-02T17:26:23.498842Z",
     "start_time": "2021-08-02T17:26:23.325716Z"
    }
   },
   "outputs": [],
   "source": []
  },
  {
   "cell_type": "code",
   "execution_count": null,
   "metadata": {},
   "outputs": [],
   "source": []
  },
  {
   "cell_type": "markdown",
   "metadata": {},
   "source": [
    "#### CDF"
   ]
  },
  {
   "cell_type": "code",
   "execution_count": null,
   "metadata": {},
   "outputs": [],
   "source": []
  },
  {
   "cell_type": "markdown",
   "metadata": {},
   "source": [
    "### Data generator: RVS"
   ]
  },
  {
   "cell_type": "code",
   "execution_count": null,
   "metadata": {
    "ExecuteTime": {
     "end_time": "2021-08-02T17:29:36.671605Z",
     "start_time": "2021-08-02T17:29:36.662574Z"
    }
   },
   "outputs": [],
   "source": [
    "# data generator\n",
    "data_binom = binom.rvs(n=10, p=1/3, size=1000)"
   ]
  },
  {
   "cell_type": "code",
   "execution_count": null,
   "metadata": {
    "ExecuteTime": {
     "end_time": "2021-08-02T18:56:47.277970Z",
     "start_time": "2021-08-02T18:56:47.264447Z"
    }
   },
   "outputs": [],
   "source": [
    "#histogram\n"
   ]
  },
  {
   "cell_type": "code",
   "execution_count": null,
   "metadata": {
    "ExecuteTime": {
     "end_time": "2021-08-02T18:57:00.784505Z",
     "start_time": "2021-08-02T18:57:00.771474Z"
    }
   },
   "outputs": [],
   "source": [
    "# hist cum"
   ]
  },
  {
   "cell_type": "code",
   "execution_count": null,
   "metadata": {},
   "outputs": [],
   "source": []
  },
  {
   "cell_type": "markdown",
   "metadata": {
    "colab_type": "text",
    "id": "yW5_oh4N0TFP"
   },
   "source": [
    "## Distribuição de Poisson\n",
    "---\n",
    "\n",
    "É largamente empregada quando se deseja contar o número de eventos de certo tipo que ocorrem num intervalo de tempo.\n",
    "\n",
    "Exemplos:\n",
    "\n",
    "- Número de chamadas recebidas por um telefone durante 5 minutos;\n",
    "- Número de falhas de um computador num dia de operação.\n",
    "\n",
    "**Definição**\n",
    "\n",
    "Dizemos que a V.A. N tem distribuição Poisson com parâmetro $\\lambda > 0$ se:\n",
    "\n",
    "<div style=\"background-color: #CCC; display: block; margin: 10px auto; width: 350px; padding: 10px; border-radius: 10px\">\n",
    "$$P(N=k) = \\frac{e^{-\\lambda}\\lambda^k}{k!}, k=0,1,2,...$$\n",
    "</div>\n",
    "\n",
    "A média e a variância de uma V.A. Poisson com parâmetro $\\lambda$ são dadas por:\n",
    "\n",
    "$$E(N) = \\lambda $$\n",
    "\n",
    "$$Var(N) = \\lambda $$"
   ]
  },
  {
   "cell_type": "markdown",
   "metadata": {},
   "source": [
    "### Características Importantes\n",
    "\n",
    "1. A probabilidade de uma ocorrência é a mesma em todo o intervalo observado.\n",
    "2. O número de ocorrências em determinado intervalo é independente do número de ocorrências em outros intervalos.\n",
    "3. A probabilidade de uma ocorrência é a mesma em intervalos de igual comprimento."
   ]
  },
  {
   "cell_type": "markdown",
   "metadata": {
    "colab_type": "text",
    "id": "RKQWuVgMG3DW"
   },
   "source": [
    "### Exemplo: Delivery"
   ]
  },
  {
   "cell_type": "markdown",
   "metadata": {
    "colab_type": "text",
    "id": "ZKc__49bG3DX"
   },
   "source": [
    "Um restaurante recebe em média **20 pedidos por hora**. Qual a chance de que, em determinada hora escolhida ao acaso, o restaurante receba **15 pedidos**?"
   ]
  },
  {
   "cell_type": "markdown",
   "metadata": {
    "colab_type": "text",
    "id": "W-MJ4XBkG3DX"
   },
   "source": [
    "**Qual o número médio de ocorrências por hora ($\\mu$)?**"
   ]
  },
  {
   "cell_type": "code",
   "execution_count": null,
   "metadata": {
    "colab": {
     "base_uri": "https://localhost:8080/",
     "height": 34
    },
    "colab_type": "code",
    "id": "2fVfJxdSG3DY",
    "outputId": "5f93f4cb-eef7-459d-836c-eb825cf3f1d5"
   },
   "outputs": [],
   "source": []
  },
  {
   "cell_type": "markdown",
   "metadata": {
    "colab_type": "text",
    "id": "3SagRtPvG3Da"
   },
   "source": [
    "**Qual o número de ocorrências que queremos obter no período ($k$)?**"
   ]
  },
  {
   "cell_type": "code",
   "execution_count": null,
   "metadata": {
    "colab": {
     "base_uri": "https://localhost:8080/",
     "height": 34
    },
    "colab_type": "code",
    "id": "yXB3QhWyG3Da",
    "outputId": "70e860fe-353f-43ba-98e9-0976282de023"
   },
   "outputs": [],
   "source": []
  },
  {
   "cell_type": "markdown",
   "metadata": {
    "colab_type": "text",
    "id": "iFSF_9Y4G3Dj"
   },
   "source": []
  },
  {
   "cell_type": "markdown",
   "metadata": {
    "colab_type": "text",
    "id": "yAyXh0euG3Dk"
   },
   "source": [
    "### Solução"
   ]
  },
  {
   "cell_type": "markdown",
   "metadata": {},
   "source": [
    "https://docs.scipy.org/doc/scipy/reference/generated/scipy.stats.poisson.html"
   ]
  },
  {
   "cell_type": "code",
   "execution_count": null,
   "metadata": {
    "ExecuteTime": {
     "end_time": "2021-08-02T18:30:30.340888Z",
     "start_time": "2021-08-02T18:30:30.327897Z"
    },
    "colab": {
     "base_uri": "https://localhost:8080/",
     "height": 34
    },
    "colab_type": "code",
    "id": "sNw4oCAyG3Dk",
    "outputId": "21ded08e-1fc3-4315-c608-9c016af07e86"
   },
   "outputs": [],
   "source": [
    "from scipy.stats import poisson"
   ]
  },
  {
   "cell_type": "code",
   "execution_count": null,
   "metadata": {
    "ExecuteTime": {
     "end_time": "2021-08-02T18:57:15.553792Z",
     "start_time": "2021-08-02T18:57:15.538794Z"
    }
   },
   "outputs": [],
   "source": [
    "# poisson PMF\n"
   ]
  },
  {
   "cell_type": "code",
   "execution_count": null,
   "metadata": {
    "ExecuteTime": {
     "end_time": "2021-08-02T18:57:19.092479Z",
     "start_time": "2021-08-02T18:57:19.079895Z"
    }
   },
   "outputs": [],
   "source": [
    "# data generetor\n"
   ]
  },
  {
   "cell_type": "code",
   "execution_count": null,
   "metadata": {},
   "outputs": [],
   "source": []
  },
  {
   "cell_type": "code",
   "execution_count": null,
   "metadata": {},
   "outputs": [],
   "source": []
  },
  {
   "cell_type": "markdown",
   "metadata": {
    "colab_type": "text",
    "id": "dsD4SeUw0TFU"
   },
   "source": [
    "## Distribuições de Probabilidade Contínuas\n",
    "---\n",
    "\n",
    "### Distribuição Normal\n",
    "\n",
    "\n",
    "É representada uma curva simétrica em torno do seu ponto médio, apresentando assim seu famoso formato de sino.  \n",
    "\n",
    "A curva de distribuição normal representa o comportamento de diversos processos nas empresas e muitos fenômenos comuns, como por exemplo:\n",
    "\n",
    "- altura ou peso de uma população\n",
    "- a pressão sanguínea de um grupo de pessoas\n",
    "- o tempo que um grupo de estudantes gasta para realizar uma prova.\n",
    "\n",
    "A distribuição normal pode ser usada para aproximar distribuições discretas de probabilidade, como por exemplo a distribuição binomial. Além disso, a distribuição normal serve também como base para a inferência estatística clássica.  Nela, a média, mediana e moda dos dados possuem o mesmo valor. \n",
    "\n",
    "<img src=\"https://drive.google.com/uc?id=1tARyJcF351a8QhnQj6z4vkfkcv0FX2N-\" style=\"width: 60%; display: block; margin: 15px auto; background-color: #e5e5e5; padding: 10px\">\n",
    "\n",
    "Usaremos a notação X ~ N($\\mu$,$\\sigma^2$) para representar uma V.A. com distribuição Normal de média $\\mu$ e variância $\\sigma^2$.\n"
   ]
  },
  {
   "cell_type": "markdown",
   "metadata": {
    "colab_type": "text",
    "id": "J3eKESHTG3Dx"
   },
   "source": [
    "### Características importantes"
   ]
  },
  {
   "cell_type": "markdown",
   "metadata": {
    "colab_type": "text",
    "id": "z8GxAzWZG3Dx"
   },
   "source": [
    "1. É simétrica em torno da média;\n",
    "\n",
    "2. A área sob a curva corresponde à proporção 1 ou 100%;\n",
    "\n",
    "3. As medidas de tendência central (média, mediana e moda) apresentam o mesmo valor;\n",
    "\n",
    "4. Os extremos da curva tendem ao infinito em ambas as direções e, teoricamente, jamais tocam o eixo $x$;\n",
    "\n",
    "5. O desvio padrão define o achatamento e largura da distribuição. Curvas mais largas e mais achatadas apresentam valores maiores de desvio padrão;\n",
    "\n",
    "6. A distribuição é definida por sua média e desvio padrão;\n",
    "\n",
    "7. A probabilidade sempre será igual à área sob a curva, delimitada pelos limites inferior e superior."
   ]
  },
  {
   "cell_type": "markdown",
   "metadata": {
    "colab_type": "text",
    "id": "hoWLlOiwG3Dy"
   },
   "source": [
    "$$f(x) = \\frac{1}{\\sqrt{2\\pi\\sigma}}e^{-\\frac{1}{2}\\left(\\frac{x-\\mu}{\\sigma}\\right)^2}$$\n",
    "\n",
    "Onde:\n",
    "\n",
    "$x$ = variável normal\n",
    "\n",
    "$\\sigma$ = desvio padrão\n",
    "\n",
    "$\\mu$ = média"
   ]
  },
  {
   "cell_type": "markdown",
   "metadata": {
    "colab_type": "text",
    "id": "8n03Z0VlG3Dz"
   },
   "source": [
    "A probabilidade é obtida a partir da área sob a curva, delimitada pelos limites inferior e superior especificados. Um exemplo pode ser visto na figura abaixo."
   ]
  },
  {
   "cell_type": "markdown",
   "metadata": {
    "colab_type": "text",
    "id": "X1UgmFoxG3Dz"
   },
   "source": [
    "<img src=\"https://caelum-online-public.s3.amazonaws.com/1178-estatistica-parte2/01/img002.png\" style=\"width: 30%; display: block; margin: 15px auto; box-shadow: 2px 2px 5px #333;\">"
   ]
  },
  {
   "cell_type": "markdown",
   "metadata": {
    "colab_type": "text",
    "id": "rtKiApHLG3D0"
   },
   "source": [
    "Para obter a área acima basta calcular a integral da função para os intervalos determinados. Conforme equação abaixo:"
   ]
  },
  {
   "cell_type": "markdown",
   "metadata": {
    "colab_type": "text",
    "id": "0r_9CbSOG3D0"
   },
   "source": [
    "$$P(L_i<x<L_s) = \\int_{L_i}^{L_s}\\frac{1}{\\sqrt{2\\pi\\sigma}}e^{-\\frac{1}{2}\\left(\\frac{x-\\mu}{\\sigma}\\right)^2}$$\n",
    "\n",
    "Onde:\n",
    "\n",
    "$x$ = variável normal\n",
    "\n",
    "$\\sigma$ = desvio padrão\n",
    "\n",
    "$\\mu$ = média\n",
    "\n",
    "$L_i$ = limite inferior\n",
    "\n",
    "$L_s$ = limite superior"
   ]
  },
  {
   "cell_type": "markdown",
   "metadata": {
    "colab_type": "text",
    "id": "qP-Ye-leG3D1"
   },
   "source": [
    "### Tabelas padronizadas"
   ]
  },
  {
   "cell_type": "markdown",
   "metadata": {
    "colab_type": "text",
    "id": "Z1VnLK11G3D1"
   },
   "source": [
    "As tabelas padronizadas foram criadas para facilitar a obtenção dos valores das áreas sob a curva normal e eliminar a necessidade de solucionar integrais definidas.\n",
    "\n",
    "Para consultarmos os valores em uma tabela padronizada basta transformarmos nossa variável em uma variável padronizada $Z$.\n",
    "\n",
    "Esta variável $Z$ representa o afastamento em desvios padrões de um valor da variável original em relação à média."
   ]
  },
  {
   "cell_type": "markdown",
   "metadata": {
    "colab_type": "text",
    "id": "HJcdgdsgG3D2"
   },
   "source": [
    "$$Z = \\frac{x-\\mu}{\\sigma}$$\n",
    "\n",
    "Onde:\n",
    "\n",
    "- $x$ = variável normal com média $\\mu$ e desvio padrão $\\sigma$\n",
    "- $\\sigma$ = desvio padrão\n",
    "- $\\mu$ = média\n",
    "\n",
    "Um exemplo de tabela personalizada pode ser encontrado [aqui](https://www.bing.com/images/search?view=detailV2&ccid=fS8pQLVI&id=54352FA885F2CE14B5F326E977F1354D0860A4A8&thid=OIP.fS8pQLVIzQG-KJgWgZOduQHaH2&mediaurl=https%3a%2f%2fd2vlcm61l7u1fs.cloudfront.net%2fmedia%252F130%252F130735df-26c4-43ad-b94c-67428f6f62f9%252Fphpm8jvT4.png&cdnurl=https%3a%2f%2fth.bing.com%2fth%2fid%2fR.7d2f2940b548cd01be28981681939db9%3frik%3dqKRgCE018XfpJg%26pid%3dImgRaw%26r%3d0&exph=1024&expw=966&q=tabela+z-teste&simid=608030282477360464&FORM=IRPRST&ck=2A85FA3994370F60A4FC4220BC6F05E3&selectedIndex=6&ajaxhist=0&ajaxserp=0).\n"
   ]
  },
  {
   "cell_type": "markdown",
   "metadata": {},
   "source": [
    "<img src=\"../images/z-teste1.png\">"
   ]
  },
  {
   "cell_type": "markdown",
   "metadata": {
    "colab_type": "text",
    "id": "XHYeMaN3G3D9"
   },
   "source": [
    "<img src='https://caelum-online-public.s3.amazonaws.com/1178-estatistica-parte2/01/img003.png' width='250px'>\n",
    "\n",
    "A tabela acima fornece a área sob a curva entre $-\\infty$ e $Z$ desvios padrão acima da média. Lembrando que por se tratar de valores padronizados temos $\\mu = 0$."
   ]
  },
  {
   "cell_type": "markdown",
   "metadata": {
    "colab_type": "text",
    "id": "Bs-KyZAJG3D-"
   },
   "source": [
    "### Exemplo: Qual sua altura?"
   ]
  },
  {
   "cell_type": "markdown",
   "metadata": {
    "colab_type": "text",
    "id": "8PFIjXejG3EA"
   },
   "source": [
    "Em um estudo sobre as alturas dos moradores de uma cidade verificou-se que o conjunto de dados segue uma **distribuição aproximadamente normal**, com **média 1,70** e **desvio padrão de 0,1**. Com estas informações obtenha o seguinte conjunto de probabilidades:\n",
    "\n",
    "> **A.** probabilidade de uma pessoa, selecionada ao acaso, ter menos de 1,80 metros.\n",
    "\n",
    "> **B.** probabilidade de uma pessoa, selecionada ao acaso, ter entre 1,60 metros e 1,80 metros.    \n",
    "\n",
    "> **C.** probabilidade de uma pessoa, selecionada ao acaso, ter mais de 1,90 metros."
   ]
  },
  {
   "cell_type": "markdown",
   "metadata": {
    "colab_type": "text",
    "id": "aHpZLwt1G3EC"
   },
   "source": [
    "#### Problema A - Identificação da área sob a curva"
   ]
  },
  {
   "cell_type": "markdown",
   "metadata": {
    "colab_type": "text",
    "id": "V1eC7tydG3EF"
   },
   "source": [
    "<img style='float: left' src='https://caelum-online-public.s3.amazonaws.com/1178-estatistica-parte2/01/img004.png' width='350px'>"
   ]
  },
  {
   "cell_type": "code",
   "execution_count": null,
   "metadata": {
    "ExecuteTime": {
     "end_time": "2021-08-02T18:57:39.962641Z",
     "start_time": "2021-08-02T18:57:39.953092Z"
    }
   },
   "outputs": [],
   "source": [
    "sigma = ?\n",
    "u = ?"
   ]
  },
  {
   "cell_type": "markdown",
   "metadata": {
    "colab_type": "text",
    "id": "oj9sgHbkG3Eb"
   },
   "source": [
    "##### Solução 1 - Utilizando tabela"
   ]
  },
  {
   "cell_type": "code",
   "execution_count": null,
   "metadata": {
    "ExecuteTime": {
     "end_time": "2021-08-02T18:41:00.056628Z",
     "start_time": "2021-08-02T18:41:00.048628Z"
    },
    "colab": {
     "base_uri": "https://localhost:8080/",
     "height": 34
    },
    "colab_type": "code",
    "id": "ReDTH3WgG3Ec",
    "outputId": "ec542c14-9cd4-405d-a899-dfa92493aa84"
   },
   "outputs": [],
   "source": [
    "# 1. Obter a variável padronizada $Z$\n",
    "Z = ?"
   ]
  },
  {
   "cell_type": "code",
   "execution_count": null,
   "metadata": {
    "ExecuteTime": {
     "end_time": "2021-08-02T18:57:54.052427Z",
     "start_time": "2021-08-02T18:57:54.041433Z"
    }
   },
   "outputs": [],
   "source": [
    "p = ?"
   ]
  },
  {
   "cell_type": "markdown",
   "metadata": {
    "colab_type": "text",
    "id": "4ud0OnQOG3Eh"
   },
   "source": [
    "##### Solução 2 - Utilizando Scipy"
   ]
  },
  {
   "cell_type": "code",
   "execution_count": null,
   "metadata": {
    "ExecuteTime": {
     "end_time": "2021-08-02T18:46:14.579352Z",
     "start_time": "2021-08-02T18:46:14.569768Z"
    },
    "colab": {
     "base_uri": "https://localhost:8080/",
     "height": 34
    },
    "colab_type": "code",
    "id": "sx7riZVlG3Ei",
    "outputId": "c321c9f8-a1a8-44f8-977b-492d2ec65152"
   },
   "outputs": [],
   "source": [
    "from scipy.stats import norm"
   ]
  },
  {
   "cell_type": "code",
   "execution_count": null,
   "metadata": {
    "ExecuteTime": {
     "end_time": "2021-08-02T18:58:01.211540Z",
     "start_time": "2021-08-02T18:58:01.203023Z"
    }
   },
   "outputs": [],
   "source": [
    "#cdf\n"
   ]
  },
  {
   "cell_type": "markdown",
   "metadata": {
    "colab_type": "text",
    "id": "ZsnMjGzJG3Ep"
   },
   "source": [
    "#### Problema B - Identificação da área sob a curva"
   ]
  },
  {
   "cell_type": "markdown",
   "metadata": {
    "colab_type": "text",
    "id": "LN2HY-UCG3Ep"
   },
   "source": [
    "<img style='float: left' src='https://caelum-online-public.s3.amazonaws.com/1178-estatistica-parte2/01/img005.png' width='350px'>"
   ]
  },
  {
   "cell_type": "markdown",
   "metadata": {
    "colab_type": "text",
    "id": "FS6WNg88G3Eq"
   },
   "source": [
    "### Obter a variável padronizada $Z$"
   ]
  },
  {
   "cell_type": "code",
   "execution_count": null,
   "metadata": {
    "colab": {
     "base_uri": "https://localhost:8080/",
     "height": 34
    },
    "colab_type": "code",
    "id": "mxPsPIOYG3Er",
    "outputId": "d86de31f-1ca0-443c-8ed6-81edfe5d36f4"
   },
   "outputs": [],
   "source": []
  },
  {
   "cell_type": "markdown",
   "metadata": {
    "colab_type": "text",
    "id": "05sqVgdaG3E-"
   },
   "source": [
    "#### Problema C - Identificação da área sob a curva"
   ]
  },
  {
   "cell_type": "markdown",
   "metadata": {
    "colab_type": "text",
    "id": "EPKhGTEkG3E_"
   },
   "source": [
    "<img style='float: left' src='https://caelum-online-public.s3.amazonaws.com/1178-estatistica-parte2/01/img006.png' width='350px'>"
   ]
  },
  {
   "cell_type": "markdown",
   "metadata": {
    "colab_type": "text",
    "id": "BA6jYbsSG3E_"
   },
   "source": [
    "###### Obter a variável padronizada $Z$"
   ]
  },
  {
   "cell_type": "code",
   "execution_count": null,
   "metadata": {
    "colab": {
     "base_uri": "https://localhost:8080/",
     "height": 34
    },
    "colab_type": "code",
    "id": "3OVj60MzG3E_",
    "outputId": "71f57b74-bc13-4493-f8ba-6f05a2a07041"
   },
   "outputs": [],
   "source": []
  },
  {
   "cell_type": "markdown",
   "metadata": {
    "colab_type": "text",
    "id": "QCyoVXOdG3FF"
   },
   "source": [
    "##### Solução - Utilizando Scipy"
   ]
  },
  {
   "cell_type": "code",
   "execution_count": null,
   "metadata": {
    "ExecuteTime": {
     "end_time": "2021-08-02T18:47:27.699886Z",
     "start_time": "2021-08-02T18:47:27.688887Z"
    },
    "colab": {
     "base_uri": "https://localhost:8080/",
     "height": 34
    },
    "colab_type": "code",
    "id": "caIE-t83G3FF",
    "outputId": "224b72ff-7edd-4b66-a24e-a1f89e4685c9"
   },
   "outputs": [],
   "source": [
    "#sf or cdf\n"
   ]
  },
  {
   "cell_type": "code",
   "execution_count": null,
   "metadata": {
    "colab": {
     "base_uri": "https://localhost:8080/",
     "height": 34
    },
    "colab_type": "code",
    "id": "wKjqQGgMG3FI",
    "outputId": "7ef30837-195e-4f5b-9bef-68fceaff2397"
   },
   "outputs": [],
   "source": []
  }
 ],
 "metadata": {
  "colab": {
   "name": "Cópia de Copy of Aula 2.ipynb",
   "provenance": [
    {
     "file_id": "1qwCPoVZnG_9SP0LFRht3xn4CHaH1vjyr",
     "timestamp": 1583442768733
    }
   ]
  },
  "kernelspec": {
   "display_name": "Python 3",
   "language": "python",
   "name": "python3"
  },
  "language_info": {
   "codemirror_mode": {
    "name": "ipython",
    "version": 3
   },
   "file_extension": ".py",
   "mimetype": "text/x-python",
   "name": "python",
   "nbconvert_exporter": "python",
   "pygments_lexer": "ipython3",
   "version": "3.8.8"
  },
  "toc": {
   "base_numbering": 1,
   "nav_menu": {},
   "number_sections": true,
   "sideBar": true,
   "skip_h1_title": false,
   "title_cell": "Table of Contents",
   "title_sidebar": "Contents",
   "toc_cell": false,
   "toc_position": {},
   "toc_section_display": true,
   "toc_window_display": true
  }
 },
 "nbformat": 4,
 "nbformat_minor": 4
}
