{
 "cells": [
  {
   "cell_type": "markdown",
   "id": "e2a25a55",
   "metadata": {},
   "source": [
    "Se uma amostra aleatória n=250, tem uma média amostral de 51,3 e uma desvio padrão populacional de σ=2. Construa o intervalo com 95% de confiança para a média populacional μ."
   ]
  },
  {
   "cell_type": "code",
   "execution_count": 1,
   "id": "bffb05e5",
   "metadata": {
    "ExecuteTime": {
     "end_time": "2021-08-12T13:08:37.115811Z",
     "start_time": "2021-08-12T13:08:36.111079Z"
    }
   },
   "outputs": [],
   "source": [
    "import pandas as pd\n",
    "import numpy as np\n",
    "from scipy.stats import norm\n",
    "from scipy.stats import t as t_student"
   ]
  },
  {
   "cell_type": "code",
   "execution_count": 2,
   "id": "a0e2fa03",
   "metadata": {
    "ExecuteTime": {
     "end_time": "2021-08-12T13:08:37.270403Z",
     "start_time": "2021-08-12T13:08:37.117742Z"
    }
   },
   "outputs": [
    {
     "data": {
      "text/html": [
       "<div>\n",
       "<style scoped>\n",
       "    .dataframe tbody tr th:only-of-type {\n",
       "        vertical-align: middle;\n",
       "    }\n",
       "\n",
       "    .dataframe tbody tr th {\n",
       "        vertical-align: top;\n",
       "    }\n",
       "\n",
       "    .dataframe thead th {\n",
       "        text-align: right;\n",
       "    }\n",
       "</style>\n",
       "<table border=\"1\" class=\"dataframe\">\n",
       "  <thead>\n",
       "    <tr style=\"text-align: right;\">\n",
       "      <th>Z</th>\n",
       "      <th>0.00</th>\n",
       "      <th>0.01</th>\n",
       "      <th>0.02</th>\n",
       "      <th>0.03</th>\n",
       "      <th>0.04</th>\n",
       "      <th>0.05</th>\n",
       "      <th>0.06</th>\n",
       "      <th>0.07</th>\n",
       "      <th>0.08</th>\n",
       "      <th>0.09</th>\n",
       "    </tr>\n",
       "  </thead>\n",
       "  <tbody>\n",
       "    <tr>\n",
       "      <th>1.50</th>\n",
       "      <td>0.9332</td>\n",
       "      <td>0.9345</td>\n",
       "      <td>0.9357</td>\n",
       "      <td>0.9370</td>\n",
       "      <td>0.9382</td>\n",
       "      <td>0.9394</td>\n",
       "      <td>0.9406</td>\n",
       "      <td>0.9418</td>\n",
       "      <td>0.9429</td>\n",
       "      <td>0.9441</td>\n",
       "    </tr>\n",
       "    <tr>\n",
       "      <th>1.60</th>\n",
       "      <td>0.9452</td>\n",
       "      <td>0.9463</td>\n",
       "      <td>0.9474</td>\n",
       "      <td>0.9484</td>\n",
       "      <td>0.9495</td>\n",
       "      <td>0.9505</td>\n",
       "      <td>0.9515</td>\n",
       "      <td>0.9525</td>\n",
       "      <td>0.9535</td>\n",
       "      <td>0.9545</td>\n",
       "    </tr>\n",
       "    <tr>\n",
       "      <th>1.70</th>\n",
       "      <td>0.9554</td>\n",
       "      <td>0.9564</td>\n",
       "      <td>0.9573</td>\n",
       "      <td>0.9582</td>\n",
       "      <td>0.9591</td>\n",
       "      <td>0.9599</td>\n",
       "      <td>0.9608</td>\n",
       "      <td>0.9616</td>\n",
       "      <td>0.9625</td>\n",
       "      <td>0.9633</td>\n",
       "    </tr>\n",
       "    <tr>\n",
       "      <th>1.80</th>\n",
       "      <td>0.9641</td>\n",
       "      <td>0.9649</td>\n",
       "      <td>0.9656</td>\n",
       "      <td>0.9664</td>\n",
       "      <td>0.9671</td>\n",
       "      <td>0.9678</td>\n",
       "      <td>0.9686</td>\n",
       "      <td>0.9693</td>\n",
       "      <td>0.9699</td>\n",
       "      <td>0.9706</td>\n",
       "    </tr>\n",
       "    <tr>\n",
       "      <th>1.90</th>\n",
       "      <td>0.9713</td>\n",
       "      <td>0.9719</td>\n",
       "      <td>0.9726</td>\n",
       "      <td>0.9732</td>\n",
       "      <td>0.9738</td>\n",
       "      <td>0.9744</td>\n",
       "      <td>0.9750</td>\n",
       "      <td>0.9756</td>\n",
       "      <td>0.9761</td>\n",
       "      <td>0.9767</td>\n",
       "    </tr>\n",
       "    <tr>\n",
       "      <th>2.00</th>\n",
       "      <td>0.9772</td>\n",
       "      <td>0.9778</td>\n",
       "      <td>0.9783</td>\n",
       "      <td>0.9788</td>\n",
       "      <td>0.9793</td>\n",
       "      <td>0.9798</td>\n",
       "      <td>0.9803</td>\n",
       "      <td>0.9808</td>\n",
       "      <td>0.9812</td>\n",
       "      <td>0.9817</td>\n",
       "    </tr>\n",
       "    <tr>\n",
       "      <th>2.10</th>\n",
       "      <td>0.9821</td>\n",
       "      <td>0.9826</td>\n",
       "      <td>0.9830</td>\n",
       "      <td>0.9834</td>\n",
       "      <td>0.9838</td>\n",
       "      <td>0.9842</td>\n",
       "      <td>0.9846</td>\n",
       "      <td>0.9850</td>\n",
       "      <td>0.9854</td>\n",
       "      <td>0.9857</td>\n",
       "    </tr>\n",
       "  </tbody>\n",
       "</table>\n",
       "</div>"
      ],
      "text/plain": [
       "Z       0.00    0.01    0.02    0.03    0.04    0.05    0.06    0.07    0.08  \\\n",
       "1.50  0.9332  0.9345  0.9357  0.9370  0.9382  0.9394  0.9406  0.9418  0.9429   \n",
       "1.60  0.9452  0.9463  0.9474  0.9484  0.9495  0.9505  0.9515  0.9525  0.9535   \n",
       "1.70  0.9554  0.9564  0.9573  0.9582  0.9591  0.9599  0.9608  0.9616  0.9625   \n",
       "1.80  0.9641  0.9649  0.9656  0.9664  0.9671  0.9678  0.9686  0.9693  0.9699   \n",
       "1.90  0.9713  0.9719  0.9726  0.9732  0.9738  0.9744  0.9750  0.9756  0.9761   \n",
       "2.00  0.9772  0.9778  0.9783  0.9788  0.9793  0.9798  0.9803  0.9808  0.9812   \n",
       "2.10  0.9821  0.9826  0.9830  0.9834  0.9838  0.9842  0.9846  0.9850  0.9854   \n",
       "\n",
       "Z       0.09  \n",
       "1.50  0.9441  \n",
       "1.60  0.9545  \n",
       "1.70  0.9633  \n",
       "1.80  0.9706  \n",
       "1.90  0.9767  \n",
       "2.00  0.9817  \n",
       "2.10  0.9857  "
      ]
     },
     "execution_count": 2,
     "metadata": {},
     "output_type": "execute_result"
    }
   ],
   "source": [
    "tabela_normal_padronizada = pd.DataFrame(\n",
    "    [], \n",
    "    index=[\"{0:0.2f}\".format(i / 100) for i in range(0, 400, 10)],\n",
    "    columns = [\"{0:0.2f}\".format(i / 100) for i in range(0, 10)])\n",
    "\n",
    "for index in tabela_normal_padronizada.index:\n",
    "    for column in tabela_normal_padronizada.columns:\n",
    "        Z = np.round(float(index) + float(column), 2)\n",
    "        tabela_normal_padronizada.loc[index, column] = \"{0:0.4f}\".format(norm.cdf(Z))\n",
    "\n",
    "tabela_normal_padronizada.rename_axis('Z', axis = 'columns', inplace = True)\n",
    "\n",
    "tabela_normal_padronizada.iloc[15:22]"
   ]
  },
  {
   "cell_type": "code",
   "execution_count": 3,
   "id": "7337b935",
   "metadata": {
    "ExecuteTime": {
     "end_time": "2021-08-12T13:08:37.672914Z",
     "start_time": "2021-08-12T13:08:37.274321Z"
    }
   },
   "outputs": [],
   "source": [
    "media_amostral = 51.3\n",
    "sigma = 2\n",
    "n = 250\n",
    "confianca = 0.95\n",
    "significancia = 1 - confianca\n",
    "probabilidade = confianca + significancia /2 "
   ]
  },
  {
   "cell_type": "code",
   "execution_count": 4,
   "id": "b86b721b",
   "metadata": {
    "ExecuteTime": {
     "end_time": "2021-08-12T13:08:37.812952Z",
     "start_time": "2021-08-12T13:08:37.675477Z"
    }
   },
   "outputs": [
    {
     "data": {
      "text/plain": [
       "1.959963984540054"
      ]
     },
     "execution_count": 4,
     "metadata": {},
     "output_type": "execute_result"
    }
   ],
   "source": [
    "norm.ppf(probabilidade)"
   ]
  },
  {
   "cell_type": "code",
   "execution_count": 5,
   "id": "5a790074",
   "metadata": {
    "ExecuteTime": {
     "end_time": "2021-08-12T13:08:37.968003Z",
     "start_time": "2021-08-12T13:08:37.814856Z"
    }
   },
   "outputs": [
    {
     "data": {
      "text/plain": [
       "(51.052081987078175, 51.54791801292182)"
      ]
     },
     "execution_count": 5,
     "metadata": {},
     "output_type": "execute_result"
    }
   ],
   "source": [
    "media_amostral = 51.3\n",
    "sigma = 2\n",
    "n = 250\n",
    "confianca = 0.95\n",
    "norm.interval(alpha = confianca, loc=media_amostral, scale=sigma / np.sqrt(n))"
   ]
  },
  {
   "cell_type": "markdown",
   "id": "6a678e49",
   "metadata": {},
   "source": [
    "Sabe-se que a vida em horas de um bulbo de lâmpada de 75 W é distribuída de forma aproximadamente normal com desvio padrão de σ = 25. Uma amostra aleatória de 200 bulbos tem uma vida media de 1.014 horas. Construa um intervalo de confiança de 95% para a vida média."
   ]
  },
  {
   "cell_type": "code",
   "execution_count": 6,
   "id": "353d8826",
   "metadata": {
    "ExecuteTime": {
     "end_time": "2021-08-12T13:08:38.154878Z",
     "start_time": "2021-08-12T13:08:37.969004Z"
    }
   },
   "outputs": [
    {
     "data": {
      "text/plain": [
       "(1010.5352404391258, 1017.4647595608742)"
      ]
     },
     "execution_count": 6,
     "metadata": {},
     "output_type": "execute_result"
    }
   ],
   "source": [
    "media_amostral = 1014\n",
    "sigma = 25\n",
    "n = 200\n",
    "confianca = 0.95\n",
    "norm.interval(alpha = confianca, loc=media_amostral, scale=sigma / np.sqrt(n))"
   ]
  },
  {
   "cell_type": "markdown",
   "id": "fc007a34",
   "metadata": {},
   "source": [
    "Qual deve ser o tamanho da amostra para que o intervalo com 99,5% de confiança para a média populacional tenha uma semi-amplitude (ou erro) não superior a 1,5? Sabe-se que a variância populacional é de 23."
   ]
  },
  {
   "cell_type": "code",
   "execution_count": 7,
   "id": "8271b1f2",
   "metadata": {
    "ExecuteTime": {
     "end_time": "2021-08-12T13:08:38.340997Z",
     "start_time": "2021-08-12T13:08:38.156841Z"
    }
   },
   "outputs": [
    {
     "name": "stdout",
     "output_type": "stream",
     "text": [
      "Tamanho da amostra: 68\n"
     ]
    }
   ],
   "source": [
    "erro_maximo = 1.5\n",
    "sigma = 23**0.5\n",
    "confianca = 0.995\n",
    "\n",
    "z_a2 = 2.575 # da tabela\n",
    "\n",
    "n = round((z_a2 * sigma / erro_maximo)**2)\n",
    "\n",
    "print(f'Tamanho da amostra: {n}')"
   ]
  },
  {
   "cell_type": "markdown",
   "id": "22c3bd73",
   "metadata": {},
   "source": [
    "Uma marca particular de margarina diet foi analisada para determinar o nível em porcentagem de ácidos graxos insaturados. Uma amostra de seis pacotes resultou nos seguintes dados: 16,8; 17,2; 17,4; 16,9; 16,5 e 17,1. Encontre o intervalo de confiança de 99% para a amostra."
   ]
  },
  {
   "cell_type": "code",
   "execution_count": 11,
   "id": "360d86d2",
   "metadata": {
    "ExecuteTime": {
     "end_time": "2021-08-12T13:09:26.559352Z",
     "start_time": "2021-08-12T13:09:26.538380Z"
    }
   },
   "outputs": [
    {
     "data": {
      "text/plain": [
       "(16.67724968892297, 17.2894169777437)"
      ]
     },
     "execution_count": 11,
     "metadata": {},
     "output_type": "execute_result"
    }
   ],
   "source": [
    "p_Acido = [16.8, 17.2, 17.4, 16.9, 16.5, 17.1]\n",
    "\n",
    "media_amostral = np.mean(p_Acido)\n",
    "\n",
    "sigma = np.std(p_Acido)\n",
    "\n",
    "n = len(p_Acido)\n",
    "\n",
    "confianca = 0.99\n",
    "\n",
    "norm.interval(alpha = confianca, loc=media_amostral, scale=sigma / np.sqrt(n))"
   ]
  },
  {
   "cell_type": "markdown",
   "id": "2e03263c",
   "metadata": {},
   "source": [
    "Uma amostra piloto com 12 elementos tem média de 6,7 e desvio padrão de 1,7. Qual deve ser o tamanho da amostra para que a semi amplitude do intervalo de 99,5% de confiança da média populacional não seja superior a 0,8."
   ]
  },
  {
   "cell_type": "code",
   "execution_count": 9,
   "id": "35cfd79e",
   "metadata": {
    "ExecuteTime": {
     "end_time": "2021-08-12T13:08:38.776041Z",
     "start_time": "2021-08-12T13:08:38.560892Z"
    }
   },
   "outputs": [
    {
     "name": "stdout",
     "output_type": "stream",
     "text": [
      "Tamanho da amostra: 55\n"
     ]
    }
   ],
   "source": [
    "erro_maximo = 0.8\n",
    "sigma = 1.7\n",
    "confianca = 0.995\n",
    "significancia = 1 - confianca\n",
    "probabilidade = confianca + significancia/2\n",
    "media_amostral = 6.7\n",
    "graus_de_liberdade = 12 - 1\n",
    "\n",
    "t_alpha = t_student.ppf(probabilidade, graus_de_liberdade)\n",
    "\n",
    "n = round((t_alpha * sigma / erro_maximo)**2)\n",
    "\n",
    "print(f'Tamanho da amostra: {n}')"
   ]
  },
  {
   "cell_type": "markdown",
   "id": "c5ec3cb0",
   "metadata": {},
   "source": [
    "Calcular o intervalo de confiança de 95% para a seguinte amostra, com variância populacional desconhecida:\n",
    "\n",
    "19,8; 18,5; 17,6; 16,7; 15,8; 15,4; 14,1; 13,6; 11,9; 11,4; 11,4; 8,8; 7,5; 15,4; 15,4; 19,5; 14,9; 12,7; 11,9; 11,4; 10,1; 7,9\n"
   ]
  },
  {
   "cell_type": "code",
   "execution_count": 10,
   "id": "21972ab5",
   "metadata": {
    "ExecuteTime": {
     "end_time": "2021-08-12T13:08:39.038902Z",
     "start_time": "2021-08-12T13:08:38.778040Z"
    }
   },
   "outputs": [
    {
     "data": {
      "text/plain": [
       "(12.264052956584552, 15.172310679779082)"
      ]
     },
     "execution_count": 10,
     "metadata": {},
     "output_type": "execute_result"
    }
   ],
   "source": [
    "amostra = [19.9, 18.5, 17.6, 16.7, 15.8, 15.4, 14.1, 13.6, 11.9, 11.4, 11.4, 8.8, 7.5, 15.4, 15.4, 19.5, 14.9, 12.7, 11.9, 11.4, 10.1, 7.9]\n",
    "\n",
    "media_amostral = np.mean(amostra)\n",
    "\n",
    "sigma = np.std(amostra)\n",
    "\n",
    "n = len(amostra)\n",
    "\n",
    "confianca = 0.95\n",
    "\n",
    "norm.interval(alpha = confianca, loc=media_amostral, scale=sigma / np.sqrt(n))"
   ]
  }
 ],
 "metadata": {
  "kernelspec": {
   "display_name": "Python 3",
   "language": "python",
   "name": "python3"
  },
  "language_info": {
   "codemirror_mode": {
    "name": "ipython",
    "version": 3
   },
   "file_extension": ".py",
   "mimetype": "text/x-python",
   "name": "python",
   "nbconvert_exporter": "python",
   "pygments_lexer": "ipython3",
   "version": "3.8.8"
  },
  "toc": {
   "base_numbering": 1,
   "nav_menu": {},
   "number_sections": true,
   "sideBar": true,
   "skip_h1_title": true,
   "title_cell": "Table of Contents",
   "title_sidebar": "Contents",
   "toc_cell": false,
   "toc_position": {},
   "toc_section_display": true,
   "toc_window_display": true
  }
 },
 "nbformat": 4,
 "nbformat_minor": 5
}
