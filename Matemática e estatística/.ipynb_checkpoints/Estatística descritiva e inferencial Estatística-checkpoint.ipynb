{
 "cells": [
  {
   "cell_type": "code",
   "execution_count": 1,
   "id": "55eec8c2",
   "metadata": {
    "ExecuteTime": {
     "end_time": "2021-08-11T22:23:18.952379Z",
     "start_time": "2021-08-11T22:23:17.587882Z"
    }
   },
   "outputs": [],
   "source": [
    "import numpy as np\n",
    "import pandas as pd\n",
    "import seaborn as sns\n",
    "from scipy.stats import norm\n",
    "from scipy.stats import t as t_student"
   ]
  },
  {
   "cell_type": "markdown",
   "id": "7717cdde",
   "metadata": {},
   "source": [
    "Em uma determinada população, utilizando-se técnicas de amostragem, constatou-se que a altura média das pessoas é de 168cm, com uma margem de erro de 10cm para mais ou para menos. Assinale a alternativa que mais corretamente interpreta esse resultado"
   ]
  },
  {
   "cell_type": "code",
   "execution_count": 5,
   "id": "561e85e7",
   "metadata": {
    "ExecuteTime": {
     "end_time": "2021-08-11T22:30:21.375722Z",
     "start_time": "2021-08-11T22:30:21.354644Z"
    }
   },
   "outputs": [
    {
     "name": "stdout",
     "output_type": "stream",
     "text": [
      "Limites 95%: (148, 188)\n",
      "68.26894921370858%\n"
     ]
    }
   ],
   "source": [
    "media_amostra = 168\n",
    "desvio_amostra = 10\n",
    "\n",
    "limite_inferior = media_amostra - 2*desvio_amostra\n",
    "limite_superior = media_amostra + 2*desvio_amostra\n",
    "\n",
    "Zmin = (158 - media_amostra)/desvio_amostra\n",
    "Zmax = (178 - media_amostra)/desvio_amostra\n",
    "\n",
    "print(f'Limites 95%: {limite_inferior, limite_superior}')\n",
    "\n",
    "print(f'{(norm.cdf(Zmax)-norm.cdf(Zmin))*100}%')"
   ]
  },
  {
   "cell_type": "markdown",
   "id": "9080245b",
   "metadata": {},
   "source": [
    "Para uma amostra contendo os seguintes valores: [1, 4, 5, 6, 10], estime a variância populacional\n",
    "\n"
   ]
  },
  {
   "cell_type": "code",
   "execution_count": 3,
   "id": "7b354e81",
   "metadata": {
    "ExecuteTime": {
     "end_time": "2021-08-11T22:23:19.307605Z",
     "start_time": "2021-08-11T22:23:18.969496Z"
    }
   },
   "outputs": [
    {
     "data": {
      "text/plain": [
       "8.559999999999999"
      ]
     },
     "execution_count": 3,
     "metadata": {},
     "output_type": "execute_result"
    }
   ],
   "source": [
    "v = [1, 4, 5, 6, 10]\n",
    "sigma = np.std(v)\n",
    "var = sigma**2\n",
    "var"
   ]
  }
 ],
 "metadata": {
  "kernelspec": {
   "display_name": "Python 3",
   "language": "python",
   "name": "python3"
  },
  "language_info": {
   "codemirror_mode": {
    "name": "ipython",
    "version": 3
   },
   "file_extension": ".py",
   "mimetype": "text/x-python",
   "name": "python",
   "nbconvert_exporter": "python",
   "pygments_lexer": "ipython3",
   "version": "3.8.8"
  },
  "toc": {
   "base_numbering": 1,
   "nav_menu": {},
   "number_sections": true,
   "sideBar": true,
   "skip_h1_title": true,
   "title_cell": "Table of Contents",
   "title_sidebar": "Contents",
   "toc_cell": false,
   "toc_position": {},
   "toc_section_display": true,
   "toc_window_display": true
  }
 },
 "nbformat": 4,
 "nbformat_minor": 5
}
