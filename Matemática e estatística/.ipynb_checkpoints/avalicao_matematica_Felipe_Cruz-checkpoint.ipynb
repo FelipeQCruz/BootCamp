{
 "cells": [
  {
   "cell_type": "markdown",
   "metadata": {},
   "source": [
    "# AEACNA - Matemática\n",
    "Atividade Especial para Acompanhamento Continuo do Nivel de Aprendizagem"
   ]
  },
  {
   "cell_type": "markdown",
   "metadata": {},
   "source": [
    "## Instruções\n",
    "\n",
    "1. Enviar para o email filipe.furlan@letscode.com.br até **2021/08/17 as 16:00** o notebook preenchido (avalicao_matematica_firstname_lastname.ipynb) com a resolução dos exercicios abaixo.\n",
    "\n",
    "\n",
    "2. Atividade individual com consulta ao material das aulas e livros/links de referência.\n"
   ]
  },
  {
   "cell_type": "markdown",
   "metadata": {},
   "source": [
    "# Questão 01 - 2,0"
   ]
  },
  {
   "cell_type": "markdown",
   "metadata": {},
   "source": [
    "Carregue os dados do dataset [`car_details`](https://s3-sa-east-1.amazonaws.com/lcpi/4fbc4943-7af3-4c42-9a21-4d9eb121a28d.csv) e, em seguida:\n",
    "\n",
    "a. Classifique as variáveis do dataset como quantitativas (contínua/discreta) ou qualitativas (ordinal/nominal);  \n",
    "b. Obtenha a média, a mediana e a moda das variáveis quantitativas e, em seguida, classifique cada uma dessas variáveis quanto à sua simetria.  \n",
    "c. Calcule os percentis do preço de venda dos carros. Em seguida, indique o percentual dos carros que podem ser adquiridos por um preço de até R\\\\$ 120.000,00.  \n",
    "d. Crie uma tabela de distribuição de frequências para a informação do preço de venda dos carros. Para isso, defina o número de classes, utilizando a Regra de Sturges."
   ]
  },
  {
   "cell_type": "code",
   "execution_count": 20,
   "metadata": {
    "ExecuteTime": {
     "end_time": "2021-08-16T23:14:12.038277Z",
     "start_time": "2021-08-16T23:14:12.027306Z"
    }
   },
   "outputs": [],
   "source": [
    "import pandas as pd\n",
    "import numpy as np"
   ]
  },
  {
   "cell_type": "code",
   "execution_count": 2,
   "metadata": {
    "ExecuteTime": {
     "end_time": "2021-08-16T22:09:49.916279Z",
     "start_time": "2021-08-16T22:09:49.136262Z"
    }
   },
   "outputs": [
    {
     "data": {
      "text/html": [
       "<div>\n",
       "<style scoped>\n",
       "    .dataframe tbody tr th:only-of-type {\n",
       "        vertical-align: middle;\n",
       "    }\n",
       "\n",
       "    .dataframe tbody tr th {\n",
       "        vertical-align: top;\n",
       "    }\n",
       "\n",
       "    .dataframe thead th {\n",
       "        text-align: right;\n",
       "    }\n",
       "</style>\n",
       "<table border=\"1\" class=\"dataframe\">\n",
       "  <thead>\n",
       "    <tr style=\"text-align: right;\">\n",
       "      <th></th>\n",
       "      <th>name</th>\n",
       "      <th>year</th>\n",
       "      <th>selling_price</th>\n",
       "      <th>km_driven</th>\n",
       "      <th>fuel</th>\n",
       "      <th>seller_type</th>\n",
       "      <th>transmission</th>\n",
       "      <th>owner</th>\n",
       "    </tr>\n",
       "  </thead>\n",
       "  <tbody>\n",
       "    <tr>\n",
       "      <th>0</th>\n",
       "      <td>Maruti 800 AC</td>\n",
       "      <td>2007</td>\n",
       "      <td>60000</td>\n",
       "      <td>70000</td>\n",
       "      <td>Petrol</td>\n",
       "      <td>Individual</td>\n",
       "      <td>Manual</td>\n",
       "      <td>First Owner</td>\n",
       "    </tr>\n",
       "    <tr>\n",
       "      <th>1</th>\n",
       "      <td>Maruti Wagon R LXI Minor</td>\n",
       "      <td>2007</td>\n",
       "      <td>135000</td>\n",
       "      <td>50000</td>\n",
       "      <td>Petrol</td>\n",
       "      <td>Individual</td>\n",
       "      <td>Manual</td>\n",
       "      <td>First Owner</td>\n",
       "    </tr>\n",
       "    <tr>\n",
       "      <th>2</th>\n",
       "      <td>Hyundai Verna 1.6 SX</td>\n",
       "      <td>2012</td>\n",
       "      <td>600000</td>\n",
       "      <td>100000</td>\n",
       "      <td>Diesel</td>\n",
       "      <td>Individual</td>\n",
       "      <td>Manual</td>\n",
       "      <td>First Owner</td>\n",
       "    </tr>\n",
       "    <tr>\n",
       "      <th>3</th>\n",
       "      <td>Datsun RediGO T Option</td>\n",
       "      <td>2017</td>\n",
       "      <td>250000</td>\n",
       "      <td>46000</td>\n",
       "      <td>Petrol</td>\n",
       "      <td>Individual</td>\n",
       "      <td>Manual</td>\n",
       "      <td>First Owner</td>\n",
       "    </tr>\n",
       "    <tr>\n",
       "      <th>4</th>\n",
       "      <td>Honda Amaze VX i-DTEC</td>\n",
       "      <td>2014</td>\n",
       "      <td>450000</td>\n",
       "      <td>141000</td>\n",
       "      <td>Diesel</td>\n",
       "      <td>Individual</td>\n",
       "      <td>Manual</td>\n",
       "      <td>Second Owner</td>\n",
       "    </tr>\n",
       "  </tbody>\n",
       "</table>\n",
       "</div>"
      ],
      "text/plain": [
       "                       name  year  selling_price  km_driven    fuel  \\\n",
       "0             Maruti 800 AC  2007          60000      70000  Petrol   \n",
       "1  Maruti Wagon R LXI Minor  2007         135000      50000  Petrol   \n",
       "2      Hyundai Verna 1.6 SX  2012         600000     100000  Diesel   \n",
       "3    Datsun RediGO T Option  2017         250000      46000  Petrol   \n",
       "4     Honda Amaze VX i-DTEC  2014         450000     141000  Diesel   \n",
       "\n",
       "  seller_type transmission         owner  \n",
       "0  Individual       Manual   First Owner  \n",
       "1  Individual       Manual   First Owner  \n",
       "2  Individual       Manual   First Owner  \n",
       "3  Individual       Manual   First Owner  \n",
       "4  Individual       Manual  Second Owner  "
      ]
     },
     "execution_count": 2,
     "metadata": {},
     "output_type": "execute_result"
    }
   ],
   "source": [
    "df = pd.read_csv('car_details.csv')\n",
    "df.head()"
   ]
  },
  {
   "cell_type": "markdown",
   "metadata": {},
   "source": [
    "## Variáveis quantitativas\n",
    "\n",
    "> Contínuas:\n",
    "selling_price, km_driven"
   ]
  },
  {
   "cell_type": "markdown",
   "metadata": {
    "ExecuteTime": {
     "end_time": "2021-08-16T02:39:38.203799Z",
     "start_time": "2021-08-16T02:39:38.185815Z"
    }
   },
   "source": [
    "## Variáveis qualitativas\n",
    "\n",
    "> Nominais:\n",
    "name, fuel, seller_type, transmission, owner\n",
    "\n",
    "> Ordinais:\n",
    "year"
   ]
  },
  {
   "cell_type": "markdown",
   "metadata": {},
   "source": [
    "## Média, mediana e moda"
   ]
  },
  {
   "cell_type": "code",
   "execution_count": 9,
   "metadata": {
    "ExecuteTime": {
     "end_time": "2021-08-16T22:31:04.612401Z",
     "start_time": "2021-08-16T22:31:04.587468Z"
    }
   },
   "outputs": [
    {
     "name": "stdout",
     "output_type": "stream",
     "text": [
      "Média de Preços: 504127.3117511521\n",
      "Média de KMs: 66215.77741935484\n",
      "Mediana de Preços: 350000.0\n",
      "Mediana de KMs: 60000.0\n",
      "Moda de Preços: 0    300000\n",
      "dtype: int64\n",
      "Moda de KMs: 0    70000\n",
      "dtype: int64\n"
     ]
    }
   ],
   "source": [
    "mediaPreco = df['selling_price'].mean()\n",
    "mediaKM = df['km_driven'].mean()\n",
    "print(f'Média de Preços: {mediaPreco}')\n",
    "print(f'Média de KMs: {mediaKM}')\n",
    "\n",
    "medianaPreco = df['selling_price'].median()\n",
    "medianaKM = df['km_driven'].median()\n",
    "print(f'Mediana de Preços: {medianaPreco}')\n",
    "print(f'Mediana de KMs: {medianaKM}')\n",
    "\n",
    "modaPreco = df['selling_price'].mode()\n",
    "modaKM = df['km_driven'].mode()\n",
    "print(f'Moda de Preços: {modaPreco}')\n",
    "print(f'Moda de KMs: {modaKM}')"
   ]
  },
  {
   "cell_type": "markdown",
   "metadata": {},
   "source": [
    "## Porcentual de carros vendidos até R$ 120.000,00"
   ]
  },
  {
   "cell_type": "code",
   "execution_count": 18,
   "metadata": {
    "ExecuteTime": {
     "end_time": "2021-08-16T23:06:48.840779Z",
     "start_time": "2021-08-16T23:06:48.815847Z"
    }
   },
   "outputs": [
    {
     "name": "stdout",
     "output_type": "stream",
     "text": [
      "Porcentual de carros vendidos até R$ 120.000,00: 2.014143%\n"
     ]
    }
   ],
   "source": [
    "df2c = df\n",
    "df2c['percentis'] = df2c['selling_price']/df2c['selling_price'].sum()\n",
    "df2c = df2c[df2c['selling_price'] <= 120000]\n",
    "percentual = df2c['percentis'].sum()\n",
    "print(f'Porcentual de carros vendidos até R$ 120.000,00: {percentual*100.:f}%')"
   ]
  },
  {
   "cell_type": "markdown",
   "metadata": {},
   "source": [
    "## Tabela de distribuição de frequências"
   ]
  },
  {
   "cell_type": "code",
   "execution_count": 22,
   "metadata": {
    "ExecuteTime": {
     "end_time": "2021-08-16T23:17:54.458911Z",
     "start_time": "2021-08-16T23:17:54.276050Z"
    }
   },
   "outputs": [
    {
     "data": {
      "text/html": [
       "<div>\n",
       "<style scoped>\n",
       "    .dataframe tbody tr th:only-of-type {\n",
       "        vertical-align: middle;\n",
       "    }\n",
       "\n",
       "    .dataframe tbody tr th {\n",
       "        vertical-align: top;\n",
       "    }\n",
       "\n",
       "    .dataframe thead th {\n",
       "        text-align: right;\n",
       "    }\n",
       "</style>\n",
       "<table border=\"1\" class=\"dataframe\">\n",
       "  <thead>\n",
       "    <tr style=\"text-align: right;\">\n",
       "      <th></th>\n",
       "      <th>Frequência Absoluta (fi)</th>\n",
       "      <th>Frequência Percentual (fp)</th>\n",
       "      <th>Frequência Acumulada (fa)</th>\n",
       "    </tr>\n",
       "  </thead>\n",
       "  <tbody>\n",
       "    <tr>\n",
       "      <th>(11120.0, 703076.923]</th>\n",
       "      <td>3571</td>\n",
       "      <td>82.281106</td>\n",
       "      <td>82.281106</td>\n",
       "    </tr>\n",
       "    <tr>\n",
       "      <th>(703076.923, 1386153.846]</th>\n",
       "      <td>578</td>\n",
       "      <td>13.317972</td>\n",
       "      <td>95.599078</td>\n",
       "    </tr>\n",
       "    <tr>\n",
       "      <th>(1386153.846, 2069230.769]</th>\n",
       "      <td>96</td>\n",
       "      <td>2.211982</td>\n",
       "      <td>97.811060</td>\n",
       "    </tr>\n",
       "    <tr>\n",
       "      <th>(2069230.769, 2752307.692]</th>\n",
       "      <td>39</td>\n",
       "      <td>0.898618</td>\n",
       "      <td>98.709677</td>\n",
       "    </tr>\n",
       "    <tr>\n",
       "      <th>(3435384.615, 4118461.538]</th>\n",
       "      <td>18</td>\n",
       "      <td>0.414747</td>\n",
       "      <td>99.124424</td>\n",
       "    </tr>\n",
       "    <tr>\n",
       "      <th>(2752307.692, 3435384.615]</th>\n",
       "      <td>15</td>\n",
       "      <td>0.345622</td>\n",
       "      <td>99.470046</td>\n",
       "    </tr>\n",
       "    <tr>\n",
       "      <th>(4801538.462, 5484615.385]</th>\n",
       "      <td>11</td>\n",
       "      <td>0.253456</td>\n",
       "      <td>99.723502</td>\n",
       "    </tr>\n",
       "    <tr>\n",
       "      <th>(4118461.538, 4801538.462]</th>\n",
       "      <td>9</td>\n",
       "      <td>0.207373</td>\n",
       "      <td>99.930876</td>\n",
       "    </tr>\n",
       "    <tr>\n",
       "      <th>(5484615.385, 6167692.308]</th>\n",
       "      <td>1</td>\n",
       "      <td>0.023041</td>\n",
       "      <td>99.953917</td>\n",
       "    </tr>\n",
       "    <tr>\n",
       "      <th>(7533846.154, 8216923.077]</th>\n",
       "      <td>1</td>\n",
       "      <td>0.023041</td>\n",
       "      <td>99.976959</td>\n",
       "    </tr>\n",
       "    <tr>\n",
       "      <th>(8216923.077, 8900000.0]</th>\n",
       "      <td>1</td>\n",
       "      <td>0.023041</td>\n",
       "      <td>100.000000</td>\n",
       "    </tr>\n",
       "    <tr>\n",
       "      <th>(6167692.308, 6850769.231]</th>\n",
       "      <td>0</td>\n",
       "      <td>0.000000</td>\n",
       "      <td>100.000000</td>\n",
       "    </tr>\n",
       "    <tr>\n",
       "      <th>(6850769.231, 7533846.154]</th>\n",
       "      <td>0</td>\n",
       "      <td>0.000000</td>\n",
       "      <td>100.000000</td>\n",
       "    </tr>\n",
       "  </tbody>\n",
       "</table>\n",
       "</div>"
      ],
      "text/plain": [
       "                            Frequência Absoluta (fi)  \\\n",
       "(11120.0, 703076.923]                           3571   \n",
       "(703076.923, 1386153.846]                        578   \n",
       "(1386153.846, 2069230.769]                        96   \n",
       "(2069230.769, 2752307.692]                        39   \n",
       "(3435384.615, 4118461.538]                        18   \n",
       "(2752307.692, 3435384.615]                        15   \n",
       "(4801538.462, 5484615.385]                        11   \n",
       "(4118461.538, 4801538.462]                         9   \n",
       "(5484615.385, 6167692.308]                         1   \n",
       "(7533846.154, 8216923.077]                         1   \n",
       "(8216923.077, 8900000.0]                           1   \n",
       "(6167692.308, 6850769.231]                         0   \n",
       "(6850769.231, 7533846.154]                         0   \n",
       "\n",
       "                            Frequência Percentual (fp)  \\\n",
       "(11120.0, 703076.923]                        82.281106   \n",
       "(703076.923, 1386153.846]                    13.317972   \n",
       "(1386153.846, 2069230.769]                    2.211982   \n",
       "(2069230.769, 2752307.692]                    0.898618   \n",
       "(3435384.615, 4118461.538]                    0.414747   \n",
       "(2752307.692, 3435384.615]                    0.345622   \n",
       "(4801538.462, 5484615.385]                    0.253456   \n",
       "(4118461.538, 4801538.462]                    0.207373   \n",
       "(5484615.385, 6167692.308]                    0.023041   \n",
       "(7533846.154, 8216923.077]                    0.023041   \n",
       "(8216923.077, 8900000.0]                      0.023041   \n",
       "(6167692.308, 6850769.231]                    0.000000   \n",
       "(6850769.231, 7533846.154]                    0.000000   \n",
       "\n",
       "                            Frequência Acumulada (fa)  \n",
       "(11120.0, 703076.923]                       82.281106  \n",
       "(703076.923, 1386153.846]                   95.599078  \n",
       "(1386153.846, 2069230.769]                  97.811060  \n",
       "(2069230.769, 2752307.692]                  98.709677  \n",
       "(3435384.615, 4118461.538]                  99.124424  \n",
       "(2752307.692, 3435384.615]                  99.470046  \n",
       "(4801538.462, 5484615.385]                  99.723502  \n",
       "(4118461.538, 4801538.462]                  99.930876  \n",
       "(5484615.385, 6167692.308]                  99.953917  \n",
       "(7533846.154, 8216923.077]                  99.976959  \n",
       "(8216923.077, 8900000.0]                   100.000000  \n",
       "(6167692.308, 6850769.231]                 100.000000  \n",
       "(6850769.231, 7533846.154]                 100.000000  "
      ]
     },
     "execution_count": 22,
     "metadata": {},
     "output_type": "execute_result"
    }
   ],
   "source": [
    "n = df.shape[0]\n",
    "\n",
    "k = round(1 + 10 / 3 * np.log10(n))\n",
    "\n",
    "dfSturges = df\n",
    "dfSturges['selling_price'] = dfSturges['selling_price'].astype(float)\n",
    "dfSturges['classificacao'] = pd.cut(dfSturges['selling_price'], bins = k)\n",
    "dfSturges['selling_price'].replace(to_replace = 0, value = np.nan, inplace=True)\n",
    "dfSturges = dfSturges.dropna()\n",
    "\n",
    "fi = dfSturges['classificacao'].value_counts()\n",
    "fr = dfSturges['classificacao'].value_counts() / dfSturges.shape[0]\n",
    "fp = fr * 100\n",
    "#tabela\n",
    "dist_freq_renda = pd.DataFrame({'Frequência Absoluta (fi)': fi, 'Frequência Percentual (fp)': fp})\n",
    "dist_freq_renda['Frequência Acumulada (fa)']  = dist_freq_renda['Frequência Percentual (fp)'].cumsum()\n",
    "dist_freq_renda"
   ]
  },
  {
   "cell_type": "markdown",
   "metadata": {},
   "source": [
    "# Questão 02 - 2,0\n"
   ]
  },
  {
   "cell_type": "markdown",
   "metadata": {},
   "source": [
    "\n",
    "De 50.000 válvulas fabricadas por uma companhia retira-se uma amostra de 400 válvulas, e obtém a vida média de 800 horas e o desvio padrão de 100 horas.\n",
    "\n",
    "a. Qual o intervalo de conﬁança de 99% para a vida média da população? Explique com suas palavras o que esse intervalo de confiança significa.  \n",
    "b. Que tamanho deve ter a amostra para que o erro máximo seja de 7,84 horas, com uma confiança de 95%?  "
   ]
  },
  {
   "cell_type": "code",
   "execution_count": null,
   "metadata": {},
   "outputs": [],
   "source": []
  },
  {
   "cell_type": "code",
   "execution_count": null,
   "metadata": {},
   "outputs": [],
   "source": []
  },
  {
   "cell_type": "code",
   "execution_count": null,
   "metadata": {},
   "outputs": [],
   "source": []
  },
  {
   "cell_type": "code",
   "execution_count": null,
   "metadata": {},
   "outputs": [],
   "source": []
  },
  {
   "cell_type": "code",
   "execution_count": null,
   "metadata": {},
   "outputs": [],
   "source": []
  },
  {
   "cell_type": "code",
   "execution_count": null,
   "metadata": {},
   "outputs": [],
   "source": []
  },
  {
   "cell_type": "code",
   "execution_count": null,
   "metadata": {},
   "outputs": [],
   "source": []
  },
  {
   "cell_type": "markdown",
   "metadata": {},
   "source": [
    "# Questão 03 - 2,0\n"
   ]
  },
  {
   "cell_type": "markdown",
   "metadata": {},
   "source": [
    "Na indústria cerâmica, avalia-se sistematicamente a resistência de amostras de massas cerâmicas, após o processo de queima. Dessas avaliações, sabe-se que certo tipo de massa tem resistência mecânica aproximadamente normal, com **média populacional de 53 MPa** e **variância populacional de 16 MPa²**. Após a troca de alguns fornecedores de matérias-primas, deseja-se **verificar se houve alteração na qualidade** (se a média deixou de ser 53 MPa). Uma **amostra de 15** corpos de prova de massa cerâmica acusou **média igual a 50 MPa**. Qual é a conclusão ao nível de significância de 5%?"
   ]
  },
  {
   "cell_type": "code",
   "execution_count": null,
   "metadata": {},
   "outputs": [],
   "source": []
  },
  {
   "cell_type": "code",
   "execution_count": null,
   "metadata": {},
   "outputs": [],
   "source": []
  },
  {
   "cell_type": "code",
   "execution_count": null,
   "metadata": {},
   "outputs": [],
   "source": []
  },
  {
   "cell_type": "code",
   "execution_count": null,
   "metadata": {},
   "outputs": [],
   "source": []
  },
  {
   "cell_type": "code",
   "execution_count": null,
   "metadata": {},
   "outputs": [],
   "source": []
  },
  {
   "cell_type": "code",
   "execution_count": null,
   "metadata": {},
   "outputs": [],
   "source": []
  },
  {
   "cell_type": "markdown",
   "metadata": {},
   "source": [
    "# Questão 04 - 2,0"
   ]
  },
  {
   "cell_type": "markdown",
   "metadata": {},
   "source": [
    "Você é um pesquisador que estuda o mercado de trabalho brasileiro e resolve estudar as diferenças salariais dos trabalhadores dos estados do Rio de Janeiro e de São Paulo. Durante sua pesquisa você verifica que, aparentemente, os rendimentos dos trabalhadores no estado do Rio de Janeiro são mais baixos que os rendimentos dos trabalhadores no estado de São Paulo. Para confirmar esta conclusão realize um teste de hipótese de comparação de médias em cima de duas amostras de trabalhadores dos dois estados. Siga as seguintes etapas:\n",
    "\n",
    "- Selecione duas amostras de **500 trabalhadores** para cada um dos dois estados (variável UF) para realizar o teste. Utilize o **parâmetro random_state=101**.\n",
    "- Considere o **nível de significância de 5%**.\n",
    "- Teste a hipótese de que a **renda média dos trabalhadores do Rio de Janeiro é menor que a renda média dos trabalhadores de São Paulo**.\n",
    "\n",
    "> [Link para o dataset](https://s3-sa-east-1.amazonaws.com/lcpi/360d2eaa-970a-4204-8004-53bb42af101a.csv).\n",
    "\n",
    "> **OBS.:** Os dados da dataset referentes à UF foram convertidos (de categóricos para numéricos), portanto, utilize a tabela abaixo para identificar SP e RJ:\n",
    "\n",
    "|Código|Descrição|\n",
    "|---|---|\n",
    "|11|Rondônia|\n",
    "|12|Acre|\n",
    "|13|Amazonas|\n",
    "|14|Roraima|\n",
    "|15|Pará|\n",
    "|16|Amapá|\n",
    "|17|Tocantins|\n",
    "|21|Maranhão|\n",
    "|22|Piauí|\n",
    "|23|Ceará|\n",
    "|24|Rio Grande do Norte|\n",
    "|25|Paraíba|\n",
    "|26|Pernambuco|\n",
    "|27|Alagoas|\n",
    "|28|Sergipe|\n",
    "|29|Bahia|\n",
    "|31|Minas Gerais|\n",
    "|32|Espírito Santo|\n",
    "|33|Rio de Janeiro|\n",
    "|35|São Paulo|\n",
    "|41|Paraná|\n",
    "|42|Santa Catarina|\n",
    "|43|Rio Grande do Sul|\n",
    "|50|Mato Grosso do Sul|\n",
    "|51|Mato Grosso|\n",
    "|52|Goiás|\n",
    "|53|Distrito Federal|"
   ]
  },
  {
   "cell_type": "code",
   "execution_count": 4,
   "metadata": {
    "ExecuteTime": {
     "end_time": "2021-08-11T12:15:19.710050Z",
     "start_time": "2021-08-11T12:15:19.640653Z"
    }
   },
   "outputs": [
    {
     "data": {
      "text/html": [
       "<div>\n",
       "<style scoped>\n",
       "    .dataframe tbody tr th:only-of-type {\n",
       "        vertical-align: middle;\n",
       "    }\n",
       "\n",
       "    .dataframe tbody tr th {\n",
       "        vertical-align: top;\n",
       "    }\n",
       "\n",
       "    .dataframe thead th {\n",
       "        text-align: right;\n",
       "    }\n",
       "</style>\n",
       "<table border=\"1\" class=\"dataframe\">\n",
       "  <thead>\n",
       "    <tr style=\"text-align: right;\">\n",
       "      <th></th>\n",
       "      <th>UF</th>\n",
       "      <th>Sexo</th>\n",
       "      <th>Idade</th>\n",
       "      <th>Cor</th>\n",
       "      <th>Anos de Estudo</th>\n",
       "      <th>Renda</th>\n",
       "      <th>Altura</th>\n",
       "    </tr>\n",
       "  </thead>\n",
       "  <tbody>\n",
       "    <tr>\n",
       "      <th>0</th>\n",
       "      <td>11</td>\n",
       "      <td>0</td>\n",
       "      <td>23</td>\n",
       "      <td>8</td>\n",
       "      <td>12</td>\n",
       "      <td>800</td>\n",
       "      <td>1.603808</td>\n",
       "    </tr>\n",
       "    <tr>\n",
       "      <th>1</th>\n",
       "      <td>11</td>\n",
       "      <td>1</td>\n",
       "      <td>23</td>\n",
       "      <td>2</td>\n",
       "      <td>12</td>\n",
       "      <td>1150</td>\n",
       "      <td>1.739790</td>\n",
       "    </tr>\n",
       "    <tr>\n",
       "      <th>2</th>\n",
       "      <td>11</td>\n",
       "      <td>1</td>\n",
       "      <td>35</td>\n",
       "      <td>8</td>\n",
       "      <td>15</td>\n",
       "      <td>880</td>\n",
       "      <td>1.760444</td>\n",
       "    </tr>\n",
       "    <tr>\n",
       "      <th>3</th>\n",
       "      <td>11</td>\n",
       "      <td>0</td>\n",
       "      <td>46</td>\n",
       "      <td>2</td>\n",
       "      <td>6</td>\n",
       "      <td>3500</td>\n",
       "      <td>1.783158</td>\n",
       "    </tr>\n",
       "    <tr>\n",
       "      <th>4</th>\n",
       "      <td>11</td>\n",
       "      <td>1</td>\n",
       "      <td>47</td>\n",
       "      <td>8</td>\n",
       "      <td>9</td>\n",
       "      <td>150</td>\n",
       "      <td>1.690631</td>\n",
       "    </tr>\n",
       "  </tbody>\n",
       "</table>\n",
       "</div>"
      ],
      "text/plain": [
       "   UF  Sexo  Idade  Cor  Anos de Estudo  Renda    Altura\n",
       "0  11     0     23    8              12    800  1.603808\n",
       "1  11     1     23    2              12   1150  1.739790\n",
       "2  11     1     35    8              15    880  1.760444\n",
       "3  11     0     46    2               6   3500  1.783158\n",
       "4  11     1     47    8               9    150  1.690631"
      ]
     },
     "execution_count": 4,
     "metadata": {},
     "output_type": "execute_result"
    }
   ],
   "source": [
    "df = pd.read_csv('../datasets/pnad_2015.csv')\n",
    "df.head()"
   ]
  },
  {
   "cell_type": "code",
   "execution_count": null,
   "metadata": {},
   "outputs": [],
   "source": []
  },
  {
   "cell_type": "code",
   "execution_count": null,
   "metadata": {},
   "outputs": [],
   "source": []
  },
  {
   "cell_type": "code",
   "execution_count": null,
   "metadata": {},
   "outputs": [],
   "source": []
  },
  {
   "cell_type": "code",
   "execution_count": null,
   "metadata": {},
   "outputs": [],
   "source": []
  },
  {
   "cell_type": "code",
   "execution_count": null,
   "metadata": {},
   "outputs": [],
   "source": []
  },
  {
   "cell_type": "code",
   "execution_count": null,
   "metadata": {},
   "outputs": [],
   "source": []
  },
  {
   "cell_type": "code",
   "execution_count": null,
   "metadata": {},
   "outputs": [],
   "source": []
  },
  {
   "cell_type": "markdown",
   "metadata": {},
   "source": [
    "# Questão 05 - 2,0"
   ]
  },
  {
   "cell_type": "markdown",
   "metadata": {},
   "source": [
    "Após a finalização de um curso técnico, um estudante pediu a seu professor uma carta de recomendação para o primeiro emprego. Uma pesquisa de mercado aponta que há 80% de chances de obter o trabalho se receber uma recomendação excelente (E), 40% de chances se a recomendação for boa (B) e apenas 10% de chances se for fraca (F). \n",
    "\n",
    "Conversando com ex-alunos, o estudante estimou que as chances de receber uma recomendação excelente (E), boa (B) e fraca (F) são, respectivamente, 70%, 20% e 10%.\n",
    "\n",
    "Calcule a probabilidade:\n",
    "\n",
    "a. de que ele vá receber uma oferta de trabalho.  \n",
    "b. de a recomendação ter sido fraca, boa ou excelente dado que ele recebeu a oferta de trabalho.  \n",
    "c. de a recomendação ter sido fraca, boa ou excelente dado que ele **não** recebeu a oferta de trabalho.  \n",
    "d. As probabilidades de 70%, 20% e 10% respectivamente estimadas para a recomendação ser excelente (E), boa (B) ou fraca (F) foram alteradas nos dois itens acima, para mais ou para menos em função dos resultados que elas produziram. Como você explica a lógica dessas modificações?"
   ]
  },
  {
   "cell_type": "code",
   "execution_count": null,
   "metadata": {},
   "outputs": [],
   "source": []
  },
  {
   "cell_type": "code",
   "execution_count": null,
   "metadata": {},
   "outputs": [],
   "source": []
  },
  {
   "cell_type": "code",
   "execution_count": null,
   "metadata": {},
   "outputs": [],
   "source": []
  },
  {
   "cell_type": "code",
   "execution_count": null,
   "metadata": {},
   "outputs": [],
   "source": []
  },
  {
   "cell_type": "code",
   "execution_count": null,
   "metadata": {},
   "outputs": [],
   "source": []
  },
  {
   "cell_type": "code",
   "execution_count": null,
   "metadata": {},
   "outputs": [],
   "source": []
  },
  {
   "cell_type": "code",
   "execution_count": null,
   "metadata": {},
   "outputs": [],
   "source": []
  }
 ],
 "metadata": {
  "kernelspec": {
   "display_name": "Python 3",
   "language": "python",
   "name": "python3"
  },
  "language_info": {
   "codemirror_mode": {
    "name": "ipython",
    "version": 3
   },
   "file_extension": ".py",
   "mimetype": "text/x-python",
   "name": "python",
   "nbconvert_exporter": "python",
   "pygments_lexer": "ipython3",
   "version": "3.8.8"
  },
  "toc": {
   "base_numbering": 1,
   "nav_menu": {},
   "number_sections": true,
   "sideBar": true,
   "skip_h1_title": false,
   "title_cell": "Table of Contents",
   "title_sidebar": "Contents",
   "toc_cell": false,
   "toc_position": {
    "height": "calc(100% - 180px)",
    "left": "10px",
    "top": "150px",
    "width": "328px"
   },
   "toc_section_display": true,
   "toc_window_display": true
  }
 },
 "nbformat": 4,
 "nbformat_minor": 4
}
