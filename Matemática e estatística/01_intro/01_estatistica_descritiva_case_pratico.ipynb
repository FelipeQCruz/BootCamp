{
 "cells": [
  {
   "cell_type": "markdown",
   "metadata": {
    "colab_type": "text",
    "id": "WvMflodMjQKe"
   },
   "source": [
    "# Estatística Descritiva | Case Prático\n",
    "***\n",
    "\n",
    "<img src=\"https://letscode.com.br/images/logoLcPng.png\" width=\"250px\" style=\"position: absolute; top: 20px; right: 20px; border-radius: 5px;\" />"
   ]
  },
  {
   "cell_type": "markdown",
   "metadata": {
    "colab_type": "text",
    "id": "iN1gIbaKjQKh"
   },
   "source": [
    "## Pesquisa Nacional por Amostra de Domicílios - 2015\n",
    "\n",
    "A <b>Pesquisa Nacional por Amostra de Domicílios - PNAD</b> investiga anualmente, de forma permanente, características gerais da população, de educação, trabalho, rendimento e habitação e outras, com periodicidade variável, de acordo com as necessidades de informação para o país, como as características sobre migração, fecundidade, nupcialidade, saúde, segurança alimentar, entre outros temas. O levantamento dessas estatísticas constitui, ao longo dos 49 anos de realização da pesquisa, um importante instrumento para formulação, validação e avaliação de políticas orientadas para o desenvolvimento socioeconômico e a melhoria das condições de vida no Brasil."
   ]
  },
  {
   "cell_type": "markdown",
   "metadata": {
    "colab_type": "text",
    "id": "r0Fe_qnzjQKj"
   },
   "source": [
    "## Variáveis utilizadas\n",
    "\n",
    "### Renda\n",
    "\n",
    "Rendimento mensal do trabalho principal para pessoas de 10 anos ou mais de idade.\n",
    "\n",
    "### Idade\n",
    "\n",
    "Idade do morador na data de referência em anos.\n",
    "\n",
    "### Altura (elaboração própria)\n",
    "\n",
    "Altura do morador em metros.\n",
    "\n",
    "### UF\n",
    "\n",
    "|Código|Descrição|\n",
    "|---|---|\n",
    "|11|Rondônia|\n",
    "|12|Acre|\n",
    "|13|Amazonas|\n",
    "|14|Roraima|\n",
    "|15|Pará|\n",
    "|16|Amapá|\n",
    "|17|Tocantins|\n",
    "|21|Maranhão|\n",
    "|22|Piauí|\n",
    "|23|Ceará|\n",
    "|24|Rio Grande do Norte|\n",
    "|25|Paraíba|\n",
    "|26|Pernambuco|\n",
    "|27|Alagoas|\n",
    "|28|Sergipe|\n",
    "|29|Bahia|\n",
    "|31|Minas Gerais|\n",
    "|32|Espírito Santo|\n",
    "|33|Rio de Janeiro|\n",
    "|35|São Paulo|\n",
    "|41|Paraná|\n",
    "|42|Santa Catarina|\n",
    "|43|Rio Grande do Sul|\n",
    "|50|Mato Grosso do Sul|\n",
    "|51|Mato Grosso|\n",
    "|52|Goiás|\n",
    "|53|Distrito Federal|\n",
    "\n",
    "### Sexo\n",
    "\n",
    "|Código|Descrição|\n",
    "|---|---|\n",
    "|0|Masculino|\n",
    "|1|Feminino|\n",
    "\n",
    "### Anos de Estudo\n",
    "\n",
    "|Código|Descrição|\n",
    "|---|---|\n",
    "|1|Sem instrução e menos de 1 ano|\n",
    "|2|1 ano|\n",
    "|3|2 anos|\n",
    "|4|3 anos|\n",
    "|5|4 anos|\n",
    "|6|5 anos|\n",
    "|7|6 anos|\n",
    "|8|7 anos|\n",
    "|9|8 anos|\n",
    "|10|9 anos|\n",
    "|11|10 anos|\n",
    "|12|11 anos|\n",
    "|13|12 anos|\n",
    "|14|13 anos|\n",
    "|15|14 anos|\n",
    "|16|15 anos ou mais|\n",
    "|17|Não determinados| \n",
    "||Não aplicável|\n",
    "\n",
    "### Cor\n",
    "\n",
    "|Código|Descrição|\n",
    "|---|---|\n",
    "|0|Indígena|\n",
    "|2|Branca|\n",
    "|4|Preta|\n",
    "|6|Amarela|\n",
    "|8|Parda|\n",
    "|9|Sem declaração|"
   ]
  },
  {
   "cell_type": "markdown",
   "metadata": {
    "colab_type": "text",
    "id": "OK1IQH5cX7Gb"
   },
   "source": [
    "#### <font color='red'>Observação</font>\n",
    "***\n",
    "> Os seguintes tratamentos foram realizados nos dados originais:\n",
    "> 1. Foram eliminados os registros onde a <b>Renda</b> era inválida (999 999 999 999);\n",
    "> 2. Foram eliminados os registros onde a <b>Renda</b> era missing;\n",
    "> 3. Foram considerados somente os registros das <b>Pessoas de Referência</b> de cada domicílio (responsável pelo domicílio)."
   ]
  },
  {
   "cell_type": "markdown",
   "metadata": {
    "colab_type": "text",
    "id": "8Rw70V6ojQKk"
   },
   "source": [
    "# Importando as bibliotecas e lendo o dataset"
   ]
  },
  {
   "cell_type": "code",
   "execution_count": 1,
   "metadata": {
    "ExecuteTime": {
     "end_time": "2021-08-03T22:52:10.760665Z",
     "start_time": "2021-08-03T22:52:09.389862Z"
    },
    "execution": {
     "iopub.execute_input": "2021-04-19T22:18:16.049421Z",
     "iopub.status.busy": "2021-04-19T22:18:16.048868Z",
     "iopub.status.idle": "2021-04-19T22:18:18.030686Z",
     "shell.execute_reply": "2021-04-19T22:18:18.028769Z",
     "shell.execute_reply.started": "2021-04-19T22:18:16.049371Z"
    }
   },
   "outputs": [],
   "source": [
    "import numpy as np\n",
    "import pandas as pd\n",
    "import matplotlib.pyplot as plt\n",
    "import seaborn as sns\n",
    "\n",
    "sns.set()\n",
    "\n",
    "%matplotlib inline"
   ]
  },
  {
   "cell_type": "code",
   "execution_count": 2,
   "metadata": {
    "ExecuteTime": {
     "end_time": "2021-08-03T22:52:10.871335Z",
     "start_time": "2021-08-03T22:52:10.762626Z"
    },
    "execution": {
     "iopub.execute_input": "2021-04-19T22:18:18.513553Z",
     "iopub.status.busy": "2021-04-19T22:18:18.512750Z",
     "iopub.status.idle": "2021-04-19T22:18:18.667929Z",
     "shell.execute_reply": "2021-04-19T22:18:18.666636Z",
     "shell.execute_reply.started": "2021-04-19T22:18:18.513464Z"
    }
   },
   "outputs": [],
   "source": [
    "df = pd.read_csv('../datasets/pnad_2015.csv')"
   ]
  },
  {
   "cell_type": "code",
   "execution_count": 3,
   "metadata": {
    "ExecuteTime": {
     "end_time": "2021-08-03T22:52:10.934166Z",
     "start_time": "2021-08-03T22:52:10.874327Z"
    },
    "execution": {
     "iopub.execute_input": "2021-04-19T22:18:20.308475Z",
     "iopub.status.busy": "2021-04-19T22:18:20.307872Z",
     "iopub.status.idle": "2021-04-19T22:18:20.341910Z",
     "shell.execute_reply": "2021-04-19T22:18:20.340542Z",
     "shell.execute_reply.started": "2021-04-19T22:18:20.308395Z"
    }
   },
   "outputs": [
    {
     "data": {
      "text/html": [
       "<div>\n",
       "<style scoped>\n",
       "    .dataframe tbody tr th:only-of-type {\n",
       "        vertical-align: middle;\n",
       "    }\n",
       "\n",
       "    .dataframe tbody tr th {\n",
       "        vertical-align: top;\n",
       "    }\n",
       "\n",
       "    .dataframe thead th {\n",
       "        text-align: right;\n",
       "    }\n",
       "</style>\n",
       "<table border=\"1\" class=\"dataframe\">\n",
       "  <thead>\n",
       "    <tr style=\"text-align: right;\">\n",
       "      <th></th>\n",
       "      <th>UF</th>\n",
       "      <th>Sexo</th>\n",
       "      <th>Idade</th>\n",
       "      <th>Cor</th>\n",
       "      <th>Anos de Estudo</th>\n",
       "      <th>Renda</th>\n",
       "      <th>Altura</th>\n",
       "    </tr>\n",
       "  </thead>\n",
       "  <tbody>\n",
       "    <tr>\n",
       "      <th>0</th>\n",
       "      <td>11</td>\n",
       "      <td>0</td>\n",
       "      <td>23</td>\n",
       "      <td>8</td>\n",
       "      <td>12</td>\n",
       "      <td>800</td>\n",
       "      <td>1.603808</td>\n",
       "    </tr>\n",
       "    <tr>\n",
       "      <th>1</th>\n",
       "      <td>11</td>\n",
       "      <td>1</td>\n",
       "      <td>23</td>\n",
       "      <td>2</td>\n",
       "      <td>12</td>\n",
       "      <td>1150</td>\n",
       "      <td>1.739790</td>\n",
       "    </tr>\n",
       "    <tr>\n",
       "      <th>2</th>\n",
       "      <td>11</td>\n",
       "      <td>1</td>\n",
       "      <td>35</td>\n",
       "      <td>8</td>\n",
       "      <td>15</td>\n",
       "      <td>880</td>\n",
       "      <td>1.760444</td>\n",
       "    </tr>\n",
       "    <tr>\n",
       "      <th>3</th>\n",
       "      <td>11</td>\n",
       "      <td>0</td>\n",
       "      <td>46</td>\n",
       "      <td>2</td>\n",
       "      <td>6</td>\n",
       "      <td>3500</td>\n",
       "      <td>1.783158</td>\n",
       "    </tr>\n",
       "    <tr>\n",
       "      <th>4</th>\n",
       "      <td>11</td>\n",
       "      <td>1</td>\n",
       "      <td>47</td>\n",
       "      <td>8</td>\n",
       "      <td>9</td>\n",
       "      <td>150</td>\n",
       "      <td>1.690631</td>\n",
       "    </tr>\n",
       "  </tbody>\n",
       "</table>\n",
       "</div>"
      ],
      "text/plain": [
       "   UF  Sexo  Idade  Cor  Anos de Estudo  Renda    Altura\n",
       "0  11     0     23    8              12    800  1.603808\n",
       "1  11     1     23    2              12   1150  1.739790\n",
       "2  11     1     35    8              15    880  1.760444\n",
       "3  11     0     46    2               6   3500  1.783158\n",
       "4  11     1     47    8               9    150  1.690631"
      ]
     },
     "execution_count": 3,
     "metadata": {},
     "output_type": "execute_result"
    }
   ],
   "source": [
    "df.head()"
   ]
  },
  {
   "cell_type": "code",
   "execution_count": null,
   "metadata": {},
   "outputs": [],
   "source": []
  },
  {
   "cell_type": "markdown",
   "metadata": {
    "colab_type": "text",
    "id": "E3Mx0tVqjQKs"
   },
   "source": [
    "# Tipos de dados\n",
    "***"
   ]
  },
  {
   "cell_type": "code",
   "execution_count": 4,
   "metadata": {
    "ExecuteTime": {
     "end_time": "2021-08-03T22:52:11.059614Z",
     "start_time": "2021-08-03T22:52:10.938156Z"
    }
   },
   "outputs": [
    {
     "data": {
      "text/html": [
       "<div>\n",
       "<style scoped>\n",
       "    .dataframe tbody tr th:only-of-type {\n",
       "        vertical-align: middle;\n",
       "    }\n",
       "\n",
       "    .dataframe tbody tr th {\n",
       "        vertical-align: top;\n",
       "    }\n",
       "\n",
       "    .dataframe thead th {\n",
       "        text-align: right;\n",
       "    }\n",
       "</style>\n",
       "<table border=\"1\" class=\"dataframe\">\n",
       "  <thead>\n",
       "    <tr style=\"text-align: right;\">\n",
       "      <th></th>\n",
       "      <th>UF</th>\n",
       "      <th>Sexo</th>\n",
       "      <th>Idade</th>\n",
       "      <th>Cor</th>\n",
       "      <th>Anos de Estudo</th>\n",
       "      <th>Renda</th>\n",
       "      <th>Altura</th>\n",
       "    </tr>\n",
       "  </thead>\n",
       "  <tbody>\n",
       "    <tr>\n",
       "      <th>0</th>\n",
       "      <td>11</td>\n",
       "      <td>0</td>\n",
       "      <td>23</td>\n",
       "      <td>8</td>\n",
       "      <td>12</td>\n",
       "      <td>800</td>\n",
       "      <td>1.603808</td>\n",
       "    </tr>\n",
       "    <tr>\n",
       "      <th>1</th>\n",
       "      <td>11</td>\n",
       "      <td>1</td>\n",
       "      <td>23</td>\n",
       "      <td>2</td>\n",
       "      <td>12</td>\n",
       "      <td>1150</td>\n",
       "      <td>1.739790</td>\n",
       "    </tr>\n",
       "    <tr>\n",
       "      <th>2</th>\n",
       "      <td>11</td>\n",
       "      <td>1</td>\n",
       "      <td>35</td>\n",
       "      <td>8</td>\n",
       "      <td>15</td>\n",
       "      <td>880</td>\n",
       "      <td>1.760444</td>\n",
       "    </tr>\n",
       "    <tr>\n",
       "      <th>3</th>\n",
       "      <td>11</td>\n",
       "      <td>0</td>\n",
       "      <td>46</td>\n",
       "      <td>2</td>\n",
       "      <td>6</td>\n",
       "      <td>3500</td>\n",
       "      <td>1.783158</td>\n",
       "    </tr>\n",
       "    <tr>\n",
       "      <th>4</th>\n",
       "      <td>11</td>\n",
       "      <td>1</td>\n",
       "      <td>47</td>\n",
       "      <td>8</td>\n",
       "      <td>9</td>\n",
       "      <td>150</td>\n",
       "      <td>1.690631</td>\n",
       "    </tr>\n",
       "  </tbody>\n",
       "</table>\n",
       "</div>"
      ],
      "text/plain": [
       "   UF  Sexo  Idade  Cor  Anos de Estudo  Renda    Altura\n",
       "0  11     0     23    8              12    800  1.603808\n",
       "1  11     1     23    2              12   1150  1.739790\n",
       "2  11     1     35    8              15    880  1.760444\n",
       "3  11     0     46    2               6   3500  1.783158\n",
       "4  11     1     47    8               9    150  1.690631"
      ]
     },
     "execution_count": 4,
     "metadata": {},
     "output_type": "execute_result"
    }
   ],
   "source": [
    "df.head()"
   ]
  },
  {
   "cell_type": "markdown",
   "metadata": {
    "colab_type": "text",
    "id": "oB4TCBFojQKt"
   },
   "source": [
    "## Variáveis qualitativas ordinais\n",
    "\n",
    "► Variáveis que podem ser ordenadas ou hierarquizardas"
   ]
  },
  {
   "cell_type": "markdown",
   "metadata": {},
   "source": [
    " "
   ]
  },
  {
   "cell_type": "markdown",
   "metadata": {
    "colab_type": "text",
    "id": "i2mCIMyojQKv"
   },
   "source": [
    "## Variáveis qualitativas nominais\n",
    "\n",
    "► Variáveis que não podem ser ordenadas ou hierarquizardas"
   ]
  },
  {
   "cell_type": "markdown",
   "metadata": {},
   "source": [
    "UF, Sexo, Cor, "
   ]
  },
  {
   "cell_type": "markdown",
   "metadata": {
    "colab_type": "text",
    "id": "FQhi81LsjQK5"
   },
   "source": [
    "## Variáveis quantitativas discretas\n",
    "\n",
    "► Variáveis que representam uma contagem onde os valores possíveis formam um conjunto finito ou enumerável."
   ]
  },
  {
   "cell_type": "markdown",
   "metadata": {},
   "source": [
    "Idade, Anos de Estudo"
   ]
  },
  {
   "cell_type": "markdown",
   "metadata": {
    "colab_type": "text",
    "id": "J0L2OkaQjQK7"
   },
   "source": [
    "## Variáveis quantitativas contínuas\n",
    "\n",
    "► Variáveis que representam uma contagem ou mensuração que assumem valores em uma escala contínua (números reais)."
   ]
  },
  {
   "cell_type": "markdown",
   "metadata": {},
   "source": [
    "Renda, Altura"
   ]
  },
  {
   "cell_type": "markdown",
   "metadata": {
    "colab_type": "text",
    "id": "PNIg_4VEjQK_"
   },
   "source": [
    "# Distribuição de frequências\n",
    "***\n",
    "\n",
    "O primeiro passo em um trabalho de análise é o conhecimento do comportamento das variáveis envolvidas no estudo. Utilizando técnicas estatísticas como as análises das <b>DISTRIBUIÇÕES DE FREQUÊNCIAS</b> e <b>HISTOGRAMAS</b> podemos avaliar melhor a forma como os fenômenos em estudo se distribuem."
   ]
  },
  {
   "cell_type": "markdown",
   "metadata": {
    "colab_type": "text",
    "id": "JhpyjkEFjQLA"
   },
   "source": [
    "## Distribuição de frequências para variáveis qualitativas\n",
    "***"
   ]
  },
  {
   "cell_type": "markdown",
   "metadata": {
    "colab_type": "text",
    "id": "SsN3ikjqjQLB"
   },
   "source": [
    "### Obtenha a tabela e o gráfico de distribuição de frequências para a variável sexo"
   ]
  },
  {
   "cell_type": "code",
   "execution_count": 5,
   "metadata": {
    "ExecuteTime": {
     "end_time": "2021-08-03T22:52:11.214442Z",
     "start_time": "2021-08-03T22:52:11.061599Z"
    }
   },
   "outputs": [
    {
     "data": {
      "text/html": [
       "<div>\n",
       "<style scoped>\n",
       "    .dataframe tbody tr th:only-of-type {\n",
       "        vertical-align: middle;\n",
       "    }\n",
       "\n",
       "    .dataframe tbody tr th {\n",
       "        vertical-align: top;\n",
       "    }\n",
       "\n",
       "    .dataframe thead th {\n",
       "        text-align: right;\n",
       "    }\n",
       "</style>\n",
       "<table border=\"1\" class=\"dataframe\">\n",
       "  <thead>\n",
       "    <tr style=\"text-align: right;\">\n",
       "      <th></th>\n",
       "      <th>Frequência Absoluta (fi)</th>\n",
       "      <th>Frequência Percentual (fp)</th>\n",
       "      <th>Frequência Acumulada (fa)</th>\n",
       "    </tr>\n",
       "  </thead>\n",
       "  <tbody>\n",
       "    <tr>\n",
       "      <th>Masculino</th>\n",
       "      <td>53250</td>\n",
       "      <td>69.299844</td>\n",
       "      <td>69.299844</td>\n",
       "    </tr>\n",
       "    <tr>\n",
       "      <th>Feminino</th>\n",
       "      <td>23590</td>\n",
       "      <td>30.700156</td>\n",
       "      <td>100.000000</td>\n",
       "    </tr>\n",
       "  </tbody>\n",
       "</table>\n",
       "</div>"
      ],
      "text/plain": [
       "           Frequência Absoluta (fi)  Frequência Percentual (fp)  \\\n",
       "Masculino                     53250                   69.299844   \n",
       "Feminino                      23590                   30.700156   \n",
       "\n",
       "           Frequência Acumulada (fa)  \n",
       "Masculino                  69.299844  \n",
       "Feminino                  100.000000  "
      ]
     },
     "execution_count": 5,
     "metadata": {},
     "output_type": "execute_result"
    }
   ],
   "source": [
    "# frequencia absoluta: fi\n",
    "fi = df['Sexo'].value_counts()\n",
    "fr = df['Sexo'].value_counts() / df.shape[0]\n",
    "fp = fr * 100\n",
    "\n",
    "#tabela\n",
    "dist_freq_sexo = pd.DataFrame({'Frequência Absoluta (fi)': fi, 'Frequência Percentual (fp)': fp})\n",
    "dist_freq_sexo['Frequência Acumulada (fa)']  = dist_freq_sexo['Frequência Percentual (fp)'].cumsum()\n",
    "dist_freq_sexo.rename(index={0:'Masculino'},inplace=True)\n",
    "dist_freq_sexo.rename(index={1:'Feminino'},inplace=True)\n",
    "dist_freq_sexo"
   ]
  },
  {
   "cell_type": "code",
   "execution_count": 6,
   "metadata": {
    "ExecuteTime": {
     "end_time": "2021-08-03T22:52:11.370839Z",
     "start_time": "2021-08-03T22:52:11.216403Z"
    }
   },
   "outputs": [],
   "source": [
    "# Criando um DataFrame com os nomes corretos para o gráfico\n",
    "dfg = df\n",
    "dfg['Sexo'].replace(to_replace = 0, value =\"Masculino\", inplace=True)\n",
    "dfg['Sexo'].replace(to_replace = 1, value =\"Feminino\", inplace=True)\n",
    "dfg['Cor'].replace(to_replace = 0, value =\"Indígena\", inplace=True)\n",
    "dfg['Cor'].replace(to_replace = 2, value =\"Branca\", inplace=True)\n",
    "dfg['Cor'].replace(to_replace = 4, value =\"Preta\", inplace=True)\n",
    "dfg['Cor'].replace(to_replace = 6, value =\"Amarela\", inplace=True)\n",
    "dfg['Cor'].replace(to_replace = 8, value =\"Parda\", inplace=True)\n",
    "dfg['Cor'].replace(to_replace = 9, value =\"Sem dados\", inplace=True)"
   ]
  },
  {
   "cell_type": "code",
   "execution_count": 7,
   "metadata": {
    "ExecuteTime": {
     "end_time": "2021-08-03T22:52:11.699892Z",
     "start_time": "2021-08-03T22:52:11.372833Z"
    }
   },
   "outputs": [
    {
     "data": {
      "text/plain": [
       "<AxesSubplot:xlabel='Sexo', ylabel='Count'>"
      ]
     },
     "execution_count": 7,
     "metadata": {},
     "output_type": "execute_result"
    },
    {
     "data": {
      "image/png": "[encoded data removed]",
      "text/plain": [
       "<Figure size 432x288 with 1 Axes>"
      ]
     },
     "metadata": {
      "needs_background": "light"
     },
     "output_type": "display_data"
    }
   ],
   "source": [
    "#Gráfico absoluto\n",
    "sns.histplot(data=dfg, x='Sexo')"
   ]
  },
  {
   "cell_type": "code",
   "execution_count": 8,
   "metadata": {
    "ExecuteTime": {
     "end_time": "2021-08-03T22:52:11.907328Z",
     "start_time": "2021-08-03T22:52:11.703796Z"
    }
   },
   "outputs": [
    {
     "data": {
      "text/plain": [
       "<AxesSubplot:xlabel='Sexo', ylabel='Density'>"
      ]
     },
     "execution_count": 8,
     "metadata": {},
     "output_type": "execute_result"
    },
    {
     "data": {
      "image/png": "[encoded data removed]",
      "text/plain": [
       "<Figure size 432x288 with 1 Axes>"
      ]
     },
     "metadata": {
      "needs_background": "light"
     },
     "output_type": "display_data"
    }
   ],
   "source": [
    "# grafico percentual\n",
    "sns.histplot(data=dfg, x='Sexo', stat='density')"
   ]
  },
  {
   "cell_type": "markdown",
   "metadata": {
    "colab": {
     "base_uri": "https://localhost:8080/",
     "height": 111
    },
    "colab_type": "code",
    "id": "B9zkYdcCyHe6",
    "outputId": "870e3f1e-498f-47f2-f9c7-30f748d0870a"
   },
   "source": [
    "### Obtenha a tabela e o gráfico de distribuição de frequências para a variável Sexo cruzada com os dados de Cor"
   ]
  },
  {
   "cell_type": "code",
   "execution_count": 9,
   "metadata": {
    "ExecuteTime": {
     "end_time": "2021-08-03T22:52:11.986848Z",
     "start_time": "2021-08-03T22:52:11.910320Z"
    },
    "colab": {
     "base_uri": "https://localhost:8080/",
     "height": 142
    },
    "colab_type": "code",
    "id": "_MHwBGcdp6dl",
    "outputId": "d2674b4f-214e-4b08-de79-13e443d41d41"
   },
   "outputs": [
    {
     "data": {
      "text/html": [
       "<div>\n",
       "<style scoped>\n",
       "    .dataframe tbody tr th:only-of-type {\n",
       "        vertical-align: middle;\n",
       "    }\n",
       "\n",
       "    .dataframe tbody tr th {\n",
       "        vertical-align: top;\n",
       "    }\n",
       "\n",
       "    .dataframe thead th {\n",
       "        text-align: right;\n",
       "    }\n",
       "</style>\n",
       "<table border=\"1\" class=\"dataframe\">\n",
       "  <thead>\n",
       "    <tr style=\"text-align: right;\">\n",
       "      <th></th>\n",
       "      <th></th>\n",
       "      <th>Frequência Absoluta (fi)</th>\n",
       "      <th>Frequência Percentual (fp)</th>\n",
       "      <th>Frequência Acumulada (fa)</th>\n",
       "    </tr>\n",
       "    <tr>\n",
       "      <th>Cor</th>\n",
       "      <th>Sexo</th>\n",
       "      <th></th>\n",
       "      <th></th>\n",
       "      <th></th>\n",
       "    </tr>\n",
       "  </thead>\n",
       "  <tbody>\n",
       "    <tr>\n",
       "      <th rowspan=\"2\" valign=\"top\">Amarela</th>\n",
       "      <th>Masculino</th>\n",
       "      <td>235</td>\n",
       "      <td>0.305830</td>\n",
       "      <td>0.305830</td>\n",
       "    </tr>\n",
       "    <tr>\n",
       "      <th>Feminino</th>\n",
       "      <td>117</td>\n",
       "      <td>0.152264</td>\n",
       "      <td>0.458095</td>\n",
       "    </tr>\n",
       "    <tr>\n",
       "      <th rowspan=\"2\" valign=\"top\">Branca</th>\n",
       "      <th>Masculino</th>\n",
       "      <td>22194</td>\n",
       "      <td>28.883394</td>\n",
       "      <td>29.341489</td>\n",
       "    </tr>\n",
       "    <tr>\n",
       "      <th>Feminino</th>\n",
       "      <td>9621</td>\n",
       "      <td>12.520822</td>\n",
       "      <td>41.862311</td>\n",
       "    </tr>\n",
       "    <tr>\n",
       "      <th rowspan=\"2\" valign=\"top\">Indígena</th>\n",
       "      <th>Masculino</th>\n",
       "      <td>256</td>\n",
       "      <td>0.333160</td>\n",
       "      <td>42.195471</td>\n",
       "    </tr>\n",
       "    <tr>\n",
       "      <th>Feminino</th>\n",
       "      <td>101</td>\n",
       "      <td>0.131442</td>\n",
       "      <td>42.326913</td>\n",
       "    </tr>\n",
       "    <tr>\n",
       "      <th rowspan=\"2\" valign=\"top\">Parda</th>\n",
       "      <th>Masculino</th>\n",
       "      <td>25063</td>\n",
       "      <td>32.617126</td>\n",
       "      <td>74.944040</td>\n",
       "    </tr>\n",
       "    <tr>\n",
       "      <th>Feminino</th>\n",
       "      <td>10862</td>\n",
       "      <td>14.135867</td>\n",
       "      <td>89.079906</td>\n",
       "    </tr>\n",
       "    <tr>\n",
       "      <th rowspan=\"2\" valign=\"top\">Preta</th>\n",
       "      <th>Masculino</th>\n",
       "      <td>5502</td>\n",
       "      <td>7.160333</td>\n",
       "      <td>96.240239</td>\n",
       "    </tr>\n",
       "    <tr>\n",
       "      <th>Feminino</th>\n",
       "      <td>2889</td>\n",
       "      <td>3.759761</td>\n",
       "      <td>100.000000</td>\n",
       "    </tr>\n",
       "  </tbody>\n",
       "</table>\n",
       "</div>"
      ],
      "text/plain": [
       "                    Frequência Absoluta (fi)  Frequência Percentual (fp)  \\\n",
       "Cor      Sexo                                                              \n",
       "Amarela  Masculino                       235                    0.305830   \n",
       "         Feminino                        117                    0.152264   \n",
       "Branca   Masculino                     22194                   28.883394   \n",
       "         Feminino                       9621                   12.520822   \n",
       "Indígena Masculino                       256                    0.333160   \n",
       "         Feminino                        101                    0.131442   \n",
       "Parda    Masculino                     25063                   32.617126   \n",
       "         Feminino                      10862                   14.135867   \n",
       "Preta    Masculino                      5502                    7.160333   \n",
       "         Feminino                       2889                    3.759761   \n",
       "\n",
       "                    Frequência Acumulada (fa)  \n",
       "Cor      Sexo                                  \n",
       "Amarela  Masculino                   0.305830  \n",
       "         Feminino                    0.458095  \n",
       "Branca   Masculino                  29.341489  \n",
       "         Feminino                   41.862311  \n",
       "Indígena Masculino                  42.195471  \n",
       "         Feminino                   42.326913  \n",
       "Parda    Masculino                  74.944040  \n",
       "         Feminino                   89.079906  \n",
       "Preta    Masculino                  96.240239  \n",
       "         Feminino                  100.000000  "
      ]
     },
     "execution_count": 9,
     "metadata": {},
     "output_type": "execute_result"
    }
   ],
   "source": [
    "fiCor = df['Sexo'].groupby(df['Cor']).value_counts()\n",
    "frCor = df['Sexo'].groupby(df['Cor']).value_counts() / df.shape[0]\n",
    "fpCor = frCor * 100\n",
    "\n",
    "dist_freq_sexo_cor = pd.DataFrame({'Frequência Absoluta (fi)': fiCor, 'Frequência Percentual (fp)': fpCor})\n",
    "dist_freq_sexo_cor['Frequência Acumulada (fa)']  = dist_freq_sexo_cor['Frequência Percentual (fp)'].cumsum()\n",
    "dist_freq_sexo_cor.rename(index={0:'Masculino'}, level = 1, inplace=True)\n",
    "dist_freq_sexo_cor.rename(index={1:'Feminino'}, level = 1, inplace=True)\n",
    "dist_freq_sexo_cor.rename(index={0:'Indígena'}, level = 0, inplace=True)\n",
    "dist_freq_sexo_cor.rename(index={2:'Branca'}, level = 0, inplace=True)\n",
    "dist_freq_sexo_cor.rename(index={4:'Preta'}, level = 0, inplace=True)\n",
    "dist_freq_sexo_cor.rename(index={6:'Amarela'}, level = 0, inplace=True)\n",
    "dist_freq_sexo_cor.rename(index={8:'Parda'}, level = 0, inplace=True)\n",
    "dist_freq_sexo_cor.rename(index={9:'Sem dados'}, level = 0, inplace=True)\n",
    "dist_freq_sexo_cor"
   ]
  },
  {
   "cell_type": "code",
   "execution_count": 40,
   "metadata": {
    "ExecuteTime": {
     "end_time": "2021-08-03T23:01:17.238515Z",
     "start_time": "2021-08-03T23:01:16.861785Z"
    }
   },
   "outputs": [
    {
     "data": {
      "text/plain": [
       "<AxesSubplot:xlabel='Sexo', ylabel='Count'>"
      ]
     },
     "execution_count": 40,
     "metadata": {},
     "output_type": "execute_result"
    },
    {
     "data": {
      "image/png": "[encoded data removed]",
      "text/plain": [
       "<Figure size 432x288 with 1 Axes>"
      ]
     },
     "metadata": {
      "needs_background": "light"
     },
     "output_type": "display_data"
    }
   ],
   "source": [
    "# grafico absoluto\n",
    "sns.histplot(data=dfg, x = 'Sexo', hue='Cor', multiple=\"dodge\", discrete=True)"
   ]
  },
  {
   "cell_type": "code",
   "execution_count": 41,
   "metadata": {
    "ExecuteTime": {
     "end_time": "2021-08-03T23:01:38.807437Z",
     "start_time": "2021-08-03T23:01:38.428676Z"
    }
   },
   "outputs": [
    {
     "data": {
      "text/plain": [
       "<AxesSubplot:xlabel='Sexo', ylabel='Density'>"
      ]
     },
     "execution_count": 41,
     "metadata": {},
     "output_type": "execute_result"
    },
    {
     "data": {
      "image/png": "[encoded data removed]",
      "text/plain": [
       "<Figure size 432x288 with 1 Axes>"
      ]
     },
     "metadata": {
      "needs_background": "light"
     },
     "output_type": "display_data"
    }
   ],
   "source": [
    "sns.histplot(data=dfg, x='Sexo', hue='Cor', stat='density', multiple=\"dodge\", discrete=True)"
   ]
  },
  {
   "cell_type": "markdown",
   "metadata": {
    "colab_type": "text",
    "id": "eaXQUxnXjQLa"
   },
   "source": [
    "## Distribuição de frequências para variáveis quantitativas (classes personalizadas)\n",
    "***"
   ]
  },
  {
   "cell_type": "markdown",
   "metadata": {
    "colab_type": "text",
    "id": "wxsSD-VVjQLb"
   },
   "source": [
    "###  Especificar os limites de cada classe\n",
    "\n",
    "Utilizar a seguinte classificação:\n",
    "\n",
    "<b>A</b> ► Acima de 20 SM\n",
    "\n",
    "<b>B</b> ► De 10 a 20 SM\n",
    "\n",
    "<b>C</b> ► De 4 a 10 SM\n",
    "\n",
    "<b>D</b> ► De 2 a 4 SM\n",
    "\n",
    "<b>E</b> ► Até 2 SM\n",
    "\n",
    "onde <b>SM</b> é o valor do salário mínimo na época. Em nosso caso, <b>R$ 788,00</b> (considerando o ano de 2015):\n",
    "\n",
    "<b>A</b> ► Acima de 15.760\n",
    "\n",
    "<b>B</b> ► De 7.880 a 15.760\n",
    "\n",
    "<b>C</b> ► De 3.152 a 7.880\n",
    "\n",
    "<b>D</b> ► De 1.576 a 3.152\n",
    "\n",
    "<b>E</b> ► Até 1.576\n"
   ]
  },
  {
   "cell_type": "code",
   "execution_count": 12,
   "metadata": {
    "ExecuteTime": {
     "end_time": "2021-08-03T22:52:12.746341Z",
     "start_time": "2021-08-03T22:52:12.731350Z"
    }
   },
   "outputs": [],
   "source": [
    "dfg['SM']  = ''"
   ]
  },
  {
   "cell_type": "code",
   "execution_count": 13,
   "metadata": {
    "ExecuteTime": {
     "end_time": "2021-08-03T22:52:12.902118Z",
     "start_time": "2021-08-03T22:52:12.748304Z"
    }
   },
   "outputs": [
    {
     "name": "stderr",
     "output_type": "stream",
     "text": [
      "C:\\ProgramData\\Anaconda3\\lib\\site-packages\\pandas\\core\\indexing.py:1637: SettingWithCopyWarning: \n",
      "A value is trying to be set on a copy of a slice from a DataFrame\n",
      "\n",
      "See the caveats in the documentation: https://pandas.pydata.org/pandas-docs/stable/user_guide/indexing.html#returning-a-view-versus-a-copy\n",
      "  self._setitem_single_block(indexer, value, name)\n",
      "C:\\ProgramData\\Anaconda3\\lib\\site-packages\\pandas\\core\\indexing.py:1637: SettingWithCopyWarning: \n",
      "A value is trying to be set on a copy of a slice from a DataFrame\n",
      "\n",
      "See the caveats in the documentation: https://pandas.pydata.org/pandas-docs/stable/user_guide/indexing.html#returning-a-view-versus-a-copy\n",
      "  self._setitem_single_block(indexer, value, name)\n",
      "C:\\ProgramData\\Anaconda3\\lib\\site-packages\\pandas\\core\\indexing.py:1637: SettingWithCopyWarning: \n",
      "A value is trying to be set on a copy of a slice from a DataFrame\n",
      "\n",
      "See the caveats in the documentation: https://pandas.pydata.org/pandas-docs/stable/user_guide/indexing.html#returning-a-view-versus-a-copy\n",
      "  self._setitem_single_block(indexer, value, name)\n",
      "C:\\ProgramData\\Anaconda3\\lib\\site-packages\\pandas\\core\\indexing.py:1637: SettingWithCopyWarning: \n",
      "A value is trying to be set on a copy of a slice from a DataFrame\n",
      "\n",
      "See the caveats in the documentation: https://pandas.pydata.org/pandas-docs/stable/user_guide/indexing.html#returning-a-view-versus-a-copy\n",
      "  self._setitem_single_block(indexer, value, name)\n",
      "C:\\ProgramData\\Anaconda3\\lib\\site-packages\\pandas\\core\\indexing.py:1637: SettingWithCopyWarning: \n",
      "A value is trying to be set on a copy of a slice from a DataFrame\n",
      "\n",
      "See the caveats in the documentation: https://pandas.pydata.org/pandas-docs/stable/user_guide/indexing.html#returning-a-view-versus-a-copy\n",
      "  self._setitem_single_block(indexer, value, name)\n"
     ]
    },
    {
     "data": {
      "text/html": [
       "<div>\n",
       "<style scoped>\n",
       "    .dataframe tbody tr th:only-of-type {\n",
       "        vertical-align: middle;\n",
       "    }\n",
       "\n",
       "    .dataframe tbody tr th {\n",
       "        vertical-align: top;\n",
       "    }\n",
       "\n",
       "    .dataframe thead th {\n",
       "        text-align: right;\n",
       "    }\n",
       "</style>\n",
       "<table border=\"1\" class=\"dataframe\">\n",
       "  <thead>\n",
       "    <tr style=\"text-align: right;\">\n",
       "      <th></th>\n",
       "      <th>UF</th>\n",
       "      <th>Sexo</th>\n",
       "      <th>Idade</th>\n",
       "      <th>Cor</th>\n",
       "      <th>Anos de Estudo</th>\n",
       "      <th>Renda</th>\n",
       "      <th>Altura</th>\n",
       "      <th>SM</th>\n",
       "    </tr>\n",
       "  </thead>\n",
       "  <tbody>\n",
       "    <tr>\n",
       "      <th>0</th>\n",
       "      <td>11</td>\n",
       "      <td>Masculino</td>\n",
       "      <td>23</td>\n",
       "      <td>Parda</td>\n",
       "      <td>12</td>\n",
       "      <td>800</td>\n",
       "      <td>1.603808</td>\n",
       "      <td>E</td>\n",
       "    </tr>\n",
       "    <tr>\n",
       "      <th>1</th>\n",
       "      <td>11</td>\n",
       "      <td>Feminino</td>\n",
       "      <td>23</td>\n",
       "      <td>Branca</td>\n",
       "      <td>12</td>\n",
       "      <td>1150</td>\n",
       "      <td>1.739790</td>\n",
       "      <td>E</td>\n",
       "    </tr>\n",
       "    <tr>\n",
       "      <th>2</th>\n",
       "      <td>11</td>\n",
       "      <td>Feminino</td>\n",
       "      <td>35</td>\n",
       "      <td>Parda</td>\n",
       "      <td>15</td>\n",
       "      <td>880</td>\n",
       "      <td>1.760444</td>\n",
       "      <td>E</td>\n",
       "    </tr>\n",
       "    <tr>\n",
       "      <th>3</th>\n",
       "      <td>11</td>\n",
       "      <td>Masculino</td>\n",
       "      <td>46</td>\n",
       "      <td>Branca</td>\n",
       "      <td>6</td>\n",
       "      <td>3500</td>\n",
       "      <td>1.783158</td>\n",
       "      <td>C</td>\n",
       "    </tr>\n",
       "    <tr>\n",
       "      <th>4</th>\n",
       "      <td>11</td>\n",
       "      <td>Feminino</td>\n",
       "      <td>47</td>\n",
       "      <td>Parda</td>\n",
       "      <td>9</td>\n",
       "      <td>150</td>\n",
       "      <td>1.690631</td>\n",
       "      <td>E</td>\n",
       "    </tr>\n",
       "    <tr>\n",
       "      <th>...</th>\n",
       "      <td>...</td>\n",
       "      <td>...</td>\n",
       "      <td>...</td>\n",
       "      <td>...</td>\n",
       "      <td>...</td>\n",
       "      <td>...</td>\n",
       "      <td>...</td>\n",
       "      <td>...</td>\n",
       "    </tr>\n",
       "    <tr>\n",
       "      <th>76835</th>\n",
       "      <td>53</td>\n",
       "      <td>Feminino</td>\n",
       "      <td>46</td>\n",
       "      <td>Branca</td>\n",
       "      <td>11</td>\n",
       "      <td>812</td>\n",
       "      <td>1.687030</td>\n",
       "      <td>E</td>\n",
       "    </tr>\n",
       "    <tr>\n",
       "      <th>76836</th>\n",
       "      <td>53</td>\n",
       "      <td>Masculino</td>\n",
       "      <td>30</td>\n",
       "      <td>Preta</td>\n",
       "      <td>7</td>\n",
       "      <td>1500</td>\n",
       "      <td>1.792934</td>\n",
       "      <td>E</td>\n",
       "    </tr>\n",
       "    <tr>\n",
       "      <th>76837</th>\n",
       "      <td>53</td>\n",
       "      <td>Masculino</td>\n",
       "      <td>32</td>\n",
       "      <td>Parda</td>\n",
       "      <td>12</td>\n",
       "      <td>1300</td>\n",
       "      <td>1.830587</td>\n",
       "      <td>E</td>\n",
       "    </tr>\n",
       "    <tr>\n",
       "      <th>76838</th>\n",
       "      <td>53</td>\n",
       "      <td>Masculino</td>\n",
       "      <td>57</td>\n",
       "      <td>Parda</td>\n",
       "      <td>4</td>\n",
       "      <td>1500</td>\n",
       "      <td>1.726344</td>\n",
       "      <td>E</td>\n",
       "    </tr>\n",
       "    <tr>\n",
       "      <th>76839</th>\n",
       "      <td>53</td>\n",
       "      <td>Masculino</td>\n",
       "      <td>38</td>\n",
       "      <td>Parda</td>\n",
       "      <td>4</td>\n",
       "      <td>900</td>\n",
       "      <td>1.658305</td>\n",
       "      <td>E</td>\n",
       "    </tr>\n",
       "  </tbody>\n",
       "</table>\n",
       "<p>76840 rows × 8 columns</p>\n",
       "</div>"
      ],
      "text/plain": [
       "       UF       Sexo  Idade     Cor  Anos de Estudo  Renda    Altura SM\n",
       "0      11  Masculino     23   Parda              12    800  1.603808  E\n",
       "1      11   Feminino     23  Branca              12   1150  1.739790  E\n",
       "2      11   Feminino     35   Parda              15    880  1.760444  E\n",
       "3      11  Masculino     46  Branca               6   3500  1.783158  C\n",
       "4      11   Feminino     47   Parda               9    150  1.690631  E\n",
       "...    ..        ...    ...     ...             ...    ...       ... ..\n",
       "76835  53   Feminino     46  Branca              11    812  1.687030  E\n",
       "76836  53  Masculino     30   Preta               7   1500  1.792934  E\n",
       "76837  53  Masculino     32   Parda              12   1300  1.830587  E\n",
       "76838  53  Masculino     57   Parda               4   1500  1.726344  E\n",
       "76839  53  Masculino     38   Parda               4    900  1.658305  E\n",
       "\n",
       "[76840 rows x 8 columns]"
      ]
     },
     "execution_count": 13,
     "metadata": {},
     "output_type": "execute_result"
    }
   ],
   "source": [
    "dfg['SM'].iloc[dfg['Renda'] <= 1576] = 'E'\n",
    "dfg['SM'].iloc[(dfg['Renda'] > 1576) & (dfg['Renda'] <= 3152)] = 'D'\n",
    "dfg['SM'].iloc[(dfg['Renda'] > 3152) & (dfg['Renda'] <= 7880)] = 'C'\n",
    "dfg['SM'].iloc[(dfg['Renda'] > 7880) & (dfg['Renda'] <= 15760)] = 'B'\n",
    "dfg['SM'].iloc[(dfg['Renda'] > 15760)] = 'A'\n",
    "dfg"
   ]
  },
  {
   "cell_type": "markdown",
   "metadata": {},
   "source": [
    "### Criar um dataframe que contenha essas classes personalizadas, utilizando o `pd.cut`."
   ]
  },
  {
   "cell_type": "code",
   "execution_count": 14,
   "metadata": {
    "ExecuteTime": {
     "end_time": "2021-08-03T22:52:13.028242Z",
     "start_time": "2021-08-03T22:52:12.904115Z"
    }
   },
   "outputs": [
    {
     "data": {
      "text/html": [
       "<div>\n",
       "<style scoped>\n",
       "    .dataframe tbody tr th:only-of-type {\n",
       "        vertical-align: middle;\n",
       "    }\n",
       "\n",
       "    .dataframe tbody tr th {\n",
       "        vertical-align: top;\n",
       "    }\n",
       "\n",
       "    .dataframe thead th {\n",
       "        text-align: right;\n",
       "    }\n",
       "</style>\n",
       "<table border=\"1\" class=\"dataframe\">\n",
       "  <thead>\n",
       "    <tr style=\"text-align: right;\">\n",
       "      <th></th>\n",
       "      <th>UF</th>\n",
       "      <th>Sexo</th>\n",
       "      <th>Idade</th>\n",
       "      <th>Cor</th>\n",
       "      <th>Anos de Estudo</th>\n",
       "      <th>Renda</th>\n",
       "      <th>Altura</th>\n",
       "      <th>SM</th>\n",
       "    </tr>\n",
       "  </thead>\n",
       "  <tbody>\n",
       "    <tr>\n",
       "      <th>0</th>\n",
       "      <td>11</td>\n",
       "      <td>Masculino</td>\n",
       "      <td>23</td>\n",
       "      <td>Parda</td>\n",
       "      <td>12</td>\n",
       "      <td>800</td>\n",
       "      <td>1.603808</td>\n",
       "      <td>E</td>\n",
       "    </tr>\n",
       "    <tr>\n",
       "      <th>1</th>\n",
       "      <td>11</td>\n",
       "      <td>Feminino</td>\n",
       "      <td>23</td>\n",
       "      <td>Branca</td>\n",
       "      <td>12</td>\n",
       "      <td>1150</td>\n",
       "      <td>1.739790</td>\n",
       "      <td>E</td>\n",
       "    </tr>\n",
       "    <tr>\n",
       "      <th>2</th>\n",
       "      <td>11</td>\n",
       "      <td>Feminino</td>\n",
       "      <td>35</td>\n",
       "      <td>Parda</td>\n",
       "      <td>15</td>\n",
       "      <td>880</td>\n",
       "      <td>1.760444</td>\n",
       "      <td>E</td>\n",
       "    </tr>\n",
       "    <tr>\n",
       "      <th>3</th>\n",
       "      <td>11</td>\n",
       "      <td>Masculino</td>\n",
       "      <td>46</td>\n",
       "      <td>Branca</td>\n",
       "      <td>6</td>\n",
       "      <td>3500</td>\n",
       "      <td>1.783158</td>\n",
       "      <td>C</td>\n",
       "    </tr>\n",
       "    <tr>\n",
       "      <th>4</th>\n",
       "      <td>11</td>\n",
       "      <td>Feminino</td>\n",
       "      <td>47</td>\n",
       "      <td>Parda</td>\n",
       "      <td>9</td>\n",
       "      <td>150</td>\n",
       "      <td>1.690631</td>\n",
       "      <td>E</td>\n",
       "    </tr>\n",
       "    <tr>\n",
       "      <th>...</th>\n",
       "      <td>...</td>\n",
       "      <td>...</td>\n",
       "      <td>...</td>\n",
       "      <td>...</td>\n",
       "      <td>...</td>\n",
       "      <td>...</td>\n",
       "      <td>...</td>\n",
       "      <td>...</td>\n",
       "    </tr>\n",
       "    <tr>\n",
       "      <th>76835</th>\n",
       "      <td>53</td>\n",
       "      <td>Feminino</td>\n",
       "      <td>46</td>\n",
       "      <td>Branca</td>\n",
       "      <td>11</td>\n",
       "      <td>812</td>\n",
       "      <td>1.687030</td>\n",
       "      <td>E</td>\n",
       "    </tr>\n",
       "    <tr>\n",
       "      <th>76836</th>\n",
       "      <td>53</td>\n",
       "      <td>Masculino</td>\n",
       "      <td>30</td>\n",
       "      <td>Preta</td>\n",
       "      <td>7</td>\n",
       "      <td>1500</td>\n",
       "      <td>1.792934</td>\n",
       "      <td>E</td>\n",
       "    </tr>\n",
       "    <tr>\n",
       "      <th>76837</th>\n",
       "      <td>53</td>\n",
       "      <td>Masculino</td>\n",
       "      <td>32</td>\n",
       "      <td>Parda</td>\n",
       "      <td>12</td>\n",
       "      <td>1300</td>\n",
       "      <td>1.830587</td>\n",
       "      <td>E</td>\n",
       "    </tr>\n",
       "    <tr>\n",
       "      <th>76838</th>\n",
       "      <td>53</td>\n",
       "      <td>Masculino</td>\n",
       "      <td>57</td>\n",
       "      <td>Parda</td>\n",
       "      <td>4</td>\n",
       "      <td>1500</td>\n",
       "      <td>1.726344</td>\n",
       "      <td>E</td>\n",
       "    </tr>\n",
       "    <tr>\n",
       "      <th>76839</th>\n",
       "      <td>53</td>\n",
       "      <td>Masculino</td>\n",
       "      <td>38</td>\n",
       "      <td>Parda</td>\n",
       "      <td>4</td>\n",
       "      <td>900</td>\n",
       "      <td>1.658305</td>\n",
       "      <td>E</td>\n",
       "    </tr>\n",
       "  </tbody>\n",
       "</table>\n",
       "<p>76840 rows × 8 columns</p>\n",
       "</div>"
      ],
      "text/plain": [
       "       UF       Sexo  Idade     Cor  Anos de Estudo  Renda    Altura SM\n",
       "0      11  Masculino     23   Parda              12    800  1.603808  E\n",
       "1      11   Feminino     23  Branca              12   1150  1.739790  E\n",
       "2      11   Feminino     35   Parda              15    880  1.760444  E\n",
       "3      11  Masculino     46  Branca               6   3500  1.783158  C\n",
       "4      11   Feminino     47   Parda               9    150  1.690631  E\n",
       "...    ..        ...    ...     ...             ...    ...       ... ..\n",
       "76835  53   Feminino     46  Branca              11    812  1.687030  E\n",
       "76836  53  Masculino     30   Preta               7   1500  1.792934  E\n",
       "76837  53  Masculino     32   Parda              12   1300  1.830587  E\n",
       "76838  53  Masculino     57   Parda               4   1500  1.726344  E\n",
       "76839  53  Masculino     38   Parda               4    900  1.658305  E\n",
       "\n",
       "[76840 rows x 8 columns]"
      ]
     },
     "execution_count": 14,
     "metadata": {},
     "output_type": "execute_result"
    }
   ],
   "source": [
    "dfRenda = df\n",
    "dfRenda['SM'] = pd.cut(dfRenda['Renda'], bins = [0, 1576, 3152, 7880, 15760, dfRenda['Renda'].max()], labels = list('EDCBA'))\n",
    "dfRenda['SM'] = dfRenda['SM'].astype(str)\n",
    "\n",
    "dfRenda"
   ]
  },
  {
   "cell_type": "markdown",
   "metadata": {
    "colab_type": "text",
    "id": "IQhlvrQUjQLk"
   },
   "source": [
    "### Criar a tabela de distribuição de frequências do dataframe obtido acima."
   ]
  },
  {
   "cell_type": "code",
   "execution_count": 15,
   "metadata": {
    "ExecuteTime": {
     "end_time": "2021-08-03T22:52:13.185635Z",
     "start_time": "2021-08-03T22:52:13.029240Z"
    }
   },
   "outputs": [
    {
     "data": {
      "text/html": [
       "<div>\n",
       "<style scoped>\n",
       "    .dataframe tbody tr th:only-of-type {\n",
       "        vertical-align: middle;\n",
       "    }\n",
       "\n",
       "    .dataframe tbody tr th {\n",
       "        vertical-align: top;\n",
       "    }\n",
       "\n",
       "    .dataframe thead th {\n",
       "        text-align: right;\n",
       "    }\n",
       "</style>\n",
       "<table border=\"1\" class=\"dataframe\">\n",
       "  <thead>\n",
       "    <tr style=\"text-align: right;\">\n",
       "      <th></th>\n",
       "      <th>Frequência Absoluta (fi)</th>\n",
       "      <th>Frequência Percentual (fp)</th>\n",
       "      <th>Frequência Acumulada (fa)</th>\n",
       "    </tr>\n",
       "  </thead>\n",
       "  <tbody>\n",
       "    <tr>\n",
       "      <th>E</th>\n",
       "      <td>46888</td>\n",
       "      <td>61.020302</td>\n",
       "      <td>61.020302</td>\n",
       "    </tr>\n",
       "    <tr>\n",
       "      <th>D</th>\n",
       "      <td>16700</td>\n",
       "      <td>21.733472</td>\n",
       "      <td>82.753774</td>\n",
       "    </tr>\n",
       "    <tr>\n",
       "      <th>C</th>\n",
       "      <td>7599</td>\n",
       "      <td>9.889381</td>\n",
       "      <td>92.643155</td>\n",
       "    </tr>\n",
       "    <tr>\n",
       "      <th>B</th>\n",
       "      <td>2178</td>\n",
       "      <td>2.834461</td>\n",
       "      <td>95.477616</td>\n",
       "    </tr>\n",
       "    <tr>\n",
       "      <th>A</th>\n",
       "      <td>608</td>\n",
       "      <td>0.791255</td>\n",
       "      <td>96.268870</td>\n",
       "    </tr>\n",
       "  </tbody>\n",
       "</table>\n",
       "</div>"
      ],
      "text/plain": [
       "   Frequência Absoluta (fi)  Frequência Percentual (fp)  \\\n",
       "E                     46888                   61.020302   \n",
       "D                     16700                   21.733472   \n",
       "C                      7599                    9.889381   \n",
       "B                      2178                    2.834461   \n",
       "A                       608                    0.791255   \n",
       "\n",
       "   Frequência Acumulada (fa)  \n",
       "E                  61.020302  \n",
       "D                  82.753774  \n",
       "C                  92.643155  \n",
       "B                  95.477616  \n",
       "A                  96.268870  "
      ]
     },
     "execution_count": 15,
     "metadata": {},
     "output_type": "execute_result"
    }
   ],
   "source": [
    "fi = dfRenda['SM'].value_counts()\n",
    "fr = dfRenda['SM'].value_counts() / dfRenda.shape[0]\n",
    "fp = fr * 100\n",
    "\n",
    "#tabela\n",
    "dist_freq_renda = pd.DataFrame({'Frequência Absoluta (fi)': fi, 'Frequência Percentual (fp)': fp})\n",
    "dist_freq_renda['Frequência Acumulada (fa)']  = dist_freq_renda['Frequência Percentual (fp)'].cumsum()\n",
    "\n",
    "dist_freq_renda"
   ]
  },
  {
   "cell_type": "code",
   "execution_count": 16,
   "metadata": {
    "ExecuteTime": {
     "end_time": "2021-08-03T22:52:13.438036Z",
     "start_time": "2021-08-03T22:52:13.187634Z"
    },
    "colab": {
     "base_uri": "https://localhost:8080/",
     "height": 204
    },
    "colab_type": "code",
    "id": "uTMEJXUHjQLs",
    "outputId": "ce17e408-9d56-44b2-fb26-a4037df3af00"
   },
   "outputs": [
    {
     "data": {
      "text/plain": [
       "<AxesSubplot:>"
      ]
     },
     "execution_count": 16,
     "metadata": {},
     "output_type": "execute_result"
    },
    {
     "data": {
      "image/png": "[encoded data removed]",
      "text/plain": [
       "<Figure size 432x288 with 1 Axes>"
      ]
     },
     "metadata": {
      "needs_background": "light"
     },
     "output_type": "display_data"
    }
   ],
   "source": [
    "dfRenda['SM'].value_counts().plot(kind='bar')"
   ]
  },
  {
   "cell_type": "markdown",
   "metadata": {
    "colab_type": "text",
    "id": "ViJYvvjujQLu"
   },
   "source": [
    "## Distribuição de frequências para variáveis quantitativas (classes de amplitude fixa)\n",
    "***"
   ]
  },
  {
   "cell_type": "markdown",
   "metadata": {},
   "source": [
    "Obtenha a tabela e o gráfico de distribuições de frequências da variável de renda, mas, dessa vez, utilizando a Regra de Sturges para definir as classes de amplitude fixa."
   ]
  },
  {
   "cell_type": "markdown",
   "metadata": {
    "colab_type": "text",
    "id": "s9UGNaMzjQLy"
   },
   "source": [
    "### Definindo o número de classes e criando o dataframe com as classes"
   ]
  },
  {
   "cell_type": "markdown",
   "metadata": {},
   "source": [
    "**Regra de Sturges**\n",
    "\n",
    "$$k = 1 + \\frac{10}{3}\\log_{10}n$$"
   ]
  },
  {
   "cell_type": "code",
   "execution_count": 17,
   "metadata": {
    "ExecuteTime": {
     "end_time": "2021-08-03T22:52:13.454017Z",
     "start_time": "2021-08-03T22:52:13.440032Z"
    },
    "colab": {
     "base_uri": "https://localhost:8080/",
     "height": 35
    },
    "colab_type": "code",
    "id": "B_Y66_KFjQL4",
    "outputId": "b93f7e32-c1f3-46b0-86d2-4575bab25906"
   },
   "outputs": [
    {
     "name": "stdout",
     "output_type": "stream",
     "text": [
      "k:  17\n"
     ]
    }
   ],
   "source": [
    "# 1. Definir o numero de amostras n\n",
    "n = df.shape[0]\n",
    "\n",
    "# 2. calcular o k\n",
    "k = round(1 + 10 / 3 * np.log10(n))\n",
    "print('k: ', k)"
   ]
  },
  {
   "cell_type": "markdown",
   "metadata": {
    "colab_type": "text",
    "id": "5eO-RhaljQL6"
   },
   "source": [
    "### Criando a tabela e o gráfico de distribução de frequências"
   ]
  },
  {
   "cell_type": "code",
   "execution_count": 18,
   "metadata": {
    "ExecuteTime": {
     "end_time": "2021-08-03T22:52:13.610344Z",
     "start_time": "2021-08-03T22:52:13.456011Z"
    },
    "colab": {},
    "colab_type": "code",
    "id": "sVVA-jvDjQL7"
   },
   "outputs": [],
   "source": [
    "dfSturges = df\n",
    "dfSturges['Renda'] = dfSturges['Renda'].astype(int)\n",
    "dfSturges['SM'] = pd.cut(dfSturges['Renda'], bins = k, right = False, labels=('Q', 'P', 'O', 'N', 'M', 'L', 'K', 'J', 'I', 'H', 'G', 'F', 'E', 'D', 'C', 'B', 'A'))\n",
    "dfSturges['Renda'].replace(to_replace = 0, value = np.nan, inplace=True)\n",
    "dfSturges = dfSturges.dropna()"
   ]
  },
  {
   "cell_type": "code",
   "execution_count": 19,
   "metadata": {
    "ExecuteTime": {
     "end_time": "2021-08-03T22:52:13.704102Z",
     "start_time": "2021-08-03T22:52:13.612445Z"
    },
    "colab": {
     "base_uri": "https://localhost:8080/",
     "height": 341
    },
    "colab_type": "code",
    "id": "-ylxSip1jQL9",
    "outputId": "d362e353-a3c9-4721-efd3-2a8ff7c85ab5"
   },
   "outputs": [
    {
     "data": {
      "text/html": [
       "<div>\n",
       "<style scoped>\n",
       "    .dataframe tbody tr th:only-of-type {\n",
       "        vertical-align: middle;\n",
       "    }\n",
       "\n",
       "    .dataframe tbody tr th {\n",
       "        vertical-align: top;\n",
       "    }\n",
       "\n",
       "    .dataframe thead th {\n",
       "        text-align: right;\n",
       "    }\n",
       "</style>\n",
       "<table border=\"1\" class=\"dataframe\">\n",
       "  <thead>\n",
       "    <tr style=\"text-align: right;\">\n",
       "      <th></th>\n",
       "      <th>Frequência Absoluta (fi)</th>\n",
       "      <th>Frequência Percentual (fp)</th>\n",
       "      <th>Frequência Acumulada (fa)</th>\n",
       "    </tr>\n",
       "  </thead>\n",
       "  <tbody>\n",
       "    <tr>\n",
       "      <th>Q</th>\n",
       "      <td>72727</td>\n",
       "      <td>98.315602</td>\n",
       "      <td>98.315602</td>\n",
       "    </tr>\n",
       "    <tr>\n",
       "      <th>P</th>\n",
       "      <td>1022</td>\n",
       "      <td>1.381585</td>\n",
       "      <td>99.697187</td>\n",
       "    </tr>\n",
       "    <tr>\n",
       "      <th>O</th>\n",
       "      <td>169</td>\n",
       "      <td>0.228462</td>\n",
       "      <td>99.925649</td>\n",
       "    </tr>\n",
       "    <tr>\n",
       "      <th>N</th>\n",
       "      <td>19</td>\n",
       "      <td>0.025685</td>\n",
       "      <td>99.951334</td>\n",
       "    </tr>\n",
       "    <tr>\n",
       "      <th>M</th>\n",
       "      <td>16</td>\n",
       "      <td>0.021630</td>\n",
       "      <td>99.972963</td>\n",
       "    </tr>\n",
       "    <tr>\n",
       "      <th>I</th>\n",
       "      <td>6</td>\n",
       "      <td>0.008111</td>\n",
       "      <td>99.981074</td>\n",
       "    </tr>\n",
       "    <tr>\n",
       "      <th>L</th>\n",
       "      <td>5</td>\n",
       "      <td>0.006759</td>\n",
       "      <td>99.987833</td>\n",
       "    </tr>\n",
       "    <tr>\n",
       "      <th>K</th>\n",
       "      <td>4</td>\n",
       "      <td>0.005407</td>\n",
       "      <td>99.993241</td>\n",
       "    </tr>\n",
       "    <tr>\n",
       "      <th>A</th>\n",
       "      <td>3</td>\n",
       "      <td>0.004056</td>\n",
       "      <td>99.997296</td>\n",
       "    </tr>\n",
       "    <tr>\n",
       "      <th>J</th>\n",
       "      <td>1</td>\n",
       "      <td>0.001352</td>\n",
       "      <td>99.998648</td>\n",
       "    </tr>\n",
       "    <tr>\n",
       "      <th>G</th>\n",
       "      <td>1</td>\n",
       "      <td>0.001352</td>\n",
       "      <td>100.000000</td>\n",
       "    </tr>\n",
       "    <tr>\n",
       "      <th>H</th>\n",
       "      <td>0</td>\n",
       "      <td>0.000000</td>\n",
       "      <td>100.000000</td>\n",
       "    </tr>\n",
       "    <tr>\n",
       "      <th>F</th>\n",
       "      <td>0</td>\n",
       "      <td>0.000000</td>\n",
       "      <td>100.000000</td>\n",
       "    </tr>\n",
       "    <tr>\n",
       "      <th>E</th>\n",
       "      <td>0</td>\n",
       "      <td>0.000000</td>\n",
       "      <td>100.000000</td>\n",
       "    </tr>\n",
       "    <tr>\n",
       "      <th>D</th>\n",
       "      <td>0</td>\n",
       "      <td>0.000000</td>\n",
       "      <td>100.000000</td>\n",
       "    </tr>\n",
       "    <tr>\n",
       "      <th>C</th>\n",
       "      <td>0</td>\n",
       "      <td>0.000000</td>\n",
       "      <td>100.000000</td>\n",
       "    </tr>\n",
       "    <tr>\n",
       "      <th>B</th>\n",
       "      <td>0</td>\n",
       "      <td>0.000000</td>\n",
       "      <td>100.000000</td>\n",
       "    </tr>\n",
       "  </tbody>\n",
       "</table>\n",
       "</div>"
      ],
      "text/plain": [
       "   Frequência Absoluta (fi)  Frequência Percentual (fp)  \\\n",
       "Q                     72727                   98.315602   \n",
       "P                      1022                    1.381585   \n",
       "O                       169                    0.228462   \n",
       "N                        19                    0.025685   \n",
       "M                        16                    0.021630   \n",
       "I                         6                    0.008111   \n",
       "L                         5                    0.006759   \n",
       "K                         4                    0.005407   \n",
       "A                         3                    0.004056   \n",
       "J                         1                    0.001352   \n",
       "G                         1                    0.001352   \n",
       "H                         0                    0.000000   \n",
       "F                         0                    0.000000   \n",
       "E                         0                    0.000000   \n",
       "D                         0                    0.000000   \n",
       "C                         0                    0.000000   \n",
       "B                         0                    0.000000   \n",
       "\n",
       "   Frequência Acumulada (fa)  \n",
       "Q                  98.315602  \n",
       "P                  99.697187  \n",
       "O                  99.925649  \n",
       "N                  99.951334  \n",
       "M                  99.972963  \n",
       "I                  99.981074  \n",
       "L                  99.987833  \n",
       "K                  99.993241  \n",
       "A                  99.997296  \n",
       "J                  99.998648  \n",
       "G                 100.000000  \n",
       "H                 100.000000  \n",
       "F                 100.000000  \n",
       "E                 100.000000  \n",
       "D                 100.000000  \n",
       "C                 100.000000  \n",
       "B                 100.000000  "
      ]
     },
     "execution_count": 19,
     "metadata": {},
     "output_type": "execute_result"
    }
   ],
   "source": [
    "fi = dfSturges['SM'].value_counts()\n",
    "fr = dfSturges['SM'].value_counts() / dfSturges.shape[0]\n",
    "fp = fr * 100\n",
    "#tabela\n",
    "dist_freq_renda = pd.DataFrame({'Frequência Absoluta (fi)': fi, 'Frequência Percentual (fp)': fp})\n",
    "dist_freq_renda['Frequência Acumulada (fa)']  = dist_freq_renda['Frequência Percentual (fp)'].cumsum()\n",
    "dist_freq_renda"
   ]
  },
  {
   "cell_type": "code",
   "execution_count": 20,
   "metadata": {
    "ExecuteTime": {
     "end_time": "2021-08-03T22:52:14.081938Z",
     "start_time": "2021-08-03T22:52:13.706098Z"
    }
   },
   "outputs": [
    {
     "data": {
      "text/plain": [
       "<AxesSubplot:xlabel='SM', ylabel='Count'>"
      ]
     },
     "execution_count": 20,
     "metadata": {},
     "output_type": "execute_result"
    },
    {
     "data": {
      "image/png": "[encoded data removed]",
      "text/plain": [
       "<Figure size 432x288 with 1 Axes>"
      ]
     },
     "metadata": {
      "needs_background": "light"
     },
     "output_type": "display_data"
    }
   ],
   "source": [
    "sns.histplot(data=dfSturges, x='SM')"
   ]
  },
  {
   "cell_type": "code",
   "execution_count": 21,
   "metadata": {
    "ExecuteTime": {
     "end_time": "2021-08-03T22:52:14.349994Z",
     "start_time": "2021-08-03T22:52:14.083936Z"
    }
   },
   "outputs": [
    {
     "data": {
      "text/plain": [
       "<AxesSubplot:xlabel='SM', ylabel='Density'>"
      ]
     },
     "execution_count": 21,
     "metadata": {},
     "output_type": "execute_result"
    },
    {
     "data": {
      "image/png": "[encoded data removed]",
      "text/plain": [
       "<Figure size 432x288 with 1 Axes>"
      ]
     },
     "metadata": {
      "needs_background": "light"
     },
     "output_type": "display_data"
    }
   ],
   "source": [
    "sns.histplot(data=dfSturges, x='SM', stat='density')"
   ]
  },
  {
   "cell_type": "markdown",
   "metadata": {},
   "source": [
    "#### Analisando os valores sem as categorias \"P\" e \"Q\"\n",
    "\n",
    "Realizando um estudo à parte das categorias menores, que não chegam a constar nos gráficos, que podem ser condierados outliers."
   ]
  },
  {
   "cell_type": "code",
   "execution_count": 22,
   "metadata": {
    "ExecuteTime": {
     "end_time": "2021-08-03T22:52:14.397203Z",
     "start_time": "2021-08-03T22:52:14.351739Z"
    }
   },
   "outputs": [
    {
     "name": "stderr",
     "output_type": "stream",
     "text": [
      "C:\\ProgramData\\Anaconda3\\lib\\site-packages\\pandas\\core\\indexing.py:1637: SettingWithCopyWarning: \n",
      "A value is trying to be set on a copy of a slice from a DataFrame\n",
      "\n",
      "See the caveats in the documentation: https://pandas.pydata.org/pandas-docs/stable/user_guide/indexing.html#returning-a-view-versus-a-copy\n",
      "  self._setitem_single_block(indexer, value, name)\n",
      "C:\\ProgramData\\Anaconda3\\lib\\site-packages\\pandas\\core\\indexing.py:692: SettingWithCopyWarning: \n",
      "A value is trying to be set on a copy of a slice from a DataFrame\n",
      "\n",
      "See the caveats in the documentation: https://pandas.pydata.org/pandas-docs/stable/user_guide/indexing.html#returning-a-view-versus-a-copy\n",
      "  iloc._setitem_with_indexer(indexer, value, self.name)\n"
     ]
    },
    {
     "data": {
      "text/html": [
       "<div>\n",
       "<style scoped>\n",
       "    .dataframe tbody tr th:only-of-type {\n",
       "        vertical-align: middle;\n",
       "    }\n",
       "\n",
       "    .dataframe tbody tr th {\n",
       "        vertical-align: top;\n",
       "    }\n",
       "\n",
       "    .dataframe thead th {\n",
       "        text-align: right;\n",
       "    }\n",
       "</style>\n",
       "<table border=\"1\" class=\"dataframe\">\n",
       "  <thead>\n",
       "    <tr style=\"text-align: right;\">\n",
       "      <th></th>\n",
       "      <th>UF</th>\n",
       "      <th>Sexo</th>\n",
       "      <th>Idade</th>\n",
       "      <th>Cor</th>\n",
       "      <th>Anos de Estudo</th>\n",
       "      <th>Renda</th>\n",
       "      <th>Altura</th>\n",
       "      <th>SM</th>\n",
       "    </tr>\n",
       "  </thead>\n",
       "  <tbody>\n",
       "    <tr>\n",
       "      <th>510</th>\n",
       "      <td>11</td>\n",
       "      <td>Masculino</td>\n",
       "      <td>27</td>\n",
       "      <td>Parda</td>\n",
       "      <td>11</td>\n",
       "      <td>45000.0</td>\n",
       "      <td>1.711432</td>\n",
       "      <td>N</td>\n",
       "    </tr>\n",
       "    <tr>\n",
       "      <th>990</th>\n",
       "      <td>11</td>\n",
       "      <td>Masculino</td>\n",
       "      <td>33</td>\n",
       "      <td>Branca</td>\n",
       "      <td>16</td>\n",
       "      <td>50000.0</td>\n",
       "      <td>1.632056</td>\n",
       "      <td>M</td>\n",
       "    </tr>\n",
       "    <tr>\n",
       "      <th>1583</th>\n",
       "      <td>12</td>\n",
       "      <td>Masculino</td>\n",
       "      <td>52</td>\n",
       "      <td>Branca</td>\n",
       "      <td>10</td>\n",
       "      <td>30000.0</td>\n",
       "      <td>1.614237</td>\n",
       "      <td>O</td>\n",
       "    </tr>\n",
       "    <tr>\n",
       "      <th>1943</th>\n",
       "      <td>12</td>\n",
       "      <td>Masculino</td>\n",
       "      <td>34</td>\n",
       "      <td>Parda</td>\n",
       "      <td>16</td>\n",
       "      <td>30000.0</td>\n",
       "      <td>1.660074</td>\n",
       "      <td>O</td>\n",
       "    </tr>\n",
       "    <tr>\n",
       "      <th>6107</th>\n",
       "      <td>15</td>\n",
       "      <td>Masculino</td>\n",
       "      <td>82</td>\n",
       "      <td>Branca</td>\n",
       "      <td>16</td>\n",
       "      <td>26000.0</td>\n",
       "      <td>1.778068</td>\n",
       "      <td>O</td>\n",
       "    </tr>\n",
       "    <tr>\n",
       "      <th>...</th>\n",
       "      <td>...</td>\n",
       "      <td>...</td>\n",
       "      <td>...</td>\n",
       "      <td>...</td>\n",
       "      <td>...</td>\n",
       "      <td>...</td>\n",
       "      <td>...</td>\n",
       "      <td>...</td>\n",
       "    </tr>\n",
       "    <tr>\n",
       "      <th>76643</th>\n",
       "      <td>53</td>\n",
       "      <td>Masculino</td>\n",
       "      <td>53</td>\n",
       "      <td>Parda</td>\n",
       "      <td>16</td>\n",
       "      <td>38000.0</td>\n",
       "      <td>1.836081</td>\n",
       "      <td>N</td>\n",
       "    </tr>\n",
       "    <tr>\n",
       "      <th>76652</th>\n",
       "      <td>53</td>\n",
       "      <td>Masculino</td>\n",
       "      <td>44</td>\n",
       "      <td>Branca</td>\n",
       "      <td>16</td>\n",
       "      <td>25000.0</td>\n",
       "      <td>1.643600</td>\n",
       "      <td>O</td>\n",
       "    </tr>\n",
       "    <tr>\n",
       "      <th>76653</th>\n",
       "      <td>53</td>\n",
       "      <td>Masculino</td>\n",
       "      <td>56</td>\n",
       "      <td>Parda</td>\n",
       "      <td>16</td>\n",
       "      <td>32000.0</td>\n",
       "      <td>1.781830</td>\n",
       "      <td>O</td>\n",
       "    </tr>\n",
       "    <tr>\n",
       "      <th>76829</th>\n",
       "      <td>53</td>\n",
       "      <td>Masculino</td>\n",
       "      <td>42</td>\n",
       "      <td>Parda</td>\n",
       "      <td>12</td>\n",
       "      <td>32000.0</td>\n",
       "      <td>1.788923</td>\n",
       "      <td>O</td>\n",
       "    </tr>\n",
       "    <tr>\n",
       "      <th>76831</th>\n",
       "      <td>53</td>\n",
       "      <td>Feminino</td>\n",
       "      <td>44</td>\n",
       "      <td>Branca</td>\n",
       "      <td>16</td>\n",
       "      <td>30000.0</td>\n",
       "      <td>1.783962</td>\n",
       "      <td>O</td>\n",
       "    </tr>\n",
       "  </tbody>\n",
       "</table>\n",
       "<p>224 rows × 8 columns</p>\n",
       "</div>"
      ],
      "text/plain": [
       "       UF       Sexo  Idade     Cor  Anos de Estudo    Renda    Altura SM\n",
       "510    11  Masculino     27   Parda              11  45000.0  1.711432  N\n",
       "990    11  Masculino     33  Branca              16  50000.0  1.632056  M\n",
       "1583   12  Masculino     52  Branca              10  30000.0  1.614237  O\n",
       "1943   12  Masculino     34   Parda              16  30000.0  1.660074  O\n",
       "6107   15  Masculino     82  Branca              16  26000.0  1.778068  O\n",
       "...    ..        ...    ...     ...             ...      ...       ... ..\n",
       "76643  53  Masculino     53   Parda              16  38000.0  1.836081  N\n",
       "76652  53  Masculino     44  Branca              16  25000.0  1.643600  O\n",
       "76653  53  Masculino     56   Parda              16  32000.0  1.781830  O\n",
       "76829  53  Masculino     42   Parda              12  32000.0  1.788923  O\n",
       "76831  53   Feminino     44  Branca              16  30000.0  1.783962  O\n",
       "\n",
       "[224 rows x 8 columns]"
      ]
     },
     "execution_count": 22,
     "metadata": {},
     "output_type": "execute_result"
    }
   ],
   "source": [
    "dfSturges['Renda'].iloc[dfSturges['SM'] == 'Q'] = np.nan\n",
    "dfSturges['Renda'].iloc[dfSturges['SM'] == 'P'] = np.nan\n",
    "dfSturges = dfSturges.dropna()\n",
    "dfSturges"
   ]
  },
  {
   "cell_type": "code",
   "execution_count": 23,
   "metadata": {
    "ExecuteTime": {
     "end_time": "2021-08-03T22:52:14.738334Z",
     "start_time": "2021-08-03T22:52:14.401193Z"
    }
   },
   "outputs": [
    {
     "data": {
      "text/plain": [
       "<AxesSubplot:xlabel='SM', ylabel='Count'>"
      ]
     },
     "execution_count": 23,
     "metadata": {},
     "output_type": "execute_result"
    },
    {
     "data": {
      "image/png": "[encoded data removed]",
      "text/plain": [
       "<Figure size 432x288 with 1 Axes>"
      ]
     },
     "metadata": {
      "needs_background": "light"
     },
     "output_type": "display_data"
    }
   ],
   "source": [
    "sns.histplot(data=dfSturges, x='SM')"
   ]
  },
  {
   "cell_type": "code",
   "execution_count": 24,
   "metadata": {
    "ExecuteTime": {
     "end_time": "2021-08-03T22:52:15.039611Z",
     "start_time": "2021-08-03T22:52:14.740298Z"
    }
   },
   "outputs": [
    {
     "data": {
      "text/plain": [
       "<AxesSubplot:xlabel='SM', ylabel='Density'>"
      ]
     },
     "execution_count": 24,
     "metadata": {},
     "output_type": "execute_result"
    },
    {
     "data": {
      "image/png": "[encoded data removed]",
      "text/plain": [
       "<Figure size 432x288 with 1 Axes>"
      ]
     },
     "metadata": {
      "needs_background": "light"
     },
     "output_type": "display_data"
    }
   ],
   "source": [
    "sns.histplot(data=dfSturges, x='SM', stat='density')"
   ]
  },
  {
   "cell_type": "markdown",
   "metadata": {
    "colab_type": "text",
    "id": "uIb17Es3jQMP"
   },
   "source": [
    "#  Medidas de Tendência Central\n",
    "***"
   ]
  },
  {
   "cell_type": "markdown",
   "metadata": {
    "colab_type": "text",
    "id": "kcHJFW-YjQMP"
   },
   "source": [
    "## Média aritmética\n",
    "\n",
    "Calcule a média aritmética das variáveis `Anos de Estudo`, `Idade`, `Renda` e `Altura`."
   ]
  },
  {
   "cell_type": "code",
   "execution_count": 25,
   "metadata": {
    "ExecuteTime": {
     "end_time": "2021-08-03T22:52:15.055542Z",
     "start_time": "2021-08-03T22:52:15.040582Z"
    },
    "colab": {
     "base_uri": "https://localhost:8080/",
     "height": 89
    },
    "colab_type": "code",
    "id": "CGgJbsK0HBQc",
    "outputId": "35b8a334-5f7d-4f17-ec85-2e10ec6ae5ab"
   },
   "outputs": [
    {
     "data": {
      "text/html": [
       "<div>\n",
       "<style scoped>\n",
       "    .dataframe tbody tr th:only-of-type {\n",
       "        vertical-align: middle;\n",
       "    }\n",
       "\n",
       "    .dataframe tbody tr th {\n",
       "        vertical-align: top;\n",
       "    }\n",
       "\n",
       "    .dataframe thead th {\n",
       "        text-align: right;\n",
       "    }\n",
       "</style>\n",
       "<table border=\"1\" class=\"dataframe\">\n",
       "  <thead>\n",
       "    <tr style=\"text-align: right;\">\n",
       "      <th></th>\n",
       "      <th>UF</th>\n",
       "      <th>Sexo</th>\n",
       "      <th>Idade</th>\n",
       "      <th>Cor</th>\n",
       "      <th>Anos de Estudo</th>\n",
       "      <th>Renda</th>\n",
       "      <th>Altura</th>\n",
       "      <th>SM</th>\n",
       "    </tr>\n",
       "  </thead>\n",
       "  <tbody>\n",
       "    <tr>\n",
       "      <th>0</th>\n",
       "      <td>11</td>\n",
       "      <td>Masculino</td>\n",
       "      <td>23</td>\n",
       "      <td>Parda</td>\n",
       "      <td>12</td>\n",
       "      <td>800.0</td>\n",
       "      <td>1.603808</td>\n",
       "      <td>Q</td>\n",
       "    </tr>\n",
       "    <tr>\n",
       "      <th>1</th>\n",
       "      <td>11</td>\n",
       "      <td>Feminino</td>\n",
       "      <td>23</td>\n",
       "      <td>Branca</td>\n",
       "      <td>12</td>\n",
       "      <td>1150.0</td>\n",
       "      <td>1.739790</td>\n",
       "      <td>Q</td>\n",
       "    </tr>\n",
       "    <tr>\n",
       "      <th>2</th>\n",
       "      <td>11</td>\n",
       "      <td>Feminino</td>\n",
       "      <td>35</td>\n",
       "      <td>Parda</td>\n",
       "      <td>15</td>\n",
       "      <td>880.0</td>\n",
       "      <td>1.760444</td>\n",
       "      <td>Q</td>\n",
       "    </tr>\n",
       "    <tr>\n",
       "      <th>3</th>\n",
       "      <td>11</td>\n",
       "      <td>Masculino</td>\n",
       "      <td>46</td>\n",
       "      <td>Branca</td>\n",
       "      <td>6</td>\n",
       "      <td>3500.0</td>\n",
       "      <td>1.783158</td>\n",
       "      <td>Q</td>\n",
       "    </tr>\n",
       "    <tr>\n",
       "      <th>4</th>\n",
       "      <td>11</td>\n",
       "      <td>Feminino</td>\n",
       "      <td>47</td>\n",
       "      <td>Parda</td>\n",
       "      <td>9</td>\n",
       "      <td>150.0</td>\n",
       "      <td>1.690631</td>\n",
       "      <td>Q</td>\n",
       "    </tr>\n",
       "  </tbody>\n",
       "</table>\n",
       "</div>"
      ],
      "text/plain": [
       "   UF       Sexo  Idade     Cor  Anos de Estudo   Renda    Altura SM\n",
       "0  11  Masculino     23   Parda              12   800.0  1.603808  Q\n",
       "1  11   Feminino     23  Branca              12  1150.0  1.739790  Q\n",
       "2  11   Feminino     35   Parda              15   880.0  1.760444  Q\n",
       "3  11  Masculino     46  Branca               6  3500.0  1.783158  Q\n",
       "4  11   Feminino     47   Parda               9   150.0  1.690631  Q"
      ]
     },
     "execution_count": 25,
     "metadata": {},
     "output_type": "execute_result"
    }
   ],
   "source": [
    "df.head()"
   ]
  },
  {
   "cell_type": "code",
   "execution_count": 26,
   "metadata": {
    "ExecuteTime": {
     "end_time": "2021-08-03T22:52:15.179638Z",
     "start_time": "2021-08-03T22:52:15.057535Z"
    }
   },
   "outputs": [
    {
     "name": "stdout",
     "output_type": "stream",
     "text": [
      "Média de Anos de Estudo: 9.469664237376367\n",
      "Média de Idade: 44.07142113482561\n",
      "Média de Renda: 2077.9128195422654\n",
      "Média de Altura: 1.6995124540575812\n"
     ]
    }
   ],
   "source": [
    "mediaAnos = df['Anos de Estudo'].mean()\n",
    "mediaIdade = df['Idade'].mean()\n",
    "mediaRenda = df['Renda'].mean()\n",
    "mediaAltura = df['Altura'].mean()\n",
    "print(f'Média de Anos de Estudo: {mediaAnos}')\n",
    "print(f'Média de Idade: {mediaIdade}')\n",
    "print(f'Média de Renda: {mediaRenda}')\n",
    "print(f'Média de Altura: {mediaAltura}')"
   ]
  },
  {
   "cell_type": "markdown",
   "metadata": {
    "colab_type": "text",
    "id": "9geu3UcKjQMS"
   },
   "source": [
    "## Mediana\n",
    "\n",
    "Calcule a mediana das variáveis `Anos de Estudo`, `Idade`, `Renda` e `Altura`."
   ]
  },
  {
   "cell_type": "code",
   "execution_count": 27,
   "metadata": {
    "ExecuteTime": {
     "end_time": "2021-08-03T22:52:15.317180Z",
     "start_time": "2021-08-03T22:52:15.181515Z"
    },
    "colab": {
     "base_uri": "https://localhost:8080/",
     "height": 35
    },
    "colab_type": "code",
    "id": "W4a5PVYdjQMm",
    "outputId": "3e8a9233-4eb6-4684-9f96-ce79e53ffa7a"
   },
   "outputs": [
    {
     "name": "stdout",
     "output_type": "stream",
     "text": [
      "Mediana de Anos de Estudo: 11.0\n",
      "Mediana de Idade: 43.0\n",
      "Mediana de Renda: 1200.0\n",
      "Mediana de Altura: 1.6993247325\n"
     ]
    }
   ],
   "source": [
    "medianaAnos = df['Anos de Estudo'].median()\n",
    "medianaIdade = df['Idade'].median()\n",
    "medianaRenda = df['Renda'].median()\n",
    "medianaAltura = df['Altura'].median()\n",
    "print(f'Mediana de Anos de Estudo: {medianaAnos}')\n",
    "print(f'Mediana de Idade: {medianaIdade}')\n",
    "print(f'Mediana de Renda: {medianaRenda}')\n",
    "print(f'Mediana de Altura: {medianaAltura}')"
   ]
  },
  {
   "cell_type": "markdown",
   "metadata": {
    "colab_type": "text",
    "id": "CmCu6BXQjQMo"
   },
   "source": [
    "## Moda\n",
    "\n",
    "Calcule a moda daquelas variáveis para as quais você imagina que faz sentido obter essa informação (com base no que vimos na aula)."
   ]
  },
  {
   "cell_type": "code",
   "execution_count": 28,
   "metadata": {
    "ExecuteTime": {
     "end_time": "2021-08-03T22:52:15.441576Z",
     "start_time": "2021-08-03T22:52:15.320176Z"
    },
    "colab": {
     "base_uri": "https://localhost:8080/",
     "height": 197
    },
    "colab_type": "code",
    "id": "Sdosy_vSX7Iw",
    "outputId": "949a3b5a-b978-40ab-eed0-872fb425d0f4"
   },
   "outputs": [
    {
     "name": "stdout",
     "output_type": "stream",
     "text": [
      "Moda de Anos de Estudo: 0    12\n",
      "dtype: int64\n",
      "Moda de Idade: 0    40\n",
      "dtype: int64\n",
      "Moda de Renda: 0    788.0\n",
      "dtype: float64\n",
      "Moda de Altura: 0    1.568128\n",
      "1    1.671225\n",
      "2    1.681659\n",
      "3    1.692977\n",
      "4    1.708163\n",
      "5    1.708370\n",
      "6    1.753842\n",
      "7    1.779073\n",
      "8    1.796462\n",
      "dtype: float64\n"
     ]
    }
   ],
   "source": [
    "modaAnos = df['Anos de Estudo'].mode()\n",
    "modaIdade = df['Idade'].mode()\n",
    "modaRenda = df['Renda'].mode()\n",
    "modaAltura = df['Altura'].mode()\n",
    "print(f'Moda de Anos de Estudo: {modaAnos}')\n",
    "print(f'Moda de Idade: {modaIdade}')\n",
    "print(f'Moda de Renda: {modaRenda}')\n",
    "print(f'Moda de Altura: {modaAltura}')"
   ]
  },
  {
   "cell_type": "markdown",
   "metadata": {
    "colab_type": "text",
    "id": "_-0gjQWFjQMu"
   },
   "source": [
    "## Relação entre média, mediana e moda\n",
    "***"
   ]
  },
  {
   "cell_type": "markdown",
   "metadata": {
    "colab_type": "text",
    "id": "0S7pa_jLjQMu"
   },
   "source": [
    "Como fizemos durante a aula, avalie a relação entre a média, mediana e moda de algumas variáveis do seu conjunto de dados.\n",
    "\n",
    "<img src='https://caelum-online-public.s3.amazonaws.com/1177-estatistica-parte1/01/img004.png' width='80%'>"
   ]
  },
  {
   "cell_type": "markdown",
   "metadata": {
    "colab_type": "text",
    "id": "b7ZchyFsjQMu"
   },
   "source": [
    "### Avalie a variável `Renda`"
   ]
  },
  {
   "cell_type": "markdown",
   "metadata": {
    "ExecuteTime": {
     "end_time": "2021-08-03T15:40:41.333317Z",
     "start_time": "2021-08-03T15:40:41.323345Z"
    }
   },
   "source": [
    "`Renda`: Variável assimétrica à direita, dada média > mediana > moda"
   ]
  },
  {
   "cell_type": "markdown",
   "metadata": {
    "colab_type": "text",
    "id": "WazchssNjQM1"
   },
   "source": [
    "### Avalie a variável `Altura`"
   ]
  },
  {
   "cell_type": "markdown",
   "metadata": {},
   "source": [
    "`Altura`: Variável simétrica, com valores de média, mediana e moda praticamente iguais."
   ]
  },
  {
   "cell_type": "markdown",
   "metadata": {
    "colab_type": "text",
    "id": "eS4I2H7jjQM7"
   },
   "source": [
    "### Avalie a variável `Anos de estudo`"
   ]
  },
  {
   "cell_type": "markdown",
   "metadata": {},
   "source": [
    "`Anos de Estudo`: Variável assimetrica à esquerda, com média < mediana < moda"
   ]
  },
  {
   "cell_type": "markdown",
   "metadata": {
    "colab_type": "text",
    "id": "vcaIo45UjQND"
   },
   "source": [
    "# Medidas Separatrizes\n",
    "***"
   ]
  },
  {
   "cell_type": "markdown",
   "metadata": {
    "colab_type": "text",
    "id": "f4XrApNxjQNE"
   },
   "source": [
    "## Quartis, decis e percentis\n",
    "\n",
    "Calcule os quartis, decis e percentis para a variável `Renda`."
   ]
  },
  {
   "cell_type": "code",
   "execution_count": 45,
   "metadata": {
    "ExecuteTime": {
     "end_time": "2021-08-03T23:05:39.438963Z",
     "start_time": "2021-08-03T23:05:39.414033Z"
    }
   },
   "outputs": [
    {
     "name": "stdout",
     "output_type": "stream",
     "text": [
      "Primeiro quartil: 788.0\n",
      "Segundo quartil: 1200.0\n",
      "Terceiro quartil: 2000.0\n",
      "Quato quartil: 200000.0\n"
     ]
    }
   ],
   "source": [
    "Q1 = df['Renda'].quantile(0.25)\n",
    "Q2 = df['Renda'].quantile(0.5)\n",
    "Q3 = df['Renda'].quantile(0.75)\n",
    "Q4 = df['Renda'].quantile(1)\n",
    "print(f'Primeiro quartil: {Q1}')\n",
    "print(f'Segundo quartil: {Q2}')\n",
    "print(f'Terceiro quartil: {Q3}')\n",
    "print(f'Quato quartil: {Q4}')"
   ]
  },
  {
   "cell_type": "code",
   "execution_count": 30,
   "metadata": {
    "ExecuteTime": {
     "end_time": "2021-08-03T22:52:15.735637Z",
     "start_time": "2021-08-03T22:52:15.566215Z"
    }
   },
   "outputs": [
    {
     "data": {
      "text/plain": [
       "0.1       500.0\n",
       "0.2       788.0\n",
       "0.3       812.0\n",
       "0.4      1000.0\n",
       "0.5      1200.0\n",
       "0.6      1500.0\n",
       "0.7      2000.0\n",
       "0.8      2500.0\n",
       "0.9      4000.0\n",
       "1.0    200000.0\n",
       "Name: Renda, dtype: float64"
      ]
     },
     "execution_count": 30,
     "metadata": {},
     "output_type": "execute_result"
    }
   ],
   "source": [
    "# Decis\n",
    "df['Renda'].quantile([i/10 for i in range(1, 11)])"
   ]
  },
  {
   "cell_type": "code",
   "execution_count": 31,
   "metadata": {
    "ExecuteTime": {
     "end_time": "2021-08-03T22:52:15.858796Z",
     "start_time": "2021-08-03T22:52:15.737632Z"
    }
   },
   "outputs": [
    {
     "data": {
      "text/plain": [
       "0.01       100.00\n",
       "0.02       150.00\n",
       "0.03       200.00\n",
       "0.04       250.00\n",
       "0.05       300.00\n",
       "          ...    \n",
       "0.96      7159.32\n",
       "0.97      8592.00\n",
       "0.98     10000.00\n",
       "0.99     15000.00\n",
       "1.00    200000.00\n",
       "Name: Renda, Length: 100, dtype: float64"
      ]
     },
     "execution_count": 31,
     "metadata": {},
     "output_type": "execute_result"
    }
   ],
   "source": [
    "# Percentis\n",
    "df['Renda'].quantile([i/100 for i in range(1, 101)])"
   ]
  },
  {
   "cell_type": "markdown",
   "metadata": {
    "colab_type": "text",
    "id": "6gIeZO_CjQNJ"
   },
   "source": [
    "## Boxplot\n",
    "\n",
    "Crie o boxplot para as variáveis `Renda`, `Altura`."
   ]
  },
  {
   "cell_type": "markdown",
   "metadata": {},
   "source": [
    "### Boxplot Renda"
   ]
  },
  {
   "cell_type": "code",
   "execution_count": 32,
   "metadata": {
    "ExecuteTime": {
     "end_time": "2021-08-03T22:52:16.094805Z",
     "start_time": "2021-08-03T22:52:15.859795Z"
    }
   },
   "outputs": [
    {
     "data": {
      "text/plain": [
       "<AxesSubplot:xlabel='Renda'>"
      ]
     },
     "execution_count": 32,
     "metadata": {},
     "output_type": "execute_result"
    },
    {
     "data": {
      "image/png": "[encoded data removed]",
      "text/plain": [
       "<Figure size 432x288 with 1 Axes>"
      ]
     },
     "metadata": {
      "needs_background": "light"
     },
     "output_type": "display_data"
    }
   ],
   "source": [
    "sns.boxplot(x='Renda', data=df)"
   ]
  },
  {
   "cell_type": "markdown",
   "metadata": {},
   "source": [
    "### Boxplot Altura"
   ]
  },
  {
   "cell_type": "code",
   "execution_count": 33,
   "metadata": {
    "ExecuteTime": {
     "end_time": "2021-08-03T22:52:16.254151Z",
     "start_time": "2021-08-03T22:52:16.095681Z"
    }
   },
   "outputs": [
    {
     "data": {
      "text/plain": [
       "<AxesSubplot:xlabel='Altura'>"
      ]
     },
     "execution_count": 33,
     "metadata": {},
     "output_type": "execute_result"
    },
    {
     "data": {
      "image/png": "[encoded data removed]",
      "text/plain": [
       "<Figure size 432x288 with 1 Axes>"
      ]
     },
     "metadata": {
      "needs_background": "light"
     },
     "output_type": "display_data"
    }
   ],
   "source": [
    "sns.boxplot(x='Altura', data=df)"
   ]
  },
  {
   "cell_type": "markdown",
   "metadata": {
    "colab_type": "text",
    "id": "aJ6v_NI9jQNN"
   },
   "source": [
    "# Medidas de Dispersão\n",
    "***\n",
    "\n",
    "Obtenha a variância e o desvio padrão das variáveis quantitativas do conjunto de dados. Em seguida, utilize o `seaborn` para plotar um gráfico de barras que exiba a média dessas variáveis quantitativas, em função da Unidade Federativa. Com o `seaborn` você também irá conseguir visualizar o desvio padrão da média para cada barra."
   ]
  },
  {
   "cell_type": "code",
   "execution_count": 34,
   "metadata": {
    "ExecuteTime": {
     "end_time": "2021-08-03T22:52:16.270006Z",
     "start_time": "2021-08-03T22:52:16.256115Z"
    },
    "colab": {},
    "colab_type": "code",
    "id": "aiUvZluhUx-0"
   },
   "outputs": [],
   "source": [
    "import statistics as st"
   ]
  },
  {
   "cell_type": "markdown",
   "metadata": {},
   "source": [
    "## Variância e Desvio Padrão"
   ]
  },
  {
   "cell_type": "code",
   "execution_count": 35,
   "metadata": {
    "ExecuteTime": {
     "end_time": "2021-08-03T22:52:18.794167Z",
     "start_time": "2021-08-03T22:52:16.271965Z"
    }
   },
   "outputs": [
    {
     "name": "stdout",
     "output_type": "stream",
     "text": [
      "Variância de Anos de Estudo: 20.61068827872624\n",
      "Desvio padrão de Anos de Estudo: 4.539899589057696\n",
      "Variância de Idade: 155.76293650197914\n",
      "Desvio padrão de Idade: 12.48050225359457\n",
      "Variância de Renda: nan\n",
      "Desvio padrão de Renda: nan\n",
      "Variância de Altura: 0.0063547859540754375\n",
      "Desvio padrão de Altura: 0.0797169113430484\n"
     ]
    }
   ],
   "source": [
    "varianciaAnos = st.pvariance(df['Anos de Estudo'])\n",
    "varianciaIdade = st.pvariance(df['Idade'])\n",
    "varianciaRenda = st.pvariance(df['Renda'])\n",
    "varianciaAltura = st.pvariance(df['Altura'])\n",
    "dpAnos = st.pstdev(df['Anos de Estudo'])\n",
    "dpIdade = st.pstdev(df['Idade'])\n",
    "dpRenda = st.pstdev(df['Renda'])\n",
    "dpAltura = st.pstdev(df['Altura'])\n",
    "print(f'Variância de Anos de Estudo: {varianciaAnos}')\n",
    "print(f'Desvio padrão de Anos de Estudo: {dpAnos}')\n",
    "print(f'Variância de Idade: {varianciaIdade}')\n",
    "print(f'Desvio padrão de Idade: {dpIdade}')\n",
    "print(f'Variância de Renda: {varianciaRenda}')\n",
    "print(f'Desvio padrão de Renda: {dpRenda}')\n",
    "print(f'Variância de Altura: {varianciaAltura}')\n",
    "print(f'Desvio padrão de Altura: {dpAltura}')\n"
   ]
  },
  {
   "cell_type": "markdown",
   "metadata": {},
   "source": [
    "mediaAnos = df['Anos de Estudo'].mean()\n",
    "mediaIdade = df['Idade'].mean()\n",
    "mediaRenda = df['Renda'].mean()\n",
    "mediaAltura = df['Altura'].mean()"
   ]
  },
  {
   "cell_type": "markdown",
   "metadata": {},
   "source": [
    "## Gráficos de média por UF"
   ]
  },
  {
   "cell_type": "markdown",
   "metadata": {},
   "source": [
    "### Média de Anos de Estudo"
   ]
  },
  {
   "cell_type": "code",
   "execution_count": 36,
   "metadata": {
    "ExecuteTime": {
     "end_time": "2021-08-03T22:52:19.238976Z",
     "start_time": "2021-08-03T22:52:18.796162Z"
    }
   },
   "outputs": [
    {
     "data": {
      "text/plain": [
       "<AxesSubplot:xlabel='UF', ylabel='Anos de Estudo'>"
      ]
     },
     "execution_count": 36,
     "metadata": {},
     "output_type": "execute_result"
    },
    {
     "data": {
      "image/png": "[encoded data removed]",
      "text/plain": [
       "<Figure size 432x288 with 1 Axes>"
      ]
     },
     "metadata": {
      "needs_background": "light"
     },
     "output_type": "display_data"
    }
   ],
   "source": [
    "sns.barplot(data=df, x='UF', y = 'Anos de Estudo', ci='sd')"
   ]
  },
  {
   "cell_type": "markdown",
   "metadata": {},
   "source": [
    "### Média de Idade"
   ]
  },
  {
   "cell_type": "code",
   "execution_count": 37,
   "metadata": {
    "ExecuteTime": {
     "end_time": "2021-08-03T22:52:20.010082Z",
     "start_time": "2021-08-03T22:52:19.240972Z"
    }
   },
   "outputs": [
    {
     "data": {
      "text/plain": [
       "<AxesSubplot:xlabel='UF', ylabel='Idade'>"
      ]
     },
     "execution_count": 37,
     "metadata": {},
     "output_type": "execute_result"
    },
    {
     "data": {
      "image/png": "[encoded data removed]",
      "text/plain": [
       "<Figure size 432x288 with 1 Axes>"
      ]
     },
     "metadata": {
      "needs_background": "light"
     },
     "output_type": "display_data"
    }
   ],
   "source": [
    "sns.barplot(data=df, x='UF', y = 'Idade', ci='sd')"
   ]
  },
  {
   "cell_type": "markdown",
   "metadata": {},
   "source": [
    "### Média de Renda"
   ]
  },
  {
   "cell_type": "code",
   "execution_count": 38,
   "metadata": {
    "ExecuteTime": {
     "end_time": "2021-08-03T22:52:20.423999Z",
     "start_time": "2021-08-03T22:52:20.010970Z"
    }
   },
   "outputs": [
    {
     "data": {
      "text/plain": [
       "<AxesSubplot:xlabel='UF', ylabel='Renda'>"
      ]
     },
     "execution_count": 38,
     "metadata": {},
     "output_type": "execute_result"
    },
    {
     "data": {
      "image/png": "[encoded data removed]",
      "text/plain": [
       "<Figure size 432x288 with 1 Axes>"
      ]
     },
     "metadata": {
      "needs_background": "light"
     },
     "output_type": "display_data"
    }
   ],
   "source": [
    "sns.barplot(data=df, x='UF', y = 'Renda', ci='sd')"
   ]
  },
  {
   "cell_type": "markdown",
   "metadata": {
    "ExecuteTime": {
     "end_time": "2021-08-03T22:40:48.427097Z",
     "start_time": "2021-08-03T22:40:48.414134Z"
    }
   },
   "source": [
    "### Média de Altura"
   ]
  },
  {
   "cell_type": "code",
   "execution_count": 39,
   "metadata": {
    "ExecuteTime": {
     "end_time": "2021-08-03T22:52:20.837741Z",
     "start_time": "2021-08-03T22:52:20.425995Z"
    }
   },
   "outputs": [
    {
     "data": {
      "text/plain": [
       "<AxesSubplot:xlabel='UF', ylabel='Altura'>"
      ]
     },
     "execution_count": 39,
     "metadata": {},
     "output_type": "execute_result"
    },
    {
     "data": {
      "image/png": "[encoded data removed]",
      "text/plain": [
       "<Figure size 432x288 with 1 Axes>"
      ]
     },
     "metadata": {
      "needs_background": "light"
     },
     "output_type": "display_data"
    }
   ],
   "source": [
    "sns.barplot(data=df, x='UF', y = 'Altura', ci='sd')"
   ]
  }
 ],
 "metadata": {
  "colab": {
   "name": "Curso_de_Estatística_Parte_1.ipynb",
   "provenance": [],
   "toc_visible": true,
   "version": "0.3.2"
  },
  "kernelspec": {
   "display_name": "Python 3",
   "language": "python",
   "name": "python3"
  },
  "language_info": {
   "codemirror_mode": {
    "name": "ipython",
    "version": 3
   },
   "file_extension": ".py",
   "mimetype": "text/x-python",
   "name": "python",
   "nbconvert_exporter": "python",
   "pygments_lexer": "ipython3",
   "version": "3.8.8"
  },
  "toc": {
   "base_numbering": 1,
   "nav_menu": {},
   "number_sections": true,
   "sideBar": true,
   "skip_h1_title": false,
   "title_cell": "Table of Contents",
   "title_sidebar": "Contents",
   "toc_cell": false,
   "toc_position": {
    "height": "calc(100% - 180px)",
    "left": "10px",
    "top": "150px",
    "width": "262.969px"
   },
   "toc_section_display": true,
   "toc_window_display": true
  }
 },
 "nbformat": 4,
 "nbformat_minor": 4
}
