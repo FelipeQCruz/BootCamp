{
 "cells": [
  {
   "cell_type": "markdown",
   "metadata": {
    "colab_type": "text",
    "id": "VXjEyBIFxjfc"
   },
   "source": [
    "# Aula 01 - Estatística Descritiva\n",
    "---\n",
    "\n",
    "<img src=\"https://letscode.com.br/images/logoLcPng.png\" width=\"250px\" style=\"position: absolute; top: 20px; right: 20px; border-radius: 5px;\" />\n",
    "\n",
    "\n",
    "\n",
    "## Motivação\n",
    "\n",
    "1. O que é Estatística?\n",
    "2. Para que serve?  \n",
    "3. Como vou aplicar isso no meu dia a dia?  \n",
    "\n",
    "<div style=\"display: block; margin: 10px; max-width: 400px; background-color: #333; padding: 20px; border-radius: 10px;\">\n",
    "    <h4>O que é Estatística?</h4>\n",
    "    \n",
    "  Ciência da análise de dados. Ramo da matemática responsável por coletar, organizar e analisar um conjunto de dados com o intuito de tirar conclusões a partir dele.\n",
    "</div>\n",
    "\n",
    "<div style=\"display: block; margin: 10px; max-width: 400px; background-color: #333; padding: 20px; border-radius: 10px;\">\n",
    "    <h4>Para que serve?</h4>\n",
    "    \n",
    "    Pobreza, desemprego, acidentes de trânsito, criminalidade. Como saber como andam esses fatores socioeconômicos?\n",
    "</div>\n",
    "\n",
    "\n",
    "## Inspiração\n",
    "\n",
    "Excerto do livro \"Sapiens: Uma breve história da humanidade\":\n",
    "\n",
    "<img src=\"../images/excerto.png\" style=\"display: block; margin: 10px; padding: 20px; background-color: #fff; border-radius: 10px\" />\n"
   ]
  },
  {
   "cell_type": "code",
   "execution_count": null,
   "metadata": {},
   "outputs": [],
   "source": []
  },
  {
   "cell_type": "markdown",
   "metadata": {},
   "source": [
    "## Definições Iniciais\n",
    "\n",
    "**1. Estatística Descritiva**: Primeira etapa inicial da análise, quando ainda não conhecemos a forma do dado, com o objetivo de tirar informações prévias de modo informal e direto, quando obtemos grande volume de dados, precisamos de informações que `resumam` nosso conjuto de dados a fim de que possamos tirar conclusões sobre nossos dados \n",
    "\n",
    "**2. Probabilidade**: pode ser pensada como a teoria matemática utilizada para se estudar a incerteza oriundas de `fenômenos` de caráter aleátorio.\n",
    "\n",
    "\n",
    "**3. Inferência estatística**: É o estudo de técnicas que possibilitam a extrapolação, a um grande conjunto de dados, denominado `população`, obtidos a partir de um conjunto extraido sobre esta denominada `amostra`.\n",
    "\n",
    "<center><img src=\"../images/inferencia.png\" width=\"700\" height=\"700\" /></center>\n"
   ]
  },
  {
   "cell_type": "code",
   "execution_count": null,
   "metadata": {},
   "outputs": [],
   "source": []
  },
  {
   "cell_type": "markdown",
   "metadata": {},
   "source": [
    "### Exemplos\n",
    "\n",
    "1. Queremos analisar os níveis de violência de uma cidade. Vamos analisar os dados de uma rua `x` da cidade.\n",
    "\n",
    "- População: todas as ruas da cidade\n",
    "- Amostra: a rua `x`\n",
    "\n",
    "2. Pesquisa de voto nas eleições: \"O candidato `A` tem 30% das intenções de voto\". Mesmo que você nunca tenha sido entrevistado, eles fizeram uma entrevista com algumas pessoas (amostra) e, com base nisso, foram tiradas conclusões sobre a população."
   ]
  },
  {
   "cell_type": "code",
   "execution_count": null,
   "metadata": {},
   "outputs": [],
   "source": []
  },
  {
   "cell_type": "markdown",
   "metadata": {
    "colab_type": "text",
    "id": "q3WS0rxWrmVZ"
   },
   "source": [
    "# Aula 01: Introdução à Estatística\n",
    "---\n",
    "\n",
    "### Objetivos\n",
    "\n",
    "O objetivo desta aula é apresentar o conceito e as caracteristicas de tabelas, tabelas de frequência, variáveis, medidas resumo e análise descritiva.\n",
    "\n",
    "### Habilidades a serem desenvolvidas\n",
    "\n",
    "Ao fim desta aula, o aluno deve saber:\n",
    "\n",
    "- Entender o que são variáveis\n",
    "- Conhecer as principais medidas resumo\n",
    "- Resumir tabelas em tabelas de frequência\n",
    "- Identificar qual tipo de gráfico usar e como construí-lo\n",
    "- Construir uma análise descritiva\n",
    "\n",
    "\n",
    "### Bibliotecas a serem utilizadas\n",
    "\n",
    "- numpy\n",
    "- pandas\n",
    "- matplotlib\n",
    "- seaborn\n",
    "\n",
    "\n",
    "### Conjunto de dados\n",
    "\n",
    "Os dados brutos que trabalharemos nessa aula é a do famoso Titanic. É uma base pública disponibilizada no Kaggle em CSV.\n"
   ]
  },
  {
   "cell_type": "code",
   "execution_count": 1,
   "metadata": {
    "ExecuteTime": {
     "end_time": "2021-07-27T19:19:40.091850Z",
     "start_time": "2021-07-27T19:19:38.464951Z"
    }
   },
   "outputs": [],
   "source": [
    "import numpy as np\n",
    "import pandas as pd\n",
    "import matplotlib.pyplot as plt\n",
    "import seaborn as sns\n",
    "\n",
    "sns.set()"
   ]
  },
  {
   "cell_type": "code",
   "execution_count": 2,
   "metadata": {
    "ExecuteTime": {
     "end_time": "2021-07-27T19:21:27.292231Z",
     "start_time": "2021-07-27T19:21:27.261232Z"
    }
   },
   "outputs": [],
   "source": [
    "df = pd.read_csv('../datasets/titanic.csv')"
   ]
  },
  {
   "cell_type": "code",
   "execution_count": 3,
   "metadata": {
    "ExecuteTime": {
     "end_time": "2021-07-27T19:21:41.193170Z",
     "start_time": "2021-07-27T19:21:41.150875Z"
    }
   },
   "outputs": [
    {
     "data": {
      "text/html": [
       "<div>\n",
       "<style scoped>\n",
       "    .dataframe tbody tr th:only-of-type {\n",
       "        vertical-align: middle;\n",
       "    }\n",
       "\n",
       "    .dataframe tbody tr th {\n",
       "        vertical-align: top;\n",
       "    }\n",
       "\n",
       "    .dataframe thead th {\n",
       "        text-align: right;\n",
       "    }\n",
       "</style>\n",
       "<table border=\"1\" class=\"dataframe\">\n",
       "  <thead>\n",
       "    <tr style=\"text-align: right;\">\n",
       "      <th></th>\n",
       "      <th>PassengerId</th>\n",
       "      <th>Survived</th>\n",
       "      <th>Pclass</th>\n",
       "      <th>Name</th>\n",
       "      <th>Sex</th>\n",
       "      <th>Age</th>\n",
       "      <th>SibSp</th>\n",
       "      <th>Parch</th>\n",
       "      <th>Ticket</th>\n",
       "      <th>Fare</th>\n",
       "      <th>Cabin</th>\n",
       "      <th>Embarked</th>\n",
       "    </tr>\n",
       "  </thead>\n",
       "  <tbody>\n",
       "    <tr>\n",
       "      <th>0</th>\n",
       "      <td>1</td>\n",
       "      <td>0</td>\n",
       "      <td>3</td>\n",
       "      <td>Braund, Mr. Owen Harris</td>\n",
       "      <td>male</td>\n",
       "      <td>22.0</td>\n",
       "      <td>1</td>\n",
       "      <td>0</td>\n",
       "      <td>A/5 21171</td>\n",
       "      <td>7.2500</td>\n",
       "      <td>NaN</td>\n",
       "      <td>S</td>\n",
       "    </tr>\n",
       "    <tr>\n",
       "      <th>1</th>\n",
       "      <td>2</td>\n",
       "      <td>1</td>\n",
       "      <td>1</td>\n",
       "      <td>Cumings, Mrs. John Bradley (Florence Briggs Th...</td>\n",
       "      <td>female</td>\n",
       "      <td>38.0</td>\n",
       "      <td>1</td>\n",
       "      <td>0</td>\n",
       "      <td>PC 17599</td>\n",
       "      <td>71.2833</td>\n",
       "      <td>C85</td>\n",
       "      <td>C</td>\n",
       "    </tr>\n",
       "    <tr>\n",
       "      <th>2</th>\n",
       "      <td>3</td>\n",
       "      <td>1</td>\n",
       "      <td>3</td>\n",
       "      <td>Heikkinen, Miss. Laina</td>\n",
       "      <td>female</td>\n",
       "      <td>26.0</td>\n",
       "      <td>0</td>\n",
       "      <td>0</td>\n",
       "      <td>STON/O2. 3101282</td>\n",
       "      <td>7.9250</td>\n",
       "      <td>NaN</td>\n",
       "      <td>S</td>\n",
       "    </tr>\n",
       "    <tr>\n",
       "      <th>3</th>\n",
       "      <td>4</td>\n",
       "      <td>1</td>\n",
       "      <td>1</td>\n",
       "      <td>Futrelle, Mrs. Jacques Heath (Lily May Peel)</td>\n",
       "      <td>female</td>\n",
       "      <td>35.0</td>\n",
       "      <td>1</td>\n",
       "      <td>0</td>\n",
       "      <td>113803</td>\n",
       "      <td>53.1000</td>\n",
       "      <td>C123</td>\n",
       "      <td>S</td>\n",
       "    </tr>\n",
       "    <tr>\n",
       "      <th>4</th>\n",
       "      <td>5</td>\n",
       "      <td>0</td>\n",
       "      <td>3</td>\n",
       "      <td>Allen, Mr. William Henry</td>\n",
       "      <td>male</td>\n",
       "      <td>35.0</td>\n",
       "      <td>0</td>\n",
       "      <td>0</td>\n",
       "      <td>373450</td>\n",
       "      <td>8.0500</td>\n",
       "      <td>NaN</td>\n",
       "      <td>S</td>\n",
       "    </tr>\n",
       "    <tr>\n",
       "      <th>...</th>\n",
       "      <td>...</td>\n",
       "      <td>...</td>\n",
       "      <td>...</td>\n",
       "      <td>...</td>\n",
       "      <td>...</td>\n",
       "      <td>...</td>\n",
       "      <td>...</td>\n",
       "      <td>...</td>\n",
       "      <td>...</td>\n",
       "      <td>...</td>\n",
       "      <td>...</td>\n",
       "      <td>...</td>\n",
       "    </tr>\n",
       "    <tr>\n",
       "      <th>886</th>\n",
       "      <td>887</td>\n",
       "      <td>0</td>\n",
       "      <td>2</td>\n",
       "      <td>Montvila, Rev. Juozas</td>\n",
       "      <td>male</td>\n",
       "      <td>27.0</td>\n",
       "      <td>0</td>\n",
       "      <td>0</td>\n",
       "      <td>211536</td>\n",
       "      <td>13.0000</td>\n",
       "      <td>NaN</td>\n",
       "      <td>S</td>\n",
       "    </tr>\n",
       "    <tr>\n",
       "      <th>887</th>\n",
       "      <td>888</td>\n",
       "      <td>1</td>\n",
       "      <td>1</td>\n",
       "      <td>Graham, Miss. Margaret Edith</td>\n",
       "      <td>female</td>\n",
       "      <td>19.0</td>\n",
       "      <td>0</td>\n",
       "      <td>0</td>\n",
       "      <td>112053</td>\n",
       "      <td>30.0000</td>\n",
       "      <td>B42</td>\n",
       "      <td>S</td>\n",
       "    </tr>\n",
       "    <tr>\n",
       "      <th>888</th>\n",
       "      <td>889</td>\n",
       "      <td>0</td>\n",
       "      <td>3</td>\n",
       "      <td>Johnston, Miss. Catherine Helen \"Carrie\"</td>\n",
       "      <td>female</td>\n",
       "      <td>NaN</td>\n",
       "      <td>1</td>\n",
       "      <td>2</td>\n",
       "      <td>W./C. 6607</td>\n",
       "      <td>23.4500</td>\n",
       "      <td>NaN</td>\n",
       "      <td>S</td>\n",
       "    </tr>\n",
       "    <tr>\n",
       "      <th>889</th>\n",
       "      <td>890</td>\n",
       "      <td>1</td>\n",
       "      <td>1</td>\n",
       "      <td>Behr, Mr. Karl Howell</td>\n",
       "      <td>male</td>\n",
       "      <td>26.0</td>\n",
       "      <td>0</td>\n",
       "      <td>0</td>\n",
       "      <td>111369</td>\n",
       "      <td>30.0000</td>\n",
       "      <td>C148</td>\n",
       "      <td>C</td>\n",
       "    </tr>\n",
       "    <tr>\n",
       "      <th>890</th>\n",
       "      <td>891</td>\n",
       "      <td>0</td>\n",
       "      <td>3</td>\n",
       "      <td>Dooley, Mr. Patrick</td>\n",
       "      <td>male</td>\n",
       "      <td>32.0</td>\n",
       "      <td>0</td>\n",
       "      <td>0</td>\n",
       "      <td>370376</td>\n",
       "      <td>7.7500</td>\n",
       "      <td>NaN</td>\n",
       "      <td>Q</td>\n",
       "    </tr>\n",
       "  </tbody>\n",
       "</table>\n",
       "<p>891 rows × 12 columns</p>\n",
       "</div>"
      ],
      "text/plain": [
       "     PassengerId  Survived  Pclass  \\\n",
       "0              1         0       3   \n",
       "1              2         1       1   \n",
       "2              3         1       3   \n",
       "3              4         1       1   \n",
       "4              5         0       3   \n",
       "..           ...       ...     ...   \n",
       "886          887         0       2   \n",
       "887          888         1       1   \n",
       "888          889         0       3   \n",
       "889          890         1       1   \n",
       "890          891         0       3   \n",
       "\n",
       "                                                  Name     Sex   Age  SibSp  \\\n",
       "0                              Braund, Mr. Owen Harris    male  22.0      1   \n",
       "1    Cumings, Mrs. John Bradley (Florence Briggs Th...  female  38.0      1   \n",
       "2                               Heikkinen, Miss. Laina  female  26.0      0   \n",
       "3         Futrelle, Mrs. Jacques Heath (Lily May Peel)  female  35.0      1   \n",
       "4                             Allen, Mr. William Henry    male  35.0      0   \n",
       "..                                                 ...     ...   ...    ...   \n",
       "886                              Montvila, Rev. Juozas    male  27.0      0   \n",
       "887                       Graham, Miss. Margaret Edith  female  19.0      0   \n",
       "888           Johnston, Miss. Catherine Helen \"Carrie\"  female   NaN      1   \n",
       "889                              Behr, Mr. Karl Howell    male  26.0      0   \n",
       "890                                Dooley, Mr. Patrick    male  32.0      0   \n",
       "\n",
       "     Parch            Ticket     Fare Cabin Embarked  \n",
       "0        0         A/5 21171   7.2500   NaN        S  \n",
       "1        0          PC 17599  71.2833   C85        C  \n",
       "2        0  STON/O2. 3101282   7.9250   NaN        S  \n",
       "3        0            113803  53.1000  C123        S  \n",
       "4        0            373450   8.0500   NaN        S  \n",
       "..     ...               ...      ...   ...      ...  \n",
       "886      0            211536  13.0000   NaN        S  \n",
       "887      0            112053  30.0000   B42        S  \n",
       "888      2        W./C. 6607  23.4500   NaN        S  \n",
       "889      0            111369  30.0000  C148        C  \n",
       "890      0            370376   7.7500   NaN        Q  \n",
       "\n",
       "[891 rows x 12 columns]"
      ]
     },
     "execution_count": 3,
     "metadata": {},
     "output_type": "execute_result"
    }
   ],
   "source": [
    "df"
   ]
  },
  {
   "cell_type": "markdown",
   "metadata": {
    "colab_type": "text",
    "id": "aOAZerMCrmVy"
   },
   "source": [
    "### O que temos nesse dataset?\n",
    "\n",
    "**PassengerId:**  Identificação do passageiro. Numerados sequencialmente de 1 a 891  \n",
    "**Survived:** Informa se o passageiro sobreviveu ao desastre. 0 = Não; 1 = Sim  \n",
    "**Pclass:** Classe na qual o passageiro viajou. 1 = Primeira Classe; 2 = Segunda Classe; 3 = Terceira Classe  \n",
    "**Name:** Nome do passageiro  \n",
    "**Sex:** Sexo do passageiro  \n",
    "**Age:** Idade do passageiro  \n",
    "**SlbSp:** Informa a quantidade de irmãos e cônjuges que o paciente possuía na embarcação  \n",
    "**Parch:** Quantidade de crianças e idosos (pais) relativos ao passageiro  \n",
    "**Ticket:** Código de identificação da passagem  \n",
    "**Fare:** Valor da passagem  \n",
    "**Cabin:** Identificação da Cabine  \n",
    "**Embarked:** Local onde o passageiro embarcou"
   ]
  },
  {
   "cell_type": "code",
   "execution_count": null,
   "metadata": {},
   "outputs": [],
   "source": []
  },
  {
   "cell_type": "markdown",
   "metadata": {},
   "source": [
    "## 1. Tipos de variáveis \n",
    "---\n",
    "\n",
    "### Variáveis qualitativas\n",
    "\n",
    "- Nominal: Valores que expressam atributos sem nenhum tipo de ordem. Ex : sexo, estado civil, país de origem.\n",
    "- Ordinal: Valores que expressam atributos, porém com algum tipo de ordem ou grau. Ex: escolaridade, resposta de um paciente (piora, igual, melhora), classe social(alta, média, baixa).\n",
    "\n",
    "### Variáveis quantitativas\n",
    "\n",
    "- Discreta: Valores que expressam atributos nos valores inteiros. Ex: idade, numero de banheiros, numero de filhos.\n",
    "- Contínua: Valores que expressam atributos nos valores reais. Ex: Salário, temperatura.\n",
    "\n",
    "<img src='https://caelum-online-public.s3.amazonaws.com/1177-estatistica-parte1/01/img001.png' width='50%' style=\"display: block; margin: 30px auto\">\n",
    "\n",
    "### Classificando as variáveis do nosso dataset"
   ]
  },
  {
   "cell_type": "code",
   "execution_count": 4,
   "metadata": {
    "ExecuteTime": {
     "end_time": "2021-07-27T19:28:42.977203Z",
     "start_time": "2021-07-27T19:28:42.964201Z"
    }
   },
   "outputs": [
    {
     "data": {
      "text/html": [
       "<div>\n",
       "<style scoped>\n",
       "    .dataframe tbody tr th:only-of-type {\n",
       "        vertical-align: middle;\n",
       "    }\n",
       "\n",
       "    .dataframe tbody tr th {\n",
       "        vertical-align: top;\n",
       "    }\n",
       "\n",
       "    .dataframe thead th {\n",
       "        text-align: right;\n",
       "    }\n",
       "</style>\n",
       "<table border=\"1\" class=\"dataframe\">\n",
       "  <thead>\n",
       "    <tr style=\"text-align: right;\">\n",
       "      <th></th>\n",
       "      <th>PassengerId</th>\n",
       "      <th>Survived</th>\n",
       "      <th>Pclass</th>\n",
       "      <th>Name</th>\n",
       "      <th>Sex</th>\n",
       "      <th>Age</th>\n",
       "      <th>SibSp</th>\n",
       "      <th>Parch</th>\n",
       "      <th>Ticket</th>\n",
       "      <th>Fare</th>\n",
       "      <th>Cabin</th>\n",
       "      <th>Embarked</th>\n",
       "    </tr>\n",
       "  </thead>\n",
       "  <tbody>\n",
       "    <tr>\n",
       "      <th>0</th>\n",
       "      <td>1</td>\n",
       "      <td>0</td>\n",
       "      <td>3</td>\n",
       "      <td>Braund, Mr. Owen Harris</td>\n",
       "      <td>male</td>\n",
       "      <td>22.0</td>\n",
       "      <td>1</td>\n",
       "      <td>0</td>\n",
       "      <td>A/5 21171</td>\n",
       "      <td>7.2500</td>\n",
       "      <td>NaN</td>\n",
       "      <td>S</td>\n",
       "    </tr>\n",
       "    <tr>\n",
       "      <th>1</th>\n",
       "      <td>2</td>\n",
       "      <td>1</td>\n",
       "      <td>1</td>\n",
       "      <td>Cumings, Mrs. John Bradley (Florence Briggs Th...</td>\n",
       "      <td>female</td>\n",
       "      <td>38.0</td>\n",
       "      <td>1</td>\n",
       "      <td>0</td>\n",
       "      <td>PC 17599</td>\n",
       "      <td>71.2833</td>\n",
       "      <td>C85</td>\n",
       "      <td>C</td>\n",
       "    </tr>\n",
       "    <tr>\n",
       "      <th>2</th>\n",
       "      <td>3</td>\n",
       "      <td>1</td>\n",
       "      <td>3</td>\n",
       "      <td>Heikkinen, Miss. Laina</td>\n",
       "      <td>female</td>\n",
       "      <td>26.0</td>\n",
       "      <td>0</td>\n",
       "      <td>0</td>\n",
       "      <td>STON/O2. 3101282</td>\n",
       "      <td>7.9250</td>\n",
       "      <td>NaN</td>\n",
       "      <td>S</td>\n",
       "    </tr>\n",
       "    <tr>\n",
       "      <th>3</th>\n",
       "      <td>4</td>\n",
       "      <td>1</td>\n",
       "      <td>1</td>\n",
       "      <td>Futrelle, Mrs. Jacques Heath (Lily May Peel)</td>\n",
       "      <td>female</td>\n",
       "      <td>35.0</td>\n",
       "      <td>1</td>\n",
       "      <td>0</td>\n",
       "      <td>113803</td>\n",
       "      <td>53.1000</td>\n",
       "      <td>C123</td>\n",
       "      <td>S</td>\n",
       "    </tr>\n",
       "    <tr>\n",
       "      <th>4</th>\n",
       "      <td>5</td>\n",
       "      <td>0</td>\n",
       "      <td>3</td>\n",
       "      <td>Allen, Mr. William Henry</td>\n",
       "      <td>male</td>\n",
       "      <td>35.0</td>\n",
       "      <td>0</td>\n",
       "      <td>0</td>\n",
       "      <td>373450</td>\n",
       "      <td>8.0500</td>\n",
       "      <td>NaN</td>\n",
       "      <td>S</td>\n",
       "    </tr>\n",
       "  </tbody>\n",
       "</table>\n",
       "</div>"
      ],
      "text/plain": [
       "   PassengerId  Survived  Pclass  \\\n",
       "0            1         0       3   \n",
       "1            2         1       1   \n",
       "2            3         1       3   \n",
       "3            4         1       1   \n",
       "4            5         0       3   \n",
       "\n",
       "                                                Name     Sex   Age  SibSp  \\\n",
       "0                            Braund, Mr. Owen Harris    male  22.0      1   \n",
       "1  Cumings, Mrs. John Bradley (Florence Briggs Th...  female  38.0      1   \n",
       "2                             Heikkinen, Miss. Laina  female  26.0      0   \n",
       "3       Futrelle, Mrs. Jacques Heath (Lily May Peel)  female  35.0      1   \n",
       "4                           Allen, Mr. William Henry    male  35.0      0   \n",
       "\n",
       "   Parch            Ticket     Fare Cabin Embarked  \n",
       "0      0         A/5 21171   7.2500   NaN        S  \n",
       "1      0          PC 17599  71.2833   C85        C  \n",
       "2      0  STON/O2. 3101282   7.9250   NaN        S  \n",
       "3      0            113803  53.1000  C123        S  \n",
       "4      0            373450   8.0500   NaN        S  "
      ]
     },
     "execution_count": 4,
     "metadata": {},
     "output_type": "execute_result"
    }
   ],
   "source": [
    "# explore o dataset\n",
    "df.head()"
   ]
  },
  {
   "cell_type": "code",
   "execution_count": 11,
   "metadata": {
    "ExecuteTime": {
     "end_time": "2021-07-27T19:49:32.660808Z",
     "start_time": "2021-07-27T19:49:32.642792Z"
    }
   },
   "outputs": [
    {
     "data": {
      "text/plain": [
       "array(['S', 'C', 'Q', nan], dtype=object)"
      ]
     },
     "execution_count": 11,
     "metadata": {},
     "output_type": "execute_result"
    }
   ],
   "source": [
    "# quais os valores da coluna Age?\n",
    "\n",
    "## SELECT AGE FROM tabela\n",
    "df['Age']\n",
    "\n",
    "## SELECT DISTINCT(AGE) FROM tabela\n",
    "df['Embarked'].unique()"
   ]
  },
  {
   "cell_type": "markdown",
   "metadata": {
    "colab_type": "text",
    "id": "dmSd-Qw2rmWC"
   },
   "source": [
    "#### Qualitativas\n",
    "\n",
    "**Nominais:** PassengerId, Survived, Name, Sex, Ticket, Cabin, Embarked\n",
    "\n",
    "**Ordinais:** Pclass\n",
    "\n",
    "\n",
    "#### Quantitativas\n",
    "\n",
    "**Discretas:** Age, SibSp, Parch\n",
    "\n",
    "**Contínuas:** Fare"
   ]
  },
  {
   "cell_type": "markdown",
   "metadata": {
    "colab_type": "text",
    "id": "p19JbfETrmWG"
   },
   "source": [
    "**É indispensável realizar essa classificação para que possamos utilizar corretamente as medidas resumo.**"
   ]
  },
  {
   "cell_type": "markdown",
   "metadata": {
    "colab_type": "text",
    "id": "7mMXLTukjQK-"
   },
   "source": [
    "#### <font color='red'>Observação</font>\n",
    "***\n",
    "> A variável `Age` pode ser classificada de três formas distintas:\n",
    "> 1. <b>QUANTITATIVA DISCRETA</b> - quando representa anos completos (números inteiros);\n",
    "> 2. <b>QUANTITATIVA CONTÍNUA</b> - quando representa a idade exata, sendo representado por frações de anos; e\n",
    "> 3. <b>QUALITATIVA ORDINAL</b> - quando representa faixas de idade."
   ]
  },
  {
   "cell_type": "markdown",
   "metadata": {},
   "source": []
  },
  {
   "cell_type": "markdown",
   "metadata": {
    "colab_type": "text",
    "id": "rlDvGzcgrmWI"
   },
   "source": [
    "## Medidas Resumo | Estatística Descritiva"
   ]
  },
  {
   "cell_type": "markdown",
   "metadata": {
    "colab_type": "text",
    "id": "KtrjvHGurmWM"
   },
   "source": [
    "### Medidas de Tendência Central (ou de Centralidade)\n",
    "\n",
    "Uma medida de centralidade descreve um número ao redor do qual as observações se concentram. Ela expressa um valor \"típico\" nas observações para uma determinada variável. Existem várias possíveis medidas de centralidade, algumas das quais veremos a seguir.\n",
    "\n",
    "### Média\n",
    "\n",
    "A média de uma variável, comumente designada por $\\overline{X}$, é obtida somando todas as observações desta e dividindo o resultado pelo número total de observações. Este procedimento é sintetizado da seguinte forma:\n",
    "\n",
    "$$ \\overline{X} = \\frac{\\sum_{i=1}^{n}x_i}{n} = \\frac{x_1 + x_2 + ... + x_n}{n} $$\n",
    "\n",
    "Nesta expressão, o termo ${\\sum_{i=1}^{n}x_i}$ é traduzido como \"em xi substitua i por todos os números entre 1 e n e some os valores encontrados\". Em particular, o símbolo “$\\sum$” é chamado de somatório.\n",
    "\n",
    "**Essa medida é calculada para variáveis quantitativas.**\n",
    "\n",
    "Para quais variáveis do nosso dataset, poderíamos calcular essa medida?"
   ]
  },
  {
   "cell_type": "code",
   "execution_count": 12,
   "metadata": {
    "ExecuteTime": {
     "end_time": "2021-07-27T19:53:04.071189Z",
     "start_time": "2021-07-27T19:53:04.041200Z"
    }
   },
   "outputs": [
    {
     "data": {
      "text/html": [
       "<div>\n",
       "<style scoped>\n",
       "    .dataframe tbody tr th:only-of-type {\n",
       "        vertical-align: middle;\n",
       "    }\n",
       "\n",
       "    .dataframe tbody tr th {\n",
       "        vertical-align: top;\n",
       "    }\n",
       "\n",
       "    .dataframe thead th {\n",
       "        text-align: right;\n",
       "    }\n",
       "</style>\n",
       "<table border=\"1\" class=\"dataframe\">\n",
       "  <thead>\n",
       "    <tr style=\"text-align: right;\">\n",
       "      <th></th>\n",
       "      <th>PassengerId</th>\n",
       "      <th>Survived</th>\n",
       "      <th>Pclass</th>\n",
       "      <th>Name</th>\n",
       "      <th>Sex</th>\n",
       "      <th>Age</th>\n",
       "      <th>SibSp</th>\n",
       "      <th>Parch</th>\n",
       "      <th>Ticket</th>\n",
       "      <th>Fare</th>\n",
       "      <th>Cabin</th>\n",
       "      <th>Embarked</th>\n",
       "    </tr>\n",
       "  </thead>\n",
       "  <tbody>\n",
       "    <tr>\n",
       "      <th>0</th>\n",
       "      <td>1</td>\n",
       "      <td>0</td>\n",
       "      <td>3</td>\n",
       "      <td>Braund, Mr. Owen Harris</td>\n",
       "      <td>male</td>\n",
       "      <td>22.0</td>\n",
       "      <td>1</td>\n",
       "      <td>0</td>\n",
       "      <td>A/5 21171</td>\n",
       "      <td>7.2500</td>\n",
       "      <td>NaN</td>\n",
       "      <td>S</td>\n",
       "    </tr>\n",
       "    <tr>\n",
       "      <th>1</th>\n",
       "      <td>2</td>\n",
       "      <td>1</td>\n",
       "      <td>1</td>\n",
       "      <td>Cumings, Mrs. John Bradley (Florence Briggs Th...</td>\n",
       "      <td>female</td>\n",
       "      <td>38.0</td>\n",
       "      <td>1</td>\n",
       "      <td>0</td>\n",
       "      <td>PC 17599</td>\n",
       "      <td>71.2833</td>\n",
       "      <td>C85</td>\n",
       "      <td>C</td>\n",
       "    </tr>\n",
       "    <tr>\n",
       "      <th>2</th>\n",
       "      <td>3</td>\n",
       "      <td>1</td>\n",
       "      <td>3</td>\n",
       "      <td>Heikkinen, Miss. Laina</td>\n",
       "      <td>female</td>\n",
       "      <td>26.0</td>\n",
       "      <td>0</td>\n",
       "      <td>0</td>\n",
       "      <td>STON/O2. 3101282</td>\n",
       "      <td>7.9250</td>\n",
       "      <td>NaN</td>\n",
       "      <td>S</td>\n",
       "    </tr>\n",
       "    <tr>\n",
       "      <th>3</th>\n",
       "      <td>4</td>\n",
       "      <td>1</td>\n",
       "      <td>1</td>\n",
       "      <td>Futrelle, Mrs. Jacques Heath (Lily May Peel)</td>\n",
       "      <td>female</td>\n",
       "      <td>35.0</td>\n",
       "      <td>1</td>\n",
       "      <td>0</td>\n",
       "      <td>113803</td>\n",
       "      <td>53.1000</td>\n",
       "      <td>C123</td>\n",
       "      <td>S</td>\n",
       "    </tr>\n",
       "    <tr>\n",
       "      <th>4</th>\n",
       "      <td>5</td>\n",
       "      <td>0</td>\n",
       "      <td>3</td>\n",
       "      <td>Allen, Mr. William Henry</td>\n",
       "      <td>male</td>\n",
       "      <td>35.0</td>\n",
       "      <td>0</td>\n",
       "      <td>0</td>\n",
       "      <td>373450</td>\n",
       "      <td>8.0500</td>\n",
       "      <td>NaN</td>\n",
       "      <td>S</td>\n",
       "    </tr>\n",
       "  </tbody>\n",
       "</table>\n",
       "</div>"
      ],
      "text/plain": [
       "   PassengerId  Survived  Pclass  \\\n",
       "0            1         0       3   \n",
       "1            2         1       1   \n",
       "2            3         1       3   \n",
       "3            4         1       1   \n",
       "4            5         0       3   \n",
       "\n",
       "                                                Name     Sex   Age  SibSp  \\\n",
       "0                            Braund, Mr. Owen Harris    male  22.0      1   \n",
       "1  Cumings, Mrs. John Bradley (Florence Briggs Th...  female  38.0      1   \n",
       "2                             Heikkinen, Miss. Laina  female  26.0      0   \n",
       "3       Futrelle, Mrs. Jacques Heath (Lily May Peel)  female  35.0      1   \n",
       "4                           Allen, Mr. William Henry    male  35.0      0   \n",
       "\n",
       "   Parch            Ticket     Fare Cabin Embarked  \n",
       "0      0         A/5 21171   7.2500   NaN        S  \n",
       "1      0          PC 17599  71.2833   C85        C  \n",
       "2      0  STON/O2. 3101282   7.9250   NaN        S  \n",
       "3      0            113803  53.1000  C123        S  \n",
       "4      0            373450   8.0500   NaN        S  "
      ]
     },
     "execution_count": 12,
     "metadata": {},
     "output_type": "execute_result"
    }
   ],
   "source": [
    "# explore o dataset\n",
    "df.head()"
   ]
  },
  {
   "cell_type": "code",
   "execution_count": 13,
   "metadata": {
    "ExecuteTime": {
     "end_time": "2021-07-27T19:54:03.464426Z",
     "start_time": "2021-07-27T19:54:03.455431Z"
    }
   },
   "outputs": [
    {
     "data": {
      "text/plain": [
       "29.69911764705882"
      ]
     },
     "execution_count": 13,
     "metadata": {},
     "output_type": "execute_result"
    }
   ],
   "source": [
    "# media de idade?\n",
    "\n",
    "## SELECT AVG(AGE) from tabela\n",
    "df['Age'].mean()"
   ]
  },
  {
   "cell_type": "markdown",
   "metadata": {},
   "source": [
    "### Mediana\n",
    "\n",
    "A mediana de uma variável é um número tal que há o mesmo número de observações maiores e menores do que ele. Se você ordenar os dados em ordem crescente, a mediana é a observação que fica na posição central.\n",
    "\n",
    "-  $3,4,7,8,8$ (CASO ÍMPAR)\n",
    "\n",
    "> $mediana = 7$\n",
    "\n",
    "-  $3,4,7,8,8,9$ (CASO PAR)\n",
    "\n",
    "> $mediana = \\frac{(7+8)}{2} = 7,5 $\n",
    "\n",
    "Logo, podemos definir \n",
    "\n",
    "- Mediana de $X = X_{\\frac{n+1}{2}}$ (`Se tamanho da amostra ímpar`)\n",
    "\n",
    "\n",
    "- Mediana de $X = \\frac{X_{\\frac{n}{2}}+ X_{\\frac{n}{2}+1}}{2}$ (`Se tamanho da amostra par`)\n",
    "\n",
    "#### Na programação\n",
    "\n",
    "Como os valores de **indice no python** começam em `0`, devemos nos atentar que a equação acima deve ficar como:\n",
    "\n",
    "- Mediana de $X = X_{\\frac{n}{2}}$ `Se tamanho da amostra par`\n",
    "\n",
    "\n",
    "- Mediana de $X = \\frac{X_{\\frac{n-1}{2}}+ X_{\\frac{n}{2}}}{2}$ `Se tamanho da amostra ímpar`"
   ]
  },
  {
   "cell_type": "markdown",
   "metadata": {},
   "source": [
    "> A mediana é menos afetada por valores extremos - os famosos ***outliers*** - do que a média. Isso significa que a mediana é uma medida mais robusta em relação a outliers do que a média."
   ]
  },
  {
   "cell_type": "code",
   "execution_count": null,
   "metadata": {},
   "outputs": [],
   "source": []
  },
  {
   "cell_type": "markdown",
   "metadata": {
    "colab_type": "text",
    "id": "aiUMqZU4rmWj"
   },
   "source": [
    "#### Exemplo com numpy"
   ]
  },
  {
   "cell_type": "code",
   "execution_count": 16,
   "metadata": {
    "ExecuteTime": {
     "end_time": "2021-07-27T20:01:34.388871Z",
     "start_time": "2021-07-27T20:01:34.374906Z"
    }
   },
   "outputs": [
    {
     "data": {
      "text/plain": [
       "array([0.0e+00, 1.0e-01, 1.0e-01, 2.0e-01, 2.5e-01, 5.0e-01, 7.0e-01,\n",
       "       9.0e-01, 1.1e+00, 1.0e+04])"
      ]
     },
     "execution_count": 16,
     "metadata": {},
     "output_type": "execute_result"
    }
   ],
   "source": [
    "dados = np.array([0, 0.1, 0.1, 0.2, 0.25, 0.5, 0.7, 0.9, 1.1, 10000])\n",
    "dados"
   ]
  },
  {
   "cell_type": "code",
   "execution_count": 19,
   "metadata": {
    "ExecuteTime": {
     "end_time": "2021-07-27T20:02:43.594547Z",
     "start_time": "2021-07-27T20:02:43.581545Z"
    }
   },
   "outputs": [
    {
     "data": {
      "text/plain": [
       "1000.385"
      ]
     },
     "execution_count": 19,
     "metadata": {},
     "output_type": "execute_result"
    }
   ],
   "source": [
    "# media\n",
    "media = dados.mean()\n",
    "media"
   ]
  },
  {
   "cell_type": "code",
   "execution_count": 18,
   "metadata": {
    "ExecuteTime": {
     "end_time": "2021-07-27T20:02:22.486914Z",
     "start_time": "2021-07-27T20:02:22.472373Z"
    }
   },
   "outputs": [
    {
     "data": {
      "text/plain": [
       "1000.385"
      ]
     },
     "execution_count": 18,
     "metadata": {},
     "output_type": "execute_result"
    }
   ],
   "source": [
    "np.mean(dados)"
   ]
  },
  {
   "cell_type": "code",
   "execution_count": 21,
   "metadata": {
    "ExecuteTime": {
     "end_time": "2021-07-27T20:03:50.428116Z",
     "start_time": "2021-07-27T20:03:50.410641Z"
    }
   },
   "outputs": [
    {
     "data": {
      "text/plain": [
       "0.375"
      ]
     },
     "execution_count": 21,
     "metadata": {},
     "output_type": "execute_result"
    }
   ],
   "source": [
    "# mediana\n",
    "mediana = np.median(dados)\n",
    "mediana"
   ]
  },
  {
   "cell_type": "code",
   "execution_count": 22,
   "metadata": {
    "ExecuteTime": {
     "end_time": "2021-07-27T20:04:08.367654Z",
     "start_time": "2021-07-27T20:04:08.355657Z"
    },
    "colab": {},
    "colab_type": "code",
    "id": "37eFmwl4rmWm"
   },
   "outputs": [
    {
     "name": "stdout",
     "output_type": "stream",
     "text": [
      "Média: 1000.385\n",
      "Mediana: 0.375\n"
     ]
    }
   ],
   "source": [
    "print('Média: {}'.format(media))\n",
    "print('Mediana: {}'.format(mediana))"
   ]
  },
  {
   "cell_type": "markdown",
   "metadata": {
    "colab_type": "text",
    "id": "a16wOzFSrmWs"
   },
   "source": [
    "Observamos que, dos 10 dados, 9 estão concentrados próximo a 0 e 1 tem o valor 10.000. Enquanto que a média de aproximadamente 1.000 é afetada pelo valor extremo, a mediana de 0.375 não o é. É comum chamarmos observações atípicas, como o valor 10.000 neste caso, de outliers.\n",
    "\n",
    "**Observação:** Note que como no exemplo acima existe um número par de dados, a mediana foi tomada como a média entre 0.25 e 0.5, as observações 5 e 6 em ordem crescente."
   ]
  },
  {
   "cell_type": "markdown",
   "metadata": {},
   "source": [
    "### Moda\n",
    "\n",
    "A moda é o valor mais frequente observado nos dados. **Como em variáveis contínuas, tipicamente, não observamos valores repetidos, a moda não é usada nestes casos. Por outro lado, dentre média, mediana e moda, a moda é a única medida resumo que pode ser aplicada a variáveis qualitativas.**\n",
    "\n",
    "Considere que observamos os dados: **azul, azul, azul, vermelho, verde, verde**. Observamos as cores azul, vermelho e verde respectivamente, 3, 1 e 2 vezes. Portanto, a cor azul é a mais frequente, sendo a moda desta variável.\n",
    "\n",
    "**Vamos aplicar ao nosso dataset?**"
   ]
  },
  {
   "cell_type": "code",
   "execution_count": 23,
   "metadata": {
    "ExecuteTime": {
     "end_time": "2021-07-27T20:06:48.588189Z",
     "start_time": "2021-07-27T20:06:48.561183Z"
    }
   },
   "outputs": [
    {
     "data": {
      "text/html": [
       "<div>\n",
       "<style scoped>\n",
       "    .dataframe tbody tr th:only-of-type {\n",
       "        vertical-align: middle;\n",
       "    }\n",
       "\n",
       "    .dataframe tbody tr th {\n",
       "        vertical-align: top;\n",
       "    }\n",
       "\n",
       "    .dataframe thead th {\n",
       "        text-align: right;\n",
       "    }\n",
       "</style>\n",
       "<table border=\"1\" class=\"dataframe\">\n",
       "  <thead>\n",
       "    <tr style=\"text-align: right;\">\n",
       "      <th></th>\n",
       "      <th>PassengerId</th>\n",
       "      <th>Survived</th>\n",
       "      <th>Pclass</th>\n",
       "      <th>Name</th>\n",
       "      <th>Sex</th>\n",
       "      <th>Age</th>\n",
       "      <th>SibSp</th>\n",
       "      <th>Parch</th>\n",
       "      <th>Ticket</th>\n",
       "      <th>Fare</th>\n",
       "      <th>Cabin</th>\n",
       "      <th>Embarked</th>\n",
       "    </tr>\n",
       "  </thead>\n",
       "  <tbody>\n",
       "    <tr>\n",
       "      <th>0</th>\n",
       "      <td>1</td>\n",
       "      <td>0</td>\n",
       "      <td>3</td>\n",
       "      <td>Braund, Mr. Owen Harris</td>\n",
       "      <td>male</td>\n",
       "      <td>22.0</td>\n",
       "      <td>1</td>\n",
       "      <td>0</td>\n",
       "      <td>A/5 21171</td>\n",
       "      <td>7.2500</td>\n",
       "      <td>NaN</td>\n",
       "      <td>S</td>\n",
       "    </tr>\n",
       "    <tr>\n",
       "      <th>1</th>\n",
       "      <td>2</td>\n",
       "      <td>1</td>\n",
       "      <td>1</td>\n",
       "      <td>Cumings, Mrs. John Bradley (Florence Briggs Th...</td>\n",
       "      <td>female</td>\n",
       "      <td>38.0</td>\n",
       "      <td>1</td>\n",
       "      <td>0</td>\n",
       "      <td>PC 17599</td>\n",
       "      <td>71.2833</td>\n",
       "      <td>C85</td>\n",
       "      <td>C</td>\n",
       "    </tr>\n",
       "    <tr>\n",
       "      <th>2</th>\n",
       "      <td>3</td>\n",
       "      <td>1</td>\n",
       "      <td>3</td>\n",
       "      <td>Heikkinen, Miss. Laina</td>\n",
       "      <td>female</td>\n",
       "      <td>26.0</td>\n",
       "      <td>0</td>\n",
       "      <td>0</td>\n",
       "      <td>STON/O2. 3101282</td>\n",
       "      <td>7.9250</td>\n",
       "      <td>NaN</td>\n",
       "      <td>S</td>\n",
       "    </tr>\n",
       "    <tr>\n",
       "      <th>3</th>\n",
       "      <td>4</td>\n",
       "      <td>1</td>\n",
       "      <td>1</td>\n",
       "      <td>Futrelle, Mrs. Jacques Heath (Lily May Peel)</td>\n",
       "      <td>female</td>\n",
       "      <td>35.0</td>\n",
       "      <td>1</td>\n",
       "      <td>0</td>\n",
       "      <td>113803</td>\n",
       "      <td>53.1000</td>\n",
       "      <td>C123</td>\n",
       "      <td>S</td>\n",
       "    </tr>\n",
       "    <tr>\n",
       "      <th>4</th>\n",
       "      <td>5</td>\n",
       "      <td>0</td>\n",
       "      <td>3</td>\n",
       "      <td>Allen, Mr. William Henry</td>\n",
       "      <td>male</td>\n",
       "      <td>35.0</td>\n",
       "      <td>0</td>\n",
       "      <td>0</td>\n",
       "      <td>373450</td>\n",
       "      <td>8.0500</td>\n",
       "      <td>NaN</td>\n",
       "      <td>S</td>\n",
       "    </tr>\n",
       "  </tbody>\n",
       "</table>\n",
       "</div>"
      ],
      "text/plain": [
       "   PassengerId  Survived  Pclass  \\\n",
       "0            1         0       3   \n",
       "1            2         1       1   \n",
       "2            3         1       3   \n",
       "3            4         1       1   \n",
       "4            5         0       3   \n",
       "\n",
       "                                                Name     Sex   Age  SibSp  \\\n",
       "0                            Braund, Mr. Owen Harris    male  22.0      1   \n",
       "1  Cumings, Mrs. John Bradley (Florence Briggs Th...  female  38.0      1   \n",
       "2                             Heikkinen, Miss. Laina  female  26.0      0   \n",
       "3       Futrelle, Mrs. Jacques Heath (Lily May Peel)  female  35.0      1   \n",
       "4                           Allen, Mr. William Henry    male  35.0      0   \n",
       "\n",
       "   Parch            Ticket     Fare Cabin Embarked  \n",
       "0      0         A/5 21171   7.2500   NaN        S  \n",
       "1      0          PC 17599  71.2833   C85        C  \n",
       "2      0  STON/O2. 3101282   7.9250   NaN        S  \n",
       "3      0            113803  53.1000  C123        S  \n",
       "4      0            373450   8.0500   NaN        S  "
      ]
     },
     "execution_count": 23,
     "metadata": {},
     "output_type": "execute_result"
    }
   ],
   "source": [
    "df.head()"
   ]
  },
  {
   "cell_type": "code",
   "execution_count": 24,
   "metadata": {
    "ExecuteTime": {
     "end_time": "2021-07-27T20:08:15.135669Z",
     "start_time": "2021-07-27T20:08:15.123650Z"
    }
   },
   "outputs": [
    {
     "data": {
      "text/plain": [
       "male      577\n",
       "female    314\n",
       "Name: Sex, dtype: int64"
      ]
     },
     "execution_count": 24,
     "metadata": {},
     "output_type": "execute_result"
    }
   ],
   "source": [
    "# quantos valores temos na varoiável 'Sex'\n",
    "df['Sex'].value_counts()"
   ]
  },
  {
   "cell_type": "code",
   "execution_count": 27,
   "metadata": {
    "ExecuteTime": {
     "end_time": "2021-07-27T20:09:40.223145Z",
     "start_time": "2021-07-27T20:09:40.215605Z"
    }
   },
   "outputs": [
    {
     "data": {
      "text/plain": [
       "0    male\n",
       "dtype: object"
      ]
     },
     "execution_count": 27,
     "metadata": {},
     "output_type": "execute_result"
    }
   ],
   "source": [
    "df['Sex'].mode()"
   ]
  },
  {
   "cell_type": "markdown",
   "metadata": {
    "colab_type": "text",
    "id": "_-0gjQWFjQMu"
   },
   "source": [
    "### Relação entre média, mediana e moda"
   ]
  },
  {
   "cell_type": "markdown",
   "metadata": {
    "colab_type": "text",
    "id": "0S7pa_jLjQMu"
   },
   "source": [
    "<img src='https://caelum-online-public.s3.amazonaws.com/1177-estatistica-parte1/01/img004.png' width='80%'>"
   ]
  },
  {
   "cell_type": "markdown",
   "metadata": {},
   "source": [
    "- Assimetria à direita: $moda < mediana < média$\n",
    "- Assimetria à esquerda: $moda > mediana > média$"
   ]
  },
  {
   "cell_type": "markdown",
   "metadata": {},
   "source": [
    "#### Analisando a coluna `Age`"
   ]
  },
  {
   "cell_type": "code",
   "execution_count": 28,
   "metadata": {
    "ExecuteTime": {
     "end_time": "2021-07-27T20:22:13.845346Z",
     "start_time": "2021-07-27T20:22:13.833836Z"
    }
   },
   "outputs": [
    {
     "data": {
      "text/plain": [
       "29.69911764705882"
      ]
     },
     "execution_count": 28,
     "metadata": {},
     "output_type": "execute_result"
    }
   ],
   "source": [
    "# media\n",
    "df['Age'].mean()"
   ]
  },
  {
   "cell_type": "code",
   "execution_count": 29,
   "metadata": {
    "ExecuteTime": {
     "end_time": "2021-07-27T20:22:27.375468Z",
     "start_time": "2021-07-27T20:22:27.367281Z"
    }
   },
   "outputs": [
    {
     "data": {
      "text/plain": [
       "28.0"
      ]
     },
     "execution_count": 29,
     "metadata": {},
     "output_type": "execute_result"
    }
   ],
   "source": [
    "# mediana\n",
    "df['Age'].median() # -> equivalente a pd.median(df['Age'])"
   ]
  },
  {
   "cell_type": "code",
   "execution_count": 30,
   "metadata": {
    "ExecuteTime": {
     "end_time": "2021-07-27T20:23:33.333291Z",
     "start_time": "2021-07-27T20:23:33.328325Z"
    }
   },
   "outputs": [
    {
     "data": {
      "text/plain": [
       "0    24.0\n",
       "dtype: float64"
      ]
     },
     "execution_count": 30,
     "metadata": {},
     "output_type": "execute_result"
    }
   ],
   "source": [
    "# moda\n",
    "df['Age'].mode()"
   ]
  },
  {
   "cell_type": "markdown",
   "metadata": {},
   "source": [
    "**Conclusão**: moda < mediana < media ==> Assimetrica a direita"
   ]
  },
  {
   "cell_type": "markdown",
   "metadata": {},
   "source": [
    "#### Analisando a coluna `Fare`"
   ]
  },
  {
   "cell_type": "code",
   "execution_count": 35,
   "metadata": {
    "ExecuteTime": {
     "end_time": "2021-07-27T20:27:16.011085Z",
     "start_time": "2021-07-27T20:27:15.999467Z"
    }
   },
   "outputs": [
    {
     "data": {
      "text/plain": [
       "32.2042079685746"
      ]
     },
     "execution_count": 35,
     "metadata": {},
     "output_type": "execute_result"
    }
   ],
   "source": [
    "# media\n",
    "df['Fare'].mean()"
   ]
  },
  {
   "cell_type": "code",
   "execution_count": 36,
   "metadata": {
    "ExecuteTime": {
     "end_time": "2021-07-27T20:27:26.342634Z",
     "start_time": "2021-07-27T20:27:26.328648Z"
    }
   },
   "outputs": [
    {
     "data": {
      "text/plain": [
       "14.4542"
      ]
     },
     "execution_count": 36,
     "metadata": {},
     "output_type": "execute_result"
    }
   ],
   "source": [
    "# mediana\n",
    "df['Fare'].median()"
   ]
  },
  {
   "cell_type": "code",
   "execution_count": 37,
   "metadata": {
    "ExecuteTime": {
     "end_time": "2021-07-27T20:28:09.563932Z",
     "start_time": "2021-07-27T20:28:09.555936Z"
    }
   },
   "outputs": [
    {
     "data": {
      "text/plain": [
       "0    8.05\n",
       "dtype: float64"
      ]
     },
     "execution_count": 37,
     "metadata": {},
     "output_type": "execute_result"
    }
   ],
   "source": [
    "# moda\n",
    "df['Fare'].mode()"
   ]
  },
  {
   "cell_type": "markdown",
   "metadata": {},
   "source": [
    "**Conclusão:** moda < mediana < media ==> assimétrica a direita"
   ]
  },
  {
   "cell_type": "markdown",
   "metadata": {
    "colab_type": "text",
    "id": "8TPi0tYWrmWz"
   },
   "source": [
    "## Medidas de Dispersão (ou de Variabilidade)\n",
    "\n",
    "As medidas de dispersão indicam o quanto as observações variam ao redor da medida de centralidade. Em outras palavras, indicam o quão longe podemos esperar que uma observação esteja do valor típico para aquela variável. Existem diversas medidas de variabilidade, as quais veremos a seguir."
   ]
  },
  {
   "cell_type": "markdown",
   "metadata": {},
   "source": [
    "**Primeiro, graficamente, o quanto os nossos dados variam em relação ao valor médio:**"
   ]
  },
  {
   "cell_type": "code",
   "execution_count": 38,
   "metadata": {
    "ExecuteTime": {
     "end_time": "2021-07-27T20:29:39.121236Z",
     "start_time": "2021-07-27T20:29:39.110238Z"
    }
   },
   "outputs": [
    {
     "data": {
      "text/plain": [
       "29.69911764705882"
      ]
     },
     "execution_count": 38,
     "metadata": {},
     "output_type": "execute_result"
    }
   ],
   "source": [
    "# media\n",
    "df['Age'].mean()"
   ]
  },
  {
   "cell_type": "code",
   "execution_count": 39,
   "metadata": {
    "ExecuteTime": {
     "end_time": "2021-07-27T20:29:57.221133Z",
     "start_time": "2021-07-27T20:29:57.009780Z"
    }
   },
   "outputs": [
    {
     "data": {
      "text/plain": [
       "[<matplotlib.lines.Line2D at 0x1babf60c8b0>]"
      ]
     },
     "execution_count": 39,
     "metadata": {},
     "output_type": "execute_result"
    },
    {
     "data": {
      "image/png": "[encoded data removed]",
      "text/plain": [
       "<Figure size 1296x360 with 1 Axes>"
      ]
     },
     "metadata": {},
     "output_type": "display_data"
    }
   ],
   "source": [
    "# não se preocupe com isso até as próximas aulas!\n",
    "plt.figure(figsize=(18,5))\n",
    "\n",
    "plt.scatter(df['Age'], [0] * 891)\n",
    "plt.plot([29.69911764705882], [0], color='red', marker='o', markersize=20)"
   ]
  },
  {
   "cell_type": "code",
   "execution_count": 40,
   "metadata": {
    "ExecuteTime": {
     "end_time": "2021-07-27T20:31:44.428497Z",
     "start_time": "2021-07-27T20:31:44.422498Z"
    }
   },
   "outputs": [
    {
     "data": {
      "text/plain": [
       "80.0"
      ]
     },
     "execution_count": 40,
     "metadata": {},
     "output_type": "execute_result"
    }
   ],
   "source": [
    "# max\n",
    "\n",
    "## SELECT MAX(AGE) from tabela\n",
    "df['Age'].max()"
   ]
  },
  {
   "cell_type": "code",
   "execution_count": 41,
   "metadata": {
    "ExecuteTime": {
     "end_time": "2021-07-27T20:31:58.640764Z",
     "start_time": "2021-07-27T20:31:58.625799Z"
    }
   },
   "outputs": [
    {
     "data": {
      "text/plain": [
       "0.42"
      ]
     },
     "execution_count": 41,
     "metadata": {},
     "output_type": "execute_result"
    }
   ],
   "source": [
    "# min\n",
    "df['Age'].min()"
   ]
  },
  {
   "cell_type": "code",
   "execution_count": 42,
   "metadata": {
    "ExecuteTime": {
     "end_time": "2021-07-27T20:32:33.516469Z",
     "start_time": "2021-07-27T20:32:33.498437Z"
    }
   },
   "outputs": [
    {
     "data": {
      "text/html": [
       "<div>\n",
       "<style scoped>\n",
       "    .dataframe tbody tr th:only-of-type {\n",
       "        vertical-align: middle;\n",
       "    }\n",
       "\n",
       "    .dataframe tbody tr th {\n",
       "        vertical-align: top;\n",
       "    }\n",
       "\n",
       "    .dataframe thead th {\n",
       "        text-align: right;\n",
       "    }\n",
       "</style>\n",
       "<table border=\"1\" class=\"dataframe\">\n",
       "  <thead>\n",
       "    <tr style=\"text-align: right;\">\n",
       "      <th>Matérias</th>\n",
       "      <th>Fulano</th>\n",
       "      <th>Beltrano</th>\n",
       "      <th>Sicrano</th>\n",
       "    </tr>\n",
       "  </thead>\n",
       "  <tbody>\n",
       "    <tr>\n",
       "      <th>Matemática</th>\n",
       "      <td>8</td>\n",
       "      <td>10.0</td>\n",
       "      <td>7.5</td>\n",
       "    </tr>\n",
       "    <tr>\n",
       "      <th>Português</th>\n",
       "      <td>10</td>\n",
       "      <td>2.0</td>\n",
       "      <td>8.0</td>\n",
       "    </tr>\n",
       "    <tr>\n",
       "      <th>Inglês</th>\n",
       "      <td>4</td>\n",
       "      <td>0.5</td>\n",
       "      <td>7.0</td>\n",
       "    </tr>\n",
       "    <tr>\n",
       "      <th>Geografia</th>\n",
       "      <td>8</td>\n",
       "      <td>1.0</td>\n",
       "      <td>8.0</td>\n",
       "    </tr>\n",
       "    <tr>\n",
       "      <th>História</th>\n",
       "      <td>6</td>\n",
       "      <td>3.0</td>\n",
       "      <td>8.0</td>\n",
       "    </tr>\n",
       "    <tr>\n",
       "      <th>Física</th>\n",
       "      <td>10</td>\n",
       "      <td>9.5</td>\n",
       "      <td>8.5</td>\n",
       "    </tr>\n",
       "    <tr>\n",
       "      <th>Química</th>\n",
       "      <td>8</td>\n",
       "      <td>10.0</td>\n",
       "      <td>7.0</td>\n",
       "    </tr>\n",
       "  </tbody>\n",
       "</table>\n",
       "</div>"
      ],
      "text/plain": [
       "Matérias    Fulano  Beltrano  Sicrano\n",
       "Matemática       8      10.0      7.5\n",
       "Português       10       2.0      8.0\n",
       "Inglês           4       0.5      7.0\n",
       "Geografia        8       1.0      8.0\n",
       "História         6       3.0      8.0\n",
       "Física          10       9.5      8.5\n",
       "Química          8      10.0      7.0"
      ]
     },
     "execution_count": 42,
     "metadata": {},
     "output_type": "execute_result"
    }
   ],
   "source": [
    "# Outro exemplo do \"problema\" de analisar apenas as medidas de tendência central\n",
    "\n",
    "df2 = pd.DataFrame(data = {'Fulano': [8, 10, 4, 8, 6, 10, 8],\n",
    "                          'Beltrano': [10, 2, 0.5, 1, 3, 9.5, 10],\n",
    "                          'Sicrano': [7.5, 8, 7, 8, 8, 8.5, 7]}, \n",
    "                  index = ['Matemática', \n",
    "                           'Português', \n",
    "                           'Inglês', \n",
    "                           'Geografia', \n",
    "                           'História', \n",
    "                           'Física', \n",
    "                           'Química'])\n",
    "df2.rename_axis('Matérias', axis = 'columns', inplace = True)\n",
    "df2"
   ]
  },
  {
   "cell_type": "code",
   "execution_count": 45,
   "metadata": {
    "ExecuteTime": {
     "end_time": "2021-07-27T20:34:02.489345Z",
     "start_time": "2021-07-27T20:34:02.471348Z"
    }
   },
   "outputs": [
    {
     "name": "stdout",
     "output_type": "stream",
     "text": [
      "7.714285714285714\n",
      "5.142857142857143\n",
      "7.714285714285714\n"
     ]
    }
   ],
   "source": [
    "print(df2['Fulano'].mean())\n",
    "print(df2['Beltrano'].mean())\n",
    "print(df2['Sicrano'].mean())"
   ]
  },
  {
   "cell_type": "markdown",
   "metadata": {},
   "source": [
    "### Amplitude\n",
    "\n",
    "A amplitude é a diferença entre o maior e o menor valor observado. Esta medida de variabilidade é fortemente influenciada por valores extremos nas observações, como *outliers*."
   ]
  },
  {
   "cell_type": "code",
   "execution_count": 46,
   "metadata": {
    "ExecuteTime": {
     "end_time": "2021-07-27T20:35:38.817952Z",
     "start_time": "2021-07-27T20:35:38.797827Z"
    }
   },
   "outputs": [
    {
     "data": {
      "text/plain": [
       "array([0.0e+00, 1.0e-01, 1.0e-01, 2.0e-01, 2.5e-01, 5.0e-01, 7.0e-01,\n",
       "       9.0e-01, 1.1e+00, 1.0e+04])"
      ]
     },
     "execution_count": 46,
     "metadata": {},
     "output_type": "execute_result"
    }
   ],
   "source": [
    "dados"
   ]
  },
  {
   "cell_type": "code",
   "execution_count": 47,
   "metadata": {
    "ExecuteTime": {
     "end_time": "2021-07-27T20:36:38.383673Z",
     "start_time": "2021-07-27T20:36:38.374613Z"
    }
   },
   "outputs": [
    {
     "name": "stdout",
     "output_type": "stream",
     "text": [
      "10000.0 0.0\n"
     ]
    }
   ],
   "source": [
    "# max e min\n",
    "dados_max = np.max(dados)\n",
    "dados_min = np.min(dados)\n",
    "print(dados_max, dados_min)"
   ]
  },
  {
   "cell_type": "code",
   "execution_count": 48,
   "metadata": {
    "ExecuteTime": {
     "end_time": "2021-07-27T20:36:59.110307Z",
     "start_time": "2021-07-27T20:36:59.097259Z"
    }
   },
   "outputs": [
    {
     "data": {
      "text/plain": [
       "10000.0"
      ]
     },
     "execution_count": 48,
     "metadata": {},
     "output_type": "execute_result"
    }
   ],
   "source": [
    "# amplitude\n",
    "amplitude = dados_max - dados_min\n",
    "amplitude"
   ]
  },
  {
   "cell_type": "code",
   "execution_count": 49,
   "metadata": {
    "ExecuteTime": {
     "end_time": "2021-07-27T20:37:13.498137Z",
     "start_time": "2021-07-27T20:37:13.486138Z"
    }
   },
   "outputs": [
    {
     "data": {
      "text/plain": [
       "1000.385"
      ]
     },
     "execution_count": 49,
     "metadata": {},
     "output_type": "execute_result"
    }
   ],
   "source": [
    "#media\n",
    "np.mean(dados)"
   ]
  },
  {
   "cell_type": "markdown",
   "metadata": {
    "colab_type": "text",
    "id": "L0KgtQ41rmXD"
   },
   "source": [
    "### Variância e Desvio Padrão\n",
    "\n",
    "*Exemplo*: suponha que você precisa de uma máquina que fabrique parafusos com 5 cm de comprimento, e receba proposta de duas empresas interessadas em te vender uma máquina de fazer parafusos. Abaixo estão os resultados de um teste que foi realizado referente à produção de parafusos das duas máquinas:\n",
    "\n",
    "$$ M_1 = [3,3,5,7,7] $$\n",
    "\n",
    "$$ M_2 = [4,4,5,6,6] $$\n",
    "\n",
    "Qual das duas máquinas você compraria?\n",
    "\n",
    "---\n",
    "\n",
    "Intuitivamente, podemos imaginar uma medida de variabilidade que calcule a média do quanto os dados desviam do centro. Se tomarmos como centro das observações a média, então podemos pensar no desvio da i-ésima observação como $D_i=X_i−\\overline{X}$. Contudo, esta medida de desvio apresenta um problema.\n",
    "\n",
    "Por exemplo, considere os dados: 0, 10, 20. A média das observações é 10 e os desvios são: -10, 0, 10. Assim, se tomarmos a média dos desvios obteremos o valor 0. \n",
    "O problema é que, ainda que o desvio de 0 e 20 sejam -10 e 10, estas observações estão igualmente distantes da média. Para corrigir este problema, podemos tomar a média dos desvios ao quadrado, isto é, a média de $D^2_i=(X_i−\\overline{X})^2$.\n",
    "\n",
    "No exemplo apresentado, os desvios ao quadrado são 100, 0 e 100 e a média destes valores é 200/3. Neste caso, as observações -10 e 10 contribuem igualmente para a variabilidade dos dados em relação à média. Formalmente, a variância, $s^2$, é definida como:\n",
    "\n",
    "$$ s^2 = \\sum_{i=1}^{n}\\frac{(x-\\overline{x})^{2}}{n - 1} $$\n",
    "\n",
    "Note que a variância não está na mesma escala das observações. Quando os desvios são elevados ao quadrado, a unidade de medida é alterada para o quadrado da unidade de medida original. Assim, para obter uma medida mais interpretável de variabilidade, é comum tomar a raiz quadrada da variância. Esta medida é chamada de desvio padrão, $s$, e é definida como:\n",
    "\n",
    "$$ s=\\sqrt{s^2} $$\n",
    "\n"
   ]
  },
  {
   "cell_type": "code",
   "execution_count": 53,
   "metadata": {
    "ExecuteTime": {
     "end_time": "2021-07-27T20:42:21.080379Z",
     "start_time": "2021-07-27T20:42:21.063413Z"
    }
   },
   "outputs": [
    {
     "data": {
      "text/plain": [
       "5.0"
      ]
     },
     "execution_count": 53,
     "metadata": {},
     "output_type": "execute_result"
    }
   ],
   "source": [
    "# média de M1\n",
    "m1 = [3,3,5,7,7]\n",
    "m1_mean = np.mean(m1)\n",
    "m1_mean\n"
   ]
  },
  {
   "cell_type": "code",
   "execution_count": 51,
   "metadata": {
    "ExecuteTime": {
     "end_time": "2021-07-27T20:40:36.509134Z",
     "start_time": "2021-07-27T20:40:36.503135Z"
    }
   },
   "outputs": [
    {
     "data": {
      "text/plain": [
       "5.0"
      ]
     },
     "execution_count": 51,
     "metadata": {},
     "output_type": "execute_result"
    }
   ],
   "source": [
    "# média de M2\n",
    "np.mean([4,4,5,6,6])"
   ]
  },
  {
   "cell_type": "code",
   "execution_count": 54,
   "metadata": {
    "ExecuteTime": {
     "end_time": "2021-07-27T20:42:44.309767Z",
     "start_time": "2021-07-27T20:42:44.292417Z"
    }
   },
   "outputs": [
    {
     "data": {
      "text/plain": [
       "array([-2., -2.,  0.,  2.,  2.])"
      ]
     },
     "execution_count": 54,
     "metadata": {},
     "output_type": "execute_result"
    }
   ],
   "source": [
    "# Di = Xi - Xi_bar\n",
    "\n",
    "D1 = m1 - m1_mean\n",
    "D1"
   ]
  },
  {
   "cell_type": "code",
   "execution_count": 55,
   "metadata": {
    "ExecuteTime": {
     "end_time": "2021-07-27T20:43:15.653766Z",
     "start_time": "2021-07-27T20:43:15.636151Z"
    }
   },
   "outputs": [
    {
     "data": {
      "text/plain": [
       "0.0"
      ]
     },
     "execution_count": 55,
     "metadata": {},
     "output_type": "execute_result"
    }
   ],
   "source": [
    "D1_total = D1.sum()\n",
    "D1_total"
   ]
  },
  {
   "cell_type": "code",
   "execution_count": 56,
   "metadata": {
    "ExecuteTime": {
     "end_time": "2021-07-27T20:43:54.409968Z",
     "start_time": "2021-07-27T20:43:54.402967Z"
    }
   },
   "outputs": [
    {
     "data": {
      "text/plain": [
       "5.0"
      ]
     },
     "execution_count": 56,
     "metadata": {},
     "output_type": "execute_result"
    }
   ],
   "source": [
    "# média de M2\n",
    "m2 = [4,4,5,6,6]\n",
    "m2_mean = np.mean(m2)\n",
    "m2_mean"
   ]
  },
  {
   "cell_type": "code",
   "execution_count": 58,
   "metadata": {
    "ExecuteTime": {
     "end_time": "2021-07-27T20:44:17.407054Z",
     "start_time": "2021-07-27T20:44:17.399543Z"
    }
   },
   "outputs": [
    {
     "data": {
      "text/plain": [
       "array([-1., -1.,  0.,  1.,  1.])"
      ]
     },
     "execution_count": 58,
     "metadata": {},
     "output_type": "execute_result"
    }
   ],
   "source": [
    "# Di = Xi - Xi_bar\n",
    "\n",
    "D2 = m2 - m2_mean\n",
    "D2"
   ]
  },
  {
   "cell_type": "code",
   "execution_count": 59,
   "metadata": {
    "ExecuteTime": {
     "end_time": "2021-07-27T20:44:37.585817Z",
     "start_time": "2021-07-27T20:44:37.574739Z"
    }
   },
   "outputs": [
    {
     "data": {
      "text/plain": [
       "0.0"
      ]
     },
     "execution_count": 59,
     "metadata": {},
     "output_type": "execute_result"
    }
   ],
   "source": [
    "D2_total = D2.sum()\n",
    "D2_total"
   ]
  },
  {
   "cell_type": "code",
   "execution_count": 61,
   "metadata": {
    "ExecuteTime": {
     "end_time": "2021-07-27T20:47:43.898581Z",
     "start_time": "2021-07-27T20:47:43.883498Z"
    }
   },
   "outputs": [
    {
     "data": {
      "text/plain": [
       "array([4., 4., 0., 4., 4.])"
      ]
     },
     "execution_count": 61,
     "metadata": {},
     "output_type": "execute_result"
    }
   ],
   "source": [
    "# variancia de M1\n",
    "D1_quad = (m1 - m1_mean)**2\n",
    "D1_quad"
   ]
  },
  {
   "cell_type": "code",
   "execution_count": 76,
   "metadata": {
    "ExecuteTime": {
     "end_time": "2021-07-27T20:58:57.438143Z",
     "start_time": "2021-07-27T20:58:57.426044Z"
    }
   },
   "outputs": [
    {
     "data": {
      "text/plain": [
       "3.2"
      ]
     },
     "execution_count": 76,
     "metadata": {},
     "output_type": "execute_result"
    }
   ],
   "source": [
    "variancia_1 = D1_quad.sum() / (len(m1) - 1)\n",
    "variancia_1 # em cm^2"
   ]
  },
  {
   "cell_type": "code",
   "execution_count": 65,
   "metadata": {
    "ExecuteTime": {
     "end_time": "2021-07-27T20:51:24.083870Z",
     "start_time": "2021-07-27T20:51:24.071996Z"
    }
   },
   "outputs": [
    {
     "data": {
      "text/plain": [
       "1.0"
      ]
     },
     "execution_count": 65,
     "metadata": {},
     "output_type": "execute_result"
    }
   ],
   "source": [
    "# variancia de M2 [4,4,5,6,6]\n",
    "variancia_2 =  ((4-5)**2 + (4-5)**2 + (5-5)**2 + (6-5)**2 + (6-5)**2 ) / (5 - 1)\n",
    "variancia_2 # em cm^2"
   ]
  },
  {
   "cell_type": "code",
   "execution_count": 67,
   "metadata": {
    "ExecuteTime": {
     "end_time": "2021-07-27T20:53:16.464804Z",
     "start_time": "2021-07-27T20:53:16.451806Z"
    }
   },
   "outputs": [
    {
     "data": {
      "text/plain": [
       "2.0"
      ]
     },
     "execution_count": 67,
     "metadata": {},
     "output_type": "execute_result"
    }
   ],
   "source": [
    "# desvio padrão M1\n",
    "\n",
    "s_1 = np.sqrt(variancia_1)\n",
    "s_1 # em cm (unidade da média)"
   ]
  },
  {
   "cell_type": "code",
   "execution_count": 68,
   "metadata": {
    "ExecuteTime": {
     "end_time": "2021-07-27T20:53:33.724836Z",
     "start_time": "2021-07-27T20:53:33.709841Z"
    }
   },
   "outputs": [
    {
     "data": {
      "text/plain": [
       "1.0"
      ]
     },
     "execution_count": 68,
     "metadata": {},
     "output_type": "execute_result"
    }
   ],
   "source": [
    "# desvio padrão M2\n",
    "\n",
    "s_2 = np.sqrt(variancia_2)\n",
    "s_2 # em cm (unidade da média)"
   ]
  },
  {
   "cell_type": "markdown",
   "metadata": {},
   "source": [
    "### Exemplo com numpy"
   ]
  },
  {
   "cell_type": "code",
   "execution_count": 72,
   "metadata": {
    "ExecuteTime": {
     "end_time": "2021-07-27T20:57:42.379115Z",
     "start_time": "2021-07-27T20:57:42.362599Z"
    }
   },
   "outputs": [
    {
     "data": {
      "text/plain": [
       "1.7888543819998317"
      ]
     },
     "execution_count": 72,
     "metadata": {},
     "output_type": "execute_result"
    }
   ],
   "source": [
    "# desvio padrão\n",
    "np.std(m1)"
   ]
  },
  {
   "cell_type": "code",
   "execution_count": 75,
   "metadata": {
    "ExecuteTime": {
     "end_time": "2021-07-27T20:58:38.280895Z",
     "start_time": "2021-07-27T20:58:38.269884Z"
    }
   },
   "outputs": [
    {
     "data": {
      "text/plain": [
       "3.2"
      ]
     },
     "execution_count": 75,
     "metadata": {},
     "output_type": "execute_result"
    }
   ],
   "source": [
    "# variancia\n",
    "np.var(m1)"
   ]
  },
  {
   "cell_type": "code",
   "execution_count": 74,
   "metadata": {
    "ExecuteTime": {
     "end_time": "2021-07-27T20:58:20.988335Z",
     "start_time": "2021-07-27T20:58:20.981336Z"
    }
   },
   "outputs": [
    {
     "data": {
      "text/plain": [
       "1.7888543819998317"
      ]
     },
     "execution_count": 74,
     "metadata": {},
     "output_type": "execute_result"
    }
   ],
   "source": [
    "np.sqrt(3.2)"
   ]
  },
  {
   "cell_type": "markdown",
   "metadata": {},
   "source": [
    "**Importante:** A diferença do numpy para o calculo manual vem do fator de [Bessel](https://pt.abcdef.wiki/wiki/Bessel's_correction), para n pequeno."
   ]
  },
  {
   "cell_type": "markdown",
   "metadata": {},
   "source": [
    "### Exemplos no pandas"
   ]
  },
  {
   "cell_type": "code",
   "execution_count": 71,
   "metadata": {
    "ExecuteTime": {
     "end_time": "2021-07-27T20:57:03.828992Z",
     "start_time": "2021-07-27T20:57:03.823401Z"
    }
   },
   "outputs": [
    {
     "data": {
      "text/plain": [
       "14.526497332334044"
      ]
     },
     "execution_count": 71,
     "metadata": {},
     "output_type": "execute_result"
    }
   ],
   "source": [
    "# Desvio padrão\n",
    "df['Age'].std()"
   ]
  },
  {
   "cell_type": "code",
   "execution_count": 77,
   "metadata": {
    "ExecuteTime": {
     "end_time": "2021-07-27T21:02:16.931248Z",
     "start_time": "2021-07-27T21:02:16.922725Z"
    }
   },
   "outputs": [
    {
     "data": {
      "text/plain": [
       "211.0191247463081"
      ]
     },
     "execution_count": 77,
     "metadata": {},
     "output_type": "execute_result"
    }
   ],
   "source": [
    "# Variancia\n",
    "df['Age'].var()"
   ]
  },
  {
   "cell_type": "code",
   "execution_count": null,
   "metadata": {
    "ExecuteTime": {
     "end_time": "2021-07-27T00:32:45.767822Z",
     "start_time": "2021-07-27T00:32:45.753788Z"
    }
   },
   "outputs": [],
   "source": []
  },
  {
   "cell_type": "code",
   "execution_count": null,
   "metadata": {
    "ExecuteTime": {
     "end_time": "2021-07-27T00:32:45.783816Z",
     "start_time": "2021-07-27T00:32:45.768786Z"
    }
   },
   "outputs": [],
   "source": []
  },
  {
   "cell_type": "markdown",
   "metadata": {
    "colab_type": "text",
    "id": "PhrT3lNsrmXQ"
   },
   "source": [
    "## Medidas Separatrizes\n",
    "\n",
    "### Quartis, Decis e Percentis\n",
    "\n",
    "Os quartis não são medidas de variabilidade, mas a partir deles, é possível construir o intervalo interquartilíco que é uma medida de variabilidade.\n",
    "Quartis (Q1, Q2 e Q3): São valores dados a partir do conjunto de observações ordenado em ordem crescente, que dividem os seus dados em quatro partes iguais. O primeiro quartil, Q1, é o número que deixa 25% das observações abaixo e 75% acima, enquanto que o terceiro quartil, Q3, deixa 75% das observações abaixo e 25% acima. Já Q2 é a mediana, deixa 50% das observações abaixo e 50% das observações acima."
   ]
  },
  {
   "cell_type": "code",
   "execution_count": null,
   "metadata": {
    "ExecuteTime": {
     "end_time": "2021-07-27T00:32:45.799820Z",
     "start_time": "2021-07-27T00:32:45.784786Z"
    }
   },
   "outputs": [],
   "source": [
    "# Quartis\n",
    "\n"
   ]
  },
  {
   "cell_type": "code",
   "execution_count": null,
   "metadata": {
    "ExecuteTime": {
     "end_time": "2021-07-27T18:52:26.814446Z",
     "start_time": "2021-07-27T18:52:26.811376Z"
    }
   },
   "outputs": [],
   "source": [
    "# lembra da compreensão de listas?\n"
   ]
  },
  {
   "cell_type": "code",
   "execution_count": null,
   "metadata": {
    "ExecuteTime": {
     "end_time": "2021-07-27T18:52:32.393016Z",
     "start_time": "2021-07-27T18:52:32.385105Z"
    }
   },
   "outputs": [],
   "source": [
    "# Decis\n",
    "\n"
   ]
  },
  {
   "cell_type": "code",
   "execution_count": null,
   "metadata": {
    "ExecuteTime": {
     "end_time": "2021-07-27T18:52:37.946265Z",
     "start_time": "2021-07-27T18:52:37.940748Z"
    }
   },
   "outputs": [],
   "source": [
    "# Percentis\n"
   ]
  },
  {
   "cell_type": "markdown",
   "metadata": {
    "colab_type": "text",
    "id": "Lja45YrRrmXg"
   },
   "source": [
    "### Intervalo Interquartílico (IQR)\n",
    "\n",
    "Por construção, aproximadamente metade dos dados estão entre o 1º e o 3º quartil, isto é, este também pode ser interpretado como um intervalo de valores tipicamente assumidos pelas observações. \n"
   ]
  },
  {
   "cell_type": "code",
   "execution_count": null,
   "metadata": {},
   "outputs": [],
   "source": []
  },
  {
   "cell_type": "markdown",
   "metadata": {},
   "source": [
    "### Boxplot\n",
    "\n",
    "<img src='https://caelum-online-public.s3.amazonaws.com/1177-estatistica-parte1/01/img005.png' width='65%'>"
   ]
  },
  {
   "cell_type": "markdown",
   "metadata": {
    "colab_type": "text",
    "id": "amloMZwVjQNN"
   },
   "source": [
    "<img src='https://caelum-online-public.s3.amazonaws.com/1177-estatistica-parte1/01/img006.png' width='65%'>"
   ]
  },
  {
   "cell_type": "markdown",
   "metadata": {
    "colab_type": "text",
    "id": "oqcbjhecrmXl"
   },
   "source": [
    "## Distribuição de Frequências (Tabela de Frequência)"
   ]
  },
  {
   "cell_type": "markdown",
   "metadata": {
    "colab_type": "text",
    "id": "-nqwTd84rmXm"
   },
   "source": [
    "A distribuição de frequências é um agrupamento de dados em classes, de tal forma que contabilizamos o número de ocorrências em cada classe. O número de ocorrências de uma determinada classe recebe o nome de frequência absoluta. O objetivo é apresentar os dados de uma maneira mais concisa e que nos permita extrair informação sobre seu comportamento. A seguir, apresentamos algumas definições necessárias para a construção da distribuição de frequências.\n",
    "\n",
    "- **Frequência absoluta ($f_i$):** É o número de observações correspondente a cada classe. A frequência absoluta é, geralmente, chamada apenas de frequência.\n",
    "\n",
    "- **Frequência relativa ($f_{ri}$):** É o quociente entre a frequência absoluta da classe correspondente e a soma das frequências (total observado), isto é, $ \\displaystyle f_{ri}=\\frac{f_i}{\\sum_{j}f_j} $ onde n representa o número total de observações.\n",
    "\n",
    "- **Frequência percentual ($f_p$):** É obtida multiplicando a frequência relativa por 100%.\n",
    "\n",
    "- **Frequência acumulada:** É o total acumulado (soma) de todas as classes anteriores até a classe atual. Pode ser: frequência acumulada absoluta (Fi), frequência acumulada relativa (Fri), ou frequência acumulada percentual (Pi)."
   ]
  },
  {
   "cell_type": "markdown",
   "metadata": {
    "colab_type": "text",
    "id": "iBYzEirdrmXo"
   },
   "source": [
    "A construção de uma tabela de distribuição de frequências pontual é equivalente à construção de uma tabela simples, onde se listam os diferentes valores observados da variável com suas frequências absolutas, denotadas por ($f_i$) (o índice i corresponde ao número de linhas da Tabela) como é mostrado na Tabela abaixo. Utilizamos a distribuição de frequência pontual quando se trabalha com dados discretos. \n",
    "\n",
    "Um gráfico utilizado para representar este tipo de distribuição de frequência é o Gráfico de Barras."
   ]
  },
  {
   "cell_type": "markdown",
   "metadata": {},
   "source": [
    "---\n",
    "\n",
    "### Distribuição de Frequências para Variáveis Qualitativas"
   ]
  },
  {
   "cell_type": "markdown",
   "metadata": {
    "colab_type": "text",
    "id": "spjSVvMQrmXq"
   },
   "source": [
    "**1. Vamos fazer uma tabela e um gráfico de distribuição de frequências para a variável `Sex` do nosso dataset**"
   ]
  },
  {
   "cell_type": "code",
   "execution_count": null,
   "metadata": {},
   "outputs": [],
   "source": []
  },
  {
   "cell_type": "markdown",
   "metadata": {},
   "source": [
    "### Fazer o mesmo para a variável `Pclass`"
   ]
  },
  {
   "cell_type": "code",
   "execution_count": null,
   "metadata": {},
   "outputs": [],
   "source": []
  },
  {
   "cell_type": "code",
   "execution_count": null,
   "metadata": {},
   "outputs": [],
   "source": []
  },
  {
   "cell_type": "markdown",
   "metadata": {},
   "source": [
    "### Distribuição de Frequências para Variáveis Quantitativas"
   ]
  },
  {
   "cell_type": "markdown",
   "metadata": {
    "colab_type": "text",
    "id": "spjSVvMQrmXq"
   },
   "source": [
    "**Vamos fazer uma tabela e um gráfico de distribuição de frequências para a variável `Age` do nosso dataset**"
   ]
  },
  {
   "cell_type": "code",
   "execution_count": null,
   "metadata": {},
   "outputs": [],
   "source": []
  },
  {
   "cell_type": "markdown",
   "metadata": {},
   "source": [
    "### Definindo um número de classes\n",
    "\n",
    "#### Regra de Sturges\n",
    "\n",
    "$$k = 1 + \\frac{10}{3}\\log_{10}n$$\n",
    "\n",
    "- $k$ é o número de classes  \n",
    "- $n$ é o número de amostras\n",
    "\n",
    "**Vamos aplicar essa regra para os dados da coluna `Age`:**"
   ]
  },
  {
   "cell_type": "code",
   "execution_count": null,
   "metadata": {},
   "outputs": [],
   "source": []
  },
  {
   "cell_type": "markdown",
   "metadata": {},
   "source": [
    "### 3.3.Tabela de Frequência com Cruzamento de Dados"
   ]
  },
  {
   "cell_type": "code",
   "execution_count": null,
   "metadata": {},
   "outputs": [],
   "source": []
  }
 ],
 "metadata": {
  "kernelspec": {
   "display_name": "Python 3",
   "language": "python",
   "name": "python3"
  },
  "language_info": {
   "codemirror_mode": {
    "name": "ipython",
    "version": 3
   },
   "file_extension": ".py",
   "mimetype": "text/x-python",
   "name": "python",
   "nbconvert_exporter": "python",
   "pygments_lexer": "ipython3",
   "version": "3.8.8"
  },
  "toc": {
   "base_numbering": 1,
   "nav_menu": {},
   "number_sections": true,
   "sideBar": true,
   "skip_h1_title": false,
   "title_cell": "Table of Contents",
   "title_sidebar": "Contents",
   "toc_cell": false,
   "toc_position": {},
   "toc_section_display": true,
   "toc_window_display": true
  },
  "toc-autonumbering": false,
  "toc-showcode": false,
  "toc-showmarkdowntxt": false
 },
 "nbformat": 4,
 "nbformat_minor": 4
}
