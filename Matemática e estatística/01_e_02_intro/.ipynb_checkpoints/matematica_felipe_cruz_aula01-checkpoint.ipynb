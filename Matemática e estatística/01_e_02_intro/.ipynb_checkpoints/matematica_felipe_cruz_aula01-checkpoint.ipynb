{
 "cells": [
  {
   "cell_type": "markdown",
   "id": "3b6e04f0",
   "metadata": {},
   "source": [
    "## Exercícios"
   ]
  },
  {
   "cell_type": "markdown",
   "id": "4d72d043",
   "metadata": {},
   "source": [
    "Enviar para o email filipe.furlan@letscode.com.br até **2021/08/06** o notebook (`matematica_firtsname_lastname_aula01.ipynb`) com a resolução dos exercicios abaixo."
   ]
  },
  {
   "cell_type": "markdown",
   "id": "5bf1c796",
   "metadata": {
    "ExecuteTime": {
     "end_time": "2021-07-27T19:50:55.973391Z",
     "start_time": "2021-07-27T19:50:55.954293Z"
    }
   },
   "source": [
    "1. Descreva as seguintes variáveis abaixo como  qualitativa nominal/ordinal ou quantitativa discreta/contínua:\n",
    "\n",
    "    1. ocorrência de hipertensão pré-natal em grávidas com mais de 35 anos (sim ou não): Qualitativa nominal\n",
    "\n",
    "    1. intenção de voto para presidente (as possíveis escolhas são os `nomes` dos presidentes e \"não sei\"): Qualitativa nominal\n",
    "\n",
    "    1. Perda de peso de maratonistas na corrida de São Silvestre (em quilos): Quantitativa contínua\n",
    "\n",
    "    1. intensidade da perda de peso de maratonistas na corrida de São Silvestre (leve, moderada, forte): Qualitativa ordinal\n",
    "\n",
    "    1. Grau de satisfação da população brasileira com relação ao trabalho de seu presidente (valores de 0-5 , com zero indicando totalmente insatisfeito, e 5 totalmente satisfeito): Qualitativa ordinal\n",
    "\n",
    "1. Calcule a media, variancia e desvio padrão dos alunos."
   ]
  },
  {
   "cell_type": "code",
   "execution_count": 1,
   "id": "b8579c0d",
   "metadata": {
    "ExecuteTime": {
     "end_time": "2021-08-01T20:19:23.724154Z",
     "start_time": "2021-08-01T20:19:23.180158Z"
    }
   },
   "outputs": [
    {
     "data": {
      "text/html": [
       "<div>\n",
       "<style scoped>\n",
       "    .dataframe tbody tr th:only-of-type {\n",
       "        vertical-align: middle;\n",
       "    }\n",
       "\n",
       "    .dataframe tbody tr th {\n",
       "        vertical-align: top;\n",
       "    }\n",
       "\n",
       "    .dataframe thead th {\n",
       "        text-align: right;\n",
       "    }\n",
       "</style>\n",
       "<table border=\"1\" class=\"dataframe\">\n",
       "  <thead>\n",
       "    <tr style=\"text-align: right;\">\n",
       "      <th>Matérias</th>\n",
       "      <th>Fulano</th>\n",
       "      <th>Beltrano</th>\n",
       "      <th>Sicrano</th>\n",
       "    </tr>\n",
       "  </thead>\n",
       "  <tbody>\n",
       "    <tr>\n",
       "      <th>Matemática</th>\n",
       "      <td>8</td>\n",
       "      <td>10.0</td>\n",
       "      <td>7.5</td>\n",
       "    </tr>\n",
       "    <tr>\n",
       "      <th>Português</th>\n",
       "      <td>10</td>\n",
       "      <td>2.0</td>\n",
       "      <td>8.0</td>\n",
       "    </tr>\n",
       "    <tr>\n",
       "      <th>Inglês</th>\n",
       "      <td>4</td>\n",
       "      <td>0.5</td>\n",
       "      <td>7.0</td>\n",
       "    </tr>\n",
       "    <tr>\n",
       "      <th>Geografia</th>\n",
       "      <td>8</td>\n",
       "      <td>1.0</td>\n",
       "      <td>8.0</td>\n",
       "    </tr>\n",
       "    <tr>\n",
       "      <th>História</th>\n",
       "      <td>6</td>\n",
       "      <td>3.0</td>\n",
       "      <td>8.0</td>\n",
       "    </tr>\n",
       "    <tr>\n",
       "      <th>Física</th>\n",
       "      <td>10</td>\n",
       "      <td>9.5</td>\n",
       "      <td>8.5</td>\n",
       "    </tr>\n",
       "    <tr>\n",
       "      <th>Química</th>\n",
       "      <td>8</td>\n",
       "      <td>10.0</td>\n",
       "      <td>7.0</td>\n",
       "    </tr>\n",
       "  </tbody>\n",
       "</table>\n",
       "</div>"
      ],
      "text/plain": [
       "Matérias    Fulano  Beltrano  Sicrano\n",
       "Matemática       8      10.0      7.5\n",
       "Português       10       2.0      8.0\n",
       "Inglês           4       0.5      7.0\n",
       "Geografia        8       1.0      8.0\n",
       "História         6       3.0      8.0\n",
       "Física          10       9.5      8.5\n",
       "Química          8      10.0      7.0"
      ]
     },
     "execution_count": 1,
     "metadata": {},
     "output_type": "execute_result"
    }
   ],
   "source": [
    "import pandas as pd\n",
    "\n",
    "df2 = pd.DataFrame(data = {'Fulano': [8, 10, 4, 8, 6, 10, 8],\n",
    "                          'Beltrano': [10, 2, 0.5, 1, 3, 9.5, 10],\n",
    "                          'Sicrano': [7.5, 8, 7, 8, 8, 8.5, 7]}, \n",
    "                  index = ['Matemática', \n",
    "                           'Português', \n",
    "                           'Inglês', \n",
    "                           'Geografia', \n",
    "                           'História', \n",
    "                           'Física', \n",
    "                           'Química'])\n",
    "df2.rename_axis('Matérias', axis = 'columns', inplace = True)\n",
    "df2"
   ]
  },
  {
   "cell_type": "code",
   "execution_count": 9,
   "id": "d23424a2",
   "metadata": {
    "ExecuteTime": {
     "end_time": "2021-08-01T20:26:26.200719Z",
     "start_time": "2021-08-01T20:26:26.182769Z"
    }
   },
   "outputs": [
    {
     "name": "stdout",
     "output_type": "stream",
     "text": [
      "Média Fulano: 7.714285714285714\n",
      "Média Beltrano: 5.142857142857143\n",
      "Média Sicrano: 7.714285714285714\n",
      "Variância Fulano: 4.57142857142857\n",
      "Variância Beltrano: 19.892857142857146\n",
      "Variância Sicrano: 0.32142857142857145\n",
      "Desvio padrão Fulano: 2.1380899352993947\n",
      "Desvio padrão Beltrano: 4.46014093307119\n",
      "Desvio padrão Sicrano: 0.5669467095138409\n"
     ]
    }
   ],
   "source": [
    "mediaFulano = df2['Fulano'].mean()\n",
    "mediaBeltrano = df2['Beltrano'].mean()\n",
    "mediaSicrano = df2['Sicrano'].mean()\n",
    "\n",
    "print(f'Média Fulano: {mediaFulano}')\n",
    "print(f'Média Beltrano: {mediaBeltrano}')\n",
    "print(f'Média Sicrano: {mediaSicrano}')\n",
    "\n",
    "varianciaFulano = df2['Fulano'].var()\n",
    "varianciaBeltrano = df2['Beltrano'].var()\n",
    "varianciaSicrano = df2['Sicrano'].var()\n",
    "\n",
    "print(f'Variância Fulano: {varianciaFulano}')\n",
    "print(f'Variância Beltrano: {varianciaBeltrano}')\n",
    "print(f'Variância Sicrano: {varianciaSicrano}')\n",
    "\n",
    "stdFulano = df2['Fulano'].std()\n",
    "stdBeltrano = df2['Beltrano'].std()\n",
    "stdSicrano = df2['Sicrano'].std()\n",
    "\n",
    "print(f'Desvio padrão Fulano: {stdFulano}')\n",
    "print(f'Desvio padrão Beltrano: {stdBeltrano}')\n",
    "print(f'Desvio padrão Sicrano: {stdSicrano}')"
   ]
  }
 ],
 "metadata": {
  "kernelspec": {
   "display_name": "Python 3",
   "language": "python",
   "name": "python3"
  },
  "language_info": {
   "codemirror_mode": {
    "name": "ipython",
    "version": 3
   },
   "file_extension": ".py",
   "mimetype": "text/x-python",
   "name": "python",
   "nbconvert_exporter": "python",
   "pygments_lexer": "ipython3",
   "version": "3.8.8"
  },
  "toc": {
   "base_numbering": 1,
   "nav_menu": {},
   "number_sections": true,
   "sideBar": true,
   "skip_h1_title": false,
   "title_cell": "Table of Contents",
   "title_sidebar": "Contents",
   "toc_cell": false,
   "toc_position": {},
   "toc_section_display": true,
   "toc_window_display": false
  }
 },
 "nbformat": 4,
 "nbformat_minor": 5
}
