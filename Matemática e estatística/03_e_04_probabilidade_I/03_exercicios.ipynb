{
 "cells": [
  {
   "cell_type": "markdown",
   "id": "5f0bcbbd",
   "metadata": {},
   "source": [
    "# Exercicios"
   ]
  },
  {
   "cell_type": "markdown",
   "id": "48fe63e2",
   "metadata": {},
   "source": [
    "Enviar para o email filipe.furlan@letscode.com.br até **2021/08/06** o notebook (`matematica_firtsname_lastname_aula03.ipynb`) com a resolução dos exercicios abaixo."
   ]
  },
  {
   "cell_type": "markdown",
   "id": "a1db93c1",
   "metadata": {},
   "source": [
    "1. Existem quantos arranjos lineares diferentes das letras A,B,C,D,E,F para os quais A e B estão uma do lado da outra.\n",
    "\n",
    "1. João, Juliano, Jonas e Jackes formaram uma banda com quatro instrumentos. Se cada um é capaz de tocar todos instrumentos, quantas diferentes combinações é possivel se realizar?\n",
    "\n",
    "1. Por muitos anos, os códigos telefônicos de área nos EUA e no Canadá eram formados por uma sequência de 3 algarismos. O primeiro algarismo era um inteiro entre 2 e 9, o segundo algarismo era entre 0 e 1, e o terceiro digito era um inteiro entre 1 e 9. Quantos códigos da área eram possíveis? Quantos códigos de área começando com um 4 eram possíveis?\n",
    "\n",
    "1. De quantas maneiras diferentes 3 garotos e 3 garotas podem sentar-se em fila?\n",
    "\n",
    "1. De quantas formas podemos formar um comitê de 7 pessoas, formado por 2 petistas, 2 democratas e 3 peemedebistas escolhidos de um grupo de 5 petistas, 6 democratas, e 4 peemedebistas?\n",
    "\n",
    "1. Quantos arranjos diferentes podem ser feitos a partir de:\n",
    "\n",
    "    a) sorte  \n",
    "    b) mississipi  \n",
    "    c) arranjo\n",
    "  \n",
    "1. Uma pessoa tem 8 amigos dos quais 5 serão convidados para uma festa.\n",
    "\n",
    "    a) Quantas escolhas existem se dois dos amigos estiverem brigados e por esse motivo não puderem comparecer?  \n",
    "    b) quantas escolhas existem se dois amigos puderem ir apenas se forem juntos?\n",
    "    \n",
    "1. Uma moeda está viciada: a chance de se obter uma cara usando ela é de 0,6. Qual probabilidade de essa moeda apresentar, em qualquer ordem, 3 caras e 7 coroas.\n",
    "\n",
    "1. Uma companhia multinacional tem três fábricas que produzem o mesmo tipo de produto. A fábrica I é responsável por 30% do total produzido, a fábrica II produz 45% do total, e o restante vem da fábrica III. Cada uma das fábricas, no entanto, produz uma proporção de produtos que não atendem aos padrões estabelecidos pelas normas internacionais. Tais produtos são considerados \"defeituosos\" e correspondem a 1%, 2% e 1,5%, respectivamente, dos totais produzidos por fábrica.  No centro de distribuição, é feito o controle de qualidade da produção combinada das fábricas.\n",
    "\n",
    "    a. Qual é a probabilidade de encontrar um produto defeituoso durante a inspeção de qualidade?  \n",
    "    b. Se durante a inspeção encontrarmos um produto defeituoso, qual é a probabilidade de que ele tenha sido produzino na Fábrica II?"
   ]
  },
  {
   "cell_type": "code",
   "execution_count": null,
   "id": "1ce5c61d",
   "metadata": {},
   "outputs": [],
   "source": []
  }
 ],
 "metadata": {
  "kernelspec": {
   "display_name": "Python 3",
   "language": "python",
   "name": "python3"
  },
  "language_info": {
   "codemirror_mode": {
    "name": "ipython",
    "version": 3
   },
   "file_extension": ".py",
   "mimetype": "text/x-python",
   "name": "python",
   "nbconvert_exporter": "python",
   "pygments_lexer": "ipython3",
   "version": "3.8.8"
  },
  "toc": {
   "base_numbering": 1,
   "nav_menu": {},
   "number_sections": true,
   "sideBar": true,
   "skip_h1_title": false,
   "title_cell": "Table of Contents",
   "title_sidebar": "Contents",
   "toc_cell": false,
   "toc_position": {},
   "toc_section_display": true,
   "toc_window_display": false
  }
 },
 "nbformat": 4,
 "nbformat_minor": 5
}
