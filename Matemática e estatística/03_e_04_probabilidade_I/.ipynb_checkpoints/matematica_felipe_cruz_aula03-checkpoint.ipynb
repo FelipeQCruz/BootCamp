{
 "cells": [
  {
   "cell_type": "markdown",
   "id": "5f0bcbbd",
   "metadata": {},
   "source": [
    "# Exercicios"
   ]
  },
  {
   "cell_type": "markdown",
   "id": "48fe63e2",
   "metadata": {},
   "source": [
    "Enviar para o email filipe.furlan@letscode.com.br até **2021/08/06** o notebook (`matematica_firtsname_lastname_aula03.ipynb`) com a resolução dos exercicios abaixo."
   ]
  },
  {
   "cell_type": "markdown",
   "id": "a1db93c1",
   "metadata": {},
   "source": [
    "1. Existem quantos arranjos lineares diferentes das letras A,B,C,D,E,F para os quais A e B estão uma do lado da outra.\n",
    "\n",
    "1. João, Juliano, Jonas e Jackes formaram uma banda com quatro instrumentos. Se cada um é capaz de tocar todos instrumentos, quantas diferentes combinações é possivel se realizar?\n",
    "\n",
    "1. Por muitos anos, os códigos telefônicos de área nos EUA e no Canadá eram formados por uma sequência de 3 algarismos. O primeiro algarismo era um inteiro entre 2 e 9, o segundo algarismo era entre 0 e 1, e o terceiro digito era um inteiro entre 1 e 9. Quantos códigos da área eram possíveis? Quantos códigos de área começando com um 4 eram possíveis?\n",
    "\n",
    "1. De quantas maneiras diferentes 3 garotos e 3 garotas podem sentar-se em fila?\n",
    "\n",
    "1. De quantas formas podemos formar um comitê de 7 pessoas, formado por 2 petistas, 2 democratas e 3 peemedebistas escolhidos de um grupo de 5 petistas, 6 democratas, e 4 peemedebistas?\n",
    "\n",
    "1. Quantos arranjos diferentes podem ser feitos a partir de:\n",
    "\n",
    "    a) sorte  \n",
    "    b) mississipi  \n",
    "    c) arranjo\n",
    "  \n",
    "1. Uma pessoa tem 8 amigos dos quais 5 serão convidados para uma festa.\n",
    "\n",
    "    a) Quantas escolhas existem se dois dos amigos estiverem brigados e por esse motivo não puderem comparecer?  \n",
    "    b) quantas escolhas existem se dois amigos puderem ir apenas se forem juntos?\n",
    "    \n",
    "1. Uma moeda está viciada: a chance de se obter uma cara usando ela é de 0,6. Qual probabilidade de essa moeda apresentar, em qualquer ordem, 3 caras e 7 coroas.\n",
    "\n",
    "1. Uma companhia multinacional tem três fábricas que produzem o mesmo tipo de produto. A fábrica I é responsável por 30% do total produzido, a fábrica II produz 45% do total, e o restante vem da fábrica III. Cada uma das fábricas, no entanto, produz uma proporção de produtos que não atendem aos padrões estabelecidos pelas normas internacionais. Tais produtos são considerados \"defeituosos\" e correspondem a 1%, 2% e 1,5%, respectivamente, dos totais produzidos por fábrica.  No centro de distribuição, é feito o controle de qualidade da produção combinada das fábricas.\n",
    "\n",
    "    a. Qual é a probabilidade de encontrar um produto defeituoso durante a inspeção de qualidade?  \n",
    "    b. Se durante a inspeção encontrarmos um produto defeituoso, qual é a probabilidade de que ele tenha sido produzino na Fábrica II?"
   ]
  },
  {
   "cell_type": "code",
   "execution_count": 19,
   "id": "02e20030",
   "metadata": {
    "ExecuteTime": {
     "end_time": "2021-08-02T02:50:29.213573Z",
     "start_time": "2021-08-02T02:50:29.201465Z"
    }
   },
   "outputs": [],
   "source": [
    "# Declarando as funções\n",
    "def fatorial (n):\n",
    "    f = n\n",
    "    i = n\n",
    "    while i > 1:\n",
    "        i = i - 1\n",
    "        f = f*i\n",
    "    return f\n",
    "\n",
    "def arranjo(n,p):\n",
    "    return fatorial(n) / fatorial(n-p)"
   ]
  },
  {
   "cell_type": "code",
   "execution_count": 10,
   "id": "1ce5c61d",
   "metadata": {
    "ExecuteTime": {
     "end_time": "2021-08-02T02:24:44.133981Z",
     "start_time": "2021-08-02T02:24:44.116032Z"
    }
   },
   "outputs": [
    {
     "name": "stdout",
     "output_type": "stream",
     "text": [
      "Fatorial AB: 2\n",
      "Fatorial C a F: 120\n",
      "Arranjos: 240\n"
     ]
    }
   ],
   "source": [
    "#Existem quantos arranjos lineares diferentes das letras A,B,C,D,E,F para os quais A e B estão uma do lado da outra.\n",
    "\n",
    "# Calculando o fatorial para as letras A, B:\n",
    "AB = fatorial(2)\n",
    "print(f'Fatorial AB: {AB}')\n",
    "# Calculando o fatorial para as letras C, D, E, F, AB, considerando AB como um único termo, portanto 5 termos:\n",
    "CF = fatorial(5)\n",
    "print(f'Fatorial C a F: {CF}')\n",
    "# Multiplicando:\n",
    "ex1 = CF*AB\n",
    "\n",
    "print(f'Arranjos: {ex1}')"
   ]
  },
  {
   "cell_type": "code",
   "execution_count": 11,
   "id": "642e149b",
   "metadata": {
    "ExecuteTime": {
     "end_time": "2021-08-02T02:27:34.364815Z",
     "start_time": "2021-08-02T02:27:34.347507Z"
    }
   },
   "outputs": [
    {
     "name": "stdout",
     "output_type": "stream",
     "text": [
      "Combinações: 24\n"
     ]
    }
   ],
   "source": [
    "# João, Juliano, Jonas e Jackes formaram uma banda com quatro instrumentos. Se cada um é capaz de tocar todos instrumentos, quantas diferentes combinações é possivel se realizar?\n",
    "\n",
    "# Considerando que temos 4 instrumentos, que podem ser usados ao mesmo tempo:\n",
    "\n",
    "ex2 = fatorial(4)\n",
    "\n",
    "print(f'Combinações: {ex2}')"
   ]
  },
  {
   "cell_type": "code",
   "execution_count": 14,
   "id": "0a1dd356",
   "metadata": {
    "ExecuteTime": {
     "end_time": "2021-08-02T02:32:20.072642Z",
     "start_time": "2021-08-02T02:32:20.066694Z"
    }
   },
   "outputs": [
    {
     "name": "stdout",
     "output_type": "stream",
     "text": [
      "Eram possíveis 144 códigos de área\n",
      "Eram possíveis 18 códigos de área começando com 4\n"
     ]
    }
   ],
   "source": [
    "# Por muitos anos, os códigos telefônicos de área nos EUA e no Canadá eram formados por uma sequência de 3 algarismos. \n",
    "# O primeiro algarismo era um inteiro entre 2 e 9, o segundo algarismo era entre 0 e 1, e o terceiro digito era um inteiro entre 1 e 9. Quantos códigos da área eram possíveis? \n",
    "# Quantos códigos de área começando com um 4 eram possíveis?\n",
    "\n",
    "ex3 = 8*2*9\n",
    "print(f'Eram possíveis {ex3} códigos de área')\n",
    "ex3_4 = 1*2*9\n",
    "print(f'Eram possíveis {ex3_4} códigos de área começando com 4')"
   ]
  },
  {
   "cell_type": "code",
   "execution_count": 42,
   "id": "864a8339",
   "metadata": {
    "ExecuteTime": {
     "end_time": "2021-08-02T03:34:45.283106Z",
     "start_time": "2021-08-02T03:34:45.275128Z"
    }
   },
   "outputs": [
    {
     "name": "stdout",
     "output_type": "stream",
     "text": [
      "720 maneiras diferentes, misturando garotos e garotas\n",
      "36 maneiras diferentes, não misturando garotos e garotas\n"
     ]
    }
   ],
   "source": [
    "# De quantas maneiras diferentes 3 garotos e 3 garotas podem sentar-se em fila?\n",
    "\n",
    "# Supondo que podemos misturar garotos e garotas\n",
    "ex4_mix = fatorial(6)\n",
    "print(f'{ex4_mix} maneiras diferentes, misturando garotos e garotas')\n",
    "\n",
    "# Supondo que não podemos misturar garotos e garotas\n",
    "ex4 = fatorial(3)**2\n",
    "print(f'{ex4} maneiras diferentes, não misturando garotos e garotas')"
   ]
  },
  {
   "cell_type": "code",
   "execution_count": 24,
   "id": "4ab60056",
   "metadata": {
    "ExecuteTime": {
     "end_time": "2021-08-02T03:02:45.140909Z",
     "start_time": "2021-08-02T03:02:45.134925Z"
    }
   },
   "outputs": [
    {
     "name": "stdout",
     "output_type": "stream",
     "text": [
      "14400 formas\n"
     ]
    }
   ],
   "source": [
    "# De quantas formas podemos formar um comitê de 7 pessoas, formado por 2 petistas, 2 democratas e 3 peemedebistas escolhidos \n",
    "# de um grupo de 5 petistas, 6 democratas, e 4 peemedebistas?\n",
    "\n",
    "# 2 petistas de 5:\n",
    "pt = arranjo(5, 2)\n",
    "\n",
    "# 2 democratas de 6:\n",
    "dem = arranjo(6, 2)\n",
    "\n",
    "# 3 peemedebistas de 4:\n",
    "pmdb = arranjo(4, 3)\n",
    "\n",
    "# Considerando todas as combinações dos arranjos calculados\n",
    "comite = pt * dem * pmdb\n",
    "\n",
    "print(f'{int(comite)} formas')"
   ]
  },
  {
   "cell_type": "code",
   "execution_count": 30,
   "id": "3ce38031",
   "metadata": {
    "ExecuteTime": {
     "end_time": "2021-08-02T03:08:20.725150Z",
     "start_time": "2021-08-02T03:08:20.709193Z"
    }
   },
   "outputs": [
    {
     "name": "stdout",
     "output_type": "stream",
     "text": [
      "6a) 120 formas\n",
      "6a) 6300 formas\n",
      "6c) 1260 formas\n"
     ]
    }
   ],
   "source": [
    "#Quantos arranjos diferentes podem ser feitos a partir de:\n",
    "\n",
    "#a) sorte\n",
    "#b) mississipi\n",
    "#c) arranjo\n",
    "\n",
    "# a)\n",
    "ex6a = fatorial(5)\n",
    "print(f'6a) {ex6a} formas')\n",
    "\n",
    "# b)\n",
    "ex6b = fatorial(10)/(fatorial(4)*fatorial(4))\n",
    "print(f'6a) {int(ex6b)} formas')\n",
    "\n",
    "# c)\n",
    "ex6c = fatorial(7)/(fatorial(2)*fatorial(2))\n",
    "print(f'6c) {int(ex6c)} formas')"
   ]
  },
  {
   "cell_type": "code",
   "execution_count": 41,
   "id": "c594331b",
   "metadata": {
    "ExecuteTime": {
     "end_time": "2021-08-02T03:31:55.158553Z",
     "start_time": "2021-08-02T03:31:55.147582Z"
    }
   },
   "outputs": [
    {
     "name": "stdout",
     "output_type": "stream",
     "text": [
      "a) 720 escolhas\n",
      "a) 960 escolhas\n"
     ]
    }
   ],
   "source": [
    "# Uma pessoa tem 8 amigos dos quais 5 serão convidados para uma festa.\n",
    "    \n",
    "# a) Quantas escolhas existem se dois dos amigos estiverem brigados e por esse motivo não puderem comparecer?\n",
    "# b) quantas escolhas existem se dois amigos puderem ir apenas se forem juntos?\n",
    "\n",
    "# a) Considerando que, como 2 amigos não podem comparecer, temos 6 possíveis amigos\n",
    "ex7a = arranjo(6, 5)\n",
    "print(f'a) {int(ex7a)} escolhas')\n",
    "\n",
    "# b) \n",
    "# Amigos juntos, considerando 6 amigos com 3 lugares, mais 2 lugares fixos para os outros 2 amigos\n",
    "amigos_juntos = arranjo(6, 3) * fatorial(2)\n",
    "# Sem os amgos que vão juntos, temos 6 amigos para 5 lugares\n",
    "sem_amigos = arranjo(6, 5)\n",
    "# Amigos juntos OU sem os amigos\n",
    "ex7b = amigos_juntos + sem_amigos\n",
    "print(f'a) {int(ex7b)} escolhas')"
   ]
  },
  {
   "cell_type": "code",
   "execution_count": 45,
   "id": "a95a4583",
   "metadata": {
    "ExecuteTime": {
     "end_time": "2021-08-02T03:44:59.435976Z",
     "start_time": "2021-08-02T03:44:59.425006Z"
    }
   },
   "outputs": [
    {
     "name": "stdout",
     "output_type": "stream",
     "text": [
      "Probabilidade: 0.03538944000000001%\n"
     ]
    }
   ],
   "source": [
    "# Uma moeda está viciada: a chance de se obter uma cara usando ela é de 0,6. \n",
    "# Qual probabilidade de essa moeda apresentar, em qualquer ordem, 3 caras e 7 coroas.\n",
    "\n",
    "cara_prob = 0.6\n",
    "coroa_prob = 1 - cara_prob\n",
    "\n",
    "ex8 = (cara_prob**3)*(coroa_prob**7)\n",
    "\n",
    "print(f'Probabilidade: {ex8*100}%')"
   ]
  },
  {
   "cell_type": "markdown",
   "id": "686fa44b",
   "metadata": {},
   "source": [
    "Uma companhia multinacional tem três fábricas que produzem o mesmo tipo de produto. A fábrica I é responsável por 30% do total produzido, a fábrica II produz 45% do total, e o restante vem da fábrica III. Cada uma das fábricas, no entanto, produz uma proporção de produtos que não atendem aos padrões estabelecidos pelas normas internacionais. Tais produtos são considerados \"defeituosos\" e correspondem a 1%, 2% e 1,5%, respectivamente, dos totais produzidos por fábrica. No centro de distribuição, é feito o controle de qualidade da produção combinada das fábricas.\n",
    "\n",
    "a. Qual é a probabilidade de encontrar um produto defeituoso durante a inspeção de qualidade?\n",
    "b. Se durante a inspeção encontrarmos um produto defeituoso, qual é a probabilidade de que ele tenha sido produzino na Fábrica II?"
   ]
  },
  {
   "cell_type": "code",
   "execution_count": 59,
   "id": "59049bbd",
   "metadata": {
    "ExecuteTime": {
     "end_time": "2021-08-02T04:22:17.758543Z",
     "start_time": "2021-08-02T04:22:17.749565Z"
    }
   },
   "outputs": [
    {
     "name": "stdout",
     "output_type": "stream",
     "text": [
      "a) Probabilidade de encontrar um produto defeituoso durante a inspeção de qualidade: 1.575%\n",
      "b) Probabilidade de defeito produzino na Fábrica II: 57.14285714285715%\n"
     ]
    }
   ],
   "source": [
    "f1 = 0.3\n",
    "f2 = 0.45\n",
    "f3 = 1 - f1 - f2\n",
    "\n",
    "def1 = 0.01\n",
    "def2 = 0.02\n",
    "def3 = 0.015\n",
    "\n",
    "a = f1*def1 + f2*def2 + f3*def3\n",
    "print(f'a) Probabilidade de encontrar um produto defeituoso durante a inspeção de qualidade: {a*100}%')\n",
    "\n",
    "probF2 = (f2*def2)/a\n",
    "\n",
    "print(f'b) Probabilidade de defeito produzino na Fábrica II: {probF2*100}%')"
   ]
  }
 ],
 "metadata": {
  "kernelspec": {
   "display_name": "Python 3",
   "language": "python",
   "name": "python3"
  },
  "language_info": {
   "codemirror_mode": {
    "name": "ipython",
    "version": 3
   },
   "file_extension": ".py",
   "mimetype": "text/x-python",
   "name": "python",
   "nbconvert_exporter": "python",
   "pygments_lexer": "ipython3",
   "version": "3.8.8"
  },
  "toc": {
   "base_numbering": 1,
   "nav_menu": {},
   "number_sections": true,
   "sideBar": true,
   "skip_h1_title": false,
   "title_cell": "Table of Contents",
   "title_sidebar": "Contents",
   "toc_cell": false,
   "toc_position": {},
   "toc_section_display": true,
   "toc_window_display": false
  }
 },
 "nbformat": 4,
 "nbformat_minor": 5
}
