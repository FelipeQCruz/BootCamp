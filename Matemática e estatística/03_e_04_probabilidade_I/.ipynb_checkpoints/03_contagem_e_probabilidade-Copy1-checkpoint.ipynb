{
 "cells": [
  {
   "cell_type": "markdown",
   "metadata": {},
   "source": [
    "# Aula 02 - Princípio da Contagem e Probabilidade\n",
    "---\n",
    "\n",
    "## Objetivos\n",
    "\n",
    "O objetivo desta aula é introduzir a ideia de probabilidade, conceitos de variáveis aleatórias, probabilidade condicional e independencia."
   ]
  },
  {
   "cell_type": "markdown",
   "metadata": {},
   "source": [
    "\n",
    "## Bibliotecas usadas\n",
    "\n",
    "- pandas;\n",
    "- numpy;\n",
    "- sklearn;\n",
    "- matplotlib;\n",
    "- random;\n"
   ]
  },
  {
   "cell_type": "code",
   "execution_count": 21,
   "metadata": {},
   "outputs": [],
   "source": [
    "import pandas as pd\n",
    "import numpy as np \n",
    "import matplotlib.pyplot as plt\n",
    "import random\n",
    "import statistics as st\n",
    "from collections import defaultdict"
   ]
  },
  {
   "cell_type": "markdown",
   "metadata": {},
   "source": [
    "# Probabilidade: combinação e permutação \n",
    "\n",
    "## Princípio Básico da Contagem\n",
    "\n",
    "É o princípio utilizado para encontrar o número de possibilidades para um evento constituído de $n$ etapas. Para isso, as etapas devem ser sucessivas e independentes. Se a primeira etapa do evento possui $x$ possibilidades e a segunda etapa é constituída de $y$ possibilidades, então existem $x \\times y$ possibilidades. Portanto, o princípio fundamental da contagem é **a multiplicação das opções dadas para determinar o total de possibilidades**.\n",
    "\n",
    "<center><img src=\"../images/permutacao.png\" width=\"40%\" style=\"background-color: #eee; padding: 30px; border-radius: 20px; margin: 30px 0\" /></center>  \n",
    "\n",
    "### Exemplos\n",
    "\n",
    "- $Ex_1$.: O grêmio da faculdade é formado por 3 calouros, 4 estudantes do segundo ano, 5 estudantes do terceiro ano e 2 formandos. Quantos subcomitês podemos formar? (supondo que estes estarão sentados em ordem no comitê)\n",
    "\n",
    "- $Ex_2$.: De quantos modos distintos eu posso ir a uma festa, se tenho: 5 camisas, 3 calças e dois pares de sapatos?\n",
    "\n",
    "- $Ex_3$.: Quantas diferentes placas de automóvel com  caracteres são possíveis se os 3 primeiros campos forem ocupados por letras e os 4 campos finais por números?\n",
    "\n",
    "- $Ex_4$.: No exemplo anterior quantas placas de automóvel seriam possíveis se a repetição entre letras ou número fosse proibida?\n",
    "\n",
    "- $Ex_5$.: Uma sala possui 3 portas. De quantas maneiras a sala pode **estar aberta**?\n",
    "\n",
    "- $Ex_5$.: A Sra. Jones possui dez livros que pretende colocar em sua prateleira. Destes, quatro são de matemática, três são de química, dois são de história e um é um livro de línguas. A Sra. Jones deseja arranjá-los de forma que todos os livros que tratam do mesmo assunto permaneçam juntos na prateleira. Quantos diferentes arranjos são possíveis?"
   ]
  },
  {
   "cell_type": "markdown",
   "metadata": {},
   "source": [
    "## Permutação\n",
    "---\n",
    "\n",
    "Nesta seção, discutiremos grupos de objetos exclusivos nos quais **a ordem é importante**.\n",
    "\n",
    "### Definição de permutação\n",
    "\n",
    "Considerando uma sequência ordenada qualquer com um número \"n\" de elementos distintos, qualquer outra sequência formada pelos mesmos “n” elementos reordenados é chamada de permutação.\n",
    "    \n",
    "### Permutação simples:\n",
    "\n",
    "**Um arranjo de objetos sem repetição, onde a ordem é importante.**\n",
    "    \n",
    "    \n",
    "Matematicamente, temos:\n",
    "    \n",
    "$$ P_n = n\\cdot (n-1)\\cdot (n-2)\\cdot (n-3) ... \\, 3 \\cdot 2 \\cdot 1 = n! $$\n",
    "    \n",
    "    \n",
    "- $Ex_1$.: Uma turma de teoria de probabilidade é formada por 6 homens e 4 mulheres. Aplica-se uma prova e os estudantes são classificados de acordo com seu desempenho. Suponha que nenhum tenha tirado a mesma nota. Se os homens forem classificados apenas entre si e as mulheres apenas entre si, quantas diferentes classificações são possíveis?\n",
    "\n",
    "- $Ex_2$.: Cinco amigos querem sentar em um sofá para tirar uma foto. De quantas formas diferentes eles podem aparecer na foto, a depender da posição em que eles se acomodem no sofá?\n",
    "\n",
    "\n",
    "### Permutação com repetição:\n",
    "\n",
    "**Vamos agora determinar o número de permutações de um conjunto de n objetos quando não for possível distinguir certos objetos de outros.**\n",
    "      \n",
    "**Exemplos**\n",
    "\n",
    "1. Quantos diferentes arranjos de letras podem ser formados a partir das letras AAB?\n",
    "2. Quantos diferentes arranjos de letras podem ser formados a partir da palavra MAPA?\n",
    "\n",
    "*Respostas*\n",
    "\n",
    "1. $P_{3}^{2} = \\frac{3!}{2!} = \\frac{6}{2} = 3$\n",
    "2. $P_{4}^{2} = \\frac{4!}{2!} = \\frac{24}{2} = 12$\n",
    "\n",
    "**Outro Exemplo**: Um torneio de xadrez tem 10 competidores, dos quais 4 são russos, 3 estadunidenses, 2 ingleses e 1 brasileiro. Se o resultado listar apenas a nacionalidade são possiveis quantos resultados diferentes?\n",
    "      \n",
    "*Fórmula:*\n",
    "     $$P_{n}^{r,s,\\dots} = \\frac{n!}{r!s!\\dots} $$\n"
   ]
  },
  {
   "cell_type": "code",
   "execution_count": null,
   "metadata": {},
   "outputs": [],
   "source": [
    "## defina as funções \n",
    "\n",
    "def fatorial(n):\n",
    "\n",
    "\n",
    "    \n",
    "def permutacao_sem_repeticao(n):\n",
    "\n",
    "    \n"
   ]
  },
  {
   "cell_type": "code",
   "execution_count": 20,
   "metadata": {
    "ExecuteTime": {
     "end_time": "2021-07-29T14:38:55.100145Z",
     "start_time": "2021-07-29T14:38:55.086020Z"
    }
   },
   "outputs": [],
   "source": [
    "def factorial(n):\n",
    "    if n==1:\n",
    "        return n\n",
    "    else:\n",
    "        return n * factorial(n-1)\n",
    "    "
   ]
  },
  {
   "cell_type": "code",
   "execution_count": 21,
   "metadata": {
    "ExecuteTime": {
     "end_time": "2021-07-29T14:38:59.576833Z",
     "start_time": "2021-07-29T14:38:59.564920Z"
    }
   },
   "outputs": [
    {
     "data": {
      "text/plain": [
       "120"
      ]
     },
     "execution_count": 21,
     "metadata": {},
     "output_type": "execute_result"
    }
   ],
   "source": [
    "factorial(5)"
   ]
  },
  {
   "cell_type": "code",
   "execution_count": 22,
   "metadata": {
    "ExecuteTime": {
     "end_time": "2021-07-29T14:44:45.108645Z",
     "start_time": "2021-07-29T14:44:45.090748Z"
    }
   },
   "outputs": [],
   "source": [
    "def permutacao_sem_repeticao(n):\n",
    "    return factorial(n)"
   ]
  },
  {
   "cell_type": "code",
   "execution_count": 23,
   "metadata": {
    "ExecuteTime": {
     "end_time": "2021-07-29T14:44:51.571286Z",
     "start_time": "2021-07-29T14:44:51.555863Z"
    }
   },
   "outputs": [
    {
     "data": {
      "text/plain": [
       "120"
      ]
     },
     "execution_count": 23,
     "metadata": {},
     "output_type": "execute_result"
    }
   ],
   "source": [
    "permutacao_sem_repeticao(5)"
   ]
  },
  {
   "cell_type": "markdown",
   "metadata": {},
   "source": [
    "## Arranjo\n",
    "---\n",
    "\n",
    "Arranjos são agrupamentos formados com $p$ elementos de um conjunto de $n$ elementos. Arranjos são como permutações, trocas de posição entre os elementos. Mas no caso dos arranjos, são escolhidos $p$ elementos para ocupar as posições ordenadas. Os arranjos são um caso particular de permutações, já que $p \\leq n$.\n",
    "\n",
    "- $Ex_1$.: Cinco amigos querem sentar em um sofá para tirar uma foto. De quantas formas diferentes eles podem aparecer na foto, considerando um sofá de 3 lugares, a depender da posição em que eles se acomodem no sofá?\n",
    "\n",
    "- $Ex_2$.: Você tem um site no qual os usuários podem se registrar. Eles precisam fornecer uma senha que precise ter exatamente 8 caracteres e os caracteres não podem ser repetidos. Primeiro, precisamos determinar quantos caracteres e dígitos existem no alfabeto inglês:\n",
    "\n",
    "    - o número de letras: 26\n",
    "    - o número de dígitos: 10\n",
    "\n",
    "\n",
    "Matematicamente, temos:\n",
    "\n",
    "$$A_{n}^{p} = \\frac{n!}{(n - p)!}$$"
   ]
  },
  {
   "cell_type": "code",
   "execution_count": 24,
   "metadata": {
    "ExecuteTime": {
     "end_time": "2021-07-29T14:48:00.813084Z",
     "start_time": "2021-07-29T14:48:00.808316Z"
    }
   },
   "outputs": [],
   "source": [
    "def arranjo(n,p):\n",
    "    return factorial(n) / factorial(n-p)"
   ]
  },
  {
   "cell_type": "code",
   "execution_count": 25,
   "metadata": {
    "ExecuteTime": {
     "end_time": "2021-07-29T14:48:21.444663Z",
     "start_time": "2021-07-29T14:48:21.423473Z"
    }
   },
   "outputs": [
    {
     "data": {
      "text/plain": [
       "60.0"
      ]
     },
     "execution_count": 25,
     "metadata": {},
     "output_type": "execute_result"
    }
   ],
   "source": [
    "arranjo(5, 3)"
   ]
  },
  {
   "cell_type": "markdown",
   "metadata": {},
   "source": [
    "## Combinação \n",
    "---\n",
    "\n",
    "<center><img src=\"../images/Combination.png\" width=\"30%\" style=\"background-color: #eee; padding: 30px; border-radius: 20px; margin: 30px 0\" /></center>  \n",
    "\n",
    "Na combinação simples, **a ordem dos elementos no agrupamento não interfere**. São arranjos que se diferenciam somente pela natureza de seus elementos. Portanto, se temos um conjunto A formado por n elementos tomados p a p, qualquer subconjunto de A formado por p elementos será uma combinação.\n",
    "\n",
    "**Exemplo:** Quando temos 5 itens (A, B, C, D, E), quantos grupos de 3 conseguimos selecionar? Pense no caso que quando for selecionado ABC, ACB, BAC, BCA, CAB, CBA temos o mesmo grupo sendo contado 6 vezes.\n",
    "    \n",
    "Podemos pensar em:\n",
    "    \n",
    "$$5 * 4 * 3$$\n",
    "\n",
    "mas, como a permutação é limitada por r  dividimos pela quantidade de vezes que um elemento se repete:\n",
    "    \n",
    "$$\\frac{5 * 4 * 3}{3 * 2 * 1}$$\n",
    "\n",
    "Matematicamente, temos:\n",
    "\n",
    "$$C_{n}^{k} = \\frac{n!}{k! \\cdot (n - k)!}$$"
   ]
  },
  {
   "cell_type": "code",
   "execution_count": null,
   "metadata": {},
   "outputs": [],
   "source": [
    "def combinacao(n,r):\n",
    "    "
   ]
  },
  {
   "cell_type": "code",
   "execution_count": null,
   "metadata": {},
   "outputs": [],
   "source": []
  },
  {
   "cell_type": "markdown",
   "metadata": {},
   "source": [
    "## Ferramentas do python"
   ]
  },
  {
   "cell_type": "code",
   "execution_count": 26,
   "metadata": {
    "ExecuteTime": {
     "end_time": "2021-07-29T15:41:14.253355Z",
     "start_time": "2021-07-29T15:41:14.233918Z"
    }
   },
   "outputs": [
    {
     "name": "stdout",
     "output_type": "stream",
     "text": [
      "360\n"
     ]
    }
   ],
   "source": [
    "from math import factorial\n",
    "from itertools import permutations\n",
    "\n",
    "perm = permutations('ABCDEF')\n",
    "\n",
    "qtd = 0\n",
    "\n",
    "for i in perm:\n",
    "    for idx in range(len(i)):\n",
    "        if (i[idx] == 'B'):\n",
    "            if ('A' in i[:idx]):\n",
    "                qtd += 1\n",
    "print(qtd)"
   ]
  },
  {
   "cell_type": "code",
   "execution_count": 32,
   "metadata": {
    "ExecuteTime": {
     "end_time": "2021-07-29T15:44:04.622968Z",
     "start_time": "2021-07-29T15:44:04.599164Z"
    },
    "collapsed": true
   },
   "outputs": [
    {
     "name": "stdout",
     "output_type": "stream",
     "text": [
      "('A', 'B', 'C')\n",
      "('A', 'B', 'D')\n",
      "('A', 'B', 'E')\n",
      "('A', 'C', 'B')\n",
      "('A', 'C', 'D')\n",
      "('A', 'C', 'E')\n",
      "('A', 'D', 'B')\n",
      "('A', 'D', 'C')\n",
      "('A', 'D', 'E')\n",
      "('A', 'E', 'B')\n",
      "('A', 'E', 'C')\n",
      "('A', 'E', 'D')\n",
      "('B', 'A', 'C')\n",
      "('B', 'A', 'D')\n",
      "('B', 'A', 'E')\n",
      "('B', 'C', 'A')\n",
      "('B', 'C', 'D')\n",
      "('B', 'C', 'E')\n",
      "('B', 'D', 'A')\n",
      "('B', 'D', 'C')\n",
      "('B', 'D', 'E')\n",
      "('B', 'E', 'A')\n",
      "('B', 'E', 'C')\n",
      "('B', 'E', 'D')\n",
      "('C', 'A', 'B')\n",
      "('C', 'A', 'D')\n",
      "('C', 'A', 'E')\n",
      "('C', 'B', 'A')\n",
      "('C', 'B', 'D')\n",
      "('C', 'B', 'E')\n",
      "('C', 'D', 'A')\n",
      "('C', 'D', 'B')\n",
      "('C', 'D', 'E')\n",
      "('C', 'E', 'A')\n",
      "('C', 'E', 'B')\n",
      "('C', 'E', 'D')\n",
      "('D', 'A', 'B')\n",
      "('D', 'A', 'C')\n",
      "('D', 'A', 'E')\n",
      "('D', 'B', 'A')\n",
      "('D', 'B', 'C')\n",
      "('D', 'B', 'E')\n",
      "('D', 'C', 'A')\n",
      "('D', 'C', 'B')\n",
      "('D', 'C', 'E')\n",
      "('D', 'E', 'A')\n",
      "('D', 'E', 'B')\n",
      "('D', 'E', 'C')\n",
      "('E', 'A', 'B')\n",
      "('E', 'A', 'C')\n",
      "('E', 'A', 'D')\n",
      "('E', 'B', 'A')\n",
      "('E', 'B', 'C')\n",
      "('E', 'B', 'D')\n",
      "('E', 'C', 'A')\n",
      "('E', 'C', 'B')\n",
      "('E', 'C', 'D')\n",
      "('E', 'D', 'A')\n",
      "('E', 'D', 'B')\n",
      "('E', 'D', 'C')\n"
     ]
    }
   ],
   "source": [
    "perm = permutations('ABCDE', 3)\n",
    "for p in perm:\n",
    "    print(p)"
   ]
  },
  {
   "cell_type": "code",
   "execution_count": 36,
   "metadata": {
    "ExecuteTime": {
     "end_time": "2021-07-29T15:45:59.543847Z",
     "start_time": "2021-07-29T15:45:59.530971Z"
    }
   },
   "outputs": [
    {
     "data": {
      "text/plain": [
       "720"
      ]
     },
     "execution_count": 36,
     "metadata": {},
     "output_type": "execute_result"
    }
   ],
   "source": [
    "\n",
    "\n",
    "factorial(6)"
   ]
  },
  {
   "cell_type": "code",
   "execution_count": 18,
   "metadata": {},
   "outputs": [
    {
     "data": {
      "text/plain": [
       "240"
      ]
     },
     "execution_count": 18,
     "metadata": {},
     "output_type": "execute_result"
    }
   ],
   "source": [
    "factorial(5) * 2"
   ]
  },
  {
   "cell_type": "code",
   "execution_count": 30,
   "metadata": {},
   "outputs": [
    {
     "name": "stdout",
     "output_type": "stream",
     "text": [
      "20\n"
     ]
    }
   ],
   "source": [
    "perm = permutations('HHHMMM')\n",
    "\n",
    "lista = []\n",
    "\n",
    "for p in perm:\n",
    "    if p not in lista:\n",
    "        lista.append(p)\n",
    "        \n",
    "print(len(lista))"
   ]
  },
  {
   "cell_type": "code",
   "execution_count": 32,
   "metadata": {},
   "outputs": [
    {
     "data": {
      "text/plain": [
       "1260.0"
      ]
     },
     "execution_count": 32,
     "metadata": {},
     "output_type": "execute_result"
    }
   ],
   "source": [
    "factorial(7) / (factorial(2) * factorial(2))"
   ]
  },
  {
   "cell_type": "code",
   "execution_count": 33,
   "metadata": {},
   "outputs": [
    {
     "data": {
      "text/plain": [
       "2520"
      ]
     },
     "execution_count": 33,
     "metadata": {},
     "output_type": "execute_result"
    }
   ],
   "source": [
    "7 * 6 * 5 * 4 * 3"
   ]
  },
  {
   "cell_type": "code",
   "execution_count": 34,
   "metadata": {},
   "outputs": [],
   "source": [
    "from scipy.special import comb"
   ]
  },
  {
   "cell_type": "code",
   "execution_count": 46,
   "metadata": {},
   "outputs": [
    {
     "data": {
      "text/plain": [
       "56.0"
      ]
     },
     "execution_count": 46,
     "metadata": {},
     "output_type": "execute_result"
    }
   ],
   "source": [
    "comb(8, 5)"
   ]
  },
  {
   "cell_type": "markdown",
   "metadata": {},
   "source": [
    "# Probabilidade: conceitos introdutórios \n",
    "\n",
    "## Espaço amostral\n",
    "\n",
    "**definição**: Chamamos de espaço amostral ao conjunto de todos os resultados possíveis de um certo fenômeno aleatório. Ele é muitas vezes representado pela letra grega $\\Omega$. Os subconjuntos de $\\Omega$ são denominados eventos e representados pelas letras latinas maiúsculas $A, B, \\dots$ . O conjunto vazio é denotado por $\\emptyset$.\n",
    "\n",
    "A união de dois eventos A e B, denotado por $A \\cup B$ representa a ocorrência de pelo menos um dos eventos A ou B. A intersecção do evento A com B, denotado por $A \\cap B$ é a ocorrência simultanea de A e B \n",
    "\n",
    "Dois eventos A e B são disjuntos ou mutualmente exclusivos quando não têm elemento em comum. Isto é, $A \\cap B$ =  $\\emptyset$.\n",
    "\n",
    "\n",
    "<center><img src=\"../images/conjuntos.png\" width=\"300\" height=\"350\" /></center>\n",
    "\n",
    "Caso dois eventos sejam disjuntos, mas a sua união seja igual à todo o Espaço Amostral, significa que eles são complementares. Ou seja, eles são os únicos eventos possíveis de ocorrer. Matematicamente, se $A \\cap B = \\emptyset$ e $A \\cup B = \\Omega$, então os eventos são complementares. O complementar de A será representado por $A^{c}$. Nesse caso, então, $A^{c} = B$ e $B^{c} = A$.\n",
    "\n",
    "\n",
    "**Definição 2.1: Probabilidade**\n",
    "\n",
    "Podemos definir então uma função `P(.)` denominada probabilidade se satisfaz as seguintes condições:\n",
    "    \n",
    "1. A probabilidade de um evento é sempre um número entre 0 e 1. Ou seja, $0 \\leq P(A) \\leq 1$.\n",
    "\n",
    "\n",
    "2. A Probabilidade de ocorrer algo dentro do Espaço Amostral é 1. Ou seja, $ P(\\Omega) = 1$.\n",
    "\n",
    "3. A Probabilidade de ocorrer a união de todos os Pontos Amostrais é igual à soma da Probabilidade de ocorrer cada um dos Pontos Amostrais. Ou seja:\n",
    "\n",
    "$$\n",
    "    \\sum_{w\\in \\Omega} P{(w)} = P\\left(\\bigcup_{w\\in \\Omega} \\{w\\}\\right)\n",
    "$$\n",
    "\n",
    "\n",
    "## Como definir a probabilidade dos elementos do espaço amostral?\n",
    "\n",
    "A primeira parte consiste na atribuição de probabilidades. Por exemplo, baseando-se em características teóricas da realização do fenômeno. Por exemplo, ao lançarmos um dado, temos o espaço amostral $\\omega={1,2,3,4,5,6}$.Admitindo que o dado foi construído de forma homogênea e com medidas rigorosamente simétricas , não temos nenhuma razão para privilegiar essa ou aquela face. Assim consideramos $p(1)=p(2)=p(3)\\dots$\n",
    "\n",
    "**Exemplos:** \n",
    "\n",
    "1. Lançamos uma moeda duas vezes, se C indicar cara e K indicar coroa, então, temos um espaço amostral:\n",
    "    \n",
    "$$\\Omega=[CC,CK,KC,KK]$$\n",
    "\n",
    "\n",
    "> Se designarmos por A o evento que consiste na obtenção de face iguais nos dois lançamentos, então: \n",
    "\n",
    "$$ P(A) = P(CC) + P(KK) = \\frac{1}{4} + \\frac{1}{4} = \\frac{2}{4} = 0.5 $$ \n",
    "\n",
    "2. Uma Fábrica produz um determinado artigo. Da linha de produção são retirados 3 artigos, e cada um é classificado como bom (B), ou defeituoso (D). Um espaço amostral do experimento é:\n",
    "    \n",
    "$$ \\Omega = [BBB,BBD,BDB,DBB,DDB,DBD,BDD,DDD] $$\n",
    "\n",
    "\n",
    "> Se designarmos por A o evento que consiste em obter dois artigos defeituosos:\n",
    "\n",
    "$$ P(A) = P(DDB) + P(DBD) + P(BDD) = \\frac{1}{8} + \\frac{1}{8} + \\frac{1}{8} = \\frac{3}{8} = 0.375 $$ \n",
    "\n",
    "3. Considere o experimento que consiste em retirar uma lâmpada de um lote e medir seu tempo de vida antes de queimar. Um espaço amostral conveniente será:\n",
    "    \n",
    "$$ \\Omega = [t], \\quad \\textrm{em que}, t \\geq 0 $$\n"
   ]
  },
  {
   "cell_type": "code",
   "execution_count": 63,
   "metadata": {
    "ExecuteTime": {
     "end_time": "2021-07-29T16:53:17.754106Z",
     "start_time": "2021-07-29T16:53:17.747284Z"
    }
   },
   "outputs": [],
   "source": [
    "from scipy.special import comb, perm\n",
    "import numpy as np\n",
    "\n",
    "from itertools import permutations, combinations, combinations_with_replacement, product"
   ]
  },
  {
   "cell_type": "code",
   "execution_count": 101,
   "metadata": {
    "ExecuteTime": {
     "end_time": "2021-07-29T17:09:38.679863Z",
     "start_time": "2021-07-29T17:09:38.667504Z"
    }
   },
   "outputs": [
    {
     "name": "stdout",
     "output_type": "stream",
     "text": [
      "('K', 'K')\n",
      "('K', 'C')\n",
      "('C', 'K')\n",
      "('C', 'C')\n"
     ]
    }
   ],
   "source": [
    "# espaço amostral para duas moedas: product\n",
    "permutacoes = product(['K', 'C'], repeat=2)\n",
    "\n",
    "for i in permutacoes:\n",
    "    print(i)"
   ]
  },
  {
   "cell_type": "code",
   "execution_count": 100,
   "metadata": {
    "ExecuteTime": {
     "end_time": "2021-07-29T17:09:19.848781Z",
     "start_time": "2021-07-29T17:09:19.833439Z"
    }
   },
   "outputs": [
    {
     "name": "stdout",
     "output_type": "stream",
     "text": [
      "('B', 'B', 'B')\n",
      "('B', 'B', 'D')\n",
      "('B', 'D', 'B')\n",
      "('B', 'D', 'D')\n",
      "('D', 'B', 'B')\n",
      "('D', 'B', 'D')\n",
      "('D', 'D', 'B')\n",
      "('D', 'D', 'D')\n"
     ]
    }
   ],
   "source": [
    "# espaço amostral para três produtos: product\n",
    "permutacoes = product(['B', 'D'], repeat=3)\n",
    "\n",
    "for i in permutacoes:\n",
    "    print(i)"
   ]
  },
  {
   "cell_type": "code",
   "execution_count": 102,
   "metadata": {
    "ExecuteTime": {
     "end_time": "2021-07-29T17:10:07.371429Z",
     "start_time": "2021-07-29T17:10:07.352930Z"
    }
   },
   "outputs": [
    {
     "name": "stdout",
     "output_type": "stream",
     "text": [
      "('1', '1')\n",
      "('1', '2')\n",
      "('1', '3')\n",
      "('1', '4')\n",
      "('1', '5')\n",
      "('1', '6')\n",
      "('2', '1')\n",
      "('2', '2')\n",
      "('2', '3')\n",
      "('2', '4')\n",
      "('2', '5')\n",
      "('2', '6')\n",
      "('3', '1')\n",
      "('3', '2')\n",
      "('3', '3')\n",
      "('3', '4')\n",
      "('3', '5')\n",
      "('3', '6')\n",
      "('4', '1')\n",
      "('4', '2')\n",
      "('4', '3')\n",
      "('4', '4')\n",
      "('4', '5')\n",
      "('4', '6')\n",
      "('5', '1')\n",
      "('5', '2')\n",
      "('5', '3')\n",
      "('5', '4')\n",
      "('5', '5')\n",
      "('5', '6')\n",
      "('6', '1')\n",
      "('6', '2')\n",
      "('6', '3')\n",
      "('6', '4')\n",
      "('6', '5')\n",
      "('6', '6')\n"
     ]
    }
   ],
   "source": [
    "# espaço amostral para dois dados: product\n",
    "permutacoes = product('123456', repeat=2)\n",
    "\n",
    "for i in permutacoes:\n",
    "    print(i)"
   ]
  },
  {
   "cell_type": "code",
   "execution_count": null,
   "metadata": {},
   "outputs": [],
   "source": []
  },
  {
   "cell_type": "markdown",
   "metadata": {},
   "source": [
    "## Propriedades da União e Intersecção\n",
    "---\n",
    "\n",
    "Vamos supor a tabela abaixo  para idades\n",
    "\n",
    "| idade | $n_{i}$ | $F_{i}$ | $f_{ac}$ |\n",
    "|-------|---------|---------|----------|\n",
    "| 17    | 9       |         |          |\n",
    "| 18    | 22      |         |          |\n",
    "| 19    | 7       |         |          |\n",
    "| 20    | 4       |         |          |\n",
    "| 21    | 3       |         |          |\n",
    "| 22    | 0       |         |          |\n",
    "| 23    | 2       |         |          |\n",
    "| 24    | 1       |         |          |\n",
    "| 25    | 2       |         |          |\n",
    "|-------|---------|---------|----------|\n",
    "| total |   n=50  |    1    |          |\n",
    "|-------|---------|---------|----------|\n",
    "\n",
    "Qual nosso espaço amostral ? \n",
    "\n",
    "quais são as probabilidades associadas ?\n",
    "\n",
    "P(17) ? \n",
    "\n",
    "### Probabilidade de união de eventos\n",
    "\n",
    "A probabilidade de união de eventos é calculada através da regra da adição de probabilidades apresentada abaixo :\n",
    "\n",
    "$$ P(A \\cup B) = P(A) + P(B) - P ( A \\cap B) $$\n",
    "\n",
    "Temos também a definição de que um evento pode ser definido pela não ocorrência dele, ou seja, $$A^{c}$$ é a não ocorrência de A. Logo,\n",
    "\n",
    "$$P(A) = 1 - P(A^{c})$$\n",
    "\n",
    "\n",
    "Se isso é correto, então: $P(A) + P(A^{c}) = 1$.\n",
    "\n",
    "Podemos visualizar por:\n",
    "\n",
    "$$P (A \\cup A^{c}) = P(A) + P(A^{c}) - P(A\\cap A^{c}) $$\n",
    "\n",
    "$$P (A \\cup A^{c}) = 1 $$"
   ]
  },
  {
   "cell_type": "markdown",
   "metadata": {},
   "source": [
    "# Probabilidade condicional e Independência\n",
    "---\n",
    "\n",
    "![venn](../images/venn.gif)\n"
   ]
  },
  {
   "cell_type": "markdown",
   "metadata": {},
   "source": [
    "Para eventos dependentes, o cálculo da Probabilidade muda. Vamos estabelecer que:\n",
    "\n",
    "$P(A|B)$ -> Probabilidade condicional de A dado B, ou seja, probabilidade do evento A ocorrer, dado que ocorreu o evento B\n",
    "\n",
    "$P(A \\cap B)$ -> Como já vimos, é a probabilidade dos dois eventos ocorrerem\n",
    "\n",
    "\n",
    "Para eventos dependentes, Temos a seguinte função:\n",
    "\n",
    "$$P(A|B)= \\frac{P(A\\cap B)}{P(B)}$$\n",
    "\n",
    "\n",
    "\n",
    "$$ P(A|B) = \\frac{\\frac{A \\cap B}{\\omega}}{\\frac{B}{\\omega}}$$\n",
    "\n",
    "\n",
    "\n",
    "E algumas vezes, passamos P(B) para o outro lado da igualdade, e a equação fica assim:\n",
    "\n",
    "$$P(A\\cap B) = P(A|B) × P(B)$$\n",
    "\n",
    "## Exemplos\n",
    "\n",
    "$Ex_1$.: Uma moeda é lançada duas vezes, sucessivamente. Qual é a probabilidade de tirarmos cara no segundo lançamento, sabendo que foi obtido coroa no primeiro?\n",
    "\n",
    "$Ex_2$.: De uma urna com 4 bolas brancas e 6 bolas pretas, retiram-se 2 bolas, sucessivamente, e sem reposição. Qual é a probabilidade de:\n",
    "\n",
    "1. Ambas serem brancas?\n",
    "2. A segunda ser branca?\n",
    "3. A 1ª ser branca, sabendo que a 2ª é branca?\n",
    "\n",
    "## Eventos independentes \n",
    "\n",
    "Quanto a ocorrência de um evento não intefere na ocorrência do outro, e vice-versa. Em outras palavras, quando a probabilidade de ocorrência de um evento A, não alterar a probabilidade de ocorrência de um evento B, e vice-versa."
   ]
  },
  {
   "cell_type": "code",
   "execution_count": 131,
   "metadata": {
    "ExecuteTime": {
     "end_time": "2021-07-29T18:47:50.353703Z",
     "start_time": "2021-07-29T18:47:50.347703Z"
    }
   },
   "outputs": [
    {
     "name": "stdout",
     "output_type": "stream",
     "text": [
      "('B', 'B')\n",
      "('B', 'B')\n",
      "('B', 'B')\n",
      "('B', 'P')\n",
      "('B', 'P')\n",
      "('B', 'B')\n",
      "('B', 'B')\n",
      "('B', 'B')\n",
      "('B', 'P')\n",
      "('B', 'P')\n",
      "('B', 'B')\n",
      "('B', 'B')\n",
      "('B', 'B')\n",
      "('B', 'P')\n",
      "('B', 'P')\n",
      "('B', 'B')\n",
      "('B', 'B')\n",
      "('B', 'B')\n",
      "('B', 'P')\n",
      "('B', 'P')\n",
      "('P', 'B')\n",
      "('P', 'B')\n",
      "('P', 'B')\n",
      "('P', 'B')\n",
      "('P', 'P')\n",
      "('P', 'B')\n",
      "('P', 'B')\n",
      "('P', 'B')\n",
      "('P', 'B')\n",
      "('P', 'P')\n",
      "30 12\n"
     ]
    }
   ],
   "source": [
    "permutacoes = permutations('BBBBPP', r=2)\n",
    "\n",
    "total = []\n",
    "count = 0\n",
    "\n",
    "\n",
    "for i in permutacoes:\n",
    "    print(i)\n",
    "    total.append(i)\n",
    "    if i[0]=='B' and i[1] =='B': count = count+1\n",
    "    \n",
    "\n",
    "print(len(total), count)"
   ]
  },
  {
   "cell_type": "code",
   "execution_count": 129,
   "metadata": {
    "ExecuteTime": {
     "end_time": "2021-07-29T18:42:16.311259Z",
     "start_time": "2021-07-29T18:42:16.295988Z"
    }
   },
   "outputs": [
    {
     "name": "stdout",
     "output_type": "stream",
     "text": [
      "('B', 'B')\n",
      "('B', 'B')\n",
      "('B', 'B')\n",
      "('B', 'B')\n",
      "('B', 'B')\n",
      "('B', 'B')\n",
      "('B', 'B')\n",
      "('B', 'B')\n",
      "('B', 'B')\n",
      "('B', 'B')\n",
      "('B', 'B')\n",
      "('B', 'B')\n",
      "('P', 'B')\n",
      "('P', 'B')\n",
      "('P', 'B')\n",
      "('P', 'B')\n",
      "('P', 'B')\n",
      "('P', 'B')\n",
      "('P', 'B')\n",
      "('P', 'B')\n",
      "20 12\n"
     ]
    }
   ],
   "source": [
    "permutacoes = permutations('BBBBPP', r=2)\n",
    "\n",
    "total = []\n",
    "count = 0\n",
    "\n",
    "for i in permutacoes:\n",
    "    if i[1]=='B':\n",
    "        print(i)\n",
    "        total.append(i)\n",
    "        if i[0]=='B': count = count+1\n",
    "    \n",
    "\n",
    "print(len(total), count)"
   ]
  },
  {
   "cell_type": "code",
   "execution_count": null,
   "metadata": {},
   "outputs": [],
   "source": []
  },
  {
   "cell_type": "markdown",
   "metadata": {},
   "source": [
    "\n",
    "\n",
    "### Exemplo\n",
    "\n",
    "**Abaixo está um código para criar dados falsos sobre a quantidade de coisas que as pessoas compram, de acordo com a faixa etária**.\n",
    "\n",
    "Ele gera 100.000 \"pessoas\" aleatórias e as atribui aleatoriamente como tendo entre 20, 30, 40, 50, 60 ou 70 anos.\n",
    "\n",
    "Em seguida, atribui uma menor probabilidade de os jovens comprarem coisas.\n",
    "\n",
    "No final, temos dois dicionários Python:\n",
    "\n",
    "- \"totais\" contém o número total de pessoas em cada faixa etária. \n",
    "- \"compras\" contém o número total de itens comprados por pessoas em cada faixa etária. \n",
    "- O total geral de compras é total de compras. \n",
    "- número total de pessoas é 100.000.\n",
    "\n",
    "Vamos executá-lo e dar uma olhada:"
   ]
  },
  {
   "cell_type": "code",
   "execution_count": 104,
   "metadata": {
    "ExecuteTime": {
     "end_time": "2021-07-29T17:35:35.169588Z",
     "start_time": "2021-07-29T17:35:34.581776Z"
    }
   },
   "outputs": [],
   "source": [
    "from numpy import random\n",
    "random.seed(0)\n",
    "\n",
    "totals = {20:0, 30:0, 40:0, 50:0, 60:0, 70:0}\n",
    "compras = {20:0, 30:0, 40:0, 50:0, 60:0, 70:0}\n",
    "total_compras = 0\n",
    "for _ in range(100000):\n",
    "    Decada_ano = random.choice([20, 30, 40, 50, 60, 70])\n",
    "    Probabilidade_compra = float(Decada_ano) / 100.0 ## por exemplo quem nasceu na decada 20/100\n",
    "    totals[Decada_ano] += 1\n",
    "    if (random.random() < Probabilidade_compra):\n",
    "        total_compras += 1\n",
    "        compras[Decada_ano] += 1"
   ]
  },
  {
   "cell_type": "code",
   "execution_count": 105,
   "metadata": {
    "ExecuteTime": {
     "end_time": "2021-07-29T17:35:35.185669Z",
     "start_time": "2021-07-29T17:35:35.169588Z"
    }
   },
   "outputs": [
    {
     "data": {
      "text/plain": [
       "{20: 16576, 30: 16619, 40: 16632, 50: 16805, 60: 16664, 70: 16704}"
      ]
     },
     "execution_count": 105,
     "metadata": {},
     "output_type": "execute_result"
    }
   ],
   "source": [
    "totals"
   ]
  },
  {
   "cell_type": "code",
   "execution_count": 106,
   "metadata": {
    "ExecuteTime": {
     "end_time": "2021-07-29T17:35:35.443581Z",
     "start_time": "2021-07-29T17:35:35.435588Z"
    }
   },
   "outputs": [
    {
     "data": {
      "text/plain": [
       "{20: 3392, 30: 4974, 40: 6670, 50: 8319, 60: 9944, 70: 11713}"
      ]
     },
     "execution_count": 106,
     "metadata": {},
     "output_type": "execute_result"
    }
   ],
   "source": [
    "compras"
   ]
  },
  {
   "cell_type": "code",
   "execution_count": 107,
   "metadata": {
    "ExecuteTime": {
     "end_time": "2021-07-29T17:35:35.915300Z",
     "start_time": "2021-07-29T17:35:35.894757Z"
    }
   },
   "outputs": [
    {
     "data": {
      "text/plain": [
       "45012"
      ]
     },
     "execution_count": 107,
     "metadata": {},
     "output_type": "execute_result"
    }
   ],
   "source": [
    "total_compras"
   ]
  },
  {
   "cell_type": "markdown",
   "metadata": {},
   "source": [
    "    Primeiro vamos calcular P (C | I), onde C é \"compra\" e I é \"você está na casa dos 30 anos\". A probabilidade de alguém na casa dos 30 anos comprar alguma coisa é apenas a porcentagem de quantas pessoas de 30 anos compraram alguma coisa:"
   ]
  },
  {
   "cell_type": "code",
   "execution_count": 109,
   "metadata": {
    "ExecuteTime": {
     "end_time": "2021-07-29T17:35:50.470185Z",
     "start_time": "2021-07-29T17:35:50.454609Z"
    }
   },
   "outputs": [
    {
     "name": "stdout",
     "output_type": "stream",
     "text": [
      "P(compras | 30s): 0.29929598652145134\n"
     ]
    }
   ],
   "source": [
    "P_CI = float(compras[30]) / float(totals[30])\n",
    "print('P(compras | 30s): ' + str(P_CI))"
   ]
  },
  {
   "cell_type": "code",
   "execution_count": 111,
   "metadata": {
    "ExecuteTime": {
     "end_time": "2021-07-29T17:36:10.791266Z",
     "start_time": "2021-07-29T17:36:10.775298Z"
    }
   },
   "outputs": [
    {
     "name": "stdout",
     "output_type": "stream",
     "text": [
      "P(30's): 0.16619\n"
     ]
    }
   ],
   "source": [
    "P_I = float(totals[30]) / 100000.0\n",
    "print(\"P(30's): \" +  str(P_I))"
   ]
  },
  {
   "cell_type": "markdown",
   "metadata": {},
   "source": [
    "    Podemos calcular tambem a probabilidade de comprar alguma coisa:"
   ]
  },
  {
   "cell_type": "code",
   "execution_count": 112,
   "metadata": {
    "ExecuteTime": {
     "end_time": "2021-07-29T17:36:23.962117Z",
     "start_time": "2021-07-29T17:36:23.953569Z"
    }
   },
   "outputs": [
    {
     "name": "stdout",
     "output_type": "stream",
     "text": [
      "P(total_compras):0.45012\n"
     ]
    }
   ],
   "source": [
    "P_C = float(total_compras) / 100000.0\n",
    "print(\"P(total_compras):\" + str(P_C))"
   ]
  },
  {
   "cell_type": "markdown",
   "metadata": {},
   "source": [
    "    Se C e I fossem independentes, esperaríamos que P (C | I) fosse aproximadamente o mesmo que P (C). Mas eles não são; P_C é 0,45 e P (C | I) é 0,3. Então, isso nos diz que C e I são dependentes (o que sabemos que são neste exemplo).\n",
    "\n",
    "    O que é P (I) P (F)?"
   ]
  },
  {
   "cell_type": "code",
   "execution_count": 113,
   "metadata": {
    "ExecuteTime": {
     "end_time": "2021-07-29T17:40:57.132336Z",
     "start_time": "2021-07-29T17:40:57.121312Z"
    }
   },
   "outputs": [
    {
     "name": "stdout",
     "output_type": "stream",
     "text": [
      "P(30's)P(total_compras)0.07480544280000001\n"
     ]
    }
   ],
   "source": [
    "print(\"P(30's)P(total_compras)\" + str(P_I * P_C))"
   ]
  },
  {
   "cell_type": "code",
   "execution_count": 114,
   "metadata": {
    "ExecuteTime": {
     "end_time": "2021-07-29T17:41:12.560585Z",
     "start_time": "2021-07-29T17:41:12.553585Z"
    }
   },
   "outputs": [
    {
     "name": "stdout",
     "output_type": "stream",
     "text": [
      "P(30's, compras)0.04974\n"
     ]
    }
   ],
   "source": [
    "print(\"P(30's, compras)\" + str(float(compras[30]) / 100000.0))"
   ]
  },
  {
   "cell_type": "markdown",
   "metadata": {},
   "source": [
    "     P (C, I) é diferente de P (C | I). \n",
    "\n",
    "     P (C, I) seria a probabilidade de você estar na casa dos 30 anos e comprar algo (comparado com a poluação total)."
   ]
  },
  {
   "cell_type": "code",
   "execution_count": null,
   "metadata": {},
   "outputs": [],
   "source": []
  },
  {
   "cell_type": "markdown",
   "metadata": {},
   "source": [
    "# Teorema de Bayes\n",
    "O **Teorema de Bayes** é um conceito importantíssimo da probabilidade e uma das ferramentas mais importantes de serem aprendidas para um Cientista de Dados. Este já foi usado em diversas aplicações reais, como por exemplo a classificação de um email como spam ou não. O Teorema de Bayes é uma forma de calcular probabilidades condicionais de forma reversa.\n",
    "\n",
    "Vamos considerar o clássico exemplo para explicar o teorema. Temos uma determinada doença A, e um teste T utilizado para detectar esta doença. O teste não é 100% confiável, indicando pessoas que não tem a doença como doentes (falsos positivos) e não detectando a doença em pessoas que a possuem (falsos negativos), como ilustra a figura abaixo: \n",
    "\n",
    "\n",
    "<center><img src=\"../images/bayes_teste.jpg\" width=\"80%\" /></center>\n",
    "\n",
    "\n",
    "Consideremos que 1% das pessoas possui esta doença e, logo, 99% das pessoas não a possui. O teste detecta a doença em pessoas efetivamente doentes 90% das vezes e, consequentemente, não detecta a doença em pessoas doentes em 10% dos casos. Em pessoas não doentes, o teste detecta a doença (erradamente) `em 5% dos casos` e não detecta em 95% dos casos. Podemos resumir desta forma:\n",
    "\n",
    "|                | Pessoa Doente | Pessoa Não Doente |\n",
    "|----------------|---------------|-------------------|\n",
    "| Teste positivo | 90 %          | 5 %               |\n",
    "| Teste Negativo | 10 %          | 95 %              |\n",
    "\n",
    "Agora, vamos supor que você fez o teste e o resultado deu positivo. Como devemos interpretar este resultado? Obviamente, existe uma chance de você possuir a doença e uma chance de não possuir. A chance de você ter a doença e o teste detecta-la (verdadeiro positivo) é igual a chance de você ter a doença multiplicado pela chance do teste ter dado positivo corretamente. Analogamente, a chance de você não ter a doença e o teste detecta-la mesmo assim (falso positivo) é igual a chance de você não ter a doença multiplicado pela chance do teste ter dado positivo incorretamente, e assim por diante, para todos os resultados. Atualizamos então a tabela, que fica assim:\n",
    "\n",
    "|                | Pessoa Doente                            | Pessoa Não Doente                               |\n",
    "|----------------|------------------------------------------|-------------------------------------------------|\n",
    "| Teste positivo | Prob Doente e teste pos: 1% × 90% = 0,9% | Prob Não Doente e teste pos: 99% × 5% = 4,95%   |\n",
    "| Teste Negativo | Prob Doente e teste neg: 1% × 10% = 0,1% | Prob Não Doente e teste neg: 99% × 95% = 94,05% |\n",
    "\n",
    "Estas então são nossas probabilidades para cada evento. Note que, se somadas, o resultado é 1, ou 100%. Mas agora temos uma dúvida. Se nosso teste deu positivo, qual a chance de termos a doença? Considerando o cálculo básico de probabilidade, temos que a chance de ter a doença é igual à chance do evento desejado dividido por todas as possibilidades. O evento desejado é um positivo verdadeiro, ou seja, teste positivo e a pessoa com doença. Para este caso, a probabilidade é de 0,9%. O total de possibilidades com relação ao teste positivo seria a soma da probabilidade de “Doente e teste pos” (verdadeiro positivo) com “Não Doente e teste pos” (falso positivo), que resultará em 0,9% + 4,95%, igual a 5,85%. Fazendo toda a conta então, nossa chance de ter a doença se temos um teste positivo é de 0,9%/5,85% = 0.1538, ou 15,38%. É uma chance bem mais baixa do que imaginamos apenas ao olhar para o problema e para a suposta precisão do teste.\n",
    "\n",
    "## Formulação matemática\n",
    "\n",
    "* P(D|A) = Probabilidade de ter a doença dado um teste positivo (este é a probabilidade que desejamos saber)\n",
    "\n",
    "* P(D) = Probabilidade da pessoa ter a doença = 1%\n",
    "\n",
    "* P(A|D) = Probabilidade de um teste positivo se a pessoa tem a doença = 0,9% (\n",
    "\n",
    "* P(A|¬D) = Probabilidade de um teste positivo se a pessoa não tem a doença = 4,95%\n",
    "\n",
    "    **O Teorema de bayes diz que :**\n",
    "    \n",
    "    \n",
    "$$ P(D|A) = \\frac{P(A|D) * P(D)}{P(A|D) * P(D)  + P(A|nao D) * P(nao D)}    $$"
   ]
  },
  {
   "cell_type": "code",
   "execution_count": 1,
   "metadata": {
    "ExecuteTime": {
     "end_time": "2021-07-28T17:37:33.408044Z",
     "start_time": "2021-07-28T17:37:33.391764Z"
    }
   },
   "outputs": [],
   "source": [
    "# A probabilidade de uma pessoa ter certa doença A é de 1%\n",
    "# consequentemente, a probabilidade de não ter a doença é de 99%\n",
    "\n",
    "probabilidade_doenca = 0.01\n",
    "probabilidade_nao_doenca = 1 - probabilidade_doenca\n",
    "\n",
    "# Um teste T para detectar a doença não é 100% confiável, detectando\n",
    "# a doença em pessoas não doentes e não detectando em pessoas doentes\n",
    "\n",
    "# O teste detecta a doença em pessoas doentes em 90% dos casos\n",
    "# e não detecta a doença em pessoas doentes em 10% dos casos\n",
    "\n",
    "prob_teste_pos_e_doenca = 0.9\n",
    "prob_teste_neg_e_doenca = 0.1\n",
    "\n",
    "# O teste detecta a doença em pessoas não doentes em 5% dos casos\n",
    "# e não detecta a doença em pessoas não doentes em 95% dos casos\n",
    "\n",
    "prob_teste_pos_e_nao_doenca = 0.05\n",
    "prob_teste_neg_e_nao_doenca = 0.95\n",
    "\n",
    "\n",
    "# Verdadeiro positivo: chance de ter a doença e o teste dar positivo\n",
    "prob_verdadeiro_positivo = probabilidade_doenca * prob_teste_pos_e_doenca\n",
    "\n",
    "\n",
    "# Verdadeiro negativo: chance de não ter a doença e o teste dar negativo\n",
    "prob_verdadeiro_negativo = probabilidade_nao_doenca * prob_teste_neg_e_nao_doenca\n",
    "\n",
    "# Falso positivo: chance de não ter a doença e o teste dar positivo\n",
    "prob_falso_positivo = probabilidade_nao_doenca * prob_teste_pos_e_nao_doenca\n",
    "\n",
    "# Falso negativo: chance de ter a doença e o teste dar negativo\n",
    "prob_falso_negativo = probabilidade_doenca * prob_teste_neg_e_doenca\n",
    "\n",
    "\n",
    "# Fizemos o teste e o resultado foi positivo. Qual a chance de eu ter a doença?\n",
    "# Teorema de Bayes: P(D|A) = (P(A|D) * P(D)) / (P(A|D) * P(D) + P(A|¬D) * P(¬D))\n",
    "\n"
   ]
  },
  {
   "cell_type": "markdown",
   "metadata": {},
   "source": [
    "## Exemplo\n",
    "\n",
    "Uma companhia multinacional tem três fábricas que produzem o mesmo tipo de produto. A fábrica I é responsável por 30% do total produzido, a fábrica II produz 45% do total, e o restante vem da fábrica III. Cada uma das fábricas, no entanto, produz uma proporção de produtos que não atendem aos padrões estabelecidos pelas normas internacionais. Tais produtos são considerados \"defeituosos\" e correspondem a 1%, 2% e 1,5%, respectivamente, dos totais produzidos por fábrica.\n",
    "\n",
    "No centro de distribuição, é feito o controle de qualidade da produção combinada das fábricas.\n",
    "\n",
    "1. Qual é a probabilidade de encontrar um produto defeituoso durante a inspeção de qualidade?\n",
    "2. Se durante a inspeção encontrarmos um produto defeituoso, qual é a probabilidade de que ele tenha sido produzino na Fábrica II?"
   ]
  },
  {
   "cell_type": "code",
   "execution_count": null,
   "metadata": {},
   "outputs": [],
   "source": []
  }
 ],
 "metadata": {
  "kernelspec": {
   "display_name": "Python 3",
   "language": "python",
   "name": "python3"
  },
  "language_info": {
   "codemirror_mode": {
    "name": "ipython",
    "version": 3
   },
   "file_extension": ".py",
   "mimetype": "text/x-python",
   "name": "python",
   "nbconvert_exporter": "python",
   "pygments_lexer": "ipython3",
   "version": "3.8.8"
  },
  "toc": {
   "base_numbering": 1,
   "nav_menu": {},
   "number_sections": true,
   "sideBar": true,
   "skip_h1_title": false,
   "title_cell": "Table of Contents",
   "title_sidebar": "Contents",
   "toc_cell": false,
   "toc_position": {},
   "toc_section_display": true,
   "toc_window_display": true
  }
 },
 "nbformat": 4,
 "nbformat_minor": 4
}
