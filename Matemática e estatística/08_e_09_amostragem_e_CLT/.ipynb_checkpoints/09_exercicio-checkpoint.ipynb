{
 "cells": [
  {
   "cell_type": "markdown",
   "id": "fdc83acd",
   "metadata": {},
   "source": [
    "# Exercício"
   ]
  },
  {
   "cell_type": "markdown",
   "id": "270715e9",
   "metadata": {},
   "source": [
    "Enviar para o email filipe.furlan@letscode.com.br até **2021/08/12** o notebook (`matematica_firtsname_lastname_aula09.ipynb`) com a resolução dos exercicios abaixo."
   ]
  },
  {
   "cell_type": "code",
   "execution_count": 1,
   "id": "4b7bd229",
   "metadata": {
    "ExecuteTime": {
     "end_time": "2021-08-16T19:46:50.873047Z",
     "start_time": "2021-08-16T19:46:48.909873Z"
    }
   },
   "outputs": [],
   "source": [
    "import numpy as np\n",
    "import pandas as pd\n",
    "import seaborn as sns\n",
    "import scipy.stats as stats\n",
    "import matplotlib.pyplot as plt"
   ]
  },
  {
   "cell_type": "code",
   "execution_count": null,
   "id": "45700293",
   "metadata": {},
   "outputs": [],
   "source": []
  },
  {
   "cell_type": "markdown",
   "id": "5f1f0eef",
   "metadata": {},
   "source": [
    "# Relembrando o Teorema Central do Limite (TCL ou CLT)\n",
    "\n",
    "Seja uma amostra aleatória ($x_1, x_2, \\cdots, x_n$) de uma variável aleatória $X$ com qualquer distribuição, média $\\mu$ e desvio padrão $\\sigma$. A medida que $n$ cresce, a distribuição de probabilidade da média amostral, $\\overline{X}$, se aproxima de uma Normal com média $\\mu$ e desvio padrão $\\frac{\\sigma}{\\sqrt{n}}$. Isto é $\\overline{X} \\sim N (\\mu, \\sigma^2/n)$. Se a transformação a baixo for realizada, então $Z \\sim N (0,1)$.\n",
    "\n",
    "$$Z = \\frac{\\overline{X} -\\mu}{\\sigma/\\sqrt{n}} $$\n",
    "\n"
   ]
  },
  {
   "cell_type": "markdown",
   "id": "229db7bd",
   "metadata": {
    "colab_type": "text",
    "id": "QpgTvbISG3GU"
   },
   "source": [
    "O **Teorema do Limite Central** afirma que, com o aumento do tamanho da amostra, a distribuição das médias amostrais se aproxima de uma distribuição normal com média igual à média da população e desvio padrão igual ao desvio padrão da variável original dividido pela raiz quadrada do tamanho da amostra. Este fato é assegurado para $n$ maior ou igual a 30."
   ]
  },
  {
   "cell_type": "markdown",
   "id": "cf77001e",
   "metadata": {
    "colab_type": "text",
    "id": "ZIAr6is3wEMp"
   },
   "source": [
    "$$\\sigma_\\bar{x} = \\frac{\\sigma}{\\sqrt{n}}$$\n",
    "\n",
    "O desvio padrão das médias amostrais é conhecido como **erro padrão da média**"
   ]
  },
  {
   "cell_type": "code",
   "execution_count": null,
   "id": "97d0e034",
   "metadata": {},
   "outputs": [],
   "source": []
  },
  {
   "cell_type": "markdown",
   "id": "f1d23e75",
   "metadata": {
    "colab_type": "text",
    "id": "eFtSo6H0iz7z"
   },
   "source": [
    "# Carregando os dados"
   ]
  },
  {
   "cell_type": "code",
   "execution_count": 2,
   "id": "77b9e95a",
   "metadata": {
    "ExecuteTime": {
     "end_time": "2021-08-16T19:46:50.889006Z",
     "start_time": "2021-08-16T19:46:50.875042Z"
    }
   },
   "outputs": [],
   "source": [
    "import pandas as pd"
   ]
  },
  {
   "cell_type": "code",
   "execution_count": 3,
   "id": "1085126c",
   "metadata": {
    "ExecuteTime": {
     "end_time": "2021-08-16T19:46:51.398978Z",
     "start_time": "2021-08-16T19:46:50.896984Z"
    }
   },
   "outputs": [],
   "source": [
    "df = pd.read_csv('../datasets/pnad_2015.csv')"
   ]
  },
  {
   "cell_type": "code",
   "execution_count": 4,
   "id": "046cfab5",
   "metadata": {
    "ExecuteTime": {
     "end_time": "2021-08-16T19:46:51.927364Z",
     "start_time": "2021-08-16T19:46:51.401971Z"
    }
   },
   "outputs": [
    {
     "data": {
      "text/html": [
       "<div>\n",
       "<style scoped>\n",
       "    .dataframe tbody tr th:only-of-type {\n",
       "        vertical-align: middle;\n",
       "    }\n",
       "\n",
       "    .dataframe tbody tr th {\n",
       "        vertical-align: top;\n",
       "    }\n",
       "\n",
       "    .dataframe thead th {\n",
       "        text-align: right;\n",
       "    }\n",
       "</style>\n",
       "<table border=\"1\" class=\"dataframe\">\n",
       "  <thead>\n",
       "    <tr style=\"text-align: right;\">\n",
       "      <th></th>\n",
       "      <th>UF</th>\n",
       "      <th>Sexo</th>\n",
       "      <th>Idade</th>\n",
       "      <th>Cor</th>\n",
       "      <th>Anos de Estudo</th>\n",
       "      <th>Renda</th>\n",
       "      <th>Altura</th>\n",
       "    </tr>\n",
       "  </thead>\n",
       "  <tbody>\n",
       "    <tr>\n",
       "      <th>0</th>\n",
       "      <td>11</td>\n",
       "      <td>0</td>\n",
       "      <td>23</td>\n",
       "      <td>8</td>\n",
       "      <td>12</td>\n",
       "      <td>800</td>\n",
       "      <td>1.603808</td>\n",
       "    </tr>\n",
       "    <tr>\n",
       "      <th>1</th>\n",
       "      <td>11</td>\n",
       "      <td>1</td>\n",
       "      <td>23</td>\n",
       "      <td>2</td>\n",
       "      <td>12</td>\n",
       "      <td>1150</td>\n",
       "      <td>1.739790</td>\n",
       "    </tr>\n",
       "    <tr>\n",
       "      <th>2</th>\n",
       "      <td>11</td>\n",
       "      <td>1</td>\n",
       "      <td>35</td>\n",
       "      <td>8</td>\n",
       "      <td>15</td>\n",
       "      <td>880</td>\n",
       "      <td>1.760444</td>\n",
       "    </tr>\n",
       "    <tr>\n",
       "      <th>3</th>\n",
       "      <td>11</td>\n",
       "      <td>0</td>\n",
       "      <td>46</td>\n",
       "      <td>2</td>\n",
       "      <td>6</td>\n",
       "      <td>3500</td>\n",
       "      <td>1.783158</td>\n",
       "    </tr>\n",
       "    <tr>\n",
       "      <th>4</th>\n",
       "      <td>11</td>\n",
       "      <td>1</td>\n",
       "      <td>47</td>\n",
       "      <td>8</td>\n",
       "      <td>9</td>\n",
       "      <td>150</td>\n",
       "      <td>1.690631</td>\n",
       "    </tr>\n",
       "  </tbody>\n",
       "</table>\n",
       "</div>"
      ],
      "text/plain": [
       "   UF  Sexo  Idade  Cor  Anos de Estudo  Renda    Altura\n",
       "0  11     0     23    8              12    800  1.603808\n",
       "1  11     1     23    2              12   1150  1.739790\n",
       "2  11     1     35    8              15    880  1.760444\n",
       "3  11     0     46    2               6   3500  1.783158\n",
       "4  11     1     47    8               9    150  1.690631"
      ]
     },
     "execution_count": 4,
     "metadata": {},
     "output_type": "execute_result"
    }
   ],
   "source": [
    "df.head()"
   ]
  },
  {
   "cell_type": "markdown",
   "id": "1aa4e4ed",
   "metadata": {},
   "source": [
    "# Exercício 1\n",
    "\n",
    "1. Calcule a média (mu) e o desvio padrão (sigma) da idade dos brasileiros.\n",
    "1. Faça um histograma das idades.\n",
    "1. Encontre o número de amostras $N$ e o tamanho amostral $n$ que comprovem a validade do TLC com um erro absoluto menor que 0.05.\n",
    "    - calcule a média das médias $\\bar{x}$;\n",
    "    - erro = ($\\bar{x}$ - mu) / mu.\n",
    "1. Para os valores de $N$ e $n$ encontrados acima, qual o erro do desvio padrão do TLC ($\\sigma_X$) comparado com o valor real?\n",
    "1. Faça um histograma (barras) da média das médias."
   ]
  },
  {
   "cell_type": "code",
   "execution_count": 5,
   "id": "f57d08ef",
   "metadata": {
    "ExecuteTime": {
     "end_time": "2021-08-16T19:46:52.191976Z",
     "start_time": "2021-08-16T19:46:51.930355Z"
    }
   },
   "outputs": [
    {
     "name": "stdout",
     "output_type": "stream",
     "text": [
      "Média: 44.07142113482561\n",
      "Desvio padrão: 12.480583465360187\n"
     ]
    }
   ],
   "source": [
    "mu = df['Idade'].mean()\n",
    "sigma = df['Idade'].std()\n",
    "\n",
    "print(f'Média: {mu}\\nDesvio padrão: {sigma}')"
   ]
  },
  {
   "cell_type": "code",
   "execution_count": 6,
   "id": "fbd6bb87",
   "metadata": {
    "ExecuteTime": {
     "end_time": "2021-08-16T19:46:52.917438Z",
     "start_time": "2021-08-16T19:46:52.194851Z"
    }
   },
   "outputs": [
    {
     "data": {
      "text/plain": [
       "<AxesSubplot:xlabel='Idade', ylabel='Count'>"
      ]
     },
     "execution_count": 6,
     "metadata": {},
     "output_type": "execute_result"
    },
    {
     "data": {
      "image/png": "[encoded data removed]",
      "text/plain": [
       "<Figure size 432x288 with 1 Axes>"
      ]
     },
     "metadata": {
      "needs_background": "light"
     },
     "output_type": "display_data"
    }
   ],
   "source": [
    "sns.histplot(x=df['Idade'])"
   ]
  },
  {
   "cell_type": "code",
   "execution_count": 7,
   "id": "3cc6e671",
   "metadata": {
    "ExecuteTime": {
     "end_time": "2021-08-16T19:46:54.081073Z",
     "start_time": "2021-08-16T19:46:52.921428Z"
    }
   },
   "outputs": [
    {
     "name": "stdout",
     "output_type": "stream",
     "text": [
      "N encontrado: 5000\n",
      "n encontrado: 10\n",
      "Erro: 0.0022799098052043655\n",
      "Média das médias: 44.17190000000019\n"
     ]
    }
   ],
   "source": [
    "N = 5000\n",
    "n = 10\n",
    "\n",
    "means = [ df['Idade'].sample(n=n, replace=True).mean() for i in range(N)]\n",
    "\n",
    "x_barra = sum(means)/len(means)\n",
    "erro = (x_barra - mu)/mu\n",
    "\n",
    "print(f'N encontrado: {N}\\nn encontrado: {n}\\nErro: {erro}\\nMédia das médias: {x_barra}')"
   ]
  },
  {
   "cell_type": "code",
   "execution_count": 8,
   "id": "3ff129c5",
   "metadata": {
    "ExecuteTime": {
     "end_time": "2021-08-16T19:46:54.097031Z",
     "start_time": "2021-08-16T19:46:54.085061Z"
    }
   },
   "outputs": [
    {
     "name": "stdout",
     "output_type": "stream",
     "text": [
      "Desvio padrão original: 12.480583465360187\n",
      "Desvio padrão das médias (ou erro padrão da média): 3.946707027837537\n",
      "O erro comparado é -0.6837722339831621\n"
     ]
    }
   ],
   "source": [
    "sigma_x = sigma/n**0.5\n",
    "print(f'Desvio padrão original: {sigma}\\nDesvio padrão das médias (ou erro padrão da média): {sigma_x}')\n",
    "print(f'O erro comparado é {((sigma_x - sigma)/sigma)}')"
   ]
  },
  {
   "cell_type": "code",
   "execution_count": 9,
   "id": "1f1ea069",
   "metadata": {
    "ExecuteTime": {
     "end_time": "2021-08-16T19:46:54.810321Z",
     "start_time": "2021-08-16T19:46:54.101019Z"
    }
   },
   "outputs": [
    {
     "data": {
      "text/plain": [
       "<AxesSubplot:ylabel='Count'>"
      ]
     },
     "execution_count": 9,
     "metadata": {},
     "output_type": "execute_result"
    },
    {
     "data": {
      "image/png": "[encoded data removed]",
      "text/plain": [
       "<Figure size 432x288 with 1 Axes>"
      ]
     },
     "metadata": {
      "needs_background": "light"
     },
     "output_type": "display_data"
    }
   ],
   "source": [
    "sns.histplot(x=means, kde=True)"
   ]
  },
  {
   "cell_type": "markdown",
   "id": "6ba2ccb5",
   "metadata": {
    "colab": {
     "base_uri": "https://localhost:8080/",
     "height": 34
    },
    "colab_type": "code",
    "id": "IQ7wC-Nkiy75",
    "outputId": "c70c88bd-52f6-41fd-a29d-a88f1641072e"
   },
   "source": [
    "# Exercício 2"
   ]
  },
  {
   "cell_type": "markdown",
   "id": "4fbeed4c",
   "metadata": {},
   "source": [
    "Considerando a renda dos brasileiros que ganham até R$ 25.000,00.\n",
    "\n",
    "1. Faça um histograma dos valores de renda.\n",
    "1. Usando os valores de $N$ e $n$ encontrados acima, calcule a média ($\\bar{x}$) e o desvio padrão ($\\sigma_X$) das médias.\n",
    "1. Qual o erro dos resultados acima comparados com o valor da população?"
   ]
  },
  {
   "cell_type": "code",
   "execution_count": 10,
   "id": "fc326f95",
   "metadata": {
    "ExecuteTime": {
     "end_time": "2021-08-16T19:46:54.904352Z",
     "start_time": "2021-08-16T19:46:54.813313Z"
    }
   },
   "outputs": [],
   "source": [
    "df2 = df[df['Renda'] <= 25000]"
   ]
  },
  {
   "cell_type": "code",
   "execution_count": 11,
   "id": "b451d7e2",
   "metadata": {
    "ExecuteTime": {
     "end_time": "2021-08-16T19:46:56.254816Z",
     "start_time": "2021-08-16T19:46:54.908341Z"
    }
   },
   "outputs": [
    {
     "data": {
      "text/plain": [
       "<AxesSubplot:xlabel='Renda', ylabel='Count'>"
      ]
     },
     "execution_count": 11,
     "metadata": {},
     "output_type": "execute_result"
    },
    {
     "data": {
      "image/png": "[encoded data removed]",
      "text/plain": [
       "<Figure size 432x288 with 1 Axes>"
      ]
     },
     "metadata": {
      "needs_background": "light"
     },
     "output_type": "display_data"
    }
   ],
   "source": [
    "sns.histplot(x=df2['Renda'])"
   ]
  },
  {
   "cell_type": "code",
   "execution_count": 12,
   "id": "9232ac63",
   "metadata": {
    "ExecuteTime": {
     "end_time": "2021-08-16T19:46:57.200816Z",
     "start_time": "2021-08-16T19:46:56.257809Z"
    }
   },
   "outputs": [
    {
     "name": "stdout",
     "output_type": "stream",
     "text": [
      "Média: 2005.284959999986\n",
      "Desvio padrão: 323.50400691471737\n",
      "Erro da média 0.04833372194430773\n",
      "Erro do desvio padrão -0.6837722339831621\n"
     ]
    }
   ],
   "source": [
    "meansRenda = [ df['Renda'].sample(n=n, replace=True).mean() for i in range(N)]\n",
    "\n",
    "meansRenda = pd.DataFrame(meansRenda)\n",
    "\n",
    "mu = df2['Renda'].mean()\n",
    "sigma = df2['Renda'].std()\n",
    "\n",
    "x_barra = meansRenda.mean()\n",
    "x_barra = x_barra[0]\n",
    "sigma = meansRenda.std()\n",
    "sigma = sigma[0]\n",
    "sigma_x = sigma/n**0.5\n",
    "\n",
    "print(f'Média: {x_barra}\\nDesvio padrão: {sigma_x}')\n",
    "print(f'Erro da média {((x_barra - mu)/mu)}')\n",
    "print(f'Erro do desvio padrão {((sigma_x - sigma)/sigma)}')"
   ]
  },
  {
   "cell_type": "code",
   "execution_count": null,
   "id": "e1afd180",
   "metadata": {},
   "outputs": [],
   "source": []
  },
  {
   "cell_type": "markdown",
   "id": "113fd5d9",
   "metadata": {},
   "source": [
    "# Exercício 3"
   ]
  },
  {
   "cell_type": "markdown",
   "id": "45c3863d",
   "metadata": {},
   "source": [
    "Até aqui, usamos os valores reais da população para mostrar a validade do TLC. Explique brevemente como você usaria as técnicas de amostragem e o TLC para estimar o valor de um parâmetro desconhecido, por exemplo, o tempo médio de espera na fila para atendimento nos caixas do banco."
   ]
  },
  {
   "cell_type": "code",
   "execution_count": null,
   "id": "617fdcdc",
   "metadata": {},
   "outputs": [],
   "source": []
  }
 ],
 "metadata": {
  "kernelspec": {
   "display_name": "Python 3",
   "language": "python",
   "name": "python3"
  },
  "language_info": {
   "codemirror_mode": {
    "name": "ipython",
    "version": 3
   },
   "file_extension": ".py",
   "mimetype": "text/x-python",
   "name": "python",
   "nbconvert_exporter": "python",
   "pygments_lexer": "ipython3",
   "version": "3.8.8"
  },
  "toc": {
   "base_numbering": 1,
   "nav_menu": {},
   "number_sections": true,
   "sideBar": true,
   "skip_h1_title": false,
   "title_cell": "Table of Contents",
   "title_sidebar": "Contents",
   "toc_cell": false,
   "toc_position": {},
   "toc_section_display": true,
   "toc_window_display": true
  }
 },
 "nbformat": 4,
 "nbformat_minor": 5
}
