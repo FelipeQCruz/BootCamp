{
 "cells": [
  {
   "cell_type": "markdown",
   "id": "80716369",
   "metadata": {},
   "source": [
    "# Central Limit Theorem (CLT)"
   ]
  },
  {
   "cell_type": "markdown",
   "id": "5ae76adb",
   "metadata": {},
   "source": [
    "Para uma determinada população, meça uma característica de cada individuo (peso, altura, renda, idade, tamanho etc.).\n",
    "\n",
    "\n",
    "\n",
    "O CLT diz afirma que quando o tamanho da amostra aumenta, a distribuição amostral da sua média aproxima-se cada vez mais de uma distribuição normal. Este resultado é fundamental na teoria da inferência estatística.\n",
    "\n",
    "É importante observar que o CLT é válido **qualquer que seja a distribuição inicial dos dados!**\n",
    "\n",
    "\n",
    "![clt](../images/640px-IllustrationCentralTheorem.png)"
   ]
  },
  {
   "cell_type": "code",
   "execution_count": null,
   "id": "c5b7bba1",
   "metadata": {},
   "outputs": [],
   "source": []
  },
  {
   "cell_type": "markdown",
   "id": "d0a37fbb",
   "metadata": {},
   "source": [
    "Seja uma amostra aleatória ($x_1, x_2, \\cdots, x_n$) de uma variável aleatória $X$ com qualquer distribuição, média $\\mu$ e desvio padrão $\\sigma$. \n",
    "\n",
    "A medida que $n$ cresce, a distribuição de probabilidade da média amostral, $\\overline{X}$, se aproxima de uma Normal com média $\\mu$ e desvio padrão $\\frac{\\sigma}{\\sqrt{n}}$. Isto é $\\overline{X} \\sim N (\\mu, \\sigma^2/n)$.\n",
    "\n",
    "Se a transformação a baixo for realizada, então $Z \\sim N (0,1)$.\n",
    "\n",
    "$$Z = \\frac{\\overline{X} -\\mu}{\\sigma/\\sqrt{n}} $$\n"
   ]
  },
  {
   "cell_type": "code",
   "execution_count": null,
   "id": "f3022218",
   "metadata": {},
   "outputs": [],
   "source": []
  },
  {
   "cell_type": "markdown",
   "id": "97203525",
   "metadata": {},
   "source": [
    "O **Teorema do Limite Central** afirma que, com o aumento do tamanho da amostra, a distribuição das médias amostrais se aproxima de uma distribuição normal com média igual à média da população e desvio padrão igual ao desvio padrão da variável original dividido pela raiz quadrada do tamanho da amostra. \n",
    "\n",
    "Este fato é assegurado para $n$ maior ou igual a 30.\n",
    "\n",
    "$$\\sigma_\\bar{x} = \\frac{\\sigma}{\\sqrt{n}}$$\n",
    "\n",
    "O desvio padrão das médias amostrais é conhecido como **erro padrão da média**"
   ]
  },
  {
   "cell_type": "markdown",
   "id": "16d4cca2",
   "metadata": {},
   "source": [
    "## Objetivo"
   ]
  },
  {
   "cell_type": "markdown",
   "id": "b8be23b7",
   "metadata": {},
   "source": [
    "1. Entender o funcionamento do [Teorema do Limite Central](https://pt.wikipedia.org/wiki/Teorema_central_do_limite) na prática."
   ]
  },
  {
   "cell_type": "code",
   "execution_count": null,
   "id": "64d0e1fb",
   "metadata": {},
   "outputs": [],
   "source": []
  },
  {
   "cell_type": "markdown",
   "id": "4cc31bc5",
   "metadata": {},
   "source": [
    "# Valores de referência"
   ]
  },
  {
   "cell_type": "code",
   "execution_count": 1,
   "id": "cadf9a11",
   "metadata": {
    "ExecuteTime": {
     "end_time": "2021-08-06T14:52:45.214199Z",
     "start_time": "2021-08-06T14:52:44.161305Z"
    }
   },
   "outputs": [],
   "source": [
    "import numpy as np\n",
    "import pandas as pd\n",
    "import seaborn as sns\n",
    "import scipy.stats as stats\n",
    "import matplotlib.pyplot as plt"
   ]
  },
  {
   "cell_type": "markdown",
   "id": "9b0bdca1",
   "metadata": {},
   "source": [
    "1. Calcule a média (mu) e o desvio padrão (sigma) das gorjetas do dataset `tips`. "
   ]
  },
  {
   "cell_type": "code",
   "execution_count": 2,
   "id": "84f82408",
   "metadata": {
    "ExecuteTime": {
     "end_time": "2021-08-06T14:53:05.416537Z",
     "start_time": "2021-08-06T14:53:05.386568Z"
    }
   },
   "outputs": [
    {
     "data": {
      "text/html": [
       "<div>\n",
       "<style scoped>\n",
       "    .dataframe tbody tr th:only-of-type {\n",
       "        vertical-align: middle;\n",
       "    }\n",
       "\n",
       "    .dataframe tbody tr th {\n",
       "        vertical-align: top;\n",
       "    }\n",
       "\n",
       "    .dataframe thead th {\n",
       "        text-align: right;\n",
       "    }\n",
       "</style>\n",
       "<table border=\"1\" class=\"dataframe\">\n",
       "  <thead>\n",
       "    <tr style=\"text-align: right;\">\n",
       "      <th></th>\n",
       "      <th>total_bill</th>\n",
       "      <th>tip</th>\n",
       "      <th>sex</th>\n",
       "      <th>smoker</th>\n",
       "      <th>day</th>\n",
       "      <th>time</th>\n",
       "      <th>size</th>\n",
       "    </tr>\n",
       "  </thead>\n",
       "  <tbody>\n",
       "    <tr>\n",
       "      <th>0</th>\n",
       "      <td>16.99</td>\n",
       "      <td>1.01</td>\n",
       "      <td>Female</td>\n",
       "      <td>No</td>\n",
       "      <td>Sun</td>\n",
       "      <td>Dinner</td>\n",
       "      <td>2</td>\n",
       "    </tr>\n",
       "    <tr>\n",
       "      <th>1</th>\n",
       "      <td>10.34</td>\n",
       "      <td>1.66</td>\n",
       "      <td>Male</td>\n",
       "      <td>No</td>\n",
       "      <td>Sun</td>\n",
       "      <td>Dinner</td>\n",
       "      <td>3</td>\n",
       "    </tr>\n",
       "    <tr>\n",
       "      <th>2</th>\n",
       "      <td>21.01</td>\n",
       "      <td>3.50</td>\n",
       "      <td>Male</td>\n",
       "      <td>No</td>\n",
       "      <td>Sun</td>\n",
       "      <td>Dinner</td>\n",
       "      <td>3</td>\n",
       "    </tr>\n",
       "    <tr>\n",
       "      <th>3</th>\n",
       "      <td>23.68</td>\n",
       "      <td>3.31</td>\n",
       "      <td>Male</td>\n",
       "      <td>No</td>\n",
       "      <td>Sun</td>\n",
       "      <td>Dinner</td>\n",
       "      <td>2</td>\n",
       "    </tr>\n",
       "    <tr>\n",
       "      <th>4</th>\n",
       "      <td>24.59</td>\n",
       "      <td>3.61</td>\n",
       "      <td>Female</td>\n",
       "      <td>No</td>\n",
       "      <td>Sun</td>\n",
       "      <td>Dinner</td>\n",
       "      <td>4</td>\n",
       "    </tr>\n",
       "  </tbody>\n",
       "</table>\n",
       "</div>"
      ],
      "text/plain": [
       "   total_bill   tip     sex smoker  day    time  size\n",
       "0       16.99  1.01  Female     No  Sun  Dinner     2\n",
       "1       10.34  1.66    Male     No  Sun  Dinner     3\n",
       "2       21.01  3.50    Male     No  Sun  Dinner     3\n",
       "3       23.68  3.31    Male     No  Sun  Dinner     2\n",
       "4       24.59  3.61  Female     No  Sun  Dinner     4"
      ]
     },
     "execution_count": 2,
     "metadata": {},
     "output_type": "execute_result"
    }
   ],
   "source": [
    "df = sns.load_dataset('tips')\n",
    "df.head()"
   ]
  },
  {
   "cell_type": "code",
   "execution_count": 51,
   "id": "72bab0b2",
   "metadata": {
    "ExecuteTime": {
     "end_time": "2021-08-06T16:34:57.693542Z",
     "start_time": "2021-08-06T16:34:57.679160Z"
    }
   },
   "outputs": [
    {
     "name": "stdout",
     "output_type": "stream",
     "text": [
      "2.9982786885245902 1.3836381890011826\n"
     ]
    }
   ],
   "source": [
    "mu = df['tip'].mean()\n",
    "sigma = df['tip'].std()\n",
    "\n",
    "print(mu,sigma)"
   ]
  },
  {
   "cell_type": "markdown",
   "id": "4836f190",
   "metadata": {},
   "source": [
    "2. Faça o histograma das gorjetas. Ele parece uma curva normal?"
   ]
  },
  {
   "cell_type": "code",
   "execution_count": 5,
   "id": "116b7e0b",
   "metadata": {
    "ExecuteTime": {
     "end_time": "2021-08-06T15:44:22.518269Z",
     "start_time": "2021-08-06T15:44:21.913614Z"
    }
   },
   "outputs": [
    {
     "data": {
      "text/plain": [
       "<AxesSubplot:xlabel='tip', ylabel='Count'>"
      ]
     },
     "execution_count": 5,
     "metadata": {},
     "output_type": "execute_result"
    },
    {
     "data": {
      "image/png": "[encoded data removed]",
      "text/plain": [
       "<Figure size 432x288 with 1 Axes>"
      ]
     },
     "metadata": {
      "needs_background": "light"
     },
     "output_type": "display_data"
    }
   ],
   "source": [
    "sns.histplot(x=df['tip'], kde=True)"
   ]
  },
  {
   "cell_type": "markdown",
   "id": "425283c7",
   "metadata": {},
   "source": [
    "# Amostragem"
   ]
  },
  {
   "cell_type": "markdown",
   "id": "c8e483cb",
   "metadata": {},
   "source": [
    "## Sem repetição"
   ]
  },
  {
   "cell_type": "markdown",
   "id": "8003323e",
   "metadata": {},
   "source": [
    "1. Selecione aleatóriamente e **sem repetição** 10 linhas do dataset e calcule a média da amostra $\\bar{x}$."
   ]
  },
  {
   "cell_type": "code",
   "execution_count": 12,
   "id": "13771503",
   "metadata": {
    "ExecuteTime": {
     "end_time": "2021-08-06T15:52:50.018731Z",
     "start_time": "2021-08-06T15:52:50.005170Z"
    }
   },
   "outputs": [
    {
     "data": {
      "text/plain": [
       "2.803"
      ]
     },
     "execution_count": 12,
     "metadata": {},
     "output_type": "execute_result"
    }
   ],
   "source": [
    "df['tip'].sample(n=10).mean()"
   ]
  },
  {
   "cell_type": "markdown",
   "id": "37e39102",
   "metadata": {},
   "source": [
    "## Com repetição"
   ]
  },
  {
   "cell_type": "markdown",
   "id": "a8987434",
   "metadata": {},
   "source": [
    "1. Selecione aleatóriamente e **com repetição** 1000 linhas do dataset e calcule a média da amostra $\\bar{x}$."
   ]
  },
  {
   "cell_type": "code",
   "execution_count": 15,
   "id": "e0d212d2",
   "metadata": {
    "ExecuteTime": {
     "end_time": "2021-08-06T15:54:15.203693Z",
     "start_time": "2021-08-06T15:54:15.189707Z"
    }
   },
   "outputs": [
    {
     "data": {
      "text/plain": [
       "2.971540000000002"
      ]
     },
     "execution_count": 15,
     "metadata": {},
     "output_type": "execute_result"
    }
   ],
   "source": [
    "df['tip'].sample(n=1000, replace=True).mean()"
   ]
  },
  {
   "cell_type": "markdown",
   "id": "0462103a",
   "metadata": {},
   "source": [
    "2. Quantas linhas temos no dataset?"
   ]
  },
  {
   "cell_type": "code",
   "execution_count": 58,
   "id": "21311436",
   "metadata": {
    "ExecuteTime": {
     "end_time": "2021-08-06T17:06:20.290205Z",
     "start_time": "2021-08-06T17:06:20.269288Z"
    }
   },
   "outputs": [
    {
     "data": {
      "text/plain": [
       "(244, 7)"
      ]
     },
     "execution_count": 58,
     "metadata": {},
     "output_type": "execute_result"
    }
   ],
   "source": [
    "df.shape"
   ]
  },
  {
   "cell_type": "markdown",
   "id": "b074efe3",
   "metadata": {},
   "source": [
    "# Média das médias"
   ]
  },
  {
   "cell_type": "markdown",
   "id": "aaa3be17",
   "metadata": {},
   "source": [
    "Crie uma lista `means` que armazene as médias de $N$ amostras de tamanho amostral $n$.\n",
    "\n",
    "Começe com $N = 10$ amostras de tamanho $n = 5$.\n",
    "\n",
    "1. Na mesma célula, faça um gráfico da distribuição de `means`. \n",
    "1. Mantenha $n$ constante e aumente $N$. O que você observa?\n",
    "1. Mantenha $N$ constante e aumente $n$. O que você observa?"
   ]
  },
  {
   "cell_type": "code",
   "execution_count": 18,
   "id": "3c4bda3d",
   "metadata": {
    "ExecuteTime": {
     "end_time": "2021-08-06T16:03:25.482805Z",
     "start_time": "2021-08-06T16:03:25.052473Z"
    }
   },
   "outputs": [
    {
     "data": {
      "text/plain": [
       "<AxesSubplot:ylabel='Count'>"
      ]
     },
     "execution_count": 18,
     "metadata": {},
     "output_type": "execute_result"
    },
    {
     "data": {
      "image/png": "[encoded data removed]",
      "text/plain": [
       "<Figure size 432x288 with 1 Axes>"
      ]
     },
     "metadata": {
      "needs_background": "light"
     },
     "output_type": "display_data"
    }
   ],
   "source": [
    "n = 5  # sample size\n",
    "N = 10 # number of samples\n",
    "\n",
    "means = []\n",
    "\n",
    "for sample in range(N):\n",
    "    x_bar = df['tip'].sample(n, replace=True).mean()\n",
    "    means.append(x_bar)\n",
    "    \n",
    "sns.histplot(means, kde=True)"
   ]
  },
  {
   "cell_type": "code",
   "execution_count": null,
   "id": "bc9f3532",
   "metadata": {},
   "outputs": [],
   "source": []
  },
  {
   "cell_type": "markdown",
   "id": "f1cb642c",
   "metadata": {},
   "source": [
    "# CLT na prática"
   ]
  },
  {
   "cell_type": "markdown",
   "id": "8f7cb6da",
   "metadata": {},
   "source": [
    "1. Faça uma grade com 6 distribuições para  $ n \\in \\{ 1, 5, 50, 100, 500, 1000 \\}$."
   ]
  },
  {
   "cell_type": "code",
   "execution_count": 49,
   "id": "f6d1e9cc",
   "metadata": {
    "ExecuteTime": {
     "end_time": "2021-08-06T16:22:23.735785Z",
     "start_time": "2021-08-06T16:22:22.019827Z"
    }
   },
   "outputs": [
    {
     "data": {
      "image/png": "[encoded data removed]",
      "text/plain": [
       "<Figure size 1008x576 with 6 Axes>"
      ]
     },
     "metadata": {
      "needs_background": "light"
     },
     "output_type": "display_data"
    }
   ],
   "source": [
    "N = 30 # number of samples\n",
    "\n",
    "n_s = [1,5,50,100,500,1000]\n",
    "fig, axes = plt.subplots(2,3, figsize=(14,8))\n",
    "\n",
    "for n, ax in zip(n_s, axes.flat):\n",
    "    means = [df['tip'].sample(n, replace=True).mean() for sample in range(N)]\n",
    "    sns.histplot(means, kde=True, ax=ax)\n",
    "    ax.set_title(f\"n = {n}\")\n",
    "    ax.set_xlim(0,8)"
   ]
  },
  {
   "cell_type": "code",
   "execution_count": null,
   "id": "51d297a3",
   "metadata": {},
   "outputs": [],
   "source": []
  },
  {
   "cell_type": "markdown",
   "id": "503c0186",
   "metadata": {},
   "source": [
    "# Verificando o CLT"
   ]
  },
  {
   "cell_type": "markdown",
   "id": "4a2db2ab",
   "metadata": {},
   "source": [
    "Vamos verificar o Teorema do Limite Central computacionalmente:\n",
    "\n",
    "Para cada valor de $n$:\n",
    "- Compare `mu` com a média das médias $\\bar{x}$;\n",
    "- Compare `sigma` com o desvio padrão das médias (não esqueça o fator $\\sqrt{n}$)."
   ]
  },
  {
   "cell_type": "code",
   "execution_count": 46,
   "id": "34ac0b2a",
   "metadata": {
    "ExecuteTime": {
     "end_time": "2021-08-06T16:20:53.549958Z",
     "start_time": "2021-08-06T16:20:51.027951Z"
    }
   },
   "outputs": [
    {
     "name": "stdout",
     "output_type": "stream",
     "text": [
      "n =    1: 0.0235 0.0413\n",
      "n =    5: 0.0092 0.0059\n",
      "n =   50: 0.0 0.0032\n",
      "n =  100: 0.0048 0.0027\n",
      "n =  500: 0.0037 0.0013\n",
      "n = 1000: 0.0001 0.0004\n"
     ]
    }
   ],
   "source": [
    "N = 1000 # number of samples\n",
    "\n",
    "n_s = [1,5,50,100,500,1000]\n",
    "\n",
    "\n",
    "for n in n_s:\n",
    "    ## list of means\n",
    "    means = [df['tip'].sample(n, replace=True).mean() for sample in range(N)]\n",
    "    \n",
    "    ## mean of means\n",
    "    x_bar = np.mean(means) \n",
    "    mu_diff = round(abs(mu - x_bar),4)\n",
    "    \n",
    "    ## standard deviation of means (s)\n",
    "    s = np.std(means) \n",
    "    sigma_diff = round(abs(sigma/np.sqrt(n) - s),4)\n",
    "     \n",
    "    print(f\"n = {n:4}: {mu_diff} {sigma_diff}\")"
   ]
  },
  {
   "cell_type": "code",
   "execution_count": null,
   "id": "e334f04c",
   "metadata": {},
   "outputs": [],
   "source": []
  },
  {
   "cell_type": "markdown",
   "id": "4a6c9d91",
   "metadata": {},
   "source": [
    "# Exemplo"
   ]
  },
  {
   "cell_type": "markdown",
   "id": "04be53fe",
   "metadata": {},
   "source": [
    "Imagine que você seja um garçon e que em determinado período tenha sido designado pelo gerente para atender 100 mesas. O valor médio da conta de suas mesas deu R$ 18,00 (`target`). Qual a chance disso acontecer?"
   ]
  },
  {
   "cell_type": "markdown",
   "id": "02538d8a",
   "metadata": {},
   "source": [
    "Vamos supor que coletemos uma amostra de 100 contas da nossa população global com $\\mu=3€$ and $\\sigma=1.38€$ \n",
    "e que o valor médio das contas $\\mu_x$ seja R$ 18,00.\n",
    "\n",
    "Como seria o formato da distribuição das médias se nós repetissemos o processo de amostragem diversas vezes? Pense na forma, média e desvio padrão."
   ]
  },
  {
   "cell_type": "markdown",
   "id": "53c027f3",
   "metadata": {},
   "source": [
    "1. Faça um gráfico da distribuição da média das contas de 100 mesas aleatórias. Use stats.norm pra facilitar!\n",
    "1. Acrescente um ponto com a média das suas 100 mesas. O que vc pode concluir?"
   ]
  },
  {
   "cell_type": "code",
   "execution_count": 52,
   "id": "c905c876",
   "metadata": {
    "ExecuteTime": {
     "end_time": "2021-08-06T16:35:53.102981Z",
     "start_time": "2021-08-06T16:35:52.748692Z"
    }
   },
   "outputs": [
    {
     "data": {
      "text/plain": [
       "<matplotlib.collections.PathCollection at 0x248a9429b50>"
      ]
     },
     "execution_count": 52,
     "metadata": {},
     "output_type": "execute_result"
    },
    {
     "data": {
      "image/png": "[encoded data removed]",
      "text/plain": [
       "<Figure size 432x288 with 1 Axes>"
      ]
     },
     "metadata": {
      "needs_background": "light"
     },
     "output_type": "display_data"
    }
   ],
   "source": [
    "mu = df['total_bill'].mean()\n",
    "sigma = df['total_bill'].std()\n",
    "\n",
    "n = 100\n",
    "target = 18\n",
    "\n",
    "x = np.linspace(10, 30, 100)\n",
    "y = stats.norm.pdf(x, mu, sigma/np.sqrt(n)) \n",
    "\n",
    "plt.plot(x, y)\n",
    "plt.scatter(target, stats.norm.pdf(target, mu, sigma/np.sqrt(n)), c='r')"
   ]
  },
  {
   "cell_type": "markdown",
   "id": "208460ac",
   "metadata": {},
   "source": [
    "Nos vemos claramente que tal cenário é improvável. Vamos calcular a probabilidade."
   ]
  },
  {
   "cell_type": "code",
   "execution_count": 55,
   "id": "d0d8a95a",
   "metadata": {
    "ExecuteTime": {
     "end_time": "2021-08-06T16:52:48.704067Z",
     "start_time": "2021-08-06T16:52:48.690600Z"
    }
   },
   "outputs": [
    {
     "name": "stdout",
     "output_type": "stream",
     "text": [
      "A probabilidade da média de 100 mesas ser R$ 18 é 0.022421007000834076.\n"
     ]
    }
   ],
   "source": [
    "print(f'A probabilidade da média de 100 mesas ser R$ {target} é {stats.norm.cdf(18, mu, sigma/np.sqrt(n))}.') "
   ]
  },
  {
   "cell_type": "code",
   "execution_count": null,
   "id": "117eebdd",
   "metadata": {},
   "outputs": [],
   "source": []
  },
  {
   "cell_type": "markdown",
   "id": "d7776510",
   "metadata": {},
   "source": [
    "## Calcule usando o z-teste"
   ]
  },
  {
   "cell_type": "markdown",
   "id": "28f5d67e",
   "metadata": {},
   "source": [
    "$$z={x-\\mu  \\over \\sigma }$$"
   ]
  },
  {
   "cell_type": "markdown",
   "id": "f3738d9f",
   "metadata": {},
   "source": [
    "1. Calcule Z para o valor de R$ 18,00. "
   ]
  },
  {
   "cell_type": "code",
   "execution_count": 56,
   "id": "65d8f33f",
   "metadata": {
    "ExecuteTime": {
     "end_time": "2021-08-06T16:55:36.347727Z",
     "start_time": "2021-08-06T16:55:36.333011Z"
    }
   },
   "outputs": [
    {
     "data": {
      "text/plain": [
       "-2.006133429914433"
      ]
     },
     "execution_count": 56,
     "metadata": {},
     "output_type": "execute_result"
    }
   ],
   "source": [
    "z = (target - mu) / (sigma/np.sqrt(n))\n",
    "z"
   ]
  },
  {
   "cell_type": "code",
   "execution_count": null,
   "id": "31c20163",
   "metadata": {},
   "outputs": [],
   "source": []
  },
  {
   "cell_type": "markdown",
   "id": "5a7dc47d",
   "metadata": {},
   "source": [
    "Faça um gráfico da distribuição normal (0, 1) e inclua um ponto vermelho para o target (use a funcão `pdf`)."
   ]
  },
  {
   "cell_type": "code",
   "execution_count": 57,
   "id": "6b0e9fcb",
   "metadata": {
    "ExecuteTime": {
     "end_time": "2021-08-06T16:58:06.734434Z",
     "start_time": "2021-08-06T16:58:06.316401Z"
    }
   },
   "outputs": [
    {
     "data": {
      "text/plain": [
       "<matplotlib.collections.PathCollection at 0x248a996a2e0>"
      ]
     },
     "execution_count": 57,
     "metadata": {},
     "output_type": "execute_result"
    },
    {
     "data": {
      "image/png": "[encoded data removed]",
      "text/plain": [
       "<Figure size 432x288 with 1 Axes>"
      ]
     },
     "metadata": {
      "needs_background": "light"
     },
     "output_type": "display_data"
    }
   ],
   "source": [
    "x = np.linspace(-4, 4, 100)\n",
    "y = stats.norm.pdf(x, 0, 1) \n",
    "\n",
    "plt.plot(x, y)\n",
    "plt.scatter(z, stats.norm.pdf(z,0,1), c='r')"
   ]
  },
  {
   "cell_type": "markdown",
   "id": "d85fdab0",
   "metadata": {},
   "source": [
    "**Conclusão:** Seu gerente está te sacaneando! "
   ]
  },
  {
   "cell_type": "code",
   "execution_count": null,
   "id": "6bcf2a17",
   "metadata": {},
   "outputs": [],
   "source": []
  },
  {
   "cell_type": "markdown",
   "id": "ebe3f089",
   "metadata": {},
   "source": [
    "# Mais inforações\n",
    "\n",
    "- [StatQuest - Probability vs Likelihood](https://www.youtube.com/watch?v=pYxNSUDSFH4)\n",
    "- [StatQuest - Central Limit Theorem](https://www.youtube.com/watch?v=YAlJCEDH2uY)\n",
    "- [3blue1brown - Bayes Theorem](https://www.youtube.com/watch?v=HZGCoVF3YvM)"
   ]
  },
  {
   "cell_type": "code",
   "execution_count": null,
   "id": "6af3924e",
   "metadata": {},
   "outputs": [],
   "source": []
  }
 ],
 "metadata": {
  "kernelspec": {
   "display_name": "Python 3",
   "language": "python",
   "name": "python3"
  },
  "language_info": {
   "codemirror_mode": {
    "name": "ipython",
    "version": 3
   },
   "file_extension": ".py",
   "mimetype": "text/x-python",
   "name": "python",
   "nbconvert_exporter": "python",
   "pygments_lexer": "ipython3",
   "version": "3.8.8"
  },
  "toc": {
   "base_numbering": 1,
   "nav_menu": {},
   "number_sections": true,
   "sideBar": true,
   "skip_h1_title": false,
   "title_cell": "Table of Contents",
   "title_sidebar": "Contents",
   "toc_cell": false,
   "toc_position": {},
   "toc_section_display": true,
   "toc_window_display": true
  }
 },
 "nbformat": 4,
 "nbformat_minor": 5
}
