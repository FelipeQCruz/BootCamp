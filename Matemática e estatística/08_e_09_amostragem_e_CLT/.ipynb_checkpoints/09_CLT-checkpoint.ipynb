{
 "cells": [
  {
   "cell_type": "markdown",
   "id": "80716369",
   "metadata": {},
   "source": [
    "# Central Limit Theorem (CLT)"
   ]
  },
  {
   "cell_type": "markdown",
   "id": "ab9ab7d0",
   "metadata": {},
   "source": [
    "## Objetivo"
   ]
  },
  {
   "cell_type": "markdown",
   "id": "c48a767e",
   "metadata": {},
   "source": [
    "1. Entender o funcionamento do [Teorema Central do Limite](https://pt.wikipedia.org/wiki/Teorema_central_do_limite) na prática."
   ]
  },
  {
   "cell_type": "code",
   "execution_count": null,
   "id": "266a9250",
   "metadata": {},
   "outputs": [],
   "source": []
  },
  {
   "cell_type": "markdown",
   "id": "c53b5d4a",
   "metadata": {},
   "source": [
    "## O teorema"
   ]
  },
  {
   "cell_type": "markdown",
   "id": "5ae76adb",
   "metadata": {},
   "source": [
    "Para uma determinada população, meça uma característica de cada individuo (peso, altura, renda, idade, tamanho etc.).\n",
    "\n",
    "\n",
    "\n",
    "O CLT diz afirma que quando o tamanho da amostra aumenta, a distribuição amostral da sua média aproxima-se cada vez mais de uma distribuição normal. Este resultado é fundamental na teoria da inferência estatística.\n",
    "\n",
    "É importante observar que o CLT é válido **qualquer que seja a distribuição inicial dos dados!**\n",
    "\n",
    "\n",
    "![clt](../images/640px-IllustrationCentralTheorem.png)"
   ]
  },
  {
   "cell_type": "code",
   "execution_count": null,
   "id": "c5b7bba1",
   "metadata": {},
   "outputs": [],
   "source": []
  },
  {
   "cell_type": "markdown",
   "id": "d0a37fbb",
   "metadata": {},
   "source": [
    "Seja uma amostra aleatória ($x_1, x_2, \\cdots, x_n$) de uma variável aleatória $X$ com qualquer distribuição, média $\\mu$ e desvio padrão $\\sigma$. \n",
    "\n",
    "A medida que $n$ cresce, a distribuição de probabilidade da média amostral, $\\overline{X}$, se aproxima de uma Normal com média $\\mu$ e desvio padrão $\\frac{\\sigma}{\\sqrt{n}}$. Isto é $\\overline{X} \\sim N (\\mu, \\sigma^2/n)$.\n",
    "\n",
    "Se a transformação a baixo for realizada, então $Z \\sim N (0,1)$.\n",
    "\n",
    "$$Z = \\frac{\\overline{X} -\\mu}{\\sigma/\\sqrt{n}} $$\n"
   ]
  },
  {
   "cell_type": "code",
   "execution_count": null,
   "id": "f3022218",
   "metadata": {},
   "outputs": [],
   "source": []
  },
  {
   "cell_type": "markdown",
   "id": "97203525",
   "metadata": {},
   "source": [
    "O **Teorema Central do Limite** afirma que, com o aumento do tamanho da amostra, a distribuição das médias amostrais se aproxima de uma distribuição normal com média igual à média da população e desvio padrão igual ao desvio padrão da variável original dividido pela raiz quadrada do tamanho da amostra. \n",
    "\n",
    "Este fato é assegurado para $n$ maior ou igual a 30.\n",
    "\n",
    "$$\\sigma_\\bar{x} = \\frac{\\sigma}{\\sqrt{n}}$$\n",
    "\n",
    "O desvio padrão das médias amostrais é conhecido como **erro padrão da média**"
   ]
  },
  {
   "cell_type": "code",
   "execution_count": null,
   "id": "64d0e1fb",
   "metadata": {},
   "outputs": [],
   "source": []
  },
  {
   "cell_type": "markdown",
   "id": "4cc31bc5",
   "metadata": {},
   "source": [
    "# Valores de referência"
   ]
  },
  {
   "cell_type": "code",
   "execution_count": 1,
   "id": "cadf9a11",
   "metadata": {
    "ExecuteTime": {
     "end_time": "2021-08-06T19:52:33.512297Z",
     "start_time": "2021-08-06T19:52:30.435841Z"
    }
   },
   "outputs": [],
   "source": [
    "import numpy as np\n",
    "import pandas as pd\n",
    "import seaborn as sns\n",
    "import scipy.stats as stats\n",
    "import matplotlib.pyplot as plt"
   ]
  },
  {
   "cell_type": "code",
   "execution_count": 2,
   "id": "84f82408",
   "metadata": {
    "ExecuteTime": {
     "end_time": "2021-08-06T19:52:36.469441Z",
     "start_time": "2021-08-06T19:52:36.396312Z"
    }
   },
   "outputs": [
    {
     "data": {
      "text/html": [
       "<div>\n",
       "<style scoped>\n",
       "    .dataframe tbody tr th:only-of-type {\n",
       "        vertical-align: middle;\n",
       "    }\n",
       "\n",
       "    .dataframe tbody tr th {\n",
       "        vertical-align: top;\n",
       "    }\n",
       "\n",
       "    .dataframe thead th {\n",
       "        text-align: right;\n",
       "    }\n",
       "</style>\n",
       "<table border=\"1\" class=\"dataframe\">\n",
       "  <thead>\n",
       "    <tr style=\"text-align: right;\">\n",
       "      <th></th>\n",
       "      <th>total_bill</th>\n",
       "      <th>tip</th>\n",
       "      <th>sex</th>\n",
       "      <th>smoker</th>\n",
       "      <th>day</th>\n",
       "      <th>time</th>\n",
       "      <th>size</th>\n",
       "    </tr>\n",
       "  </thead>\n",
       "  <tbody>\n",
       "    <tr>\n",
       "      <th>0</th>\n",
       "      <td>16.99</td>\n",
       "      <td>1.01</td>\n",
       "      <td>Female</td>\n",
       "      <td>No</td>\n",
       "      <td>Sun</td>\n",
       "      <td>Dinner</td>\n",
       "      <td>2</td>\n",
       "    </tr>\n",
       "    <tr>\n",
       "      <th>1</th>\n",
       "      <td>10.34</td>\n",
       "      <td>1.66</td>\n",
       "      <td>Male</td>\n",
       "      <td>No</td>\n",
       "      <td>Sun</td>\n",
       "      <td>Dinner</td>\n",
       "      <td>3</td>\n",
       "    </tr>\n",
       "    <tr>\n",
       "      <th>2</th>\n",
       "      <td>21.01</td>\n",
       "      <td>3.50</td>\n",
       "      <td>Male</td>\n",
       "      <td>No</td>\n",
       "      <td>Sun</td>\n",
       "      <td>Dinner</td>\n",
       "      <td>3</td>\n",
       "    </tr>\n",
       "    <tr>\n",
       "      <th>3</th>\n",
       "      <td>23.68</td>\n",
       "      <td>3.31</td>\n",
       "      <td>Male</td>\n",
       "      <td>No</td>\n",
       "      <td>Sun</td>\n",
       "      <td>Dinner</td>\n",
       "      <td>2</td>\n",
       "    </tr>\n",
       "    <tr>\n",
       "      <th>4</th>\n",
       "      <td>24.59</td>\n",
       "      <td>3.61</td>\n",
       "      <td>Female</td>\n",
       "      <td>No</td>\n",
       "      <td>Sun</td>\n",
       "      <td>Dinner</td>\n",
       "      <td>4</td>\n",
       "    </tr>\n",
       "  </tbody>\n",
       "</table>\n",
       "</div>"
      ],
      "text/plain": [
       "   total_bill   tip     sex smoker  day    time  size\n",
       "0       16.99  1.01  Female     No  Sun  Dinner     2\n",
       "1       10.34  1.66    Male     No  Sun  Dinner     3\n",
       "2       21.01  3.50    Male     No  Sun  Dinner     3\n",
       "3       23.68  3.31    Male     No  Sun  Dinner     2\n",
       "4       24.59  3.61  Female     No  Sun  Dinner     4"
      ]
     },
     "execution_count": 2,
     "metadata": {},
     "output_type": "execute_result"
    }
   ],
   "source": [
    "df = sns.load_dataset('tips')\n",
    "df.head()"
   ]
  },
  {
   "cell_type": "markdown",
   "id": "73af3813",
   "metadata": {},
   "source": [
    "1. Calcule a média (mu) e o desvio padrão (sigma) das gorjetas do dataset `tips`. "
   ]
  },
  {
   "cell_type": "code",
   "execution_count": 3,
   "id": "72bab0b2",
   "metadata": {
    "ExecuteTime": {
     "end_time": "2021-08-06T19:56:57.940806Z",
     "start_time": "2021-08-06T19:56:57.927296Z"
    }
   },
   "outputs": [
    {
     "name": "stdout",
     "output_type": "stream",
     "text": [
      "2.9982786885245902 1.3836381890011826\n"
     ]
    }
   ],
   "source": [
    "mu = df['tip'].mean()\n",
    "sigma = df['tip'].std()\n",
    "\n",
    "print(mu, sigma)"
   ]
  },
  {
   "cell_type": "markdown",
   "id": "4836f190",
   "metadata": {},
   "source": [
    "2. Faça o histograma das gorjetas. Ele parece uma curva normal?"
   ]
  },
  {
   "cell_type": "code",
   "execution_count": 5,
   "id": "116b7e0b",
   "metadata": {
    "ExecuteTime": {
     "end_time": "2021-08-06T19:58:22.648123Z",
     "start_time": "2021-08-06T19:58:22.466123Z"
    }
   },
   "outputs": [
    {
     "data": {
      "text/plain": [
       "<AxesSubplot:xlabel='tip', ylabel='Count'>"
      ]
     },
     "execution_count": 5,
     "metadata": {},
     "output_type": "execute_result"
    },
    {
     "data": {
      "image/png": "[encoded data removed]",
      "text/plain": [
       "<Figure size 432x288 with 1 Axes>"
      ]
     },
     "metadata": {
      "needs_background": "light"
     },
     "output_type": "display_data"
    }
   ],
   "source": [
    "sns.histplot(x=df['tip'], kde=True)"
   ]
  },
  {
   "cell_type": "markdown",
   "id": "425283c7",
   "metadata": {},
   "source": [
    "# Amostragem"
   ]
  },
  {
   "cell_type": "markdown",
   "id": "c8e483cb",
   "metadata": {},
   "source": [
    "## Sem repetição"
   ]
  },
  {
   "cell_type": "markdown",
   "id": "8003323e",
   "metadata": {},
   "source": [
    "1. Selecione aleatóriamente e **sem reposição** 10 linhas do dataset e calcule a média da amostra $\\bar{x}$."
   ]
  },
  {
   "cell_type": "code",
   "execution_count": 11,
   "id": "13771503",
   "metadata": {
    "ExecuteTime": {
     "end_time": "2021-08-06T20:01:15.837818Z",
     "start_time": "2021-08-06T20:01:15.826304Z"
    }
   },
   "outputs": [
    {
     "data": {
      "text/plain": [
       "2.3310000000000004"
      ]
     },
     "execution_count": 11,
     "metadata": {},
     "output_type": "execute_result"
    }
   ],
   "source": [
    "df['tip'].sample(n=10, replace=False).mean()"
   ]
  },
  {
   "cell_type": "markdown",
   "id": "37e39102",
   "metadata": {},
   "source": [
    "## Com repetição"
   ]
  },
  {
   "cell_type": "markdown",
   "id": "a8987434",
   "metadata": {},
   "source": [
    "1. Selecione aleatóriamente e **com reposição** 1000 linhas do dataset e calcule a média da amostra $\\bar{x}$."
   ]
  },
  {
   "cell_type": "code",
   "execution_count": 12,
   "id": "e0d212d2",
   "metadata": {
    "ExecuteTime": {
     "end_time": "2021-08-06T20:01:51.172773Z",
     "start_time": "2021-08-06T20:01:51.154785Z"
    }
   },
   "outputs": [
    {
     "data": {
      "text/plain": [
       "3.010860000000001"
      ]
     },
     "execution_count": 12,
     "metadata": {},
     "output_type": "execute_result"
    }
   ],
   "source": [
    "df['tip'].sample(n=1000, replace=True).mean()"
   ]
  },
  {
   "cell_type": "markdown",
   "id": "0462103a",
   "metadata": {},
   "source": [
    "2. Quantas linhas temos no dataset?"
   ]
  },
  {
   "cell_type": "code",
   "execution_count": 13,
   "id": "21311436",
   "metadata": {
    "ExecuteTime": {
     "end_time": "2021-08-06T20:02:17.071653Z",
     "start_time": "2021-08-06T20:02:17.062332Z"
    }
   },
   "outputs": [
    {
     "data": {
      "text/plain": [
       "(244, 7)"
      ]
     },
     "execution_count": 13,
     "metadata": {},
     "output_type": "execute_result"
    }
   ],
   "source": [
    "df.shape"
   ]
  },
  {
   "cell_type": "markdown",
   "id": "b074efe3",
   "metadata": {},
   "source": [
    "# Média das médias"
   ]
  },
  {
   "cell_type": "markdown",
   "id": "aaa3be17",
   "metadata": {},
   "source": [
    "Crie uma lista `means` que armazene as médias de $N$ amostras de tamanho amostral $n$.\n",
    "\n",
    "Começe com $N = 10$ amostras de tamanho $n = 5$.\n",
    "\n",
    "1. Na mesma célula, faça um gráfico da distribuição de `means`. \n",
    "1. Mantenha $n$ constante e aumente $N$. O que você observa?\n",
    "1. Mantenha $N$ constante e aumente $n$. O que você observa?"
   ]
  },
  {
   "cell_type": "code",
   "execution_count": 29,
   "id": "3c4bda3d",
   "metadata": {
    "ExecuteTime": {
     "end_time": "2021-08-06T20:15:36.649124Z",
     "start_time": "2021-08-06T20:15:36.345403Z"
    }
   },
   "outputs": [
    {
     "data": {
      "text/plain": [
       "<AxesSubplot:ylabel='Count'>"
      ]
     },
     "execution_count": 29,
     "metadata": {},
     "output_type": "execute_result"
    },
    {
     "data": {
      "image/png": "[encoded data removed]",
      "text/plain": [
       "<Figure size 432x288 with 1 Axes>"
      ]
     },
     "metadata": {
      "needs_background": "light"
     },
     "output_type": "display_data"
    }
   ],
   "source": [
    "N = 1000 # amostragens\n",
    "n = 1000 # tamanho amostral\n",
    "\n",
    "means = [ df['tip'].sample(n=n, replace=True).mean() for i in range(N)]\n",
    "\n",
    "sns.histplot(x=means, kde=True)"
   ]
  },
  {
   "cell_type": "code",
   "execution_count": null,
   "id": "bc9f3532",
   "metadata": {},
   "outputs": [],
   "source": []
  },
  {
   "cell_type": "markdown",
   "id": "f1cb642c",
   "metadata": {},
   "source": [
    "# CLT na prática"
   ]
  },
  {
   "cell_type": "markdown",
   "id": "8f7cb6da",
   "metadata": {},
   "source": [
    "1. Faça uma grade com 6 distribuições para  $ n \\in \\{ 1, 5, 50, 100, 500, 1000 \\}$."
   ]
  },
  {
   "cell_type": "code",
   "execution_count": 47,
   "id": "f6d1e9cc",
   "metadata": {
    "ExecuteTime": {
     "end_time": "2021-08-06T20:42:37.914510Z",
     "start_time": "2021-08-06T20:42:37.206435Z"
    }
   },
   "outputs": [
    {
     "data": {
      "image/png": "[encoded data removed]",
      "text/plain": [
       "<Figure size 1008x720 with 6 Axes>"
      ]
     },
     "metadata": {
      "needs_background": "light"
     },
     "output_type": "display_data"
    }
   ],
   "source": [
    "N = 100 # amostragens\n",
    "n_list = [1,5,50,100,500,1000] # tamanho amostral\n",
    "\n",
    "fig, axes = plt.subplots(2,3, figsize=(14,10))\n",
    "\n",
    "for n, ax in zip(n_list, axes.flat):\n",
    "    means = [ df['tip'].sample(n=n, replace=True).mean() for i in range(N)]\n",
    "    sns.histplot(x=means, kde=True, ax=ax)\n",
    "    ax.set_title(f'Tamanho amostral n = {n}')\n",
    "    ax.set_xlim(1,6)\n",
    "    ax.set_xlabel('médias')"
   ]
  },
  {
   "cell_type": "code",
   "execution_count": null,
   "id": "51d297a3",
   "metadata": {},
   "outputs": [],
   "source": []
  },
  {
   "cell_type": "markdown",
   "id": "503c0186",
   "metadata": {},
   "source": [
    "# Verificando o CLT"
   ]
  },
  {
   "cell_type": "markdown",
   "id": "4a2db2ab",
   "metadata": {},
   "source": [
    "Vamos verificar o Teorema Central do Limite computacionalmente:\n",
    "\n",
    "Para cada valor de $n$:\n",
    "- Compare `mu` com a média das médias $\\bar{x}$;\n",
    "- Compare `sigma` com o desvio padrão das médias (não esqueça o fator $\\sqrt{n}$)."
   ]
  },
  {
   "cell_type": "code",
   "execution_count": 57,
   "id": "34ac0b2a",
   "metadata": {
    "ExecuteTime": {
     "end_time": "2021-08-06T20:50:57.556419Z",
     "start_time": "2021-08-06T20:50:57.458097Z"
    }
   },
   "outputs": [
    {
     "name": "stdout",
     "output_type": "stream",
     "text": [
      "n =    1, 0.0463, 0.0103\n",
      "n =    5, 0.1494, 0.0745\n",
      "n =   50, 0.0188, 0.0050\n",
      "n =  100, 0.0002, 0.0049\n",
      "n =  500, 0.0065, 0.0063\n",
      "n = 1000, 0.0050, 0.0032\n"
     ]
    }
   ],
   "source": [
    "N = 100 # amostragens\n",
    "n_list = [1,5,50,100,500,1000] # tamanho amostral\n",
    "\n",
    "for n in n_list:\n",
    "    means = [ df['tip'].sample(n=n, replace=True).mean() for i in range(N)]\n",
    "    x_bar = np.mean(means) # media das medias\n",
    "    sigma_bar = np.std(means) \n",
    "    \n",
    "    erro_medias = round(abs(mu - x_bar),4)\n",
    "    erro_sigma = round(abs(sigma/ np.sqrt(n) - sigma_bar),4)\n",
    "    \n",
    "    print(f'n = {n:4}, {erro_medias:5.4f}, {erro_sigma:5.4f}')    "
   ]
  },
  {
   "cell_type": "markdown",
   "id": "6608540a",
   "metadata": {},
   "source": [
    "## Conclusão\n",
    "\n",
    "Conforme o tamanho amostral $n$ aumenta  \n",
    "* $\\bar{x} \\to \\mu$  \n",
    "* $\\sigma_x \\to \\frac{\\sigma}{\\sqrt{n}}$\n",
    "    \n",
    "conforme o enunciado do CLT."
   ]
  },
  {
   "cell_type": "code",
   "execution_count": null,
   "id": "86fbea31",
   "metadata": {},
   "outputs": [],
   "source": []
  },
  {
   "cell_type": "markdown",
   "id": "4a6c9d91",
   "metadata": {},
   "source": [
    "# Exemplo"
   ]
  },
  {
   "cell_type": "markdown",
   "id": "04be53fe",
   "metadata": {},
   "source": [
    "Imagine que você seja um garçon e que em determinado período tenha sido designado pelo gerente para atender 100 mesas. O valor médio da conta de suas mesas deu R$ 18,00 (`target`). Qual a chance disso acontecer?"
   ]
  },
  {
   "cell_type": "markdown",
   "id": "02538d8a",
   "metadata": {},
   "source": [
    "Vamos supor que coletemos uma amostra de 100 contas da nossa população global com $\\mu$ and $\\sigma$ \n",
    "e que o valor médio das contas $\\mu_x$ seja R$ 18,00.\n",
    "\n",
    "Como seria o formato da distribuição das médias se nós repetissemos o processo de amostragem diversas vezes? Pense na forma, média e desvio padrão."
   ]
  },
  {
   "cell_type": "markdown",
   "id": "53c027f3",
   "metadata": {},
   "source": [
    "1. Faça um gráfico da distribuição da média das contas de 100 mesas aleatórias. Use stats.norm pra facilitar!\n",
    "1. Acrescente um ponto com a média das suas 100 mesas. O que vc pode concluir?"
   ]
  },
  {
   "cell_type": "code",
   "execution_count": 61,
   "id": "c905c876",
   "metadata": {
    "ExecuteTime": {
     "end_time": "2021-08-06T21:00:36.152997Z",
     "start_time": "2021-08-06T21:00:35.999142Z"
    }
   },
   "outputs": [
    {
     "data": {
      "text/plain": [
       "<matplotlib.collections.PathCollection at 0x20d28bc2250>"
      ]
     },
     "execution_count": 61,
     "metadata": {},
     "output_type": "execute_result"
    },
    {
     "data": {
      "image/png": "[encoded data removed]",
      "text/plain": [
       "<Figure size 432x288 with 1 Axes>"
      ]
     },
     "metadata": {
      "needs_background": "light"
     },
     "output_type": "display_data"
    }
   ],
   "source": [
    "mu = df['total_bill'].mean()\n",
    "sigma = df['total_bill'].std()\n",
    "\n",
    "n = 100\n",
    "target = 18\n",
    "\n",
    "x = np.linspace(10, 30, 100)\n",
    "y = stats.norm.pdf(x, loc=mu, scale=sigma/np.sqrt(n))\n",
    "\n",
    "plt.plot(x, y)\n",
    "plt.scatter(target, stats.norm.pdf(target, loc=mu, scale=sigma/np.sqrt(n)), c='r')"
   ]
  },
  {
   "cell_type": "markdown",
   "id": "208460ac",
   "metadata": {},
   "source": [
    "Nos vemos claramente que tal cenário é improvável. Vamos calcular a probabilidade."
   ]
  },
  {
   "cell_type": "code",
   "execution_count": 63,
   "id": "d0d8a95a",
   "metadata": {
    "ExecuteTime": {
     "end_time": "2021-08-06T21:02:14.832267Z",
     "start_time": "2021-08-06T21:02:14.820754Z"
    }
   },
   "outputs": [
    {
     "name": "stdout",
     "output_type": "stream",
     "text": [
      "A probabilidade de a média das contas ser menor ou igual a 18 é 0.022421007000834076.\n"
     ]
    }
   ],
   "source": [
    "print(f'A probabilidade de a média das contas ser menor ou igual a 18 é {stats.norm.cdf(target, loc=mu, scale=sigma/np.sqrt(n))}.')"
   ]
  },
  {
   "cell_type": "code",
   "execution_count": null,
   "id": "117eebdd",
   "metadata": {},
   "outputs": [],
   "source": []
  },
  {
   "cell_type": "markdown",
   "id": "d7776510",
   "metadata": {},
   "source": [
    "## Calcule usando o z-teste"
   ]
  },
  {
   "cell_type": "markdown",
   "id": "28f5d67e",
   "metadata": {},
   "source": [
    "$$z={x-\\mu  \\over \\sigma }$$"
   ]
  },
  {
   "cell_type": "markdown",
   "id": "f3738d9f",
   "metadata": {},
   "source": [
    "1. Calcule Z para o valor de R$ 18,00. "
   ]
  },
  {
   "cell_type": "code",
   "execution_count": 64,
   "id": "65d8f33f",
   "metadata": {
    "ExecuteTime": {
     "end_time": "2021-08-06T21:04:15.594644Z",
     "start_time": "2021-08-06T21:04:15.576534Z"
    }
   },
   "outputs": [
    {
     "data": {
      "text/plain": [
       "-0.20061334299144332"
      ]
     },
     "execution_count": 64,
     "metadata": {},
     "output_type": "execute_result"
    }
   ],
   "source": [
    "z = (target - mu) / sigma\n",
    "z"
   ]
  },
  {
   "cell_type": "code",
   "execution_count": null,
   "id": "31c20163",
   "metadata": {},
   "outputs": [],
   "source": []
  },
  {
   "cell_type": "markdown",
   "id": "5a7dc47d",
   "metadata": {},
   "source": [
    "Faça um gráfico da distribuição normal (0, 1) e inclua um ponto vermelho para o target (use a funcão `pdf`)."
   ]
  },
  {
   "cell_type": "code",
   "execution_count": null,
   "id": "6b0e9fcb",
   "metadata": {
    "ExecuteTime": {
     "end_time": "2021-08-06T16:58:06.734434Z",
     "start_time": "2021-08-06T16:58:06.316401Z"
    }
   },
   "outputs": [],
   "source": []
  },
  {
   "cell_type": "markdown",
   "id": "d85fdab0",
   "metadata": {},
   "source": [
    "**Conclusão:**  Seu gerente está te sacaneando!"
   ]
  },
  {
   "cell_type": "code",
   "execution_count": null,
   "id": "6bcf2a17",
   "metadata": {},
   "outputs": [],
   "source": []
  },
  {
   "cell_type": "markdown",
   "id": "ebe3f089",
   "metadata": {},
   "source": [
    "# Mais inforações\n",
    "\n",
    "- [StatQuest - Probability vs Likelihood](https://www.youtube.com/watch?v=pYxNSUDSFH4)\n",
    "- [StatQuest - Central Limit Theorem](https://www.youtube.com/watch?v=YAlJCEDH2uY)\n",
    "- [3blue1brown - Bayes Theorem](https://www.youtube.com/watch?v=HZGCoVF3YvM)"
   ]
  },
  {
   "cell_type": "code",
   "execution_count": null,
   "id": "6af3924e",
   "metadata": {},
   "outputs": [],
   "source": []
  }
 ],
 "metadata": {
  "kernelspec": {
   "display_name": "Python 3",
   "language": "python",
   "name": "python3"
  },
  "language_info": {
   "codemirror_mode": {
    "name": "ipython",
    "version": 3
   },
   "file_extension": ".py",
   "mimetype": "text/x-python",
   "name": "python",
   "nbconvert_exporter": "python",
   "pygments_lexer": "ipython3",
   "version": "3.8.8"
  },
  "toc": {
   "base_numbering": 1,
   "nav_menu": {},
   "number_sections": true,
   "sideBar": true,
   "skip_h1_title": false,
   "title_cell": "Table of Contents",
   "title_sidebar": "Contents",
   "toc_cell": false,
   "toc_position": {},
   "toc_section_display": true,
   "toc_window_display": true
  }
 },
 "nbformat": 4,
 "nbformat_minor": 5
}
