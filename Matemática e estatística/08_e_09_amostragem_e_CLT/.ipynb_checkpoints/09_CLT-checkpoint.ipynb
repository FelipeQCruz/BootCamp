{
 "cells": [
  {
   "cell_type": "markdown",
   "id": "80716369",
   "metadata": {},
   "source": [
    "# Central Limit Theorem (CLT)"
   ]
  },
  {
   "cell_type": "markdown",
   "id": "59206333",
   "metadata": {},
   "source": [
    "## Objetivo"
   ]
  },
  {
   "cell_type": "markdown",
   "id": "fe0eead9",
   "metadata": {},
   "source": [
    "1. Entender o funcionamento do [Teorema do Limite Central](https://pt.wikipedia.org/wiki/Teorema_central_do_limite) na prática."
   ]
  },
  {
   "cell_type": "code",
   "execution_count": null,
   "id": "07623e23",
   "metadata": {},
   "outputs": [],
   "source": []
  },
  {
   "cell_type": "markdown",
   "id": "914b8748",
   "metadata": {},
   "source": [
    "## O teorema"
   ]
  },
  {
   "cell_type": "markdown",
   "id": "5ae76adb",
   "metadata": {},
   "source": [
    "Para uma determinada população, meça uma característica de cada individuo (peso, altura, renda, idade, tamanho etc.).\n",
    "\n",
    "\n",
    "\n",
    "O CLT diz afirma que quando o tamanho da amostra aumenta, a distribuição amostral da sua média aproxima-se cada vez mais de uma distribuição normal. Este resultado é fundamental na teoria da inferência estatística.\n",
    "\n",
    "É importante observar que o CLT é válido **qualquer que seja a distribuição inicial dos dados!**\n",
    "\n",
    "\n",
    "![clt](../images/640px-IllustrationCentralTheorem.png)"
   ]
  },
  {
   "cell_type": "code",
   "execution_count": null,
   "id": "c5b7bba1",
   "metadata": {},
   "outputs": [],
   "source": []
  },
  {
   "cell_type": "markdown",
   "id": "d0a37fbb",
   "metadata": {},
   "source": [
    "Seja uma amostra aleatória ($x_1, x_2, \\cdots, x_n$) de uma variável aleatória $X$ com qualquer distribuição, média $\\mu$ e desvio padrão $\\sigma$. \n",
    "\n",
    "A medida que $n$ cresce, a distribuição de probabilidade da média amostral, $\\overline{X}$, se aproxima de uma Normal com média $\\mu$ e desvio padrão $\\frac{\\sigma}{\\sqrt{n}}$. Isto é $\\overline{X} \\sim N (\\mu, \\sigma^2/n)$.\n",
    "\n",
    "Se a transformação a baixo for realizada, então $Z \\sim N (0,1)$.\n",
    "\n",
    "$$Z = \\frac{\\overline{X} -\\mu}{\\sigma/\\sqrt{n}} $$\n"
   ]
  },
  {
   "cell_type": "code",
   "execution_count": null,
   "id": "f3022218",
   "metadata": {},
   "outputs": [],
   "source": []
  },
  {
   "cell_type": "markdown",
   "id": "97203525",
   "metadata": {},
   "source": [
    "O **Teorema do Limite Central** afirma que, com o aumento do tamanho da amostra, a distribuição das médias amostrais se aproxima de uma distribuição normal com média igual à média da população e desvio padrão igual ao desvio padrão da variável original dividido pela raiz quadrada do tamanho da amostra. \n",
    "\n",
    "Este fato é assegurado para $n$ maior ou igual a 30.\n",
    "\n",
    "$$\\sigma_\\bar{x} = \\frac{\\sigma}{\\sqrt{n}}$$\n",
    "\n",
    "O desvio padrão das médias amostrais é conhecido como **erro padrão da média**"
   ]
  },
  {
   "cell_type": "code",
   "execution_count": null,
   "id": "64d0e1fb",
   "metadata": {},
   "outputs": [],
   "source": []
  },
  {
   "cell_type": "markdown",
   "id": "4cc31bc5",
   "metadata": {},
   "source": [
    "# Valores de referência"
   ]
  },
  {
   "cell_type": "code",
   "execution_count": null,
   "id": "cadf9a11",
   "metadata": {
    "ExecuteTime": {
     "end_time": "2021-08-06T14:52:45.214199Z",
     "start_time": "2021-08-06T14:52:44.161305Z"
    }
   },
   "outputs": [],
   "source": [
    "import numpy as np\n",
    "import pandas as pd\n",
    "import seaborn as sns\n",
    "import scipy.stats as stats\n",
    "import matplotlib.pyplot as plt"
   ]
  },
  {
   "cell_type": "code",
   "execution_count": null,
   "id": "84f82408",
   "metadata": {
    "ExecuteTime": {
     "end_time": "2021-08-06T14:53:05.416537Z",
     "start_time": "2021-08-06T14:53:05.386568Z"
    }
   },
   "outputs": [],
   "source": [
    "df = sns.load_dataset('tips')"
   ]
  },
  {
   "cell_type": "markdown",
   "id": "1b9d3754",
   "metadata": {},
   "source": [
    "1. Calcule a média (mu) e o desvio padrão (sigma) das gorjetas do dataset `tips`. "
   ]
  },
  {
   "cell_type": "code",
   "execution_count": null,
   "id": "72bab0b2",
   "metadata": {
    "ExecuteTime": {
     "end_time": "2021-08-06T16:34:57.693542Z",
     "start_time": "2021-08-06T16:34:57.679160Z"
    }
   },
   "outputs": [],
   "source": []
  },
  {
   "cell_type": "markdown",
   "id": "4836f190",
   "metadata": {},
   "source": [
    "2. Faça o histograma das gorjetas. Ele parece uma curva normal?"
   ]
  },
  {
   "cell_type": "code",
   "execution_count": null,
   "id": "116b7e0b",
   "metadata": {
    "ExecuteTime": {
     "end_time": "2021-08-06T15:44:22.518269Z",
     "start_time": "2021-08-06T15:44:21.913614Z"
    }
   },
   "outputs": [],
   "source": []
  },
  {
   "cell_type": "markdown",
   "id": "425283c7",
   "metadata": {},
   "source": [
    "# Amostragem"
   ]
  },
  {
   "cell_type": "markdown",
   "id": "c8e483cb",
   "metadata": {},
   "source": [
    "## Sem repetição"
   ]
  },
  {
   "cell_type": "markdown",
   "id": "8003323e",
   "metadata": {},
   "source": [
    "1. Selecione aleatóriamente e **sem repetição** 10 linhas do dataset e calcule a média da amostra $\\bar{x}$."
   ]
  },
  {
   "cell_type": "code",
   "execution_count": null,
   "id": "13771503",
   "metadata": {
    "ExecuteTime": {
     "end_time": "2021-08-06T15:52:50.018731Z",
     "start_time": "2021-08-06T15:52:50.005170Z"
    }
   },
   "outputs": [],
   "source": []
  },
  {
   "cell_type": "markdown",
   "id": "37e39102",
   "metadata": {},
   "source": [
    "## Com repetição"
   ]
  },
  {
   "cell_type": "markdown",
   "id": "a8987434",
   "metadata": {},
   "source": [
    "1. Selecione aleatóriamente e **com repetição** 1000 linhas do dataset e calcule a média da amostra $\\bar{x}$."
   ]
  },
  {
   "cell_type": "code",
   "execution_count": null,
   "id": "e0d212d2",
   "metadata": {
    "ExecuteTime": {
     "end_time": "2021-08-06T15:54:15.203693Z",
     "start_time": "2021-08-06T15:54:15.189707Z"
    }
   },
   "outputs": [],
   "source": []
  },
  {
   "cell_type": "markdown",
   "id": "0462103a",
   "metadata": {},
   "source": [
    "2. Quantas linhas temos no dataset?"
   ]
  },
  {
   "cell_type": "code",
   "execution_count": null,
   "id": "21311436",
   "metadata": {
    "ExecuteTime": {
     "end_time": "2021-08-06T17:06:20.290205Z",
     "start_time": "2021-08-06T17:06:20.269288Z"
    }
   },
   "outputs": [],
   "source": []
  },
  {
   "cell_type": "markdown",
   "id": "b074efe3",
   "metadata": {},
   "source": [
    "# Média das médias"
   ]
  },
  {
   "cell_type": "markdown",
   "id": "aaa3be17",
   "metadata": {},
   "source": [
    "Crie uma lista `means` que armazene as médias de $N$ amostras de tamanho amostral $n$.\n",
    "\n",
    "Começe com $N = 10$ amostras de tamanho $n = 5$.\n",
    "\n",
    "1. Na mesma célula, faça um gráfico da distribuição de `means`. \n",
    "1. Mantenha $n$ constante e aumente $N$. O que você observa?\n",
    "1. Mantenha $N$ constante e aumente $n$. O que você observa?"
   ]
  },
  {
   "cell_type": "code",
   "execution_count": null,
   "id": "3c4bda3d",
   "metadata": {
    "ExecuteTime": {
     "end_time": "2021-08-06T16:03:25.482805Z",
     "start_time": "2021-08-06T16:03:25.052473Z"
    }
   },
   "outputs": [],
   "source": []
  },
  {
   "cell_type": "code",
   "execution_count": null,
   "id": "bc9f3532",
   "metadata": {},
   "outputs": [],
   "source": []
  },
  {
   "cell_type": "markdown",
   "id": "f1cb642c",
   "metadata": {},
   "source": [
    "# CLT na prática"
   ]
  },
  {
   "cell_type": "markdown",
   "id": "8f7cb6da",
   "metadata": {},
   "source": [
    "1. Faça uma grade com 6 distribuições para  $ n \\in \\{ 1, 5, 50, 100, 500, 1000 \\}$."
   ]
  },
  {
   "cell_type": "code",
   "execution_count": null,
   "id": "f6d1e9cc",
   "metadata": {
    "ExecuteTime": {
     "end_time": "2021-08-06T16:22:23.735785Z",
     "start_time": "2021-08-06T16:22:22.019827Z"
    }
   },
   "outputs": [],
   "source": []
  },
  {
   "cell_type": "code",
   "execution_count": null,
   "id": "51d297a3",
   "metadata": {},
   "outputs": [],
   "source": []
  },
  {
   "cell_type": "markdown",
   "id": "503c0186",
   "metadata": {},
   "source": [
    "# Verificando o CLT"
   ]
  },
  {
   "cell_type": "markdown",
   "id": "4a2db2ab",
   "metadata": {},
   "source": [
    "Vamos verificar o Teorema do Limite Central computacionalmente:\n",
    "\n",
    "Para cada valor de $n$:\n",
    "- Compare `mu` com a média das médias $\\bar{x}$;\n",
    "- Compare `sigma` com o desvio padrão das médias (não esqueça o fator $\\sqrt{n}$)."
   ]
  },
  {
   "cell_type": "code",
   "execution_count": null,
   "id": "34ac0b2a",
   "metadata": {
    "ExecuteTime": {
     "end_time": "2021-08-06T16:20:53.549958Z",
     "start_time": "2021-08-06T16:20:51.027951Z"
    }
   },
   "outputs": [],
   "source": []
  },
  {
   "cell_type": "code",
   "execution_count": null,
   "id": "e334f04c",
   "metadata": {},
   "outputs": [],
   "source": []
  },
  {
   "cell_type": "markdown",
   "id": "4a6c9d91",
   "metadata": {},
   "source": [
    "# Exemplo"
   ]
  },
  {
   "cell_type": "markdown",
   "id": "04be53fe",
   "metadata": {},
   "source": [
    "Imagine que você seja um garçon e que em determinado período tenha sido designado pelo gerente para atender 100 mesas. O valor médio da conta de suas mesas deu R$ 18,00 (`target`). Qual a chance disso acontecer?"
   ]
  },
  {
   "cell_type": "markdown",
   "id": "02538d8a",
   "metadata": {},
   "source": [
    "Vamos supor que coletemos uma amostra de 100 contas da nossa população global com $\\mu=3€$ and $\\sigma=1.38€$ \n",
    "e que o valor médio das contas $\\mu_x$ seja R$ 18,00.\n",
    "\n",
    "Como seria o formato da distribuição das médias se nós repetissemos o processo de amostragem diversas vezes? Pense na forma, média e desvio padrão."
   ]
  },
  {
   "cell_type": "markdown",
   "id": "53c027f3",
   "metadata": {},
   "source": [
    "1. Faça um gráfico da distribuição da média das contas de 100 mesas aleatórias. Use stats.norm pra facilitar!\n",
    "1. Acrescente um ponto com a média das suas 100 mesas. O que vc pode concluir?"
   ]
  },
  {
   "cell_type": "code",
   "execution_count": null,
   "id": "c905c876",
   "metadata": {
    "ExecuteTime": {
     "end_time": "2021-08-06T16:35:53.102981Z",
     "start_time": "2021-08-06T16:35:52.748692Z"
    }
   },
   "outputs": [],
   "source": []
  },
  {
   "cell_type": "markdown",
   "id": "208460ac",
   "metadata": {},
   "source": [
    "Nos vemos claramente que tal cenário é improvável. Vamos calcular a probabilidade."
   ]
  },
  {
   "cell_type": "code",
   "execution_count": null,
   "id": "d0d8a95a",
   "metadata": {
    "ExecuteTime": {
     "end_time": "2021-08-06T16:52:48.704067Z",
     "start_time": "2021-08-06T16:52:48.690600Z"
    }
   },
   "outputs": [],
   "source": []
  },
  {
   "cell_type": "code",
   "execution_count": null,
   "id": "117eebdd",
   "metadata": {},
   "outputs": [],
   "source": []
  },
  {
   "cell_type": "markdown",
   "id": "d7776510",
   "metadata": {},
   "source": [
    "## Calcule usando o z-teste"
   ]
  },
  {
   "cell_type": "markdown",
   "id": "28f5d67e",
   "metadata": {},
   "source": [
    "$$z={x-\\mu  \\over \\sigma }$$"
   ]
  },
  {
   "cell_type": "markdown",
   "id": "f3738d9f",
   "metadata": {},
   "source": [
    "1. Calcule Z para o valor de R$ 18,00. "
   ]
  },
  {
   "cell_type": "code",
   "execution_count": null,
   "id": "65d8f33f",
   "metadata": {
    "ExecuteTime": {
     "end_time": "2021-08-06T16:55:36.347727Z",
     "start_time": "2021-08-06T16:55:36.333011Z"
    }
   },
   "outputs": [],
   "source": []
  },
  {
   "cell_type": "code",
   "execution_count": null,
   "id": "31c20163",
   "metadata": {},
   "outputs": [],
   "source": []
  },
  {
   "cell_type": "markdown",
   "id": "5a7dc47d",
   "metadata": {},
   "source": [
    "Faça um gráfico da distribuição normal (0, 1) e inclua um ponto vermelho para o target (use a funcão `pdf`)."
   ]
  },
  {
   "cell_type": "code",
   "execution_count": null,
   "id": "6b0e9fcb",
   "metadata": {
    "ExecuteTime": {
     "end_time": "2021-08-06T16:58:06.734434Z",
     "start_time": "2021-08-06T16:58:06.316401Z"
    }
   },
   "outputs": [],
   "source": []
  },
  {
   "cell_type": "markdown",
   "id": "d85fdab0",
   "metadata": {},
   "source": [
    "**Conclusão:** "
   ]
  },
  {
   "cell_type": "code",
   "execution_count": null,
   "id": "6bcf2a17",
   "metadata": {},
   "outputs": [],
   "source": []
  },
  {
   "cell_type": "markdown",
   "id": "ebe3f089",
   "metadata": {},
   "source": [
    "# Mais inforações\n",
    "\n",
    "- [StatQuest - Probability vs Likelihood](https://www.youtube.com/watch?v=pYxNSUDSFH4)\n",
    "- [StatQuest - Central Limit Theorem](https://www.youtube.com/watch?v=YAlJCEDH2uY)\n",
    "- [3blue1brown - Bayes Theorem](https://www.youtube.com/watch?v=HZGCoVF3YvM)"
   ]
  },
  {
   "cell_type": "code",
   "execution_count": null,
   "id": "6af3924e",
   "metadata": {},
   "outputs": [],
   "source": []
  }
 ],
 "metadata": {
  "kernelspec": {
   "display_name": "Python 3",
   "language": "python",
   "name": "python3"
  },
  "language_info": {
   "codemirror_mode": {
    "name": "ipython",
    "version": 3
   },
   "file_extension": ".py",
   "mimetype": "text/x-python",
   "name": "python",
   "nbconvert_exporter": "python",
   "pygments_lexer": "ipython3",
   "version": "3.8.8"
  },
  "toc": {
   "base_numbering": 1,
   "nav_menu": {},
   "number_sections": true,
   "sideBar": true,
   "skip_h1_title": false,
   "title_cell": "Table of Contents",
   "title_sidebar": "Contents",
   "toc_cell": false,
   "toc_position": {},
   "toc_section_display": true,
   "toc_window_display": true
  }
 },
 "nbformat": 4,
 "nbformat_minor": 5
}
